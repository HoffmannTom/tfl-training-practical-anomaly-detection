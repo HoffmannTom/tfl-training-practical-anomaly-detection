{
 "cells": [
  {
   "cell_type": "code",
   "source": [
    "# The output of this cell should be committed to the repo such that the styles are applied after opening the notebook\n",
    "\n",
    "from IPython.core.display import HTML\n",
    "\n",
    "with open(\"rise.css\", \"r\") as f:\n",
    "    styles = f.read()\n",
    "HTML(f'<style>{styles}</style>')"
   ],
   "metadata": {
    "collapsed": false,
    "pycharm": {
     "name": "#%%\n"
    }
   },
   "execution_count": null,
   "outputs": []
  },
  {
   "cell_type": "markdown",
   "metadata": {
    "slideshow": {
     "slide_type": "slide"
    },
    "pycharm": {
     "name": "#%% md\n"
    }
   },
   "source": [
    "<img src=\"images/aai_presentation_first_slide.svg\" alt=\"Snow\" style=\"width:100%;\">\n",
    "<div class=\"md-slide title\">The title slide</div>\n",
    "<div class=\"md-slide title\">You can put multiple divs</div>\n",
    "<div class=\"md-slide title\">Unfortunately, no way to make it full screen...</div>\n",
    "<div class=\"md-slide title\">We can also just remove it</div>"
   ]
  },
  {
   "cell_type": "markdown",
   "metadata": {
    "collapsed": true,
    "slideshow": {
     "slide_type": "slide"
    }
   },
   "source": [
    "# Template for Rise-based presentations\n",
    "\n",
    "This presentation is created with rise. We customize slides with header, footer and backimage as\n",
    "described [here](https://rise.readthedocs.io/en/stable/customize.html).\n",
    "\n",
    "Styles are given in the [rise.css](rise.css) file."
   ]
  },
  {
   "cell_type": "markdown",
   "metadata": {
    "slideshow": {
     "slide_type": "slide"
    }
   },
   "source": [
    "Here a slide that contains some code as fragment."
   ]
  },
  {
   "cell_type": "code",
   "execution_count": null,
   "metadata": {
    "slideshow": {
     "slide_type": "fragment"
    }
   },
   "outputs": [],
   "source": [
    "# The code in src should be installed in your environment. In the docker image this will already be the case.\n",
    "# Thus, imports should work without problems\n",
    "\n",
    "from tfl-training-anomaly-detection.sample_module import SampleClass\n",
    "\n",
    "SampleClass().sample_method(\"from a notebook!\")"
   ]
  },
  {
   "cell_type": "markdown",
   "metadata": {
    "slideshow": {
     "slide_type": "slide"
    },
    "pycharm": {
     "name": "#%% md\n"
    }
   },
   "source": [
    "<img src=\"images/aai_presentation_last_slide.svg\" alt=\"Snow\" style=\"width:100%;\">\n",
    "<div class=\"md-slide title\">Thank you for the attention! (last slide)</div>\n",
    "<div class=\"md-slide title\">Again, no full screen</div>\n",
    "<div class=\"md-slide title\">We could remove it</div>"
   ]
  }
 ],
 "metadata": {
  "celltoolbar": "Slideshow",
  "kernelspec": {
   "display_name": "Python 3 (ipykernel)",
   "language": "python",
   "name": "python3"
  },
  "language_info": {
   "codemirror_mode": {
    "name": "ipython",
    "version": 3
   },
   "file_extension": ".py",
   "mimetype": "text/x-python",
   "name": "python",
   "nbconvert_exporter": "python",
   "pygments_lexer": "ipython3",
   "version": "3.8.11"
  },
  "rise": {
   "footer": "<img src='aai-logo.png' alt='logo' height='50em'>",
   "header": "<img src='transferlab-logo.svg' alt='logo' height='20em' />",
   "theme": "white"
  }
 },
 "nbformat": 4,
 "nbformat_minor": 1
}