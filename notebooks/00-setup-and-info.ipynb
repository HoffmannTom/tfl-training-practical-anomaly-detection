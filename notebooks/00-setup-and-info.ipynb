{
 "cells": [
  {
   "cell_type": "code",
   "execution_count": null,
   "outputs": [],
   "source": [
    "# The output of this cell should be committed to the repo such that the styles are applied after opening the notebook \n",
    "\n",
    "from IPython.core.display import HTML\n",
    "\n",
    "with open(\"rise.css\", \"r\") as f:\n",
    "    styles = f.read()\n",
    "HTML(f'<style>{styles}</style>')"
   ],
   "metadata": {
    "collapsed": false,
    "pycharm": {
     "name": "#%%\n"
    }
   }
  },
  {
   "cell_type": "markdown",
   "source": [
    "# Setup\n",
    "Please run the cell below before you open any other notebook to ensure that\n",
    "your environment is properly setup for the workshop. You need to restart the kernel of\n",
    "any notebook that was opened to prior to running this cell."
   ],
   "metadata": {
    "collapsed": false,
    "pycharm": {
     "name": "#%% md\n"
    }
   }
  },
  {
   "cell_type": "code",
   "execution_count": null,
   "outputs": [],
   "source": [
    "from zipfile import ZipFile\n",
    "\n",
    "%pip install -e ../.\n",
    "archive = ZipFile(\"../../../shared-volume/data_anomaly_detection.zip\")\n",
    "archive.extractall('../')\n",
    "%jupyter nbextension install --py hide_code\n",
    "%jupyter nbextension enable --py hide_code\n",
    "%jupyter serverextension enable --py hide_code"
   ],
   "metadata": {
    "collapsed": false,
    "pycharm": {
     "name": "#%%\n"
    }
   }
  },
  {
   "cell_type": "markdown",
   "source": [
    "# Schedule\n",
    "\n",
    "The workshop is planned for up to two full days. A possible schedule is depicted below:\n",
    "\n",
    "|Day No.|Title |Duration|Schedule|\n",
    "|:------:|-----|:------:|:------:|\n",
    "| 1| Introduction to Anomaly Detection| 90 min|9:00 - 10:30|\n",
    "| 1| Coffee Break| 15 min| 10:30 - 10:45|\n",
    "| 1| Metrics and Outlier Scores| 75min| 10:45 - 12:00|\n",
    "| 1| Lunch Break |  60 min |   12:00 - 13:00|\n",
    "| 1| Kernel Density Estimation | 90 min   |   13:00 - 14:30|\n",
    "| 1| Isolation Forest | 30 min | 14:30 - 15:00|\n",
    "| 1| Coffee Break |   15 min    |   15:00 - 15:15|\n",
    "| 1| Autoencoder | 60 min  | 15:15 - 16:15|\n",
    "| 1| Time Series Analysis | 45 min | 16:15 - 17:00 |\n",
    "| 2| Time Series Forecasting | 90 min  | 9:00 - 10:30|\n",
    "| 2| Coffee Break          |   15 min  |    10:30 - 10:45 |\n",
    "| 2| Introduction to EVT |   75 min  |   10:45 - 12:00|\n",
    "| 2| Lunch Break           |   60 min  |    12:00 - 13:00 |\n",
    "| 2| Generalized Extreme Value Distributions  |   120 min  |    13:00 - 15:00 |\n",
    "| 2| Coffee Break          |   15 min  |    15:00 - 15:15 |\n",
    "| 2| Generalized Pareto Distributions |   105 min  |    15:15 - 17:00 |"
   ],
   "metadata": {
    "collapsed": false,
    "pycharm": {
     "name": "#%% md\n"
    }
   }
  }
 ],
 "metadata": {
  "celltoolbar": "Slideshow",
  "kernelspec": {
   "display_name": "Python 3",
   "language": "python",
   "name": "python3"
  },
  "language_info": {
   "codemirror_mode": {
    "name": "ipython",
    "version": 3
   },
   "file_extension": ".py",
   "mimetype": "text/x-python",
   "name": "python",
   "nbconvert_exporter": "python",
   "pygments_lexer": "ipython3",
   "version": "3.9.4"
  }
 },
 "nbformat": 4,
 "nbformat_minor": 1
}