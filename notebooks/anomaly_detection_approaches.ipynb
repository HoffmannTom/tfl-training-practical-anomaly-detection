{
 "cells": [
  {
   "cell_type": "code",
   "execution_count": 1,
   "id": "087253b8",
   "metadata": {
    "pycharm": {
     "name": "#%%\n"
    },
    "slideshow": {
     "slide_type": "skip"
    }
   },
   "outputs": [
    {
     "data": {
      "text/html": [
       "<style>/*\n",
       "This file is mainly copy-pasta from rise's examples\n",
       "https://github.com/damianavila/RISE/blob/master/examples/rise.css\n",
       "that was further customized for appliedAI purposes\n",
       "*/\n",
       "@import url('https://fonts.googleapis.com/css2?family=Work+Sans:wght@300&display=swap');\n",
       "\n",
       ".reveal {\n",
       "    color: white !important;\n",
       "    font-family: 'Work Sans', sans-serif !important;\n",
       "}\n",
       "\n",
       "/* Overriding reveal styles in headers */\n",
       ".reveal h1, .reveal h2, .reveal h3, .reveal h4, .reveal h5, .reveal h6 {\n",
       "    text-transform: initial;   /* sky.css says uppercase */\n",
       "    letter-spacing: initial;   /* sky.css says -0.08em */\n",
       "    font-family: 'Work Sans', sans-serif !important;\n",
       "    color: #00747b !important;\n",
       "}\n",
       "\n",
       "/* Overriding reveal styles in normal text */\n",
       "div.text_cell_render {\n",
       "    font-family: 'Work Sans', sans-serif !important;\n",
       "    color: #1c9b90 !important;\n",
       "}\n",
       "\n",
       "body.rise-enabled .reveal ol, body.rise-enabled .reveal dl, body.rise-enabled .reveal ul {\n",
       "    margin-left: 0.1em;\n",
       "    margin-top: 0.2em;\n",
       "}\n",
       "\n",
       ".reveal .rendered_html h1:first-child,\n",
       ".reveal .rendered_html h2:first-child,\n",
       ".reveal .rendered_html h3:first-child,\n",
       ".reveal .rendered_html h4:first-child,\n",
       ".reveal .rendered_html h5:first-child {\n",
       "    margin-top: 0.2em;\n",
       "}\n",
       "\n",
       "h1.plan, h2.plan, h3.plan {\n",
       "    text-align: center;\n",
       "    padding-bottom: 30px;\n",
       "}\n",
       "\n",
       "ul.plan>li>span.plan-bold {\n",
       "    font-size: 110%;\n",
       "    padding: 4px;\n",
       "    font-weight: bold;\n",
       "    background-color: #eee;\n",
       "}\n",
       "\n",
       "ul.plan>li>ul.subplan>li>span.plan-bold {\n",
       "    font-weight: bold;\n",
       "}\n",
       "\n",
       ".plan-strike {\n",
       "    opacity: 0.4;\n",
       "/*    text-decoration: line-through; */\n",
       "}\n",
       "\n",
       "div.plan-container {\n",
       "    display: grid;\n",
       "    grid-template-columns: 50% 50%;\n",
       "}\n",
       "\n",
       "/*\n",
       " * this is to void xarray's html output to show the fallback textual representation\n",
       " * see also\n",
       "   * xarray.md and\n",
       "   * https://github.com/damianavila/RISE/issues/594\n",
       " */\n",
       ".reveal pre.xr-text-repr-fallback {\n",
       "    display: none;\n",
       "}\n",
       "\n",
       "#rise-header {\n",
       "    margin: 10px;\n",
       "    left: 5%;\n",
       "}\n",
       "\n",
       "#rise-footer {\n",
       "    margin: 10px;\n",
       "    right: 5%;\n",
       "}\n",
       "\n",
       "#rise-backimage {\n",
       "    opacity: 0.70;\n",
       "}\n",
       "\n",
       ".reveal img {\n",
       "    max-width: 100%;\n",
       "}\n",
       "\n",
       "\n",
       "/*Styles for explicit html in markdown cells*/\n",
       ".md-slide {\n",
       "    color: white;\n",
       "    font-family: 'Work Sans', sans-serif !important;\n",
       "}\n",
       "\n",
       ".md-slide.title {\n",
       "  position: relative;\n",
       "  top: -50%;\n",
       "  margin-left: 5%;\n",
       "  font-size: 1em;\n",
       "}</style>"
      ],
      "text/plain": [
       "<IPython.core.display.HTML object>"
      ]
     },
     "execution_count": 1,
     "metadata": {},
     "output_type": "execute_result"
    }
   ],
   "source": [
    "# The output of this cell should be committed to the repo such that the styles are applied after\n",
    "# opening the notebook\n",
    "\n",
    "from IPython.core.display import HTML\n",
    "\n",
    "with open(\"rise.css\", \"r\") as f:\n",
    "    styles = f.read()\n",
    "HTML(f'<style>{styles}</style>')"
   ]
  },
  {
   "cell_type": "code",
   "execution_count": 2,
   "id": "46db38bf",
   "metadata": {
    "pycharm": {
     "name": "#%%\n"
    },
    "slideshow": {
     "slide_type": "skip"
    }
   },
   "outputs": [],
   "source": [
    "import numpy as np\n",
    "import itertools as it\n",
    "from tqdm import tqdm\n",
    "\n",
    "import matplotlib\n",
    "from matplotlib import pyplot as plt\n",
    "import plotly.express as px\n",
    "import pandas as pd\n",
    "\n",
    "import ipywidgets as widgets\n",
    "\n",
    "from exercise_tools import evaluate, get_kdd_data, get_house_prices_data, create_distributions, contamination, \\\n",
    "perform_rkde_experiment\n",
    "\n",
    "from ipywidgets import interact\n",
    "\n",
    "from sklearn.metrics import roc_auc_score, average_precision_score\n",
    "from sklearn.model_selection import RandomizedSearchCV\n",
    "from sklearn.preprocessing import MinMaxScaler\n",
    "from sklearn.preprocessing import LabelBinarizer\n",
    "from sklearn.ensemble import IsolationForest\n",
    "from sklearn import metrics\n",
    "from sklearn.model_selection import train_test_split\n",
    "from sklearn.decomposition import PCA\n",
    "from sklearn.neighbors import KernelDensity\n",
    "from sklearn.datasets import fetch_openml\n",
    "\n",
    "from vae import VAE, build_decoder_mnist, build_encoder_minst, build_contaminated_minst\n",
    "\n",
    "from tensorflow import keras\n",
    "\n",
    "%matplotlib inline\n",
    "matplotlib.rcParams['figure.figsize'] = (5, 5)\n"
   ]
  },
  {
   "cell_type": "markdown",
   "id": "7cc2f648",
   "metadata": {
    "slideshow": {
     "slide_type": "slide"
    }
   },
   "source": [
    "<img src=\"aai_presentation_first_slide.svg\" alt=\"Snow\" style=\"width:100%;\">\n",
    "<div class=\"md-slide title\">Anomaly Detection</div>"
   ]
  },
  {
   "cell_type": "markdown",
   "id": "cb85606a",
   "metadata": {
    "slideshow": {
     "slide_type": "slide"
    }
   },
   "source": [
    "# Anomaly Detection via Density Estimation\n",
    "**Idea:** Estimate the density of $F_0$. Areas of low density are anomalous.\n",
    "- Often $p$ is too small to estimate complete mixture model.\n",
    "- Takes into account that $F_1$ might not be well defined.\n",
    "- Estimation procedure needs to be robust against contamination if no clean training data is available."
   ]
  },
  {
   "cell_type": "markdown",
   "id": "ad028f22",
   "metadata": {
    "slideshow": {
     "slide_type": "subslide"
    }
   },
   "source": [
    "## Kernel Density Estimation\n",
    "- Non-parametric method\n",
    "- Can represent almost arbitrarily shaped densities\n",
    "- Each training point \"spreads\" a fraction of the probability mass as specified by the kernel function"
   ]
  },
  {
   "cell_type": "markdown",
   "id": "8a5f8585",
   "metadata": {
    "slideshow": {
     "slide_type": "subslide"
    }
   },
   "source": [
    "\n",
    "---\n",
    "<img src=\"images/kernels.png\" style=\"margin:0px 100px\" width=\"600\" align=\"right\">\n",
    "\n",
    "**Definition:**\n",
    "- $K: \\mathbb{R} \\to \\mathbb{R}$ kernel function\n",
    "    - $K(r) \\geq 0$ for all $r\\in \\mathbb{R}$\n",
    "\t- $\\int_{-\\infty}^{\\infty} K(r) dr = 1$\n",
    "- $h > 0$ bandwidth\n",
    "- Bandwidth is the most crucial parameter\n",
    "---\n",
    "\n",
    "\n",
    "\n"
   ]
  },
  {
   "cell_type": "markdown",
   "id": "9847bb69",
   "metadata": {
    "slideshow": {
     "slide_type": "subslide"
    }
   },
   "source": [
    "\n",
    "---\n",
    "**Definition:**\n",
    "Let $D = \\{x_1,\\ldots,x_N\\}\\subset \\mathbb{R}^p$. The KDE with kernel $K$ and bandwidth $h$ is\n",
    "$KDE_h(x, D) = \\frac{1}{N}\\sum_{i=1}^N \\frac{1}{h^p}K\\left(\\frac{|x-x_i|}{h}\\right)$\n",
    "\n",
    "---\n",
    "<table style=\"width:60%\">\n",
    "    <tr>\n",
    "        <td width=\"20%\" style=\"background-color:#FFFFFF;\"><img src=\"images/bandwidth.png\" width=\"100\"></td>\n",
    "        <td style=\"background-color:#FFFFFF;\"><img src=\"images/1dkde.png\"></td>\n",
    "    </tr>\n",
    "    <tr>\n",
    "        <td style=\"background-color:#FFFFFF;\" colspan=\"2\"><center>Effect of bandwidth and kernel</center></td>\n",
    "    </tr>\n",
    "</table>"
   ]
  },
  {
   "cell_type": "markdown",
   "id": "434d0f3e",
   "metadata": {
    "slideshow": {
     "slide_type": "subslide"
    }
   },
   "source": [
    "### Exercise\n",
    "Play with the parameters!"
   ]
  },
  {
   "cell_type": "code",
   "execution_count": 3,
   "id": "10d29d49",
   "metadata": {
    "hideCode": true,
    "pycharm": {
     "name": "#%%\n"
    }
   },
   "outputs": [
    {
     "data": {
      "image/png": "[encoded data removed]",
      "text/plain": [
       "<Figure size 360x360 with 1 Axes>"
      ]
     },
     "metadata": {
      "needs_background": "light"
     },
     "output_type": "display_data"
    }
   ],
   "source": [
    "dists = create_distributions(dim=2, dim_irrelevant=0)\n",
    "\n",
    "sample_train = dists['Double Blob'].sample(500)\n",
    "X_train = sample_train[-1]\n",
    "y_train = [0]*len(X_train)\n",
    "\n",
    "plt.scatter(X_train[:,0], X_train[:,1], c = 'blue', s=10)\n",
    "plt.show()"
   ]
  },
  {
   "cell_type": "code",
   "execution_count": 4,
   "id": "639512ea",
   "metadata": {
    "pycharm": {
     "name": "#%%\n"
    },
    "slideshow": {
     "slide_type": "skip"
    }
   },
   "outputs": [],
   "source": [
    "# Helper function\n",
    "def fit_kde(kernel, bandwidth, X_train):\n",
    "    kde = KernelDensity(kernel=kernel, bandwidth=bandwidth)\n",
    "    kde.fit(X_train)\n",
    "    return kde\n",
    "\n",
    "def visualize_kde(kde, bandwidth, X_test, y_test):\n",
    "    fig, axis = plt.subplots(figsize=(5, 5))\n",
    "\n",
    "    lin = np.linspace(-10, 10, 50)\n",
    "    grid_points = list(it.product(lin, lin))\n",
    "    ys, xs = np.meshgrid(lin, lin)\n",
    "    # The score function of sklearn returns log-densities\n",
    "    scores = np.exp(kde.score_samples(grid_points)).reshape(50, 50)\n",
    "    colormesh = axis.contourf(xs, ys, scores)\n",
    "    fig.colorbar(colormesh)\n",
    "    axis.set_title('Density Conturs (Bandwidth={})'.format(bandwidth))\n",
    "    axis.set_aspect('equal')\n",
    "    color = ['blue' if i ==0 else 'red' for i in y_test]\n",
    "    plt.scatter(X_test[:, 0], X_test[:, 1], c=color)\n",
    "    plt.show()"
   ]
  },
  {
   "cell_type": "markdown",
   "id": "d2fa638a",
   "metadata": {
    "slideshow": {
     "slide_type": "subslide"
    }
   },
   "source": [
    "# Choose KDE Parameters"
   ]
  },
  {
   "cell_type": "code",
   "execution_count": 5,
   "id": "89e5ef25",
   "metadata": {
    "hideCode": true,
    "pycharm": {
     "name": "#%%\n"
    },
    "slideshow": {
     "slide_type": "fragment"
    }
   },
   "outputs": [
    {
     "data": {
      "application/vnd.jupyter.widget-view+json": {
       "model_id": "6c00eb5dadee435aad9af8ed3078d753",
       "version_major": 2,
       "version_minor": 0
      },
      "text/plain": [
       "interactive(children=(Dropdown(description='kernel', options=('gaussian', 'tophat', 'epanechnikov', 'exponenti…"
      ]
     },
     "metadata": {},
     "output_type": "display_data"
    }
   ],
   "source": [
    "ker = None\n",
    "bdw = None\n",
    "@interact(\n",
    "    kernel=['gaussian', 'tophat', 'epanechnikov', 'exponential', 'linear', 'cosine'],\n",
    "    bandwidth=(.1, 10.)\n",
    ")\n",
    "def set_kde_params(kernel, bandwidth):\n",
    "    global ker, bdw\n",
    "\n",
    "    ker = kernel\n",
    "    bdw = bandwidth"
   ]
  },
  {
   "cell_type": "code",
   "execution_count": 6,
   "id": "909c4c5c",
   "metadata": {
    "pycharm": {
     "name": "#%%\n"
    },
    "slideshow": {
     "slide_type": "fragment"
    }
   },
   "outputs": [
    {
     "data": {
      "image/png": "[encoded data removed]",
      "text/plain": [
       "<Figure size 360x360 with 2 Axes>"
      ]
     },
     "metadata": {
      "needs_background": "light"
     },
     "output_type": "display_data"
    }
   ],
   "source": [
    "kde = fit_kde(ker, bdw, X_train)\n",
    "visualize_kde(kde, bdw, X_train, y_train)"
   ]
  },
  {
   "cell_type": "markdown",
   "id": "0ddc2d6c",
   "metadata": {
    "slideshow": {
     "slide_type": "subslide"
    }
   },
   "source": [
    "## Bandwidth Selection\n",
    "The bandwidth is the most important parameter of a KDE model. A wrongly adjusted value will lead to over- or\n",
    "under-smoothing of the density curve.\n",
    "\n",
    "A common methods to select a bandwidth is maximum log-likelyhood cross validation.\n",
    "$$h_{\\textrm{llcv}} = \\arg\\max_{h}\\frac{1}{k}\\sum_{i=1}^k\\sum_{y\\in D_i}\\log\\left(\\frac{k}{N(k-1)}\\sum_{x\\in D_{-i}}K_h(x, y)\\right)$$\n",
    "where $D_{-i}$ is the data without the $i$th cross validation fold $D_i$."
   ]
  },
  {
   "cell_type": "markdown",
   "id": "df4068e5",
   "metadata": {
    "slideshow": {
     "slide_type": "subslide"
    }
   },
   "source": [
    "# Exercises"
   ]
  },
  {
   "cell_type": "markdown",
   "id": "94c87f47",
   "metadata": {},
   "source": [
    "ex no.1: Noisy sinusoidal"
   ]
  },
  {
   "cell_type": "code",
   "execution_count": 7,
   "id": "0238d830",
   "metadata": {
    "pycharm": {
     "name": "#%%\n"
    },
    "slideshow": {
     "slide_type": "skip"
    }
   },
   "outputs": [
    {
     "data": {
      "image/png": "[encoded data removed]",
      "text/plain": [
       "<Figure size 360x360 with 1 Axes>"
      ]
     },
     "metadata": {
      "needs_background": "light"
     },
     "output_type": "display_data"
    }
   ],
   "source": [
    "# Generate example\n",
    "dists = create_distributions(dim=2)\n",
    "\n",
    "distribution_with_anomalies = contamination(\n",
    "    nominal=dists['Sinusoidal'],\n",
    "    anomaly=dists['Blob'],\n",
    "    p=0.05\n",
    ")\n",
    "\n",
    "# Train data\n",
    "sample_train = dists['Sinusoidal'].sample(500)\n",
    "X_train = sample_train[-1].numpy()\n",
    "\n",
    "# Test data\n",
    "sample_test = distribution_with_anomalies.sample(500)\n",
    "X_test = sample_test[-1].numpy()\n",
    "y_test = sample_test[0].numpy()\n",
    "\n",
    "scatter = plt.scatter(X_test[:, 0], X_test[:, 1], c=y_test)\n",
    "handels, _ = scatter.legend_elements()\n",
    "plt.legend(handels, ['Nominal', 'Anomaly'])\n",
    "plt.gca().set_aspect('equal')\n",
    "plt.show()"
   ]
  },
  {
   "cell_type": "code",
   "execution_count": 8,
   "id": "d095bdb2",
   "metadata": {
    "pycharm": {
     "name": "#%%\n"
    },
    "slideshow": {
     "slide_type": "skip"
    }
   },
   "outputs": [],
   "source": [
    "####################################################################################################################\n",
    "# TODO: Define the search space for the kernel and the bandwidth\n",
    "####################################################################################################################\n",
    "param_space = {\n",
    "    'kernel': ['gaussian', 'tophat', 'epanechnikov', 'exponential', 'linear', 'cosine'], # Add available kernels\n",
    "    'bandwidth': np.linspace(0.1, 10, 100), # Define Search space for bandwidth parameter\n",
    "}\n",
    "\n",
    "def hyperopt_by_score(X_train, param_space, cv=5):\n",
    "    kde = KernelDensity()\n",
    "\n",
    "    search = RandomizedSearchCV(\n",
    "        estimator=kde,\n",
    "        param_distributions=param_space,\n",
    "        n_iter=100,\n",
    "        cv=cv,\n",
    "        scoring=None # use estimators internal scoring function, i.e. the log-probability of the validation set for KDE\n",
    "    )\n",
    "\n",
    "    search.fit(X_train)\n",
    "    return search.best_params_, search.best_estimator_"
   ]
  },
  {
   "cell_type": "markdown",
   "id": "79ed34cc",
   "metadata": {
    "slideshow": {
     "slide_type": "skip"
    }
   },
   "source": [
    "Run below code to perform hyperparameter optimization."
   ]
  },
  {
   "cell_type": "code",
   "execution_count": 9,
   "id": "01513b81",
   "metadata": {
    "pycharm": {
     "name": "#%%\n"
    },
    "slideshow": {
     "slide_type": "skip"
    }
   },
   "outputs": [
    {
     "name": "stderr",
     "output_type": "stream",
     "text": [
      "/Library/Frameworks/Python.framework/Versions/3.9/lib/python3.9/site-packages/sklearn/model_selection/_search.py:922: UserWarning: One or more of the test scores are non-finite: [-548.2758085  -506.53021002 -465.03864407 -435.66722334 -518.35939033\n",
      " -516.45836147 -489.13217691 -402.19602893 -638.65978283 -397.42234837\n",
      " -615.61626085 -582.54779571 -546.93687218 -604.25438096 -521.03639281\n",
      " -686.45626542 -555.6085696  -463.84344158 -489.376382   -599.46268478\n",
      " -518.18215674          -inf -623.93598539 -623.37115376 -587.86307815\n",
      " -462.53113876 -474.26947967 -587.24655609 -500.42679825 -554.52220949\n",
      " -637.74414133 -504.67181176 -533.03523134 -564.34753849 -624.66422934\n",
      " -516.9287727  -633.68634351 -536.57925069          -inf -483.71203876\n",
      "          -inf -604.68771639 -499.67241721 -465.50482777 -639.36182767\n",
      " -460.30417576 -583.75231572 -553.79425269 -437.24331201 -598.29908439\n",
      " -591.5941792  -641.22536595 -475.48843603 -530.73590665 -571.03089094\n",
      " -423.11176366 -592.38128028 -561.54926742 -551.9415598  -513.95279906\n",
      "          -inf -488.18224217 -482.58539377 -512.0786026  -477.94893942\n",
      " -539.54897859          -inf -513.0335451  -526.39345685 -659.11880278\n",
      " -592.35244808 -577.31915997 -415.63334286 -390.86139671 -510.80197285\n",
      " -458.42832619 -496.8269983  -525.39036938 -557.39874513 -467.09695992\n",
      " -629.81238494 -614.32941205 -465.63373465 -609.41269014 -598.96089624\n",
      " -559.37982201 -476.79604292 -515.70605502 -601.13054784          -inf\n",
      " -655.30007366 -456.48402296 -409.95196149 -472.88454936 -550.34007358\n",
      " -472.45336021 -537.49011718          -inf -620.78380645 -468.62793347]\n",
      "  warnings.warn(\n",
      "/Library/Frameworks/Python.framework/Versions/3.9/lib/python3.9/site-packages/sklearn/model_selection/_search.py:929: RuntimeWarning: invalid value encountered in subtract\n",
      "  array_stds = np.sqrt(np.average((array -\n"
     ]
    },
    {
     "name": "stdout",
     "output_type": "stream",
     "text": [
      "Best parameters:\n",
      "kernel: linear\n",
      "bandwidth: 1.4000000000000001\n"
     ]
    },
    {
     "data": {
      "image/png": "[encoded data removed]",
      "text/plain": [
       "<Figure size 720x360 with 2 Axes>"
      ]
     },
     "metadata": {
      "needs_background": "light"
     },
     "output_type": "display_data"
    }
   ],
   "source": [
    "params, kde = hyperopt_by_score(X_train, param_space)\n",
    "\n",
    "print('Best parameters:')\n",
    "for key in params:\n",
    "    print('{}: {}'.format(key, params[key]))\n",
    "\n",
    "test_scores = -kde.score_samples(X_test)\n",
    "test_scores = np.where(test_scores == np.inf, np.max(test_scores[np.isfinite(test_scores)])+1, test_scores)\n",
    "\n",
    "curves = evaluate(y_test, test_scores)"
   ]
  },
  {
   "cell_type": "code",
   "execution_count": 10,
   "id": "ec8cf537",
   "metadata": {},
   "outputs": [
    {
     "data": {
      "image/png": "[encoded data removed]",
      "text/plain": [
       "<Figure size 360x360 with 2 Axes>"
      ]
     },
     "metadata": {
      "needs_background": "light"
     },
     "output_type": "display_data"
    }
   ],
   "source": [
    "visualize_kde(kde, params['bandwidth'], X_test, y_test)"
   ]
  },
  {
   "cell_type": "markdown",
   "id": "2d598cda",
   "metadata": {},
   "source": [
    "### Exercise: Isolate anomalies in house prices"
   ]
  },
  {
   "cell_type": "markdown",
   "id": "965b4783",
   "metadata": {},
   "source": [
    "You are a company resposible to estimate house prices around Ames, Iowa, specifically around college area. But there is a problem: houses from a nearby area, 'Veenker', are often included in your dataset. You want to build an anomaly detection algorithm that filters one by one every point that comes from the wrong neighborhood. You have been able to isolate an X_train dataset which, you are sure, contains only houses from College area. Following the previous example, test your ability to isolate anomalies in new incoming data (X_test) with KDE.\n",
    "\n",
    "Advanced exercise:\n",
    "What happens if the contamination comes from other areas? You can choose among the following names:\n",
    "\n",
    "OldTown, Veenker, Edwards, MeadowV, Somerst, NPkVill, BrDale, Gilbert, NridgHt, Sawyer, Blmngtn, Blueste"
   ]
  },
  {
   "cell_type": "code",
   "execution_count": 11,
   "id": "1fd5a1af",
   "metadata": {},
   "outputs": [
    {
     "data": {
      "text/html": [
       "<div>\n",
       "<style scoped>\n",
       "    .dataframe tbody tr th:only-of-type {\n",
       "        vertical-align: middle;\n",
       "    }\n",
       "\n",
       "    .dataframe tbody tr th {\n",
       "        vertical-align: top;\n",
       "    }\n",
       "\n",
       "    .dataframe thead th {\n",
       "        text-align: right;\n",
       "    }\n",
       "</style>\n",
       "<table border=\"1\" class=\"dataframe\">\n",
       "  <thead>\n",
       "    <tr style=\"text-align: right;\">\n",
       "      <th></th>\n",
       "      <th>LotArea</th>\n",
       "      <th>SalePrice</th>\n",
       "      <th>OverallCond</th>\n",
       "    </tr>\n",
       "  </thead>\n",
       "  <tbody>\n",
       "    <tr>\n",
       "      <th>0</th>\n",
       "      <td>14006</td>\n",
       "      <td>192500</td>\n",
       "      <td>5</td>\n",
       "    </tr>\n",
       "    <tr>\n",
       "      <th>1</th>\n",
       "      <td>11250</td>\n",
       "      <td>223500</td>\n",
       "      <td>5</td>\n",
       "    </tr>\n",
       "    <tr>\n",
       "      <th>2</th>\n",
       "      <td>10264</td>\n",
       "      <td>214000</td>\n",
       "      <td>5</td>\n",
       "    </tr>\n",
       "    <tr>\n",
       "      <th>3</th>\n",
       "      <td>8400</td>\n",
       "      <td>213000</td>\n",
       "      <td>5</td>\n",
       "    </tr>\n",
       "    <tr>\n",
       "      <th>4</th>\n",
       "      <td>4435</td>\n",
       "      <td>144000</td>\n",
       "      <td>5</td>\n",
       "    </tr>\n",
       "    <tr>\n",
       "      <th>...</th>\n",
       "      <td>...</td>\n",
       "      <td>...</td>\n",
       "      <td>...</td>\n",
       "    </tr>\n",
       "    <tr>\n",
       "      <th>115</th>\n",
       "      <td>8200</td>\n",
       "      <td>219500</td>\n",
       "      <td>5</td>\n",
       "    </tr>\n",
       "    <tr>\n",
       "      <th>116</th>\n",
       "      <td>11050</td>\n",
       "      <td>313000</td>\n",
       "      <td>5</td>\n",
       "    </tr>\n",
       "    <tr>\n",
       "      <th>117</th>\n",
       "      <td>9531</td>\n",
       "      <td>211000</td>\n",
       "      <td>5</td>\n",
       "    </tr>\n",
       "    <tr>\n",
       "      <th>118</th>\n",
       "      <td>9286</td>\n",
       "      <td>143500</td>\n",
       "      <td>7</td>\n",
       "    </tr>\n",
       "    <tr>\n",
       "      <th>119</th>\n",
       "      <td>6762</td>\n",
       "      <td>195400</td>\n",
       "      <td>5</td>\n",
       "    </tr>\n",
       "  </tbody>\n",
       "</table>\n",
       "<p>120 rows × 3 columns</p>\n",
       "</div>"
      ],
      "text/plain": [
       "     LotArea  SalePrice  OverallCond\n",
       "0      14006     192500            5\n",
       "1      11250     223500            5\n",
       "2      10264     214000            5\n",
       "3       8400     213000            5\n",
       "4       4435     144000            5\n",
       "..       ...        ...          ...\n",
       "115     8200     219500            5\n",
       "116    11050     313000            5\n",
       "117     9531     211000            5\n",
       "118     9286     143500            7\n",
       "119     6762     195400            5\n",
       "\n",
       "[120 rows x 3 columns]"
      ]
     },
     "execution_count": 11,
     "metadata": {},
     "output_type": "execute_result"
    }
   ],
   "source": [
    "X_train, X_test, y_test = get_house_prices_data(neighborhood = 'CollgCr', anomaly_neighborhood='Veenker')\n",
    "X_train"
   ]
  },
  {
   "cell_type": "code",
   "execution_count": 12,
   "id": "288e044a",
   "metadata": {},
   "outputs": [
    {
     "data": {
      "application/vnd.plotly.v1+json": {
       "config": {
        "plotlyServerURL": "https://plot.ly"
       },
       "data": [
        {
         "hovertemplate": "LotArea=%{x}<br>OverallCond=%{y}<br>SalePrice=%{z}<br>color=%{marker.color}<extra></extra>",
         "legendgroup": "",
         "marker": {
          "color": [
           0,
           0,
           0,
           0,
           0,
           0,
           0,
           0,
           0,
           0,
           0,
           0,
           0,
           0,
           0,
           0,
           0,
           0,
           0,
           0,
           0,
           0,
           0,
           0,
           0,
           0,
           0,
           0,
           0,
           0,
           0,
           0,
           0,
           0,
           0,
           0,
           0,
           0,
           0,
           0,
           0,
           0,
           0,
           0,
           0,
           0,
           0,
           0,
           0,
           0,
           0,
           0,
           0,
           0,
           0,
           0,
           0,
           0,
           0,
           0,
           0,
           0,
           0,
           0,
           0,
           0,
           0,
           0,
           0,
           0,
           0,
           0,
           0,
           0,
           0,
           0,
           0,
           0,
           0,
           0,
           0,
           0,
           0,
           0,
           0,
           0,
           0,
           0,
           0,
           0,
           0,
           0,
           0,
           0,
           0,
           0,
           0,
           0,
           0,
           0,
           0,
           0,
           0,
           0,
           0,
           0,
           0,
           0,
           0,
           0,
           0,
           0,
           0,
           0,
           0,
           0,
           0,
           0,
           0,
           0,
           1,
           0,
           1,
           0,
           0,
           0,
           0,
           0,
           1,
           0,
           1,
           1,
           1,
           0,
           0,
           0,
           1,
           0,
           0,
           0,
           0,
           0,
           0,
           0,
           0,
           0,
           1,
           0,
           0,
           1,
           0,
           1,
           0,
           0,
           0,
           1,
           0,
           0,
           0,
           0,
           0
          ],
          "coloraxis": "coloraxis",
          "symbol": "circle"
         },
         "mode": "markers",
         "name": "",
         "scene": "scene",
         "showlegend": false,
         "type": "scatter3d",
         "x": [
          14006,
          11250,
          10264,
          8400,
          4435,
          11885,
          8487,
          9200,
          8990,
          9135,
          10667,
          12137,
          10637,
          10316,
          13450,
          12420,
          8199,
          7200,
          10084,
          9548,
          9240,
          11249,
          9375,
          10769,
          8445,
          4438,
          6762,
          8749,
          8450,
          9750,
          8750,
          11175,
          9560,
          9313,
          8158,
          15523,
          7200,
          10665,
          11367,
          10635,
          7990,
          10652,
          7700,
          11103,
          8500,
          8556,
          8773,
          11423,
          4426,
          13125,
          15611,
          8814,
          9382,
          9135,
          9017,
          4435,
          7406,
          11883,
          8072,
          10386,
          8750,
          7180,
          9179,
          11645,
          13568,
          8633,
          10970,
          15426,
          8430,
          8767,
          8846,
          10356,
          11210,
          11049,
          12393,
          4435,
          9965,
          9100,
          9965,
          9375,
          4435,
          9800,
          8125,
          9750,
          11248,
          9525,
          10780,
          10400,
          9100,
          4426,
          4438,
          16285,
          8760,
          10475,
          8814,
          8385,
          11404,
          4435,
          9245,
          8461,
          12435,
          9473,
          10650,
          10900,
          12803,
          10859,
          9920,
          9808,
          14781,
          11317,
          10226,
          8775,
          16226,
          10335,
          8450,
          8200,
          11050,
          9531,
          9286,
          6762,
          10768,
          8450,
          14963,
          8924,
          11645,
          8070,
          8320,
          10000,
          9600,
          8846,
          17542,
          9549,
          50271,
          11923,
          10402,
          7226,
          10846,
          12464,
          11838,
          9337,
          9742,
          8750,
          13704,
          7200,
          8935,
          9245,
          9600,
          9588,
          7000,
          11120,
          8800,
          16157,
          6762,
          4426,
          9100,
          11250,
          9236,
          9066,
          11250,
          7314,
          9317
         ],
         "y": [
          5,
          5,
          5,
          5,
          5,
          5,
          5,
          6,
          5,
          5,
          6,
          5,
          5,
          5,
          5,
          5,
          5,
          5,
          5,
          6,
          5,
          5,
          5,
          5,
          7,
          5,
          5,
          5,
          5,
          5,
          5,
          5,
          7,
          5,
          5,
          6,
          8,
          5,
          5,
          5,
          6,
          5,
          5,
          5,
          5,
          5,
          5,
          5,
          5,
          5,
          5,
          5,
          5,
          5,
          5,
          5,
          5,
          5,
          5,
          5,
          5,
          7,
          5,
          5,
          5,
          5,
          6,
          5,
          5,
          5,
          5,
          6,
          5,
          5,
          5,
          5,
          5,
          5,
          5,
          5,
          5,
          7,
          5,
          6,
          5,
          6,
          5,
          5,
          5,
          5,
          5,
          5,
          5,
          5,
          5,
          8,
          5,
          5,
          5,
          5,
          5,
          5,
          6,
          7,
          5,
          5,
          6,
          5,
          5,
          5,
          5,
          5,
          5,
          5,
          5,
          5,
          5,
          5,
          7,
          5,
          8,
          5,
          5,
          5,
          5,
          5,
          5,
          5,
          8,
          5,
          7,
          5,
          5,
          5,
          5,
          5,
          5,
          5,
          5,
          5,
          5,
          5,
          5,
          7,
          5,
          5,
          7,
          5,
          8,
          6,
          7,
          7,
          5,
          5,
          5,
          6,
          5,
          5,
          5,
          5,
          5
         ],
         "z": [
          192500,
          223500,
          214000,
          213000,
          144000,
          261500,
          190000,
          130250,
          204900,
          214000,
          212000,
          224900,
          297000,
          235000,
          200000,
          230000,
          189000,
          123000,
          212900,
          237000,
          287000,
          177500,
          219500,
          212000,
          133000,
          149000,
          206000,
          192000,
          208500,
          213000,
          191000,
          200141,
          128500,
          190000,
          224900,
          133500,
          133900,
          226000,
          255000,
          232000,
          110000,
          279500,
          112500,
          155835,
          179600,
          194000,
          185500,
          272000,
          149300,
          208900,
          233230,
          203000,
          191000,
          200000,
          192000,
          155900,
          194000,
          203000,
          138000,
          305900,
          210000,
          127000,
          193000,
          260000,
          156000,
          173500,
          147000,
          231500,
          124000,
          164990,
          148000,
          122000,
          221500,
          179900,
          195000,
          136500,
          424870,
          178000,
          383970,
          228500,
          140000,
          149900,
          230000,
          274300,
          285000,
          144000,
          132500,
          197900,
          216837,
          141000,
          144500,
          187100,
          239799,
          245350,
          220000,
          149900,
          222500,
          131500,
          145000,
          163990,
          231500,
          237000,
          128200,
          161750,
          221000,
          145000,
          128500,
          227000,
          275000,
          180000,
          295493,
          126000,
          267000,
          204000,
          210000,
          219500,
          313000,
          211000,
          143500,
          195400,
          218000,
          185000,
          245500,
          188000,
          196500,
          123600,
          185900,
          240000,
          181500,
          173900,
          294000,
          270000,
          385000,
          239000,
          198900,
          183000,
          324000,
          152000,
          236500,
          204750,
          230000,
          200500,
          205000,
          124900,
          195000,
          213500,
          187000,
          276000,
          136500,
          162500,
          150500,
          194000,
          193879,
          143000,
          235000,
          165000,
          217000,
          230000,
          255900,
          194500,
          176432
         ]
        }
       ],
       "layout": {
        "coloraxis": {
         "colorbar": {
          "title": {
           "text": "color"
          }
         },
         "colorscale": [
          [
           0,
           "#0d0887"
          ],
          [
           0.1111111111111111,
           "#46039f"
          ],
          [
           0.2222222222222222,
           "#7201a8"
          ],
          [
           0.3333333333333333,
           "#9c179e"
          ],
          [
           0.4444444444444444,
           "#bd3786"
          ],
          [
           0.5555555555555556,
           "#d8576b"
          ],
          [
           0.6666666666666666,
           "#ed7953"
          ],
          [
           0.7777777777777778,
           "#fb9f3a"
          ],
          [
           0.8888888888888888,
           "#fdca26"
          ],
          [
           1,
           "#f0f921"
          ]
         ]
        },
        "legend": {
         "tracegroupgap": 0
        },
        "margin": {
         "t": 60
        },
        "scene": {
         "domain": {
          "x": [
           0,
           1
          ],
          "y": [
           0,
           1
          ]
         },
         "xaxis": {
          "title": {
           "text": "LotArea"
          }
         },
         "yaxis": {
          "title": {
           "text": "OverallCond"
          }
         },
         "zaxis": {
          "title": {
           "text": "SalePrice"
          }
         }
        },
        "template": {
         "data": {
          "bar": [
           {
            "error_x": {
             "color": "#2a3f5f"
            },
            "error_y": {
             "color": "#2a3f5f"
            },
            "marker": {
             "line": {
              "color": "#E5ECF6",
              "width": 0.5
             },
             "pattern": {
              "fillmode": "overlay",
              "size": 10,
              "solidity": 0.2
             }
            },
            "type": "bar"
           }
          ],
          "barpolar": [
           {
            "marker": {
             "line": {
              "color": "#E5ECF6",
              "width": 0.5
             },
             "pattern": {
              "fillmode": "overlay",
              "size": 10,
              "solidity": 0.2
             }
            },
            "type": "barpolar"
           }
          ],
          "carpet": [
           {
            "aaxis": {
             "endlinecolor": "#2a3f5f",
             "gridcolor": "white",
             "linecolor": "white",
             "minorgridcolor": "white",
             "startlinecolor": "#2a3f5f"
            },
            "baxis": {
             "endlinecolor": "#2a3f5f",
             "gridcolor": "white",
             "linecolor": "white",
             "minorgridcolor": "white",
             "startlinecolor": "#2a3f5f"
            },
            "type": "carpet"
           }
          ],
          "choropleth": [
           {
            "colorbar": {
             "outlinewidth": 0,
             "ticks": ""
            },
            "type": "choropleth"
           }
          ],
          "contour": [
           {
            "colorbar": {
             "outlinewidth": 0,
             "ticks": ""
            },
            "colorscale": [
             [
              0,
              "#0d0887"
             ],
             [
              0.1111111111111111,
              "#46039f"
             ],
             [
              0.2222222222222222,
              "#7201a8"
             ],
             [
              0.3333333333333333,
              "#9c179e"
             ],
             [
              0.4444444444444444,
              "#bd3786"
             ],
             [
              0.5555555555555556,
              "#d8576b"
             ],
             [
              0.6666666666666666,
              "#ed7953"
             ],
             [
              0.7777777777777778,
              "#fb9f3a"
             ],
             [
              0.8888888888888888,
              "#fdca26"
             ],
             [
              1,
              "#f0f921"
             ]
            ],
            "type": "contour"
           }
          ],
          "contourcarpet": [
           {
            "colorbar": {
             "outlinewidth": 0,
             "ticks": ""
            },
            "type": "contourcarpet"
           }
          ],
          "heatmap": [
           {
            "colorbar": {
             "outlinewidth": 0,
             "ticks": ""
            },
            "colorscale": [
             [
              0,
              "#0d0887"
             ],
             [
              0.1111111111111111,
              "#46039f"
             ],
             [
              0.2222222222222222,
              "#7201a8"
             ],
             [
              0.3333333333333333,
              "#9c179e"
             ],
             [
              0.4444444444444444,
              "#bd3786"
             ],
             [
              0.5555555555555556,
              "#d8576b"
             ],
             [
              0.6666666666666666,
              "#ed7953"
             ],
             [
              0.7777777777777778,
              "#fb9f3a"
             ],
             [
              0.8888888888888888,
              "#fdca26"
             ],
             [
              1,
              "#f0f921"
             ]
            ],
            "type": "heatmap"
           }
          ],
          "heatmapgl": [
           {
            "colorbar": {
             "outlinewidth": 0,
             "ticks": ""
            },
            "colorscale": [
             [
              0,
              "#0d0887"
             ],
             [
              0.1111111111111111,
              "#46039f"
             ],
             [
              0.2222222222222222,
              "#7201a8"
             ],
             [
              0.3333333333333333,
              "#9c179e"
             ],
             [
              0.4444444444444444,
              "#bd3786"
             ],
             [
              0.5555555555555556,
              "#d8576b"
             ],
             [
              0.6666666666666666,
              "#ed7953"
             ],
             [
              0.7777777777777778,
              "#fb9f3a"
             ],
             [
              0.8888888888888888,
              "#fdca26"
             ],
             [
              1,
              "#f0f921"
             ]
            ],
            "type": "heatmapgl"
           }
          ],
          "histogram": [
           {
            "marker": {
             "pattern": {
              "fillmode": "overlay",
              "size": 10,
              "solidity": 0.2
             }
            },
            "type": "histogram"
           }
          ],
          "histogram2d": [
           {
            "colorbar": {
             "outlinewidth": 0,
             "ticks": ""
            },
            "colorscale": [
             [
              0,
              "#0d0887"
             ],
             [
              0.1111111111111111,
              "#46039f"
             ],
             [
              0.2222222222222222,
              "#7201a8"
             ],
             [
              0.3333333333333333,
              "#9c179e"
             ],
             [
              0.4444444444444444,
              "#bd3786"
             ],
             [
              0.5555555555555556,
              "#d8576b"
             ],
             [
              0.6666666666666666,
              "#ed7953"
             ],
             [
              0.7777777777777778,
              "#fb9f3a"
             ],
             [
              0.8888888888888888,
              "#fdca26"
             ],
             [
              1,
              "#f0f921"
             ]
            ],
            "type": "histogram2d"
           }
          ],
          "histogram2dcontour": [
           {
            "colorbar": {
             "outlinewidth": 0,
             "ticks": ""
            },
            "colorscale": [
             [
              0,
              "#0d0887"
             ],
             [
              0.1111111111111111,
              "#46039f"
             ],
             [
              0.2222222222222222,
              "#7201a8"
             ],
             [
              0.3333333333333333,
              "#9c179e"
             ],
             [
              0.4444444444444444,
              "#bd3786"
             ],
             [
              0.5555555555555556,
              "#d8576b"
             ],
             [
              0.6666666666666666,
              "#ed7953"
             ],
             [
              0.7777777777777778,
              "#fb9f3a"
             ],
             [
              0.8888888888888888,
              "#fdca26"
             ],
             [
              1,
              "#f0f921"
             ]
            ],
            "type": "histogram2dcontour"
           }
          ],
          "mesh3d": [
           {
            "colorbar": {
             "outlinewidth": 0,
             "ticks": ""
            },
            "type": "mesh3d"
           }
          ],
          "parcoords": [
           {
            "line": {
             "colorbar": {
              "outlinewidth": 0,
              "ticks": ""
             }
            },
            "type": "parcoords"
           }
          ],
          "pie": [
           {
            "automargin": true,
            "type": "pie"
           }
          ],
          "scatter": [
           {
            "marker": {
             "colorbar": {
              "outlinewidth": 0,
              "ticks": ""
             }
            },
            "type": "scatter"
           }
          ],
          "scatter3d": [
           {
            "line": {
             "colorbar": {
              "outlinewidth": 0,
              "ticks": ""
             }
            },
            "marker": {
             "colorbar": {
              "outlinewidth": 0,
              "ticks": ""
             }
            },
            "type": "scatter3d"
           }
          ],
          "scattercarpet": [
           {
            "marker": {
             "colorbar": {
              "outlinewidth": 0,
              "ticks": ""
             }
            },
            "type": "scattercarpet"
           }
          ],
          "scattergeo": [
           {
            "marker": {
             "colorbar": {
              "outlinewidth": 0,
              "ticks": ""
             }
            },
            "type": "scattergeo"
           }
          ],
          "scattergl": [
           {
            "marker": {
             "colorbar": {
              "outlinewidth": 0,
              "ticks": ""
             }
            },
            "type": "scattergl"
           }
          ],
          "scattermapbox": [
           {
            "marker": {
             "colorbar": {
              "outlinewidth": 0,
              "ticks": ""
             }
            },
            "type": "scattermapbox"
           }
          ],
          "scatterpolar": [
           {
            "marker": {
             "colorbar": {
              "outlinewidth": 0,
              "ticks": ""
             }
            },
            "type": "scatterpolar"
           }
          ],
          "scatterpolargl": [
           {
            "marker": {
             "colorbar": {
              "outlinewidth": 0,
              "ticks": ""
             }
            },
            "type": "scatterpolargl"
           }
          ],
          "scatterternary": [
           {
            "marker": {
             "colorbar": {
              "outlinewidth": 0,
              "ticks": ""
             }
            },
            "type": "scatterternary"
           }
          ],
          "surface": [
           {
            "colorbar": {
             "outlinewidth": 0,
             "ticks": ""
            },
            "colorscale": [
             [
              0,
              "#0d0887"
             ],
             [
              0.1111111111111111,
              "#46039f"
             ],
             [
              0.2222222222222222,
              "#7201a8"
             ],
             [
              0.3333333333333333,
              "#9c179e"
             ],
             [
              0.4444444444444444,
              "#bd3786"
             ],
             [
              0.5555555555555556,
              "#d8576b"
             ],
             [
              0.6666666666666666,
              "#ed7953"
             ],
             [
              0.7777777777777778,
              "#fb9f3a"
             ],
             [
              0.8888888888888888,
              "#fdca26"
             ],
             [
              1,
              "#f0f921"
             ]
            ],
            "type": "surface"
           }
          ],
          "table": [
           {
            "cells": {
             "fill": {
              "color": "#EBF0F8"
             },
             "line": {
              "color": "white"
             }
            },
            "header": {
             "fill": {
              "color": "#C8D4E3"
             },
             "line": {
              "color": "white"
             }
            },
            "type": "table"
           }
          ]
         },
         "layout": {
          "annotationdefaults": {
           "arrowcolor": "#2a3f5f",
           "arrowhead": 0,
           "arrowwidth": 1
          },
          "autotypenumbers": "strict",
          "coloraxis": {
           "colorbar": {
            "outlinewidth": 0,
            "ticks": ""
           }
          },
          "colorscale": {
           "diverging": [
            [
             0,
             "#8e0152"
            ],
            [
             0.1,
             "#c51b7d"
            ],
            [
             0.2,
             "#de77ae"
            ],
            [
             0.3,
             "#f1b6da"
            ],
            [
             0.4,
             "#fde0ef"
            ],
            [
             0.5,
             "#f7f7f7"
            ],
            [
             0.6,
             "#e6f5d0"
            ],
            [
             0.7,
             "#b8e186"
            ],
            [
             0.8,
             "#7fbc41"
            ],
            [
             0.9,
             "#4d9221"
            ],
            [
             1,
             "#276419"
            ]
           ],
           "sequential": [
            [
             0,
             "#0d0887"
            ],
            [
             0.1111111111111111,
             "#46039f"
            ],
            [
             0.2222222222222222,
             "#7201a8"
            ],
            [
             0.3333333333333333,
             "#9c179e"
            ],
            [
             0.4444444444444444,
             "#bd3786"
            ],
            [
             0.5555555555555556,
             "#d8576b"
            ],
            [
             0.6666666666666666,
             "#ed7953"
            ],
            [
             0.7777777777777778,
             "#fb9f3a"
            ],
            [
             0.8888888888888888,
             "#fdca26"
            ],
            [
             1,
             "#f0f921"
            ]
           ],
           "sequentialminus": [
            [
             0,
             "#0d0887"
            ],
            [
             0.1111111111111111,
             "#46039f"
            ],
            [
             0.2222222222222222,
             "#7201a8"
            ],
            [
             0.3333333333333333,
             "#9c179e"
            ],
            [
             0.4444444444444444,
             "#bd3786"
            ],
            [
             0.5555555555555556,
             "#d8576b"
            ],
            [
             0.6666666666666666,
             "#ed7953"
            ],
            [
             0.7777777777777778,
             "#fb9f3a"
            ],
            [
             0.8888888888888888,
             "#fdca26"
            ],
            [
             1,
             "#f0f921"
            ]
           ]
          },
          "colorway": [
           "#636efa",
           "#EF553B",
           "#00cc96",
           "#ab63fa",
           "#FFA15A",
           "#19d3f3",
           "#FF6692",
           "#B6E880",
           "#FF97FF",
           "#FECB52"
          ],
          "font": {
           "color": "#2a3f5f"
          },
          "geo": {
           "bgcolor": "white",
           "lakecolor": "white",
           "landcolor": "#E5ECF6",
           "showlakes": true,
           "showland": true,
           "subunitcolor": "white"
          },
          "hoverlabel": {
           "align": "left"
          },
          "hovermode": "closest",
          "mapbox": {
           "style": "light"
          },
          "paper_bgcolor": "white",
          "plot_bgcolor": "#E5ECF6",
          "polar": {
           "angularaxis": {
            "gridcolor": "white",
            "linecolor": "white",
            "ticks": ""
           },
           "bgcolor": "#E5ECF6",
           "radialaxis": {
            "gridcolor": "white",
            "linecolor": "white",
            "ticks": ""
           }
          },
          "scene": {
           "xaxis": {
            "backgroundcolor": "#E5ECF6",
            "gridcolor": "white",
            "gridwidth": 2,
            "linecolor": "white",
            "showbackground": true,
            "ticks": "",
            "zerolinecolor": "white"
           },
           "yaxis": {
            "backgroundcolor": "#E5ECF6",
            "gridcolor": "white",
            "gridwidth": 2,
            "linecolor": "white",
            "showbackground": true,
            "ticks": "",
            "zerolinecolor": "white"
           },
           "zaxis": {
            "backgroundcolor": "#E5ECF6",
            "gridcolor": "white",
            "gridwidth": 2,
            "linecolor": "white",
            "showbackground": true,
            "ticks": "",
            "zerolinecolor": "white"
           }
          },
          "shapedefaults": {
           "line": {
            "color": "#2a3f5f"
           }
          },
          "ternary": {
           "aaxis": {
            "gridcolor": "white",
            "linecolor": "white",
            "ticks": ""
           },
           "baxis": {
            "gridcolor": "white",
            "linecolor": "white",
            "ticks": ""
           },
           "bgcolor": "#E5ECF6",
           "caxis": {
            "gridcolor": "white",
            "linecolor": "white",
            "ticks": ""
           }
          },
          "title": {
           "x": 0.05
          },
          "xaxis": {
           "automargin": true,
           "gridcolor": "white",
           "linecolor": "white",
           "ticks": "",
           "title": {
            "standoff": 15
           },
           "zerolinecolor": "white",
           "zerolinewidth": 2
          },
          "yaxis": {
           "automargin": true,
           "gridcolor": "white",
           "linecolor": "white",
           "ticks": "",
           "title": {
            "standoff": 15
           },
           "zerolinecolor": "white",
           "zerolinewidth": 2
          }
         }
        }
       }
      }
     },
     "metadata": {},
     "output_type": "display_data"
    }
   ],
   "source": [
    "# Total data\n",
    "train_test_data = X_train.append(X_test, ignore_index=True)\n",
    "y_total = [0] * len(X_train) + y_test\n",
    "\n",
    "fig = px.scatter_3d(train_test_data, x='LotArea', y='OverallCond', z='SalePrice', color=y_total)\n",
    "\n",
    "fig.show()"
   ]
  },
  {
   "cell_type": "markdown",
   "id": "dfc80809",
   "metadata": {},
   "source": [
    "### Solution"
   ]
  },
  {
   "cell_type": "markdown",
   "id": "f81d6a1e",
   "metadata": {},
   "source": [
    "When data are highly in-homogeneous, like in this case, it is often beneficial to rescale them before applying any anomaly detection or clustering technique."
   ]
  },
  {
   "cell_type": "code",
   "execution_count": 13,
   "id": "b336ebbd",
   "metadata": {},
   "outputs": [],
   "source": [
    "scaler = MinMaxScaler()\n",
    "X_train_rescaled = scaler.fit_transform(X_train)"
   ]
  },
  {
   "cell_type": "code",
   "execution_count": 14,
   "id": "0159cf66",
   "metadata": {},
   "outputs": [
    {
     "name": "stderr",
     "output_type": "stream",
     "text": [
      "/Library/Frameworks/Python.framework/Versions/3.9/lib/python3.9/site-packages/sklearn/model_selection/_search.py:922: UserWarning:\n",
      "\n",
      "One or more of the test scores are non-finite: [-214.1049886   -65.72340928 -175.50471145   15.29500678 -117.57801145\n",
      " -154.2059124  -179.45090448 -129.66348117 -164.15445644 -224.65351664\n",
      " -195.70898463 -206.77936872  -71.31118409 -225.97822409 -145.80238763\n",
      " -132.93068779  -13.17728479 -154.45277808 -171.38387172 -175.29278063\n",
      "  -98.06404666 -157.9840137  -164.83619188 -124.84800341 -119.345055\n",
      "  -38.00550882 -158.59905914 -160.39550546 -186.74828407 -190.28904036\n",
      "  -54.43885529 -141.60799722          -inf -181.26831615    0.8036419\n",
      "  -24.59284267 -105.28952933 -141.05341395 -147.90496508 -137.70397282\n",
      " -132.94069057  -79.77924298 -178.48444701 -192.28633172 -164.57467852\n",
      " -153.80235395 -105.16881811 -235.84153183  -37.85878159 -156.59277741\n",
      " -182.15127515  -24.83541999 -141.51898606 -165.70788427 -167.91534137\n",
      " -166.8974606  -144.25394085 -209.34133189 -132.36819882  -89.82906478\n",
      "  -34.95598236  -80.5913668    17.21543879 -160.56072418  -70.32109498\n",
      " -172.39631508 -191.56041438  -13.29141921 -151.16571339 -155.61591919\n",
      " -219.43463644 -217.82187791 -118.98958594 -131.62787441 -134.07414317\n",
      " -161.9536986  -236.63423906  -56.46662204 -168.25983702 -159.80145092\n",
      " -164.05946755 -166.43581261 -113.1700645  -112.54276236 -200.16401369\n",
      " -157.05785188 -124.37540757 -193.37364477 -202.09472771 -221.80465347\n",
      " -152.24009155 -160.6933002  -127.5404545  -157.55659583 -205.57594635\n",
      "  -63.7164157  -154.85622772          -inf -104.66923274 -224.39717982]\n",
      "\n",
      "/Library/Frameworks/Python.framework/Versions/3.9/lib/python3.9/site-packages/sklearn/model_selection/_search.py:929: RuntimeWarning:\n",
      "\n",
      "invalid value encountered in subtract\n",
      "\n"
     ]
    }
   ],
   "source": [
    "param_space = {\n",
    "    'kernel': ['gaussian', 'tophat', 'epanechnikov', 'exponential', 'linear', 'cosine'], # Add available kernels\n",
    "    'bandwidth': np.linspace(0.1, 10, 100), # Define Search space for bandwidth parameter\n",
    "}\n",
    "params, kde = hyperopt_by_score(X_train_rescaled, param_space)"
   ]
  },
  {
   "cell_type": "code",
   "execution_count": 15,
   "id": "c6217804",
   "metadata": {},
   "outputs": [
    {
     "name": "stdout",
     "output_type": "stream",
     "text": [
      "Best parameters:\n",
      "kernel: linear\n",
      "bandwidth: 0.5\n"
     ]
    },
    {
     "data": {
      "image/png": "[encoded data removed]",
      "text/plain": [
       "<Figure size 720x360 with 2 Axes>"
      ]
     },
     "metadata": {
      "needs_background": "light"
     },
     "output_type": "display_data"
    }
   ],
   "source": [
    "print('Best parameters:')\n",
    "for key in params:\n",
    "    print('{}: {}'.format(key, params[key]))\n",
    "\n",
    "X_test_rescaled = scaler.transform(X_test)\n",
    "test_scores = -kde.score_samples(X_test_rescaled)\n",
    "test_scores = np.where(test_scores == np.inf, np.max(test_scores[np.isfinite(test_scores)])+1, test_scores)\n",
    "curves = evaluate(y_test, test_scores)"
   ]
  },
  {
   "cell_type": "markdown",
   "id": "ad2238bb",
   "metadata": {
    "slideshow": {
     "slide_type": "subslide"
    }
   },
   "source": [
    "## The Curse of Dimensionality\n",
    "The flexibility of KDE comes at a price. The dependency on the dimensionality of the data is quite unfavorable.\n",
    "\n",
    "---\n",
    "*Theorem* [Stone, 1982]\n",
    "Any estimator that is consistent$^*$ with the class of all $k$-fold differentiable pdfs over $\\mathbb{R}^d$ has a\n",
    "convergence rate of at most\n",
    "\n",
    "$$\n",
    "\\frac{1}{n^{\\frac{k}{2k+d}}}\n",
    "$$\n",
    "\n",
    "\n",
    "---\n",
    "\n",
    "$^*$Consistency = for all pdfs $p$ in the class: $\\lim_{n\\to\\infty}|KDE_h(x, D) - p(x)|_\\infty = 0$ with probability $1$."
   ]
  },
  {
   "cell_type": "markdown",
   "id": "65268b84",
   "metadata": {
    "slideshow": {
     "slide_type": "subslide"
    }
   },
   "source": [
    "# Exercise\n",
    "- The very slow convergence in high dimensions does not necessarily mean that we will see bad results in   high dimensional anomaly detection with KDE.\n",
    "- Especially if the anomalies are very outlying.\n",
    "- However, in cases where contours of the nominal distribution is non-convex we can run into problems.\n",
    "\n",
    "We take a look at a higher dimensional version of out previous data set."
   ]
  },
  {
   "cell_type": "code",
   "execution_count": 109,
   "id": "75d8b1a5",
   "metadata": {
    "pycharm": {
     "name": "#%%\n"
    },
    "slideshow": {
     "slide_type": "skip"
    }
   },
   "outputs": [],
   "source": [
    "dists = create_distributions(dim=3)\n",
    "\n",
    "distribution_with_anomalies = contamination(\n",
    "    nominal=dists['Sinusoidal'],\n",
    "    anomaly=dists['Blob'],\n",
    "    p=0.01\n",
    ")\n",
    "\n",
    "sample = distribution_with_anomalies.sample(500)\n",
    "\n",
    "y = sample[0]\n",
    "X = sample[-1]"
   ]
  },
  {
   "cell_type": "code",
   "execution_count": 112,
   "id": "44acf871",
   "metadata": {},
   "outputs": [
    {
     "data": {
      "application/vnd.plotly.v1+json": {
       "config": {
        "plotlyServerURL": "https://plot.ly"
       },
       "data": [
        {
         "hovertemplate": "x=%{x}<br>y=%{y}<br>z=%{z}<br>color=%{marker.color}<extra></extra>",
         "legendgroup": "",
         "marker": {
          "color": [
           0,
           0,
           0,
           0,
           0,
           0,
           0,
           0,
           0,
           0,
           0,
           0,
           0,
           0,
           0,
           0,
           0,
           0,
           0,
           0,
           0,
           0,
           0,
           0,
           1,
           0,
           0,
           0,
           0,
           0,
           0,
           0,
           0,
           0,
           0,
           0,
           0,
           0,
           0,
           0,
           0,
           0,
           1,
           0,
           0,
           0,
           0,
           0,
           0,
           0,
           0,
           0,
           0,
           0,
           0,
           0,
           0,
           0,
           0,
           0,
           0,
           0,
           0,
           0,
           0,
           0,
           0,
           0,
           0,
           0,
           0,
           0,
           0,
           0,
           0,
           0,
           0,
           0,
           0,
           0,
           0,
           0,
           0,
           0,
           0,
           0,
           0,
           0,
           0,
           0,
           0,
           0,
           0,
           0,
           0,
           0,
           0,
           0,
           0,
           0,
           0,
           0,
           0,
           0,
           0,
           0,
           0,
           0,
           0,
           0,
           0,
           0,
           0,
           0,
           0,
           0,
           0,
           0,
           1,
           0,
           0,
           0,
           0,
           0,
           0,
           0,
           0,
           0,
           0,
           0,
           0,
           0,
           0,
           0,
           0,
           0,
           0,
           0,
           0,
           0,
           0,
           0,
           0,
           0,
           0,
           0,
           0,
           0,
           0,
           0,
           0,
           0,
           1,
           0,
           0,
           0,
           0,
           0,
           0,
           0,
           0,
           0,
           0,
           0,
           0,
           0,
           0,
           0,
           0,
           0,
           0,
           0,
           0,
           0,
           0,
           0,
           0,
           0,
           0,
           0,
           0,
           0,
           0,
           0,
           0,
           0,
           0,
           0,
           0,
           0,
           0,
           0,
           0,
           0,
           0,
           0,
           0,
           0,
           0,
           0,
           0,
           0,
           0,
           0,
           1,
           0,
           0,
           0,
           0,
           0,
           0,
           0,
           0,
           0,
           0,
           0,
           0,
           0,
           0,
           0,
           0,
           0,
           0,
           0,
           0,
           0,
           0,
           0,
           0,
           0,
           0,
           0,
           0,
           0,
           0,
           0,
           0,
           0,
           0,
           0,
           0,
           0,
           0,
           0,
           0,
           0,
           0,
           0,
           0,
           0,
           0,
           0,
           0,
           0,
           0,
           0,
           1,
           0,
           0,
           0,
           0,
           0,
           0,
           0,
           0,
           0,
           0,
           0,
           0,
           0,
           0,
           0,
           0,
           0,
           0,
           0,
           0,
           0,
           0,
           0,
           0,
           0,
           0,
           0,
           0,
           0,
           0,
           0,
           0,
           0,
           0,
           0,
           0,
           0,
           0,
           0,
           0,
           0,
           0,
           0,
           0,
           0,
           0,
           0,
           0,
           0,
           0,
           0,
           0,
           0,
           0,
           0,
           0,
           0,
           0,
           0,
           0,
           0,
           0,
           0,
           0,
           0,
           0,
           0,
           0,
           0,
           0,
           0,
           0,
           0,
           0,
           0,
           0,
           0,
           0,
           0,
           0,
           0,
           0,
           0,
           0,
           0,
           0,
           0,
           0,
           0,
           0,
           0,
           0,
           0,
           0,
           0,
           0,
           0,
           0,
           0,
           0,
           0,
           0,
           0,
           0,
           0,
           0,
           0,
           0,
           0,
           0,
           1,
           0,
           0,
           0,
           0,
           0,
           0,
           0,
           0,
           0,
           0,
           0,
           0,
           0,
           0,
           0,
           0,
           0,
           0,
           0,
           0,
           0,
           0,
           0,
           0,
           0,
           0,
           0,
           0,
           0,
           0,
           0,
           0,
           0,
           0,
           0,
           0,
           0,
           0,
           0,
           0,
           0,
           0,
           0,
           0,
           0,
           0,
           0,
           0,
           0,
           0,
           0,
           0,
           0,
           0,
           0,
           0,
           0,
           0,
           0,
           0,
           0,
           0,
           0,
           0,
           0,
           0,
           0,
           0,
           0,
           0,
           0,
           0,
           0,
           0,
           0,
           0,
           0,
           0,
           0,
           0,
           0,
           0,
           0,
           0,
           0,
           0,
           0,
           0,
           0,
           0,
           0,
           0,
           0,
           0,
           0,
           0,
           0,
           0,
           0,
           0,
           0,
           0,
           0,
           0,
           0,
           0,
           0,
           0,
           0,
           0,
           0,
           0,
           0,
           0,
           0,
           0,
           0,
           0,
           0,
           0,
           0,
           0,
           0,
           0,
           0,
           0,
           0,
           0,
           0,
           0,
           0,
           0
          ],
          "coloraxis": "coloraxis",
          "symbol": "circle"
         },
         "mode": "markers",
         "name": "",
         "scene": "scene",
         "showlegend": false,
         "type": "scatter3d",
         "x": [
          6.08428430557251,
          1.089343786239624,
          1.6570346355438232,
          3.3105132579803467,
          1.581468105316162,
          5.223471641540527,
          0.04123038053512573,
          5.930841445922852,
          5.292742729187012,
          0.2630494236946106,
          -3.44587779045105,
          6.299516677856445,
          -4.754034519195557,
          1.726635456085205,
          -2.197284698486328,
          5.0535197257995605,
          -3.9360039234161377,
          -4.156684398651123,
          1.8428410291671753,
          2.0677473545074463,
          2.913334608078003,
          -5.113906383514404,
          -2.0375518798828125,
          -7.204568862915039,
          0.18703625377398972,
          3.2585229873657227,
          6.562609672546387,
          6.760760307312012,
          4.112199306488037,
          -2.7182767391204834,
          6.056865692138672,
          5.127399444580078,
          0.3756088614463806,
          4.494687080383301,
          4.551791667938232,
          6.042419910430908,
          5.889473915100098,
          2.2068400382995605,
          4.103577136993408,
          -6.825268268585205,
          -0.5236009359359741,
          0.886710524559021,
          -0.1529247621512149,
          4.227924346923828,
          0.5716044902801514,
          0.5513044595718384,
          -5.143824577331543,
          2.155979871749878,
          4.519631385803223,
          6.767617702484131,
          1.6297379732131958,
          -0.8481980562210083,
          3.7954142093658447,
          -5.78414249420166,
          -4.006309986114502,
          3.378185987472534,
          -6.178699970245361,
          5.554046154022217,
          -1.584540605545044,
          4.263900279998779,
          -5.71647310256958,
          -3.223839282989502,
          -2.372781753540039,
          -4.903697967529297,
          3.9838740825653076,
          3.0527615547180176,
          3.521528959274292,
          -2.0351505279541016,
          -3.9033994674682617,
          -5.739557266235352,
          -0.054427117109298706,
          4.38148307800293,
          -2.7904443740844727,
          -1.1784389019012451,
          -6.480181694030762,
          -2.79508638381958,
          -3.39646577835083,
          1.105520248413086,
          -3.434818744659424,
          -0.318786084651947,
          1.4338353872299194,
          5.885439872741699,
          -1.6191357374191284,
          -3.059185266494751,
          5.088619232177734,
          -0.6030622124671936,
          0.7608492970466614,
          -4.243797302246094,
          3.9520609378814697,
          -4.461146831512451,
          -1.7735451459884644,
          -2.189096689224243,
          0.7838841676712036,
          -5.088820457458496,
          -0.834687352180481,
          -2.5091874599456787,
          5.38549280166626,
          2.1610968112945557,
          0.035164039582014084,
          -0.21610930562019348,
          -3.371642827987671,
          -4.8417558670043945,
          -4.515590190887451,
          -3.9886224269866943,
          6.393385887145996,
          -4.507752418518066,
          4.83468770980835,
          0.9968053102493286,
          -1.17607843875885,
          3.2133750915527344,
          -3.0965142250061035,
          4.469167709350586,
          -4.4429497718811035,
          3.557454824447632,
          -3.2022180557250977,
          -5.302013874053955,
          -3.5947000980377197,
          -2.689303159713745,
          -0.4233674863448351,
          -1.0840197801589966,
          5.5697197914123535,
          -3.486189603805542,
          -6.12971830368042,
          -3.16428542137146,
          3.4668850898742676,
          -5.037161827087402,
          4.675302505493164,
          2.349966526031494,
          -4.4002861976623535,
          -2.97147798538208,
          -3.537651300430298,
          0.6586536765098572,
          -3.9138545989990234,
          -6.767548561096191,
          2.124397039413452,
          -2.3247873783111572,
          2.1871938705444336,
          -5.428380966186523,
          6.343058109283447,
          4.165270805358887,
          -1.8260948657989502,
          4.43317174911499,
          3.4370312690734863,
          -1.90436589717865,
          -1.8886339664459229,
          4.703641891479492,
          -3.8823461532592773,
          -3.299260377883911,
          -1.2949615716934204,
          -0.7253495454788208,
          1.6421966552734375,
          2.5770506858825684,
          -0.791891202526133,
          1.7419517040252686,
          4.567408561706543,
          -6.68607234954834,
          0.624772310256958,
          -3.828305721282959,
          4.053171634674072,
          -5.283421039581299,
          -2.2143945693969727,
          4.6611528396606445,
          0.28061872720718384,
          5.7433390617370605,
          2.580842971801758,
          -2.500915050506592,
          -3.6751859188079834,
          4.583487510681152,
          6.069944381713867,
          5.542611122131348,
          -5.441271781921387,
          6.307841777801514,
          2.486072301864624,
          -8.142386436462402,
          -4.640934944152832,
          0.3130732774734497,
          3.9937078952789307,
          4.920884132385254,
          6.021369457244873,
          2.0050048828125,
          -5.884875774383545,
          5.882534503936768,
          1.8835638761520386,
          4.934942722320557,
          -1.8002374172210693,
          -4.499446868896484,
          3.168116569519043,
          0.880174458026886,
          -2.35672926902771,
          1.362499475479126,
          -2.636711835861206,
          1.2392518520355225,
          -5.203888416290283,
          4.3537678718566895,
          -3.6320390701293945,
          3.808345317840576,
          -3.0960569381713867,
          -6.032106876373291,
          -4.855855941772461,
          -0.7491834163665771,
          6.49249267578125,
          -3.8714826107025146,
          3.143540859222412,
          0.5365855693817139,
          -0.64605081706349,
          -0.376495897769928,
          5.505054950714111,
          1.2151474952697754,
          6.240724086761475,
          0.46697425842285156,
          -5.815215110778809,
          -1.796880841255188,
          0.3335559368133545,
          4.3652238845825195,
          -3.54384446144104,
          -3.157003402709961,
          -6.991944313049316,
          2.533783197402954,
          1.7977535724639893,
          -5.4694695472717285,
          -2.510197639465332,
          -6.041010856628418,
          -4.646843433380127,
          -0.25912654399871826,
          3.2994778156280518,
          3.636418104171753,
          -2.675459146499634,
          3.368614673614502,
          5.694871425628662,
          4.735814571380615,
          -2.6726841926574707,
          1.863044261932373,
          -4.316558837890625,
          -1.4086099863052368,
          5.11683988571167,
          -2.1651368141174316,
          0.7768644094467163,
          -6.388100624084473,
          -0.6557072997093201,
          -2.1847755908966064,
          4.523680686950684,
          -0.6191938519477844,
          2.0880510807037354,
          3.615842342376709,
          2.9723966121673584,
          3.752809762954712,
          -5.219491958618164,
          2.917367696762085,
          -2.483168840408325,
          0.888563334941864,
          -5.268476963043213,
          -6.06826114654541,
          5.723732948303223,
          4.3889899253845215,
          -4.744295597076416,
          -4.146186828613281,
          -0.12788948210156234,
          -3.6462953090667725,
          -3.5157623291015625,
          5.1272196769714355,
          -2.896017551422119,
          4.987573623657227,
          -1.6049375534057617,
          2.860114574432373,
          0.9035876989364624,
          -4.590680122375488,
          4.91191291809082,
          0.18388400971889496,
          -5.416692733764648,
          6.856770992279053,
          0.129064679145813,
          -0.9677024483680725,
          0.9769846200942993,
          -1.9132286310195923,
          -4.942539215087891,
          1.7144345045089722,
          0.5294751524925232,
          0.6620937585830688,
          -0.07193958759307861,
          -1.2087059020996094,
          -5.395505428314209,
          -2.614992380142212,
          1.9934173822402954,
          -4.985794544219971,
          4.392523765563965,
          -1.1620352268218994,
          1.1480982303619385,
          -0.8994677066802979,
          -4.669013023376465,
          5.893263816833496,
          -2.7727251052856445,
          0.7596938014030457,
          0.743843674659729,
          -1.4444591999053955,
          2.3985390663146973,
          -3.4084770679473877,
          3.7163050174713135,
          6.101630210876465,
          -0.7415946125984192,
          -2.2727437019348145,
          -4.193268299102783,
          -4.638617515563965,
          1.6715742349624634,
          3.770890712738037,
          -4.998903274536133,
          4.794463634490967,
          0.5843657851219177,
          -4.32212495803833,
          4.149417877197266,
          -6.159156322479248,
          6.186873912811279,
          5.957029342651367,
          -3.7977826595306396,
          -5.629674911499023,
          2.6794843673706055,
          -1.7524181604385376,
          6.132291793823242,
          3.1047959327697754,
          -3.811037302017212,
          0.5898551344871521,
          -5.8460259437561035,
          -5.418094635009766,
          5.8295183181762695,
          -5.701572418212891,
          -5.394600868225098,
          -4.9887471199035645,
          3.0788445472717285,
          2.979809045791626,
          2.0056865215301514,
          2.3291146755218506,
          -5.4390974044799805,
          5.032144546508789,
          -2.4880030155181885,
          4.125295639038086,
          5.67025899887085,
          3.9814281463623047,
          -3.3564441204071045,
          2.8419764041900635,
          -4.808523654937744,
          3.7029428482055664,
          5.637979507446289,
          2.111240863800049,
          0.8670880794525146,
          6.136925220489502,
          0.777192234992981,
          -6.712350368499756,
          -4.016846656799316,
          1.5216760635375977,
          -3.6759533882141113,
          1.5732667446136475,
          2.491492509841919,
          -4.975949764251709,
          -3.2234861850738525,
          -2.2609877586364746,
          5.703394889831543,
          -1.513525128364563,
          1.8166173696517944,
          4.977777004241943,
          -1.2020280361175537,
          6.54126501083374,
          -4.187496662139893,
          -0.777143657207489,
          3.279733896255493,
          -2.4335970878601074,
          4.912280559539795,
          3.6027252674102783,
          2.6260557174682617,
          1.2679165854432601,
          -4.468809127807617,
          0.20627975463867188,
          -3.2255983352661133,
          -4.111894607543945,
          0.361430287361145,
          2.585191249847412,
          0.2764167785644531,
          4.341618061065674,
          -2.6217730045318604,
          5.214846134185791,
          -2.396190643310547,
          3.906794309616089,
          -2.616025447845459,
          4.6276960372924805,
          -2.417713165283203,
          3.7265784740448,
          -2.544797658920288,
          -3.411651849746704,
          -0.16498088836669922,
          1.0309163331985474,
          2.8162832260131836,
          -0.7225632667541504,
          -2.4034221172332764,
          -4.814394474029541,
          1.473461627960205,
          0.396870881319046,
          0.7255045175552368,
          -3.507483959197998,
          0.6988255977630615,
          -0.1410883367061615,
          2.025782823562622,
          6.994502067565918,
          0.9102325439453125,
          6.233768463134766,
          3.2390780448913574,
          6.022190570831299,
          -4.497579574584961,
          -5.675135612487793,
          -2.440594434738159,
          5.698333263397217,
          1.2060041427612305,
          0.4109646677970886,
          -5.02323579788208,
          -0.8777492046356201,
          -1.4303786754608154,
          -1.5061898231506348,
          -3.0590438842773438,
          4.529689311981201,
          -3.313243865966797,
          6.467061996459961,
          5.509969234466553,
          3.8399343490600586,
          -5.179912567138672,
          5.381053924560547,
          -3.485248565673828,
          -5.189084529876709,
          4.773482322692871,
          2.17006254196167,
          1.0640335083007812,
          -1.4050931930541992,
          -2.144254446029663,
          -5.319672584533691,
          -5.475596904754639,
          -1.5914099216461182,
          5.702542781829834,
          2.688015937805176,
          -4.026060104370117,
          -4.528780937194824,
          4.068868160247803,
          -4.018760681152344,
          4.28452730178833,
          -3.590562582015991,
          3.0765442848205566,
          5.346615791320801,
          1.114429235458374,
          1.8414454460144043,
          3.4210410118103027,
          -3.7153820991516113,
          4.485322952270508,
          5.582108497619629,
          -4.864355087280273,
          5.681568145751953,
          0.15673236548900604,
          -3.3863306045532227,
          4.2521891593933105,
          -3.289280652999878,
          2.801295757293701,
          0.28092020750045776,
          2.443969488143921,
          -3.9973902702331543,
          -0.07233509421348572,
          5.789389610290527,
          -2.773106813430786,
          2.5640933513641357,
          -3.526581048965454,
          5.852021217346191,
          -5.365547180175781,
          -3.7221555709838867,
          1.4332075119018555,
          2.1780800819396973,
          -3.563418388366699,
          -4.308510780334473,
          2.1873555183410645,
          -6.0628461837768555,
          -2.1833019256591797,
          3.6304187774658203,
          -3.0198400020599365,
          0.37206965684890747,
          3.789654493331909,
          -5.610532760620117,
          -0.7179470658302307,
          -0.24789391458034515,
          0.8078478574752808,
          1.0480341911315918,
          -3.4277753829956055,
          1.228205919265747,
          -4.1765031814575195,
          -1.3038028478622437,
          -0.5751709938049316,
          -1.3867945671081543,
          -5.760700225830078,
          0.23790127038955688,
          -4.451611042022705,
          3.5141422748565674,
          -4.306687831878662,
          -3.5303122997283936,
          3.1966285705566406,
          -5.515441417694092,
          -1.5848444700241089,
          -6.332035064697266,
          1.653275728225708,
          -0.1949009895324707
         ],
         "y": [
          0.6596047878265381,
          -5.7222747802734375,
          4.915790557861328,
          0.6155080795288086,
          5.048868179321289,
          -5.347757816314697,
          -0.4434264898300171,
          -2.692592144012451,
          -0.7251967191696167,
          -5.491705417633057,
          0.4435406029224396,
          4.633269786834717,
          5.7880539894104,
          -2.230053424835205,
          0.20769952237606049,
          1.2405370473861694,
          2.489396572113037,
          5.6252827644348145,
          5.5738654136657715,
          7.273832321166992,
          6.030397891998291,
          -2.4469449520111084,
          0.016279906034469604,
          3.2970664501190186,
          -0.9914532353913624,
          4.335116386413574,
          -0.5814948678016663,
          -5.259881496429443,
          -6.38408088684082,
          -0.3468703031539917,
          0.6192282438278198,
          3.527343511581421,
          3.4116017818450928,
          -6.103959560394287,
          6.469462871551514,
          0.5848255157470703,
          2.261584520339966,
          -2.718187093734741,
          4.528936862945557,
          -3.2044754028320312,
          4.5233845710754395,
          -5.403012752532959,
          0.9152137472559698,
          -4.41033411026001,
          1.542315125465393,
          4.374978542327881,
          1.4501628875732422,
          -3.0599076747894287,
          -5.381113052368164,
          5.526104927062988,
          3.281719207763672,
          2.1659140586853027,
          -3.1298418045043945,
          0.43861377239227295,
          -6.4741339683532715,
          -5.9925971031188965,
          -3.4776611328125,
          4.772524356842041,
          4.463070392608643,
          -1.8087151050567627,
          -4.508953094482422,
          -3.0728349685668945,
          3.5565054416656494,
          3.7516565322875977,
          -2.75933837890625,
          2.7842330932617188,
          1.9836852550506592,
          5.8845367431640625,
          -1.7153760194778442,
          -0.23169124126434326,
          -4.188981056213379,
          5.732614040374756,
          -5.34837007522583,
          -0.7748218774795532,
          5.017453193664551,
          3.8182289600372314,
          -0.17024481296539307,
          2.7393200397491455,
          5.57924222946167,
          3.692453384399414,
          -2.0753326416015625,
          3.558673620223999,
          4.357830047607422,
          -0.4030262231826782,
          5.443873405456543,
          -0.8550795912742615,
          -4.320960998535156,
          0.7397944927215576,
          -2.552827835083008,
          -3.124603033065796,
          -1.2538954019546509,
          4.368797779083252,
          4.193436622619629,
          -2.9361796379089355,
          3.7319223880767822,
          5.366732597351074,
          -4.976418495178223,
          4.812954425811768,
          5.962377548217773,
          -0.0365450382232666,
          4.834059715270996,
          -6.338775634765625,
          -2.237628936767578,
          4.641247749328613,
          5.044737815856934,
          4.602412223815918,
          -0.4869362711906433,
          -2.5611467361450195,
          2.432251453399658,
          0.5300064086914062,
          0.79590904712677,
          0.49245232343673706,
          -4.504110336303711,
          -5.722408771514893,
          0.7245424389839172,
          -0.44507384300231934,
          4.883156776428223,
          -5.366674423217773,
          0.7335485558638337,
          5.123350620269775,
          1.6390777826309204,
          -4.941669464111328,
          -3.1239097118377686,
          -4.8155717849731445,
          0.8850743174552917,
          3.030059576034546,
          -0.9539632797241211,
          -0.5807002782821655,
          -4.781299114227295,
          3.7700142860412598,
          1.7649126052856445,
          0.8104398250579834,
          0.7519350051879883,
          -0.6366451978683472,
          1.939546823501587,
          -2.6203629970550537,
          -6.620114803314209,
          2.3135225772857666,
          2.427924871444702,
          -2.4822511672973633,
          -4.125999450683594,
          -2.081580877304077,
          -6.502613067626953,
          -2.8051466941833496,
          1.9633146524429321,
          5.07930850982666,
          5.3563618659973145,
          1.7992846965789795,
          -0.023412659764289856,
          3.0984530448913574,
          -4.351899147033691,
          3.128988027572632,
          -0.3923248920905329,
          0.041123777627944946,
          -4.878348350524902,
          3.342451333999634,
          -5.279422760009766,
          1.4682765007019043,
          -3.364269971847534,
          2.651433229446411,
          -2.898888111114502,
          -0.7996422052383423,
          -5.851093769073486,
          0.8930532932281494,
          -4.6205735206604,
          4.0427680015563965,
          -5.781989574432373,
          2.737748622894287,
          -5.7287797927856445,
          4.818723201751709,
          1.662316918373108,
          -1.2425594329833984,
          4.78245735168457,
          6.181155204772949,
          -3.2090566158294678,
          0.3413645029067993,
          -2.1027982234954834,
          -3.784881830215454,
          -4.210434913635254,
          -3.5674123764038086,
          -3.830822229385376,
          3.3555150032043457,
          -3.271397113800049,
          3.20320725440979,
          5.789234161376953,
          -4.169665336608887,
          2.1110177040100098,
          3.397425889968872,
          0.9515352845191956,
          -4.485039710998535,
          4.3360915184021,
          -6.216188430786133,
          3.5441741943359375,
          -5.376257419586182,
          -4.529788494110107,
          4.40528678894043,
          -2.3737118244171143,
          -0.1567613184452057,
          6.193378925323486,
          -3.993638753890991,
          1.9024032354354858,
          5.85192346572876,
          -0.626334547996521,
          4.110002040863037,
          -0.9282306685020575,
          -4.530519008636475,
          -3.587923526763916,
          0.7907379865646362,
          -1.2635343074798584,
          -0.26331689953804016,
          3.1445696353912354,
          3.2452831268310547,
          4.144436359405518,
          -0.9935920834541321,
          1.2924771308898926,
          -6.464086532592773,
          -3.467674732208252,
          -1.2331504821777344,
          1.9718079566955566,
          -1.9176369905471802,
          -1.116832971572876,
          -2.253436803817749,
          3.507261276245117,
          1.6388200521469116,
          1.1537648439407349,
          3.4633028507232666,
          -2.364712953567505,
          4.605544567108154,
          -1.4449167251586914,
          -0.4573448896408081,
          -3.4962868690490723,
          1.0192919969558716,
          -1.5903712511062622,
          2.9835779666900635,
          3.1789498329162598,
          5.503706932067871,
          -4.183286190032959,
          3.4915225505828857,
          -4.139294624328613,
          -3.189859628677368,
          -1.7532297372817993,
          0.8467180728912354,
          -1.8295936584472656,
          -3.293775796890259,
          -1.5250030755996704,
          -1.549877405166626,
          3.9671823978424072,
          5.173901557922363,
          1.3090064525604248,
          2.1687684059143066,
          1.6783421039581299,
          -1.94459068775177,
          5.863868236541748,
          5.706576824188232,
          1.541852593421936,
          1.2018550634384155,
          -1.191788712227576,
          5.733005046844482,
          -4.602754592895508,
          5.188232898712158,
          -4.9974236488342285,
          -2.9843761920928955,
          4.205164432525635,
          -4.0040812492370605,
          3.6871933937072754,
          -6.100124359130859,
          4.420374870300293,
          -5.844030857086182,
          0.5583969354629517,
          -1.9162002801895142,
          3.0150887966156006,
          -2.8330953121185303,
          3.236145496368408,
          -0.3353492021560669,
          3.6032161712646484,
          -0.47963839769363403,
          -1.9430928230285645,
          -2.774946689605713,
          -6.710865020751953,
          -0.1275915652513504,
          2.334625244140625,
          -6.782289981842041,
          2.5533108711242676,
          2.204031467437744,
          -1.390286922454834,
          -1.0692535638809204,
          -1.5091884136199951,
          -2.810326337814331,
          3.8924975395202637,
          5.4905195236206055,
          -3.6751935482025146,
          3.6551401615142822,
          -5.88478422164917,
          -2.527116298675537,
          0.41037386655807495,
          -0.6463924646377563,
          -0.07223990559577942,
          -1.9397006034851074,
          -4.754151344299316,
          -4.519783020019531,
          -2.543426752090454,
          2.176884174346924,
          1.188136339187622,
          -0.46678805351257324,
          -4.788303852081299,
          -2.9398460388183594,
          -2.115601062774658,
          -0.8545167446136475,
          0.4523288607597351,
          -2.0178990364074707,
          -3.4249730110168457,
          -4.1477952003479,
          -1.221648097038269,
          -4.054955005645752,
          -5.220098495483398,
          3.81890869140625,
          -4.345431327819824,
          -3.083828926086426,
          1.6322875022888184,
          -5.870963096618652,
          4.351519584655762,
          4.652390003204346,
          -3.0872676372528076,
          1.4029717445373535,
          -0.9486078023910522,
          -5.95504093170166,
          -0.9679644107818604,
          -1.7149382829666138,
          1.3389033079147339,
          -1.6740882396697998,
          -3.7311108112335205,
          -5.893279075622559,
          -4.617160797119141,
          5.075716495513916,
          -3.004469633102417,
          -2.88417649269104,
          -3.243975877761841,
          -2.687469482421875,
          -3.555663824081421,
          -1.01639723777771,
          -2.001682758331299,
          -2.037543535232544,
          -2.9359450340270996,
          -2.5117812156677246,
          -2.3739702701568604,
          -4.081943035125732,
          -2.6289286613464355,
          -5.114851474761963,
          2.0229384899139404,
          -6.582880020141602,
          -4.553165912628174,
          -3.844768762588501,
          3.715186595916748,
          5.015190124511719,
          2.426769256591797,
          -5.024999141693115,
          3.897890329360962,
          -1.4823654890060425,
          2.6485819816589355,
          -0.036009564995765686,
          -2.9074206352233887,
          3.7268261909484863,
          -5.458897590637207,
          -3.7052395343780518,
          1.518484115600586,
          0.32210028171539307,
          2.1329853534698486,
          -0.30830097985987204,
          -4.5977559089660645,
          -2.3768935203552246,
          4.5671820640563965,
          -6.381403923034668,
          6.510432720184326,
          -1.1255226135253906,
          -0.37277063727378845,
          1.3653805255889893,
          -2.327073812484741,
          4.712399959564209,
          -1.2470239400863647,
          -1.8257426023483276,
          -0.4543038010597229,
          1.9956635236740112,
          4.473597526550293,
          -2.621278762817383,
          -3.158630847930908,
          4.227017879486084,
          -3.562309741973877,
          5.780379295349121,
          -2.2017483711242676,
          -4.668102264404297,
          -2.8065879344940186,
          -0.10971590876579285,
          0.41788631677627563,
          -4.208209991455078,
          -5.023429870605469,
          1.7580145597457886,
          0.4778074324131012,
          -2.8535494804382324,
          -5.410202503204346,
          -4.240372657775879,
          -3.27138614654541,
          3.0968637466430664,
          -1.6069504022598267,
          6.308528900146484,
          -2.4284327030181885,
          5.694775581359863,
          4.871560096740723,
          1.2387089729309082,
          6.619187355041504,
          -0.9627075791358948,
          -2.2798314094543457,
          -1.9725902080535889,
          -3.0525670051574707,
          3.5730180740356445,
          3.0401508808135986,
          -1.1307520866394043,
          0.8614205121994019,
          1.7151145935058594,
          -3.9214577674865723,
          -2.0791449546813965,
          4.304876327514648,
          2.6696014404296875,
          3.6723482608795166,
          -2.183079719543457,
          3.294389247894287,
          0.5764150023460388,
          4.28541374206543,
          -3.223595142364502,
          1.9640812873840332,
          6.663922309875488,
          1.4319255352020264,
          -3.2056331634521484,
          -3.7972500324249268,
          1.4544157981872559,
          2.110826015472412,
          4.195570468902588,
          3.1365580558776855,
          3.472343921661377,
          4.572488784790039,
          3.4956955909729004,
          -0.0569421648979187,
          1.327451229095459,
          3.2012815475463867,
          -0.059100955724716187,
          -0.9682319760322571,
          -0.19171029329299927,
          -0.6974579691886902,
          -4.820847988128662,
          -1.659861445426941,
          -1.577470302581787,
          -1.3122003078460693,
          -0.9675207138061523,
          0.9888137578964233,
          -3.1836395263671875,
          5.459705829620361,
          -1.4706534147262573,
          -5.2971906661987305,
          -2.9679758548736572,
          5.629897117614746,
          -5.121205806732178,
          6.366178512573242,
          0.9941903352737427,
          1.7810382843017578,
          -5.116729259490967,
          -1.172239065170288,
          1.5289722681045532,
          7.320261478424072,
          -2.9696948528289795,
          -1.7302193641662598,
          -4.691577911376953,
          -1.0236183404922485,
          3.4029605388641357,
          -4.988680362701416,
          4.129064083099365,
          -5.221476078033447,
          -0.9129314422607422,
          5.034849166870117,
          -0.7763253450393677,
          -5.2663750648498535,
          -4.711525917053223,
          -5.626829624176025,
          -5.253547191619873,
          0.7433122396469116,
          0.19492149353027344,
          -0.2319318950176239,
          -2.3608765602111816,
          -5.826732158660889,
          4.692812919616699,
          -5.286781311035156,
          1.9329839944839478,
          -5.444385528564453,
          -0.4513011574745178,
          -0.15031632781028748,
          -6.294656276702881,
          -1.5365209579467773,
          -4.881700038909912,
          2.137417793273926,
          -3.4165220260620117,
          5.334461212158203,
          2.019071102142334
         ],
         "z": [
          2.216841697692871,
          2.1166110038757324,
          0.7436935901641846,
          -2.0183823108673096,
          1.104074239730835,
          0.8127429485321045,
          2.1126999855041504,
          1.5862882137298584,
          2.0225698947906494,
          1.2999494075775146,
          -1.9273751974105835,
          1.8355977535247803,
          0.11950916051864624,
          -1.288677453994751,
          -1.9769089221954346,
          -0.32043832540512085,
          1.5628604888916016,
          2.5398826599121094,
          2.5102267265319824,
          1.9898043870925903,
          1.8465688228607178,
          1.6581132411956787,
          -1.101536512374878,
          1.8563082218170166,
          -0.8509398683911615,
          0.07164310663938522,
          1.6216919422149658,
          -0.5953733921051025,
          0.09869515895843506,
          -2.380629539489746,
          1.8276255130767822,
          1.6153016090393066,
          -2.6461241245269775,
          -0.07434600591659546,
          0.4461352527141571,
          1.6034795045852661,
          2.4393205642700195,
          -1.9906693696975708,
          1.5931591987609863,
          1.7860872745513916,
          1.0057992935180664,
          1.0011796951293945,
          -2.2414899468433442,
          2.142646551132202,
          -0.34385308623313904,
          0.12932252883911133,
          1.0246732234954834,
          -2.138108015060425,
          0.40475112199783325,
          -2.357485771179199,
          -0.8645045161247253,
          -0.7098413705825806,
          2.204218626022339,
          2.520047187805176,
          2.093076705932617,
          1.8667309284210205,
          1.5514954328536987,
          2.215376615524292,
          -0.3635004460811615,
          0.24523773789405823,
          1.2573153972625732,
          -0.6354628205299377,
          -1.760542631149292,
          2.333186149597168,
          0.5804603695869446,
          -0.814334511756897,
          -1.477768898010254,
          1.3335027694702148,
          0.14944224059581757,
          0.9771166443824768,
          -1.3976550102233887,
          0.8129902482032776,
          2.346830129623413,
          -0.9668879508972168,
          -1.6064987182617188,
          -0.13664305210113525,
          -1.4297915697097778,
          -2.2791945934295654,
          1.3359010219573975,
          -1.2526764869689941,
          -1.0689442157745361,
          1.5581843852996826,
          0.4370875358581543,
          -1.8332732915878296,
          1.0774891376495361,
          -0.862629771232605,
          -1.4555296897888184,
          -0.436020165681839,
          0.5891538858413696,
          0.6668525338172913,
          -1.4823362827301025,
          0.17116785049438477,
          0.014526963233947754,
          1.3666865825653076,
          1.1377791166305542,
          1.146491527557373,
          -0.025564994663000107,
          0.1914319097995758,
          0.35582053661346436,
          0.9960675239562988,
          0.6946002840995789,
          -1.1999281644821167,
          1.592572569847107,
          1.6077426671981812,
          1.7123339176177979,
          1.5242871046066284,
          -0.023164987564086914,
          -1.4099574089050293,
          -1.6356937885284424,
          -1.5426641702651978,
          -0.9474263191223145,
          1.271538257598877,
          2.3292391300201416,
          1.7415764331817627,
          -1.3343425989151,
          0.7678989768028259,
          1.5304298400878906,
          2.1468687057495117,
          -3.133051427284591,
          0.03975790739059448,
          1.9656344652175903,
          2.9800729751586914,
          2.144582748413086,
          2.512561321258545,
          -1.8046578168869019,
          1.9974075555801392,
          -0.8960189819335938,
          -1.3493300676345825,
          1.0053422451019287,
          -0.22600263357162476,
          0.19846796989440918,
          -1.7858294248580933,
          -0.844391942024231,
          2.0140528678894043,
          -1.7356584072113037,
          -0.8633871674537659,
          1.860135793685913,
          2.3646926879882812,
          2.3663222789764404,
          0.40416377782821655,
          0.519888162612915,
          -1.1811614036560059,
          1.4462326765060425,
          -2.0041921138763428,
          -1.8594045639038086,
          2.2643964290618896,
          1.8404738903045654,
          -1.7345116138458252,
          0.5926773548126221,
          -1.7886563539505005,
          1.549640417098999,
          -0.30976101756095886,
          -1.8862570078230856,
          -0.10420948266983032,
          1.959834098815918,
          1.3316535949707031,
          0.3806760907173157,
          -0.17932742834091187,
          -0.9928679466247559,
          0.6616811752319336,
          -1.1146436929702759,
          -1.0733429193496704,
          1.9782040119171143,
          2.0693399906158447,
          1.5347222089767456,
          0.3772631883621216,
          2.1464576721191406,
          1.2737518548965454,
          0.32329267263412476,
          0.43245840072631836,
          1.1619281768798828,
          1.0668563842773438,
          1.7481365203857422,
          -1.653899908065796,
          1.0581752061843872,
          -0.3740542531013489,
          -1.30377197265625,
          1.8484034538269043,
          1.4287596940994263,
          -1.6837201118469238,
          2.096593141555786,
          2.1488149166107178,
          -2.0469613075256348,
          0.1670629382133484,
          2.039933919906616,
          1.7164952754974365,
          -0.5966876745223999,
          -1.983249545097351,
          -2.2421646118164062,
          0.12653478980064392,
          -1.2581946849822998,
          1.4790838956832886,
          1.3109335899353027,
          1.570560336112976,
          0.645214319229126,
          2.188020706176758,
          -0.9059414267539978,
          2.639216661453247,
          1.0576376914978027,
          -2.4326131343841553,
          2.677934408187866,
          1.2767212390899658,
          -2.357025384902954,
          -0.060610681772232056,
          -1.249640407741747,
          -0.40133070945739746,
          2.5051345825195312,
          -0.32661664485931396,
          2.0369677543640137,
          1.4868510961532593,
          1.2303264141082764,
          -1.1944315433502197,
          -0.9773865342140198,
          -0.6950325965881348,
          -1.6999703645706177,
          1.9979217052459717,
          1.0094736814498901,
          -0.8705259561538696,
          -1.630480408668518,
          1.272078037261963,
          -1.9558682441711426,
          1.6504220962524414,
          2.1077492237091064,
          -0.2520180642604828,
          -0.8023750185966492,
          1.2427808046340942,
          -1.9918328523635864,
          2.1177453994750977,
          1.6085820198059082,
          0.6113265752792358,
          0.9528231620788574,
          -0.6269031763076782,
          -0.7965936660766602,
          -1.595703363418579,
          1.0565028190612793,
          2.092471122741699,
          -0.07795187830924988,
          1.6151554584503174,
          -0.6217631101608276,
          -2.1776416301727295,
          0.952789843082428,
          0.1744394600391388,
          -0.5130867958068848,
          -0.922589898109436,
          -1.485140085220337,
          -0.046285152435302734,
          1.6651650667190552,
          1.336172103881836,
          -1.508882999420166,
          -1.173656940460205,
          0.3008940517902374,
          1.0634574890136719,
          0.4390537440776825,
          2.0489025115966797,
          1.1908085346221924,
          0.6245059370994568,
          -2.0183751847251465,
          1.3971428871154785,
          1.9705911874771118,
          0.8295786380767822,
          1.217782974243164,
          1.7925236225128174,
          -1.144845962524414,
          -1.1449611186981201,
          -2.529263973236084,
          0.8910579085350037,
          1.079803466796875,
          1.9367660284042358,
          1.8226478099822998,
          1.7184027433395386,
          -2.303022623062134,
          -1.8289750814437866,
          -1.057939052581787,
          -0.004215717315673828,
          1.8457672595977783,
          -0.15367257595062256,
          -0.07089459896087646,
          -2.801053762435913,
          2.7009966373443604,
          -1.7996816635131836,
          0.9654233455657959,
          1.8004158735275269,
          -2.0089893341064453,
          1.869913101196289,
          1.2630736827850342,
          -1.2733385562896729,
          -1.0122952461242676,
          -1.4749101400375366,
          2.0133392810821533,
          -0.6751642227172852,
          0.36076831817626953,
          -2.120581865310669,
          2.2185351848602295,
          -2.231330156326294,
          -0.6965435743331909,
          -0.804546594619751,
          -1.7665603160858154,
          0.4089404344558716,
          -0.6480206251144409,
          2.0152320861816406,
          0.7506345510482788,
          -0.10309253633022308,
          1.5240018367767334,
          -1.5248081684112549,
          -1.3694376945495605,
          2.826770067214966,
          -1.0734624862670898,
          -1.440342664718628,
          -2.838618516921997,
          1.372233271598816,
          1.8062303066253662,
          1.494913101196289,
          -0.49763715267181396,
          1.4168397188186646,
          1.058370590209961,
          -0.3871316909790039,
          -0.22470712661743164,
          -1.811774730682373,
          -2.5017542839050293,
          0.6291604042053223,
          0.8515132069587708,
          -1.400331735610962,
          1.5196458101272583,
          0.5177428722381592,
          0.2353076934814453,
          0.33411481976509094,
          -1.4965083599090576,
          -0.8788533210754395,
          -1.5739845037460327,
          -1.626420259475708,
          1.8875036239624023,
          0.6371659636497498,
          1.5179916620254517,
          1.545211911201477,
          0.9317265748977661,
          0.030158933252096176,
          0.9576655626296997,
          -1.020311713218689,
          1.0314974784851074,
          -2.4949913024902344,
          1.2029392719268799,
          -0.982053279876709,
          -2.170962333679199,
          1.383906602859497,
          -1.7534276247024536,
          1.802456021308899,
          0.9702644348144531,
          2.341047525405884,
          -0.3330470025539398,
          2.9895520210266113,
          1.4765374660491943,
          1.3102409839630127,
          2.0220820903778076,
          1.5909907817840576,
          1.5875157117843628,
          -0.28360241651535034,
          1.1107933521270752,
          0.08628208190202713,
          -1.8954907655715942,
          0.3511156439781189,
          -0.7586303949356079,
          -1.8883408308029175,
          1.140566110610962,
          0.41532424092292786,
          0.5199796557426453,
          -1.4234174489974976,
          -2.1215615272521973,
          -1.6414836570226121,
          2.319735288619995,
          -2.2975590229034424,
          1.397969365119934,
          0.4231768846511841,
          2.4469313621520996,
          -1.5434534549713135,
          0.9622258543968201,
          2.5822489261627197,
          -2.031226873397827,
          1.7289069890975952,
          -1.2072398662567139,
          -0.6394226551055908,
          -1.8450162410736084,
          0.5600229501724243,
          1.26669442653656,
          -1.374542236328125,
          -1.6428825855255127,
          1.236523151397705,
          -1.9998952150344849,
          3.1213159561157227,
          -2.378628969192505,
          -1.6561338901519775,
          -1.8881183862686157,
          -0.0965554490685463,
          -0.25267544388771057,
          0.18117773532867432,
          0.5666430592536926,
          -1.1060359477996826,
          1.0014029741287231,
          -1.8890529870986938,
          1.9842430353164673,
          -0.3351648151874542,
          -1.7209625244140625,
          1.704495906829834,
          -0.8940827250480652,
          -1.2897828817367554,
          2.0482442378997803,
          1.2387981414794922,
          0.15914654731750488,
          1.6118760108947754,
          1.5960557460784912,
          0.12057176232337952,
          1.1185498237609863,
          -1.0082223415374756,
          -1.4015886783599854,
          -1.3312733173370361,
          0.6905754804611206,
          1.3480420112609863,
          -1.4425318241119385,
          1.6122157573699951,
          2.149477481842041,
          -1.954323172569275,
          2.6224803924560547,
          2.1919667720794678,
          0.5360046625137329,
          1.5500714778900146,
          1.4678657054901123,
          -2.605595350265503,
          -1.0985534191131592,
          -2.0257887840270996,
          -2.105700731277466,
          -0.9035942554473877,
          0.6014649868011475,
          -1.6959819793701172,
          1.403006911277771,
          -1.971646785736084,
          -0.5057219862937927,
          1.653395414352417,
          1.7040252685546875,
          -0.9674191474914551,
          1.42087721824646,
          1.3023662567138672,
          -2.0709569454193115,
          0.9179505109786987,
          -2.9495692253112793,
          1.528403878211975,
          -2.025930643081665,
          -2.6330413818359375,
          1.6169700622558594,
          1.2565059661865234,
          0.11733534932136536,
          2.2228610515594482,
          0.7995243072509766,
          -2.569878339767456,
          -0.4190175235271454,
          2.2643847465515137,
          2.412539482116699,
          -1.2541658878326416,
          1.5626574754714966,
          0.7257022261619568,
          1.2678194046020508,
          0.09628021717071533,
          1.792029619216919,
          -0.5644989013671875,
          0.2161792516708374,
          0.8978737592697144,
          0.7142701148986816,
          -1.9479879140853882,
          1.603028416633606,
          -1.743171215057373,
          -1.834549903869629,
          2.3290674686431885,
          -0.41300341486930847,
          2.621595859527588,
          1.5189807415008545,
          1.2416709661483765,
          2.7920799255371094,
          -0.8015428781509399,
          2.2284128665924072,
          1.1024001836776733,
          1.5729796886444092,
          1.726611852645874,
          0.5669782757759094,
          1.0518896579742432,
          -2.0178608894348145,
          0.21406002342700958,
          -1.3767318725585938,
          -2.5424444675445557,
          -0.42907822132110596,
          1.5152422189712524,
          1.809190273284912,
          -0.7085946798324585,
          1.9703547954559326,
          -2.5733954906463623,
          -0.5286421179771423,
          1.4727743864059448,
          -1.7676993608474731,
          0.07525971531867981,
          -2.331875801086426,
          2.4743528366088867,
          2.466475248336792,
          -1.046248435974121
         ]
        }
       ],
       "layout": {
        "coloraxis": {
         "colorbar": {
          "title": {
           "text": "color"
          }
         },
         "colorscale": [
          [
           0,
           "#0d0887"
          ],
          [
           0.1111111111111111,
           "#46039f"
          ],
          [
           0.2222222222222222,
           "#7201a8"
          ],
          [
           0.3333333333333333,
           "#9c179e"
          ],
          [
           0.4444444444444444,
           "#bd3786"
          ],
          [
           0.5555555555555556,
           "#d8576b"
          ],
          [
           0.6666666666666666,
           "#ed7953"
          ],
          [
           0.7777777777777778,
           "#fb9f3a"
          ],
          [
           0.8888888888888888,
           "#fdca26"
          ],
          [
           1,
           "#f0f921"
          ]
         ]
        },
        "legend": {
         "tracegroupgap": 0
        },
        "margin": {
         "t": 60
        },
        "scene": {
         "domain": {
          "x": [
           0,
           1
          ],
          "y": [
           0,
           1
          ]
         },
         "xaxis": {
          "title": {
           "text": "x"
          }
         },
         "yaxis": {
          "title": {
           "text": "y"
          }
         },
         "zaxis": {
          "title": {
           "text": "z"
          }
         }
        },
        "template": {
         "data": {
          "bar": [
           {
            "error_x": {
             "color": "#2a3f5f"
            },
            "error_y": {
             "color": "#2a3f5f"
            },
            "marker": {
             "line": {
              "color": "#E5ECF6",
              "width": 0.5
             },
             "pattern": {
              "fillmode": "overlay",
              "size": 10,
              "solidity": 0.2
             }
            },
            "type": "bar"
           }
          ],
          "barpolar": [
           {
            "marker": {
             "line": {
              "color": "#E5ECF6",
              "width": 0.5
             },
             "pattern": {
              "fillmode": "overlay",
              "size": 10,
              "solidity": 0.2
             }
            },
            "type": "barpolar"
           }
          ],
          "carpet": [
           {
            "aaxis": {
             "endlinecolor": "#2a3f5f",
             "gridcolor": "white",
             "linecolor": "white",
             "minorgridcolor": "white",
             "startlinecolor": "#2a3f5f"
            },
            "baxis": {
             "endlinecolor": "#2a3f5f",
             "gridcolor": "white",
             "linecolor": "white",
             "minorgridcolor": "white",
             "startlinecolor": "#2a3f5f"
            },
            "type": "carpet"
           }
          ],
          "choropleth": [
           {
            "colorbar": {
             "outlinewidth": 0,
             "ticks": ""
            },
            "type": "choropleth"
           }
          ],
          "contour": [
           {
            "colorbar": {
             "outlinewidth": 0,
             "ticks": ""
            },
            "colorscale": [
             [
              0,
              "#0d0887"
             ],
             [
              0.1111111111111111,
              "#46039f"
             ],
             [
              0.2222222222222222,
              "#7201a8"
             ],
             [
              0.3333333333333333,
              "#9c179e"
             ],
             [
              0.4444444444444444,
              "#bd3786"
             ],
             [
              0.5555555555555556,
              "#d8576b"
             ],
             [
              0.6666666666666666,
              "#ed7953"
             ],
             [
              0.7777777777777778,
              "#fb9f3a"
             ],
             [
              0.8888888888888888,
              "#fdca26"
             ],
             [
              1,
              "#f0f921"
             ]
            ],
            "type": "contour"
           }
          ],
          "contourcarpet": [
           {
            "colorbar": {
             "outlinewidth": 0,
             "ticks": ""
            },
            "type": "contourcarpet"
           }
          ],
          "heatmap": [
           {
            "colorbar": {
             "outlinewidth": 0,
             "ticks": ""
            },
            "colorscale": [
             [
              0,
              "#0d0887"
             ],
             [
              0.1111111111111111,
              "#46039f"
             ],
             [
              0.2222222222222222,
              "#7201a8"
             ],
             [
              0.3333333333333333,
              "#9c179e"
             ],
             [
              0.4444444444444444,
              "#bd3786"
             ],
             [
              0.5555555555555556,
              "#d8576b"
             ],
             [
              0.6666666666666666,
              "#ed7953"
             ],
             [
              0.7777777777777778,
              "#fb9f3a"
             ],
             [
              0.8888888888888888,
              "#fdca26"
             ],
             [
              1,
              "#f0f921"
             ]
            ],
            "type": "heatmap"
           }
          ],
          "heatmapgl": [
           {
            "colorbar": {
             "outlinewidth": 0,
             "ticks": ""
            },
            "colorscale": [
             [
              0,
              "#0d0887"
             ],
             [
              0.1111111111111111,
              "#46039f"
             ],
             [
              0.2222222222222222,
              "#7201a8"
             ],
             [
              0.3333333333333333,
              "#9c179e"
             ],
             [
              0.4444444444444444,
              "#bd3786"
             ],
             [
              0.5555555555555556,
              "#d8576b"
             ],
             [
              0.6666666666666666,
              "#ed7953"
             ],
             [
              0.7777777777777778,
              "#fb9f3a"
             ],
             [
              0.8888888888888888,
              "#fdca26"
             ],
             [
              1,
              "#f0f921"
             ]
            ],
            "type": "heatmapgl"
           }
          ],
          "histogram": [
           {
            "marker": {
             "pattern": {
              "fillmode": "overlay",
              "size": 10,
              "solidity": 0.2
             }
            },
            "type": "histogram"
           }
          ],
          "histogram2d": [
           {
            "colorbar": {
             "outlinewidth": 0,
             "ticks": ""
            },
            "colorscale": [
             [
              0,
              "#0d0887"
             ],
             [
              0.1111111111111111,
              "#46039f"
             ],
             [
              0.2222222222222222,
              "#7201a8"
             ],
             [
              0.3333333333333333,
              "#9c179e"
             ],
             [
              0.4444444444444444,
              "#bd3786"
             ],
             [
              0.5555555555555556,
              "#d8576b"
             ],
             [
              0.6666666666666666,
              "#ed7953"
             ],
             [
              0.7777777777777778,
              "#fb9f3a"
             ],
             [
              0.8888888888888888,
              "#fdca26"
             ],
             [
              1,
              "#f0f921"
             ]
            ],
            "type": "histogram2d"
           }
          ],
          "histogram2dcontour": [
           {
            "colorbar": {
             "outlinewidth": 0,
             "ticks": ""
            },
            "colorscale": [
             [
              0,
              "#0d0887"
             ],
             [
              0.1111111111111111,
              "#46039f"
             ],
             [
              0.2222222222222222,
              "#7201a8"
             ],
             [
              0.3333333333333333,
              "#9c179e"
             ],
             [
              0.4444444444444444,
              "#bd3786"
             ],
             [
              0.5555555555555556,
              "#d8576b"
             ],
             [
              0.6666666666666666,
              "#ed7953"
             ],
             [
              0.7777777777777778,
              "#fb9f3a"
             ],
             [
              0.8888888888888888,
              "#fdca26"
             ],
             [
              1,
              "#f0f921"
             ]
            ],
            "type": "histogram2dcontour"
           }
          ],
          "mesh3d": [
           {
            "colorbar": {
             "outlinewidth": 0,
             "ticks": ""
            },
            "type": "mesh3d"
           }
          ],
          "parcoords": [
           {
            "line": {
             "colorbar": {
              "outlinewidth": 0,
              "ticks": ""
             }
            },
            "type": "parcoords"
           }
          ],
          "pie": [
           {
            "automargin": true,
            "type": "pie"
           }
          ],
          "scatter": [
           {
            "marker": {
             "colorbar": {
              "outlinewidth": 0,
              "ticks": ""
             }
            },
            "type": "scatter"
           }
          ],
          "scatter3d": [
           {
            "line": {
             "colorbar": {
              "outlinewidth": 0,
              "ticks": ""
             }
            },
            "marker": {
             "colorbar": {
              "outlinewidth": 0,
              "ticks": ""
             }
            },
            "type": "scatter3d"
           }
          ],
          "scattercarpet": [
           {
            "marker": {
             "colorbar": {
              "outlinewidth": 0,
              "ticks": ""
             }
            },
            "type": "scattercarpet"
           }
          ],
          "scattergeo": [
           {
            "marker": {
             "colorbar": {
              "outlinewidth": 0,
              "ticks": ""
             }
            },
            "type": "scattergeo"
           }
          ],
          "scattergl": [
           {
            "marker": {
             "colorbar": {
              "outlinewidth": 0,
              "ticks": ""
             }
            },
            "type": "scattergl"
           }
          ],
          "scattermapbox": [
           {
            "marker": {
             "colorbar": {
              "outlinewidth": 0,
              "ticks": ""
             }
            },
            "type": "scattermapbox"
           }
          ],
          "scatterpolar": [
           {
            "marker": {
             "colorbar": {
              "outlinewidth": 0,
              "ticks": ""
             }
            },
            "type": "scatterpolar"
           }
          ],
          "scatterpolargl": [
           {
            "marker": {
             "colorbar": {
              "outlinewidth": 0,
              "ticks": ""
             }
            },
            "type": "scatterpolargl"
           }
          ],
          "scatterternary": [
           {
            "marker": {
             "colorbar": {
              "outlinewidth": 0,
              "ticks": ""
             }
            },
            "type": "scatterternary"
           }
          ],
          "surface": [
           {
            "colorbar": {
             "outlinewidth": 0,
             "ticks": ""
            },
            "colorscale": [
             [
              0,
              "#0d0887"
             ],
             [
              0.1111111111111111,
              "#46039f"
             ],
             [
              0.2222222222222222,
              "#7201a8"
             ],
             [
              0.3333333333333333,
              "#9c179e"
             ],
             [
              0.4444444444444444,
              "#bd3786"
             ],
             [
              0.5555555555555556,
              "#d8576b"
             ],
             [
              0.6666666666666666,
              "#ed7953"
             ],
             [
              0.7777777777777778,
              "#fb9f3a"
             ],
             [
              0.8888888888888888,
              "#fdca26"
             ],
             [
              1,
              "#f0f921"
             ]
            ],
            "type": "surface"
           }
          ],
          "table": [
           {
            "cells": {
             "fill": {
              "color": "#EBF0F8"
             },
             "line": {
              "color": "white"
             }
            },
            "header": {
             "fill": {
              "color": "#C8D4E3"
             },
             "line": {
              "color": "white"
             }
            },
            "type": "table"
           }
          ]
         },
         "layout": {
          "annotationdefaults": {
           "arrowcolor": "#2a3f5f",
           "arrowhead": 0,
           "arrowwidth": 1
          },
          "autotypenumbers": "strict",
          "coloraxis": {
           "colorbar": {
            "outlinewidth": 0,
            "ticks": ""
           }
          },
          "colorscale": {
           "diverging": [
            [
             0,
             "#8e0152"
            ],
            [
             0.1,
             "#c51b7d"
            ],
            [
             0.2,
             "#de77ae"
            ],
            [
             0.3,
             "#f1b6da"
            ],
            [
             0.4,
             "#fde0ef"
            ],
            [
             0.5,
             "#f7f7f7"
            ],
            [
             0.6,
             "#e6f5d0"
            ],
            [
             0.7,
             "#b8e186"
            ],
            [
             0.8,
             "#7fbc41"
            ],
            [
             0.9,
             "#4d9221"
            ],
            [
             1,
             "#276419"
            ]
           ],
           "sequential": [
            [
             0,
             "#0d0887"
            ],
            [
             0.1111111111111111,
             "#46039f"
            ],
            [
             0.2222222222222222,
             "#7201a8"
            ],
            [
             0.3333333333333333,
             "#9c179e"
            ],
            [
             0.4444444444444444,
             "#bd3786"
            ],
            [
             0.5555555555555556,
             "#d8576b"
            ],
            [
             0.6666666666666666,
             "#ed7953"
            ],
            [
             0.7777777777777778,
             "#fb9f3a"
            ],
            [
             0.8888888888888888,
             "#fdca26"
            ],
            [
             1,
             "#f0f921"
            ]
           ],
           "sequentialminus": [
            [
             0,
             "#0d0887"
            ],
            [
             0.1111111111111111,
             "#46039f"
            ],
            [
             0.2222222222222222,
             "#7201a8"
            ],
            [
             0.3333333333333333,
             "#9c179e"
            ],
            [
             0.4444444444444444,
             "#bd3786"
            ],
            [
             0.5555555555555556,
             "#d8576b"
            ],
            [
             0.6666666666666666,
             "#ed7953"
            ],
            [
             0.7777777777777778,
             "#fb9f3a"
            ],
            [
             0.8888888888888888,
             "#fdca26"
            ],
            [
             1,
             "#f0f921"
            ]
           ]
          },
          "colorway": [
           "#636efa",
           "#EF553B",
           "#00cc96",
           "#ab63fa",
           "#FFA15A",
           "#19d3f3",
           "#FF6692",
           "#B6E880",
           "#FF97FF",
           "#FECB52"
          ],
          "font": {
           "color": "#2a3f5f"
          },
          "geo": {
           "bgcolor": "white",
           "lakecolor": "white",
           "landcolor": "#E5ECF6",
           "showlakes": true,
           "showland": true,
           "subunitcolor": "white"
          },
          "hoverlabel": {
           "align": "left"
          },
          "hovermode": "closest",
          "mapbox": {
           "style": "light"
          },
          "paper_bgcolor": "white",
          "plot_bgcolor": "#E5ECF6",
          "polar": {
           "angularaxis": {
            "gridcolor": "white",
            "linecolor": "white",
            "ticks": ""
           },
           "bgcolor": "#E5ECF6",
           "radialaxis": {
            "gridcolor": "white",
            "linecolor": "white",
            "ticks": ""
           }
          },
          "scene": {
           "xaxis": {
            "backgroundcolor": "#E5ECF6",
            "gridcolor": "white",
            "gridwidth": 2,
            "linecolor": "white",
            "showbackground": true,
            "ticks": "",
            "zerolinecolor": "white"
           },
           "yaxis": {
            "backgroundcolor": "#E5ECF6",
            "gridcolor": "white",
            "gridwidth": 2,
            "linecolor": "white",
            "showbackground": true,
            "ticks": "",
            "zerolinecolor": "white"
           },
           "zaxis": {
            "backgroundcolor": "#E5ECF6",
            "gridcolor": "white",
            "gridwidth": 2,
            "linecolor": "white",
            "showbackground": true,
            "ticks": "",
            "zerolinecolor": "white"
           }
          },
          "shapedefaults": {
           "line": {
            "color": "#2a3f5f"
           }
          },
          "ternary": {
           "aaxis": {
            "gridcolor": "white",
            "linecolor": "white",
            "ticks": ""
           },
           "baxis": {
            "gridcolor": "white",
            "linecolor": "white",
            "ticks": ""
           },
           "bgcolor": "#E5ECF6",
           "caxis": {
            "gridcolor": "white",
            "linecolor": "white",
            "ticks": ""
           }
          },
          "title": {
           "x": 0.05
          },
          "xaxis": {
           "automargin": true,
           "gridcolor": "white",
           "linecolor": "white",
           "ticks": "",
           "title": {
            "standoff": 15
           },
           "zerolinecolor": "white",
           "zerolinewidth": 2
          },
          "yaxis": {
           "automargin": true,
           "gridcolor": "white",
           "linecolor": "white",
           "ticks": "",
           "title": {
            "standoff": 15
           },
           "zerolinecolor": "white",
           "zerolinewidth": 2
          }
         }
        }
       }
      }
     },
     "metadata": {},
     "output_type": "display_data"
    }
   ],
   "source": [
    "fig = px.scatter_3d(x=X[:, 0], y=X[:, 1], z=X[:, 2], color=y)\n",
    "fig.show()"
   ]
  },
  {
   "cell_type": "code",
   "execution_count": 114,
   "id": "58b7d48b",
   "metadata": {
    "slideshow": {
     "slide_type": "skip"
    }
   },
   "outputs": [
    {
     "name": "stderr",
     "output_type": "stream",
     "text": [
      "100%|██████████| 14/14 [00:26<00:00,  1.93s/it]\n"
     ]
    }
   ],
   "source": [
    "# Fit KDE on high dimensional examples \n",
    "rocs = []\n",
    "auprs = []\n",
    "bandwidths = []\n",
    "\n",
    "param_space = {\n",
    "        'kernel': ['gaussian'],\n",
    "        'bandwidth': np.linspace(0.1, 100, 1000), # Define Search space for bandwidth parameter\n",
    "    }\n",
    "\n",
    "kdes = {}\n",
    "dims = np.arange(2,16)\n",
    "for d in tqdm(dims):\n",
    "    # Generate d dimensional distributions\n",
    "    dists = create_distributions(dim=d)\n",
    "\n",
    "    distribution_with_anomalies = contamination(\n",
    "        nominal=dists['Sinusoidal'],\n",
    "        anomaly=dists['Blob'],\n",
    "        p=0\n",
    "    )\n",
    "\n",
    "    # Train on clean data\n",
    "    sample_train = dists['Sinusoidal'].sample(500)\n",
    "    X_train = sample_train[-1].numpy()\n",
    "    # Test data\n",
    "    sample_test = distribution_with_anomalies.sample(500)\n",
    "    X_test = sample_test[-1].numpy()\n",
    "    y_test = sample_test[0].numpy()\n",
    "\n",
    "    # Optimize bandwidth\n",
    "    params, kde = hyperopt_by_score(X_train, param_space)\n",
    "    kdes[d] = (params, kde)\n",
    "    \n",
    "    bandwidths.append(params['bandwidth'])\n",
    "\n",
    "    test_scores = -kde.score_samples(X_test)\n",
    "    test_scores = np.where(test_scores == np.inf, np.max(test_scores[np.isfinite(test_scores)])+1, test_scores)\n",
    "\n",
    "    "
   ]
  },
  {
   "cell_type": "code",
   "execution_count": 116,
   "id": "cc679493",
   "metadata": {
    "pycharm": {
     "name": "#%%\n"
    },
    "slideshow": {
     "slide_type": "skip"
    }
   },
   "outputs": [
    {
     "name": "stderr",
     "output_type": "stream",
     "text": [
      "100%|██████████| 14/14 [00:01<00:00, 10.35it/s]\n"
     ]
    },
    {
     "name": "stdout",
     "output_type": "stream",
     "text": [
      "Crossection of the KDE at (0,...,0, x, y)\n"
     ]
    },
    {
     "data": {
      "image/png": "[encoded data removed]",
      "text/plain": [
       "<Figure size 1080x360 with 14 Axes>"
      ]
     },
     "metadata": {
      "needs_background": "light"
     },
     "output_type": "display_data"
    }
   ],
   "source": [
    "# Plot cross section of pdf \n",
    "fig, axes = plt.subplots(nrows=2, ncols=7, figsize=(15, 5))\n",
    "for d, axis in tqdm(list(zip(kdes, axes.flatten()))):\n",
    "    \n",
    "    params, kde = kdes[d]\n",
    "\n",
    "    lin = np.linspace(-10, 10, 50)\n",
    "    grid_points = list(it.product(*([[0]]*(d-2)), lin, lin))\n",
    "    ys, xs = np.meshgrid(lin, lin)\n",
    "    # The score function of sklearn returns log-densities\n",
    "    scores = np.exp(kde.score_samples(grid_points)).reshape(50, 50)\n",
    "    colormesh = axis.contourf(xs, ys, scores)\n",
    "    axis.set_title(\"Dim = {}\".format(d))\n",
    "    axis.set_aspect('equal')\n",
    "    \n",
    "\n",
    "# Plot evaluation\n",
    "print('Crossection of the KDE at (0,...,0, x, y)')\n",
    "plt.show()"
   ]
  },
  {
   "cell_type": "markdown",
   "id": "020500ed",
   "metadata": {
    "slideshow": {
     "slide_type": "subslide"
    }
   },
   "source": [
    "## Robustness\n",
    "Another drawback of KDE in the context of anomaly detection is that it is not robust against contamination of the data\n",
    "\n",
    "---\n",
    "**Definition**\n",
    "The *breakdown point* of an estimator is the smallest fraction of observations that need to be changed so that we can\n",
    "move the estimate arbitrarily far away from the true value.\n",
    "\n",
    "---"
   ]
  },
  {
   "cell_type": "markdown",
   "id": "74cf4c13",
   "metadata": {
    "slideshow": {
     "slide_type": "fragment"
    }
   },
   "source": [
    "**Example**: The sample mean has a breakdown point of $0$. Indeed, for a sample of $x_1,\\ldots, x_n$ we only need to\n",
    "change a single value in order to move the sample mean in any way we want. That means that the breakdown point is\n",
    "smaller than $\\frac{1}{n}$ for every $n\\in\\mathbb{N}$."
   ]
  },
  {
   "cell_type": "markdown",
   "id": "4efce06e",
   "metadata": {
    "slideshow": {
     "slide_type": "subslide"
    }
   },
   "source": [
    "## Robust Statistics\n",
    "There are robust replacements for the sample mean:\n",
    "- Median of means: Split the dataset into $S$ equally sized subsets $X_1,\\ldots, X_S$ and compute\n",
    "$\\mathrm{median}(\\overline{X_1},\\ldots, \\overline{X_S})$\n",
    "- M-estimation: The mean in a normed vector space is the value that minimizes the squared distances\n",
    "<center>\n",
    "$\\overline{X} = \\min_{y}\\sum_{x\\in X}|x-y|^2$\n",
    "</center>\n",
    "M-estimation replaces the quadratic loss with a more robust loss function."
   ]
  },
  {
   "cell_type": "markdown",
   "id": "ac5655c6",
   "metadata": {
    "slideshow": {
     "slide_type": "fragment"
    }
   },
   "source": [
    "### Huber loss\n",
    "Switch from quadratic to linear loss at prescribed threshold"
   ]
  },
  {
   "cell_type": "code",
   "execution_count": 7,
   "id": "b6861d26",
   "metadata": {
    "hideCode": true,
    "pycharm": {
     "name": "#%%\n"
    },
    "slideshow": {
     "slide_type": "-"
    }
   },
   "outputs": [
    {
     "data": {
      "image/png": "[encoded data removed]",
      "text/plain": [
       "<Figure size 360x360 with 1 Axes>"
      ]
     },
     "metadata": {
      "needs_background": "light"
     },
     "output_type": "display_data"
    }
   ],
   "source": [
    "import numpy as np\n",
    "\n",
    "\n",
    "def huber(error, threshold):\n",
    "    test = (np.abs(error) <= threshold)\n",
    "    return (test * (error**2)/2) + ((1-test)*threshold*(np.abs(error) - threshold/2))\n",
    "\n",
    "x = np.linspace(-5, 5)\n",
    "y = huber(x, 1)\n",
    "\n",
    "plt.plot(x, y)\n",
    "plt.gca().set_title(\"Huber Loss\")\n",
    "plt.show()"
   ]
  },
  {
   "cell_type": "markdown",
   "id": "3017109f",
   "metadata": {},
   "source": [
    "### Hampel loss\n",
    "More complex loss function. Depends on 3 parameters 0 < a < b< r"
   ]
  },
  {
   "cell_type": "code",
   "execution_count": 80,
   "id": "69f95fad",
   "metadata": {},
   "outputs": [
    {
     "data": {
      "image/png": "[encoded data removed]",
      "text/plain": [
       "<Figure size 360x360 with 1 Axes>"
      ]
     },
     "metadata": {
      "needs_background": "light"
     },
     "output_type": "display_data"
    }
   ],
   "source": [
    "import numpy as np\n",
    "\n",
    "def single_point_hampel(error, a, b, r):\n",
    "    if abs(error) <= a:\n",
    "        return error**2/2\n",
    "    elif a < abs(error) <= b:\n",
    "        return (1/2 *a**2 + a* (abs(error)-a))\n",
    "    elif  b < abs(error) <= r:\n",
    "        return a * (2*b-a+(abs(error)-b) * (1+ (r-abs(error))/(r-b)))/2\n",
    "    else:\n",
    "        return a*(b-a+r)/2\n",
    "\n",
    "hampel = np.vectorize(single_point_hampel)\n",
    "\n",
    "x = np.linspace(-10.1, 10.1)\n",
    "y = hampel(x, a=1.5, b=3.5, r=8)\n",
    "\n",
    "plt.plot(x, y)\n",
    "plt.gca().set_title(\"Hampel Loss\")\n",
    "plt.show()"
   ]
  },
  {
   "cell_type": "markdown",
   "id": "c4ed645c",
   "metadata": {
    "slideshow": {
     "slide_type": "subslide"
    }
   },
   "source": [
    "## KDE is a Mean\n",
    "\n",
    "---\n",
    "\n",
    "**Kernel as scalar product:**\n",
    "<img src=\"images/kernels.png\" align=\"right\" width=\"400\" style=\"margin: 150px 75px\">\n",
    "\n",
    "- Let $K$ be a radial monotonic$^\\ast$ kernel over $\\mathbb{R}^n$.\n",
    "- For $x\\in\\mathbb{R}^n$ let $\\phi_x = K(\\cdot, x)$.\n",
    "- Vector space over the linear span of $\\{\\phi_x \\mid x\\in\\mathbb{R}^n\\}$:\n",
    "    - Pointwise addition and scalar multiplication.\n",
    "- Define the scalar product $\\langle \\phi_x, \\phi_y\\rangle = K(x,y)$.\n",
    "- Advantage: Scalar product is computable\n",
    "- Call this the reproducing kernel Hilbert space (RKHS) of $K$.\n",
    "- $\\mathrm{KDE}_h(\\cdot, D) = \\frac{1}{N}\\sum_{i=1}^N K_h(\\cdot, x_i) = \\frac{1}{N}\\sum_{i=1}^N\\phi_{x_i}$\n",
    "    - where $K_h(x,y) = \\frac{1}{h}K\\left(\\frac{|x-y|}{h}\\right)$\n",
    "\n",
    "---\n",
    "\n",
    "$^*$All kernels that we have seen are radial and monotonic\n",
    "\n",
    "\n"
   ]
  },
  {
   "cell_type": "markdown",
   "id": "aa0e6487",
   "metadata": {
    "slideshow": {
     "slide_type": "subslide"
    }
   },
   "source": [
    "# Exercise\n",
    "We compare the performance of different approaches to recover the nominal distribution under contamination.\n",
    "Here, we use code by [Humbert et al.](https://github.com/lminvielle/mom-kde) to replicate\n",
    "the results in the referenced paper on median-of-mean KDE. More details on rKDE can instead be found in this paper by [Kim and Scott.](https://arxiv.org/abs/1107.3133#:~:text=We%20propose%20a%20method%20for,ideas%20from%20classical%20M%2Destimation.)"
   ]
  },
  {
   "cell_type": "code",
   "execution_count": 22,
   "id": "58243128",
   "metadata": {
    "pycharm": {
     "name": "#%%\n"
    },
    "slideshow": {
     "slide_type": "skip"
    }
   },
   "outputs": [],
   "source": [
    "# =======================================================\n",
    "#   Parameters\n",
    "# =======================================================\n",
    "algos = [\n",
    "    'kde',\n",
    "    'mom-kde', # Median-of-Means\n",
    "    'rkde-huber', # robust KDE with huber loss\n",
    "    'rkde-hampel', # robust KDE with hampel loss\n",
    "]\n",
    "\n",
    "dataset = 'house-prices'\n",
    "dataset_options = {'neighborhood': 'CollgCr', 'anomaly_neighborhood': 'Edwards'}\n",
    "\n",
    "outlierprop_range = [0.01, 0.02, 0.03, 0.05, 0.07, 0.1, 0.2, 0.3, 0.4, 0.5]\n",
    "kernel = 'gaussian'"
   ]
  },
  {
   "cell_type": "code",
   "execution_count": 23,
   "id": "da628e2f",
   "metadata": {
    "pycharm": {
     "name": "#%%\n"
    },
    "slideshow": {
     "slide_type": "skip"
    }
   },
   "outputs": [
    {
     "name": "stdout",
     "output_type": "stream",
     "text": [
      "Dataset:  house-prices\n"
     ]
    },
    {
     "data": {
      "application/vnd.plotly.v1+json": {
       "config": {
        "plotlyServerURL": "https://plot.ly"
       },
       "data": [
        {
         "hovertemplate": "LotArea=%{x}<br>OverallCond=%{y}<br>SalePrice=%{z}<br>color=%{marker.color}<extra></extra>",
         "legendgroup": "",
         "marker": {
          "color": [
           1,
           0,
           0,
           0,
           1,
           0,
           1,
           1,
           0,
           1,
           1,
           1,
           1,
           0,
           0,
           0,
           0,
           1,
           0,
           0,
           0,
           0,
           1,
           1,
           0,
           1,
           0,
           0,
           1,
           0,
           1,
           0,
           0,
           0,
           0,
           0,
           0,
           1,
           1,
           0,
           1,
           1,
           0,
           0,
           0,
           0,
           1,
           0,
           1,
           1,
           0,
           1,
           0,
           1,
           1,
           0,
           1,
           0,
           1,
           0,
           1,
           0,
           1,
           1,
           0,
           0,
           1,
           0,
           0,
           0,
           1,
           0,
           0,
           1,
           0,
           0,
           0,
           1,
           1,
           1,
           0,
           1,
           0,
           1,
           0,
           1,
           0,
           0,
           0,
           1,
           0,
           0,
           0,
           0,
           1,
           1,
           0,
           0,
           0,
           0,
           1,
           0,
           0,
           1,
           0,
           0,
           0,
           1,
           0,
           1,
           1,
           0,
           1,
           0,
           1,
           0,
           0,
           0,
           0,
           1,
           0,
           0,
           0,
           1,
           1,
           0,
           0,
           1,
           1,
           0,
           1,
           1,
           1,
           0,
           1,
           0,
           0,
           1,
           1,
           1,
           1,
           0,
           0,
           1,
           0,
           0,
           0,
           0,
           1,
           1,
           1,
           0,
           1,
           0,
           0,
           0,
           1,
           0,
           0,
           0,
           0,
           1,
           1,
           1,
           0,
           0,
           1,
           0,
           0,
           0,
           0,
           0,
           1,
           0,
           0,
           0,
           1,
           1,
           1,
           1,
           0,
           0,
           1,
           0,
           0,
           1,
           0,
           0,
           0,
           1,
           0,
           0,
           1,
           0,
           0,
           0,
           1,
           0,
           0,
           0,
           0,
           0,
           0,
           0,
           1,
           1,
           0,
           1,
           1,
           0,
           0,
           0,
           0,
           1,
           0,
           0,
           0,
           1,
           1,
           0,
           0,
           0,
           0,
           0,
           0,
           0,
           0,
           1,
           0,
           1,
           0,
           0,
           1,
           1,
           0,
           1,
           0,
           1,
           1,
           1,
           1,
           0,
           1,
           1,
           0,
           0,
           0,
           1,
           0,
           0
          ],
          "coloraxis": "coloraxis",
          "symbol": "circle"
         },
         "mode": "markers",
         "name": "",
         "scene": "scene",
         "showlegend": false,
         "type": "scatter3d",
         "x": [
          7024,
          9548,
          8158,
          14781,
          10215,
          10402,
          8405,
          10880,
          10665,
          8777,
          6629,
          8546,
          11409,
          10650,
          9531,
          11423,
          9135,
          17755,
          13704,
          8935,
          9375,
          8775,
          19690,
          7200,
          12435,
          9937,
          7226,
          12803,
          8212,
          9240,
          9084,
          10970,
          8846,
          16285,
          16226,
          15523,
          10652,
          7819,
          9600,
          11404,
          17140,
          9738,
          9375,
          9473,
          9742,
          8814,
          9571,
          4435,
          2522,
          12354,
          10226,
          12342,
          8320,
          10206,
          8160,
          8072,
          10012,
          4438,
          10452,
          7200,
          9525,
          10769,
          8741,
          8877,
          7180,
          4435,
          9060,
          9236,
          8430,
          9750,
          2522,
          15611,
          9245,
          9170,
          11248,
          10335,
          9286,
          21780,
          8410,
          9084,
          9588,
          8536,
          11249,
          9450,
          8750,
          13286,
          11210,
          8773,
          9017,
          4060,
          8814,
          10000,
          8450,
          4435,
          9855,
          12615,
          8750,
          8070,
          11175,
          12464,
          3675,
          9382,
          9560,
          8562,
          10316,
          10400,
          8385,
          8405,
          10635,
          16466,
          3675,
          10356,
          9098,
          4435,
          8877,
          9066,
          8450,
          10637,
          11645,
          9825,
          9525,
          4426,
          11645,
          2522,
          7950,
          8846,
          8461,
          10800,
          9400,
          11050,
          11767,
          11512,
          63887,
          9800,
          8190,
          7990,
          7406,
          13680,
          8926,
          5604,
          12108,
          4435,
          10667,
          8777,
          8633,
          8749,
          8924,
          9135,
          7024,
          3675,
          10625,
          10475,
          10020,
          8800,
          11250,
          15426,
          6931,
          10859,
          7200,
          7700,
          4426,
          7800,
          4270,
          10420,
          12420,
          9200,
          13728,
          7314,
          12137,
          8445,
          13125,
          7200,
          10921,
          12393,
          10084,
          11103,
          9937,
          8335,
          10998,
          9340,
          9317,
          11250,
          8172,
          6762,
          13568,
          7917,
          13450,
          8760,
          9100,
          13907,
          8750,
          11317,
          7301,
          9313,
          6762,
          4438,
          10106,
          8450,
          11367,
          9337,
          9100,
          8200,
          7000,
          10900,
          6040,
          12180,
          11049,
          8172,
          11841,
          10264,
          9920,
          11883,
          8767,
          3363,
          9245,
          8556,
          10386,
          9060,
          11500,
          9100,
          11923,
          9750,
          8125,
          9179,
          10780,
          4426,
          14006,
          9571,
          8199,
          8248,
          8990,
          6762,
          8248,
          11767,
          9965,
          7585,
          11838,
          7000,
          7711,
          9405,
          40094,
          8500,
          6420,
          8777,
          8400,
          9965,
          8487,
          11100,
          9808,
          11885
         ],
         "y": [
          5,
          6,
          5,
          5,
          5,
          5,
          8,
          5,
          5,
          7,
          6,
          5,
          4,
          6,
          5,
          5,
          5,
          4,
          5,
          5,
          5,
          5,
          7,
          6,
          5,
          6,
          5,
          5,
          3,
          5,
          6,
          6,
          5,
          5,
          5,
          6,
          5,
          5,
          5,
          5,
          6,
          7,
          5,
          5,
          5,
          5,
          6,
          5,
          5,
          8,
          5,
          5,
          5,
          3,
          6,
          5,
          5,
          5,
          5,
          8,
          4,
          5,
          4,
          5,
          7,
          5,
          6,
          5,
          5,
          5,
          5,
          5,
          5,
          7,
          5,
          5,
          7,
          7,
          3,
          5,
          5,
          5,
          5,
          5,
          5,
          5,
          5,
          5,
          5,
          8,
          5,
          5,
          5,
          5,
          5,
          7,
          5,
          5,
          5,
          5,
          5,
          5,
          7,
          6,
          5,
          5,
          8,
          3,
          5,
          7,
          5,
          6,
          7,
          5,
          6,
          5,
          5,
          5,
          5,
          5,
          6,
          5,
          5,
          5,
          6,
          5,
          5,
          5,
          5,
          5,
          7,
          7,
          5,
          7,
          6,
          6,
          5,
          5,
          3,
          6,
          4,
          5,
          6,
          7,
          5,
          5,
          5,
          5,
          5,
          5,
          5,
          5,
          1,
          7,
          5,
          5,
          5,
          5,
          5,
          5,
          5,
          8,
          6,
          5,
          5,
          6,
          7,
          5,
          5,
          7,
          5,
          7,
          5,
          5,
          5,
          5,
          7,
          5,
          5,
          6,
          5,
          5,
          7,
          5,
          5,
          7,
          5,
          5,
          5,
          6,
          5,
          5,
          5,
          5,
          5,
          5,
          7,
          5,
          5,
          5,
          5,
          5,
          8,
          7,
          5,
          4,
          5,
          6,
          5,
          5,
          6,
          5,
          5,
          5,
          5,
          5,
          5,
          5,
          3,
          5,
          5,
          6,
          5,
          5,
          5,
          5,
          5,
          3,
          5,
          7,
          5,
          5,
          3,
          6,
          5,
          3,
          5,
          7,
          3,
          9,
          5,
          5,
          7,
          5,
          5,
          5,
          5,
          7,
          5,
          5
         ],
         "z": [
          176000,
          237000,
          224900,
          275000,
          111000,
          198900,
          119000,
          125000,
          226000,
          85000,
          103600,
          140000,
          131000,
          128200,
          211000,
          272000,
          214000,
          149900,
          205000,
          195000,
          228500,
          126000,
          274970,
          125000,
          231500,
          147500,
          183000,
          221000,
          58500,
          287000,
          95000,
          147000,
          173900,
          187100,
          267000,
          133500,
          279500,
          107000,
          79000,
          222500,
          135000,
          104900,
          219500,
          237000,
          230000,
          220000,
          129000,
          140000,
          137500,
          110000,
          295493,
          82500,
          185900,
          82000,
          126000,
          138000,
          137500,
          149000,
          155000,
          133900,
          136900,
          212000,
          113000,
          102000,
          127000,
          144000,
          120000,
          217000,
          124000,
          213000,
          130000,
          233230,
          213500,
          140000,
          285000,
          204000,
          143500,
          185000,
          81000,
          108000,
          276000,
          155000,
          177500,
          110000,
          200500,
          320000,
          221500,
          185500,
          192000,
          99900,
          203000,
          240000,
          185000,
          131500,
          127500,
          243000,
          191000,
          123600,
          200141,
          152000,
          140000,
          191000,
          128500,
          144500,
          235000,
          197900,
          149900,
          98000,
          232000,
          135500,
          148000,
          122000,
          86000,
          136500,
          100000,
          230000,
          208500,
          297000,
          260000,
          100000,
          144000,
          143000,
          196500,
          130000,
          159500,
          148000,
          163990,
          179000,
          127500,
          313000,
          112000,
          177000,
          160000,
          149900,
          119000,
          110000,
          194000,
          139600,
          112000,
          98000,
          118000,
          155900,
          212000,
          145900,
          173500,
          192000,
          188000,
          200000,
          157000,
          145000,
          83000,
          245350,
          61000,
          150500,
          223500,
          231500,
          165400,
          145000,
          123000,
          112500,
          141000,
          225000,
          79000,
          186000,
          230000,
          130250,
          235000,
          194500,
          224900,
          133000,
          208900,
          124900,
          94750,
          195000,
          212900,
          155835,
          167000,
          93000,
          117000,
          113000,
          176432,
          255900,
          115000,
          195400,
          156000,
          148000,
          200000,
          239799,
          216837,
          108000,
          210000,
          180000,
          198500,
          190000,
          193879,
          144500,
          127500,
          210000,
          255000,
          204750,
          178000,
          219500,
          136500,
          161750,
          82000,
          80000,
          179900,
          135000,
          118500,
          214000,
          128500,
          203000,
          164990,
          130000,
          145000,
          194000,
          305900,
          105000,
          84000,
          235000,
          239000,
          274300,
          230000,
          193000,
          132500,
          149300,
          192500,
          60000,
          189000,
          116000,
          204900,
          206000,
          67000,
          130500,
          383970,
          91500,
          236500,
          107500,
          150000,
          118000,
          184750,
          179600,
          123500,
          108000,
          213000,
          424870,
          190000,
          84900,
          227000,
          261500
         ]
        }
       ],
       "layout": {
        "coloraxis": {
         "colorbar": {
          "title": {
           "text": "color"
          }
         },
         "colorscale": [
          [
           0,
           "#0d0887"
          ],
          [
           0.1111111111111111,
           "#46039f"
          ],
          [
           0.2222222222222222,
           "#7201a8"
          ],
          [
           0.3333333333333333,
           "#9c179e"
          ],
          [
           0.4444444444444444,
           "#bd3786"
          ],
          [
           0.5555555555555556,
           "#d8576b"
          ],
          [
           0.6666666666666666,
           "#ed7953"
          ],
          [
           0.7777777777777778,
           "#fb9f3a"
          ],
          [
           0.8888888888888888,
           "#fdca26"
          ],
          [
           1,
           "#f0f921"
          ]
         ]
        },
        "legend": {
         "tracegroupgap": 0
        },
        "margin": {
         "t": 60
        },
        "scene": {
         "domain": {
          "x": [
           0,
           1
          ],
          "y": [
           0,
           1
          ]
         },
         "xaxis": {
          "title": {
           "text": "LotArea"
          }
         },
         "yaxis": {
          "title": {
           "text": "OverallCond"
          }
         },
         "zaxis": {
          "title": {
           "text": "SalePrice"
          }
         }
        },
        "template": {
         "data": {
          "bar": [
           {
            "error_x": {
             "color": "#2a3f5f"
            },
            "error_y": {
             "color": "#2a3f5f"
            },
            "marker": {
             "line": {
              "color": "#E5ECF6",
              "width": 0.5
             },
             "pattern": {
              "fillmode": "overlay",
              "size": 10,
              "solidity": 0.2
             }
            },
            "type": "bar"
           }
          ],
          "barpolar": [
           {
            "marker": {
             "line": {
              "color": "#E5ECF6",
              "width": 0.5
             },
             "pattern": {
              "fillmode": "overlay",
              "size": 10,
              "solidity": 0.2
             }
            },
            "type": "barpolar"
           }
          ],
          "carpet": [
           {
            "aaxis": {
             "endlinecolor": "#2a3f5f",
             "gridcolor": "white",
             "linecolor": "white",
             "minorgridcolor": "white",
             "startlinecolor": "#2a3f5f"
            },
            "baxis": {
             "endlinecolor": "#2a3f5f",
             "gridcolor": "white",
             "linecolor": "white",
             "minorgridcolor": "white",
             "startlinecolor": "#2a3f5f"
            },
            "type": "carpet"
           }
          ],
          "choropleth": [
           {
            "colorbar": {
             "outlinewidth": 0,
             "ticks": ""
            },
            "type": "choropleth"
           }
          ],
          "contour": [
           {
            "colorbar": {
             "outlinewidth": 0,
             "ticks": ""
            },
            "colorscale": [
             [
              0,
              "#0d0887"
             ],
             [
              0.1111111111111111,
              "#46039f"
             ],
             [
              0.2222222222222222,
              "#7201a8"
             ],
             [
              0.3333333333333333,
              "#9c179e"
             ],
             [
              0.4444444444444444,
              "#bd3786"
             ],
             [
              0.5555555555555556,
              "#d8576b"
             ],
             [
              0.6666666666666666,
              "#ed7953"
             ],
             [
              0.7777777777777778,
              "#fb9f3a"
             ],
             [
              0.8888888888888888,
              "#fdca26"
             ],
             [
              1,
              "#f0f921"
             ]
            ],
            "type": "contour"
           }
          ],
          "contourcarpet": [
           {
            "colorbar": {
             "outlinewidth": 0,
             "ticks": ""
            },
            "type": "contourcarpet"
           }
          ],
          "heatmap": [
           {
            "colorbar": {
             "outlinewidth": 0,
             "ticks": ""
            },
            "colorscale": [
             [
              0,
              "#0d0887"
             ],
             [
              0.1111111111111111,
              "#46039f"
             ],
             [
              0.2222222222222222,
              "#7201a8"
             ],
             [
              0.3333333333333333,
              "#9c179e"
             ],
             [
              0.4444444444444444,
              "#bd3786"
             ],
             [
              0.5555555555555556,
              "#d8576b"
             ],
             [
              0.6666666666666666,
              "#ed7953"
             ],
             [
              0.7777777777777778,
              "#fb9f3a"
             ],
             [
              0.8888888888888888,
              "#fdca26"
             ],
             [
              1,
              "#f0f921"
             ]
            ],
            "type": "heatmap"
           }
          ],
          "heatmapgl": [
           {
            "colorbar": {
             "outlinewidth": 0,
             "ticks": ""
            },
            "colorscale": [
             [
              0,
              "#0d0887"
             ],
             [
              0.1111111111111111,
              "#46039f"
             ],
             [
              0.2222222222222222,
              "#7201a8"
             ],
             [
              0.3333333333333333,
              "#9c179e"
             ],
             [
              0.4444444444444444,
              "#bd3786"
             ],
             [
              0.5555555555555556,
              "#d8576b"
             ],
             [
              0.6666666666666666,
              "#ed7953"
             ],
             [
              0.7777777777777778,
              "#fb9f3a"
             ],
             [
              0.8888888888888888,
              "#fdca26"
             ],
             [
              1,
              "#f0f921"
             ]
            ],
            "type": "heatmapgl"
           }
          ],
          "histogram": [
           {
            "marker": {
             "pattern": {
              "fillmode": "overlay",
              "size": 10,
              "solidity": 0.2
             }
            },
            "type": "histogram"
           }
          ],
          "histogram2d": [
           {
            "colorbar": {
             "outlinewidth": 0,
             "ticks": ""
            },
            "colorscale": [
             [
              0,
              "#0d0887"
             ],
             [
              0.1111111111111111,
              "#46039f"
             ],
             [
              0.2222222222222222,
              "#7201a8"
             ],
             [
              0.3333333333333333,
              "#9c179e"
             ],
             [
              0.4444444444444444,
              "#bd3786"
             ],
             [
              0.5555555555555556,
              "#d8576b"
             ],
             [
              0.6666666666666666,
              "#ed7953"
             ],
             [
              0.7777777777777778,
              "#fb9f3a"
             ],
             [
              0.8888888888888888,
              "#fdca26"
             ],
             [
              1,
              "#f0f921"
             ]
            ],
            "type": "histogram2d"
           }
          ],
          "histogram2dcontour": [
           {
            "colorbar": {
             "outlinewidth": 0,
             "ticks": ""
            },
            "colorscale": [
             [
              0,
              "#0d0887"
             ],
             [
              0.1111111111111111,
              "#46039f"
             ],
             [
              0.2222222222222222,
              "#7201a8"
             ],
             [
              0.3333333333333333,
              "#9c179e"
             ],
             [
              0.4444444444444444,
              "#bd3786"
             ],
             [
              0.5555555555555556,
              "#d8576b"
             ],
             [
              0.6666666666666666,
              "#ed7953"
             ],
             [
              0.7777777777777778,
              "#fb9f3a"
             ],
             [
              0.8888888888888888,
              "#fdca26"
             ],
             [
              1,
              "#f0f921"
             ]
            ],
            "type": "histogram2dcontour"
           }
          ],
          "mesh3d": [
           {
            "colorbar": {
             "outlinewidth": 0,
             "ticks": ""
            },
            "type": "mesh3d"
           }
          ],
          "parcoords": [
           {
            "line": {
             "colorbar": {
              "outlinewidth": 0,
              "ticks": ""
             }
            },
            "type": "parcoords"
           }
          ],
          "pie": [
           {
            "automargin": true,
            "type": "pie"
           }
          ],
          "scatter": [
           {
            "marker": {
             "colorbar": {
              "outlinewidth": 0,
              "ticks": ""
             }
            },
            "type": "scatter"
           }
          ],
          "scatter3d": [
           {
            "line": {
             "colorbar": {
              "outlinewidth": 0,
              "ticks": ""
             }
            },
            "marker": {
             "colorbar": {
              "outlinewidth": 0,
              "ticks": ""
             }
            },
            "type": "scatter3d"
           }
          ],
          "scattercarpet": [
           {
            "marker": {
             "colorbar": {
              "outlinewidth": 0,
              "ticks": ""
             }
            },
            "type": "scattercarpet"
           }
          ],
          "scattergeo": [
           {
            "marker": {
             "colorbar": {
              "outlinewidth": 0,
              "ticks": ""
             }
            },
            "type": "scattergeo"
           }
          ],
          "scattergl": [
           {
            "marker": {
             "colorbar": {
              "outlinewidth": 0,
              "ticks": ""
             }
            },
            "type": "scattergl"
           }
          ],
          "scattermapbox": [
           {
            "marker": {
             "colorbar": {
              "outlinewidth": 0,
              "ticks": ""
             }
            },
            "type": "scattermapbox"
           }
          ],
          "scatterpolar": [
           {
            "marker": {
             "colorbar": {
              "outlinewidth": 0,
              "ticks": ""
             }
            },
            "type": "scatterpolar"
           }
          ],
          "scatterpolargl": [
           {
            "marker": {
             "colorbar": {
              "outlinewidth": 0,
              "ticks": ""
             }
            },
            "type": "scatterpolargl"
           }
          ],
          "scatterternary": [
           {
            "marker": {
             "colorbar": {
              "outlinewidth": 0,
              "ticks": ""
             }
            },
            "type": "scatterternary"
           }
          ],
          "surface": [
           {
            "colorbar": {
             "outlinewidth": 0,
             "ticks": ""
            },
            "colorscale": [
             [
              0,
              "#0d0887"
             ],
             [
              0.1111111111111111,
              "#46039f"
             ],
             [
              0.2222222222222222,
              "#7201a8"
             ],
             [
              0.3333333333333333,
              "#9c179e"
             ],
             [
              0.4444444444444444,
              "#bd3786"
             ],
             [
              0.5555555555555556,
              "#d8576b"
             ],
             [
              0.6666666666666666,
              "#ed7953"
             ],
             [
              0.7777777777777778,
              "#fb9f3a"
             ],
             [
              0.8888888888888888,
              "#fdca26"
             ],
             [
              1,
              "#f0f921"
             ]
            ],
            "type": "surface"
           }
          ],
          "table": [
           {
            "cells": {
             "fill": {
              "color": "#EBF0F8"
             },
             "line": {
              "color": "white"
             }
            },
            "header": {
             "fill": {
              "color": "#C8D4E3"
             },
             "line": {
              "color": "white"
             }
            },
            "type": "table"
           }
          ]
         },
         "layout": {
          "annotationdefaults": {
           "arrowcolor": "#2a3f5f",
           "arrowhead": 0,
           "arrowwidth": 1
          },
          "autotypenumbers": "strict",
          "coloraxis": {
           "colorbar": {
            "outlinewidth": 0,
            "ticks": ""
           }
          },
          "colorscale": {
           "diverging": [
            [
             0,
             "#8e0152"
            ],
            [
             0.1,
             "#c51b7d"
            ],
            [
             0.2,
             "#de77ae"
            ],
            [
             0.3,
             "#f1b6da"
            ],
            [
             0.4,
             "#fde0ef"
            ],
            [
             0.5,
             "#f7f7f7"
            ],
            [
             0.6,
             "#e6f5d0"
            ],
            [
             0.7,
             "#b8e186"
            ],
            [
             0.8,
             "#7fbc41"
            ],
            [
             0.9,
             "#4d9221"
            ],
            [
             1,
             "#276419"
            ]
           ],
           "sequential": [
            [
             0,
             "#0d0887"
            ],
            [
             0.1111111111111111,
             "#46039f"
            ],
            [
             0.2222222222222222,
             "#7201a8"
            ],
            [
             0.3333333333333333,
             "#9c179e"
            ],
            [
             0.4444444444444444,
             "#bd3786"
            ],
            [
             0.5555555555555556,
             "#d8576b"
            ],
            [
             0.6666666666666666,
             "#ed7953"
            ],
            [
             0.7777777777777778,
             "#fb9f3a"
            ],
            [
             0.8888888888888888,
             "#fdca26"
            ],
            [
             1,
             "#f0f921"
            ]
           ],
           "sequentialminus": [
            [
             0,
             "#0d0887"
            ],
            [
             0.1111111111111111,
             "#46039f"
            ],
            [
             0.2222222222222222,
             "#7201a8"
            ],
            [
             0.3333333333333333,
             "#9c179e"
            ],
            [
             0.4444444444444444,
             "#bd3786"
            ],
            [
             0.5555555555555556,
             "#d8576b"
            ],
            [
             0.6666666666666666,
             "#ed7953"
            ],
            [
             0.7777777777777778,
             "#fb9f3a"
            ],
            [
             0.8888888888888888,
             "#fdca26"
            ],
            [
             1,
             "#f0f921"
            ]
           ]
          },
          "colorway": [
           "#636efa",
           "#EF553B",
           "#00cc96",
           "#ab63fa",
           "#FFA15A",
           "#19d3f3",
           "#FF6692",
           "#B6E880",
           "#FF97FF",
           "#FECB52"
          ],
          "font": {
           "color": "#2a3f5f"
          },
          "geo": {
           "bgcolor": "white",
           "lakecolor": "white",
           "landcolor": "#E5ECF6",
           "showlakes": true,
           "showland": true,
           "subunitcolor": "white"
          },
          "hoverlabel": {
           "align": "left"
          },
          "hovermode": "closest",
          "mapbox": {
           "style": "light"
          },
          "paper_bgcolor": "white",
          "plot_bgcolor": "#E5ECF6",
          "polar": {
           "angularaxis": {
            "gridcolor": "white",
            "linecolor": "white",
            "ticks": ""
           },
           "bgcolor": "#E5ECF6",
           "radialaxis": {
            "gridcolor": "white",
            "linecolor": "white",
            "ticks": ""
           }
          },
          "scene": {
           "xaxis": {
            "backgroundcolor": "#E5ECF6",
            "gridcolor": "white",
            "gridwidth": 2,
            "linecolor": "white",
            "showbackground": true,
            "ticks": "",
            "zerolinecolor": "white"
           },
           "yaxis": {
            "backgroundcolor": "#E5ECF6",
            "gridcolor": "white",
            "gridwidth": 2,
            "linecolor": "white",
            "showbackground": true,
            "ticks": "",
            "zerolinecolor": "white"
           },
           "zaxis": {
            "backgroundcolor": "#E5ECF6",
            "gridcolor": "white",
            "gridwidth": 2,
            "linecolor": "white",
            "showbackground": true,
            "ticks": "",
            "zerolinecolor": "white"
           }
          },
          "shapedefaults": {
           "line": {
            "color": "#2a3f5f"
           }
          },
          "ternary": {
           "aaxis": {
            "gridcolor": "white",
            "linecolor": "white",
            "ticks": ""
           },
           "baxis": {
            "gridcolor": "white",
            "linecolor": "white",
            "ticks": ""
           },
           "bgcolor": "#E5ECF6",
           "caxis": {
            "gridcolor": "white",
            "linecolor": "white",
            "ticks": ""
           }
          },
          "title": {
           "x": 0.05
          },
          "xaxis": {
           "automargin": true,
           "gridcolor": "white",
           "linecolor": "white",
           "ticks": "",
           "title": {
            "standoff": 15
           },
           "zerolinecolor": "white",
           "zerolinewidth": 2
          },
          "yaxis": {
           "automargin": true,
           "gridcolor": "white",
           "linecolor": "white",
           "ticks": "",
           "title": {
            "standoff": 15
           },
           "zerolinecolor": "white",
           "zerolinewidth": 2
          }
         }
        }
       }
      }
     },
     "metadata": {},
     "output_type": "display_data"
    },
    {
     "name": "stdout",
     "output_type": "stream",
     "text": [
      "\n",
      "Outlier prop: 0.01 (1 / 10)\n",
      "downsample outliers\n",
      "Finding best bandwidth...\n",
      "Algo:  kde\n",
      "Algo:  mom-kde\n",
      "Algo:  rkde-huber\n",
      "Stop at 4 iterations\n",
      "Stop at 2 iterations\n",
      "Algo:  rkde-hampel\n",
      "Stop at 4 iterations\n",
      "Stop at 18 iterations\n",
      "\n",
      "Outlier prop: 0.02 (2 / 10)\n",
      "downsample outliers\n",
      "Finding best bandwidth...\n",
      "Algo:  kde\n",
      "Algo:  mom-kde\n",
      "Algo:  rkde-huber\n",
      "Stop at 4 iterations\n",
      "Stop at 2 iterations\n",
      "Algo:  rkde-hampel\n",
      "Stop at 4 iterations\n",
      "Stop at 100 iterations\n",
      "\n",
      "Outlier prop: 0.03 (3 / 10)\n",
      "downsample outliers\n",
      "Finding best bandwidth...\n",
      "Algo:  kde\n",
      "Algo:  mom-kde\n",
      "Algo:  rkde-huber\n",
      "Stop at 3 iterations\n",
      "Stop at 2 iterations\n",
      "Algo:  rkde-hampel\n",
      "Stop at 3 iterations\n",
      "Stop at 100 iterations\n",
      "\n",
      "Outlier prop: 0.05 (4 / 10)\n",
      "downsample outliers\n",
      "Finding best bandwidth...\n",
      "Algo:  kde\n",
      "Algo:  mom-kde\n",
      "Algo:  rkde-huber\n",
      "Stop at 4 iterations\n",
      "Stop at 2 iterations\n",
      "Algo:  rkde-hampel\n",
      "Stop at 4 iterations\n",
      "Stop at 100 iterations\n",
      "\n",
      "Outlier prop: 0.07 (5 / 10)\n",
      "downsample outliers\n",
      "Finding best bandwidth...\n",
      "Algo:  kde\n",
      "Algo:  mom-kde\n",
      "Algo:  rkde-huber\n",
      "Stop at 3 iterations\n",
      "Stop at 2 iterations\n",
      "Algo:  rkde-hampel\n",
      "Stop at 3 iterations\n",
      "Stop at 100 iterations\n",
      "\n",
      "Outlier prop: 0.1 (6 / 10)\n",
      "downsample outliers\n",
      "Finding best bandwidth...\n",
      "Algo:  kde\n",
      "Algo:  mom-kde\n",
      "Algo:  rkde-huber\n",
      "Stop at 4 iterations\n",
      "Stop at 2 iterations\n",
      "Algo:  rkde-hampel\n",
      "Stop at 4 iterations\n",
      "Stop at 100 iterations\n",
      "\n",
      "Outlier prop: 0.2 (7 / 10)\n",
      "downsample outliers\n",
      "Finding best bandwidth...\n",
      "Algo:  kde\n",
      "Algo:  mom-kde\n",
      "Algo:  rkde-huber\n",
      "Stop at 6 iterations\n",
      "Stop at 3 iterations\n",
      "Algo:  rkde-hampel\n",
      "Stop at 6 iterations\n",
      "Stop at 100 iterations\n",
      "\n",
      "Outlier prop: 0.3 (8 / 10)\n",
      "downsample outliers\n",
      "Finding best bandwidth...\n",
      "Algo:  kde\n",
      "Algo:  mom-kde\n",
      "Algo:  rkde-huber\n",
      "Stop at 4 iterations\n",
      "Stop at 2 iterations\n",
      "Algo:  rkde-hampel\n",
      "Stop at 4 iterations\n",
      "Stop at 17 iterations\n",
      "\n",
      "Outlier prop: 0.4 (9 / 10)\n",
      "downsample outliers\n",
      "Finding best bandwidth...\n",
      "Algo:  kde\n",
      "Algo:  mom-kde\n",
      "Algo:  rkde-huber\n",
      "Stop at 4 iterations\n",
      "Stop at 2 iterations\n",
      "Algo:  rkde-hampel\n",
      "Stop at 4 iterations\n",
      "Stop at 19 iterations\n",
      "\n",
      "Outlier prop: 0.5 (10 / 10)\n",
      "downsample inliers\n",
      "Finding best bandwidth...\n",
      "Algo:  kde\n",
      "Algo:  mom-kde\n",
      "Algo:  rkde-huber\n",
      "Stop at 3 iterations\n",
      "Stop at 2 iterations\n",
      "Algo:  rkde-hampel\n",
      "Stop at 3 iterations\n",
      "Stop at 100 iterations\n"
     ]
    }
   ],
   "source": [
    "auc_scores = perform_rkde_experiment(\n",
    "    algos,\n",
    "    dataset,\n",
    "    dataset_options,\n",
    "    outlierprop_range,\n",
    "    kernel,\n",
    ")"
   ]
  },
  {
   "cell_type": "code",
   "execution_count": 24,
   "id": "280ed959",
   "metadata": {},
   "outputs": [
    {
     "data": {
      "text/plain": [
       "Text(0.5, 1.0, 'Comparison of rKDE against contamination')"
      ]
     },
     "execution_count": 24,
     "metadata": {},
     "output_type": "execute_result"
    },
    {
     "data": {
      "image/png": "[encoded data removed]",
      "text/plain": [
       "<Figure size 504x360 with 1 Axes>"
      ]
     },
     "metadata": {
      "needs_background": "light"
     },
     "output_type": "display_data"
    }
   ],
   "source": [
    "fig, ax = plt.subplots(figsize=(7, 5))\n",
    "for algo, algo_data in auc_scores.groupby('algo'):\n",
    "    x = algo_data.groupby('outlier_prop').mean().index\n",
    "    y = algo_data.groupby('outlier_prop').mean()['auc_anomaly']\n",
    "    ax.plot(x, y, 'o-', label=algo)\n",
    "plt.legend()\n",
    "plt.xlabel('outlier_prop')\n",
    "plt.ylabel('auc_score')\n",
    "plt.title('Comparison of rKDE against contamination')"
   ]
  },
  {
   "cell_type": "markdown",
   "id": "bd659a73",
   "metadata": {},
   "source": [
    "Try using different neighborhoods for contamination. Which robust KDE algorithm performs better overall? Choose among the following options:\n",
    "\n",
    "OldTown, Veenker, Edwards, MeadowV, Somerst, NPkVill, BrDale, Gilbert, NridgHt, Sawyer, Blmngtn, Blueste\n",
    "\n",
    "You can also change the kernel type: gaussian, tophat, epechenikov, exponential, linear or cosine, "
   ]
  },
  {
   "cell_type": "markdown",
   "id": "76312d0d",
   "metadata": {
    "slideshow": {
     "slide_type": "subslide"
    }
   },
   "source": [
    "# Summary\n",
    "- Kernel density estimation is a non-parametric method to estimate a pdf from a sample.\n",
    "- Bandwidth is the most important parameter.\n",
    "- Converges to the true pdf if $n\\to\\infty$.\n",
    "    - Convergence exponentially depends on the dimension.\n",
    "- KDE is sensitive to contamination:\n",
    "    - In a contaminated setting one can employ methods from robust statistics to obtain robust estimates.\n",
    "    \n",
    "## Implementations\n",
    "- Sklearn: [sklearn.neighbors.KernelDensity](https://scikit-learn.org/stable/modules/generated/sklearn.neighbors.KernelDensity.html#sklearn.neighbors.KernelDensity)\n",
    "- Statsmodels: [statsmodels.nonparametric.kernel_density.KDEMultivariate](https://www.statsmodels.org/dev/generated/statsmodels.nonparametric.kernel_density.KDEMultivariate.html)\n",
    "- FastKDE: [link](https://pypi.org/project/fastkde/), offers automatic bandwidth and kernel selection."
   ]
  },
  {
   "cell_type": "markdown",
   "id": "71e46caa",
   "metadata": {
    "slideshow": {
     "slide_type": "slide"
    }
   },
   "source": [
    "# Anomaly Detection via Isolation\n",
    "**Idea:** An anomaly should allow  \"simple\" descriptions that distinguish it from the rest of the data.\n",
    "\n",
    "- Descriptions: Conjunction of single attribute tests, i.e.\n",
    "  $X_i \\leq c$ or $X_i > c$.\n",
    "- Example: $X_1 \\leq 1.2 \\text{ and } X_5 > -3.4 \\text{ and }\tX_7 \\leq 5.6$.\n",
    "- Complexity of description: Number of conjunctions.\n",
    "\n",
    "Moreover, we assume that a short random descriptions will have a significantly larger chance of isolating an anomaly\n",
    "than isolating any nominal point.\n",
    "\n",
    "- Choose random isolating descriptions and compute anomaly score from average complexity."
   ]
  },
  {
   "cell_type": "markdown",
   "id": "f9ce4a9f",
   "metadata": {
    "slideshow": {
     "slide_type": "subslide"
    }
   },
   "source": [
    "## Isolation Tree\n",
    "Isolation Forest (iForest) implements this idea by generating an ensemble of random decision trees.\n",
    "Each tree is build as follows:\n",
    "\n",
    "---\n",
    "**Input:** Data set (subsample) $X$, maximal height $h$\n",
    "- Randomly choose feature $i$ and split value $s$ (in range of data)\n",
    "- Recursively build subtrees on $X_L = \\{x\\in X\\mid x_i \\leq s\\}$ and $X_R = X\\setminus X_L$\n",
    "- Stop if remaining data set $ \\leq 1$ or maximal height reached.\n",
    "- Store test $x_i\\leq s$ for inner nodes and $|X|$ for leaf nodes\n",
    "\n",
    "---"
   ]
  },
  {
   "cell_type": "markdown",
   "id": "16dabe54",
   "metadata": {
    "slideshow": {
     "slide_type": "subslide"
    }
   },
   "source": [
    "## Visualization\n",
    "<center>\n",
    "<img src=\"images/partition.png\" align=\"center\" width=\"400\">\n",
    "    Isolation Tree as Partition Diagram\n",
    "</center>"
   ]
  },
  {
   "cell_type": "markdown",
   "id": "39fc2c5b",
   "metadata": {
    "slideshow": {
     "slide_type": "subslide"
    }
   },
   "source": [
    "## Isolation Depth\n",
    "\n",
    "---\n",
    "**Input:** Observation $x$\n",
    "- ${\\ell} = $ length of path from root to leaf according to tests\n",
    "- ${n} = $ size of remaining data set in leaf node\n",
    "- ${c(n)} =$ expected length of a path in a BST with $n$ nodes $={O}(\\log n)$\n",
    "- ${h(x)} = \\ell + c(n)$\n",
    "\n",
    "---\n",
    "\n",
    "<table>\n",
    "    <tr>\n",
    "        <td style=\"background-color:#FFFFFF;\"><img src=\"images/blob.png\" width=\"300\"></td>\n",
    "        <td style=\"background-color:#FFFFFF;\"><img src=\"images/tree.png\"  width=\"300\"></td>\n",
    "    </tr>\n",
    "    <tr>\n",
    "        <td colspan=\"2\" style=\"background-color:#FFFFFF;\"><center>Isolation Depth of Outlier (red) and nominal (blue)</center></td>\n",
    "    </tr>\n",
    "</table>\n"
   ]
  },
  {
   "cell_type": "markdown",
   "id": "4659e094",
   "metadata": {
    "slideshow": {
     "slide_type": "subslide"
    }
   },
   "source": [
    "## Isolation Forest\n",
    "- Train $k$ isolation trees on subsamples of size $N$"
   ]
  },
  {
   "cell_type": "markdown",
   "id": "2423122d",
   "metadata": {
    "slideshow": {
     "slide_type": "subslide"
    }
   },
   "source": [
    "\n",
    "<table>\n",
    "    <tr>\n",
    "        <td style=\"background-color:#FFFFFF;\"><img src=\"images/inrad.png\" width=\"400\"></td>\n",
    "        <td style=\"background-color:#FFFFFF;\"><img src=\"images/outrad.png\"  width=\"400\"></td>\n",
    "    </tr>\n",
    "    <tr>\n",
    "        <td colspan=\"2\"><center>Isolation depth of nominal point (left) and outlier (right)</center></td>\n",
    "    </tr>\n",
    "</table>"
   ]
  },
  {
   "cell_type": "markdown",
   "id": "f00a372e",
   "metadata": {
    "slideshow": {
     "slide_type": "skip"
    }
   },
   "source": [
    "# Variants of Isolation Forest"
   ]
  },
  {
   "cell_type": "markdown",
   "id": "702f9985",
   "metadata": {
    "slideshow": {
     "slide_type": "skip"
    }
   },
   "source": [
    "## Variant: Random Robust Cut Forest\n",
    "**New Rule to Choose Split Test:**\n",
    "- $\\ell_i$: length of the $i$th component of the bounding box around current data set\n",
    "- Choose dimension $i$ with probability $\\frac{\\ell_i}{\\sum_j \\ell_j}$\n",
    "- More robust against \"noise dimensions\""
   ]
  },
  {
   "cell_type": "markdown",
   "id": "ef0a2568",
   "metadata": {
    "slideshow": {
     "slide_type": "skip"
    }
   },
   "source": [
    "<center>\n",
    "<img src=\"images/partition2.png\" align=\"center\" width=\"400\" caption=\"Comparisson IForest and RRCF\">\n",
    "</center>"
   ]
  },
  {
   "cell_type": "markdown",
   "id": "ce7f67a8",
   "metadata": {
    "slideshow": {
     "slide_type": "skip"
    }
   },
   "source": [
    "## Variant: Extended Isolation Forest\n",
    "**New split criterion:**\n",
    "- Uniformly choose a normal and an orthogonal hyperplane through the data.\n",
    "- Removes a bias that was empirically observed when plotting the outlier score of iForest on low dimensional data sets\n",
    "\n",
    "<center>\n",
    "<img src=\"images/extended.png\" align=\"center\" width=\"80%\">\n",
    "</center>"
   ]
  },
  {
   "cell_type": "markdown",
   "id": "f144c10d",
   "metadata": {
    "slideshow": {
     "slide_type": "subslide"
    }
   },
   "source": [
    "# Exercise: Network Security\n",
    "\n",
    "In the final exercise of today you will have to develop an anomaly detection system for network traffic.\n",
    "\n",
    "## Briefing\n",
    "A large e-commerce company __A__ is experiencing downtime due to attacks on their infrastructure.\n",
    "You were instructed to develop a system that can detect malicious connections to the infrastructure.\n",
    "It is planned that suspicious clients will be banned.\n",
    "\n",
    "Another data science team already prepared the connection data of the last year for you. They also separated a test set and manually identified and labeled attacks in that data.\n",
    "\n",
    "## The Data\n",
    "We will work on a version of the classic KDD99 data set.\n",
    "\n",
    "### Kddcup 99 Data Set\n",
    "----------------------------\n",
    "The KDD Cup '99 dataset was created by processing the tcp dump portions\n",
    "of the 1998 DARPA Intrusion Detection System (IDS) Evaluation dataset,\n",
    "created by MIT Lincoln Lab [1]. The artificial data (described on the `dataset's\n",
    "homepage <https://kdd.ics.uci.edu/databases/kddcup99/kddcup99.html>`_) was\n",
    "generated using a closed network and hand-injected attacks to produce a\n",
    "large number of different types of attack with normal activity in the\n",
    "background.\n",
    "\n",
    "    =========================   ====================================================\n",
    "    Samples total               976158\n",
    "    Dimensionality              41\n",
    "    Features                    string (str), discrete (int), continuous (float)\n",
    "    Targets                     str, 'normal.' or name of the anomaly type\n",
    "    Proportion of Anomalies     1%\n",
    "    =========================   ====================================================\n",
    "\n",
    "----------------------------------\n",
    "\n",
    "## Task\n",
    "You will have to develop the system on your own. In particular, you will have to\n",
    "- Explore the data.\n",
    "- Choose an algorithm.\n",
    "- Find a good detection threshold.\n",
    "- Evaluate and summarize your results.\n",
    "- Estimate how much __A__ could save through the use of your system."
   ]
  },
  {
   "cell_type": "code",
   "execution_count": null,
   "id": "91e31b17",
   "metadata": {
    "pycharm": {
     "name": "#%%\n"
    },
    "slideshow": {
     "slide_type": "skip"
    }
   },
   "outputs": [],
   "source": [
    "X_train,X_test,y_test = get_kdd_data()"
   ]
  },
  {
   "cell_type": "markdown",
   "id": "9a47f0c1",
   "metadata": {
    "slideshow": {
     "slide_type": "skip"
    }
   },
   "source": [
    "# Explore Data"
   ]
  },
  {
   "cell_type": "code",
   "execution_count": null,
   "id": "5044d551",
   "metadata": {
    "pycharm": {
     "name": "#%%\n"
    },
    "slideshow": {
     "slide_type": "skip"
    }
   },
   "outputs": [],
   "source": [
    "#\n",
    "# Add your exploration code\n",
    "#\n",
    "X_train = pd.DataFrame(X_train)\n",
    "X_test = pd.DataFrame(X_test)"
   ]
  },
  {
   "cell_type": "code",
   "execution_count": null,
   "id": "f2f4d539",
   "metadata": {
    "pycharm": {
     "name": "#%%\n"
    },
    "slideshow": {
     "slide_type": "skip"
    }
   },
   "outputs": [],
   "source": [
    "# get description\n",
    "X_train.describe()"
   ]
  },
  {
   "cell_type": "code",
   "execution_count": null,
   "id": "d1483fbf",
   "metadata": {
    "pycharm": {
     "name": "#%%\n"
    },
    "slideshow": {
     "slide_type": "skip"
    }
   },
   "outputs": [],
   "source": [
    "# get better description\n",
    "X_train.drop(columns=[1,2,3]).astype(float).describe()"
   ]
  },
  {
   "cell_type": "code",
   "execution_count": null,
   "id": "8ac2ddd4",
   "metadata": {
    "pycharm": {
     "name": "#%%\n"
    },
    "slideshow": {
     "slide_type": "skip"
    }
   },
   "outputs": [],
   "source": [
    "# Check for NaNs\n",
    "print(\"Number of NaNs: {}\".format(X_train.isna().sum().sum()))"
   ]
  },
  {
   "cell_type": "code",
   "execution_count": null,
   "id": "763c76dc",
   "metadata": {
    "pycharm": {
     "name": "#%%\n"
    },
    "slideshow": {
     "slide_type": "skip"
    }
   },
   "outputs": [],
   "source": [
    "#\n",
    "# Add your preperation code here\n",
    "#\n",
    "\n",
    "# Encode string features\n",
    "binarizer = LabelBinarizer()\n",
    "one_hots = None\n",
    "one_hots_test = None\n",
    "for i in [1, 2, 3]:\n",
    "    binarizer.fit(X_train[[i]].astype(str))\n",
    "    if one_hots is None:\n",
    "        one_hots = binarizer.transform(X_train[[i]].astype(str))\n",
    "        one_hots_test = binarizer.transform(X_test[[i]].astype(str))\n",
    "    else:\n",
    "        one_hots = np.concatenate([one_hots, binarizer.transform(X_train[[i]].astype(str))], axis=1)\n",
    "        one_hots_test = np.concatenate([one_hots_test, binarizer.transform(X_test[[i]].astype(str))], axis=1)\n",
    "\n",
    "X_train.drop(columns=[1,2,3], inplace=True)\n",
    "X_train_onehot = pd.DataFrame(np.concatenate([X_train.values, one_hots], axis=1))\n",
    "\n",
    "X_test.drop(columns=[1,2,3], inplace=True)\n",
    "X_test_onehot = pd.DataFrame(np.concatenate([X_test.values, one_hots_test], axis=1))"
   ]
  },
  {
   "cell_type": "code",
   "execution_count": null,
   "id": "1d363320",
   "metadata": {
    "pycharm": {
     "name": "#%%\n"
    },
    "slideshow": {
     "slide_type": "skip"
    }
   },
   "outputs": [],
   "source": [
    "# Encode y\n",
    "y_test_bin = np.where(y_test == b'normal.', 0, 1)\n"
   ]
  },
  {
   "cell_type": "code",
   "execution_count": null,
   "id": "ef0cf969",
   "metadata": {
    "pycharm": {
     "name": "#%%\n"
    },
    "slideshow": {
     "slide_type": "skip"
    }
   },
   "outputs": [],
   "source": [
    "# Remove suspicious data\n",
    "# This step is not strictly neccessary but can improve performance\n",
    "suspicious = X_train_onehot.apply(lambda col: (col - col.mean()).abs() > 4 * col.std() if col.std() > 1 else False)\n",
    "suspicious = suspicious.any(axis=1)# 4 sigma rule\n",
    "print('filtering {} suspicious data points'.format(suspicious.sum()))\n",
    "X_train_clean = X_train_onehot[~suspicious]"
   ]
  },
  {
   "cell_type": "markdown",
   "id": "201f1dfb",
   "metadata": {},
   "source": [
    "# Summary\n",
    "- Isolation Forest empirically shows very good performance to relatively high dimensions\n",
    "- It is relatively robust against contamination.\n",
    "- Usually little need for hyperparameter tuning\n",
    "\n",
    "## Implementations\n",
    "- Sklearn: [sklearn.ensemble.IsolationForest](https://scikit-learn.org/stable/modules/generated/sklearn.ensemble.IsolationForest.html)\n",
    "- Extended Isolation Forest: [variant](https://github.com/sahandha/eif)\n",
    "- Random Robust Cut Forest: [variant](https://github.com/kLabUM/rrcf)"
   ]
  },
  {
   "cell_type": "markdown",
   "id": "80805d83",
   "metadata": {
    "slideshow": {
     "slide_type": "skip"
    }
   },
   "source": [
    "# Choose Algorithm"
   ]
  },
  {
   "cell_type": "code",
   "execution_count": null,
   "id": "13d462c9",
   "metadata": {
    "pycharm": {
     "name": "#%%\n"
    },
    "slideshow": {
     "slide_type": "skip"
    }
   },
   "outputs": [],
   "source": [
    "# TODO: implement proper model selection\n",
    "iforest = IsolationForest()\n",
    "iforest.fit(X_train_clean)"
   ]
  },
  {
   "cell_type": "code",
   "execution_count": null,
   "id": "1877e13d",
   "metadata": {
    "pycharm": {
     "name": "#%%\n"
    },
    "slideshow": {
     "slide_type": "skip"
    }
   },
   "outputs": [],
   "source": [
    "# find best threshold\n",
    "X_test_onehot, X_val_onehot, y_test_bin, y_val_bin = train_test_split(X_test_onehot, y_test_bin, test_size=.5)\n",
    "y_score = -iforest.score_samples(X_val_onehot).reshape(-1)\n",
    "\n",
    "eval = evaluate(y_val_bin, y_score)\n",
    "prec, rec, thr = eval['PR']\n",
    "f1s = 2 * (prec * rec)/(prec + rec)\n",
    "threshold = thr[np.argmax(f1s)]"
   ]
  },
  {
   "cell_type": "markdown",
   "id": "7338159f",
   "metadata": {
    "slideshow": {
     "slide_type": "skip"
    }
   },
   "source": [
    "# Evaluate Solution"
   ]
  },
  {
   "cell_type": "code",
   "execution_count": null,
   "id": "920afcf1",
   "metadata": {
    "pycharm": {
     "name": "#%%\n"
    },
    "slideshow": {
     "slide_type": "skip"
    }
   },
   "outputs": [],
   "source": [
    "#\n",
    "# Insert evaluation code\n",
    "#\n",
    "y_score = -iforest.score_samples(X_test_onehot).reshape(-1)\n",
    "y_pred = np.where(y_score < threshold, 0, 1)\n",
    "\n",
    "print('Precision: {}'.format(metrics.precision_score(y_test_bin, y_pred)))\n",
    "print('Recall: {}'.format(metrics.recall_score(y_test_bin, y_pred)))\n",
    "print('F1: {}'.format(metrics.f1_score(y_test_bin, y_pred)))"
   ]
  },
  {
   "cell_type": "markdown",
   "id": "6287222a",
   "metadata": {
    "slideshow": {
     "slide_type": "slide"
    }
   },
   "source": [
    "# Anomaly Detection via Reconstruction Error\n",
    "**Idea:** Embed the data into low dimensional space and reconstruct it again.\n",
    "\t\t\tGood embedding of nominal data $\\Rightarrow$ high reconstruction error indicates anomaly.\n",
    "\n",
    "**Autoencoder:**\n",
    "- Parametric family of encoders: $f_\\phi: \\mathbb{R}^d \\to \\mathbb{R}^{\\text{low}}$\n",
    "- Parametric family of decoders: $g_\\theta: \\mathbb{R}^{\\text{low}} \\to \\mathbb{R}^{d}$\n",
    "- Reconstruction error of $(f_\\phi, g_\\theta)$ on $x$: $|x - g_\\theta(f_\\phi(x))|$\n",
    "- Given data set $D$, find $\\phi,\\theta$ that minimize $\\sum_{x\\in D} L(|x- g_\\theta(f_\\phi(x))|) $\n",
    "  for some loss function $L$.\n"
   ]
  },
  {
   "cell_type": "markdown",
   "id": "ebb5094e",
   "metadata": {
    "slideshow": {
     "slide_type": "subslide"
    }
   },
   "source": [
    "# Visualization\n",
    "<center>\n",
    "<img src=\"images/autoencoder.png\" align=\"center\" width=\"400\">\n",
    "    Autoencoder Schema\n",
    "</center>"
   ]
  },
  {
   "cell_type": "markdown",
   "id": "565a43e9",
   "metadata": {
    "slideshow": {
     "slide_type": "subslide"
    }
   },
   "source": [
    "## Neural Networks\n",
    "Neural networks are very well suited for finding low dimensional representations of data. Hence they are a popular choice the encoder and decoder.\n",
    "\n",
    "---\n",
    "**Artificial Neuron with $N$ inputs:** $y = \\sigma\\left(\\sum_i^N w_i X_i + b\\right)$\n",
    "\n",
    "- $\\sigma$: nonlinear activation-function (applied component wise).\n",
    "- $b$ bias\n",
    "---"
   ]
  },
  {
   "cell_type": "markdown",
   "id": "e658847c",
   "metadata": {
    "slideshow": {
     "slide_type": "subslide"
    }
   },
   "source": [
    "<table style=\"background-color:#FFFFFF;\">\n",
    "    <tr>\n",
    "        <td style=\"background-color:#FFFFFF;\"><img src=\"images/neuron.png\" width=\"200\"></td>\n",
    "        <td style=\"background-color:#FFFFFF;\"><img src=\"images/activations.png\"  width=\"200\"></td>\n",
    "    </tr>\n",
    "    <tr>\n",
    "        <td colspan=\"2\" style=\"background-color:#FFFFFF;\"><center>Isolation depth of nominal point and anomaly</center></td>\n",
    "    </tr>\n",
    "</table>"
   ]
  },
  {
   "cell_type": "markdown",
   "id": "09243719",
   "metadata": {
    "slideshow": {
     "slide_type": "subslide"
    }
   },
   "source": [
    "# Neural Networks\n",
    "\n",
    "Neural networks combine many artificial neurons into a complex network. These networks are usually organized in layers\n",
    "where the result of each layer is the input for the next layer. Some commonly used layers are:"
   ]
  },
  {
   "cell_type": "markdown",
   "id": "3376f048",
   "metadata": {
    "slideshow": {
     "slide_type": "subslide"
    }
   },
   "source": [
    "<center>\n",
    "<img src=\"images/nn_layers.png\" align=\"center\" width=\"600\">\n",
    "</center>"
   ]
  },
  {
   "cell_type": "markdown",
   "id": "d8794297",
   "metadata": {
    "slideshow": {
     "slide_type": "subslide"
    }
   },
   "source": [
    "## Variational Autoencoders\n",
    "An important extension of autoencoders that relates the idea to density estimation.\n",
    "More precisely, we define a generative model for our data using latent variables and combine the maximum likelihood\n",
    "estimation of the parameters with a simultaneous posterior estimation of the latents through amortized stochastic\n",
    "variational inference. We use a decoder network to transform the latent variables into the data distribution, and an\n",
    "encoder network to compute the posterior distribution of the latents given the data."
   ]
  },
  {
   "cell_type": "markdown",
   "id": "6b5efeac",
   "metadata": {
    "slideshow": {
     "slide_type": "subslide"
    }
   },
   "source": [
    "---\n",
    "**Definition:**\n",
    "The model uses an observed variable $X$ (the data) and a latent variable $Z$ (the defining features of $X$). We assume\n",
    "both $P(Z)$ and $P(X\\mid Z)$ to be normally distributed. More precisely\n",
    "\n",
    "- $P(Z) = \\mathcal{N}(0, I)$\n",
    "- $P(X\\mid Z) = \\mathcal{N}(\\mu_\\phi(Z), I)$\n",
    "\n",
    "where $\\mu_\\phi$ is a neural network parametrized with $\\phi$, respectively.\n",
    "We use variational inference to perform posterior inference on $Z$ given $X$. We assume that distribution $P(Z\\mid X)$\n",
    "be relative well approximated by a Gaussian and use the posterior approximation\n",
    "- $q(X\\mid Z) = \\mathcal{N}(\\mu_\\psi(X), \\sigma_\\psi(X))$\n",
    "\n",
    "$\\mu_\\psi$ and $\\sigma_\\psi$ are neural networks parameterized with $\\psi$\n",
    "\n",
    "---"
   ]
  },
  {
   "cell_type": "markdown",
   "id": "76d013d3",
   "metadata": {
    "slideshow": {
     "slide_type": "subslide"
    }
   },
   "source": [
    "<center>\n",
    "<img src=\"images/vae_schema.png\" align=\"center\" width=\"600\">\n",
    "</center>"
   ]
  },
  {
   "cell_type": "markdown",
   "id": "81661bf9",
   "metadata": {
    "slideshow": {
     "slide_type": "subslide"
    }
   },
   "source": [
    "Given a data set $D$ we minimize the (amortized) Kullback-Leibler divergence between our posterior approximation and the\n",
    "true posterior.\n",
    "\\begin{align*}\n",
    "  D_{KL}(q(Z\\mid X),P(Z\\mid X)) &= E_{x\\sim X, z\\sim q(Z\\mid x)}\\left[\\log\\left(\\frac{q(z \\mid x)}{p(z \\mid X)}\\right)\\right] \\\\\n",
    "    &= E_{x\\sim x, z\\sim q(Z\\mid X)}\\left[\\log\\left(\\frac{q(z \\mid x)}{\\frac{p(x \\mid z)p(z)}{p(x)}}\\right)\\right] \\\\\n",
    "    &= E_{x\\sim x, z\\sim q(Z\\mid x)}\\left[\\log\\left(\\frac{q(z \\mid x)}{p(x \\mid z)p(z)}\\right) + \\log(p(x))\\right] \\\\\n",
    "    &= E_{x\\sim x, z\\sim q(Z\\mid x)}\\left[\\log\\left(\\frac{q(z \\mid x)}{p(x \\mid z)p(z)}\\right)\\right] + E_{x\\sim X}[\\log(p(x))] \\\\\n",
    "    &= E_{x\\sim x, z\\sim q(Z\\mid x)}\\left[\\log\\left(\\frac{q(z \\mid x)}{p(x \\mid z)p(z)}\\right)\\right] + C\n",
    "\\end{align*}\n",
    "\n",
    "We use that our data $D$ is drawn from $X$ and that can sample from\n",
    "$q(Z \\mid x) = \\mathcal{N}(\\mu_\\psi(x), \\sigma_\\psi(x))$ to perform stochastic gradient descent to minimize\n",
    "$D_{KL}(q(Z\\mid X),P(Z\\mid X))$ with respect to $\\phi$ and $\\psi$.\n"
   ]
  },
  {
   "cell_type": "markdown",
   "id": "7131628c",
   "metadata": {
    "slideshow": {
     "slide_type": "subslide"
    }
   },
   "source": [
    "# Exercise"
   ]
  },
  {
   "cell_type": "markdown",
   "id": "05f8c5a6",
   "metadata": {},
   "source": [
    "# The MNIST Data Set\n",
    "MNIST is one of the most iconic data sets in the history of machine learning.\n",
    "It contains 70000 samples of $28\\times 28$ grayscale images of handwritten digits.\n",
    "Because of its moderate complexity and good visualizability it is well suited to study the behavior of machine learning\n",
    "algorithms in higher dimensional spaces.\n",
    "\n",
    "While originally created for classification (optical character recognition), we can build an anomaly detection data set\n",
    "by corrupting some of the images.\n"
   ]
  },
  {
   "cell_type": "markdown",
   "id": "28979a57",
   "metadata": {
    "slideshow": {
     "slide_type": "skip"
    }
   },
   "source": [
    "# Pre-processing\n",
    "We first need to obtain the MNIST data set and prepare an anomaly detection set from it.\n",
    "Note that the data set is n row vector format.\n",
    "Therefore, we work with $28\\times 28 = 784$ dimensional data points."
   ]
  },
  {
   "cell_type": "markdown",
   "id": "d2508225",
   "metadata": {
    "slideshow": {
     "slide_type": "skip"
    }
   },
   "source": [
    "## Load MNIST Data Set"
   ]
  },
  {
   "cell_type": "code",
   "execution_count": null,
   "id": "a95d8450",
   "metadata": {
    "pycharm": {
     "name": "#%%\n"
    },
    "slideshow": {
     "slide_type": "skip"
    }
   },
   "outputs": [],
   "source": [
    "mnist = fetch_openml('mnist_784', version=1)\n",
    "\n",
    "data = mnist.data\n",
    "print('data.shape: {}'.format(data.shape))\n",
    "target = mnist.target.astype(int)"
   ]
  },
  {
   "cell_type": "markdown",
   "id": "f6b6bde9",
   "metadata": {
    "slideshow": {
     "slide_type": "skip"
    }
   },
   "source": [
    "## Build contaminated Data Sets\n",
    "We prepared a function that does the job for us.\n",
    "It corrupts a prescribed portion of the data by introducing a rotation, noise or a blackout of some part of the image.\n",
    "\n",
    "First, we need to transform the data into image format."
   ]
  },
  {
   "cell_type": "code",
   "execution_count": null,
   "id": "954d3762",
   "metadata": {
    "pycharm": {
     "name": "#%%\n"
    },
    "slideshow": {
     "slide_type": "skip"
    }
   },
   "outputs": [],
   "source": [
    "X = data.values.reshape(-1, 28, 28, 1)/255"
   ]
  },
  {
   "cell_type": "markdown",
   "id": "f4d6c089",
   "metadata": {
    "slideshow": {
     "slide_type": "skip"
    }
   },
   "source": [
    "### Train/Test-Split\n",
    "We will only corrupt the test set, hence we will perform the train-test split beforehand.\n",
    "We separate a relatively small test set so that we can use as much as possible from the data to obtain high quality\n",
    "representations."
   ]
  },
  {
   "cell_type": "code",
   "execution_count": null,
   "id": "a0fb9c57",
   "metadata": {
    "pycharm": {
     "name": "#%%\n"
    },
    "slideshow": {
     "slide_type": "skip"
    }
   },
   "outputs": [],
   "source": [
    "test_size = .1\n",
    "X_train, X_test, target_train, target_test = train_test_split(X, target, test_size=test_size)"
   ]
  },
  {
   "cell_type": "code",
   "execution_count": null,
   "id": "d6ad3d43",
   "metadata": {
    "pycharm": {
     "name": "#%%\n"
    },
    "slideshow": {
     "slide_type": "skip"
    }
   },
   "outputs": [],
   "source": [
    "X_test, y_test = build_contaminated_minst(X_test)\n",
    "\n",
    "# Visualize contamination\n",
    "anomalies = X_test[y_test != 0]\n",
    "selection = np.random.choice(len(anomalies), 25)\n",
    "\n",
    "fig, axes = plt.subplots(nrows=5, ncols=5, figsize=(5, 5))\n",
    "for img, ax in zip(anomalies[selection], axes.flatten()):\n",
    "    ax.imshow(img, 'gray')\n",
    "    ax.axis('off')\n",
    "plt.show()"
   ]
  },
  {
   "cell_type": "markdown",
   "id": "3c459a8a",
   "metadata": {
    "slideshow": {
     "slide_type": "skip"
    }
   },
   "source": [
    "# Autoencoder\n",
    "Let us finally train an autoencoder model. We replicate the model given in the\n",
    "[Keras documentation](https://keras.io/examples/generative/vae/) and apply it in a synthetic outlier detection scenario\n",
    "based on MNIST.\n",
    "\n",
    "in the vae package we provide the implementation of the VAE. Please take a look into the source code to see how\n",
    "the minimization of the KL divergence is implemented."
   ]
  },
  {
   "cell_type": "markdown",
   "id": "c1af1c41",
   "metadata": {
    "slideshow": {
     "slide_type": "skip"
    }
   },
   "source": [
    "## Create Model"
   ]
  },
  {
   "cell_type": "code",
   "execution_count": null,
   "id": "c90996a0",
   "metadata": {
    "pycharm": {
     "name": "#%%\n"
    },
    "slideshow": {
     "slide_type": "skip"
    }
   },
   "outputs": [],
   "source": [
    "latent_dim = 3\n",
    "vae = VAE(decoder=build_decoder_mnist(latent_dim=latent_dim), encoder=build_encoder_minst(latent_dim=latent_dim))"
   ]
  },
  {
   "cell_type": "code",
   "execution_count": null,
   "id": "efb89bdd",
   "metadata": {
    "pycharm": {
     "name": "#%%\n"
    },
    "slideshow": {
     "slide_type": "skip"
    }
   },
   "outputs": [],
   "source": [
    "## Inspect model architecture\n",
    "vae.encoder.summary()\n"
   ]
  },
  {
   "cell_type": "code",
   "execution_count": null,
   "id": "68b219e9",
   "metadata": {
    "pycharm": {
     "name": "#%%\n"
    },
    "slideshow": {
     "slide_type": "skip"
    }
   },
   "outputs": [],
   "source": [
    "## Inspect model architecture\n",
    "vae.decoder.summary()\n"
   ]
  },
  {
   "cell_type": "code",
   "execution_count": null,
   "id": "01b43aff",
   "metadata": {
    "pycharm": {
     "name": "#%%\n"
    },
    "slideshow": {
     "slide_type": "skip"
    }
   },
   "outputs": [],
   "source": [
    "# train model\n",
    "vae.compile(optimizer=keras.optimizers.Adam(learning_rate=.001))\n",
    "history = vae.fit(X_train, epochs=30, batch_size=128)"
   ]
  },
  {
   "cell_type": "markdown",
   "id": "e1519875",
   "metadata": {
    "slideshow": {
     "slide_type": "skip"
    }
   },
   "source": [
    "## Inspect Result"
   ]
  },
  {
   "cell_type": "code",
   "execution_count": null,
   "id": "80ab41fd",
   "metadata": {
    "pycharm": {
     "name": "#%%\n"
    },
    "slideshow": {
     "slide_type": "skip"
    }
   },
   "outputs": [],
   "source": [
    "import matplotlib.pyplot as plt\n",
    "\n",
    "\n",
    "def plot_latent_space(vae, n=10, figsize=10):\n",
    "    for perm in [[0, 1, 2], [1, 2, 0], [2, 1, 0]]:\n",
    "        # display a n*n 2D manifold of digits\n",
    "        digit_size = 28\n",
    "        scale = 1.0\n",
    "        figure = np.zeros((digit_size * n, digit_size * n))\n",
    "        # linearly spaced coordinates corresponding to the 2D plot\n",
    "        # of digit classes in the latent space\n",
    "        grid_x = np.linspace(-scale, scale, n)\n",
    "        grid_y = np.linspace(-scale, scale, n)[::-1]\n",
    "\n",
    "        for i, yi in enumerate(grid_y):\n",
    "            for j, xi in enumerate(grid_x):\n",
    "                z_sample = np.array([[xi, yi, 0]])\n",
    "                z_sample[0] = z_sample[0][perm]\n",
    "                x_decoded = vae.decoder.predict(z_sample)\n",
    "                digit = x_decoded[0].reshape(digit_size, digit_size)\n",
    "                figure[\n",
    "                    i * digit_size : (i + 1) * digit_size,\n",
    "                    j * digit_size : (j + 1) * digit_size,\n",
    "                ] = digit\n",
    "\n",
    "        plt.figure(figsize=(figsize, figsize))\n",
    "        start_range = digit_size // 2\n",
    "        end_range = n * digit_size + start_range\n",
    "        pixel_range = np.arange(start_range, end_range, digit_size)\n",
    "        sample_range_x = np.round(grid_x, 1)\n",
    "        sample_range_y = np.round(grid_y, 1)\n",
    "        plt.xticks(pixel_range, sample_range_x)\n",
    "        plt.yticks(pixel_range, sample_range_y)\n",
    "        plt.xlabel(\"z[{}]\".format(perm[0]))\n",
    "        plt.ylabel(\"z[{}]\".format(perm[1]))\n",
    "        plt.gca().set_title('z[{}] = 0'.format(perm[2]))\n",
    "        plt.imshow(figure, cmap=\"Greys_r\")\n",
    "        plt.show()"
   ]
  },
  {
   "cell_type": "code",
   "execution_count": null,
   "id": "bdb0f67d",
   "metadata": {
    "pycharm": {
     "name": "#%%\n"
    },
    "scrolled": false,
    "slideshow": {
     "slide_type": "skip"
    }
   },
   "outputs": [],
   "source": [
    "plot_latent_space(vae)"
   ]
  },
  {
   "cell_type": "code",
   "execution_count": null,
   "id": "0d6a5b6f",
   "metadata": {
    "pycharm": {
     "name": "#%%\n"
    },
    "slideshow": {
     "slide_type": "skip"
    }
   },
   "outputs": [],
   "source": [
    "# Principal components\n",
    "pca = PCA()\n",
    "latents = vae.encoder.predict(X_train)[2]\n",
    "pca.fit(latents)\n",
    "\n",
    "kwargs = {'x_{}'.format(i): (-1., 1.) for i in range(latent_dim)}\n",
    "\n",
    "\n",
    "@widgets.interact(**kwargs)\n",
    "def explore_latent_space(**kwargs):\n",
    "    center_img = pca.transform(np.zeros([1,latent_dim]))\n",
    "\n",
    "    latent_rep_pca =  center_img + np.array([[kwargs[key] for key in kwargs]])\n",
    "    latent_rep = pca.inverse_transform(latent_rep_pca)\n",
    "    img = vae.decoder(latent_rep).numpy().reshape(28, 28)\n",
    "\n",
    "    fig, ax = plt.subplots()\n",
    "    ax.axis('off')\n",
    "    ax.axis('off')\n",
    "\n",
    "    ax.imshow(img,cmap='gray', vmin=0, vmax=1)\n",
    "    plt.show()"
   ]
  },
  {
   "cell_type": "code",
   "execution_count": null,
   "id": "6f9fb82f",
   "metadata": {
    "pycharm": {
     "name": "#%%\n"
    },
    "slideshow": {
     "slide_type": "skip"
    }
   },
   "outputs": [],
   "source": [
    "latents = vae.encoder.predict(X_train)[2]\n",
    "scatter = px.scatter_3d(x=latents[:, 0], y=latents[:, 1], z=latents[:, 2], color=target_train)\n",
    "\n",
    "scatter.show()"
   ]
  },
  {
   "cell_type": "code",
   "execution_count": null,
   "id": "ea370a83",
   "metadata": {
    "pycharm": {
     "name": "#%%\n"
    },
    "slideshow": {
     "slide_type": "skip"
    }
   },
   "outputs": [],
   "source": [
    "latents = vae.encoder.predict(X_test)[2]\n",
    "scatter = px.scatter_3d(x=latents[:, 0], y=latents[:, 1], z=latents[:, 2], color=y_test)\n",
    "\n",
    "scatter.show()"
   ]
  },
  {
   "cell_type": "code",
   "execution_count": null,
   "id": "dee0a98e",
   "metadata": {
    "pycharm": {
     "name": "#%%\n"
    },
    "slideshow": {
     "slide_type": "skip"
    }
   },
   "outputs": [],
   "source": [
    "X_test, X_val, y_test, y_val = train_test_split(X_test, y_test)\n"
   ]
  },
  {
   "cell_type": "code",
   "execution_count": null,
   "id": "65c957f8",
   "metadata": {
    "pycharm": {
     "name": "#%%\n"
    },
    "slideshow": {
     "slide_type": "skip"
    }
   },
   "outputs": [],
   "source": [
    "n_samples = 10\n",
    "\n",
    "s = np.random.choice(range(len(X_val)), n_samples)\n",
    "s = X_val[s]\n",
    "#s = [X_train_img[i] for i in s]\n",
    "\n",
    "fig, axes = plt.subplots(nrows=2, ncols=n_samples, figsize=(10, 2))\n",
    "for img, ax_row in zip(s, axes.T):\n",
    "    x = vae.decoder.predict(vae.encoder.predict(img.reshape(1, 28, 28, 1))[2]).reshape(28, 28)\n",
    "    diff = x - img.reshape(28, 28)\n",
    "    error = (diff * diff).sum()\n",
    "    ax_row[0].axis('off')\n",
    "    ax_row[1].axis('off')\n",
    "    ax_row[0].imshow(img,cmap='gray', vmin=0, vmax=1)\n",
    "    ax_row[1].imshow(x, cmap='gray', vmin=0, vmax=1)\n",
    "    ax_row[1].set_title('E={:.1f}'.format(error))\n",
    "\n",
    "plt.tight_layout()\n",
    "plt.show()"
   ]
  },
  {
   "cell_type": "code",
   "execution_count": null,
   "id": "350edb6c",
   "metadata": {
    "pycharm": {
     "name": "#%%\n"
    },
    "slideshow": {
     "slide_type": "skip"
    }
   },
   "outputs": [],
   "source": [
    "from sklearn import metrics\n",
    "y_test_bin = y_test.copy()\n",
    "y_test_bin[y_test != 0] = 1\n",
    "y_val_bin = y_val.copy()\n",
    "y_val_bin[y_val != 0] = 1\n",
    "# Evaluate\n",
    "reconstruction = vae.decoder.predict(vae.encoder(X_val)[2])\n",
    "rerrors = (reconstruction - X_val).reshape(-1, 28*28)\n",
    "rerrors = (rerrors * rerrors).sum(axis=1)\n",
    "eval = evaluate(y_val_bin.astype(int), rerrors.astype(float))\n",
    "pr, rec, thr = eval['PR']\n",
    "f1s = (2 * ((pr * rec)[:-1]/(pr + rec)[:-1]))\n",
    "threshold = thr[np.argmax(f1s)]\n",
    "print('Optimal threshold: {}'.format(threshold))\n",
    "\n",
    "reconstruction = vae.decoder.predict(vae.encoder(X_test)[2])\n",
    "reconstruction_error = (reconstruction - X_test).reshape(-1, 28*28)\n",
    "reconstruction_error = (reconstruction_error * reconstruction_error).sum(axis=1)\n",
    "\n",
    "\n",
    "classification = (reconstruction_error > threshold).astype(int)\n",
    "\n",
    "print('Precision: {}'.format(metrics.precision_score(y_test_bin, classification)))\n",
    "print('Recall: {}'.format(metrics.recall_score(y_test_bin, classification)))\n",
    "print('F1: {}'.format(metrics.f1_score(y_test_bin, classification)))\n",
    "\n",
    "metrics.confusion_matrix(y_test_bin, classification)\n"
   ]
  },
  {
   "cell_type": "markdown",
   "id": "c8c5568d",
   "metadata": {
    "slideshow": {
     "slide_type": "skip"
    }
   },
   "source": [
    "## Sort Data by Reconstruction Error"
   ]
  },
  {
   "cell_type": "code",
   "execution_count": null,
   "id": "9b304ec8",
   "metadata": {
    "pycharm": {
     "name": "#%%\n"
    },
    "slideshow": {
     "slide_type": "skip"
    }
   },
   "outputs": [],
   "source": [
    "combined = list(zip(X_test, reconstruction_error))\n",
    "combined.sort(key = lambda x: x[1])\n"
   ]
  },
  {
   "cell_type": "markdown",
   "id": "555fd7f3",
   "metadata": {
    "slideshow": {
     "slide_type": "skip"
    }
   },
   "source": [
    "## Show Top Autoencoder Outliers"
   ]
  },
  {
   "cell_type": "code",
   "execution_count": null,
   "id": "d51d7a5c",
   "metadata": {
    "pycharm": {
     "name": "#%%\n"
    },
    "slideshow": {
     "slide_type": "skip"
    }
   },
   "outputs": [],
   "source": [
    "n_rows = 10\n",
    "n_cols = 10\n",
    "n_samples = n_rows*n_cols\n",
    "\n",
    "samples = [c[0] for c in combined[-n_samples:]]\n",
    "\n",
    "fig, axes = plt.subplots(nrows=n_rows, ncols=n_cols, figsize=(2*n_cols, 2*n_rows))\n",
    "for img, ax in zip(samples, axes.reshape(-1)):\n",
    "    ax.axis('off')\n",
    "    ax.imshow(img.reshape((28,28)), cmap='gray', vmin=0, vmax=1)\n",
    "\n",
    "plt.show()\n"
   ]
  },
  {
   "cell_type": "markdown",
   "id": "85cd3f88",
   "metadata": {},
   "source": [
    "# Summary\n",
    "- Autoencoder are the most prominent reconstruction error based anomaly detection method.\n",
    "- Can provide high quality results on high dimensional data.\n",
    "- Architecture is highly adaptable to the data (fully connected, CNN, attention,...).\n",
    "- Sensitive to contamination.\n",
    "- Variational autoencoder are an important variant the improves the interpretability of the latent space.\n",
    "\n",
    "## Implementations\n",
    "- Keras: see vae.py or [here](https://keras.io/examples/generative/vae/)\n",
    "- Pytorch: [example implementation](https://colab.research.google.com/github/smartgeometry-ucl/dl4g/blob/master/variational_autoencoder.ipynb)\n",
    "- Pyro (pytorch based probabilistic programming language): [example implementation](https://pyro.ai/examples/vae.html)"
   ]
  },
  {
   "cell_type": "markdown",
   "id": "b1dd207a",
   "metadata": {
    "slideshow": {
     "slide_type": "slide"
    }
   },
   "source": [
    "<img src=\"aai_presentation_last_slide.svg\" alt=\"Snow\" style=\"width:100%;\">"
   ]
  }
 ],
 "metadata": {
  "celltoolbar": "Slideshow",
  "kernelspec": {
   "display_name": "Python 3",
   "language": "python",
   "name": "python3"
  },
  "language_info": {
   "codemirror_mode": {
    "name": "ipython",
    "version": 3
   },
   "file_extension": ".py",
   "mimetype": "text/x-python",
   "name": "python",
   "nbconvert_exporter": "python",
   "pygments_lexer": "ipython3",
   "version": "3.9.4"
  }
 },
 "nbformat": 4,
 "nbformat_minor": 5
}
