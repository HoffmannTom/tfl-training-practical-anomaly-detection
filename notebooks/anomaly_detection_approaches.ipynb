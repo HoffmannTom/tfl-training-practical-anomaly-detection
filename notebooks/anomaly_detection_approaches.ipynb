{
 "cells": [
  {
   "cell_type": "code",
   "execution_count": 1,
   "id": "087253b8",
   "metadata": {
    "pycharm": {
     "name": "#%%\n"
    },
    "slideshow": {
     "slide_type": "skip"
    }
   },
   "outputs": [
    {
     "data": {
      "text/html": [
       "<style>/*\n",
       "This file is mainly copy-pasta from rise's examples\n",
       "https://github.com/damianavila/RISE/blob/master/examples/rise.css\n",
       "that was further customized for appliedAI purposes\n",
       "*/\n",
       "@import url('https://fonts.googleapis.com/css2?family=Work+Sans:wght@300&display=swap');\n",
       "\n",
       ".reveal {\n",
       "    color: white !important;\n",
       "    font-family: 'Work Sans', sans-serif !important;\n",
       "}\n",
       "\n",
       "/* Overriding reveal styles in headers */\n",
       ".reveal h1, .reveal h2, .reveal h3, .reveal h4, .reveal h5, .reveal h6 {\n",
       "    text-transform: initial;   /* sky.css says uppercase */\n",
       "    letter-spacing: initial;   /* sky.css says -0.08em */\n",
       "    font-family: 'Work Sans', sans-serif !important;\n",
       "    color: #00747b !important;\n",
       "}\n",
       "\n",
       "/* Overriding reveal styles in normal text */\n",
       "div.text_cell_render {\n",
       "    font-family: 'Work Sans', sans-serif !important;\n",
       "    color: #1c9b90 !important;\n",
       "}\n",
       "\n",
       "body.rise-enabled .reveal ol, body.rise-enabled .reveal dl, body.rise-enabled .reveal ul {\n",
       "    margin-left: 0.1em;\n",
       "    margin-top: 0.2em;\n",
       "}\n",
       "\n",
       ".reveal .rendered_html h1:first-child,\n",
       ".reveal .rendered_html h2:first-child,\n",
       ".reveal .rendered_html h3:first-child,\n",
       ".reveal .rendered_html h4:first-child,\n",
       ".reveal .rendered_html h5:first-child {\n",
       "    margin-top: 0.2em;\n",
       "}\n",
       "\n",
       "h1.plan, h2.plan, h3.plan {\n",
       "    text-align: center;\n",
       "    padding-bottom: 30px;\n",
       "}\n",
       "\n",
       "ul.plan>li>span.plan-bold {\n",
       "    font-size: 110%;\n",
       "    padding: 4px;\n",
       "    font-weight: bold;\n",
       "    background-color: #eee;\n",
       "}\n",
       "\n",
       "ul.plan>li>ul.subplan>li>span.plan-bold {\n",
       "    font-weight: bold;\n",
       "}\n",
       "\n",
       ".plan-strike {\n",
       "    opacity: 0.4;\n",
       "/*    text-decoration: line-through; */\n",
       "}\n",
       "\n",
       "div.plan-container {\n",
       "    display: grid;\n",
       "    grid-template-columns: 50% 50%;\n",
       "}\n",
       "\n",
       "/*\n",
       " * this is to void xarray's html output to show the fallback textual representation\n",
       " * see also\n",
       "   * xarray.md and\n",
       "   * https://github.com/damianavila/RISE/issues/594\n",
       " */\n",
       ".reveal pre.xr-text-repr-fallback {\n",
       "    display: none;\n",
       "}\n",
       "\n",
       "#rise-header {\n",
       "    margin: 10px;\n",
       "    left: 5%;\n",
       "}\n",
       "\n",
       "#rise-footer {\n",
       "    margin: 10px;\n",
       "    right: 5%;\n",
       "}\n",
       "\n",
       "#rise-backimage {\n",
       "    opacity: 0.70;\n",
       "}\n",
       "\n",
       ".reveal img {\n",
       "    max-width: 100%;\n",
       "}\n",
       "\n",
       "\n",
       "/*Styles for explicit html in markdown cells*/\n",
       ".md-slide {\n",
       "    color: white;\n",
       "    font-family: 'Work Sans', sans-serif !important;\n",
       "}\n",
       "\n",
       ".md-slide.title {\n",
       "  position: relative;\n",
       "  top: -50%;\n",
       "  margin-left: 5%;\n",
       "  font-size: 1em;\n",
       "}</style>"
      ],
      "text/plain": [
       "<IPython.core.display.HTML object>"
      ]
     },
     "execution_count": 1,
     "metadata": {},
     "output_type": "execute_result"
    }
   ],
   "source": [
    "# The output of this cell should be committed to the repo such that the styles are applied after\n",
    "# opening the notebook\n",
    "\n",
    "from IPython.core.display import HTML\n",
    "\n",
    "with open(\"rise.css\", \"r\") as f:\n",
    "    styles = f.read()\n",
    "HTML(f'<style>{styles}</style>')"
   ]
  },
  {
   "cell_type": "code",
   "execution_count": 2,
   "id": "46db38bf",
   "metadata": {
    "pycharm": {
     "name": "#%%\n"
    },
    "slideshow": {
     "slide_type": "skip"
    }
   },
   "outputs": [],
   "source": [
    "import numpy as np\n",
    "import itertools as it\n",
    "from tqdm import tqdm\n",
    "\n",
    "import matplotlib\n",
    "from matplotlib import pyplot as plt\n",
    "import plotly.express as px\n",
    "import pandas as pd\n",
    "\n",
    "import ipywidgets as widgets\n",
    "\n",
    "from exercise_tools import evaluate, get_kdd_data, get_house_prices_data, create_distributions, contamination, \\\n",
    "perform_rkde_experiment\n",
    "\n",
    "from ipywidgets import interact\n",
    "\n",
    "from sklearn.metrics import roc_auc_score, average_precision_score\n",
    "from sklearn.model_selection import RandomizedSearchCV\n",
    "from sklearn.preprocessing import MinMaxScaler\n",
    "from sklearn.preprocessing import LabelBinarizer\n",
    "from sklearn.ensemble import IsolationForest\n",
    "from sklearn import metrics\n",
    "from sklearn.model_selection import train_test_split\n",
    "from sklearn.decomposition import PCA\n",
    "from sklearn.neighbors import KernelDensity\n",
    "from sklearn.datasets import fetch_openml\n",
    "\n",
    "from vae import VAE, build_decoder_mnist, build_encoder_minst, build_contaminated_minst\n",
    "\n",
    "from tensorflow import keras\n",
    "\n",
    "%matplotlib inline\n",
    "matplotlib.rcParams['figure.figsize'] = (5, 5)\n"
   ]
  },
  {
   "cell_type": "markdown",
   "id": "7cc2f648",
   "metadata": {
    "slideshow": {
     "slide_type": "slide"
    }
   },
   "source": [
    "<img src=\"aai_presentation_first_slide.svg\" alt=\"Snow\" style=\"width:100%;\">\n",
    "<div class=\"md-slide title\">Anomaly Detection</div>"
   ]
  },
  {
   "cell_type": "markdown",
   "id": "cb85606a",
   "metadata": {
    "slideshow": {
     "slide_type": "slide"
    }
   },
   "source": [
    "# Anomaly Detection via Density Estimation\n",
    "**Idea:** Estimate the density of $F_0$. Areas of low density are anomalous.\n",
    "- Often $p$ is too small to estimate complete mixture model.\n",
    "- Takes into account that $F_1$ might not be well defined.\n",
    "- Estimation procedure needs to be robust against contamination if no clean training data is available."
   ]
  },
  {
   "cell_type": "markdown",
   "id": "ad028f22",
   "metadata": {
    "slideshow": {
     "slide_type": "subslide"
    }
   },
   "source": [
    "## Kernel Density Estimation\n",
    "- Non-parametric method\n",
    "- Can represent almost arbitrarily shaped densities\n",
    "- Each training point \"spreads\" a fraction of the probability mass as specified by the kernel function"
   ]
  },
  {
   "cell_type": "markdown",
   "id": "8a5f8585",
   "metadata": {
    "slideshow": {
     "slide_type": "subslide"
    }
   },
   "source": [
    "\n",
    "---\n",
    "<img src=\"images/kernels.png\" style=\"margin:0px 100px\" width=\"600\" align=\"right\">\n",
    "\n",
    "**Definition:**\n",
    "- $K: \\mathbb{R} \\to \\mathbb{R}$ kernel function\n",
    "    - $K(r) \\geq 0$ for all $r\\in \\mathbb{R}$\n",
    "\t- $\\int_{-\\infty}^{\\infty} K(r) dr = 1$\n",
    "- $h > 0$ bandwidth\n",
    "- Bandwidth is the most crucial parameter\n",
    "---\n",
    "\n",
    "\n",
    "\n"
   ]
  },
  {
   "cell_type": "markdown",
   "id": "9847bb69",
   "metadata": {
    "slideshow": {
     "slide_type": "subslide"
    }
   },
   "source": [
    "\n",
    "---\n",
    "**Definition:**\n",
    "Let $D = \\{x_1,\\ldots,x_N\\}\\subset \\mathbb{R}^p$. The KDE with kernel $K$ and bandwidth $h$ is\n",
    "$KDE_h(x, D) = \\frac{1}{N}\\sum_{i=1}^N \\frac{1}{h^p}K\\left(\\frac{|x-x_i|}{h}\\right)$\n",
    "\n",
    "---\n",
    "<table style=\"width:60%\">\n",
    "    <tr>\n",
    "        <td width=\"20%\" style=\"background-color:#FFFFFF;\"><img src=\"images/bandwidth.png\" width=\"100\"></td>\n",
    "        <td style=\"background-color:#FFFFFF;\"><img src=\"images/1dkde.png\"></td>\n",
    "    </tr>\n",
    "    <tr>\n",
    "        <td style=\"background-color:#FFFFFF;\" colspan=\"2\"><center>Effect of bandwidth and kernel</center></td>\n",
    "    </tr>\n",
    "</table>"
   ]
  },
  {
   "cell_type": "markdown",
   "id": "434d0f3e",
   "metadata": {
    "slideshow": {
     "slide_type": "subslide"
    }
   },
   "source": [
    "### Exercise\n",
    "Play with the parameters!"
   ]
  },
  {
   "cell_type": "code",
   "execution_count": 3,
   "id": "10d29d49",
   "metadata": {
    "hideCode": true,
    "pycharm": {
     "name": "#%%\n"
    }
   },
   "outputs": [
    {
     "data": {
      "image/png": "[encoded data removed]",
      "text/plain": [
       "<Figure size 360x360 with 1 Axes>"
      ]
     },
     "metadata": {
      "needs_background": "light"
     },
     "output_type": "display_data"
    }
   ],
   "source": [
    "dists = create_distributions(dim=2, dim_irrelevant=0)\n",
    "contamination_model = contamination(nominal=dists['Double Blob'], anomaly=dists['Blob'], p=.1)\n",
    "\n",
    "sample_train = contamination_model.sample(500)\n",
    "X_train = sample_train[-1]\n",
    "y_train = sample_train[0]\n",
    "\n",
    "sample_test = contamination_model.sample(500)\n",
    "X_test = sample_test[-1]\n",
    "y_test = sample_test[0]\n",
    "\n",
    "plt.scatter(X_train[:,0], X_train[:,1], c=['blue' if target == 0 else 'red' for target in y_train], s=10)\n",
    "plt.show()"
   ]
  },
  {
   "cell_type": "code",
   "execution_count": 4,
   "id": "639512ea",
   "metadata": {
    "pycharm": {
     "name": "#%%\n"
    },
    "slideshow": {
     "slide_type": "skip"
    }
   },
   "outputs": [],
   "source": [
    "# Helper function\n",
    "def visualize_kde(kernel, bandwidth, X_train, y_train):\n",
    "    fig, axis = plt.subplots(figsize=(5, 5))\n",
    "    kde = KernelDensity(kernel=kernel, bandwidth=bandwidth)\n",
    "    kde.fit(X_train)\n",
    "\n",
    "    lin = np.linspace(-10, 10, 50)\n",
    "    grid_points = list(it.product(lin, lin))\n",
    "    ys, xs = np.meshgrid(lin, lin)\n",
    "    # The score function of sklearn returns log-densities\n",
    "    scores = np.exp(kde.score_samples(grid_points)).reshape(50, 50)\n",
    "    colormesh = axis.contourf(xs, ys, scores)\n",
    "    fig.colorbar(colormesh)\n",
    "    axis.set_title('Density Conturs (Bandwidth={})'.format(bandwidth))\n",
    "    axis.set_aspect('equal')\n",
    "    color = ['blue' if i ==0 else 'red' for i in y_train]\n",
    "    plt.scatter(X_train[:, 0], X_train[:, 1], c=color)\n",
    "    plt.show()"
   ]
  },
  {
   "cell_type": "markdown",
   "id": "d2fa638a",
   "metadata": {
    "slideshow": {
     "slide_type": "subslide"
    }
   },
   "source": [
    "# Choose KDE Parameters"
   ]
  },
  {
   "cell_type": "code",
   "execution_count": 5,
   "id": "89e5ef25",
   "metadata": {
    "hideCode": true,
    "pycharm": {
     "name": "#%%\n"
    },
    "slideshow": {
     "slide_type": "fragment"
    }
   },
   "outputs": [
    {
     "data": {
      "application/vnd.jupyter.widget-view+json": {
       "model_id": "37e45613fe0842158e83ad1d4f901bbe",
       "version_major": 2,
       "version_minor": 0
      },
      "text/plain": [
       "interactive(children=(Dropdown(description='kernel', options=('gaussian', 'tophat', 'epanechnikov', 'exponenti…"
      ]
     },
     "metadata": {},
     "output_type": "display_data"
    }
   ],
   "source": [
    "ker = None\n",
    "bdw = None\n",
    "@interact(\n",
    "    kernel=['gaussian', 'tophat', 'epanechnikov', 'exponential', 'linear', 'cosine'],\n",
    "    bandwidth=(.1, 10.)\n",
    ")\n",
    "def set_kde_params(kernel, bandwidth):\n",
    "    global ker, bdw\n",
    "\n",
    "    ker = kernel\n",
    "    bdw = bandwidth"
   ]
  },
  {
   "cell_type": "code",
   "execution_count": 6,
   "id": "909c4c5c",
   "metadata": {
    "pycharm": {
     "name": "#%%\n"
    },
    "slideshow": {
     "slide_type": "fragment"
    }
   },
   "outputs": [
    {
     "data": {
      "image/png": "[encoded data removed]",
      "text/plain": [
       "<Figure size 360x360 with 2 Axes>"
      ]
     },
     "metadata": {
      "needs_background": "light"
     },
     "output_type": "display_data"
    }
   ],
   "source": [
    "visualize_kde(ker, bdw, X_train, y_train)"
   ]
  },
  {
   "cell_type": "markdown",
   "id": "0ddc2d6c",
   "metadata": {
    "slideshow": {
     "slide_type": "subslide"
    }
   },
   "source": [
    "## Bandwidth Selection\n",
    "The bandwidth is the most important parameter of a KDE model. A wrongly adjusted value will lead to over- or\n",
    "under-smoothing of the density curve.\n",
    "\n",
    "A common methods to select a bandwidth is maximum log-likelyhood cross validation.\n",
    "$$h_{\\textrm{llcv}} = \\arg\\max_{h}\\frac{1}{k}\\sum_{i=1}^k\\sum_{y\\in D_i}\\log\\left(\\frac{k}{N(k-1)}\\sum_{x\\in D_{-i}}K_h(x, y)\\right)$$\n",
    "where $D_{-i}$ is the data without the $i$th cross validation fold $D_i$."
   ]
  },
  {
   "cell_type": "markdown",
   "id": "df4068e5",
   "metadata": {
    "slideshow": {
     "slide_type": "subslide"
    }
   },
   "source": [
    "# Exercises"
   ]
  },
  {
   "cell_type": "markdown",
   "id": "94c87f47",
   "metadata": {},
   "source": [
    "ex no.1: Noisy sinusoidal"
   ]
  },
  {
   "cell_type": "code",
   "execution_count": 7,
   "id": "0238d830",
   "metadata": {
    "pycharm": {
     "name": "#%%\n"
    },
    "slideshow": {
     "slide_type": "skip"
    }
   },
   "outputs": [
    {
     "data": {
      "image/png": "[encoded data removed]",
      "text/plain": [
       "<Figure size 360x360 with 1 Axes>"
      ]
     },
     "metadata": {
      "needs_background": "light"
     },
     "output_type": "display_data"
    }
   ],
   "source": [
    "# Generate example\n",
    "dists = create_distributions(dim=2)\n",
    "\n",
    "distribution_with_anomalies = contamination(\n",
    "    nominal=dists['Sinusoidal'],\n",
    "    anomaly=dists['Blob'],\n",
    "    p=0.05\n",
    ")\n",
    "\n",
    "# Train data\n",
    "sample_train = dists['Sinusoidal'].sample(500)\n",
    "X_train = sample_train[-1].numpy()\n",
    "\n",
    "# Test data\n",
    "sample_test = distribution_with_anomalies.sample(500)\n",
    "X_test = sample_test[-1].numpy()\n",
    "y_test = sample_test[0].numpy()\n",
    "\n",
    "scatter = plt.scatter(X_test[:, 0], X_test[:, 1], c=y_test)\n",
    "handels, _ = scatter.legend_elements()\n",
    "plt.legend(handels, ['Nominal', 'Anomaly'])\n",
    "plt.gca().set_aspect('equal')\n",
    "plt.show()"
   ]
  },
  {
   "cell_type": "code",
   "execution_count": 8,
   "id": "d095bdb2",
   "metadata": {
    "pycharm": {
     "name": "#%%\n"
    },
    "slideshow": {
     "slide_type": "skip"
    }
   },
   "outputs": [],
   "source": [
    "####################################################################################################################\n",
    "# TODO: Define the search space for the kernel and the bandwidth\n",
    "####################################################################################################################\n",
    "param_space = {\n",
    "    'kernel': ['gaussian', 'tophat', 'epanechnikov', 'exponential', 'linear', 'cosine'], # Add available kernels\n",
    "    'bandwidth': np.linspace(0.1, 10, 100), # Define Search space for bandwidth parameter\n",
    "}\n",
    "\n",
    "def hyperopt_by_score(X_train, param_space, cv=5):\n",
    "    kde = KernelDensity()\n",
    "\n",
    "    search = RandomizedSearchCV(\n",
    "        estimator=kde,\n",
    "        param_distributions=param_space,\n",
    "        n_iter=100,\n",
    "        cv=cv,\n",
    "        scoring=None # use estimators internal scoring function, i.e. the log-probability of the validation set for KDE\n",
    "    )\n",
    "\n",
    "    search.fit(X_train)\n",
    "    return search.best_params_, search.best_estimator_"
   ]
  },
  {
   "cell_type": "markdown",
   "id": "79ed34cc",
   "metadata": {
    "slideshow": {
     "slide_type": "skip"
    }
   },
   "source": [
    "Run below code to perform hyperparameter optimization."
   ]
  },
  {
   "cell_type": "code",
   "execution_count": 9,
   "id": "01513b81",
   "metadata": {
    "pycharm": {
     "name": "#%%\n"
    },
    "slideshow": {
     "slide_type": "skip"
    }
   },
   "outputs": [
    {
     "name": "stderr",
     "output_type": "stream",
     "text": [
      "/Library/Frameworks/Python.framework/Versions/3.9/lib/python3.9/site-packages/sklearn/model_selection/_search.py:922: UserWarning: One or more of the test scores are non-finite: [-428.79942868 -591.40461833 -535.05291113 -406.54107422 -500.73212251\n",
      " -430.12403816 -467.31435326 -461.11520669 -654.56302855 -420.76944337\n",
      " -573.15881294 -540.17585361 -567.35054636 -417.09906799 -485.64532328\n",
      " -431.37173658 -523.42065136 -486.7830406  -501.26077766 -674.31954287\n",
      " -520.49364035 -476.93826128          -inf -521.12890822 -512.07755182\n",
      " -521.68777558 -546.14771659 -389.34422371 -473.33129782          -inf\n",
      " -496.80002508 -670.88542694 -636.92286666 -495.63814513 -553.50069553\n",
      " -439.28456377 -467.9672648  -575.75450575 -641.99315206 -641.83035139\n",
      " -604.61949996 -472.51992461 -434.87680942 -515.69135629 -659.75820247\n",
      " -690.6742827  -471.84155137 -506.31368761 -397.07172175 -507.71004863\n",
      " -503.59957074 -531.17218522 -448.71896686 -550.13380606 -613.30873578\n",
      " -504.32720111 -609.34262991 -509.2896802           -inf -422.57001687\n",
      " -534.5512823  -616.85822145 -509.12121574          -inf -515.36202582\n",
      " -611.00601642 -508.25623302 -418.0893776  -536.56326334          -inf\n",
      " -645.08674399 -584.68424765 -564.18661276 -525.42363991 -465.52552817\n",
      " -651.0366877  -626.89397544 -530.88755864 -536.11271346 -514.48737903\n",
      "          -inf -426.04370438 -614.2586762  -538.902777   -591.60138734\n",
      " -471.80172481 -543.82187851 -616.76401126 -635.68273107 -639.11047959\n",
      " -577.81792484          -inf -558.58746017 -421.37698637 -633.18979005\n",
      " -523.2959875  -476.20953025          -inf          -inf -475.51922049]\n",
      "  warnings.warn(\n",
      "/Library/Frameworks/Python.framework/Versions/3.9/lib/python3.9/site-packages/sklearn/model_selection/_search.py:929: RuntimeWarning: invalid value encountered in subtract\n",
      "  array_stds = np.sqrt(np.average((array -\n"
     ]
    },
    {
     "name": "stdout",
     "output_type": "stream",
     "text": [
      "Best parameters:\n",
      "kernel: gaussian\n",
      "bandwidth: 0.30000000000000004\n"
     ]
    },
    {
     "data": {
      "image/png": "[encoded data removed]",
      "text/plain": [
       "<Figure size 720x360 with 2 Axes>"
      ]
     },
     "metadata": {
      "needs_background": "light"
     },
     "output_type": "display_data"
    }
   ],
   "source": [
    "params, kde = hyperopt_by_score(X_train, param_space)\n",
    "\n",
    "print('Best parameters:')\n",
    "for key in params:\n",
    "    print('{}: {}'.format(key, params[key]))\n",
    "\n",
    "test_scores = -kde.score_samples(X_test)\n",
    "test_scores = np.where(test_scores == np.inf, np.max(test_scores[np.isfinite(test_scores)])+1, test_scores)\n",
    "\n",
    "curves = evaluate(y_test, test_scores)"
   ]
  },
  {
   "cell_type": "code",
   "execution_count": 10,
   "id": "ec8cf537",
   "metadata": {},
   "outputs": [
    {
     "data": {
      "image/png": "[encoded data removed]",
      "text/plain": [
       "<Figure size 360x360 with 2 Axes>"
      ]
     },
     "metadata": {
      "needs_background": "light"
     },
     "output_type": "display_data"
    }
   ],
   "source": [
    "visualize_kde(params['kernel'], params['bandwidth'], X_test, y_test)"
   ]
  },
  {
   "cell_type": "markdown",
   "id": "2d598cda",
   "metadata": {},
   "source": [
    "Exercise: Isolate anomalies in house prices"
   ]
  },
  {
   "cell_type": "markdown",
   "id": "965b4783",
   "metadata": {},
   "source": [
    "You are a company resposible to estimate house prices around Boston college. But there is a problem: house from a nearby area, 'Veenker', are often included in your dataset. You want to build an anomaly detection algorithm that filters one by one every point that comes from the wrong neighborhood. You have been able to isolate an X_train dataset which, you are sure, contains only houses from College area. Following the previous example, test your ability to isolate anomalies in new incoming data (X_test) with KDE.\n",
    "\n",
    "Advanced exercise:\n",
    "What happens if the contamination comes from other areas? You can choose among the following names:\n",
    "\n",
    "OldTown, Veenker, Edwards, MeadowV, Somerst, NPkVill, BrDale, Gilbert, NridgHt, Sawyer, Blmngtn, Blueste"
   ]
  },
  {
   "cell_type": "code",
   "execution_count": 11,
   "id": "1fd5a1af",
   "metadata": {},
   "outputs": [
    {
     "data": {
      "text/html": [
       "<div>\n",
       "<style scoped>\n",
       "    .dataframe tbody tr th:only-of-type {\n",
       "        vertical-align: middle;\n",
       "    }\n",
       "\n",
       "    .dataframe tbody tr th {\n",
       "        vertical-align: top;\n",
       "    }\n",
       "\n",
       "    .dataframe thead th {\n",
       "        text-align: right;\n",
       "    }\n",
       "</style>\n",
       "<table border=\"1\" class=\"dataframe\">\n",
       "  <thead>\n",
       "    <tr style=\"text-align: right;\">\n",
       "      <th></th>\n",
       "      <th>LotArea</th>\n",
       "      <th>SalePrice</th>\n",
       "      <th>OverallCond</th>\n",
       "    </tr>\n",
       "  </thead>\n",
       "  <tbody>\n",
       "    <tr>\n",
       "      <th>0</th>\n",
       "      <td>4438</td>\n",
       "      <td>144500</td>\n",
       "      <td>5</td>\n",
       "    </tr>\n",
       "    <tr>\n",
       "      <th>1</th>\n",
       "      <td>8924</td>\n",
       "      <td>188000</td>\n",
       "      <td>5</td>\n",
       "    </tr>\n",
       "    <tr>\n",
       "      <th>2</th>\n",
       "      <td>9179</td>\n",
       "      <td>193000</td>\n",
       "      <td>5</td>\n",
       "    </tr>\n",
       "    <tr>\n",
       "      <th>3</th>\n",
       "      <td>15426</td>\n",
       "      <td>231500</td>\n",
       "      <td>5</td>\n",
       "    </tr>\n",
       "    <tr>\n",
       "      <th>4</th>\n",
       "      <td>8775</td>\n",
       "      <td>126000</td>\n",
       "      <td>5</td>\n",
       "    </tr>\n",
       "    <tr>\n",
       "      <th>...</th>\n",
       "      <td>...</td>\n",
       "      <td>...</td>\n",
       "      <td>...</td>\n",
       "    </tr>\n",
       "    <tr>\n",
       "      <th>115</th>\n",
       "      <td>11049</td>\n",
       "      <td>179900</td>\n",
       "      <td>5</td>\n",
       "    </tr>\n",
       "    <tr>\n",
       "      <th>116</th>\n",
       "      <td>13568</td>\n",
       "      <td>156000</td>\n",
       "      <td>5</td>\n",
       "    </tr>\n",
       "    <tr>\n",
       "      <th>117</th>\n",
       "      <td>7200</td>\n",
       "      <td>123000</td>\n",
       "      <td>5</td>\n",
       "    </tr>\n",
       "    <tr>\n",
       "      <th>118</th>\n",
       "      <td>9965</td>\n",
       "      <td>383970</td>\n",
       "      <td>5</td>\n",
       "    </tr>\n",
       "    <tr>\n",
       "      <th>119</th>\n",
       "      <td>8158</td>\n",
       "      <td>224900</td>\n",
       "      <td>5</td>\n",
       "    </tr>\n",
       "  </tbody>\n",
       "</table>\n",
       "<p>120 rows × 3 columns</p>\n",
       "</div>"
      ],
      "text/plain": [
       "     LotArea  SalePrice  OverallCond\n",
       "0       4438     144500            5\n",
       "1       8924     188000            5\n",
       "2       9179     193000            5\n",
       "3      15426     231500            5\n",
       "4       8775     126000            5\n",
       "..       ...        ...          ...\n",
       "115    11049     179900            5\n",
       "116    13568     156000            5\n",
       "117     7200     123000            5\n",
       "118     9965     383970            5\n",
       "119     8158     224900            5\n",
       "\n",
       "[120 rows x 3 columns]"
      ]
     },
     "execution_count": 11,
     "metadata": {},
     "output_type": "execute_result"
    }
   ],
   "source": [
    "X_train, X_test, y_test = get_house_prices_data(neighborhood = 'CollgCr', anomaly_neighborhood='Veenker')\n",
    "X_train"
   ]
  },
  {
   "cell_type": "code",
   "execution_count": 19,
   "id": "288e044a",
   "metadata": {},
   "outputs": [
    {
     "data": {
      "application/vnd.plotly.v1+json": {
       "config": {
        "plotlyServerURL": "https://plot.ly"
       },
       "data": [
        {
         "hovertemplate": "LotArea=%{x}<br>OverallCond=%{y}<br>SalePrice=%{z}<br>color=%{marker.color}<extra></extra>",
         "legendgroup": "",
         "marker": {
          "color": [
           0,
           0,
           0,
           0,
           0,
           0,
           0,
           0,
           0,
           0,
           0,
           0,
           0,
           0,
           0,
           0,
           0,
           0,
           0,
           0,
           0,
           0,
           0,
           0,
           0,
           0,
           0,
           0,
           0,
           0,
           0,
           0,
           0,
           0,
           0,
           0,
           0,
           0,
           0,
           0,
           0,
           0,
           0,
           0,
           0,
           0,
           0,
           0,
           0,
           0,
           0,
           0,
           0,
           0,
           0,
           0,
           0,
           0,
           0,
           0,
           0,
           0,
           0,
           0,
           0,
           0,
           0,
           0,
           0,
           0,
           0,
           0,
           0,
           0,
           0,
           0,
           0,
           0,
           0,
           0,
           0,
           0,
           0,
           0,
           0,
           0,
           0,
           0,
           0,
           0,
           0,
           0,
           0,
           0,
           0,
           0,
           0,
           0,
           0,
           0,
           0,
           0,
           0,
           0,
           0,
           0,
           0,
           0,
           0,
           0,
           0,
           0,
           0,
           0,
           0,
           0,
           0,
           0,
           0,
           0,
           0,
           0,
           0,
           1,
           1,
           0,
           0,
           0,
           0,
           1,
           0,
           0,
           0,
           0,
           1,
           0,
           0,
           1,
           0,
           0,
           0,
           0,
           0,
           1,
           0,
           0,
           0,
           1,
           0,
           0,
           1,
           0,
           1,
           1,
           0,
           0,
           1,
           0,
           0,
           0,
           0
          ],
          "coloraxis": "coloraxis",
          "symbol": "circle"
         },
         "mode": "markers",
         "name": "",
         "scene": "scene",
         "showlegend": false,
         "type": "scatter3d",
         "x": [
          10000,
          10475,
          4435,
          10667,
          8775,
          10400,
          9100,
          10226,
          10637,
          10356,
          9560,
          12420,
          10970,
          4435,
          11838,
          9317,
          9742,
          13450,
          8125,
          9531,
          9588,
          6762,
          11250,
          8935,
          8749,
          9965,
          10769,
          8556,
          10635,
          11885,
          6762,
          10650,
          4426,
          8990,
          10335,
          7226,
          4435,
          8846,
          10386,
          11210,
          14006,
          11645,
          4435,
          7200,
          4438,
          9240,
          13568,
          10665,
          11175,
          7200,
          4426,
          8445,
          8400,
          8072,
          8461,
          8773,
          10900,
          12464,
          15611,
          8814,
          9245,
          11404,
          9548,
          13125,
          8450,
          11103,
          10859,
          9245,
          11423,
          8760,
          7990,
          8814,
          12435,
          9337,
          14781,
          10084,
          15523,
          4426,
          7406,
          10316,
          7700,
          8846,
          9286,
          9100,
          10264,
          9200,
          9750,
          8750,
          9375,
          9236,
          7180,
          9100,
          12137,
          7200,
          9750,
          9920,
          11050,
          9066,
          8633,
          8199,
          8800,
          11923,
          9525,
          11248,
          8320,
          8500,
          8070,
          4438,
          11049,
          8750,
          11367,
          9017,
          8924,
          11249,
          9375,
          9808,
          9313,
          13704,
          10402,
          9135,
          9965,
          4435,
          9800,
          16157,
          9600,
          8200,
          7000,
          16285,
          9473,
          11250,
          16226,
          9135,
          8767,
          12803,
          9549,
          10780,
          12393,
          10768,
          8750,
          8385,
          11250,
          6762,
          9179,
          11120,
          10652,
          11883,
          8430,
          17542,
          8487,
          8450,
          10846,
          9382,
          14963,
          9600,
          7314,
          11317,
          50271,
          11645,
          8158,
          8450,
          15426
         ],
         "y": [
          5,
          5,
          5,
          6,
          5,
          5,
          5,
          5,
          5,
          6,
          7,
          5,
          6,
          5,
          5,
          5,
          5,
          5,
          5,
          5,
          5,
          5,
          5,
          5,
          5,
          5,
          5,
          5,
          5,
          5,
          5,
          6,
          5,
          5,
          5,
          5,
          5,
          5,
          5,
          5,
          5,
          5,
          5,
          7,
          5,
          5,
          5,
          5,
          5,
          8,
          5,
          7,
          5,
          5,
          5,
          5,
          7,
          5,
          5,
          5,
          5,
          5,
          6,
          5,
          5,
          5,
          5,
          5,
          5,
          5,
          6,
          5,
          5,
          5,
          5,
          5,
          6,
          5,
          5,
          5,
          5,
          5,
          7,
          5,
          5,
          6,
          5,
          5,
          5,
          5,
          7,
          5,
          5,
          5,
          6,
          6,
          5,
          5,
          5,
          5,
          7,
          5,
          6,
          5,
          5,
          5,
          5,
          5,
          5,
          5,
          5,
          5,
          5,
          5,
          5,
          5,
          5,
          5,
          5,
          5,
          5,
          5,
          7,
          7,
          8,
          5,
          8,
          5,
          5,
          6,
          5,
          5,
          5,
          5,
          5,
          5,
          5,
          8,
          5,
          8,
          5,
          5,
          5,
          6,
          5,
          5,
          5,
          7,
          5,
          5,
          5,
          5,
          5,
          7,
          5,
          5,
          5,
          5,
          5,
          5,
          5
         ],
         "z": [
          240000,
          245350,
          131500,
          212000,
          126000,
          197900,
          178000,
          295493,
          297000,
          122000,
          128500,
          230000,
          147000,
          144000,
          236500,
          176432,
          230000,
          200000,
          230000,
          211000,
          276000,
          206000,
          223500,
          195000,
          192000,
          424870,
          212000,
          194000,
          232000,
          261500,
          193879,
          128200,
          141000,
          204900,
          204000,
          183000,
          155900,
          173900,
          305900,
          221500,
          192500,
          196500,
          140000,
          124900,
          144500,
          287000,
          156000,
          226000,
          200141,
          133900,
          149300,
          133000,
          213000,
          138000,
          163990,
          185500,
          161750,
          152000,
          233230,
          220000,
          213500,
          222500,
          237000,
          208900,
          210000,
          155835,
          145000,
          145000,
          272000,
          239799,
          110000,
          203000,
          231500,
          204750,
          275000,
          212900,
          133500,
          143000,
          194000,
          235000,
          112500,
          148000,
          143500,
          216837,
          214000,
          130250,
          213000,
          191000,
          219500,
          217000,
          127000,
          235000,
          224900,
          123000,
          274300,
          128500,
          313000,
          230000,
          173500,
          189000,
          150500,
          239000,
          144000,
          285000,
          185900,
          179600,
          123600,
          149000,
          179900,
          200500,
          255000,
          192000,
          188000,
          177500,
          228500,
          227000,
          190000,
          205000,
          198900,
          200000,
          383970,
          136500,
          149900,
          194000,
          181500,
          219500,
          136500,
          187100,
          237000,
          165000,
          267000,
          214000,
          164990,
          221000,
          270000,
          132500,
          195000,
          218000,
          210000,
          149900,
          255900,
          195400,
          193000,
          162500,
          279500,
          203000,
          124000,
          294000,
          190000,
          185000,
          324000,
          191000,
          245500,
          187000,
          194500,
          180000,
          385000,
          260000,
          224900,
          208500,
          231500
         ]
        }
       ],
       "layout": {
        "coloraxis": {
         "colorbar": {
          "title": {
           "text": "color"
          }
         },
         "colorscale": [
          [
           0,
           "#0d0887"
          ],
          [
           0.1111111111111111,
           "#46039f"
          ],
          [
           0.2222222222222222,
           "#7201a8"
          ],
          [
           0.3333333333333333,
           "#9c179e"
          ],
          [
           0.4444444444444444,
           "#bd3786"
          ],
          [
           0.5555555555555556,
           "#d8576b"
          ],
          [
           0.6666666666666666,
           "#ed7953"
          ],
          [
           0.7777777777777778,
           "#fb9f3a"
          ],
          [
           0.8888888888888888,
           "#fdca26"
          ],
          [
           1,
           "#f0f921"
          ]
         ]
        },
        "legend": {
         "tracegroupgap": 0
        },
        "margin": {
         "t": 60
        },
        "scene": {
         "domain": {
          "x": [
           0,
           1
          ],
          "y": [
           0,
           1
          ]
         },
         "xaxis": {
          "title": {
           "text": "LotArea"
          }
         },
         "yaxis": {
          "title": {
           "text": "OverallCond"
          }
         },
         "zaxis": {
          "title": {
           "text": "SalePrice"
          }
         }
        },
        "template": {
         "data": {
          "bar": [
           {
            "error_x": {
             "color": "#2a3f5f"
            },
            "error_y": {
             "color": "#2a3f5f"
            },
            "marker": {
             "line": {
              "color": "#E5ECF6",
              "width": 0.5
             },
             "pattern": {
              "fillmode": "overlay",
              "size": 10,
              "solidity": 0.2
             }
            },
            "type": "bar"
           }
          ],
          "barpolar": [
           {
            "marker": {
             "line": {
              "color": "#E5ECF6",
              "width": 0.5
             },
             "pattern": {
              "fillmode": "overlay",
              "size": 10,
              "solidity": 0.2
             }
            },
            "type": "barpolar"
           }
          ],
          "carpet": [
           {
            "aaxis": {
             "endlinecolor": "#2a3f5f",
             "gridcolor": "white",
             "linecolor": "white",
             "minorgridcolor": "white",
             "startlinecolor": "#2a3f5f"
            },
            "baxis": {
             "endlinecolor": "#2a3f5f",
             "gridcolor": "white",
             "linecolor": "white",
             "minorgridcolor": "white",
             "startlinecolor": "#2a3f5f"
            },
            "type": "carpet"
           }
          ],
          "choropleth": [
           {
            "colorbar": {
             "outlinewidth": 0,
             "ticks": ""
            },
            "type": "choropleth"
           }
          ],
          "contour": [
           {
            "colorbar": {
             "outlinewidth": 0,
             "ticks": ""
            },
            "colorscale": [
             [
              0,
              "#0d0887"
             ],
             [
              0.1111111111111111,
              "#46039f"
             ],
             [
              0.2222222222222222,
              "#7201a8"
             ],
             [
              0.3333333333333333,
              "#9c179e"
             ],
             [
              0.4444444444444444,
              "#bd3786"
             ],
             [
              0.5555555555555556,
              "#d8576b"
             ],
             [
              0.6666666666666666,
              "#ed7953"
             ],
             [
              0.7777777777777778,
              "#fb9f3a"
             ],
             [
              0.8888888888888888,
              "#fdca26"
             ],
             [
              1,
              "#f0f921"
             ]
            ],
            "type": "contour"
           }
          ],
          "contourcarpet": [
           {
            "colorbar": {
             "outlinewidth": 0,
             "ticks": ""
            },
            "type": "contourcarpet"
           }
          ],
          "heatmap": [
           {
            "colorbar": {
             "outlinewidth": 0,
             "ticks": ""
            },
            "colorscale": [
             [
              0,
              "#0d0887"
             ],
             [
              0.1111111111111111,
              "#46039f"
             ],
             [
              0.2222222222222222,
              "#7201a8"
             ],
             [
              0.3333333333333333,
              "#9c179e"
             ],
             [
              0.4444444444444444,
              "#bd3786"
             ],
             [
              0.5555555555555556,
              "#d8576b"
             ],
             [
              0.6666666666666666,
              "#ed7953"
             ],
             [
              0.7777777777777778,
              "#fb9f3a"
             ],
             [
              0.8888888888888888,
              "#fdca26"
             ],
             [
              1,
              "#f0f921"
             ]
            ],
            "type": "heatmap"
           }
          ],
          "heatmapgl": [
           {
            "colorbar": {
             "outlinewidth": 0,
             "ticks": ""
            },
            "colorscale": [
             [
              0,
              "#0d0887"
             ],
             [
              0.1111111111111111,
              "#46039f"
             ],
             [
              0.2222222222222222,
              "#7201a8"
             ],
             [
              0.3333333333333333,
              "#9c179e"
             ],
             [
              0.4444444444444444,
              "#bd3786"
             ],
             [
              0.5555555555555556,
              "#d8576b"
             ],
             [
              0.6666666666666666,
              "#ed7953"
             ],
             [
              0.7777777777777778,
              "#fb9f3a"
             ],
             [
              0.8888888888888888,
              "#fdca26"
             ],
             [
              1,
              "#f0f921"
             ]
            ],
            "type": "heatmapgl"
           }
          ],
          "histogram": [
           {
            "marker": {
             "pattern": {
              "fillmode": "overlay",
              "size": 10,
              "solidity": 0.2
             }
            },
            "type": "histogram"
           }
          ],
          "histogram2d": [
           {
            "colorbar": {
             "outlinewidth": 0,
             "ticks": ""
            },
            "colorscale": [
             [
              0,
              "#0d0887"
             ],
             [
              0.1111111111111111,
              "#46039f"
             ],
             [
              0.2222222222222222,
              "#7201a8"
             ],
             [
              0.3333333333333333,
              "#9c179e"
             ],
             [
              0.4444444444444444,
              "#bd3786"
             ],
             [
              0.5555555555555556,
              "#d8576b"
             ],
             [
              0.6666666666666666,
              "#ed7953"
             ],
             [
              0.7777777777777778,
              "#fb9f3a"
             ],
             [
              0.8888888888888888,
              "#fdca26"
             ],
             [
              1,
              "#f0f921"
             ]
            ],
            "type": "histogram2d"
           }
          ],
          "histogram2dcontour": [
           {
            "colorbar": {
             "outlinewidth": 0,
             "ticks": ""
            },
            "colorscale": [
             [
              0,
              "#0d0887"
             ],
             [
              0.1111111111111111,
              "#46039f"
             ],
             [
              0.2222222222222222,
              "#7201a8"
             ],
             [
              0.3333333333333333,
              "#9c179e"
             ],
             [
              0.4444444444444444,
              "#bd3786"
             ],
             [
              0.5555555555555556,
              "#d8576b"
             ],
             [
              0.6666666666666666,
              "#ed7953"
             ],
             [
              0.7777777777777778,
              "#fb9f3a"
             ],
             [
              0.8888888888888888,
              "#fdca26"
             ],
             [
              1,
              "#f0f921"
             ]
            ],
            "type": "histogram2dcontour"
           }
          ],
          "mesh3d": [
           {
            "colorbar": {
             "outlinewidth": 0,
             "ticks": ""
            },
            "type": "mesh3d"
           }
          ],
          "parcoords": [
           {
            "line": {
             "colorbar": {
              "outlinewidth": 0,
              "ticks": ""
             }
            },
            "type": "parcoords"
           }
          ],
          "pie": [
           {
            "automargin": true,
            "type": "pie"
           }
          ],
          "scatter": [
           {
            "marker": {
             "colorbar": {
              "outlinewidth": 0,
              "ticks": ""
             }
            },
            "type": "scatter"
           }
          ],
          "scatter3d": [
           {
            "line": {
             "colorbar": {
              "outlinewidth": 0,
              "ticks": ""
             }
            },
            "marker": {
             "colorbar": {
              "outlinewidth": 0,
              "ticks": ""
             }
            },
            "type": "scatter3d"
           }
          ],
          "scattercarpet": [
           {
            "marker": {
             "colorbar": {
              "outlinewidth": 0,
              "ticks": ""
             }
            },
            "type": "scattercarpet"
           }
          ],
          "scattergeo": [
           {
            "marker": {
             "colorbar": {
              "outlinewidth": 0,
              "ticks": ""
             }
            },
            "type": "scattergeo"
           }
          ],
          "scattergl": [
           {
            "marker": {
             "colorbar": {
              "outlinewidth": 0,
              "ticks": ""
             }
            },
            "type": "scattergl"
           }
          ],
          "scattermapbox": [
           {
            "marker": {
             "colorbar": {
              "outlinewidth": 0,
              "ticks": ""
             }
            },
            "type": "scattermapbox"
           }
          ],
          "scatterpolar": [
           {
            "marker": {
             "colorbar": {
              "outlinewidth": 0,
              "ticks": ""
             }
            },
            "type": "scatterpolar"
           }
          ],
          "scatterpolargl": [
           {
            "marker": {
             "colorbar": {
              "outlinewidth": 0,
              "ticks": ""
             }
            },
            "type": "scatterpolargl"
           }
          ],
          "scatterternary": [
           {
            "marker": {
             "colorbar": {
              "outlinewidth": 0,
              "ticks": ""
             }
            },
            "type": "scatterternary"
           }
          ],
          "surface": [
           {
            "colorbar": {
             "outlinewidth": 0,
             "ticks": ""
            },
            "colorscale": [
             [
              0,
              "#0d0887"
             ],
             [
              0.1111111111111111,
              "#46039f"
             ],
             [
              0.2222222222222222,
              "#7201a8"
             ],
             [
              0.3333333333333333,
              "#9c179e"
             ],
             [
              0.4444444444444444,
              "#bd3786"
             ],
             [
              0.5555555555555556,
              "#d8576b"
             ],
             [
              0.6666666666666666,
              "#ed7953"
             ],
             [
              0.7777777777777778,
              "#fb9f3a"
             ],
             [
              0.8888888888888888,
              "#fdca26"
             ],
             [
              1,
              "#f0f921"
             ]
            ],
            "type": "surface"
           }
          ],
          "table": [
           {
            "cells": {
             "fill": {
              "color": "#EBF0F8"
             },
             "line": {
              "color": "white"
             }
            },
            "header": {
             "fill": {
              "color": "#C8D4E3"
             },
             "line": {
              "color": "white"
             }
            },
            "type": "table"
           }
          ]
         },
         "layout": {
          "annotationdefaults": {
           "arrowcolor": "#2a3f5f",
           "arrowhead": 0,
           "arrowwidth": 1
          },
          "autotypenumbers": "strict",
          "coloraxis": {
           "colorbar": {
            "outlinewidth": 0,
            "ticks": ""
           }
          },
          "colorscale": {
           "diverging": [
            [
             0,
             "#8e0152"
            ],
            [
             0.1,
             "#c51b7d"
            ],
            [
             0.2,
             "#de77ae"
            ],
            [
             0.3,
             "#f1b6da"
            ],
            [
             0.4,
             "#fde0ef"
            ],
            [
             0.5,
             "#f7f7f7"
            ],
            [
             0.6,
             "#e6f5d0"
            ],
            [
             0.7,
             "#b8e186"
            ],
            [
             0.8,
             "#7fbc41"
            ],
            [
             0.9,
             "#4d9221"
            ],
            [
             1,
             "#276419"
            ]
           ],
           "sequential": [
            [
             0,
             "#0d0887"
            ],
            [
             0.1111111111111111,
             "#46039f"
            ],
            [
             0.2222222222222222,
             "#7201a8"
            ],
            [
             0.3333333333333333,
             "#9c179e"
            ],
            [
             0.4444444444444444,
             "#bd3786"
            ],
            [
             0.5555555555555556,
             "#d8576b"
            ],
            [
             0.6666666666666666,
             "#ed7953"
            ],
            [
             0.7777777777777778,
             "#fb9f3a"
            ],
            [
             0.8888888888888888,
             "#fdca26"
            ],
            [
             1,
             "#f0f921"
            ]
           ],
           "sequentialminus": [
            [
             0,
             "#0d0887"
            ],
            [
             0.1111111111111111,
             "#46039f"
            ],
            [
             0.2222222222222222,
             "#7201a8"
            ],
            [
             0.3333333333333333,
             "#9c179e"
            ],
            [
             0.4444444444444444,
             "#bd3786"
            ],
            [
             0.5555555555555556,
             "#d8576b"
            ],
            [
             0.6666666666666666,
             "#ed7953"
            ],
            [
             0.7777777777777778,
             "#fb9f3a"
            ],
            [
             0.8888888888888888,
             "#fdca26"
            ],
            [
             1,
             "#f0f921"
            ]
           ]
          },
          "colorway": [
           "#636efa",
           "#EF553B",
           "#00cc96",
           "#ab63fa",
           "#FFA15A",
           "#19d3f3",
           "#FF6692",
           "#B6E880",
           "#FF97FF",
           "#FECB52"
          ],
          "font": {
           "color": "#2a3f5f"
          },
          "geo": {
           "bgcolor": "white",
           "lakecolor": "white",
           "landcolor": "#E5ECF6",
           "showlakes": true,
           "showland": true,
           "subunitcolor": "white"
          },
          "hoverlabel": {
           "align": "left"
          },
          "hovermode": "closest",
          "mapbox": {
           "style": "light"
          },
          "paper_bgcolor": "white",
          "plot_bgcolor": "#E5ECF6",
          "polar": {
           "angularaxis": {
            "gridcolor": "white",
            "linecolor": "white",
            "ticks": ""
           },
           "bgcolor": "#E5ECF6",
           "radialaxis": {
            "gridcolor": "white",
            "linecolor": "white",
            "ticks": ""
           }
          },
          "scene": {
           "xaxis": {
            "backgroundcolor": "#E5ECF6",
            "gridcolor": "white",
            "gridwidth": 2,
            "linecolor": "white",
            "showbackground": true,
            "ticks": "",
            "zerolinecolor": "white"
           },
           "yaxis": {
            "backgroundcolor": "#E5ECF6",
            "gridcolor": "white",
            "gridwidth": 2,
            "linecolor": "white",
            "showbackground": true,
            "ticks": "",
            "zerolinecolor": "white"
           },
           "zaxis": {
            "backgroundcolor": "#E5ECF6",
            "gridcolor": "white",
            "gridwidth": 2,
            "linecolor": "white",
            "showbackground": true,
            "ticks": "",
            "zerolinecolor": "white"
           }
          },
          "shapedefaults": {
           "line": {
            "color": "#2a3f5f"
           }
          },
          "ternary": {
           "aaxis": {
            "gridcolor": "white",
            "linecolor": "white",
            "ticks": ""
           },
           "baxis": {
            "gridcolor": "white",
            "linecolor": "white",
            "ticks": ""
           },
           "bgcolor": "#E5ECF6",
           "caxis": {
            "gridcolor": "white",
            "linecolor": "white",
            "ticks": ""
           }
          },
          "title": {
           "x": 0.05
          },
          "xaxis": {
           "automargin": true,
           "gridcolor": "white",
           "linecolor": "white",
           "ticks": "",
           "title": {
            "standoff": 15
           },
           "zerolinecolor": "white",
           "zerolinewidth": 2
          },
          "yaxis": {
           "automargin": true,
           "gridcolor": "white",
           "linecolor": "white",
           "ticks": "",
           "title": {
            "standoff": 15
           },
           "zerolinecolor": "white",
           "zerolinewidth": 2
          }
         }
        }
       }
      }
     },
     "metadata": {},
     "output_type": "display_data"
    }
   ],
   "source": [
    "# Total data\n",
    "train_test_data = X_train.append(X_test, ignore_index=True)\n",
    "y_total = [0] * len(X_train) + y_test\n",
    "\n",
    "fig = px.scatter_3d(train_test_data, x='LotArea', y='OverallCond', z='SalePrice', color=y_total)\n",
    "\n",
    "fig.show()"
   ]
  },
  {
   "cell_type": "code",
   "execution_count": 20,
   "id": "b336ebbd",
   "metadata": {},
   "outputs": [],
   "source": [
    "scaler = MinMaxScaler()\n",
    "X_train_rescaled = scaler.fit_transform(X_train)"
   ]
  },
  {
   "cell_type": "code",
   "execution_count": 21,
   "id": "0159cf66",
   "metadata": {},
   "outputs": [
    {
     "name": "stderr",
     "output_type": "stream",
     "text": [
      "/Library/Frameworks/Python.framework/Versions/3.9/lib/python3.9/site-packages/sklearn/model_selection/_search.py:922: UserWarning:\n",
      "\n",
      "One or more of the test scores are non-finite: [-148.13034918    6.99856092  -78.89087186 -173.77522284 -235.82440426\n",
      "   -5.34858844 -111.94046325 -108.8602383  -136.72835923 -203.17147628\n",
      " -158.78300775  -13.87900924 -141.50691017 -116.97564583 -120.34030473\n",
      " -177.50098556 -160.37611637 -186.16473825 -203.08041768 -231.97492471\n",
      " -205.28607047 -240.45583777 -225.5589503  -145.54270131  -18.53679039\n",
      "  -87.38468099 -154.61838477  -44.00095352 -147.31823309 -167.38216668\n",
      "  -98.01726628 -175.10309535 -186.32816178 -131.73820263 -150.20983865\n",
      " -142.7198904  -161.56738843 -147.27655072 -239.70432556 -170.61010767\n",
      " -179.21323991 -195.70898463 -193.70108503 -130.4979638   -80.99243331\n",
      " -113.12808325 -156.3253142   -35.66459055 -157.54989252 -155.79861166\n",
      " -192.25559382  -32.25394545 -194.93892381  -94.17345322  -98.8194006\n",
      " -225.18978906 -169.63236285 -197.22483009  -71.21657272  -11.14079692\n",
      "  -52.96184424 -150.24223991 -172.89157604 -242.6644281  -211.37766753\n",
      "  -79.1879335    23.68802708 -152.59575849 -151.22756534 -128.13417181\n",
      " -158.41708204 -191.55470422 -152.23115566  -41.36396395  -86.50995329\n",
      " -173.00640126  -56.34609086 -150.15582657 -125.54776379  -45.73708302\n",
      " -130.27426561 -156.58588981 -118.95162574 -124.34076544  -73.86486544\n",
      " -172.96915413 -192.8042615  -191.77357892  -45.22509443 -164.14805552\n",
      " -179.51073586 -139.10338776          -inf  -65.61595239 -215.72224532\n",
      " -238.17735271  -71.14460644          -inf -131.27803325 -206.75403153]\n",
      "\n",
      "/Library/Frameworks/Python.framework/Versions/3.9/lib/python3.9/site-packages/sklearn/model_selection/_search.py:929: RuntimeWarning:\n",
      "\n",
      "invalid value encountered in subtract\n",
      "\n"
     ]
    }
   ],
   "source": [
    "param_space = {\n",
    "    'kernel': ['gaussian', 'tophat', 'epanechnikov', 'exponential', 'linear', 'cosine'], # Add available kernels\n",
    "    'bandwidth': np.linspace(0.1, 10, 100), # Define Search space for bandwidth parameter\n",
    "}\n",
    "params, kde = hyperopt_by_score(X_train_rescaled, param_space)"
   ]
  },
  {
   "cell_type": "code",
   "execution_count": 22,
   "id": "c6217804",
   "metadata": {},
   "outputs": [
    {
     "name": "stdout",
     "output_type": "stream",
     "text": [
      "Best parameters:\n",
      "kernel: linear\n",
      "bandwidth: 0.4\n"
     ]
    },
    {
     "data": {
      "image/png": "[encoded data removed]",
      "text/plain": [
       "<Figure size 720x360 with 2 Axes>"
      ]
     },
     "metadata": {
      "needs_background": "light"
     },
     "output_type": "display_data"
    }
   ],
   "source": [
    "print('Best parameters:')\n",
    "for key in params:\n",
    "    print('{}: {}'.format(key, params[key]))\n",
    "\n",
    "X_test_rescaled = scaler.transform(X_test)\n",
    "test_scores = -kde.score_samples(X_test_rescaled)\n",
    "test_scores = np.where(test_scores == np.inf, np.max(test_scores[np.isfinite(test_scores)])+1, test_scores)\n",
    "curves = evaluate(y_test, test_scores)"
   ]
  },
  {
   "cell_type": "markdown",
   "id": "ad2238bb",
   "metadata": {
    "slideshow": {
     "slide_type": "subslide"
    }
   },
   "source": [
    "## The Curse of Dimensionality\n",
    "The flexibility of KDE comes at a price. The dependency on the dimensionality of the data is quite unfavorable.\n",
    "\n",
    "---\n",
    "*Theorem* [Stone, 1982]\n",
    "Any estimator that is consistent$^*$ with the class of all $k$-fold differentiable pdfs over $\\mathbb{R}^d$ has a\n",
    "convergence rate of at most\n",
    "\n",
    "$$\n",
    "\\frac{1}{n^{\\frac{k}{2k+d}}}\n",
    "$$\n",
    "\n",
    "\n",
    "---\n",
    "\n",
    "$^*$Consistency = for all pdfs $p$ in the class: $\\lim_{n\\to\\infty}|KDE_h(x, D) - p(x)|_\\infty = 0$ with probability $1$."
   ]
  },
  {
   "cell_type": "markdown",
   "id": "65268b84",
   "metadata": {
    "slideshow": {
     "slide_type": "subslide"
    }
   },
   "source": [
    "# Exercise\n",
    "- The very slow convergence in high dimensions does not necessarily mean that we will see bad results in   high dimensional anomaly detection with KDE.\n",
    "- Especially if the anomalies are very outlying.\n",
    "- However, in cases where contours of the nominal distribution is non-convex we can run into problems.\n",
    "\n",
    "We take a look at a higher dimensional version of out previous data set."
   ]
  },
  {
   "cell_type": "code",
   "execution_count": 23,
   "id": "75d8b1a5",
   "metadata": {
    "pycharm": {
     "name": "#%%\n"
    },
    "slideshow": {
     "slide_type": "skip"
    }
   },
   "outputs": [],
   "source": [
    "dists = create_distributions(dim=3)\n",
    "\n",
    "distribution_with_anomalies = contamination(\n",
    "    nominal=dists['Sinusoidal'],\n",
    "    anomaly=dists['Blob'],\n",
    "    p=.02\n",
    ")\n",
    "\n",
    "sample = distribution_with_anomalies.sample(500)\n",
    "\n",
    "y = sample[0]\n",
    "X = sample[-1]"
   ]
  },
  {
   "cell_type": "code",
   "execution_count": 24,
   "id": "44acf871",
   "metadata": {},
   "outputs": [
    {
     "data": {
      "application/vnd.plotly.v1+json": {
       "config": {
        "plotlyServerURL": "https://plot.ly"
       },
       "data": [
        {
         "hovertemplate": "x=%{x}<br>y=%{y}<br>z=%{z}<br>color=%{marker.color}<extra></extra>",
         "legendgroup": "",
         "marker": {
          "color": [
           0,
           0,
           0,
           0,
           0,
           0,
           0,
           0,
           0,
           0,
           0,
           0,
           0,
           0,
           0,
           0,
           0,
           0,
           0,
           0,
           0,
           0,
           0,
           0,
           0,
           0,
           0,
           0,
           0,
           0,
           0,
           0,
           0,
           0,
           0,
           0,
           0,
           0,
           1,
           0,
           0,
           0,
           0,
           0,
           0,
           0,
           0,
           0,
           0,
           0,
           0,
           0,
           0,
           0,
           0,
           0,
           0,
           0,
           0,
           0,
           0,
           1,
           0,
           0,
           0,
           0,
           0,
           0,
           0,
           0,
           0,
           0,
           0,
           0,
           0,
           0,
           0,
           0,
           0,
           0,
           0,
           0,
           0,
           0,
           1,
           0,
           0,
           0,
           0,
           0,
           0,
           0,
           0,
           0,
           0,
           0,
           0,
           0,
           0,
           0,
           0,
           0,
           0,
           0,
           0,
           0,
           0,
           0,
           0,
           0,
           0,
           0,
           0,
           0,
           0,
           0,
           0,
           0,
           0,
           0,
           0,
           0,
           0,
           0,
           0,
           0,
           0,
           0,
           0,
           0,
           1,
           0,
           0,
           0,
           0,
           0,
           0,
           0,
           0,
           0,
           0,
           0,
           0,
           0,
           0,
           0,
           0,
           0,
           0,
           0,
           0,
           0,
           0,
           0,
           0,
           0,
           0,
           0,
           0,
           0,
           0,
           0,
           0,
           0,
           0,
           0,
           0,
           0,
           0,
           0,
           0,
           0,
           0,
           0,
           0,
           0,
           0,
           0,
           0,
           0,
           0,
           0,
           0,
           0,
           0,
           0,
           0,
           0,
           0,
           0,
           0,
           0,
           0,
           0,
           0,
           0,
           0,
           0,
           0,
           0,
           0,
           0,
           0,
           0,
           0,
           0,
           0,
           0,
           0,
           1,
           0,
           0,
           0,
           0,
           0,
           0,
           0,
           0,
           0,
           0,
           0,
           0,
           0,
           0,
           0,
           0,
           0,
           0,
           0,
           0,
           0,
           0,
           0,
           0,
           0,
           0,
           0,
           0,
           0,
           0,
           0,
           0,
           0,
           1,
           0,
           0,
           0,
           0,
           0,
           0,
           0,
           0,
           0,
           0,
           0,
           0,
           0,
           0,
           0,
           0,
           0,
           0,
           0,
           0,
           0,
           0,
           0,
           0,
           0,
           0,
           0,
           0,
           0,
           0,
           0,
           0,
           0,
           0,
           0,
           0,
           0,
           0,
           0,
           0,
           0,
           0,
           0,
           0,
           0,
           0,
           0,
           0,
           0,
           0,
           0,
           0,
           0,
           0,
           0,
           0,
           0,
           0,
           0,
           0,
           0,
           0,
           0,
           0,
           0,
           0,
           0,
           0,
           0,
           0,
           0,
           0,
           0,
           0,
           0,
           0,
           0,
           0,
           0,
           0,
           0,
           0,
           0,
           0,
           0,
           0,
           0,
           0,
           0,
           0,
           0,
           0,
           0,
           0,
           0,
           0,
           0,
           0,
           0,
           0,
           0,
           0,
           0,
           0,
           0,
           0,
           0,
           0,
           1,
           0,
           0,
           0,
           0,
           1,
           0,
           0,
           0,
           0,
           0,
           0,
           0,
           0,
           0,
           0,
           0,
           0,
           0,
           0,
           0,
           0,
           0,
           0,
           0,
           0,
           0,
           0,
           0,
           0,
           0,
           0,
           0,
           0,
           0,
           0,
           0,
           0,
           0,
           0,
           0,
           0,
           0,
           0,
           0,
           0,
           0,
           1,
           0,
           0,
           0,
           0,
           0,
           0,
           0,
           0,
           0,
           0,
           0,
           0,
           0,
           0,
           0,
           0,
           0,
           0,
           0,
           0,
           0,
           0,
           0,
           0,
           0,
           0,
           0,
           0,
           0,
           0,
           0,
           0,
           0,
           0,
           0,
           0,
           0,
           0,
           0,
           0,
           0,
           0,
           0,
           0,
           0,
           0,
           0,
           0,
           0,
           0,
           0,
           0,
           0,
           0,
           0,
           0,
           0,
           0,
           0,
           0,
           0,
           0,
           0,
           0,
           0,
           0,
           0,
           0,
           0,
           1,
           0,
           0,
           0,
           0,
           0,
           0,
           0,
           0,
           0,
           0,
           0,
           0,
           0,
           0,
           0,
           0,
           0,
           0,
           0,
           0,
           0,
           0,
           0,
           0,
           0,
           0,
           0,
           0,
           0,
           0
          ],
          "coloraxis": "coloraxis",
          "symbol": "circle"
         },
         "mode": "markers",
         "name": "",
         "scene": "scene",
         "showlegend": false,
         "type": "scatter3d",
         "x": [
          5.13438081741333,
          4.563389778137207,
          4.378888130187988,
          -2.886927604675293,
          -5.2396464347839355,
          -1.7120323181152344,
          4.728318691253662,
          -3.0384552478790283,
          -4.865837097167969,
          0.5215132236480713,
          2.300956964492798,
          -5.428280353546143,
          -0.31303662061691284,
          -2.9377410411834717,
          -5.151968955993652,
          5.629188060760498,
          -3.738725423812866,
          -3.470932960510254,
          -5.616309642791748,
          4.224930763244629,
          4.553483009338379,
          2.8530852794647217,
          3.025373697280884,
          -5.66663932800293,
          3.970876693725586,
          -3.6278634071350098,
          1.211140751838684,
          1.0444207191467285,
          -2.295236825942993,
          -5.200425624847412,
          0.803646445274353,
          -3.8234245777130127,
          -4.01997184753418,
          0.8571295738220215,
          2.8650615215301514,
          -4.800074100494385,
          -2.1009111404418945,
          -1.8285131454467773,
          -0.289100964248317,
          0.20778560638427734,
          -3.1023473739624023,
          1.43226957321167,
          1.1261303424835205,
          3.9978628158569336,
          -3.0700266361236572,
          -5.270692825317383,
          5.22396183013916,
          -0.3677716553211212,
          -4.663987159729004,
          5.543811321258545,
          5.111267566680908,
          0.23298609256744385,
          -5.411569118499756,
          -4.063199520111084,
          4.294734954833984,
          -4.074619293212891,
          4.199847221374512,
          4.540618896484375,
          4.246614933013916,
          2.2695157527923584,
          0.7674053907394409,
          0.7171562560448184,
          5.395064353942871,
          1.830825686454773,
          -5.218961238861084,
          0.1386585533618927,
          -4.155280113220215,
          2.219912052154541,
          -2.856671094894409,
          2.8502395153045654,
          -5.558217525482178,
          -5.5768256187438965,
          5.139983654022217,
          2.167342185974121,
          -3.488337516784668,
          -3.503340005874634,
          -1.4188883304595947,
          3.5267996788024902,
          5.7211127281188965,
          4.533444881439209,
          -1.1940337419509888,
          -1.3447790145874023,
          -5.132219314575195,
          4.6323699951171875,
          -1.2483454665656764,
          2.9361157417297363,
          -5.710202693939209,
          -3.726466655731201,
          2.028693199157715,
          0.34668365120887756,
          1.2460343837738037,
          -5.757627964019775,
          -3.1376075744628906,
          3.7690107822418213,
          -2.413494348526001,
          -2.239701986312866,
          6.5434417724609375,
          2.57285475730896,
          -4.269533157348633,
          4.11945104598999,
          -3.02929425239563,
          -0.9801204800605774,
          -4.3340959548950195,
          -6.560556411743164,
          1.9840790033340454,
          -4.9914870262146,
          3.505181074142456,
          -2.3809494972229004,
          5.118651390075684,
          0.30449119210243225,
          1.974768877029419,
          2.5649447441101074,
          -6.034470558166504,
          0.30810290575027466,
          -5.826475620269775,
          -6.318428039550781,
          -5.1995134353637695,
          1.8104476928710938,
          1.3315496444702148,
          2.5039801597595215,
          -3.359074115753174,
          -5.559690475463867,
          6.147609710693359,
          -2.812213897705078,
          2.7408318519592285,
          -3.5555872917175293,
          1.4860427379608154,
          2.9113199710845947,
          3.991518497467041,
          -0.8972908854484558,
          0.28004816274964567,
          -1.070387601852417,
          -1.50527822971344,
          -1.2078404426574707,
          5.268476486206055,
          2.3854005336761475,
          -6.160836696624756,
          -2.5704801082611084,
          -4.599323749542236,
          5.536283016204834,
          -0.7723129391670227,
          -5.140398025512695,
          0.4177713990211487,
          -2.8158469200134277,
          -5.21560525894165,
          -0.45055198669433594,
          -5.266554355621338,
          5.855382442474365,
          1.1171154975891113,
          -3.176934003829956,
          2.4682576656341553,
          2.0477685928344727,
          -2.2138795852661133,
          5.213570594787598,
          0.30731937289237976,
          4.674270153045654,
          3.3317620754241943,
          -0.18193978071212769,
          -2.69791316986084,
          1.6655341386795044,
          4.384490966796875,
          4.544045448303223,
          4.033847332000732,
          -1.2575972080230713,
          1.2767544984817505,
          5.64694881439209,
          -2.606149911880493,
          -0.8771435022354126,
          -5.635268211364746,
          2.4172394275665283,
          1.4097654819488525,
          -3.9463531970977783,
          1.236063003540039,
          -0.45162200927734375,
          -6.233508110046387,
          -5.16672945022583,
          0.9677237868309021,
          -4.794942855834961,
          -5.896677494049072,
          4.534343719482422,
          -4.824299335479736,
          5.421178817749023,
          -2.7990314960479736,
          3.2004828453063965,
          4.288367748260498,
          -2.0682878494262695,
          4.637986660003662,
          -6.642988204956055,
          -6.491723537445068,
          1.7006481885910034,
          0.3533404469490051,
          -0.3448132276535034,
          -0.983212947845459,
          0.6103562116622925,
          -3.009052276611328,
          -5.403660297393799,
          3.6520166397094727,
          -5.861330032348633,
          5.486084461212158,
          -0.22111043334007263,
          4.935532093048096,
          3.961345911026001,
          -5.508622169494629,
          -6.192686080932617,
          1.0386543273925781,
          4.912660598754883,
          3.3381710052490234,
          -2.0870139598846436,
          -3.579726219177246,
          -0.4552977175150747,
          -1.534174919128418,
          3.193629264831543,
          2.6080610752105713,
          -0.25005125999450684,
          1.029836893081665,
          4.6242547035217285,
          0.3635466694831848,
          -4.394155025482178,
          -0.5459797978401184,
          0.507060706615448,
          -2.387320041656494,
          -5.733164310455322,
          -3.668673276901245,
          -5.3536176681518555,
          -7.384854316711426,
          5.500569820404053,
          3.9765634536743164,
          -3.620136022567749,
          -2.435109853744507,
          3.6663737297058105,
          4.075955867767334,
          3.607339859008789,
          2.2093770503997803,
          -4.768158912658691,
          -5.143155097961426,
          3.345761299133301,
          -4.935732841491699,
          -3.260204315185547,
          3.8987183570861816,
          3.1838200092315674,
          -1.3363547325134277,
          -0.56243896484375,
          -0.4099218249320984,
          -0.5536428506333982,
          -0.4149809181690216,
          -2.63860821723938,
          -1.2761507034301758,
          5.436172008514404,
          -4.299988746643066,
          0.6487153172492981,
          5.25338888168335,
          -2.513195037841797,
          -3.3784947395324707,
          -4.64321756362915,
          -3.7499022483825684,
          -1.464720606803894,
          0.46165645122528076,
          -0.41645684838294983,
          5.756117820739746,
          -5.410799980163574,
          0.7921439409255981,
          -1.503960371017456,
          0.7324820160865784,
          5.542768955230713,
          -2.501335620880127,
          0.5465749502182007,
          3.942963123321533,
          -5.13116979598999,
          -1.744643211364746,
          3.2506790161132812,
          2.1330764293670654,
          1.6220948696136475,
          3.40488862991333,
          5.248012542724609,
          2.0149340629577637,
          2.3878228664398193,
          2.2945077419281006,
          -1.4884240627288818,
          4.850493907928467,
          0.9815911054611206,
          0.4741423428058624,
          -6.259667873382568,
          4.626199722290039,
          -3.2874979972839355,
          5.403717994689941,
          -2.762821912765503,
          6.030744552612305,
          -3.5159542560577393,
          -3.322249412536621,
          0.6297371983528137,
          -1.5562267303466797,
          -5.676676273345947,
          5.350274562835693,
          5.982802867889404,
          4.342509746551514,
          -2.0759522914886475,
          5.8614349365234375,
          0.09284014999866486,
          6.139449596405029,
          -4.174823760986328,
          -3.8914742469787598,
          -0.6076024770736694,
          0.29627081751823425,
          -4.250566482543945,
          2.382533311843872,
          -2.0794308185577393,
          2.1826934814453125,
          -4.928378582000732,
          4.783731937408447,
          -0.7283462285995483,
          4.051047325134277,
          3.633258819580078,
          -5.233022212982178,
          -1.9139740467071533,
          0.04260973632335663,
          0.31934040784835815,
          -0.06633365154266357,
          -0.3823511004447937,
          -5.035963535308838,
          3.820242166519165,
          -2.154175043106079,
          -1.1260662078857422,
          4.82827091217041,
          -3.569899559020996,
          -1.8705092668533325,
          -3.559389591217041,
          -4.750202655792236,
          -6.286540508270264,
          -3.2408342361450195,
          -3.8461952209472656,
          -4.671140193939209,
          4.398849964141846,
          0.992414116859436,
          -0.3126593828201294,
          2.304588556289673,
          0.37498241662979126,
          3.655031204223633,
          6.429706573486328,
          5.061717510223389,
          0.30158543586730957,
          4.596773624420166,
          4.16208553314209,
          -0.8060750961303711,
          -4.230233669281006,
          -0.88036048412323,
          4.866359710693359,
          3.865532159805298,
          2.1226868629455566,
          -0.7364441156387329,
          -5.226075649261475,
          -3.1278839111328125,
          -3.1568052768707275,
          -0.689640753428007,
          1.5855129957199097,
          2.533414363861084,
          4.551327228546143,
          -1.4584649801254272,
          0.2345521979598938,
          3.9875152111053467,
          -6.100712299346924,
          4.938187599182129,
          -1.255841851234436,
          -0.23939533531665802,
          -4.414345741271973,
          -0.41377830505371094,
          -2.552994728088379,
          -5.836656093597412,
          5.680584907531738,
          -1.2061309814453125,
          -4.872464656829834,
          -6.791534423828125,
          -1.1512960195541382,
          2.4235055446624756,
          0.9508727788925171,
          -3.340221405029297,
          2.484361171722412,
          0.19866740703582764,
          1.836881160736084,
          -1.1788630485534668,
          -2.405282974243164,
          -1.1089859008789062,
          -1.272918462753296,
          -6.062448024749756,
          -4.33396577835083,
          -3.5346970558166504,
          -3.012139320373535,
          4.408782482147217,
          -6.543160438537598,
          -2.588301181793213,
          6.262962341308594,
          4.720302104949951,
          -4.568089008331299,
          3.1061108112335205,
          -5.400704383850098,
          -4.09943151473999,
          -3.4638922214508057,
          -1.3908758163452148,
          -1.2916173934936523,
          3.148020029067993,
          1.0373760865690909,
          -0.7001132369041443,
          -3.2851786613464355,
          -1.0460513830184937,
          5.591562271118164,
          -3.6830883026123047,
          -4.722970485687256,
          0.49846354126930237,
          3.8099896907806396,
          -1.492182970046997,
          2.1557886600494385,
          -4.700366497039795,
          4.060292720794678,
          -2.1857399940490723,
          0.3669525384902954,
          0.9346172213554382,
          -2.47794771194458,
          2.308677911758423,
          5.858724117279053,
          -3.197913885116577,
          3.066866159439087,
          -5.744222164154053,
          2.613652229309082,
          5.204723358154297,
          -6.8568196296691895,
          2.1978352069854736,
          2.1333768367767334,
          0.5772978067398071,
          -2.9625394344329834,
          -0.8554807305335999,
          6.075867652893066,
          0.6614161729812622,
          -2.6296727657318115,
          -4.145205020904541,
          -0.4783893823623657,
          0.8120307326316833,
          -4.178433895111084,
          5.363175868988037,
          3.010258436203003,
          -3.9711902141571045,
          -1.0405757427215576,
          -0.546731173992157,
          -6.490328788757324,
          -0.9908165335655212,
          0.322005033493042,
          4.845393657684326,
          3.070469379425049,
          -1.7124900817871094,
          -0.9546504616737366,
          5.88340425491333,
          6.729891300201416,
          1.069225788116455,
          4.8484110832214355,
          -5.4550347328186035,
          1.0159082412719727,
          -2.4952776432037354,
          -3.48252010345459,
          -7.250527381896973,
          1.9797749519348145,
          1.0268936157226562,
          -5.326625823974609,
          -1.5815833806991577,
          -1.3634734153747559,
          -2.285975694656372,
          3.0822489261627197,
          6.0539164543151855,
          1.330491065979004,
          2.3467416763305664,
          -2.106579303741455,
          -2.956364154815674,
          -1.3500141973474336,
          -3.248873710632324,
          2.6190099716186523,
          3.8667638301849365,
          5.101168155670166,
          -1.9546043872833252,
          -4.984128475189209,
          0.6399389505386353,
          -6.534974575042725,
          -1.1384907960891724,
          -6.053864479064941,
          3.0298638343811035,
          -4.7153544425964355,
          -2.6996471881866455,
          -2.360684871673584,
          0.012872964143753052,
          0.9501437544822693,
          -1.064279556274414,
          -2.4075512886047363,
          -5.686522483825684,
          -0.7655962705612183,
          -4.631954193115234,
          4.4355058670043945,
          -3.5816116333007812,
          6.176867961883545,
          0.11159685254096985,
          1.6084691286087036,
          2.6476950645446777,
          6.821140766143799,
          1.5859535932540894,
          -3.148401975631714
         ],
         "y": [
          -5.697472095489502,
          -2.6099047660827637,
          2.8843374252319336,
          -3.460197925567627,
          -4.657006740570068,
          0.5180741548538208,
          0.8708407282829285,
          2.032257556915283,
          -5.546369552612305,
          -4.586633682250977,
          -5.870224475860596,
          5.251648426055908,
          -0.4886844754219055,
          -6.517009735107422,
          -4.6755876541137695,
          -2.047683000564575,
          4.785272598266602,
          -4.067805767059326,
          -6.1236796379089355,
          2.5648858547210693,
          -2.3824164867401123,
          1.178008794784546,
          5.059138774871826,
          6.367580413818359,
          -1.7251921892166138,
          -4.215723037719727,
          0.3219492435455322,
          0.02540886402130127,
          1.3276113271713257,
          4.505398273468018,
          5.205417633056641,
          3.695934534072876,
          3.467643976211548,
          -0.830804169178009,
          -7.001884460449219,
          -3.5844991207122803,
          3.362417697906494,
          4.045860767364502,
          -1.198629032759867,
          -4.800455570220947,
          -1.6651408672332764,
          -3.6726701259613037,
          0.5471372604370117,
          0.23753929138183594,
          4.848647117614746,
          3.294512987136841,
          -0.7834068536758423,
          -2.2850871086120605,
          -0.19769287109375,
          -1.3414498567581177,
          -1.728843331336975,
          -0.4306126832962036,
          0.05102050304412842,
          3.4150137901306152,
          2.86245059967041,
          -0.31399965286254883,
          -3.5980403423309326,
          0.7931225895881653,
          5.056572914123535,
          -6.309661388397217,
          3.1732070446014404,
          0.20091626409958735,
          5.765445709228516,
          5.249199390411377,
          -3.9571731090545654,
          -3.69378662109375,
          -4.267781734466553,
          5.510604381561279,
          2.7864084243774414,
          5.5480499267578125,
          2.9433798789978027,
          -3.1159229278564453,
          0.7883716225624084,
          -5.49181604385376,
          -1.790396809577942,
          -5.118071556091309,
          -1.105641484260559,
          1.7088055610656738,
          2.6647021770477295,
          2.6867408752441406,
          4.1054887771606445,
          4.384950637817383,
          3.064926862716675,
          2.931126356124878,
          -0.4931056124708682,
          0.0403846800327301,
          0.6121033430099487,
          -2.289775848388672,
          2.367931842803955,
          -2.7294349670410156,
          0.44316667318344116,
          1.6983896493911743,
          -4.7525634765625,
          0.770639181137085,
          3.1664793491363525,
          3.868574619293213,
          3.4579198360443115,
          3.5544447898864746,
          3.0616166591644287,
          -3.6581616401672363,
          -0.973455548286438,
          -3.5154199600219727,
          4.713896751403809,
          2.5639848709106445,
          -3.1184885501861572,
          3.126744270324707,
          -3.797656536102295,
          -5.513735294342041,
          -3.8892171382904053,
          -1.0385593175888062,
          -1.3560527563095093,
          -4.285462379455566,
          6.7182769775390625,
          2.8303751945495605,
          0.9591156244277954,
          5.095985412597656,
          3.467811107635498,
          -0.8500444889068604,
          -1.943151831626892,
          -5.050232887268066,
          -5.231423854827881,
          4.70753812789917,
          -5.951220512390137,
          -2.199043035507202,
          -3.439018487930298,
          1.385175347328186,
          5.428345203399658,
          -5.0375800132751465,
          1.6409516334533691,
          5.267652988433838,
          -0.1030425880164127,
          -3.0995712280273438,
          2.9085209369659424,
          -3.2347607612609863,
          -3.586374282836914,
          1.0604908466339111,
          -0.6348295211791992,
          -4.273083686828613,
          3.066662311553955,
          -0.437378853559494,
          1.0635696649551392,
          -1.4997096061706543,
          1.888885736465454,
          3.7681636810302734,
          -0.827509880065918,
          -1.9911054372787476,
          3.899003028869629,
          5.777796268463135,
          -4.634564399719238,
          -6.209973335266113,
          -5.748767375946045,
          -0.5438128709793091,
          -3.1880478858947754,
          0.3168450891971588,
          4.94371223449707,
          -2.035371780395508,
          1.3584704399108887,
          -4.009245872497559,
          3.0686588287353516,
          -1.5324136018753052,
          4.674988269805908,
          4.611685276031494,
          -4.192265510559082,
          1.0544590950012207,
          -1.278066873550415,
          4.595947265625,
          -5.27907133102417,
          4.324049949645996,
          2.5248563289642334,
          -6.027393817901611,
          4.641672134399414,
          -2.6850991249084473,
          -0.691622257232666,
          -2.8551626205444336,
          -6.3460235595703125,
          4.574240684509277,
          -2.8992679119110107,
          -5.575628280639648,
          4.389885425567627,
          -5.317391395568848,
          -3.8638503551483154,
          5.598250389099121,
          1.0124930143356323,
          3.085266351699829,
          1.6073715686798096,
          2.2547783851623535,
          -5.886717796325684,
          0.16922953724861145,
          2.104086399078369,
          5.41812801361084,
          -2.931974172592163,
          -0.11226359009742737,
          1.1196497678756714,
          0.06524699926376343,
          1.4925302267074585,
          2.814169406890869,
          2.1110363006591797,
          0.0030876919627189636,
          -1.6349494457244873,
          -2.7897462844848633,
          -4.298856258392334,
          -3.9125051498413086,
          1.1937761306762695,
          3.8542768955230713,
          -4.32342004776001,
          3.578242540359497,
          -1.6317827701568604,
          -1.5490204095840454,
          -1.5008620023727417,
          0.22137989653480297,
          6.515811920166016,
          -3.411907434463501,
          -5.10380744934082,
          3.2980830669403076,
          -5.754973411560059,
          -3.06534743309021,
          5.290646553039551,
          -5.291374683380127,
          -5.27970552444458,
          6.823498725891113,
          1.9049080610275269,
          -1.6221678256988525,
          -1.6950044631958008,
          -5.422984600067139,
          -1.155363917350769,
          3.2695891857147217,
          -6.403668403625488,
          1.5005227327346802,
          3.0498385429382324,
          -0.34538590908050537,
          2.544105291366577,
          -0.9895278215408325,
          0.39442044496536255,
          -3.6208372116088867,
          4.966845512390137,
          -2.733099937438965,
          -4.610335826873779,
          -1.2614904642105103,
          0.42647838592529297,
          1.6430455446243286,
          -4.677881240844727,
          -4.01106595993042,
          -1.7639726400375366,
          0.7030154993471731,
          0.8072813153266907,
          2.24943470954895,
          5.225441932678223,
          -4.287905216217041,
          -4.652944564819336,
          -2.151639699935913,
          2.996772050857544,
          -3.1333584785461426,
          -1.127498745918274,
          -3.956167697906494,
          4.68791389465332,
          3.1229958534240723,
          1.5301437377929688,
          -3.2282326221466064,
          1.4400631189346313,
          -5.849898815155029,
          4.324902057647705,
          1.7682344913482666,
          -4.688878059387207,
          -2.738579750061035,
          4.252073764801025,
          1.1000701189041138,
          2.276398181915283,
          -4.621426582336426,
          -0.6244515776634216,
          -4.3206281661987305,
          5.262571334838867,
          0.4656168520450592,
          -4.191728591918945,
          5.116204738616943,
          -4.484501838684082,
          -0.12306168675422668,
          -1.7678347826004028,
          1.2568409442901611,
          3.5173728466033936,
          -3.2126073837280273,
          2.3082926273345947,
          0.5260624885559082,
          -4.370264053344727,
          6.13006591796875,
          -4.443699836730957,
          5.6007609367370605,
          0.24905216693878174,
          5.454502105712891,
          -2.7053146362304688,
          1.66383695602417,
          -3.5073351860046387,
          4.552679061889648,
          4.209624767303467,
          4.297974109649658,
          2.361016035079956,
          2.060293674468994,
          0.5291132926940918,
          -2.047274351119995,
          3.7275519371032715,
          6.073610305786133,
          4.626259803771973,
          0.29718297719955444,
          -2.7815146446228027,
          -2.41410756111145,
          -4.807660102844238,
          0.7125986218452454,
          -5.165539264678955,
          2.234055280685425,
          -2.505418300628662,
          0.945113480091095,
          2.4288108348846436,
          -3.6866025924682617,
          1.1680634021759033,
          3.475346803665161,
          -2.2340826988220215,
          5.952462196350098,
          0.6644362807273865,
          -5.008387565612793,
          5.439178943634033,
          2.7394726276397705,
          2.7106595039367676,
          -4.957167625427246,
          4.502640247344971,
          4.916293144226074,
          0.6874209642410278,
          -2.335952043533325,
          4.96798038482666,
          -0.9783322811126709,
          4.928921222686768,
          2.0978329181671143,
          5.350521564483643,
          -1.7454185485839844,
          6.03989315032959,
          -0.18664467334747314,
          -3.1651527881622314,
          6.04171085357666,
          2.98957896232605,
          2.842336893081665,
          -4.642369270324707,
          -5.523995399475098,
          -3.7928032875061035,
          -0.734484076499939,
          3.3773443698883057,
          4.443117618560791,
          0.7974343299865723,
          -2.4499545097351074,
          -2.9529342651367188,
          2.1778783798217773,
          -4.951645851135254,
          6.129424571990967,
          -6.4398193359375,
          -2.0453031063079834,
          0.5213251176366464,
          5.326884746551514,
          3.3133673667907715,
          0.6113781929016113,
          2.242318868637085,
          -0.16473491529061493,
          -2.901475667953491,
          -5.912601947784424,
          -2.3165202140808105,
          -0.6788249015808105,
          -1.262953758239746,
          -5.975284099578857,
          4.109301567077637,
          4.590075969696045,
          4.451782703399658,
          -0.05936303734779358,
          5.984795570373535,
          5.587830066680908,
          4.700224876403809,
          -0.5020975470542908,
          4.927803039550781,
          5.864141464233398,
          -2.357759952545166,
          6.307363510131836,
          -5.663670539855957,
          -0.9954917430877686,
          -1.3999574184417725,
          -1.9977433681488037,
          -0.8891279697418213,
          -3.7927157878875732,
          1.0755891799926758,
          2.082902669906616,
          -4.501621723175049,
          -2.624397039413452,
          -3.2384743690490723,
          -4.032553195953369,
          4.444252014160156,
          -3.1581525802612305,
          -1.726681113243103,
          6.4321417808532715,
          -0.604287326335907,
          6.090175151824951,
          -3.693243980407715,
          -5.722555637359619,
          -1.170641303062439,
          -2.526721239089966,
          -4.011376857757568,
          0.4028025245547482,
          -0.5493766069412231,
          2.6147971153259277,
          -5.116496562957764,
          -3.8323042392730713,
          -3.3371732234954834,
          4.398794174194336,
          -5.694528579711914,
          -4.281731605529785,
          3.0612759590148926,
          1.5307765007019043,
          6.092850208282471,
          -4.620483875274658,
          4.526268482208252,
          4.90280294418335,
          6.818054676055908,
          -6.121424674987793,
          -5.3307976722717285,
          3.815073013305664,
          -4.345330715179443,
          -0.722413957118988,
          0.8619284629821777,
          4.496589660644531,
          6.33984375,
          3.0379562377929688,
          -3.2300634384155273,
          6.474061012268066,
          -6.658403396606445,
          5.936470985412598,
          -3.1115453243255615,
          -1.6659188270568848,
          -1.172288179397583,
          -0.7881379723548889,
          -0.34257224202156067,
          -1.5764598846435547,
          -3.755289077758789,
          1.2495423555374146,
          4.988409519195557,
          4.396580219268799,
          -6.134568214416504,
          -4.649882793426514,
          1.0787906646728516,
          -1.9616444110870361,
          -1.2228329181671143,
          -4.988602161407471,
          3.555485248565674,
          6.244126796722412,
          4.440315246582031,
          2.2650909423828125,
          1.7366752624511719,
          1.189803957939148,
          4.281420707702637,
          6.735801696777344,
          3.560379981994629,
          0.6612206101417542,
          0.3559691309928894,
          -5.291662216186523,
          4.234675884246826,
          0.6118118762969971,
          4.675088882446289,
          3.2503247261047363,
          2.1976318359375,
          3.891878843307495,
          -3.08323073387146,
          -4.748350620269775,
          0.9527770280838013,
          -2.0040440559387207,
          3.1968142986297607,
          -5.202739238739014,
          -2.7722702026367188,
          -0.7611605198581817,
          -4.510393142700195,
          -5.512256622314453,
          -4.716810703277588,
          0.6921114921569824,
          -5.860376358032227,
          2.951899766921997,
          -6.660532474517822,
          5.916982650756836,
          -1.7142186164855957,
          -4.846416473388672,
          0.4324871301651001,
          4.090196132659912,
          -2.705639600753784,
          1.6044223308563232,
          -3.181070327758789,
          5.3719482421875,
          1.1766782999038696,
          -6.863093376159668,
          6.206798076629639,
          0.2921597957611084,
          2.8278956413269043,
          4.643397331237793,
          2.126883029937744,
          4.245832920074463,
          0.21410897374153137,
          -0.12875640392303467,
          -1.9831299781799316,
          -4.987639427185059,
          -3.6589725017547607,
          -4.605125427246094
         ],
         "z": [
          -0.07803404331207275,
          0.5450587272644043,
          0.20205819606781006,
          0.02126789093017578,
          1.5899765491485596,
          -0.058119237422943115,
          -0.1460689902305603,
          -1.0709835290908813,
          0.7638390064239502,
          -1.1961846351623535,
          2.4920225143432617,
          -0.3971632122993469,
          1.0143170356750488,
          1.693927526473999,
          0.6415521502494812,
          2.4714245796203613,
          1.6094859838485718,
          1.0709086656570435,
          0.44143062829971313,
          -1.9727119207382202,
          -0.3758573532104492,
          -2.0549449920654297,
          1.2195179462432861,
          -0.24899792671203613,
          -0.45853886008262634,
          1.6031301021575928,
          0.9695106744766235,
          1.9877395629882812,
          -1.709498405456543,
          1.8700389862060547,
          0.23990342020988464,
          1.5087618827819824,
          1.4259953498840332,
          0.08747583627700806,
          1.6564161777496338,
          2.0286407470703125,
          -1.5069669485092163,
          -0.29205527901649475,
          -2.6082506468180853,
          1.4410642385482788,
          -1.744275450706482,
          -2.4839181900024414,
          1.2723034620285034,
          -1.3030723333358765,
          2.2565081119537354,
          1.7429500818252563,
          -0.3748646676540375,
          -1.0727972984313965,
          -1.7983059883117676,
          -0.16829562187194824,
          1.4137165546417236,
          1.6124299764633179,
          0.16237318515777588,
          1.5507969856262207,
          2.283292055130005,
          -1.856736421585083,
          2.0438711643218994,
          0.1422392725944519,
          2.611778497695923,
          2.456655502319336,
          -0.3097853660583496,
          -2.518929146971363,
          1.2202874422073364,
          1.403245210647583,
          2.0290281772613525,
          -1.8698173761367798,
          1.9242603778839111,
          1.4356598854064941,
          -1.5567102432250977,
          3.4460835456848145,
          1.2935364246368408,
          1.8227201700210571,
          1.151876449584961,
          1.746559739112854,
          -1.6407774686813354,
          1.5231869220733643,
          0.3447023928165436,
          -1.6201378107070923,
          0.6273969411849976,
          1.0793726444244385,
          1.2938647270202637,
          -1.146284580230713,
          2.606140613555908,
          0.7381543517112732,
          -4.040419516541779,
          -1.1673479080200195,
          1.4112236499786377,
          -0.7418417930603027,
          -2.2479374408721924,
          -1.6209678649902344,
          -0.50295090675354,
          1.3491665124893188,
          1.1674823760986328,
          -0.7576698064804077,
          -1.0817450284957886,
          -0.6621695756912231,
          1.9942207336425781,
          -0.44612279534339905,
          2.0093042850494385,
          1.8748646974563599,
          -1.8414204120635986,
          -0.14035093784332275,
          1.5733519792556763,
          1.8404078483581543,
          -1.6409943103790283,
          2.198127031326294,
          1.388428807258606,
          1.4118030071258545,
          1.8955392837524414,
          1.572559118270874,
          -1.216261863708496,
          0.9393263459205627,
          -0.47886544466018677,
          -1.328836441040039,
          1.4391611814498901,
          0.585545539855957,
          2.532986879348755,
          1.2535450458526611,
          -2.244562864303589,
          1.227237582206726,
          1.393418550491333,
          0.2614273428916931,
          -0.6127737760543823,
          -2.0828092098236084,
          -0.47537553310394287,
          -0.08924223482608795,
          2.0998520851135254,
          0.9818543195724487,
          -0.8427544832229614,
          -0.2906571328639984,
          -1.4027900955400534,
          -1.9797499179840088,
          -1.7449257373809814,
          -1.7590572834014893,
          1.1141364574432373,
          -1.7124290466308594,
          1.9765881299972534,
          1.3166825771331787,
          1.7154817581176758,
          1.382220983505249,
          1.1668486595153809,
          2.100184440612793,
          -0.27004945278167725,
          0.988697350025177,
          1.5752151012420654,
          -0.16029579937458038,
          1.5975604057312012,
          0.1879594624042511,
          0.9766685962677002,
          1.193160891532898,
          2.25594425201416,
          1.5480165481567383,
          -1.2866833209991455,
          0.2531816363334656,
          -0.04333364963531494,
          0.8968906998634338,
          -1.5387459993362427,
          -1.346391201019287,
          -1.2000832557678223,
          0.7032206654548645,
          2.412508726119995,
          0.6287038326263428,
          0.8614314794540405,
          2.143357753753662,
          -1.1077724695205688,
          1.0558769702911377,
          1.4888758659362793,
          -2.1262097358703613,
          1.9777320623397827,
          1.3329828977584839,
          -0.35408109426498413,
          -0.21580007672309875,
          0.3987244963645935,
          -1.797048807144165,
          0.39039844274520874,
          1.8887335062026978,
          -2.0698375701904297,
          0.5494251251220703,
          0.7501671314239502,
          2.3004112243652344,
          1.868807077407837,
          0.41387301683425903,
          -2.285296678543091,
          -2.0090692043304443,
          0.34457623958587646,
          -2.0882248878479004,
          1.193280577659607,
          2.8164474964141846,
          1.608526587486267,
          2.006963014602661,
          -1.8483883142471313,
          1.1729421615600586,
          1.819664716720581,
          0.5217263698577881,
          -1.2979576587677002,
          2.2748146057128906,
          0.5834423303604126,
          1.0455440282821655,
          2.3462703227996826,
          -1.9473605155944824,
          1.929280400276184,
          2.595993995666504,
          -0.24870866537094116,
          1.6464388370513916,
          1.7309038639068604,
          1.4338246583938599,
          -0.6874414086341858,
          -0.36313432455062866,
          -1.5738716125488281,
          -1.401539165974159,
          2.2079381942749023,
          1.0771501064300537,
          2.6905274391174316,
          -1.8165427446365356,
          1.1171627044677734,
          0.47989422082901,
          0.5308694243431091,
          0.33953166007995605,
          2.4264509677886963,
          1.9022302627563477,
          -2.160801410675049,
          2.5446629524230957,
          -1.3056614398956299,
          -0.8066403865814209,
          2.1673011779785156,
          2.739818572998047,
          1.1040085554122925,
          -1.4598709344863892,
          -1.0840858221054077,
          -1.2830297946929932,
          1.521517276763916,
          -1.43770432472229,
          -1.9610377550125122,
          1.6652417182922363,
          1.954255223274231,
          0.019977401942014694,
          1.1603792905807495,
          -1.098704218864441,
          -0.780552089214325,
          -1.9109950065612793,
          2.210977077484131,
          -1.2397024631500244,
          -1.7144663333892822,
          -2.2233893251155057,
          0.017023444175720215,
          -1.5385174751281738,
          1.7241456508636475,
          1.920554518699646,
          2.3534622192382812,
          -2.194969415664673,
          3.1666183471679688,
          -0.5332311391830444,
          -1.4306950569152832,
          1.9808846712112427,
          1.6715190410614014,
          -2.019249677658081,
          -2.0768914222717285,
          -2.6086339950561523,
          1.2969528436660767,
          -1.5166964530944824,
          -0.320864200592041,
          -0.5651103258132935,
          0.4278230667114258,
          1.7458494901657104,
          0.9838093519210815,
          -0.2458401620388031,
          0.34629613161087036,
          0.9499902129173279,
          0.6295768022537231,
          2.0136568546295166,
          0.9928970336914062,
          -0.284021258354187,
          1.9858052730560303,
          1.2432746887207031,
          2.26632022857666,
          0.046627968549728394,
          -1.4876422882080078,
          0.6615902185440063,
          1.9718724489212036,
          -2.2480807304382324,
          -1.9236308336257935,
          1.6349631547927856,
          2.122462034225464,
          1.3947710990905762,
          1.79929780960083,
          1.3411695957183838,
          1.4981598854064941,
          2.4024033546447754,
          -0.041751012206077576,
          -1.4270175695419312,
          -2.2313194274902344,
          1.4282197952270508,
          0.2511864900588989,
          2.262972354888916,
          0.015477985143661499,
          -1.7342631816864014,
          2.1554975509643555,
          -1.4500023126602173,
          1.8961079120635986,
          0.11062808334827423,
          1.507735013961792,
          0.4253065884113312,
          -1.8411436080932617,
          0.5948957204818726,
          0.30738314986228943,
          -1.2010605335235596,
          1.7446742057800293,
          1.330944538116455,
          2.8863513469696045,
          1.1510404348373413,
          0.3962627053260803,
          0.381270170211792,
          2.417842388153076,
          -1.5167081356048584,
          -1.5979743003845215,
          2.0724937915802,
          0.9994478225708008,
          1.115424394607544,
          0.6298051476478577,
          -1.3252381086349487,
          -1.9555689096450806,
          0.9866679906845093,
          1.9209779500961304,
          1.3751145601272583,
          -1.2449440956115723,
          0.050531625747680664,
          2.3636715412139893,
          0.8815804719924927,
          1.6665757894515991,
          -2.455509662628174,
          1.6057016849517822,
          0.7341104745864868,
          1.7698087692260742,
          0.9993948936462402,
          -1.5036031007766724,
          2.9418630599975586,
          0.6264939904212952,
          1.6879111528396606,
          1.2359458208084106,
          0.8362988233566284,
          1.9594733715057373,
          -0.04579886794090271,
          -1.0479235649108887,
          2.6532185077667236,
          -0.1347368210554123,
          1.791127324104309,
          -1.3341774940490723,
          -0.3434961438179016,
          1.3016481399536133,
          -1.2830045223236084,
          0.9733886122703552,
          -1.8897168636322021,
          -1.743316030867412,
          2.3050642013549805,
          -1.0764038562774658,
          0.8565452098846436,
          -2.388313055038452,
          -1.975765386403647,
          0.5013842582702637,
          -1.6414809226989746,
          1.7272789478302002,
          -0.17854735255241394,
          -0.9348176121711731,
          -0.3497782349586487,
          0.18076840043067932,
          0.3530728816986084,
          -1.2439491748809814,
          1.9997590780258179,
          1.8143351078033447,
          1.4327366352081299,
          0.8040177822113037,
          -0.3598172664642334,
          1.6417677402496338,
          1.5087716579437256,
          -0.8643168807029724,
          1.6930946111679077,
          0.4635293781757355,
          -1.2147705554962158,
          -1.1479477882385254,
          -1.2636008262634277,
          -1.4518907070159912,
          -1.611070156097412,
          2.22365140914917,
          0.42186230421066284,
          0.6527034640312195,
          0.28884270787239075,
          -0.42364299297332764,
          0.975581169128418,
          2.2231671810150146,
          2.018092155456543,
          0.330264687538147,
          -0.1253223419189453,
          -1.701063632965088,
          -0.060494452714920044,
          2.146399974822998,
          1.2655725479125977,
          1.289278268814087,
          -1.4427525997161865,
          0.4524956941604614,
          -0.21185996692588893,
          1.6264851093292236,
          -1.6299687623977661,
          -0.7283236980438232,
          2.4438252449035645,
          -0.8055296540260315,
          2.206801176071167,
          0.9092556238174438,
          2.235248327255249,
          -1.8416253328323364,
          -0.8478654623031616,
          -0.5659078359603882,
          0.9409210681915283,
          0.020920753479003906,
          1.575512409210205,
          1.607313871383667,
          2.3989036083221436,
          1.7038347721099854,
          -0.3853115439414978,
          1.7942954301834106,
          -2.0475826263427734,
          1.4178589582443237,
          0.7744844555854797,
          -0.6759284734725952,
          2.7749500274658203,
          0.6034088730812073,
          1.9329134225845337,
          0.9423415064811707,
          1.9491324424743652,
          -1.2385950088500977,
          2.173388719558716,
          -0.1498773992061615,
          -2.5984551906585693,
          -0.5702182054519653,
          0.44156312942504883,
          -1.2626264095306396,
          -1.1704096794128418,
          1.5221198797225952,
          0.46404609084129333,
          2.715999126434326,
          -0.4236297309398651,
          1.0028406381607056,
          1.4784982204437256,
          -1.885613203048706,
          -0.8362104296684265,
          0.2671166658401489,
          1.4940180778503418,
          -0.0422726571559906,
          -0.13630461692810059,
          1.42242431640625,
          1.7435888051986694,
          -1.2958035469055176,
          0.44791653752326965,
          0.8484530448913574,
          -0.06696439534425735,
          -1.4938511848449707,
          1.0426008701324463,
          0.80281662940979,
          0.23435012996196747,
          -1.7599480152130127,
          1.4482157230377197,
          -1.7416826486587524,
          -0.27076128125190735,
          -2.3781514167785645,
          1.1748571395874023,
          1.673614263534546,
          -1.5340657234191895,
          -1.5216214656829834,
          1.5945632457733154,
          -2.513195276260376,
          -1.8508900986606227,
          1.7993487119674683,
          2.3740122318267822,
          2.253481864929199,
          -0.10315023362636566,
          1.6009199619293213,
          1.7068285942077637,
          2.2485597133636475,
          0.2521098852157593,
          -2.2004473209381104,
          -0.0067414045333862305,
          -1.8979723453521729,
          0.8648190498352051,
          -1.7067358493804932,
          -0.8477804660797119,
          -2.453355312347412,
          1.9134316444396973,
          -0.5523589849472046,
          2.5493361949920654,
          0.6827948093414307,
          1.3330258131027222,
          -0.022621989250183105,
          1.5487703084945679,
          -1.663447380065918,
          0.19699889421463013,
          0.6262621879577637,
          -1.451690673828125,
          -2.8389434814453125,
          1.4423885345458984,
          -0.26966413855552673,
          0.29770636558532715
         ]
        }
       ],
       "layout": {
        "coloraxis": {
         "colorbar": {
          "title": {
           "text": "color"
          }
         },
         "colorscale": [
          [
           0,
           "#0d0887"
          ],
          [
           0.1111111111111111,
           "#46039f"
          ],
          [
           0.2222222222222222,
           "#7201a8"
          ],
          [
           0.3333333333333333,
           "#9c179e"
          ],
          [
           0.4444444444444444,
           "#bd3786"
          ],
          [
           0.5555555555555556,
           "#d8576b"
          ],
          [
           0.6666666666666666,
           "#ed7953"
          ],
          [
           0.7777777777777778,
           "#fb9f3a"
          ],
          [
           0.8888888888888888,
           "#fdca26"
          ],
          [
           1,
           "#f0f921"
          ]
         ]
        },
        "legend": {
         "tracegroupgap": 0
        },
        "margin": {
         "t": 60
        },
        "scene": {
         "domain": {
          "x": [
           0,
           1
          ],
          "y": [
           0,
           1
          ]
         },
         "xaxis": {
          "title": {
           "text": "x"
          }
         },
         "yaxis": {
          "title": {
           "text": "y"
          }
         },
         "zaxis": {
          "title": {
           "text": "z"
          }
         }
        },
        "template": {
         "data": {
          "bar": [
           {
            "error_x": {
             "color": "#2a3f5f"
            },
            "error_y": {
             "color": "#2a3f5f"
            },
            "marker": {
             "line": {
              "color": "#E5ECF6",
              "width": 0.5
             },
             "pattern": {
              "fillmode": "overlay",
              "size": 10,
              "solidity": 0.2
             }
            },
            "type": "bar"
           }
          ],
          "barpolar": [
           {
            "marker": {
             "line": {
              "color": "#E5ECF6",
              "width": 0.5
             },
             "pattern": {
              "fillmode": "overlay",
              "size": 10,
              "solidity": 0.2
             }
            },
            "type": "barpolar"
           }
          ],
          "carpet": [
           {
            "aaxis": {
             "endlinecolor": "#2a3f5f",
             "gridcolor": "white",
             "linecolor": "white",
             "minorgridcolor": "white",
             "startlinecolor": "#2a3f5f"
            },
            "baxis": {
             "endlinecolor": "#2a3f5f",
             "gridcolor": "white",
             "linecolor": "white",
             "minorgridcolor": "white",
             "startlinecolor": "#2a3f5f"
            },
            "type": "carpet"
           }
          ],
          "choropleth": [
           {
            "colorbar": {
             "outlinewidth": 0,
             "ticks": ""
            },
            "type": "choropleth"
           }
          ],
          "contour": [
           {
            "colorbar": {
             "outlinewidth": 0,
             "ticks": ""
            },
            "colorscale": [
             [
              0,
              "#0d0887"
             ],
             [
              0.1111111111111111,
              "#46039f"
             ],
             [
              0.2222222222222222,
              "#7201a8"
             ],
             [
              0.3333333333333333,
              "#9c179e"
             ],
             [
              0.4444444444444444,
              "#bd3786"
             ],
             [
              0.5555555555555556,
              "#d8576b"
             ],
             [
              0.6666666666666666,
              "#ed7953"
             ],
             [
              0.7777777777777778,
              "#fb9f3a"
             ],
             [
              0.8888888888888888,
              "#fdca26"
             ],
             [
              1,
              "#f0f921"
             ]
            ],
            "type": "contour"
           }
          ],
          "contourcarpet": [
           {
            "colorbar": {
             "outlinewidth": 0,
             "ticks": ""
            },
            "type": "contourcarpet"
           }
          ],
          "heatmap": [
           {
            "colorbar": {
             "outlinewidth": 0,
             "ticks": ""
            },
            "colorscale": [
             [
              0,
              "#0d0887"
             ],
             [
              0.1111111111111111,
              "#46039f"
             ],
             [
              0.2222222222222222,
              "#7201a8"
             ],
             [
              0.3333333333333333,
              "#9c179e"
             ],
             [
              0.4444444444444444,
              "#bd3786"
             ],
             [
              0.5555555555555556,
              "#d8576b"
             ],
             [
              0.6666666666666666,
              "#ed7953"
             ],
             [
              0.7777777777777778,
              "#fb9f3a"
             ],
             [
              0.8888888888888888,
              "#fdca26"
             ],
             [
              1,
              "#f0f921"
             ]
            ],
            "type": "heatmap"
           }
          ],
          "heatmapgl": [
           {
            "colorbar": {
             "outlinewidth": 0,
             "ticks": ""
            },
            "colorscale": [
             [
              0,
              "#0d0887"
             ],
             [
              0.1111111111111111,
              "#46039f"
             ],
             [
              0.2222222222222222,
              "#7201a8"
             ],
             [
              0.3333333333333333,
              "#9c179e"
             ],
             [
              0.4444444444444444,
              "#bd3786"
             ],
             [
              0.5555555555555556,
              "#d8576b"
             ],
             [
              0.6666666666666666,
              "#ed7953"
             ],
             [
              0.7777777777777778,
              "#fb9f3a"
             ],
             [
              0.8888888888888888,
              "#fdca26"
             ],
             [
              1,
              "#f0f921"
             ]
            ],
            "type": "heatmapgl"
           }
          ],
          "histogram": [
           {
            "marker": {
             "pattern": {
              "fillmode": "overlay",
              "size": 10,
              "solidity": 0.2
             }
            },
            "type": "histogram"
           }
          ],
          "histogram2d": [
           {
            "colorbar": {
             "outlinewidth": 0,
             "ticks": ""
            },
            "colorscale": [
             [
              0,
              "#0d0887"
             ],
             [
              0.1111111111111111,
              "#46039f"
             ],
             [
              0.2222222222222222,
              "#7201a8"
             ],
             [
              0.3333333333333333,
              "#9c179e"
             ],
             [
              0.4444444444444444,
              "#bd3786"
             ],
             [
              0.5555555555555556,
              "#d8576b"
             ],
             [
              0.6666666666666666,
              "#ed7953"
             ],
             [
              0.7777777777777778,
              "#fb9f3a"
             ],
             [
              0.8888888888888888,
              "#fdca26"
             ],
             [
              1,
              "#f0f921"
             ]
            ],
            "type": "histogram2d"
           }
          ],
          "histogram2dcontour": [
           {
            "colorbar": {
             "outlinewidth": 0,
             "ticks": ""
            },
            "colorscale": [
             [
              0,
              "#0d0887"
             ],
             [
              0.1111111111111111,
              "#46039f"
             ],
             [
              0.2222222222222222,
              "#7201a8"
             ],
             [
              0.3333333333333333,
              "#9c179e"
             ],
             [
              0.4444444444444444,
              "#bd3786"
             ],
             [
              0.5555555555555556,
              "#d8576b"
             ],
             [
              0.6666666666666666,
              "#ed7953"
             ],
             [
              0.7777777777777778,
              "#fb9f3a"
             ],
             [
              0.8888888888888888,
              "#fdca26"
             ],
             [
              1,
              "#f0f921"
             ]
            ],
            "type": "histogram2dcontour"
           }
          ],
          "mesh3d": [
           {
            "colorbar": {
             "outlinewidth": 0,
             "ticks": ""
            },
            "type": "mesh3d"
           }
          ],
          "parcoords": [
           {
            "line": {
             "colorbar": {
              "outlinewidth": 0,
              "ticks": ""
             }
            },
            "type": "parcoords"
           }
          ],
          "pie": [
           {
            "automargin": true,
            "type": "pie"
           }
          ],
          "scatter": [
           {
            "marker": {
             "colorbar": {
              "outlinewidth": 0,
              "ticks": ""
             }
            },
            "type": "scatter"
           }
          ],
          "scatter3d": [
           {
            "line": {
             "colorbar": {
              "outlinewidth": 0,
              "ticks": ""
             }
            },
            "marker": {
             "colorbar": {
              "outlinewidth": 0,
              "ticks": ""
             }
            },
            "type": "scatter3d"
           }
          ],
          "scattercarpet": [
           {
            "marker": {
             "colorbar": {
              "outlinewidth": 0,
              "ticks": ""
             }
            },
            "type": "scattercarpet"
           }
          ],
          "scattergeo": [
           {
            "marker": {
             "colorbar": {
              "outlinewidth": 0,
              "ticks": ""
             }
            },
            "type": "scattergeo"
           }
          ],
          "scattergl": [
           {
            "marker": {
             "colorbar": {
              "outlinewidth": 0,
              "ticks": ""
             }
            },
            "type": "scattergl"
           }
          ],
          "scattermapbox": [
           {
            "marker": {
             "colorbar": {
              "outlinewidth": 0,
              "ticks": ""
             }
            },
            "type": "scattermapbox"
           }
          ],
          "scatterpolar": [
           {
            "marker": {
             "colorbar": {
              "outlinewidth": 0,
              "ticks": ""
             }
            },
            "type": "scatterpolar"
           }
          ],
          "scatterpolargl": [
           {
            "marker": {
             "colorbar": {
              "outlinewidth": 0,
              "ticks": ""
             }
            },
            "type": "scatterpolargl"
           }
          ],
          "scatterternary": [
           {
            "marker": {
             "colorbar": {
              "outlinewidth": 0,
              "ticks": ""
             }
            },
            "type": "scatterternary"
           }
          ],
          "surface": [
           {
            "colorbar": {
             "outlinewidth": 0,
             "ticks": ""
            },
            "colorscale": [
             [
              0,
              "#0d0887"
             ],
             [
              0.1111111111111111,
              "#46039f"
             ],
             [
              0.2222222222222222,
              "#7201a8"
             ],
             [
              0.3333333333333333,
              "#9c179e"
             ],
             [
              0.4444444444444444,
              "#bd3786"
             ],
             [
              0.5555555555555556,
              "#d8576b"
             ],
             [
              0.6666666666666666,
              "#ed7953"
             ],
             [
              0.7777777777777778,
              "#fb9f3a"
             ],
             [
              0.8888888888888888,
              "#fdca26"
             ],
             [
              1,
              "#f0f921"
             ]
            ],
            "type": "surface"
           }
          ],
          "table": [
           {
            "cells": {
             "fill": {
              "color": "#EBF0F8"
             },
             "line": {
              "color": "white"
             }
            },
            "header": {
             "fill": {
              "color": "#C8D4E3"
             },
             "line": {
              "color": "white"
             }
            },
            "type": "table"
           }
          ]
         },
         "layout": {
          "annotationdefaults": {
           "arrowcolor": "#2a3f5f",
           "arrowhead": 0,
           "arrowwidth": 1
          },
          "autotypenumbers": "strict",
          "coloraxis": {
           "colorbar": {
            "outlinewidth": 0,
            "ticks": ""
           }
          },
          "colorscale": {
           "diverging": [
            [
             0,
             "#8e0152"
            ],
            [
             0.1,
             "#c51b7d"
            ],
            [
             0.2,
             "#de77ae"
            ],
            [
             0.3,
             "#f1b6da"
            ],
            [
             0.4,
             "#fde0ef"
            ],
            [
             0.5,
             "#f7f7f7"
            ],
            [
             0.6,
             "#e6f5d0"
            ],
            [
             0.7,
             "#b8e186"
            ],
            [
             0.8,
             "#7fbc41"
            ],
            [
             0.9,
             "#4d9221"
            ],
            [
             1,
             "#276419"
            ]
           ],
           "sequential": [
            [
             0,
             "#0d0887"
            ],
            [
             0.1111111111111111,
             "#46039f"
            ],
            [
             0.2222222222222222,
             "#7201a8"
            ],
            [
             0.3333333333333333,
             "#9c179e"
            ],
            [
             0.4444444444444444,
             "#bd3786"
            ],
            [
             0.5555555555555556,
             "#d8576b"
            ],
            [
             0.6666666666666666,
             "#ed7953"
            ],
            [
             0.7777777777777778,
             "#fb9f3a"
            ],
            [
             0.8888888888888888,
             "#fdca26"
            ],
            [
             1,
             "#f0f921"
            ]
           ],
           "sequentialminus": [
            [
             0,
             "#0d0887"
            ],
            [
             0.1111111111111111,
             "#46039f"
            ],
            [
             0.2222222222222222,
             "#7201a8"
            ],
            [
             0.3333333333333333,
             "#9c179e"
            ],
            [
             0.4444444444444444,
             "#bd3786"
            ],
            [
             0.5555555555555556,
             "#d8576b"
            ],
            [
             0.6666666666666666,
             "#ed7953"
            ],
            [
             0.7777777777777778,
             "#fb9f3a"
            ],
            [
             0.8888888888888888,
             "#fdca26"
            ],
            [
             1,
             "#f0f921"
            ]
           ]
          },
          "colorway": [
           "#636efa",
           "#EF553B",
           "#00cc96",
           "#ab63fa",
           "#FFA15A",
           "#19d3f3",
           "#FF6692",
           "#B6E880",
           "#FF97FF",
           "#FECB52"
          ],
          "font": {
           "color": "#2a3f5f"
          },
          "geo": {
           "bgcolor": "white",
           "lakecolor": "white",
           "landcolor": "#E5ECF6",
           "showlakes": true,
           "showland": true,
           "subunitcolor": "white"
          },
          "hoverlabel": {
           "align": "left"
          },
          "hovermode": "closest",
          "mapbox": {
           "style": "light"
          },
          "paper_bgcolor": "white",
          "plot_bgcolor": "#E5ECF6",
          "polar": {
           "angularaxis": {
            "gridcolor": "white",
            "linecolor": "white",
            "ticks": ""
           },
           "bgcolor": "#E5ECF6",
           "radialaxis": {
            "gridcolor": "white",
            "linecolor": "white",
            "ticks": ""
           }
          },
          "scene": {
           "xaxis": {
            "backgroundcolor": "#E5ECF6",
            "gridcolor": "white",
            "gridwidth": 2,
            "linecolor": "white",
            "showbackground": true,
            "ticks": "",
            "zerolinecolor": "white"
           },
           "yaxis": {
            "backgroundcolor": "#E5ECF6",
            "gridcolor": "white",
            "gridwidth": 2,
            "linecolor": "white",
            "showbackground": true,
            "ticks": "",
            "zerolinecolor": "white"
           },
           "zaxis": {
            "backgroundcolor": "#E5ECF6",
            "gridcolor": "white",
            "gridwidth": 2,
            "linecolor": "white",
            "showbackground": true,
            "ticks": "",
            "zerolinecolor": "white"
           }
          },
          "shapedefaults": {
           "line": {
            "color": "#2a3f5f"
           }
          },
          "ternary": {
           "aaxis": {
            "gridcolor": "white",
            "linecolor": "white",
            "ticks": ""
           },
           "baxis": {
            "gridcolor": "white",
            "linecolor": "white",
            "ticks": ""
           },
           "bgcolor": "#E5ECF6",
           "caxis": {
            "gridcolor": "white",
            "linecolor": "white",
            "ticks": ""
           }
          },
          "title": {
           "x": 0.05
          },
          "xaxis": {
           "automargin": true,
           "gridcolor": "white",
           "linecolor": "white",
           "ticks": "",
           "title": {
            "standoff": 15
           },
           "zerolinecolor": "white",
           "zerolinewidth": 2
          },
          "yaxis": {
           "automargin": true,
           "gridcolor": "white",
           "linecolor": "white",
           "ticks": "",
           "title": {
            "standoff": 15
           },
           "zerolinecolor": "white",
           "zerolinewidth": 2
          }
         }
        }
       }
      }
     },
     "metadata": {},
     "output_type": "display_data"
    }
   ],
   "source": [
    "fig = px.scatter_3d(x=X[:, 0], y=X[:, 1], z=X[:, 2], color=y)\n",
    "fig.show()"
   ]
  },
  {
   "cell_type": "code",
   "execution_count": 25,
   "id": "58b7d48b",
   "metadata": {
    "slideshow": {
     "slide_type": "skip"
    }
   },
   "outputs": [
    {
     "name": "stderr",
     "output_type": "stream",
     "text": [
      "100%|██████████| 14/14 [00:26<00:00,  1.87s/it]\n"
     ]
    }
   ],
   "source": [
    "# Fit KDE on high dimensional examples \n",
    "rocs = []\n",
    "auprs = []\n",
    "bandwidths = []\n",
    "\n",
    "param_space = {\n",
    "        'kernel': ['gaussian'],\n",
    "        'bandwidth': np.linspace(0.1, 100, 1000), # Define Search space for bandwidth parameter\n",
    "    }\n",
    "\n",
    "kdes = {}\n",
    "dims = np.arange(2,16)\n",
    "for d in tqdm(dims):\n",
    "    # Generate d dimensional distributions\n",
    "    dists = create_distributions(dim=d)\n",
    "\n",
    "    distribution_with_anomalies = contamination(\n",
    "        nominal=dists['Sinusoidal'],\n",
    "        anomaly=dists['Blob'],\n",
    "        p=.05\n",
    "    )\n",
    "\n",
    "    # Train on clean data\n",
    "    sample_train = dists['Sinusoidal'].sample(500)\n",
    "    X_train = sample_train[-1].numpy()\n",
    "    # Test data\n",
    "    sample_test = distribution_with_anomalies.sample(500)\n",
    "    X_test = sample_test[-1].numpy()\n",
    "    y_test = sample_test[0].numpy()\n",
    "\n",
    "    # Optimize bandwidth\n",
    "    params, kde = hyperopt_by_score(X_train, param_space)\n",
    "    kdes[d] = (params, kde)\n",
    "    \n",
    "    bandwidths.append(params['bandwidth'])\n",
    "\n",
    "    test_scores = -kde.score_samples(X_test)\n",
    "    test_scores = np.where(test_scores == np.inf, np.max(test_scores[np.isfinite(test_scores)])+1, test_scores)\n",
    "\n",
    "    rocs.append(roc_auc_score(y_test, test_scores))\n",
    "    auprs.append(average_precision_score(y_test, test_scores))\n",
    "\n",
    "    "
   ]
  },
  {
   "cell_type": "code",
   "execution_count": 26,
   "id": "cc679493",
   "metadata": {
    "pycharm": {
     "name": "#%%\n"
    },
    "slideshow": {
     "slide_type": "skip"
    }
   },
   "outputs": [
    {
     "name": "stderr",
     "output_type": "stream",
     "text": [
      "100%|██████████| 14/14 [00:01<00:00, 11.50it/s]\n"
     ]
    },
    {
     "name": "stdout",
     "output_type": "stream",
     "text": [
      "Crossection of the KDE at (0,...,0, x, y)\n"
     ]
    },
    {
     "data": {
      "image/png": "[encoded data removed]",
      "text/plain": [
       "<Figure size 1080x360 with 14 Axes>"
      ]
     },
     "metadata": {
      "needs_background": "light"
     },
     "output_type": "display_data"
    },
    {
     "name": "stdout",
     "output_type": "stream",
     "text": [
      "Evaluation with N((0,-2), .1) contamination\n"
     ]
    },
    {
     "data": {
      "image/png": "[encoded data removed]",
      "text/plain": [
       "<Figure size 720x360 with 2 Axes>"
      ]
     },
     "metadata": {
      "needs_background": "light"
     },
     "output_type": "display_data"
    }
   ],
   "source": [
    "# Plot cross section of pdf \n",
    "fig, axes = plt.subplots(nrows=2, ncols=7, figsize=(15, 5))\n",
    "for d, axis in tqdm(list(zip(kdes, axes.flatten()))):\n",
    "    \n",
    "    params, kde = kdes[d]\n",
    "\n",
    "    lin = np.linspace(-10, 10, 50)\n",
    "    grid_points = list(it.product(*([[0]]*(d-2)), lin, lin))\n",
    "    ys, xs = np.meshgrid(lin, lin)\n",
    "    # The score function of sklearn returns log-densities\n",
    "    scores = np.exp(kde.score_samples(grid_points)).reshape(50, 50)\n",
    "    colormesh = axis.contourf(xs, ys, scores)\n",
    "    axis.set_title(\"Dim = {}\".format(d))\n",
    "    axis.set_aspect('equal')\n",
    "    \n",
    "\n",
    "# Plot evaluation\n",
    "print('Crossection of the KDE at (0,...,0, x, y)')\n",
    "plt.show()\n",
    "\n",
    "_, axes = plt.subplots(ncols=2, figsize=(10, 5))\n",
    "print('Evaluation with N((0,-2), .1) contamination')\n",
    "axes[0].plot(dims, rocs)\n",
    "axes[0].plot(dims, auprs)\n",
    "axes[0].legend(labels=['ROC AUC', 'Average Precision'])\n",
    "axes[0].set_xlabel(\"Dimension\")\n",
    "axes[1].plot(dims, bandwidths)\n",
    "axes[1].set_xlabel(\"Dimension\")\n",
    "axes[1].set_ylabel(\"Bandwidth\")\n",
    "plt.tight_layout()\n",
    "plt.show()"
   ]
  },
  {
   "cell_type": "markdown",
   "id": "020500ed",
   "metadata": {
    "slideshow": {
     "slide_type": "subslide"
    }
   },
   "source": [
    "## Robustness\n",
    "Another drawback of KDE in the context of anomaly detection is that it is not robust against contamination of the data\n",
    "\n",
    "---\n",
    "**Definition**\n",
    "The *breakdown point* of an estimator is the smallest fraction of observations that need to be changed so that we can\n",
    "move the estimate arbitrarily far away from the true value.\n",
    "\n",
    "---"
   ]
  },
  {
   "cell_type": "markdown",
   "id": "74cf4c13",
   "metadata": {
    "slideshow": {
     "slide_type": "fragment"
    }
   },
   "source": [
    "**Example**: The sample mean has a breakdown point of $0$. Indeed, for a sample of $x_1,\\ldots, x_n$ we only need to\n",
    "change a single value in order to move the sample mean in any way we want. That means that the breakdown point is\n",
    "smaller than $\\frac{1}{n}$ for every $n\\in\\mathbb{N}$."
   ]
  },
  {
   "cell_type": "markdown",
   "id": "4efce06e",
   "metadata": {
    "slideshow": {
     "slide_type": "subslide"
    }
   },
   "source": [
    "## Robust Statistics\n",
    "There are robust replacements for the sample mean:\n",
    "- Median of means: Split the dataset into $S$ equally sized subsets $X_1,\\ldots, X_S$ and compute\n",
    "$\\mathrm{median}(\\overline{X_1},\\ldots, \\overline{X_S})$\n",
    "- M-estimation: The mean in a normed vector space is the value that minimizes the squared distances\n",
    "<center>\n",
    "$\\overline{X} = \\min_{y}\\sum_{x\\in X}|x-y|^2$\n",
    "</center>\n",
    "M-estimation replaces the quadratic loss with a more robust loss function."
   ]
  },
  {
   "cell_type": "markdown",
   "id": "ac5655c6",
   "metadata": {
    "slideshow": {
     "slide_type": "fragment"
    }
   },
   "source": [
    "### Huber loss\n",
    "Switch from quadratic to linear loss at prescribed threshold"
   ]
  },
  {
   "cell_type": "code",
   "execution_count": 12,
   "id": "b6861d26",
   "metadata": {
    "hideCode": true,
    "pycharm": {
     "name": "#%%\n"
    },
    "slideshow": {
     "slide_type": "-"
    }
   },
   "outputs": [
    {
     "data": {
      "image/png": "[encoded data removed]",
      "text/plain": [
       "<Figure size 360x360 with 1 Axes>"
      ]
     },
     "metadata": {
      "needs_background": "light"
     },
     "output_type": "display_data"
    }
   ],
   "source": [
    "import numpy as np\n",
    "\n",
    "\n",
    "def huber(error, threshold):\n",
    "    test = (np.abs(error) <= threshold)\n",
    "    return (test * (error**2)/2) + ((1-test)*threshold*(np.abs(error) - threshold/2))\n",
    "\n",
    "x = np.linspace(-5, 5)\n",
    "y = huber(x, 100)\n",
    "\n",
    "plt.plot(x, y)\n",
    "plt.gca().set_title(\"Huber Loss\")\n",
    "plt.show()"
   ]
  },
  {
   "cell_type": "markdown",
   "id": "c4ed645c",
   "metadata": {
    "slideshow": {
     "slide_type": "subslide"
    }
   },
   "source": [
    "## KDE is a Mean\n",
    "\n",
    "---\n",
    "\n",
    "**Kernel as scalar product:**\n",
    "<img src=\"images/kernels.png\" align=\"right\" width=\"400\" style=\"margin: 150px 75px\">\n",
    "\n",
    "- Let $K$ be a radial monotonic$^\\ast$ kernel over $\\mathbb{R}^n$.\n",
    "- For $x\\in\\mathbb{R}^n$ let $\\phi_x = K(\\cdot, x)$.\n",
    "- Vector space over the linear span of $\\{\\phi_x \\mid x\\in\\mathbb{R}^n\\}$:\n",
    "    - Pointwise addition and scalar multiplication.\n",
    "- Define the scalar product $\\langle \\phi_x, \\phi_y\\rangle = K(x,y)$.\n",
    "- Advantage: Scalar product is computable\n",
    "- Call this the reproducing kernel Hilbert space (RKHS) of $K$.\n",
    "- $\\mathrm{KDE}_h(\\cdot, D) = \\frac{1}{N}\\sum_{i=1}^N K_h(\\cdot, x_i) = \\frac{1}{N}\\sum_{i=1}^N\\phi_{x_i}$\n",
    "    - where $K_h(x,y) = \\frac{1}{h}K\\left(\\frac{|x-y|}{h}\\right)$\n",
    "\n",
    "---\n",
    "\n",
    "$^*$All kernels that we have seen are radial and monotonic\n",
    "\n",
    "\n"
   ]
  },
  {
   "cell_type": "markdown",
   "id": "aa0e6487",
   "metadata": {
    "slideshow": {
     "slide_type": "subslide"
    }
   },
   "source": [
    "# Exercise\n",
    "We compare the performance of different approaches to recover the nominal distribution under contamination.\n",
    "Here, we use code by [Humbert et al.](https://github.com/lminvielle/mom-kde) to replicate\n",
    "the results in the referenced paper on median-of-mean KDE. More details on rKDE can instead be found in this paper by [Kim and Scott.](https://arxiv.org/abs/1107.3133#:~:text=We%20propose%20a%20method%20for,ideas%20from%20classical%20M%2Destimation.)"
   ]
  },
  {
   "cell_type": "code",
   "execution_count": 19,
   "id": "58243128",
   "metadata": {
    "pycharm": {
     "name": "#%%\n"
    },
    "slideshow": {
     "slide_type": "skip"
    }
   },
   "outputs": [],
   "source": [
    "# =======================================================\n",
    "#   Parameters\n",
    "# =======================================================\n",
    "algos = [\n",
    "    'kde',\n",
    "    'mom-kde', # Median-of-Means\n",
    "    'rkde', # Huber Loss\n",
    "]\n",
    "\n",
    "dataset = 'house-prices'\n",
    "dataset_options = {'neighborhood': 'CollgCr', 'anomaly_neighborhood': 'Edwards'}\n",
    "\n",
    "outlierprop_range = [0.01, 0.02, 0.03, 0.05, 0.07, 0.1, 0.2, 0.3, 0.4, 0.5]\n",
    "kernel = 'gaussian'"
   ]
  },
  {
   "cell_type": "code",
   "execution_count": 20,
   "id": "da628e2f",
   "metadata": {
    "pycharm": {
     "name": "#%%\n"
    },
    "slideshow": {
     "slide_type": "skip"
    }
   },
   "outputs": [
    {
     "name": "stdout",
     "output_type": "stream",
     "text": [
      "Dataset:  house-prices\n"
     ]
    },
    {
     "data": {
      "application/vnd.plotly.v1+json": {
       "config": {
        "plotlyServerURL": "https://plot.ly"
       },
       "data": [
        {
         "hovertemplate": "LotArea=%{x}<br>OverallCond=%{y}<br>SalePrice=%{z}<br>color=%{marker.color}<extra></extra>",
         "legendgroup": "",
         "marker": {
          "color": [
           1,
           1,
           1,
           1,
           1,
           1,
           0,
           1,
           1,
           1,
           1,
           1,
           0,
           1,
           1,
           1,
           1,
           0,
           1,
           0,
           0,
           1,
           1,
           0,
           0,
           1,
           0,
           1,
           0,
           1,
           1,
           1,
           1,
           1,
           0,
           1,
           1,
           0,
           1,
           0,
           1,
           1,
           1,
           0,
           1,
           0,
           0,
           1,
           1,
           0,
           0,
           0,
           1,
           0,
           1,
           1,
           1,
           1,
           0,
           0,
           1,
           1,
           1,
           0,
           1,
           1,
           0,
           0,
           0,
           1,
           0,
           0,
           1,
           0,
           1,
           0,
           0,
           0,
           0,
           0,
           1,
           1,
           0,
           1,
           1,
           1,
           1,
           0,
           1,
           1,
           0,
           1,
           0,
           0,
           1,
           1,
           1,
           1,
           1,
           1,
           0,
           1,
           1,
           1,
           1,
           1,
           1,
           1,
           1,
           0,
           0,
           0,
           0,
           0,
           1,
           1,
           0,
           1,
           1,
           1,
           0,
           1,
           1,
           0,
           1,
           1,
           0,
           1,
           1,
           1,
           1,
           0,
           1,
           1,
           1,
           1,
           0,
           1,
           1,
           1,
           0,
           1,
           0,
           1,
           0,
           0,
           1,
           1,
           0,
           1,
           1,
           1,
           0,
           0,
           1,
           0,
           0,
           1,
           0,
           1,
           0,
           1,
           1,
           0,
           0,
           1,
           0,
           0,
           1,
           1,
           1,
           1,
           0,
           1,
           1,
           1,
           1,
           0,
           0,
           0,
           1,
           1,
           0,
           1,
           1,
           1,
           0,
           1,
           0,
           0,
           1,
           1,
           0,
           0,
           0,
           1,
           1,
           0,
           0,
           0,
           0,
           1,
           1,
           1,
           0,
           0,
           0,
           1,
           1,
           0,
           0,
           0,
           1,
           1,
           1,
           0,
           1,
           0,
           0,
           1,
           1,
           0,
           1,
           1,
           1,
           1,
           1,
           1,
           1,
           0,
           1,
           1,
           0,
           1,
           1,
           0,
           1,
           1,
           0,
           1,
           1,
           1,
           0,
           1,
           1,
           0,
           0,
           0,
           0,
           0
          ],
          "coloraxis": "coloraxis",
          "symbol": "circle"
         },
         "mode": "markers",
         "name": "",
         "scene": "scene",
         "showlegend": false,
         "type": "scatter3d",
         "x": [
          9066,
          12420,
          14006,
          9548,
          7200,
          11103,
          19690,
          10665,
          13568,
          10667,
          6762,
          8072,
          10921,
          9742,
          4426,
          8749,
          9965,
          12180,
          9100,
          9405,
          8741,
          9525,
          11923,
          9340,
          63887,
          4435,
          9571,
          8070,
          10625,
          6762,
          9808,
          8450,
          11250,
          8200,
          6931,
          6762,
          8487,
          2522,
          11050,
          9084,
          9245,
          8760,
          10780,
          8248,
          7180,
          8172,
          12342,
          12393,
          7200,
          10106,
          6420,
          9525,
          12137,
          7301,
          8814,
          8773,
          4435,
          8556,
          9098,
          3675,
          10402,
          13125,
          8775,
          12354,
          9200,
          9245,
          4060,
          10012,
          8877,
          9750,
          9937,
          9450,
          9750,
          8405,
          8445,
          7000,
          2522,
          9170,
          11512,
          7917,
          4426,
          9135,
          8405,
          8846,
          10650,
          11885,
          11838,
          10998,
          10386,
          8750,
          9738,
          12435,
          8248,
          10880,
          11645,
          8767,
          9135,
          9286,
          11317,
          9531,
          13286,
          8990,
          8924,
          9588,
          11248,
          8935,
          9473,
          11175,
          8430,
          11767,
          8160,
          11409,
          10452,
          9060,
          10316,
          8814,
          8410,
          15523,
          11210,
          9965,
          6040,
          10970,
          9800,
          8777,
          9560,
          10400,
          3675,
          8800,
          8500,
          4435,
          9382,
          9600,
          12803,
          16226,
          4426,
          8385,
          8562,
          8450,
          8400,
          8158,
          8172,
          16285,
          8190,
          7226,
          8777,
          7200,
          7000,
          7200,
          8777,
          11883,
          14781,
          10084,
          8212,
          9060,
          15611,
          7711,
          11100,
          4438,
          17140,
          11645,
          4270,
          10475,
          4435,
          10215,
          9825,
          10356,
          7800,
          13680,
          9920,
          11049,
          7990,
          7406,
          9084,
          10652,
          10769,
          8461,
          7314,
          7024,
          13907,
          8536,
          11250,
          10264,
          17755,
          9100,
          11423,
          8125,
          3675,
          8750,
          8926,
          8335,
          9017,
          11367,
          10800,
          7024,
          7585,
          8846,
          9179,
          11767,
          2522,
          9400,
          10206,
          13704,
          9236,
          8320,
          3363,
          11841,
          13728,
          8199,
          10000,
          9855,
          40094,
          16466,
          9337,
          13450,
          9100,
          6629,
          10637,
          9937,
          8877,
          10859,
          15426,
          10020,
          7700,
          4435,
          8633,
          9317,
          10335,
          8750,
          11404,
          12108,
          9375,
          10635,
          7950,
          9240,
          8450,
          5604,
          12464,
          9375,
          9571,
          10226,
          9313,
          11249,
          10420,
          4438,
          10900,
          8546,
          11500,
          12615,
          21780,
          7819
         ],
         "y": [
          5,
          5,
          5,
          6,
          7,
          5,
          7,
          5,
          5,
          6,
          5,
          5,
          5,
          5,
          5,
          5,
          5,
          4,
          5,
          9,
          4,
          6,
          5,
          6,
          5,
          5,
          6,
          5,
          5,
          5,
          5,
          5,
          5,
          5,
          5,
          5,
          5,
          5,
          5,
          5,
          5,
          5,
          5,
          3,
          7,
          7,
          5,
          5,
          8,
          7,
          7,
          4,
          5,
          5,
          5,
          5,
          5,
          5,
          7,
          5,
          5,
          5,
          5,
          8,
          6,
          5,
          8,
          5,
          6,
          5,
          7,
          5,
          6,
          8,
          7,
          7,
          5,
          7,
          7,
          7,
          5,
          5,
          3,
          5,
          6,
          5,
          5,
          5,
          5,
          5,
          7,
          5,
          7,
          5,
          5,
          5,
          5,
          7,
          5,
          5,
          5,
          5,
          5,
          5,
          5,
          5,
          5,
          5,
          5,
          6,
          6,
          4,
          5,
          5,
          5,
          5,
          3,
          6,
          5,
          5,
          5,
          6,
          7,
          5,
          7,
          5,
          5,
          7,
          5,
          5,
          5,
          5,
          5,
          5,
          5,
          8,
          6,
          5,
          5,
          5,
          6,
          5,
          6,
          5,
          7,
          6,
          8,
          5,
          7,
          5,
          5,
          5,
          3,
          6,
          5,
          3,
          7,
          5,
          6,
          5,
          6,
          5,
          5,
          5,
          5,
          6,
          8,
          5,
          6,
          5,
          6,
          5,
          6,
          5,
          5,
          5,
          5,
          5,
          6,
          5,
          5,
          5,
          4,
          5,
          5,
          5,
          5,
          5,
          3,
          5,
          5,
          5,
          5,
          5,
          3,
          5,
          5,
          7,
          5,
          5,
          3,
          5,
          5,
          5,
          5,
          5,
          7,
          5,
          5,
          5,
          5,
          7,
          5,
          5,
          5,
          6,
          5,
          6,
          5,
          5,
          5,
          1,
          5,
          5,
          5,
          5,
          5,
          5,
          5,
          4,
          5,
          5,
          6,
          5,
          5,
          6,
          5,
          5,
          3,
          5,
          5,
          5,
          5,
          5,
          7,
          5,
          3,
          7,
          7,
          5
         ],
         "z": [
          230000,
          230000,
          192500,
          237000,
          124900,
          155835,
          274970,
          226000,
          156000,
          212000,
          195400,
          138000,
          94750,
          230000,
          141000,
          192000,
          424870,
          80000,
          216837,
          118000,
          113000,
          144000,
          239000,
          113000,
          160000,
          136500,
          129000,
          123600,
          83000,
          206000,
          227000,
          208500,
          255900,
          219500,
          165400,
          193879,
          190000,
          130000,
          313000,
          108000,
          145000,
          239799,
          132500,
          67000,
          127000,
          115000,
          82500,
          195000,
          133900,
          127500,
          123500,
          136900,
          224900,
          198500,
          220000,
          185500,
          140000,
          194000,
          86000,
          140000,
          198900,
          208900,
          126000,
          110000,
          130250,
          213500,
          99900,
          137500,
          100000,
          213000,
          167000,
          110000,
          274300,
          119000,
          133000,
          107500,
          130000,
          140000,
          177000,
          148000,
          143000,
          214000,
          98000,
          173900,
          128200,
          261500,
          236500,
          117000,
          305900,
          210000,
          104900,
          231500,
          116000,
          125000,
          196500,
          164990,
          200000,
          143500,
          180000,
          211000,
          320000,
          204900,
          188000,
          276000,
          285000,
          195000,
          237000,
          200141,
          124000,
          130500,
          126000,
          131000,
          155000,
          105000,
          235000,
          203000,
          81000,
          133500,
          221500,
          383970,
          82000,
          147000,
          149900,
          108000,
          128500,
          197900,
          148000,
          150500,
          179600,
          131500,
          191000,
          79000,
          221000,
          267000,
          149300,
          149900,
          144500,
          185000,
          213000,
          224900,
          135000,
          187100,
          119000,
          183000,
          85000,
          125000,
          136500,
          123000,
          145900,
          203000,
          275000,
          212900,
          58500,
          120000,
          233230,
          150000,
          84900,
          149000,
          135000,
          260000,
          79000,
          245350,
          155900,
          111000,
          100000,
          122000,
          225000,
          139600,
          128500,
          179900,
          110000,
          194000,
          95000,
          279500,
          212000,
          163990,
          194500,
          176000,
          108000,
          155000,
          223500,
          214000,
          149900,
          235000,
          272000,
          230000,
          145000,
          200500,
          112000,
          93000,
          192000,
          255000,
          179000,
          157000,
          91500,
          148000,
          193000,
          112000,
          137500,
          127500,
          82000,
          205000,
          217000,
          185900,
          130000,
          118500,
          235000,
          189000,
          240000,
          127500,
          184750,
          135500,
          204750,
          200000,
          178000,
          103600,
          297000,
          147500,
          102000,
          145000,
          231500,
          61000,
          112500,
          144000,
          173500,
          176432,
          204000,
          191000,
          222500,
          118000,
          219500,
          232000,
          159500,
          287000,
          210000,
          98000,
          152000,
          228500,
          60000,
          295493,
          190000,
          177500,
          186000,
          144500,
          161750,
          140000,
          84000,
          243000,
          185000,
          107000
         ]
        }
       ],
       "layout": {
        "coloraxis": {
         "colorbar": {
          "title": {
           "text": "color"
          }
         },
         "colorscale": [
          [
           0,
           "#0d0887"
          ],
          [
           0.1111111111111111,
           "#46039f"
          ],
          [
           0.2222222222222222,
           "#7201a8"
          ],
          [
           0.3333333333333333,
           "#9c179e"
          ],
          [
           0.4444444444444444,
           "#bd3786"
          ],
          [
           0.5555555555555556,
           "#d8576b"
          ],
          [
           0.6666666666666666,
           "#ed7953"
          ],
          [
           0.7777777777777778,
           "#fb9f3a"
          ],
          [
           0.8888888888888888,
           "#fdca26"
          ],
          [
           1,
           "#f0f921"
          ]
         ]
        },
        "legend": {
         "tracegroupgap": 0
        },
        "margin": {
         "t": 60
        },
        "scene": {
         "domain": {
          "x": [
           0,
           1
          ],
          "y": [
           0,
           1
          ]
         },
         "xaxis": {
          "title": {
           "text": "LotArea"
          }
         },
         "yaxis": {
          "title": {
           "text": "OverallCond"
          }
         },
         "zaxis": {
          "title": {
           "text": "SalePrice"
          }
         }
        },
        "template": {
         "data": {
          "bar": [
           {
            "error_x": {
             "color": "#2a3f5f"
            },
            "error_y": {
             "color": "#2a3f5f"
            },
            "marker": {
             "line": {
              "color": "#E5ECF6",
              "width": 0.5
             },
             "pattern": {
              "fillmode": "overlay",
              "size": 10,
              "solidity": 0.2
             }
            },
            "type": "bar"
           }
          ],
          "barpolar": [
           {
            "marker": {
             "line": {
              "color": "#E5ECF6",
              "width": 0.5
             },
             "pattern": {
              "fillmode": "overlay",
              "size": 10,
              "solidity": 0.2
             }
            },
            "type": "barpolar"
           }
          ],
          "carpet": [
           {
            "aaxis": {
             "endlinecolor": "#2a3f5f",
             "gridcolor": "white",
             "linecolor": "white",
             "minorgridcolor": "white",
             "startlinecolor": "#2a3f5f"
            },
            "baxis": {
             "endlinecolor": "#2a3f5f",
             "gridcolor": "white",
             "linecolor": "white",
             "minorgridcolor": "white",
             "startlinecolor": "#2a3f5f"
            },
            "type": "carpet"
           }
          ],
          "choropleth": [
           {
            "colorbar": {
             "outlinewidth": 0,
             "ticks": ""
            },
            "type": "choropleth"
           }
          ],
          "contour": [
           {
            "colorbar": {
             "outlinewidth": 0,
             "ticks": ""
            },
            "colorscale": [
             [
              0,
              "#0d0887"
             ],
             [
              0.1111111111111111,
              "#46039f"
             ],
             [
              0.2222222222222222,
              "#7201a8"
             ],
             [
              0.3333333333333333,
              "#9c179e"
             ],
             [
              0.4444444444444444,
              "#bd3786"
             ],
             [
              0.5555555555555556,
              "#d8576b"
             ],
             [
              0.6666666666666666,
              "#ed7953"
             ],
             [
              0.7777777777777778,
              "#fb9f3a"
             ],
             [
              0.8888888888888888,
              "#fdca26"
             ],
             [
              1,
              "#f0f921"
             ]
            ],
            "type": "contour"
           }
          ],
          "contourcarpet": [
           {
            "colorbar": {
             "outlinewidth": 0,
             "ticks": ""
            },
            "type": "contourcarpet"
           }
          ],
          "heatmap": [
           {
            "colorbar": {
             "outlinewidth": 0,
             "ticks": ""
            },
            "colorscale": [
             [
              0,
              "#0d0887"
             ],
             [
              0.1111111111111111,
              "#46039f"
             ],
             [
              0.2222222222222222,
              "#7201a8"
             ],
             [
              0.3333333333333333,
              "#9c179e"
             ],
             [
              0.4444444444444444,
              "#bd3786"
             ],
             [
              0.5555555555555556,
              "#d8576b"
             ],
             [
              0.6666666666666666,
              "#ed7953"
             ],
             [
              0.7777777777777778,
              "#fb9f3a"
             ],
             [
              0.8888888888888888,
              "#fdca26"
             ],
             [
              1,
              "#f0f921"
             ]
            ],
            "type": "heatmap"
           }
          ],
          "heatmapgl": [
           {
            "colorbar": {
             "outlinewidth": 0,
             "ticks": ""
            },
            "colorscale": [
             [
              0,
              "#0d0887"
             ],
             [
              0.1111111111111111,
              "#46039f"
             ],
             [
              0.2222222222222222,
              "#7201a8"
             ],
             [
              0.3333333333333333,
              "#9c179e"
             ],
             [
              0.4444444444444444,
              "#bd3786"
             ],
             [
              0.5555555555555556,
              "#d8576b"
             ],
             [
              0.6666666666666666,
              "#ed7953"
             ],
             [
              0.7777777777777778,
              "#fb9f3a"
             ],
             [
              0.8888888888888888,
              "#fdca26"
             ],
             [
              1,
              "#f0f921"
             ]
            ],
            "type": "heatmapgl"
           }
          ],
          "histogram": [
           {
            "marker": {
             "pattern": {
              "fillmode": "overlay",
              "size": 10,
              "solidity": 0.2
             }
            },
            "type": "histogram"
           }
          ],
          "histogram2d": [
           {
            "colorbar": {
             "outlinewidth": 0,
             "ticks": ""
            },
            "colorscale": [
             [
              0,
              "#0d0887"
             ],
             [
              0.1111111111111111,
              "#46039f"
             ],
             [
              0.2222222222222222,
              "#7201a8"
             ],
             [
              0.3333333333333333,
              "#9c179e"
             ],
             [
              0.4444444444444444,
              "#bd3786"
             ],
             [
              0.5555555555555556,
              "#d8576b"
             ],
             [
              0.6666666666666666,
              "#ed7953"
             ],
             [
              0.7777777777777778,
              "#fb9f3a"
             ],
             [
              0.8888888888888888,
              "#fdca26"
             ],
             [
              1,
              "#f0f921"
             ]
            ],
            "type": "histogram2d"
           }
          ],
          "histogram2dcontour": [
           {
            "colorbar": {
             "outlinewidth": 0,
             "ticks": ""
            },
            "colorscale": [
             [
              0,
              "#0d0887"
             ],
             [
              0.1111111111111111,
              "#46039f"
             ],
             [
              0.2222222222222222,
              "#7201a8"
             ],
             [
              0.3333333333333333,
              "#9c179e"
             ],
             [
              0.4444444444444444,
              "#bd3786"
             ],
             [
              0.5555555555555556,
              "#d8576b"
             ],
             [
              0.6666666666666666,
              "#ed7953"
             ],
             [
              0.7777777777777778,
              "#fb9f3a"
             ],
             [
              0.8888888888888888,
              "#fdca26"
             ],
             [
              1,
              "#f0f921"
             ]
            ],
            "type": "histogram2dcontour"
           }
          ],
          "mesh3d": [
           {
            "colorbar": {
             "outlinewidth": 0,
             "ticks": ""
            },
            "type": "mesh3d"
           }
          ],
          "parcoords": [
           {
            "line": {
             "colorbar": {
              "outlinewidth": 0,
              "ticks": ""
             }
            },
            "type": "parcoords"
           }
          ],
          "pie": [
           {
            "automargin": true,
            "type": "pie"
           }
          ],
          "scatter": [
           {
            "marker": {
             "colorbar": {
              "outlinewidth": 0,
              "ticks": ""
             }
            },
            "type": "scatter"
           }
          ],
          "scatter3d": [
           {
            "line": {
             "colorbar": {
              "outlinewidth": 0,
              "ticks": ""
             }
            },
            "marker": {
             "colorbar": {
              "outlinewidth": 0,
              "ticks": ""
             }
            },
            "type": "scatter3d"
           }
          ],
          "scattercarpet": [
           {
            "marker": {
             "colorbar": {
              "outlinewidth": 0,
              "ticks": ""
             }
            },
            "type": "scattercarpet"
           }
          ],
          "scattergeo": [
           {
            "marker": {
             "colorbar": {
              "outlinewidth": 0,
              "ticks": ""
             }
            },
            "type": "scattergeo"
           }
          ],
          "scattergl": [
           {
            "marker": {
             "colorbar": {
              "outlinewidth": 0,
              "ticks": ""
             }
            },
            "type": "scattergl"
           }
          ],
          "scattermapbox": [
           {
            "marker": {
             "colorbar": {
              "outlinewidth": 0,
              "ticks": ""
             }
            },
            "type": "scattermapbox"
           }
          ],
          "scatterpolar": [
           {
            "marker": {
             "colorbar": {
              "outlinewidth": 0,
              "ticks": ""
             }
            },
            "type": "scatterpolar"
           }
          ],
          "scatterpolargl": [
           {
            "marker": {
             "colorbar": {
              "outlinewidth": 0,
              "ticks": ""
             }
            },
            "type": "scatterpolargl"
           }
          ],
          "scatterternary": [
           {
            "marker": {
             "colorbar": {
              "outlinewidth": 0,
              "ticks": ""
             }
            },
            "type": "scatterternary"
           }
          ],
          "surface": [
           {
            "colorbar": {
             "outlinewidth": 0,
             "ticks": ""
            },
            "colorscale": [
             [
              0,
              "#0d0887"
             ],
             [
              0.1111111111111111,
              "#46039f"
             ],
             [
              0.2222222222222222,
              "#7201a8"
             ],
             [
              0.3333333333333333,
              "#9c179e"
             ],
             [
              0.4444444444444444,
              "#bd3786"
             ],
             [
              0.5555555555555556,
              "#d8576b"
             ],
             [
              0.6666666666666666,
              "#ed7953"
             ],
             [
              0.7777777777777778,
              "#fb9f3a"
             ],
             [
              0.8888888888888888,
              "#fdca26"
             ],
             [
              1,
              "#f0f921"
             ]
            ],
            "type": "surface"
           }
          ],
          "table": [
           {
            "cells": {
             "fill": {
              "color": "#EBF0F8"
             },
             "line": {
              "color": "white"
             }
            },
            "header": {
             "fill": {
              "color": "#C8D4E3"
             },
             "line": {
              "color": "white"
             }
            },
            "type": "table"
           }
          ]
         },
         "layout": {
          "annotationdefaults": {
           "arrowcolor": "#2a3f5f",
           "arrowhead": 0,
           "arrowwidth": 1
          },
          "autotypenumbers": "strict",
          "coloraxis": {
           "colorbar": {
            "outlinewidth": 0,
            "ticks": ""
           }
          },
          "colorscale": {
           "diverging": [
            [
             0,
             "#8e0152"
            ],
            [
             0.1,
             "#c51b7d"
            ],
            [
             0.2,
             "#de77ae"
            ],
            [
             0.3,
             "#f1b6da"
            ],
            [
             0.4,
             "#fde0ef"
            ],
            [
             0.5,
             "#f7f7f7"
            ],
            [
             0.6,
             "#e6f5d0"
            ],
            [
             0.7,
             "#b8e186"
            ],
            [
             0.8,
             "#7fbc41"
            ],
            [
             0.9,
             "#4d9221"
            ],
            [
             1,
             "#276419"
            ]
           ],
           "sequential": [
            [
             0,
             "#0d0887"
            ],
            [
             0.1111111111111111,
             "#46039f"
            ],
            [
             0.2222222222222222,
             "#7201a8"
            ],
            [
             0.3333333333333333,
             "#9c179e"
            ],
            [
             0.4444444444444444,
             "#bd3786"
            ],
            [
             0.5555555555555556,
             "#d8576b"
            ],
            [
             0.6666666666666666,
             "#ed7953"
            ],
            [
             0.7777777777777778,
             "#fb9f3a"
            ],
            [
             0.8888888888888888,
             "#fdca26"
            ],
            [
             1,
             "#f0f921"
            ]
           ],
           "sequentialminus": [
            [
             0,
             "#0d0887"
            ],
            [
             0.1111111111111111,
             "#46039f"
            ],
            [
             0.2222222222222222,
             "#7201a8"
            ],
            [
             0.3333333333333333,
             "#9c179e"
            ],
            [
             0.4444444444444444,
             "#bd3786"
            ],
            [
             0.5555555555555556,
             "#d8576b"
            ],
            [
             0.6666666666666666,
             "#ed7953"
            ],
            [
             0.7777777777777778,
             "#fb9f3a"
            ],
            [
             0.8888888888888888,
             "#fdca26"
            ],
            [
             1,
             "#f0f921"
            ]
           ]
          },
          "colorway": [
           "#636efa",
           "#EF553B",
           "#00cc96",
           "#ab63fa",
           "#FFA15A",
           "#19d3f3",
           "#FF6692",
           "#B6E880",
           "#FF97FF",
           "#FECB52"
          ],
          "font": {
           "color": "#2a3f5f"
          },
          "geo": {
           "bgcolor": "white",
           "lakecolor": "white",
           "landcolor": "#E5ECF6",
           "showlakes": true,
           "showland": true,
           "subunitcolor": "white"
          },
          "hoverlabel": {
           "align": "left"
          },
          "hovermode": "closest",
          "mapbox": {
           "style": "light"
          },
          "paper_bgcolor": "white",
          "plot_bgcolor": "#E5ECF6",
          "polar": {
           "angularaxis": {
            "gridcolor": "white",
            "linecolor": "white",
            "ticks": ""
           },
           "bgcolor": "#E5ECF6",
           "radialaxis": {
            "gridcolor": "white",
            "linecolor": "white",
            "ticks": ""
           }
          },
          "scene": {
           "xaxis": {
            "backgroundcolor": "#E5ECF6",
            "gridcolor": "white",
            "gridwidth": 2,
            "linecolor": "white",
            "showbackground": true,
            "ticks": "",
            "zerolinecolor": "white"
           },
           "yaxis": {
            "backgroundcolor": "#E5ECF6",
            "gridcolor": "white",
            "gridwidth": 2,
            "linecolor": "white",
            "showbackground": true,
            "ticks": "",
            "zerolinecolor": "white"
           },
           "zaxis": {
            "backgroundcolor": "#E5ECF6",
            "gridcolor": "white",
            "gridwidth": 2,
            "linecolor": "white",
            "showbackground": true,
            "ticks": "",
            "zerolinecolor": "white"
           }
          },
          "shapedefaults": {
           "line": {
            "color": "#2a3f5f"
           }
          },
          "ternary": {
           "aaxis": {
            "gridcolor": "white",
            "linecolor": "white",
            "ticks": ""
           },
           "baxis": {
            "gridcolor": "white",
            "linecolor": "white",
            "ticks": ""
           },
           "bgcolor": "#E5ECF6",
           "caxis": {
            "gridcolor": "white",
            "linecolor": "white",
            "ticks": ""
           }
          },
          "title": {
           "x": 0.05
          },
          "xaxis": {
           "automargin": true,
           "gridcolor": "white",
           "linecolor": "white",
           "ticks": "",
           "title": {
            "standoff": 15
           },
           "zerolinecolor": "white",
           "zerolinewidth": 2
          },
          "yaxis": {
           "automargin": true,
           "gridcolor": "white",
           "linecolor": "white",
           "ticks": "",
           "title": {
            "standoff": 15
           },
           "zerolinecolor": "white",
           "zerolinewidth": 2
          }
         }
        }
       }
      }
     },
     "metadata": {},
     "output_type": "display_data"
    },
    {
     "name": "stdout",
     "output_type": "stream",
     "text": [
      "\n",
      "Outlier prop: 0.01 (1 / 10)\n",
      "downsample outliers\n",
      "Finding best bandwidth...\n",
      "Algo:  kde\n",
      "Algo:  mom-kde\n",
      "Algo:  rkde\n",
      "Stop at 4 iterations\n",
      "Stop at 100 iterations\n",
      "\n",
      "Outlier prop: 0.02 (2 / 10)\n",
      "downsample outliers\n",
      "Finding best bandwidth...\n",
      "Algo:  kde\n",
      "Algo:  mom-kde\n",
      "Algo:  rkde\n",
      "Stop at 4 iterations\n",
      "Stop at 100 iterations\n",
      "\n",
      "Outlier prop: 0.03 (3 / 10)\n",
      "downsample outliers\n",
      "Finding best bandwidth...\n",
      "Algo:  kde\n",
      "Algo:  mom-kde\n",
      "Algo:  rkde\n",
      "Stop at 3 iterations\n",
      "Stop at 100 iterations\n",
      "\n",
      "Outlier prop: 0.05 (4 / 10)\n",
      "downsample outliers\n",
      "Finding best bandwidth...\n",
      "Algo:  kde\n",
      "Algo:  mom-kde\n",
      "Algo:  rkde\n",
      "Stop at 5 iterations\n",
      "Stop at 100 iterations\n",
      "\n",
      "Outlier prop: 0.07 (5 / 10)\n",
      "downsample outliers\n",
      "Finding best bandwidth...\n",
      "Algo:  kde\n",
      "Algo:  mom-kde\n",
      "Algo:  rkde\n",
      "Stop at 5 iterations\n",
      "Stop at 100 iterations\n",
      "\n",
      "Outlier prop: 0.1 (6 / 10)\n",
      "downsample outliers\n",
      "Finding best bandwidth...\n",
      "Algo:  kde\n",
      "Algo:  mom-kde\n",
      "Algo:  rkde\n",
      "Stop at 4 iterations\n",
      "Stop at 100 iterations\n",
      "\n",
      "Outlier prop: 0.2 (7 / 10)\n",
      "downsample outliers\n",
      "Finding best bandwidth...\n",
      "Algo:  kde\n",
      "Algo:  mom-kde\n",
      "Algo:  rkde\n",
      "Stop at 5 iterations\n",
      "Stop at 100 iterations\n",
      "\n",
      "Outlier prop: 0.3 (8 / 10)\n",
      "downsample outliers\n",
      "Finding best bandwidth...\n",
      "Algo:  kde\n",
      "Algo:  mom-kde\n",
      "Algo:  rkde\n",
      "Stop at 5 iterations\n",
      "Stop at 21 iterations\n",
      "\n",
      "Outlier prop: 0.4 (9 / 10)\n",
      "downsample outliers\n",
      "Finding best bandwidth...\n",
      "Algo:  kde\n",
      "Algo:  mom-kde\n",
      "Algo:  rkde\n",
      "Stop at 3 iterations\n",
      "Stop at 100 iterations\n",
      "\n",
      "Outlier prop: 0.5 (10 / 10)\n",
      "downsample inliers\n",
      "Finding best bandwidth...\n",
      "Algo:  kde\n",
      "Algo:  mom-kde\n",
      "Algo:  rkde\n",
      "Stop at 3 iterations\n",
      "Stop at 29 iterations\n"
     ]
    }
   ],
   "source": [
    "auc_scores = perform_rkde_experiment(\n",
    "    algos,\n",
    "    dataset,\n",
    "    dataset_options,\n",
    "    outlierprop_range,\n",
    "    kernel,\n",
    ")"
   ]
  },
  {
   "cell_type": "code",
   "execution_count": 21,
   "id": "280ed959",
   "metadata": {},
   "outputs": [
    {
     "data": {
      "text/plain": [
       "Text(0.5, 1.0, 'Comparison of rKDE against contamination')"
      ]
     },
     "execution_count": 21,
     "metadata": {},
     "output_type": "execute_result"
    },
    {
     "data": {
      "image/png": "[encoded data removed]",
      "text/plain": [
       "<Figure size 504x360 with 1 Axes>"
      ]
     },
     "metadata": {
      "needs_background": "light"
     },
     "output_type": "display_data"
    }
   ],
   "source": [
    "fig, ax = plt.subplots(figsize=(7, 5))\n",
    "for algo, algo_data in auc_scores.groupby('algo'):\n",
    "    x = algo_data.groupby('outlier_prop').mean().index\n",
    "    y = algo_data.groupby('outlier_prop').mean()['auc_anomaly']\n",
    "    ax.plot(x, y, 'o-', label=algo)\n",
    "plt.legend()\n",
    "plt.xlabel('outlier_prop')\n",
    "plt.ylabel('auc_score')\n",
    "plt.title('Comparison of rKDE against contamination')"
   ]
  },
  {
   "cell_type": "markdown",
   "id": "76312d0d",
   "metadata": {
    "slideshow": {
     "slide_type": "subslide"
    }
   },
   "source": [
    "# Summary\n",
    "- Kernel density estimation is a non-parametric method to estimate a pdf from a sample.\n",
    "- Bandwidth is the most important parameter.\n",
    "- Converges to the true pdf if $n\\to\\infty$.\n",
    "    - Convergence exponentially depends on the dimension.\n",
    "- KDE is sensitive to contamination:\n",
    "    - In a contaminated setting one can employ methods from robust statistics to obtain robust estimates.\n",
    "    \n",
    "## Implementations\n",
    "- Sklearn: [sklearn.neighbors.KernelDensity](https://scikit-learn.org/stable/modules/generated/sklearn.neighbors.KernelDensity.html#sklearn.neighbors.KernelDensity)\n",
    "- Statsmodels: [statsmodels.nonparametric.kernel_density.KDEMultivariate](https://www.statsmodels.org/dev/generated/statsmodels.nonparametric.kernel_density.KDEMultivariate.html)\n",
    "- FastKDE: [link](https://pypi.org/project/fastkde/), offers automatic bandwidth and kernel selection."
   ]
  },
  {
   "cell_type": "markdown",
   "id": "71e46caa",
   "metadata": {
    "slideshow": {
     "slide_type": "slide"
    }
   },
   "source": [
    "# Anomaly Detection via Isolation\n",
    "**Idea:** An anomaly should allow  \"simple\" descriptions that distinguish it from the rest of the data.\n",
    "\n",
    "- Descriptions: Conjunction of single attribute tests, i.e.\n",
    "  $X_i \\leq c$ or $X_i > c$.\n",
    "- Example: $X_1 \\leq 1.2 \\text{ and } X_5 > -3.4 \\text{ and }\tX_7 \\leq 5.6$.\n",
    "- Complexity of description: Number of conjunctions.\n",
    "\n",
    "Moreover, we assume that a short random descriptions will have a significantly larger chance of isolating an anomaly\n",
    "than isolating any nominal point.\n",
    "\n",
    "- Choose random isolating descriptions and compute anomaly score from average complexity."
   ]
  },
  {
   "cell_type": "markdown",
   "id": "f9ce4a9f",
   "metadata": {
    "slideshow": {
     "slide_type": "subslide"
    }
   },
   "source": [
    "## Isolation Tree\n",
    "Isolation Forest (iForest) implements this idea by generating an ensemble of random decision trees.\n",
    "Each tree is build as follows:\n",
    "\n",
    "---\n",
    "**Input:** Data set (subsample) $X$, maximal height $h$\n",
    "- Randomly choose feature $i$ and split value $s$ (in range of data)\n",
    "- Recursively build subtrees on $X_L = \\{x\\in X\\mid x_i \\leq s\\}$ and $X_R = X\\setminus X_L$\n",
    "- Stop if remaining data set $ \\leq 1$ or maximal height reached.\n",
    "- Store test $x_i\\leq s$ for inner nodes and $|X|$ for leaf nodes\n",
    "\n",
    "---"
   ]
  },
  {
   "cell_type": "markdown",
   "id": "16dabe54",
   "metadata": {
    "slideshow": {
     "slide_type": "subslide"
    }
   },
   "source": [
    "## Visualization\n",
    "<center>\n",
    "<img src=\"images/partition.png\" align=\"center\" width=\"400\">\n",
    "    Isolation Tree as Partition Diagram\n",
    "</center>"
   ]
  },
  {
   "cell_type": "markdown",
   "id": "39fc2c5b",
   "metadata": {
    "slideshow": {
     "slide_type": "subslide"
    }
   },
   "source": [
    "## Isolation Depth\n",
    "\n",
    "---\n",
    "**Input:** Observation $x$\n",
    "- ${\\ell} = $ length of path from root to leaf according to tests\n",
    "- ${n} = $ size of remaining data set in leaf node\n",
    "- ${c(n)} =$ expected length of a path in a BST with $n$ nodes $={O}(\\log n)$\n",
    "- ${h(x)} = \\ell + c(n)$\n",
    "\n",
    "---\n",
    "\n",
    "<table>\n",
    "    <tr>\n",
    "        <td style=\"background-color:#FFFFFF;\"><img src=\"images/blob.png\" width=\"300\"></td>\n",
    "        <td style=\"background-color:#FFFFFF;\"><img src=\"images/tree.png\"  width=\"300\"></td>\n",
    "    </tr>\n",
    "    <tr>\n",
    "        <td colspan=\"2\" style=\"background-color:#FFFFFF;\"><center>Isolation Depth of Outlier (red) and nominal (blue)</center></td>\n",
    "    </tr>\n",
    "</table>\n"
   ]
  },
  {
   "cell_type": "markdown",
   "id": "4659e094",
   "metadata": {
    "slideshow": {
     "slide_type": "subslide"
    }
   },
   "source": [
    "## Isolation Forest\n",
    "- Train $k$ isolation trees on subsamples of size $N$"
   ]
  },
  {
   "cell_type": "markdown",
   "id": "2423122d",
   "metadata": {
    "slideshow": {
     "slide_type": "subslide"
    }
   },
   "source": [
    "\n",
    "<table>\n",
    "    <tr>\n",
    "        <td style=\"background-color:#FFFFFF;\"><img src=\"images/inrad.png\" width=\"400\"></td>\n",
    "        <td style=\"background-color:#FFFFFF;\"><img src=\"images/outrad.png\"  width=\"400\"></td>\n",
    "    </tr>\n",
    "    <tr>\n",
    "        <td colspan=\"2\"><center>Isolation depth of nominal point (left) and outlier (right)</center></td>\n",
    "    </tr>\n",
    "</table>"
   ]
  },
  {
   "cell_type": "markdown",
   "id": "f00a372e",
   "metadata": {
    "slideshow": {
     "slide_type": "skip"
    }
   },
   "source": [
    "# Variants of Isolation Forest"
   ]
  },
  {
   "cell_type": "markdown",
   "id": "702f9985",
   "metadata": {
    "slideshow": {
     "slide_type": "skip"
    }
   },
   "source": [
    "## Variant: Random Robust Cut Forest\n",
    "**New Rule to Choose Split Test:**\n",
    "- $\\ell_i$: length of the $i$th component of the bounding box around current data set\n",
    "- Choose dimension $i$ with probability $\\frac{\\ell_i}{\\sum_j \\ell_j}$\n",
    "- More robust against \"noise dimensions\""
   ]
  },
  {
   "cell_type": "markdown",
   "id": "ef0a2568",
   "metadata": {
    "slideshow": {
     "slide_type": "skip"
    }
   },
   "source": [
    "<center>\n",
    "<img src=\"images/partition2.png\" align=\"center\" width=\"400\" caption=\"Comparisson IForest and RRCF\">\n",
    "</center>"
   ]
  },
  {
   "cell_type": "markdown",
   "id": "ce7f67a8",
   "metadata": {
    "slideshow": {
     "slide_type": "skip"
    }
   },
   "source": [
    "## Variant: Extended Isolation Forest\n",
    "**New split criterion:**\n",
    "- Uniformly choose a normal and an orthogonal hyperplane through the data.\n",
    "- Removes a bias that was empirically observed when plotting the outlier score of iForest on low dimensional data sets\n",
    "\n",
    "<center>\n",
    "<img src=\"images/extended.png\" align=\"center\" width=\"80%\">\n",
    "</center>"
   ]
  },
  {
   "cell_type": "markdown",
   "id": "f144c10d",
   "metadata": {
    "slideshow": {
     "slide_type": "subslide"
    }
   },
   "source": [
    "# Exercise: Network Security\n",
    "\n",
    "In the final exercise of today you will have to develop an anomaly detection system for network traffic.\n",
    "\n",
    "## Briefing\n",
    "A large e-commerce company __A__ is experiencing downtime due to attacks on their infrastructure.\n",
    "You were instructed to develop a system that can detect malicious connections to the infrastructure.\n",
    "It is planned that suspicious clients will be banned.\n",
    "\n",
    "Another data science team already prepared the connection data of the last year for you. They also separated a test set and manually identified and labeled attacks in that data.\n",
    "\n",
    "## The Data\n",
    "We will work on a version of the classic KDD99 data set.\n",
    "\n",
    "### Kddcup 99 Data Set\n",
    "----------------------------\n",
    "The KDD Cup '99 dataset was created by processing the tcp dump portions\n",
    "of the 1998 DARPA Intrusion Detection System (IDS) Evaluation dataset,\n",
    "created by MIT Lincoln Lab [1]. The artificial data (described on the `dataset's\n",
    "homepage <https://kdd.ics.uci.edu/databases/kddcup99/kddcup99.html>`_) was\n",
    "generated using a closed network and hand-injected attacks to produce a\n",
    "large number of different types of attack with normal activity in the\n",
    "background.\n",
    "\n",
    "    =========================   ====================================================\n",
    "    Samples total               976158\n",
    "    Dimensionality              41\n",
    "    Features                    string (str), discrete (int), continuous (float)\n",
    "    Targets                     str, 'normal.' or name of the anomaly type\n",
    "    Proportion of Anomalies     1%\n",
    "    =========================   ====================================================\n",
    "\n",
    "----------------------------------\n",
    "\n",
    "## Task\n",
    "You will have to develop the system on your own. In particular, you will have to\n",
    "- Explore the data.\n",
    "- Choose an algorithm.\n",
    "- Find a good detection threshold.\n",
    "- Evaluate and summarize your results.\n",
    "- Estimate how much __A__ could save through the use of your system."
   ]
  },
  {
   "cell_type": "code",
   "execution_count": null,
   "id": "91e31b17",
   "metadata": {
    "pycharm": {
     "name": "#%%\n"
    },
    "slideshow": {
     "slide_type": "skip"
    }
   },
   "outputs": [],
   "source": [
    "X_train,X_test,y_test = get_kdd_data()"
   ]
  },
  {
   "cell_type": "markdown",
   "id": "9a47f0c1",
   "metadata": {
    "slideshow": {
     "slide_type": "skip"
    }
   },
   "source": [
    "# Explore Data"
   ]
  },
  {
   "cell_type": "code",
   "execution_count": null,
   "id": "5044d551",
   "metadata": {
    "pycharm": {
     "name": "#%%\n"
    },
    "slideshow": {
     "slide_type": "skip"
    }
   },
   "outputs": [],
   "source": [
    "#\n",
    "# Add your exploration code\n",
    "#\n",
    "X_train = pd.DataFrame(X_train)\n",
    "X_test = pd.DataFrame(X_test)"
   ]
  },
  {
   "cell_type": "code",
   "execution_count": null,
   "id": "f2f4d539",
   "metadata": {
    "pycharm": {
     "name": "#%%\n"
    },
    "slideshow": {
     "slide_type": "skip"
    }
   },
   "outputs": [],
   "source": [
    "# get description\n",
    "X_train.describe()"
   ]
  },
  {
   "cell_type": "code",
   "execution_count": null,
   "id": "d1483fbf",
   "metadata": {
    "pycharm": {
     "name": "#%%\n"
    },
    "slideshow": {
     "slide_type": "skip"
    }
   },
   "outputs": [],
   "source": [
    "# get better description\n",
    "X_train.drop(columns=[1,2,3]).astype(float).describe()"
   ]
  },
  {
   "cell_type": "code",
   "execution_count": null,
   "id": "8ac2ddd4",
   "metadata": {
    "pycharm": {
     "name": "#%%\n"
    },
    "slideshow": {
     "slide_type": "skip"
    }
   },
   "outputs": [],
   "source": [
    "# Check for NaNs\n",
    "print(\"Number of NaNs: {}\".format(X_train.isna().sum().sum()))"
   ]
  },
  {
   "cell_type": "code",
   "execution_count": null,
   "id": "763c76dc",
   "metadata": {
    "pycharm": {
     "name": "#%%\n"
    },
    "slideshow": {
     "slide_type": "skip"
    }
   },
   "outputs": [],
   "source": [
    "#\n",
    "# Add your preperation code here\n",
    "#\n",
    "\n",
    "# Encode string features\n",
    "binarizer = LabelBinarizer()\n",
    "one_hots = None\n",
    "one_hots_test = None\n",
    "for i in [1, 2, 3]:\n",
    "    binarizer.fit(X_train[[i]].astype(str))\n",
    "    if one_hots is None:\n",
    "        one_hots = binarizer.transform(X_train[[i]].astype(str))\n",
    "        one_hots_test = binarizer.transform(X_test[[i]].astype(str))\n",
    "    else:\n",
    "        one_hots = np.concatenate([one_hots, binarizer.transform(X_train[[i]].astype(str))], axis=1)\n",
    "        one_hots_test = np.concatenate([one_hots_test, binarizer.transform(X_test[[i]].astype(str))], axis=1)\n",
    "\n",
    "X_train.drop(columns=[1,2,3], inplace=True)\n",
    "X_train_onehot = pd.DataFrame(np.concatenate([X_train.values, one_hots], axis=1))\n",
    "\n",
    "X_test.drop(columns=[1,2,3], inplace=True)\n",
    "X_test_onehot = pd.DataFrame(np.concatenate([X_test.values, one_hots_test], axis=1))"
   ]
  },
  {
   "cell_type": "code",
   "execution_count": null,
   "id": "1d363320",
   "metadata": {
    "pycharm": {
     "name": "#%%\n"
    },
    "slideshow": {
     "slide_type": "skip"
    }
   },
   "outputs": [],
   "source": [
    "# Encode y\n",
    "y_test_bin = np.where(y_test == b'normal.', 0, 1)\n"
   ]
  },
  {
   "cell_type": "code",
   "execution_count": null,
   "id": "ef0cf969",
   "metadata": {
    "pycharm": {
     "name": "#%%\n"
    },
    "slideshow": {
     "slide_type": "skip"
    }
   },
   "outputs": [],
   "source": [
    "# Remove suspicious data\n",
    "# This step is not strictly neccessary but can improve performance\n",
    "suspicious = X_train_onehot.apply(lambda col: (col - col.mean()).abs() > 4 * col.std() if col.std() > 1 else False)\n",
    "suspicious = suspicious.any(axis=1)# 4 sigma rule\n",
    "print('filtering {} suspicious data points'.format(suspicious.sum()))\n",
    "X_train_clean = X_train_onehot[~suspicious]"
   ]
  },
  {
   "cell_type": "markdown",
   "id": "201f1dfb",
   "metadata": {},
   "source": [
    "# Summary\n",
    "- Isolation Forest empirically shows very good performance to relatively high dimensions\n",
    "- It is relatively robust against contamination.\n",
    "- Usually little need for hyperparameter tuning\n",
    "\n",
    "## Implementations\n",
    "- Sklearn: [sklearn.ensemble.IsolationForest](https://scikit-learn.org/stable/modules/generated/sklearn.ensemble.IsolationForest.html)\n",
    "- Extended Isolation Forest: [variant](https://github.com/sahandha/eif)\n",
    "- Random Robust Cut Forest: [variant](https://github.com/kLabUM/rrcf)"
   ]
  },
  {
   "cell_type": "markdown",
   "id": "80805d83",
   "metadata": {
    "slideshow": {
     "slide_type": "skip"
    }
   },
   "source": [
    "# Choose Algorithm"
   ]
  },
  {
   "cell_type": "code",
   "execution_count": null,
   "id": "13d462c9",
   "metadata": {
    "pycharm": {
     "name": "#%%\n"
    },
    "slideshow": {
     "slide_type": "skip"
    }
   },
   "outputs": [],
   "source": [
    "# TODO: implement proper model selection\n",
    "iforest = IsolationForest()\n",
    "iforest.fit(X_train_clean)"
   ]
  },
  {
   "cell_type": "code",
   "execution_count": null,
   "id": "1877e13d",
   "metadata": {
    "pycharm": {
     "name": "#%%\n"
    },
    "slideshow": {
     "slide_type": "skip"
    }
   },
   "outputs": [],
   "source": [
    "# find best threshold\n",
    "X_test_onehot, X_val_onehot, y_test_bin, y_val_bin = train_test_split(X_test_onehot, y_test_bin, test_size=.5)\n",
    "y_score = -iforest.score_samples(X_val_onehot).reshape(-1)\n",
    "\n",
    "eval = evaluate(y_val_bin, y_score)\n",
    "prec, rec, thr = eval['PR']\n",
    "f1s = 2 * (prec * rec)/(prec + rec)\n",
    "threshold = thr[np.argmax(f1s)]"
   ]
  },
  {
   "cell_type": "markdown",
   "id": "7338159f",
   "metadata": {
    "slideshow": {
     "slide_type": "skip"
    }
   },
   "source": [
    "# Evaluate Solution"
   ]
  },
  {
   "cell_type": "code",
   "execution_count": null,
   "id": "920afcf1",
   "metadata": {
    "pycharm": {
     "name": "#%%\n"
    },
    "slideshow": {
     "slide_type": "skip"
    }
   },
   "outputs": [],
   "source": [
    "#\n",
    "# Insert evaluation code\n",
    "#\n",
    "y_score = -iforest.score_samples(X_test_onehot).reshape(-1)\n",
    "y_pred = np.where(y_score < threshold, 0, 1)\n",
    "\n",
    "print('Precision: {}'.format(metrics.precision_score(y_test_bin, y_pred)))\n",
    "print('Recall: {}'.format(metrics.recall_score(y_test_bin, y_pred)))\n",
    "print('F1: {}'.format(metrics.f1_score(y_test_bin, y_pred)))"
   ]
  },
  {
   "cell_type": "markdown",
   "id": "6287222a",
   "metadata": {
    "slideshow": {
     "slide_type": "slide"
    }
   },
   "source": [
    "# Anomaly Detection via Reconstruction Error\n",
    "**Idea:** Embed the data into low dimensional space and reconstruct it again.\n",
    "\t\t\tGood embedding of nominal data $\\Rightarrow$ high reconstruction error indicates anomaly.\n",
    "\n",
    "**Autoencoder:**\n",
    "- Parametric family of encoders: $f_\\phi: \\mathbb{R}^d \\to \\mathbb{R}^{\\text{low}}$\n",
    "- Parametric family of decoders: $g_\\theta: \\mathbb{R}^{\\text{low}} \\to \\mathbb{R}^{d}$\n",
    "- Reconstruction error of $(f_\\phi, g_\\theta)$ on $x$: $|x - g_\\theta(f_\\phi(x))|$\n",
    "- Given data set $D$, find $\\phi,\\theta$ that minimize $\\sum_{x\\in D} L(|x- g_\\theta(f_\\phi(x))|) $\n",
    "  for some loss function $L$.\n"
   ]
  },
  {
   "cell_type": "markdown",
   "id": "ebb5094e",
   "metadata": {
    "slideshow": {
     "slide_type": "subslide"
    }
   },
   "source": [
    "# Visualization\n",
    "<center>\n",
    "<img src=\"images/autoencoder.png\" align=\"center\" width=\"400\">\n",
    "    Autoencoder Schema\n",
    "</center>"
   ]
  },
  {
   "cell_type": "markdown",
   "id": "565a43e9",
   "metadata": {
    "slideshow": {
     "slide_type": "subslide"
    }
   },
   "source": [
    "## Neural Networks\n",
    "Neural networks are very well suited for finding low dimensional representations of data. Hence they are a popular choice the encoder and decoder.\n",
    "\n",
    "---\n",
    "**Artificial Neuron with $N$ inputs:** $y = \\sigma\\left(\\sum_i^N w_i X_i + b\\right)$\n",
    "\n",
    "- $\\sigma$: nonlinear activation-function (applied component wise).\n",
    "- $b$ bias\n",
    "---"
   ]
  },
  {
   "cell_type": "markdown",
   "id": "e658847c",
   "metadata": {
    "slideshow": {
     "slide_type": "subslide"
    }
   },
   "source": [
    "<table style=\"background-color:#FFFFFF;\">\n",
    "    <tr>\n",
    "        <td style=\"background-color:#FFFFFF;\"><img src=\"images/neuron.png\" width=\"200\"></td>\n",
    "        <td style=\"background-color:#FFFFFF;\"><img src=\"images/activations.png\"  width=\"200\"></td>\n",
    "    </tr>\n",
    "    <tr>\n",
    "        <td colspan=\"2\" style=\"background-color:#FFFFFF;\"><center>Isolation depth of nominal point and anomaly</center></td>\n",
    "    </tr>\n",
    "</table>"
   ]
  },
  {
   "cell_type": "markdown",
   "id": "09243719",
   "metadata": {
    "slideshow": {
     "slide_type": "subslide"
    }
   },
   "source": [
    "# Neural Networks\n",
    "\n",
    "Neural networks combine many artificial neurons into a complex network. These networks are usually organized in layers\n",
    "where the result of each layer is the input for the next layer. Some commonly used layers are:"
   ]
  },
  {
   "cell_type": "markdown",
   "id": "3376f048",
   "metadata": {
    "slideshow": {
     "slide_type": "subslide"
    }
   },
   "source": [
    "<center>\n",
    "<img src=\"images/nn_layers.png\" align=\"center\" width=\"600\">\n",
    "</center>"
   ]
  },
  {
   "cell_type": "markdown",
   "id": "d8794297",
   "metadata": {
    "slideshow": {
     "slide_type": "subslide"
    }
   },
   "source": [
    "## Variational Autoencoders\n",
    "An important extension of autoencoders that relates the idea to density estimation.\n",
    "More precisely, we define a generative model for our data using latent variables and combine the maximum likelihood\n",
    "estimation of the parameters with a simultaneous posterior estimation of the latents through amortized stochastic\n",
    "variational inference. We use a decoder network to transform the latent variables into the data distribution, and an\n",
    "encoder network to compute the posterior distribution of the latents given the data."
   ]
  },
  {
   "cell_type": "markdown",
   "id": "6b5efeac",
   "metadata": {
    "slideshow": {
     "slide_type": "subslide"
    }
   },
   "source": [
    "---\n",
    "**Definition:**\n",
    "The model uses an observed variable $X$ (the data) and a latent variable $Z$ (the defining features of $X$). We assume\n",
    "both $P(Z)$ and $P(X\\mid Z)$ to be normally distributed. More precisely\n",
    "\n",
    "- $P(Z) = \\mathcal{N}(0, I)$\n",
    "- $P(X\\mid Z) = \\mathcal{N}(\\mu_\\phi(Z), I)$\n",
    "\n",
    "where $\\mu_\\phi$ is a neural network parametrized with $\\phi$, respectively.\n",
    "We use variational inference to perform posterior inference on $Z$ given $X$. We assume that distribution $P(Z\\mid X)$\n",
    "be relative well approximated by a Gaussian and use the posterior approximation\n",
    "- $q(X\\mid Z) = \\mathcal{N}(\\mu_\\psi(X), \\sigma_\\psi(X))$\n",
    "\n",
    "$\\mu_\\psi$ and $\\sigma_\\psi$ are neural networks parameterized with $\\psi$\n",
    "\n",
    "---"
   ]
  },
  {
   "cell_type": "markdown",
   "id": "76d013d3",
   "metadata": {
    "slideshow": {
     "slide_type": "subslide"
    }
   },
   "source": [
    "<center>\n",
    "<img src=\"images/vae_schema.png\" align=\"center\" width=\"600\">\n",
    "</center>"
   ]
  },
  {
   "cell_type": "markdown",
   "id": "81661bf9",
   "metadata": {
    "slideshow": {
     "slide_type": "subslide"
    }
   },
   "source": [
    "Given a data set $D$ we minimize the (amortized) Kullback-Leibler divergence between our posterior approximation and the\n",
    "true posterior.\n",
    "\\begin{align*}\n",
    "  D_{KL}(q(Z\\mid X),P(Z\\mid X)) &= E_{x\\sim X, z\\sim q(Z\\mid x)}\\left[\\log\\left(\\frac{q(z \\mid x)}{p(z \\mid X)}\\right)\\right] \\\\\n",
    "    &= E_{x\\sim x, z\\sim q(Z\\mid X)}\\left[\\log\\left(\\frac{q(z \\mid x)}{\\frac{p(x \\mid z)p(z)}{p(x)}}\\right)\\right] \\\\\n",
    "    &= E_{x\\sim x, z\\sim q(Z\\mid x)}\\left[\\log\\left(\\frac{q(z \\mid x)}{p(x \\mid z)p(z)}\\right) + \\log(p(x))\\right] \\\\\n",
    "    &= E_{x\\sim x, z\\sim q(Z\\mid x)}\\left[\\log\\left(\\frac{q(z \\mid x)}{p(x \\mid z)p(z)}\\right)\\right] + E_{x\\sim X}[\\log(p(x))] \\\\\n",
    "    &= E_{x\\sim x, z\\sim q(Z\\mid x)}\\left[\\log\\left(\\frac{q(z \\mid x)}{p(x \\mid z)p(z)}\\right)\\right] + C\n",
    "\\end{align*}\n",
    "\n",
    "We use that our data $D$ is drawn from $X$ and that can sample from\n",
    "$q(Z \\mid x) = \\mathcal{N}(\\mu_\\psi(x), \\sigma_\\psi(x))$ to perform stochastic gradient descent to minimize\n",
    "$D_{KL}(q(Z\\mid X),P(Z\\mid X))$ with respect to $\\phi$ and $\\psi$.\n"
   ]
  },
  {
   "cell_type": "markdown",
   "id": "7131628c",
   "metadata": {
    "slideshow": {
     "slide_type": "subslide"
    }
   },
   "source": [
    "# Exercise"
   ]
  },
  {
   "cell_type": "markdown",
   "id": "05f8c5a6",
   "metadata": {},
   "source": [
    "# The MNIST Data Set\n",
    "MNIST is one of the most iconic data sets in the history of machine learning.\n",
    "It contains 70000 samples of $28\\times 28$ grayscale images of handwritten digits.\n",
    "Because of its moderate complexity and good visualizability it is well suited to study the behavior of machine learning\n",
    "algorithms in higher dimensional spaces.\n",
    "\n",
    "While originally created for classification (optical character recognition), we can build an anomaly detection data set\n",
    "by corrupting some of the images.\n"
   ]
  },
  {
   "cell_type": "markdown",
   "id": "28979a57",
   "metadata": {
    "slideshow": {
     "slide_type": "skip"
    }
   },
   "source": [
    "# Pre-processing\n",
    "We first need to obtain the MNIST data set and prepare an anomaly detection set from it.\n",
    "Note that the data set is n row vector format.\n",
    "Therefore, we work with $28\\times 28 = 784$ dimensional data points."
   ]
  },
  {
   "cell_type": "markdown",
   "id": "d2508225",
   "metadata": {
    "slideshow": {
     "slide_type": "skip"
    }
   },
   "source": [
    "## Load MNIST Data Set"
   ]
  },
  {
   "cell_type": "code",
   "execution_count": null,
   "id": "a95d8450",
   "metadata": {
    "pycharm": {
     "name": "#%%\n"
    },
    "slideshow": {
     "slide_type": "skip"
    }
   },
   "outputs": [],
   "source": [
    "mnist = fetch_openml('mnist_784', version=1)\n",
    "\n",
    "data = mnist.data\n",
    "print('data.shape: {}'.format(data.shape))\n",
    "target = mnist.target.astype(int)"
   ]
  },
  {
   "cell_type": "markdown",
   "id": "f6b6bde9",
   "metadata": {
    "slideshow": {
     "slide_type": "skip"
    }
   },
   "source": [
    "## Build contaminated Data Sets\n",
    "We prepared a function that does the job for us.\n",
    "It corrupts a prescribed portion of the data by introducing a rotation, noise or a blackout of some part of the image.\n",
    "\n",
    "First, we need to transform the data into image format."
   ]
  },
  {
   "cell_type": "code",
   "execution_count": null,
   "id": "954d3762",
   "metadata": {
    "pycharm": {
     "name": "#%%\n"
    },
    "slideshow": {
     "slide_type": "skip"
    }
   },
   "outputs": [],
   "source": [
    "X = data.values.reshape(-1, 28, 28, 1)/255"
   ]
  },
  {
   "cell_type": "markdown",
   "id": "f4d6c089",
   "metadata": {
    "slideshow": {
     "slide_type": "skip"
    }
   },
   "source": [
    "### Train/Test-Split\n",
    "We will only corrupt the test set, hence we will perform the train-test split beforehand.\n",
    "We separate a relatively small test set so that we can use as much as possible from the data to obtain high quality\n",
    "representations."
   ]
  },
  {
   "cell_type": "code",
   "execution_count": null,
   "id": "a0fb9c57",
   "metadata": {
    "pycharm": {
     "name": "#%%\n"
    },
    "slideshow": {
     "slide_type": "skip"
    }
   },
   "outputs": [],
   "source": [
    "test_size = .1\n",
    "X_train, X_test, target_train, target_test = train_test_split(X, target, test_size=test_size)"
   ]
  },
  {
   "cell_type": "code",
   "execution_count": null,
   "id": "d6ad3d43",
   "metadata": {
    "pycharm": {
     "name": "#%%\n"
    },
    "slideshow": {
     "slide_type": "skip"
    }
   },
   "outputs": [],
   "source": [
    "X_test, y_test = build_contaminated_minst(X_test)\n",
    "\n",
    "# Visualize contamination\n",
    "anomalies = X_test[y_test != 0]\n",
    "selection = np.random.choice(len(anomalies), 25)\n",
    "\n",
    "fig, axes = plt.subplots(nrows=5, ncols=5, figsize=(5, 5))\n",
    "for img, ax in zip(anomalies[selection], axes.flatten()):\n",
    "    ax.imshow(img, 'gray')\n",
    "    ax.axis('off')\n",
    "plt.show()"
   ]
  },
  {
   "cell_type": "markdown",
   "id": "3c459a8a",
   "metadata": {
    "slideshow": {
     "slide_type": "skip"
    }
   },
   "source": [
    "# Autoencoder\n",
    "Let us finally train an autoencoder model. We replicate the model given in the\n",
    "[Keras documentation](https://keras.io/examples/generative/vae/) and apply it in a synthetic outlier detection scenario\n",
    "based on MNIST.\n",
    "\n",
    "in the vae package we provide the implementation of the VAE. Please take a look into the source code to see how\n",
    "the minimization of the KL divergence is implemented."
   ]
  },
  {
   "cell_type": "markdown",
   "id": "c1af1c41",
   "metadata": {
    "slideshow": {
     "slide_type": "skip"
    }
   },
   "source": [
    "## Create Model"
   ]
  },
  {
   "cell_type": "code",
   "execution_count": null,
   "id": "c90996a0",
   "metadata": {
    "pycharm": {
     "name": "#%%\n"
    },
    "slideshow": {
     "slide_type": "skip"
    }
   },
   "outputs": [],
   "source": [
    "latent_dim = 3\n",
    "vae = VAE(decoder=build_decoder_mnist(latent_dim=latent_dim), encoder=build_encoder_minst(latent_dim=latent_dim))"
   ]
  },
  {
   "cell_type": "code",
   "execution_count": null,
   "id": "efb89bdd",
   "metadata": {
    "pycharm": {
     "name": "#%%\n"
    },
    "slideshow": {
     "slide_type": "skip"
    }
   },
   "outputs": [],
   "source": [
    "## Inspect model architecture\n",
    "vae.encoder.summary()\n"
   ]
  },
  {
   "cell_type": "code",
   "execution_count": null,
   "id": "68b219e9",
   "metadata": {
    "pycharm": {
     "name": "#%%\n"
    },
    "slideshow": {
     "slide_type": "skip"
    }
   },
   "outputs": [],
   "source": [
    "## Inspect model architecture\n",
    "vae.decoder.summary()\n"
   ]
  },
  {
   "cell_type": "code",
   "execution_count": null,
   "id": "01b43aff",
   "metadata": {
    "pycharm": {
     "name": "#%%\n"
    },
    "slideshow": {
     "slide_type": "skip"
    }
   },
   "outputs": [],
   "source": [
    "# train model\n",
    "vae.compile(optimizer=keras.optimizers.Adam(learning_rate=.001))\n",
    "history = vae.fit(X_train, epochs=30, batch_size=128)"
   ]
  },
  {
   "cell_type": "markdown",
   "id": "e1519875",
   "metadata": {
    "slideshow": {
     "slide_type": "skip"
    }
   },
   "source": [
    "## Inspect Result"
   ]
  },
  {
   "cell_type": "code",
   "execution_count": null,
   "id": "80ab41fd",
   "metadata": {
    "pycharm": {
     "name": "#%%\n"
    },
    "slideshow": {
     "slide_type": "skip"
    }
   },
   "outputs": [],
   "source": [
    "import matplotlib.pyplot as plt\n",
    "\n",
    "\n",
    "def plot_latent_space(vae, n=10, figsize=10):\n",
    "    for perm in [[0, 1, 2], [1, 2, 0], [2, 1, 0]]:\n",
    "        # display a n*n 2D manifold of digits\n",
    "        digit_size = 28\n",
    "        scale = 1.0\n",
    "        figure = np.zeros((digit_size * n, digit_size * n))\n",
    "        # linearly spaced coordinates corresponding to the 2D plot\n",
    "        # of digit classes in the latent space\n",
    "        grid_x = np.linspace(-scale, scale, n)\n",
    "        grid_y = np.linspace(-scale, scale, n)[::-1]\n",
    "\n",
    "        for i, yi in enumerate(grid_y):\n",
    "            for j, xi in enumerate(grid_x):\n",
    "                z_sample = np.array([[xi, yi, 0]])\n",
    "                z_sample[0] = z_sample[0][perm]\n",
    "                x_decoded = vae.decoder.predict(z_sample)\n",
    "                digit = x_decoded[0].reshape(digit_size, digit_size)\n",
    "                figure[\n",
    "                    i * digit_size : (i + 1) * digit_size,\n",
    "                    j * digit_size : (j + 1) * digit_size,\n",
    "                ] = digit\n",
    "\n",
    "        plt.figure(figsize=(figsize, figsize))\n",
    "        start_range = digit_size // 2\n",
    "        end_range = n * digit_size + start_range\n",
    "        pixel_range = np.arange(start_range, end_range, digit_size)\n",
    "        sample_range_x = np.round(grid_x, 1)\n",
    "        sample_range_y = np.round(grid_y, 1)\n",
    "        plt.xticks(pixel_range, sample_range_x)\n",
    "        plt.yticks(pixel_range, sample_range_y)\n",
    "        plt.xlabel(\"z[{}]\".format(perm[0]))\n",
    "        plt.ylabel(\"z[{}]\".format(perm[1]))\n",
    "        plt.gca().set_title('z[{}] = 0'.format(perm[2]))\n",
    "        plt.imshow(figure, cmap=\"Greys_r\")\n",
    "        plt.show()"
   ]
  },
  {
   "cell_type": "code",
   "execution_count": null,
   "id": "bdb0f67d",
   "metadata": {
    "pycharm": {
     "name": "#%%\n"
    },
    "scrolled": false,
    "slideshow": {
     "slide_type": "skip"
    }
   },
   "outputs": [],
   "source": [
    "plot_latent_space(vae)"
   ]
  },
  {
   "cell_type": "code",
   "execution_count": null,
   "id": "0d6a5b6f",
   "metadata": {
    "pycharm": {
     "name": "#%%\n"
    },
    "slideshow": {
     "slide_type": "skip"
    }
   },
   "outputs": [],
   "source": [
    "# Principal components\n",
    "pca = PCA()\n",
    "latents = vae.encoder.predict(X_train)[2]\n",
    "pca.fit(latents)\n",
    "\n",
    "kwargs = {'x_{}'.format(i): (-1., 1.) for i in range(latent_dim)}\n",
    "\n",
    "\n",
    "@widgets.interact(**kwargs)\n",
    "def explore_latent_space(**kwargs):\n",
    "    center_img = pca.transform(np.zeros([1,latent_dim]))\n",
    "\n",
    "    latent_rep_pca =  center_img + np.array([[kwargs[key] for key in kwargs]])\n",
    "    latent_rep = pca.inverse_transform(latent_rep_pca)\n",
    "    img = vae.decoder(latent_rep).numpy().reshape(28, 28)\n",
    "\n",
    "    fig, ax = plt.subplots()\n",
    "    ax.axis('off')\n",
    "    ax.axis('off')\n",
    "\n",
    "    ax.imshow(img,cmap='gray', vmin=0, vmax=1)\n",
    "    plt.show()"
   ]
  },
  {
   "cell_type": "code",
   "execution_count": null,
   "id": "6f9fb82f",
   "metadata": {
    "pycharm": {
     "name": "#%%\n"
    },
    "slideshow": {
     "slide_type": "skip"
    }
   },
   "outputs": [],
   "source": [
    "latents = vae.encoder.predict(X_train)[2]\n",
    "scatter = px.scatter_3d(x=latents[:, 0], y=latents[:, 1], z=latents[:, 2], color=target_train)\n",
    "\n",
    "scatter.show()"
   ]
  },
  {
   "cell_type": "code",
   "execution_count": null,
   "id": "ea370a83",
   "metadata": {
    "pycharm": {
     "name": "#%%\n"
    },
    "slideshow": {
     "slide_type": "skip"
    }
   },
   "outputs": [],
   "source": [
    "latents = vae.encoder.predict(X_test)[2]\n",
    "scatter = px.scatter_3d(x=latents[:, 0], y=latents[:, 1], z=latents[:, 2], color=y_test)\n",
    "\n",
    "scatter.show()"
   ]
  },
  {
   "cell_type": "code",
   "execution_count": null,
   "id": "dee0a98e",
   "metadata": {
    "pycharm": {
     "name": "#%%\n"
    },
    "slideshow": {
     "slide_type": "skip"
    }
   },
   "outputs": [],
   "source": [
    "X_test, X_val, y_test, y_val = train_test_split(X_test, y_test)\n"
   ]
  },
  {
   "cell_type": "code",
   "execution_count": null,
   "id": "65c957f8",
   "metadata": {
    "pycharm": {
     "name": "#%%\n"
    },
    "slideshow": {
     "slide_type": "skip"
    }
   },
   "outputs": [],
   "source": [
    "n_samples = 10\n",
    "\n",
    "s = np.random.choice(range(len(X_val)), n_samples)\n",
    "s = X_val[s]\n",
    "#s = [X_train_img[i] for i in s]\n",
    "\n",
    "fig, axes = plt.subplots(nrows=2, ncols=n_samples, figsize=(10, 2))\n",
    "for img, ax_row in zip(s, axes.T):\n",
    "    x = vae.decoder.predict(vae.encoder.predict(img.reshape(1, 28, 28, 1))[2]).reshape(28, 28)\n",
    "    diff = x - img.reshape(28, 28)\n",
    "    error = (diff * diff).sum()\n",
    "    ax_row[0].axis('off')\n",
    "    ax_row[1].axis('off')\n",
    "    ax_row[0].imshow(img,cmap='gray', vmin=0, vmax=1)\n",
    "    ax_row[1].imshow(x, cmap='gray', vmin=0, vmax=1)\n",
    "    ax_row[1].set_title('E={:.1f}'.format(error))\n",
    "\n",
    "plt.tight_layout()\n",
    "plt.show()"
   ]
  },
  {
   "cell_type": "code",
   "execution_count": null,
   "id": "350edb6c",
   "metadata": {
    "pycharm": {
     "name": "#%%\n"
    },
    "slideshow": {
     "slide_type": "skip"
    }
   },
   "outputs": [],
   "source": [
    "from sklearn import metrics\n",
    "y_test_bin = y_test.copy()\n",
    "y_test_bin[y_test != 0] = 1\n",
    "y_val_bin = y_val.copy()\n",
    "y_val_bin[y_val != 0] = 1\n",
    "# Evaluate\n",
    "reconstruction = vae.decoder.predict(vae.encoder(X_val)[2])\n",
    "rerrors = (reconstruction - X_val).reshape(-1, 28*28)\n",
    "rerrors = (rerrors * rerrors).sum(axis=1)\n",
    "eval = evaluate(y_val_bin.astype(int), rerrors.astype(float))\n",
    "pr, rec, thr = eval['PR']\n",
    "f1s = (2 * ((pr * rec)[:-1]/(pr + rec)[:-1]))\n",
    "threshold = thr[np.argmax(f1s)]\n",
    "print('Optimal threshold: {}'.format(threshold))\n",
    "\n",
    "reconstruction = vae.decoder.predict(vae.encoder(X_test)[2])\n",
    "reconstruction_error = (reconstruction - X_test).reshape(-1, 28*28)\n",
    "reconstruction_error = (reconstruction_error * reconstruction_error).sum(axis=1)\n",
    "\n",
    "\n",
    "classification = (reconstruction_error > threshold).astype(int)\n",
    "\n",
    "print('Precision: {}'.format(metrics.precision_score(y_test_bin, classification)))\n",
    "print('Recall: {}'.format(metrics.recall_score(y_test_bin, classification)))\n",
    "print('F1: {}'.format(metrics.f1_score(y_test_bin, classification)))\n",
    "\n",
    "metrics.confusion_matrix(y_test_bin, classification)\n"
   ]
  },
  {
   "cell_type": "markdown",
   "id": "c8c5568d",
   "metadata": {
    "slideshow": {
     "slide_type": "skip"
    }
   },
   "source": [
    "## Sort Data by Reconstruction Error"
   ]
  },
  {
   "cell_type": "code",
   "execution_count": null,
   "id": "9b304ec8",
   "metadata": {
    "pycharm": {
     "name": "#%%\n"
    },
    "slideshow": {
     "slide_type": "skip"
    }
   },
   "outputs": [],
   "source": [
    "combined = list(zip(X_test, reconstruction_error))\n",
    "combined.sort(key = lambda x: x[1])\n"
   ]
  },
  {
   "cell_type": "markdown",
   "id": "555fd7f3",
   "metadata": {
    "slideshow": {
     "slide_type": "skip"
    }
   },
   "source": [
    "## Show Top Autoencoder Outliers"
   ]
  },
  {
   "cell_type": "code",
   "execution_count": null,
   "id": "d51d7a5c",
   "metadata": {
    "pycharm": {
     "name": "#%%\n"
    },
    "slideshow": {
     "slide_type": "skip"
    }
   },
   "outputs": [],
   "source": [
    "n_rows = 10\n",
    "n_cols = 10\n",
    "n_samples = n_rows*n_cols\n",
    "\n",
    "samples = [c[0] for c in combined[-n_samples:]]\n",
    "\n",
    "fig, axes = plt.subplots(nrows=n_rows, ncols=n_cols, figsize=(2*n_cols, 2*n_rows))\n",
    "for img, ax in zip(samples, axes.reshape(-1)):\n",
    "    ax.axis('off')\n",
    "    ax.imshow(img.reshape((28,28)), cmap='gray', vmin=0, vmax=1)\n",
    "\n",
    "plt.show()\n"
   ]
  },
  {
   "cell_type": "markdown",
   "id": "85cd3f88",
   "metadata": {},
   "source": [
    "# Summary\n",
    "- Autoencoder are the most prominent reconstruction error based anomaly detection method.\n",
    "- Can provide high quality results on high dimensional data.\n",
    "- Architecture is highly adaptable to the data (fully connected, CNN, attention,...).\n",
    "- Sensitive to contamination.\n",
    "- Variational autoencoder are an important variant the improves the interpretability of the latent space.\n",
    "\n",
    "## Implementations\n",
    "- Keras: see vae.py or [here](https://keras.io/examples/generative/vae/)\n",
    "- Pytorch: [example implementation](https://colab.research.google.com/github/smartgeometry-ucl/dl4g/blob/master/variational_autoencoder.ipynb)\n",
    "- Pyro (pytorch based probabilistic programming language): [example implementation](https://pyro.ai/examples/vae.html)"
   ]
  },
  {
   "cell_type": "markdown",
   "id": "b1dd207a",
   "metadata": {
    "slideshow": {
     "slide_type": "slide"
    }
   },
   "source": [
    "<img src=\"aai_presentation_last_slide.svg\" alt=\"Snow\" style=\"width:100%;\">"
   ]
  }
 ],
 "metadata": {
  "celltoolbar": "Slideshow",
  "kernelspec": {
   "display_name": "Python 3",
   "language": "python",
   "name": "python3"
  },
  "language_info": {
   "codemirror_mode": {
    "name": "ipython",
    "version": 3
   },
   "file_extension": ".py",
   "mimetype": "text/x-python",
   "name": "python",
   "nbconvert_exporter": "python",
   "pygments_lexer": "ipython3",
   "version": "3.9.4"
  }
 },
 "nbformat": 4,
 "nbformat_minor": 5
}
