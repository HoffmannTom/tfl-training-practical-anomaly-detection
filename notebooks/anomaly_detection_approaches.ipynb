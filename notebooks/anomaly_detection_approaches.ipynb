{
 "cells": [
  {
   "cell_type": "code",
   "execution_count": 2,
   "id": "087253b8",
   "metadata": {
    "pycharm": {
     "name": "#%%\n"
    },
    "slideshow": {
     "slide_type": "skip"
    }
   },
   "outputs": [
    {
     "data": {
      "text/html": [
       "<style>/*\n",
       "This file is mainly copy-pasta from rise's examples\n",
       "https://github.com/damianavila/RISE/blob/master/examples/rise.css\n",
       "that was further customized for appliedAI purposes\n",
       "*/\n",
       "@import url('https://fonts.googleapis.com/css2?family=Work+Sans:wght@300&display=swap');\n",
       "\n",
       ".reveal {\n",
       "    color: white !important;\n",
       "    font-family: 'Work Sans', sans-serif !important;\n",
       "}\n",
       "\n",
       "/* Overriding reveal styles in headers */\n",
       ".reveal h1, .reveal h2, .reveal h3, .reveal h4, .reveal h5, .reveal h6 {\n",
       "    text-transform: initial;   /* sky.css says uppercase */\n",
       "    letter-spacing: initial;   /* sky.css says -0.08em */\n",
       "    font-family: 'Work Sans', sans-serif !important;\n",
       "    color: #00747b !important;\n",
       "}\n",
       "\n",
       "/* Overriding reveal styles in normal text */\n",
       "div.text_cell_render {\n",
       "    font-family: 'Work Sans', sans-serif !important;\n",
       "    color: #1c9b90 !important;\n",
       "}\n",
       "\n",
       "body.rise-enabled .reveal ol, body.rise-enabled .reveal dl, body.rise-enabled .reveal ul {\n",
       "    margin-left: 0.1em;\n",
       "    margin-top: 0.2em;\n",
       "}\n",
       "\n",
       ".reveal .rendered_html h1:first-child,\n",
       ".reveal .rendered_html h2:first-child,\n",
       ".reveal .rendered_html h3:first-child,\n",
       ".reveal .rendered_html h4:first-child,\n",
       ".reveal .rendered_html h5:first-child {\n",
       "    margin-top: 0.2em;\n",
       "}\n",
       "\n",
       "h1.plan, h2.plan, h3.plan {\n",
       "    text-align: center;\n",
       "    padding-bottom: 30px;\n",
       "}\n",
       "\n",
       "ul.plan>li>span.plan-bold {\n",
       "    font-size: 110%;\n",
       "    padding: 4px;\n",
       "    font-weight: bold;\n",
       "    background-color: #eee;\n",
       "}\n",
       "\n",
       "ul.plan>li>ul.subplan>li>span.plan-bold {\n",
       "    font-weight: bold;\n",
       "}\n",
       "\n",
       ".plan-strike {\n",
       "    opacity: 0.4;\n",
       "/*    text-decoration: line-through; */\n",
       "}\n",
       "\n",
       "div.plan-container {\n",
       "    display: grid;\n",
       "    grid-template-columns: 50% 50%;\n",
       "}\n",
       "\n",
       "/*\n",
       " * this is to void xarray's html output to show the fallback textual representation\n",
       " * see also\n",
       "   * xarray.md and\n",
       "   * https://github.com/damianavila/RISE/issues/594\n",
       " */\n",
       ".reveal pre.xr-text-repr-fallback {\n",
       "    display: none;\n",
       "}\n",
       "\n",
       "#rise-header {\n",
       "    margin: 10px;\n",
       "    left: 5%;\n",
       "}\n",
       "\n",
       "#rise-footer {\n",
       "    margin: 10px;\n",
       "    right: 5%;\n",
       "}\n",
       "\n",
       "#rise-backimage {\n",
       "    opacity: 0.70;\n",
       "}\n",
       "\n",
       ".reveal img {\n",
       "    max-width: 100%;\n",
       "}\n",
       "\n",
       "\n",
       "/*Styles for explicit html in markdown cells*/\n",
       ".md-slide {\n",
       "    color: white;\n",
       "    font-family: 'Work Sans', sans-serif !important;\n",
       "}\n",
       "\n",
       ".md-slide.title {\n",
       "  position: relative;\n",
       "  top: -50%;\n",
       "  margin-left: 5%;\n",
       "  font-size: 1em;\n",
       "}</style>"
      ],
      "text/plain": [
       "<IPython.core.display.HTML object>"
      ]
     },
     "execution_count": 2,
     "metadata": {},
     "output_type": "execute_result"
    }
   ],
   "source": [
    "# The output of this cell should be committed to the repo such that the styles are applied after\n",
    "# opening the notebook\n",
    "\n",
    "from IPython.core.display import HTML\n",
    "\n",
    "with open(\"rise.css\", \"r\") as f:\n",
    "    styles = f.read()\n",
    "HTML(f'<style>{styles}</style>')"
   ]
  },
  {
   "cell_type": "code",
   "execution_count": 3,
   "id": "46db38bf",
   "metadata": {
    "pycharm": {
     "name": "#%%\n"
    },
    "slideshow": {
     "slide_type": "skip"
    }
   },
   "outputs": [],
   "source": [
    "import numpy as np\n",
    "import itertools as it\n",
    "from tqdm import tqdm\n",
    "\n",
    "import matplotlib\n",
    "from matplotlib import pyplot as plt\n",
    "import plotly.express as px\n",
    "import pandas as pd\n",
    "\n",
    "import ipywidgets as widgets\n",
    "\n",
    "from exercise_tools import evaluate, get_kdd_data, get_house_prices_data, create_distributions, contamination, \\\n",
    "perform_rkde_experiment\n",
    "\n",
    "from ipywidgets import interact\n",
    "\n",
    "from sklearn.metrics import roc_auc_score, average_precision_score\n",
    "from sklearn.model_selection import RandomizedSearchCV\n",
    "from sklearn.preprocessing import MinMaxScaler\n",
    "from sklearn.preprocessing import LabelBinarizer\n",
    "from sklearn.ensemble import IsolationForest\n",
    "from sklearn import metrics\n",
    "from sklearn.model_selection import train_test_split\n",
    "from sklearn.decomposition import PCA\n",
    "from sklearn.neighbors import KernelDensity\n",
    "from sklearn.datasets import fetch_openml\n",
    "\n",
    "from vae import VAE, build_decoder_mnist, build_encoder_minst, build_contaminated_minst\n",
    "\n",
    "from tensorflow import keras\n",
    "\n",
    "%matplotlib inline\n",
    "matplotlib.rcParams['figure.figsize'] = (5, 5)\n"
   ]
  },
  {
   "cell_type": "markdown",
   "id": "7cc2f648",
   "metadata": {
    "slideshow": {
     "slide_type": "slide"
    }
   },
   "source": [
    "<img src=\"aai_presentation_first_slide.svg\" alt=\"Snow\" style=\"width:100%;\">\n",
    "<div class=\"md-slide title\">Anomaly Detection</div>"
   ]
  },
  {
   "cell_type": "markdown",
   "id": "cb85606a",
   "metadata": {
    "slideshow": {
     "slide_type": "slide"
    }
   },
   "source": [
    "# Anomaly Detection via Density Estimation\n",
    "**Idea:** Estimate the density of $F_0$. Areas of low density are anomalous.\n",
    "- Often $p$ is too small to estimate complete mixture model.\n",
    "- Takes into account that $F_1$ might not be well defined.\n",
    "- Estimation procedure needs to be robust against contamination if no clean training data is available."
   ]
  },
  {
   "cell_type": "markdown",
   "id": "ad028f22",
   "metadata": {
    "slideshow": {
     "slide_type": "subslide"
    }
   },
   "source": [
    "## Kernel Density Estimation\n",
    "- Non-parametric method\n",
    "- Can represent almost arbitrarily shaped densities\n",
    "- Each training point \"spreads\" a fraction of the probability mass as specified by the kernel function"
   ]
  },
  {
   "cell_type": "markdown",
   "id": "8a5f8585",
   "metadata": {
    "slideshow": {
     "slide_type": "subslide"
    }
   },
   "source": [
    "\n",
    "---\n",
    "<img src=\"images/kernels.png\" style=\"margin:0px 100px\" width=\"600\" align=\"right\">\n",
    "\n",
    "**Definition:**\n",
    "- $K: \\mathbb{R} \\to \\mathbb{R}$ kernel function\n",
    "    - $K(r) \\geq 0$ for all $r\\in \\mathbb{R}$\n",
    "\t- $\\int_{-\\infty}^{\\infty} K(r) dr = 1$\n",
    "- $h > 0$ bandwidth\n",
    "- Bandwidth is the most crucial parameter\n",
    "---\n",
    "\n",
    "\n",
    "\n"
   ]
  },
  {
   "cell_type": "markdown",
   "id": "9847bb69",
   "metadata": {
    "slideshow": {
     "slide_type": "subslide"
    }
   },
   "source": [
    "\n",
    "---\n",
    "**Definition:**\n",
    "Let $D = \\{x_1,\\ldots,x_N\\}\\subset \\mathbb{R}^p$. The KDE with kernel $K$ and bandwidth $h$ is\n",
    "$KDE_h(x, D) = \\frac{1}{N}\\sum_{i=1}^N \\frac{1}{h^p}K\\left(\\frac{|x-x_i|}{h}\\right)$\n",
    "\n",
    "---\n",
    "<table style=\"width:60%\">\n",
    "    <tr>\n",
    "        <td width=\"20%\" style=\"background-color:#FFFFFF;\"><img src=\"images/bandwidth.png\" width=\"100\"></td>\n",
    "        <td style=\"background-color:#FFFFFF;\"><img src=\"images/1dkde.png\"></td>\n",
    "    </tr>\n",
    "    <tr>\n",
    "        <td style=\"background-color:#FFFFFF;\" colspan=\"2\"><center>Effect of bandwidth and kernel</center></td>\n",
    "    </tr>\n",
    "</table>"
   ]
  },
  {
   "cell_type": "markdown",
   "id": "434d0f3e",
   "metadata": {
    "slideshow": {
     "slide_type": "subslide"
    }
   },
   "source": [
    "### Exercise\n",
    "Play with the parameters!"
   ]
  },
  {
   "cell_type": "code",
   "execution_count": 34,
   "id": "10d29d49",
   "metadata": {
    "hideCode": true,
    "pycharm": {
     "name": "#%%\n"
    }
   },
   "outputs": [
    {
     "data": {
      "image/png": "[encoded data removed]",
      "text/plain": [
       "<Figure size 360x360 with 1 Axes>"
      ]
     },
     "metadata": {
      "needs_background": "light"
     },
     "output_type": "display_data"
    }
   ],
   "source": [
    "dists = create_distributions(dim=2, dim_irrelevant=0)\n",
    "contamination_model = contamination(nominal=dists['Double Blob'], anomaly=dists['Blob'], p=0.05)\n",
    "\n",
    "sample_train = dists['Double Blob'].sample(500)\n",
    "X_train = sample_train[-1]\n",
    "y_train = sample_train[0]\n",
    "\n",
    "sample_test = contamination_model.sample(500)\n",
    "X_test = sample_test[-1]\n",
    "y_test = sample_test[0]\n",
    "\n",
    "plt.scatter(X_test[:,0], X_test[:,1], c=['blue' if target == 0 else 'red' for target in y_test], s=10)\n",
    "plt.show()"
   ]
  },
  {
   "cell_type": "code",
   "execution_count": 35,
   "id": "639512ea",
   "metadata": {
    "pycharm": {
     "name": "#%%\n"
    },
    "slideshow": {
     "slide_type": "skip"
    }
   },
   "outputs": [],
   "source": [
    "# Helper function\n",
    "def visualize_kde(kernel, bandwidth, X_train, y_train):\n",
    "    fig, axis = plt.subplots(figsize=(5, 5))\n",
    "    kde = KernelDensity(kernel=kernel, bandwidth=bandwidth)\n",
    "    kde.fit(X_train)\n",
    "\n",
    "    lin = np.linspace(-10, 10, 50)\n",
    "    grid_points = list(it.product(lin, lin))\n",
    "    ys, xs = np.meshgrid(lin, lin)\n",
    "    # The score function of sklearn returns log-densities\n",
    "    scores = np.exp(kde.score_samples(grid_points)).reshape(50, 50)\n",
    "    colormesh = axis.contourf(xs, ys, scores)\n",
    "    fig.colorbar(colormesh)\n",
    "    axis.set_title('Density Conturs (Bandwidth={})'.format(bandwidth))\n",
    "    axis.set_aspect('equal')\n",
    "    color = ['blue' if i ==0 else 'red' for i in y_train]\n",
    "    plt.scatter(X_train[:, 0], X_train[:, 1], c=color)\n",
    "    plt.show()"
   ]
  },
  {
   "cell_type": "markdown",
   "id": "d2fa638a",
   "metadata": {
    "slideshow": {
     "slide_type": "subslide"
    }
   },
   "source": [
    "# Choose KDE Parameters"
   ]
  },
  {
   "cell_type": "code",
   "execution_count": 36,
   "id": "89e5ef25",
   "metadata": {
    "hideCode": true,
    "pycharm": {
     "name": "#%%\n"
    },
    "slideshow": {
     "slide_type": "fragment"
    }
   },
   "outputs": [
    {
     "data": {
      "application/vnd.jupyter.widget-view+json": {
       "model_id": "ac6b21bfbe674d80b4e2d69bdf73a837",
       "version_major": 2,
       "version_minor": 0
      },
      "text/plain": [
       "interactive(children=(Dropdown(description='kernel', options=('gaussian', 'tophat', 'epanechnikov', 'exponenti…"
      ]
     },
     "metadata": {},
     "output_type": "display_data"
    }
   ],
   "source": [
    "ker = None\n",
    "bdw = None\n",
    "@interact(\n",
    "    kernel=['gaussian', 'tophat', 'epanechnikov', 'exponential', 'linear', 'cosine'],\n",
    "    bandwidth=(.1, 10.)\n",
    ")\n",
    "def set_kde_params(kernel, bandwidth):\n",
    "    global ker, bdw\n",
    "\n",
    "    ker = kernel\n",
    "    bdw = bandwidth"
   ]
  },
  {
   "cell_type": "code",
   "execution_count": 37,
   "id": "909c4c5c",
   "metadata": {
    "pycharm": {
     "name": "#%%\n"
    },
    "slideshow": {
     "slide_type": "fragment"
    }
   },
   "outputs": [
    {
     "data": {
      "image/png": "[encoded data removed]",
      "text/plain": [
       "<Figure size 360x360 with 2 Axes>"
      ]
     },
     "metadata": {
      "needs_background": "light"
     },
     "output_type": "display_data"
    }
   ],
   "source": [
    "visualize_kde(ker, bdw, X_test, y_test)"
   ]
  },
  {
   "cell_type": "markdown",
   "id": "0ddc2d6c",
   "metadata": {
    "slideshow": {
     "slide_type": "subslide"
    }
   },
   "source": [
    "## Bandwidth Selection\n",
    "The bandwidth is the most important parameter of a KDE model. A wrongly adjusted value will lead to over- or\n",
    "under-smoothing of the density curve.\n",
    "\n",
    "A common methods to select a bandwidth is maximum log-likelyhood cross validation.\n",
    "$$h_{\\textrm{llcv}} = \\arg\\max_{h}\\frac{1}{k}\\sum_{i=1}^k\\sum_{y\\in D_i}\\log\\left(\\frac{k}{N(k-1)}\\sum_{x\\in D_{-i}}K_h(x, y)\\right)$$\n",
    "where $D_{-i}$ is the data without the $i$th cross validation fold $D_i$."
   ]
  },
  {
   "cell_type": "markdown",
   "id": "df4068e5",
   "metadata": {
    "slideshow": {
     "slide_type": "subslide"
    }
   },
   "source": [
    "# Exercises"
   ]
  },
  {
   "cell_type": "markdown",
   "id": "94c87f47",
   "metadata": {},
   "source": [
    "ex no.1: Noisy sinusoidal"
   ]
  },
  {
   "cell_type": "code",
   "execution_count": 20,
   "id": "0238d830",
   "metadata": {
    "pycharm": {
     "name": "#%%\n"
    },
    "slideshow": {
     "slide_type": "skip"
    }
   },
   "outputs": [
    {
     "data": {
      "image/png": "[encoded data removed]",
      "text/plain": [
       "<Figure size 360x360 with 1 Axes>"
      ]
     },
     "metadata": {
      "needs_background": "light"
     },
     "output_type": "display_data"
    }
   ],
   "source": [
    "# Generate example\n",
    "dists = create_distributions(dim=2)\n",
    "\n",
    "distribution_with_anomalies = contamination(\n",
    "    nominal=dists['Sinusoidal'],\n",
    "    anomaly=dists['Blob'],\n",
    "    p=0.05\n",
    ")\n",
    "\n",
    "# Train data\n",
    "sample_train = dists['Sinusoidal'].sample(500)\n",
    "X_train = sample_train[-1].numpy()\n",
    "\n",
    "# Test data\n",
    "sample_test = distribution_with_anomalies.sample(500)\n",
    "X_test = sample_test[-1].numpy()\n",
    "y_test = sample_test[0].numpy()\n",
    "\n",
    "scatter = plt.scatter(X_test[:, 0], X_test[:, 1], c=y_test)\n",
    "handels, _ = scatter.legend_elements()\n",
    "plt.legend(handels, ['Nominal', 'Anomaly'])\n",
    "plt.gca().set_aspect('equal')\n",
    "plt.show()"
   ]
  },
  {
   "cell_type": "code",
   "execution_count": 21,
   "id": "d095bdb2",
   "metadata": {
    "pycharm": {
     "name": "#%%\n"
    },
    "slideshow": {
     "slide_type": "skip"
    }
   },
   "outputs": [],
   "source": [
    "####################################################################################################################\n",
    "# TODO: Define the search space for the kernel and the bandwidth\n",
    "####################################################################################################################\n",
    "param_space = {\n",
    "    'kernel': ['gaussian', 'tophat', 'epanechnikov', 'exponential', 'linear', 'cosine'], # Add available kernels\n",
    "    'bandwidth': np.linspace(0.1, 10, 100), # Define Search space for bandwidth parameter\n",
    "}\n",
    "\n",
    "def hyperopt_by_score(X_train, param_space, cv=5):\n",
    "    kde = KernelDensity()\n",
    "\n",
    "    search = RandomizedSearchCV(\n",
    "        estimator=kde,\n",
    "        param_distributions=param_space,\n",
    "        n_iter=100,\n",
    "        cv=cv,\n",
    "        scoring=None # use estimators internal scoring function, i.e. the log-probability of the validation set for KDE\n",
    "    )\n",
    "\n",
    "    search.fit(X_train)\n",
    "    return search.best_params_, search.best_estimator_"
   ]
  },
  {
   "cell_type": "markdown",
   "id": "79ed34cc",
   "metadata": {
    "slideshow": {
     "slide_type": "skip"
    }
   },
   "source": [
    "Run below code to perform hyperparameter optimization."
   ]
  },
  {
   "cell_type": "code",
   "execution_count": 22,
   "id": "01513b81",
   "metadata": {
    "pycharm": {
     "name": "#%%\n"
    },
    "slideshow": {
     "slide_type": "skip"
    }
   },
   "outputs": [
    {
     "name": "stderr",
     "output_type": "stream",
     "text": [
      "/Library/Frameworks/Python.framework/Versions/3.9/lib/python3.9/site-packages/sklearn/model_selection/_search.py:922: UserWarning: One or more of the test scores are non-finite: [-515.04752176 -533.82651782 -481.81845329 -651.16834302 -633.23625032\n",
      " -567.65804583 -492.13440461 -636.86744536 -487.76849094 -557.90390974\n",
      " -630.51708999 -453.42659493 -521.97434926 -531.86516655 -512.58645801\n",
      " -506.40723614 -631.53656899 -573.29354506 -623.6861896  -494.20341918\n",
      " -442.40164581 -453.10330406 -394.34004481 -611.44834619          -inf\n",
      " -505.57998475 -645.3629786  -531.18380644 -600.80826114 -508.88140308\n",
      " -558.96823013 -631.79693629 -489.45021571 -450.058067   -524.86563123\n",
      " -657.21444112 -613.52752478 -513.2466979  -447.25545661 -541.14131331\n",
      " -674.5825439  -573.81149033 -422.55045677 -502.70270633 -677.9581566\n",
      " -391.45408485 -523.16205121 -679.62525555 -616.25212855 -524.99852538\n",
      " -533.3292087  -438.11257361 -532.77803962 -681.27884209 -469.14874483\n",
      " -549.76545489 -580.09903727 -476.63962282          -inf -547.99380248\n",
      " -463.1464384  -576.99190328          -inf -477.854513   -667.65921465\n",
      " -500.42429042 -473.59141945 -618.85847589 -635.60746643 -561.86482922\n",
      " -493.42574677 -512.39712    -523.08063927 -596.91610836 -519.93836944\n",
      " -621.68564371 -485.42395593 -602.96923443 -626.65464367 -653.0675564\n",
      " -519.12239819 -451.43117066 -396.4694736  -416.56643852 -386.4940138\n",
      " -475.39913813 -418.30978647 -398.80809459 -399.91704762 -507.08399532\n",
      " -647.31638464 -569.23620643 -553.96549254 -467.65048191 -475.08836508\n",
      "          -inf -560.5211531           -inf -519.55166901 -487.72750705]\n",
      "  warnings.warn(\n",
      "/Library/Frameworks/Python.framework/Versions/3.9/lib/python3.9/site-packages/sklearn/model_selection/_search.py:929: RuntimeWarning: invalid value encountered in subtract\n",
      "  array_stds = np.sqrt(np.average((array -\n"
     ]
    },
    {
     "name": "stdout",
     "output_type": "stream",
     "text": [
      "Best parameters:\n",
      "kernel: epanechnikov\n",
      "bandwidth: 1.0\n"
     ]
    },
    {
     "data": {
      "image/png": "[encoded data removed]",
      "text/plain": [
       "<Figure size 720x360 with 2 Axes>"
      ]
     },
     "metadata": {
      "needs_background": "light"
     },
     "output_type": "display_data"
    }
   ],
   "source": [
    "params, kde = hyperopt_by_score(X_train, param_space)\n",
    "\n",
    "print('Best parameters:')\n",
    "for key in params:\n",
    "    print('{}: {}'.format(key, params[key]))\n",
    "\n",
    "test_scores = -kde.score_samples(X_test)\n",
    "test_scores = np.where(test_scores == np.inf, np.max(test_scores[np.isfinite(test_scores)])+1, test_scores)\n",
    "\n",
    "curves = evaluate(y_test, test_scores)"
   ]
  },
  {
   "cell_type": "code",
   "execution_count": 23,
   "id": "ec8cf537",
   "metadata": {},
   "outputs": [
    {
     "data": {
      "image/png": "[encoded data removed]",
      "text/plain": [
       "<Figure size 360x360 with 2 Axes>"
      ]
     },
     "metadata": {
      "needs_background": "light"
     },
     "output_type": "display_data"
    }
   ],
   "source": [
    "visualize_kde(params['kernel'], params['bandwidth'], X_test, y_test)"
   ]
  },
  {
   "cell_type": "markdown",
   "id": "2d598cda",
   "metadata": {},
   "source": [
    "### Exercise: Isolate anomalies in house prices"
   ]
  },
  {
   "cell_type": "markdown",
   "id": "965b4783",
   "metadata": {},
   "source": [
    "You are a company resposible to estimate house prices around Ames, Iowa, specifically around college area. But there is a problem: houses from a nearby area, 'Veenker', are often included in your dataset. You want to build an anomaly detection algorithm that filters one by one every point that comes from the wrong neighborhood. You have been able to isolate an X_train dataset which, you are sure, contains only houses from College area. Following the previous example, test your ability to isolate anomalies in new incoming data (X_test) with KDE.\n",
    "\n",
    "Advanced exercise:\n",
    "What happens if the contamination comes from other areas? You can choose among the following names:\n",
    "\n",
    "OldTown, Veenker, Edwards, MeadowV, Somerst, NPkVill, BrDale, Gilbert, NridgHt, Sawyer, Blmngtn, Blueste"
   ]
  },
  {
   "cell_type": "code",
   "execution_count": 24,
   "id": "1fd5a1af",
   "metadata": {},
   "outputs": [
    {
     "data": {
      "text/html": [
       "<div>\n",
       "<style scoped>\n",
       "    .dataframe tbody tr th:only-of-type {\n",
       "        vertical-align: middle;\n",
       "    }\n",
       "\n",
       "    .dataframe tbody tr th {\n",
       "        vertical-align: top;\n",
       "    }\n",
       "\n",
       "    .dataframe thead th {\n",
       "        text-align: right;\n",
       "    }\n",
       "</style>\n",
       "<table border=\"1\" class=\"dataframe\">\n",
       "  <thead>\n",
       "    <tr style=\"text-align: right;\">\n",
       "      <th></th>\n",
       "      <th>LotArea</th>\n",
       "      <th>SalePrice</th>\n",
       "      <th>OverallCond</th>\n",
       "    </tr>\n",
       "  </thead>\n",
       "  <tbody>\n",
       "    <tr>\n",
       "      <th>0</th>\n",
       "      <td>10000</td>\n",
       "      <td>240000</td>\n",
       "      <td>5</td>\n",
       "    </tr>\n",
       "    <tr>\n",
       "      <th>1</th>\n",
       "      <td>9100</td>\n",
       "      <td>178000</td>\n",
       "      <td>5</td>\n",
       "    </tr>\n",
       "    <tr>\n",
       "      <th>2</th>\n",
       "      <td>10970</td>\n",
       "      <td>147000</td>\n",
       "      <td>6</td>\n",
       "    </tr>\n",
       "    <tr>\n",
       "      <th>3</th>\n",
       "      <td>9236</td>\n",
       "      <td>217000</td>\n",
       "      <td>5</td>\n",
       "    </tr>\n",
       "    <tr>\n",
       "      <th>4</th>\n",
       "      <td>12803</td>\n",
       "      <td>221000</td>\n",
       "      <td>5</td>\n",
       "    </tr>\n",
       "    <tr>\n",
       "      <th>...</th>\n",
       "      <td>...</td>\n",
       "      <td>...</td>\n",
       "      <td>...</td>\n",
       "    </tr>\n",
       "    <tr>\n",
       "      <th>115</th>\n",
       "      <td>8924</td>\n",
       "      <td>188000</td>\n",
       "      <td>5</td>\n",
       "    </tr>\n",
       "    <tr>\n",
       "      <th>116</th>\n",
       "      <td>14006</td>\n",
       "      <td>192500</td>\n",
       "      <td>5</td>\n",
       "    </tr>\n",
       "    <tr>\n",
       "      <th>117</th>\n",
       "      <td>10667</td>\n",
       "      <td>212000</td>\n",
       "      <td>6</td>\n",
       "    </tr>\n",
       "    <tr>\n",
       "      <th>118</th>\n",
       "      <td>8760</td>\n",
       "      <td>239799</td>\n",
       "      <td>5</td>\n",
       "    </tr>\n",
       "    <tr>\n",
       "      <th>119</th>\n",
       "      <td>7200</td>\n",
       "      <td>133900</td>\n",
       "      <td>8</td>\n",
       "    </tr>\n",
       "  </tbody>\n",
       "</table>\n",
       "<p>120 rows × 3 columns</p>\n",
       "</div>"
      ],
      "text/plain": [
       "     LotArea  SalePrice  OverallCond\n",
       "0      10000     240000            5\n",
       "1       9100     178000            5\n",
       "2      10970     147000            6\n",
       "3       9236     217000            5\n",
       "4      12803     221000            5\n",
       "..       ...        ...          ...\n",
       "115     8924     188000            5\n",
       "116    14006     192500            5\n",
       "117    10667     212000            6\n",
       "118     8760     239799            5\n",
       "119     7200     133900            8\n",
       "\n",
       "[120 rows x 3 columns]"
      ]
     },
     "execution_count": 24,
     "metadata": {},
     "output_type": "execute_result"
    }
   ],
   "source": [
    "X_train, X_test, y_test = get_house_prices_data(neighborhood = 'CollgCr', anomaly_neighborhood='Veenker')\n",
    "X_train"
   ]
  },
  {
   "cell_type": "code",
   "execution_count": 12,
   "id": "288e044a",
   "metadata": {},
   "outputs": [
    {
     "data": {
      "application/vnd.plotly.v1+json": {
       "config": {
        "plotlyServerURL": "https://plot.ly"
       },
       "data": [
        {
         "hovertemplate": "LotArea=%{x}<br>OverallCond=%{y}<br>SalePrice=%{z}<br>color=%{marker.color}<extra></extra>",
         "legendgroup": "",
         "marker": {
          "color": [
           0,
           0,
           0,
           0,
           0,
           0,
           0,
           0,
           0,
           0,
           0,
           0,
           0,
           0,
           0,
           0,
           0,
           0,
           0,
           0,
           0,
           0,
           0,
           0,
           0,
           0,
           0,
           0,
           0,
           0,
           0,
           0,
           0,
           0,
           0,
           0,
           0,
           0,
           0,
           0,
           0,
           0,
           0,
           0,
           0,
           0,
           0,
           0,
           0,
           0,
           0,
           0,
           0,
           0,
           0,
           0,
           0,
           0,
           0,
           0,
           0,
           0,
           0,
           0,
           0,
           0,
           0,
           0,
           0,
           0,
           0,
           0,
           0,
           0,
           0,
           0,
           0,
           0,
           0,
           0,
           0,
           0,
           0,
           0,
           0,
           0,
           0,
           0,
           0,
           0,
           0,
           0,
           0,
           0,
           0,
           0,
           0,
           0,
           0,
           0,
           0,
           0,
           0,
           0,
           0,
           0,
           0,
           0,
           0,
           0,
           0,
           0,
           0,
           0,
           0,
           0,
           0,
           0,
           0,
           0,
           0,
           1,
           0,
           1,
           0,
           0,
           1,
           1,
           0,
           0,
           0,
           0,
           0,
           0,
           1,
           0,
           0,
           1,
           0,
           1,
           0,
           0,
           0,
           0,
           0,
           0,
           1,
           0,
           0,
           0,
           0,
           0,
           1,
           1,
           0,
           1,
           0,
           0,
           0,
           0,
           0
          ],
          "coloraxis": "coloraxis",
          "symbol": "circle"
         },
         "mode": "markers",
         "name": "",
         "scene": "scene",
         "showlegend": false,
         "type": "scatter3d",
         "x": [
          4426,
          10780,
          8773,
          9808,
          9286,
          9588,
          8450,
          11883,
          8450,
          8800,
          9135,
          8200,
          9200,
          9240,
          9920,
          9965,
          8750,
          8450,
          9066,
          12393,
          9473,
          8556,
          16285,
          13450,
          8924,
          11049,
          8760,
          8846,
          10637,
          7406,
          9375,
          11367,
          10475,
          9313,
          4438,
          8072,
          8750,
          8070,
          9179,
          11250,
          8990,
          13704,
          15611,
          4438,
          6762,
          11423,
          8750,
          12435,
          8500,
          7226,
          8385,
          8158,
          10335,
          7700,
          11885,
          8775,
          13568,
          9742,
          16226,
          10264,
          11175,
          8125,
          12464,
          11404,
          15426,
          8199,
          11838,
          8767,
          8430,
          13125,
          10667,
          11249,
          4426,
          4435,
          9245,
          9965,
          11103,
          7200,
          9135,
          7990,
          10084,
          4426,
          7180,
          8935,
          8633,
          10386,
          8814,
          4435,
          8487,
          6762,
          8461,
          9100,
          8749,
          4435,
          8400,
          6762,
          9800,
          14781,
          11923,
          11250,
          9100,
          11210,
          15523,
          9317,
          10316,
          9017,
          10665,
          12137,
          12803,
          9750,
          11317,
          9375,
          11248,
          10769,
          7314,
          9245,
          9525,
          10970,
          7000,
          12420,
          10859,
          17542,
          10000,
          14963,
          10226,
          9750,
          9600,
          9549,
          14006,
          4435,
          9560,
          4435,
          10635,
          11050,
          11120,
          10356,
          9531,
          11250,
          10900,
          50271,
          8846,
          10650,
          9236,
          8445,
          10402,
          8320,
          9600,
          7200,
          10652,
          9337,
          7200,
          9548,
          10846,
          16157,
          9382,
          10768,
          10400,
          11645,
          8814,
          9100,
          11645
         ],
         "y": [
          5,
          5,
          5,
          5,
          7,
          5,
          5,
          5,
          5,
          7,
          5,
          5,
          6,
          5,
          6,
          5,
          5,
          5,
          5,
          5,
          5,
          5,
          5,
          5,
          5,
          5,
          5,
          5,
          5,
          5,
          5,
          5,
          5,
          5,
          5,
          5,
          5,
          5,
          5,
          5,
          5,
          5,
          5,
          5,
          5,
          5,
          5,
          5,
          5,
          5,
          8,
          5,
          5,
          5,
          5,
          5,
          5,
          5,
          5,
          5,
          5,
          5,
          5,
          5,
          5,
          5,
          5,
          5,
          5,
          5,
          6,
          5,
          5,
          5,
          5,
          5,
          5,
          8,
          5,
          6,
          5,
          5,
          7,
          5,
          5,
          5,
          5,
          5,
          5,
          5,
          5,
          5,
          5,
          5,
          5,
          5,
          7,
          5,
          5,
          5,
          5,
          5,
          6,
          5,
          5,
          5,
          5,
          5,
          5,
          6,
          5,
          5,
          5,
          5,
          5,
          5,
          6,
          6,
          8,
          5,
          5,
          7,
          5,
          5,
          5,
          5,
          8,
          5,
          5,
          5,
          7,
          5,
          5,
          5,
          6,
          6,
          5,
          6,
          7,
          5,
          5,
          6,
          5,
          7,
          5,
          5,
          7,
          7,
          5,
          5,
          5,
          6,
          5,
          7,
          5,
          8,
          5,
          5,
          5,
          5,
          5
         ],
         "z": [
          143000,
          132500,
          185500,
          227000,
          143500,
          276000,
          185000,
          203000,
          210000,
          150500,
          214000,
          219500,
          130250,
          287000,
          128500,
          383970,
          210000,
          208500,
          230000,
          195000,
          237000,
          194000,
          187100,
          200000,
          188000,
          179900,
          239799,
          173900,
          297000,
          194000,
          219500,
          255000,
          245350,
          190000,
          144500,
          138000,
          191000,
          123600,
          193000,
          255900,
          204900,
          205000,
          233230,
          149000,
          193879,
          272000,
          200500,
          231500,
          179600,
          183000,
          149900,
          224900,
          204000,
          112500,
          261500,
          126000,
          156000,
          230000,
          267000,
          214000,
          200141,
          230000,
          152000,
          222500,
          231500,
          189000,
          236500,
          164990,
          124000,
          208900,
          212000,
          177500,
          149300,
          136500,
          145000,
          424870,
          155835,
          133900,
          200000,
          110000,
          212900,
          141000,
          127000,
          195000,
          173500,
          305900,
          203000,
          144000,
          190000,
          206000,
          163990,
          178000,
          192000,
          155900,
          213000,
          195400,
          149900,
          275000,
          239000,
          223500,
          235000,
          221500,
          133500,
          176432,
          235000,
          192000,
          226000,
          224900,
          221000,
          274300,
          180000,
          228500,
          285000,
          212000,
          194500,
          213500,
          144000,
          147000,
          136500,
          230000,
          145000,
          294000,
          240000,
          245500,
          295493,
          213000,
          181500,
          270000,
          192500,
          140000,
          128500,
          131500,
          232000,
          313000,
          162500,
          122000,
          211000,
          165000,
          161750,
          385000,
          148000,
          128200,
          217000,
          133000,
          198900,
          185900,
          187000,
          124900,
          279500,
          204750,
          123000,
          237000,
          324000,
          194000,
          191000,
          218000,
          197900,
          260000,
          220000,
          216837,
          196500
         ]
        }
       ],
       "layout": {
        "coloraxis": {
         "colorbar": {
          "title": {
           "text": "color"
          }
         },
         "colorscale": [
          [
           0,
           "#0d0887"
          ],
          [
           0.1111111111111111,
           "#46039f"
          ],
          [
           0.2222222222222222,
           "#7201a8"
          ],
          [
           0.3333333333333333,
           "#9c179e"
          ],
          [
           0.4444444444444444,
           "#bd3786"
          ],
          [
           0.5555555555555556,
           "#d8576b"
          ],
          [
           0.6666666666666666,
           "#ed7953"
          ],
          [
           0.7777777777777778,
           "#fb9f3a"
          ],
          [
           0.8888888888888888,
           "#fdca26"
          ],
          [
           1,
           "#f0f921"
          ]
         ]
        },
        "legend": {
         "tracegroupgap": 0
        },
        "margin": {
         "t": 60
        },
        "scene": {
         "domain": {
          "x": [
           0,
           1
          ],
          "y": [
           0,
           1
          ]
         },
         "xaxis": {
          "title": {
           "text": "LotArea"
          }
         },
         "yaxis": {
          "title": {
           "text": "OverallCond"
          }
         },
         "zaxis": {
          "title": {
           "text": "SalePrice"
          }
         }
        },
        "template": {
         "data": {
          "bar": [
           {
            "error_x": {
             "color": "#2a3f5f"
            },
            "error_y": {
             "color": "#2a3f5f"
            },
            "marker": {
             "line": {
              "color": "#E5ECF6",
              "width": 0.5
             },
             "pattern": {
              "fillmode": "overlay",
              "size": 10,
              "solidity": 0.2
             }
            },
            "type": "bar"
           }
          ],
          "barpolar": [
           {
            "marker": {
             "line": {
              "color": "#E5ECF6",
              "width": 0.5
             },
             "pattern": {
              "fillmode": "overlay",
              "size": 10,
              "solidity": 0.2
             }
            },
            "type": "barpolar"
           }
          ],
          "carpet": [
           {
            "aaxis": {
             "endlinecolor": "#2a3f5f",
             "gridcolor": "white",
             "linecolor": "white",
             "minorgridcolor": "white",
             "startlinecolor": "#2a3f5f"
            },
            "baxis": {
             "endlinecolor": "#2a3f5f",
             "gridcolor": "white",
             "linecolor": "white",
             "minorgridcolor": "white",
             "startlinecolor": "#2a3f5f"
            },
            "type": "carpet"
           }
          ],
          "choropleth": [
           {
            "colorbar": {
             "outlinewidth": 0,
             "ticks": ""
            },
            "type": "choropleth"
           }
          ],
          "contour": [
           {
            "colorbar": {
             "outlinewidth": 0,
             "ticks": ""
            },
            "colorscale": [
             [
              0,
              "#0d0887"
             ],
             [
              0.1111111111111111,
              "#46039f"
             ],
             [
              0.2222222222222222,
              "#7201a8"
             ],
             [
              0.3333333333333333,
              "#9c179e"
             ],
             [
              0.4444444444444444,
              "#bd3786"
             ],
             [
              0.5555555555555556,
              "#d8576b"
             ],
             [
              0.6666666666666666,
              "#ed7953"
             ],
             [
              0.7777777777777778,
              "#fb9f3a"
             ],
             [
              0.8888888888888888,
              "#fdca26"
             ],
             [
              1,
              "#f0f921"
             ]
            ],
            "type": "contour"
           }
          ],
          "contourcarpet": [
           {
            "colorbar": {
             "outlinewidth": 0,
             "ticks": ""
            },
            "type": "contourcarpet"
           }
          ],
          "heatmap": [
           {
            "colorbar": {
             "outlinewidth": 0,
             "ticks": ""
            },
            "colorscale": [
             [
              0,
              "#0d0887"
             ],
             [
              0.1111111111111111,
              "#46039f"
             ],
             [
              0.2222222222222222,
              "#7201a8"
             ],
             [
              0.3333333333333333,
              "#9c179e"
             ],
             [
              0.4444444444444444,
              "#bd3786"
             ],
             [
              0.5555555555555556,
              "#d8576b"
             ],
             [
              0.6666666666666666,
              "#ed7953"
             ],
             [
              0.7777777777777778,
              "#fb9f3a"
             ],
             [
              0.8888888888888888,
              "#fdca26"
             ],
             [
              1,
              "#f0f921"
             ]
            ],
            "type": "heatmap"
           }
          ],
          "heatmapgl": [
           {
            "colorbar": {
             "outlinewidth": 0,
             "ticks": ""
            },
            "colorscale": [
             [
              0,
              "#0d0887"
             ],
             [
              0.1111111111111111,
              "#46039f"
             ],
             [
              0.2222222222222222,
              "#7201a8"
             ],
             [
              0.3333333333333333,
              "#9c179e"
             ],
             [
              0.4444444444444444,
              "#bd3786"
             ],
             [
              0.5555555555555556,
              "#d8576b"
             ],
             [
              0.6666666666666666,
              "#ed7953"
             ],
             [
              0.7777777777777778,
              "#fb9f3a"
             ],
             [
              0.8888888888888888,
              "#fdca26"
             ],
             [
              1,
              "#f0f921"
             ]
            ],
            "type": "heatmapgl"
           }
          ],
          "histogram": [
           {
            "marker": {
             "pattern": {
              "fillmode": "overlay",
              "size": 10,
              "solidity": 0.2
             }
            },
            "type": "histogram"
           }
          ],
          "histogram2d": [
           {
            "colorbar": {
             "outlinewidth": 0,
             "ticks": ""
            },
            "colorscale": [
             [
              0,
              "#0d0887"
             ],
             [
              0.1111111111111111,
              "#46039f"
             ],
             [
              0.2222222222222222,
              "#7201a8"
             ],
             [
              0.3333333333333333,
              "#9c179e"
             ],
             [
              0.4444444444444444,
              "#bd3786"
             ],
             [
              0.5555555555555556,
              "#d8576b"
             ],
             [
              0.6666666666666666,
              "#ed7953"
             ],
             [
              0.7777777777777778,
              "#fb9f3a"
             ],
             [
              0.8888888888888888,
              "#fdca26"
             ],
             [
              1,
              "#f0f921"
             ]
            ],
            "type": "histogram2d"
           }
          ],
          "histogram2dcontour": [
           {
            "colorbar": {
             "outlinewidth": 0,
             "ticks": ""
            },
            "colorscale": [
             [
              0,
              "#0d0887"
             ],
             [
              0.1111111111111111,
              "#46039f"
             ],
             [
              0.2222222222222222,
              "#7201a8"
             ],
             [
              0.3333333333333333,
              "#9c179e"
             ],
             [
              0.4444444444444444,
              "#bd3786"
             ],
             [
              0.5555555555555556,
              "#d8576b"
             ],
             [
              0.6666666666666666,
              "#ed7953"
             ],
             [
              0.7777777777777778,
              "#fb9f3a"
             ],
             [
              0.8888888888888888,
              "#fdca26"
             ],
             [
              1,
              "#f0f921"
             ]
            ],
            "type": "histogram2dcontour"
           }
          ],
          "mesh3d": [
           {
            "colorbar": {
             "outlinewidth": 0,
             "ticks": ""
            },
            "type": "mesh3d"
           }
          ],
          "parcoords": [
           {
            "line": {
             "colorbar": {
              "outlinewidth": 0,
              "ticks": ""
             }
            },
            "type": "parcoords"
           }
          ],
          "pie": [
           {
            "automargin": true,
            "type": "pie"
           }
          ],
          "scatter": [
           {
            "marker": {
             "colorbar": {
              "outlinewidth": 0,
              "ticks": ""
             }
            },
            "type": "scatter"
           }
          ],
          "scatter3d": [
           {
            "line": {
             "colorbar": {
              "outlinewidth": 0,
              "ticks": ""
             }
            },
            "marker": {
             "colorbar": {
              "outlinewidth": 0,
              "ticks": ""
             }
            },
            "type": "scatter3d"
           }
          ],
          "scattercarpet": [
           {
            "marker": {
             "colorbar": {
              "outlinewidth": 0,
              "ticks": ""
             }
            },
            "type": "scattercarpet"
           }
          ],
          "scattergeo": [
           {
            "marker": {
             "colorbar": {
              "outlinewidth": 0,
              "ticks": ""
             }
            },
            "type": "scattergeo"
           }
          ],
          "scattergl": [
           {
            "marker": {
             "colorbar": {
              "outlinewidth": 0,
              "ticks": ""
             }
            },
            "type": "scattergl"
           }
          ],
          "scattermapbox": [
           {
            "marker": {
             "colorbar": {
              "outlinewidth": 0,
              "ticks": ""
             }
            },
            "type": "scattermapbox"
           }
          ],
          "scatterpolar": [
           {
            "marker": {
             "colorbar": {
              "outlinewidth": 0,
              "ticks": ""
             }
            },
            "type": "scatterpolar"
           }
          ],
          "scatterpolargl": [
           {
            "marker": {
             "colorbar": {
              "outlinewidth": 0,
              "ticks": ""
             }
            },
            "type": "scatterpolargl"
           }
          ],
          "scatterternary": [
           {
            "marker": {
             "colorbar": {
              "outlinewidth": 0,
              "ticks": ""
             }
            },
            "type": "scatterternary"
           }
          ],
          "surface": [
           {
            "colorbar": {
             "outlinewidth": 0,
             "ticks": ""
            },
            "colorscale": [
             [
              0,
              "#0d0887"
             ],
             [
              0.1111111111111111,
              "#46039f"
             ],
             [
              0.2222222222222222,
              "#7201a8"
             ],
             [
              0.3333333333333333,
              "#9c179e"
             ],
             [
              0.4444444444444444,
              "#bd3786"
             ],
             [
              0.5555555555555556,
              "#d8576b"
             ],
             [
              0.6666666666666666,
              "#ed7953"
             ],
             [
              0.7777777777777778,
              "#fb9f3a"
             ],
             [
              0.8888888888888888,
              "#fdca26"
             ],
             [
              1,
              "#f0f921"
             ]
            ],
            "type": "surface"
           }
          ],
          "table": [
           {
            "cells": {
             "fill": {
              "color": "#EBF0F8"
             },
             "line": {
              "color": "white"
             }
            },
            "header": {
             "fill": {
              "color": "#C8D4E3"
             },
             "line": {
              "color": "white"
             }
            },
            "type": "table"
           }
          ]
         },
         "layout": {
          "annotationdefaults": {
           "arrowcolor": "#2a3f5f",
           "arrowhead": 0,
           "arrowwidth": 1
          },
          "autotypenumbers": "strict",
          "coloraxis": {
           "colorbar": {
            "outlinewidth": 0,
            "ticks": ""
           }
          },
          "colorscale": {
           "diverging": [
            [
             0,
             "#8e0152"
            ],
            [
             0.1,
             "#c51b7d"
            ],
            [
             0.2,
             "#de77ae"
            ],
            [
             0.3,
             "#f1b6da"
            ],
            [
             0.4,
             "#fde0ef"
            ],
            [
             0.5,
             "#f7f7f7"
            ],
            [
             0.6,
             "#e6f5d0"
            ],
            [
             0.7,
             "#b8e186"
            ],
            [
             0.8,
             "#7fbc41"
            ],
            [
             0.9,
             "#4d9221"
            ],
            [
             1,
             "#276419"
            ]
           ],
           "sequential": [
            [
             0,
             "#0d0887"
            ],
            [
             0.1111111111111111,
             "#46039f"
            ],
            [
             0.2222222222222222,
             "#7201a8"
            ],
            [
             0.3333333333333333,
             "#9c179e"
            ],
            [
             0.4444444444444444,
             "#bd3786"
            ],
            [
             0.5555555555555556,
             "#d8576b"
            ],
            [
             0.6666666666666666,
             "#ed7953"
            ],
            [
             0.7777777777777778,
             "#fb9f3a"
            ],
            [
             0.8888888888888888,
             "#fdca26"
            ],
            [
             1,
             "#f0f921"
            ]
           ],
           "sequentialminus": [
            [
             0,
             "#0d0887"
            ],
            [
             0.1111111111111111,
             "#46039f"
            ],
            [
             0.2222222222222222,
             "#7201a8"
            ],
            [
             0.3333333333333333,
             "#9c179e"
            ],
            [
             0.4444444444444444,
             "#bd3786"
            ],
            [
             0.5555555555555556,
             "#d8576b"
            ],
            [
             0.6666666666666666,
             "#ed7953"
            ],
            [
             0.7777777777777778,
             "#fb9f3a"
            ],
            [
             0.8888888888888888,
             "#fdca26"
            ],
            [
             1,
             "#f0f921"
            ]
           ]
          },
          "colorway": [
           "#636efa",
           "#EF553B",
           "#00cc96",
           "#ab63fa",
           "#FFA15A",
           "#19d3f3",
           "#FF6692",
           "#B6E880",
           "#FF97FF",
           "#FECB52"
          ],
          "font": {
           "color": "#2a3f5f"
          },
          "geo": {
           "bgcolor": "white",
           "lakecolor": "white",
           "landcolor": "#E5ECF6",
           "showlakes": true,
           "showland": true,
           "subunitcolor": "white"
          },
          "hoverlabel": {
           "align": "left"
          },
          "hovermode": "closest",
          "mapbox": {
           "style": "light"
          },
          "paper_bgcolor": "white",
          "plot_bgcolor": "#E5ECF6",
          "polar": {
           "angularaxis": {
            "gridcolor": "white",
            "linecolor": "white",
            "ticks": ""
           },
           "bgcolor": "#E5ECF6",
           "radialaxis": {
            "gridcolor": "white",
            "linecolor": "white",
            "ticks": ""
           }
          },
          "scene": {
           "xaxis": {
            "backgroundcolor": "#E5ECF6",
            "gridcolor": "white",
            "gridwidth": 2,
            "linecolor": "white",
            "showbackground": true,
            "ticks": "",
            "zerolinecolor": "white"
           },
           "yaxis": {
            "backgroundcolor": "#E5ECF6",
            "gridcolor": "white",
            "gridwidth": 2,
            "linecolor": "white",
            "showbackground": true,
            "ticks": "",
            "zerolinecolor": "white"
           },
           "zaxis": {
            "backgroundcolor": "#E5ECF6",
            "gridcolor": "white",
            "gridwidth": 2,
            "linecolor": "white",
            "showbackground": true,
            "ticks": "",
            "zerolinecolor": "white"
           }
          },
          "shapedefaults": {
           "line": {
            "color": "#2a3f5f"
           }
          },
          "ternary": {
           "aaxis": {
            "gridcolor": "white",
            "linecolor": "white",
            "ticks": ""
           },
           "baxis": {
            "gridcolor": "white",
            "linecolor": "white",
            "ticks": ""
           },
           "bgcolor": "#E5ECF6",
           "caxis": {
            "gridcolor": "white",
            "linecolor": "white",
            "ticks": ""
           }
          },
          "title": {
           "x": 0.05
          },
          "xaxis": {
           "automargin": true,
           "gridcolor": "white",
           "linecolor": "white",
           "ticks": "",
           "title": {
            "standoff": 15
           },
           "zerolinecolor": "white",
           "zerolinewidth": 2
          },
          "yaxis": {
           "automargin": true,
           "gridcolor": "white",
           "linecolor": "white",
           "ticks": "",
           "title": {
            "standoff": 15
           },
           "zerolinecolor": "white",
           "zerolinewidth": 2
          }
         }
        }
       }
      }
     },
     "metadata": {},
     "output_type": "display_data"
    }
   ],
   "source": [
    "# Total data\n",
    "train_test_data = X_train.append(X_test, ignore_index=True)\n",
    "y_total = [0] * len(X_train) + y_test\n",
    "\n",
    "fig = px.scatter_3d(train_test_data, x='LotArea', y='OverallCond', z='SalePrice', color=y_total)\n",
    "\n",
    "fig.show()"
   ]
  },
  {
   "cell_type": "markdown",
   "id": "dfc80809",
   "metadata": {},
   "source": [
    "### Solution"
   ]
  },
  {
   "cell_type": "markdown",
   "id": "f81d6a1e",
   "metadata": {},
   "source": [
    "When data are highly in-homogeneous, like in this case, it is often beneficial to rescale them before applying any anomaly detection or clustering technique."
   ]
  },
  {
   "cell_type": "code",
   "execution_count": 13,
   "id": "b336ebbd",
   "metadata": {},
   "outputs": [],
   "source": [
    "scaler = MinMaxScaler()\n",
    "X_train_rescaled = scaler.fit_transform(X_train)"
   ]
  },
  {
   "cell_type": "code",
   "execution_count": 14,
   "id": "0159cf66",
   "metadata": {},
   "outputs": [
    {
     "name": "stderr",
     "output_type": "stream",
     "text": [
      "/Library/Frameworks/Python.framework/Versions/3.9/lib/python3.9/site-packages/sklearn/model_selection/_search.py:922: UserWarning:\n",
      "\n",
      "One or more of the test scores are non-finite: [-214.1049886   -65.72340928 -175.50471145   15.29500678 -117.57801145\n",
      " -154.2059124  -179.45090448 -129.66348117 -164.15445644 -224.65351664\n",
      " -195.70898463 -206.77936872  -71.31118409 -225.97822409 -145.80238763\n",
      " -132.93068779  -13.17728479 -154.45277808 -171.38387172 -175.29278063\n",
      "  -98.06404666 -157.9840137  -164.83619188 -124.84800341 -119.345055\n",
      "  -38.00550882 -158.59905914 -160.39550546 -186.74828407 -190.28904036\n",
      "  -54.43885529 -141.60799722          -inf -181.26831615    0.8036419\n",
      "  -24.59284267 -105.28952933 -141.05341395 -147.90496508 -137.70397282\n",
      " -132.94069057  -79.77924298 -178.48444701 -192.28633172 -164.57467852\n",
      " -153.80235395 -105.16881811 -235.84153183  -37.85878159 -156.59277741\n",
      " -182.15127515  -24.83541999 -141.51898606 -165.70788427 -167.91534137\n",
      " -166.8974606  -144.25394085 -209.34133189 -132.36819882  -89.82906478\n",
      "  -34.95598236  -80.5913668    17.21543879 -160.56072418  -70.32109498\n",
      " -172.39631508 -191.56041438  -13.29141921 -151.16571339 -155.61591919\n",
      " -219.43463644 -217.82187791 -118.98958594 -131.62787441 -134.07414317\n",
      " -161.9536986  -236.63423906  -56.46662204 -168.25983702 -159.80145092\n",
      " -164.05946755 -166.43581261 -113.1700645  -112.54276236 -200.16401369\n",
      " -157.05785188 -124.37540757 -193.37364477 -202.09472771 -221.80465347\n",
      " -152.24009155 -160.6933002  -127.5404545  -157.55659583 -205.57594635\n",
      "  -63.7164157  -154.85622772          -inf -104.66923274 -224.39717982]\n",
      "\n",
      "/Library/Frameworks/Python.framework/Versions/3.9/lib/python3.9/site-packages/sklearn/model_selection/_search.py:929: RuntimeWarning:\n",
      "\n",
      "invalid value encountered in subtract\n",
      "\n"
     ]
    }
   ],
   "source": [
    "param_space = {\n",
    "    'kernel': ['gaussian', 'tophat', 'epanechnikov', 'exponential', 'linear', 'cosine'], # Add available kernels\n",
    "    'bandwidth': np.linspace(0.1, 10, 100), # Define Search space for bandwidth parameter\n",
    "}\n",
    "params, kde = hyperopt_by_score(X_train_rescaled, param_space)"
   ]
  },
  {
   "cell_type": "code",
   "execution_count": 15,
   "id": "c6217804",
   "metadata": {},
   "outputs": [
    {
     "name": "stdout",
     "output_type": "stream",
     "text": [
      "Best parameters:\n",
      "kernel: linear\n",
      "bandwidth: 0.5\n"
     ]
    },
    {
     "data": {
      "image/png": "[encoded data removed]",
      "text/plain": [
       "<Figure size 720x360 with 2 Axes>"
      ]
     },
     "metadata": {
      "needs_background": "light"
     },
     "output_type": "display_data"
    }
   ],
   "source": [
    "print('Best parameters:')\n",
    "for key in params:\n",
    "    print('{}: {}'.format(key, params[key]))\n",
    "\n",
    "X_test_rescaled = scaler.transform(X_test)\n",
    "test_scores = -kde.score_samples(X_test_rescaled)\n",
    "test_scores = np.where(test_scores == np.inf, np.max(test_scores[np.isfinite(test_scores)])+1, test_scores)\n",
    "curves = evaluate(y_test, test_scores)"
   ]
  },
  {
   "cell_type": "markdown",
   "id": "ad2238bb",
   "metadata": {
    "slideshow": {
     "slide_type": "subslide"
    }
   },
   "source": [
    "## The Curse of Dimensionality\n",
    "The flexibility of KDE comes at a price. The dependency on the dimensionality of the data is quite unfavorable.\n",
    "\n",
    "---\n",
    "*Theorem* [Stone, 1982]\n",
    "Any estimator that is consistent$^*$ with the class of all $k$-fold differentiable pdfs over $\\mathbb{R}^d$ has a\n",
    "convergence rate of at most\n",
    "\n",
    "$$\n",
    "\\frac{1}{n^{\\frac{k}{2k+d}}}\n",
    "$$\n",
    "\n",
    "\n",
    "---\n",
    "\n",
    "$^*$Consistency = for all pdfs $p$ in the class: $\\lim_{n\\to\\infty}|KDE_h(x, D) - p(x)|_\\infty = 0$ with probability $1$."
   ]
  },
  {
   "cell_type": "markdown",
   "id": "65268b84",
   "metadata": {
    "slideshow": {
     "slide_type": "subslide"
    }
   },
   "source": [
    "# Exercise\n",
    "- The very slow convergence in high dimensions does not necessarily mean that we will see bad results in   high dimensional anomaly detection with KDE.\n",
    "- Especially if the anomalies are very outlying.\n",
    "- However, in cases where contours of the nominal distribution is non-convex we can run into problems.\n",
    "\n",
    "We take a look at a higher dimensional version of out previous data set."
   ]
  },
  {
   "cell_type": "code",
   "execution_count": 16,
   "id": "75d8b1a5",
   "metadata": {
    "pycharm": {
     "name": "#%%\n"
    },
    "slideshow": {
     "slide_type": "skip"
    }
   },
   "outputs": [],
   "source": [
    "dists = create_distributions(dim=3)\n",
    "\n",
    "distribution_with_anomalies = contamination(\n",
    "    nominal=dists['Sinusoidal'],\n",
    "    anomaly=dists['Blob'],\n",
    "    p=.02\n",
    ")\n",
    "\n",
    "sample = distribution_with_anomalies.sample(500)\n",
    "\n",
    "y = sample[0]\n",
    "X = sample[-1]"
   ]
  },
  {
   "cell_type": "code",
   "execution_count": 17,
   "id": "44acf871",
   "metadata": {},
   "outputs": [
    {
     "data": {
      "application/vnd.plotly.v1+json": {
       "config": {
        "plotlyServerURL": "https://plot.ly"
       },
       "data": [
        {
         "hovertemplate": "x=%{x}<br>y=%{y}<br>z=%{z}<br>color=%{marker.color}<extra></extra>",
         "legendgroup": "",
         "marker": {
          "color": [
           0,
           0,
           0,
           0,
           0,
           0,
           0,
           0,
           0,
           0,
           0,
           0,
           0,
           0,
           0,
           0,
           0,
           0,
           0,
           0,
           0,
           1,
           0,
           0,
           0,
           0,
           0,
           0,
           0,
           0,
           0,
           0,
           0,
           0,
           0,
           0,
           0,
           0,
           1,
           0,
           0,
           0,
           0,
           0,
           0,
           0,
           0,
           0,
           0,
           0,
           0,
           0,
           0,
           0,
           0,
           0,
           0,
           0,
           0,
           0,
           0,
           0,
           0,
           0,
           0,
           0,
           0,
           0,
           0,
           0,
           0,
           0,
           0,
           0,
           0,
           0,
           0,
           0,
           0,
           0,
           0,
           0,
           0,
           0,
           0,
           0,
           0,
           0,
           0,
           0,
           0,
           0,
           0,
           0,
           0,
           0,
           0,
           0,
           0,
           0,
           0,
           0,
           0,
           0,
           0,
           0,
           0,
           0,
           0,
           0,
           0,
           0,
           0,
           0,
           0,
           0,
           0,
           0,
           0,
           1,
           0,
           0,
           0,
           0,
           0,
           0,
           0,
           0,
           0,
           0,
           0,
           0,
           0,
           0,
           0,
           0,
           0,
           0,
           0,
           0,
           0,
           0,
           0,
           1,
           0,
           0,
           0,
           0,
           1,
           0,
           0,
           0,
           0,
           0,
           0,
           0,
           0,
           0,
           0,
           0,
           0,
           0,
           0,
           1,
           0,
           0,
           0,
           1,
           0,
           0,
           0,
           0,
           0,
           0,
           0,
           0,
           0,
           0,
           0,
           0,
           0,
           0,
           0,
           0,
           0,
           0,
           0,
           0,
           0,
           0,
           0,
           1,
           0,
           0,
           0,
           0,
           0,
           0,
           0,
           0,
           0,
           0,
           0,
           0,
           0,
           0,
           0,
           0,
           0,
           0,
           0,
           0,
           0,
           0,
           0,
           0,
           0,
           0,
           0,
           0,
           0,
           0,
           0,
           0,
           0,
           0,
           0,
           0,
           0,
           0,
           0,
           0,
           0,
           0,
           0,
           0,
           0,
           0,
           0,
           0,
           0,
           0,
           0,
           0,
           0,
           0,
           0,
           0,
           0,
           0,
           0,
           0,
           0,
           0,
           0,
           0,
           0,
           0,
           0,
           0,
           0,
           0,
           0,
           0,
           0,
           0,
           0,
           0,
           0,
           0,
           0,
           0,
           0,
           0,
           0,
           1,
           0,
           0,
           0,
           0,
           0,
           0,
           0,
           0,
           0,
           0,
           0,
           0,
           0,
           0,
           0,
           0,
           0,
           0,
           0,
           0,
           0,
           0,
           0,
           0,
           0,
           0,
           0,
           0,
           0,
           0,
           0,
           0,
           0,
           0,
           0,
           0,
           0,
           0,
           0,
           0,
           0,
           0,
           0,
           0,
           0,
           0,
           0,
           0,
           0,
           0,
           0,
           0,
           1,
           0,
           0,
           0,
           0,
           0,
           0,
           0,
           0,
           0,
           0,
           0,
           0,
           0,
           0,
           0,
           0,
           0,
           0,
           0,
           0,
           0,
           0,
           0,
           0,
           0,
           0,
           0,
           0,
           0,
           0,
           0,
           0,
           0,
           0,
           0,
           0,
           0,
           0,
           0,
           0,
           0,
           0,
           0,
           0,
           0,
           0,
           0,
           0,
           0,
           0,
           0,
           0,
           0,
           0,
           0,
           0,
           0,
           0,
           0,
           0,
           0,
           0,
           0,
           0,
           0,
           0,
           0,
           0,
           0,
           0,
           0,
           0,
           0,
           0,
           0,
           0,
           0,
           0,
           0,
           0,
           0,
           0,
           0,
           0,
           0,
           0,
           0,
           0,
           0,
           0,
           0,
           0,
           0,
           0,
           0,
           0,
           0,
           0,
           0,
           0,
           0,
           0,
           0,
           0,
           0,
           0,
           0,
           0,
           0,
           0,
           0,
           0,
           0,
           0,
           0,
           0,
           0,
           0,
           0,
           0,
           0,
           0,
           1,
           0,
           0,
           0,
           0,
           0,
           0,
           0,
           0,
           0,
           0,
           0,
           0,
           0,
           0,
           0,
           0,
           0,
           0,
           0,
           0,
           0,
           0,
           0,
           0,
           0,
           0,
           0,
           0,
           0,
           0,
           0,
           0,
           0,
           1,
           0,
           0,
           0,
           0,
           0,
           0,
           0,
           0,
           0,
           0,
           0,
           0,
           0,
           0
          ],
          "coloraxis": "coloraxis",
          "symbol": "circle"
         },
         "mode": "markers",
         "name": "",
         "scene": "scene",
         "showlegend": false,
         "type": "scatter3d",
         "x": [
          -1.8302061557769775,
          2.697770595550537,
          5.0252861976623535,
          -0.06504356861114502,
          -4.516769886016846,
          -2.224055051803589,
          -0.6438488364219666,
          -0.29805609583854675,
          4.919770240783691,
          -0.8500151038169861,
          -2.8700811862945557,
          -0.6462005972862244,
          1.6696465015411377,
          -2.340834856033325,
          -0.8548921346664429,
          -1.224851369857788,
          3.6415810585021973,
          5.5675530433654785,
          5.931306838989258,
          -1.4741475582122803,
          -3.5329408645629883,
          0.3698191076764014,
          -6.345796585083008,
          -1.0919628143310547,
          3.690528392791748,
          1.3627530336380005,
          0.07186432182788849,
          3.2736403942108154,
          1.9527137279510498,
          -1.3112199306488037,
          -4.088742733001709,
          2.0221993923187256,
          2.2554144859313965,
          -5.272008419036865,
          -3.2977640628814697,
          6.223470687866211,
          4.365694999694824,
          -2.386077404022217,
          -0.32650521057973275,
          5.5718255043029785,
          6.623752593994141,
          -6.267041206359863,
          -5.195164203643799,
          0.021908104419708252,
          1.0486055612564087,
          4.087240695953369,
          -1.9714982509613037,
          3.6565704345703125,
          -4.034675598144531,
          5.844186305999756,
          3.6851541996002197,
          2.4339945316314697,
          -6.974854946136475,
          3.8695919513702393,
          5.734837532043457,
          -6.474402904510498,
          1.345831274986267,
          2.8213913440704346,
          4.065522193908691,
          -3.293762683868408,
          2.1678030490875244,
          0.9969828724861145,
          -2.6737594604492188,
          4.088186740875244,
          -3.2391607761383057,
          -3.781832456588745,
          -3.3964130878448486,
          3.784430503845215,
          -5.390405654907227,
          3.654682159423828,
          -1.171953558921814,
          1.8842201232910156,
          -4.096100330352783,
          1.2837684154510498,
          -4.691496849060059,
          -3.7322187423706055,
          1.3099737167358398,
          4.186837196350098,
          -6.173376083374023,
          4.214570999145508,
          4.013937950134277,
          1.1260939836502075,
          3.792253255844116,
          -6.693353652954102,
          4.041005611419678,
          5.754981994628906,
          -5.760148525238037,
          -4.076086521148682,
          -0.24245113134384155,
          -0.8822883367538452,
          2.106990337371826,
          2.4292166233062744,
          -4.029237270355225,
          2.470395565032959,
          4.790326118469238,
          -5.220147132873535,
          -0.5715943574905396,
          5.175677299499512,
          -1.6104400157928467,
          4.978390693664551,
          -3.2698774337768555,
          -5.740370750427246,
          6.032256603240967,
          -2.0995614528656006,
          2.227588176727295,
          -1.0789220333099365,
          -1.0081759691238403,
          -3.8010222911834717,
          -2.2413039207458496,
          -5.0734968185424805,
          -5.080430030822754,
          4.078682899475098,
          -2.5440120697021484,
          -5.875091075897217,
          2.1694207191467285,
          -1.0621850490570068,
          3.3078622817993164,
          3.45794415473938,
          5.675674915313721,
          -0.7530336863297795,
          -0.8593038320541382,
          -4.061832427978516,
          3.0451178550720215,
          3.727910280227661,
          3.0411200523376465,
          1.6518843173980713,
          -3.523960590362549,
          -5.0625505447387695,
          -5.501347541809082,
          -0.05918087065219879,
          0.25611257553100586,
          5.43204927444458,
          -2.7104532718658447,
          4.703252792358398,
          -2.8872156143188477,
          5.20106315612793,
          3.409552574157715,
          0.6577540636062622,
          4.157514572143555,
          1.934194564819336,
          4.554167747497559,
          1.5869282484054565,
          -0.3003508448600769,
          0.8156130313022965,
          -5.051502704620361,
          3.1097445487976074,
          0.29245150089263916,
          -4.94637393951416,
          0.41074496529010446,
          5.988110542297363,
          5.477695941925049,
          -6.112668514251709,
          5.002731800079346,
          3.957949161529541,
          0.8139755129814148,
          -3.7985117435455322,
          -1.4599562883377075,
          4.901006698608398,
          3.761504888534546,
          -1.4042888879776,
          1.0109394788742065,
          -0.4914707839488983,
          3.3449296951293945,
          0.037508163359199695,
          -2.2787723541259766,
          3.6441211700439453,
          -4.942375183105469,
          0.9660272121558999,
          4.114588737487793,
          -6.050300598144531,
          -1.1866861581802368,
          3.6631031036376953,
          0.1705465316772461,
          -4.809170722961426,
          -3.1163439750671387,
          -2.919257640838623,
          -2.7678232192993164,
          4.841435432434082,
          2.5744729042053223,
          2.8174102306365967,
          0.35546767711639404,
          -6.24742317199707,
          -2.894599676132202,
          5.366111755371094,
          -4.008540153503418,
          4.610083103179932,
          -3.986478805541992,
          0.2875522971153259,
          -3.1111388206481934,
          -0.49332499504089355,
          2.810372829437256,
          -0.3502331984721417,
          5.393484592437744,
          6.618443012237549,
          0.8088052272796631,
          -6.058441638946533,
          1.5851103067398071,
          -3.1839771270751953,
          -1.2535803318023682,
          4.823251247406006,
          5.575944423675537,
          4.942911148071289,
          0.13416099548339844,
          3.5038232803344727,
          4.489089012145996,
          2.9215760231018066,
          -1.1298000812530518,
          2.561774492263794,
          3.1599364280700684,
          -6.285525321960449,
          0.43827733397483826,
          1.4653849601745605,
          -1.681156873703003,
          -1.2924110889434814,
          1.5019553899765015,
          -4.0852885246276855,
          3.3946046829223633,
          -0.07666687667369843,
          -4.70581579208374,
          -4.603346347808838,
          0.2764361798763275,
          4.859543800354004,
          4.865500450134277,
          -3.55220103263855,
          2.8214778900146484,
          5.0744805335998535,
          -0.03729531168937683,
          -1.4073880910873413,
          -3.3833155632019043,
          -3.1063168048858643,
          4.814903259277344,
          5.406686782836914,
          2.323342800140381,
          -0.08663332462310791,
          1.4932820796966553,
          -1.402522087097168,
          -0.7136598825454712,
          6.4262847900390625,
          -5.853111267089844,
          0.21094739437103271,
          -4.703801155090332,
          2.72593092918396,
          -2.9968838691711426,
          -3.600827693939209,
          -2.179210662841797,
          -5.313661575317383,
          -1.0732160806655884,
          -2.626077175140381,
          -4.976777076721191,
          -1.9309875965118408,
          5.45439338684082,
          2.736746072769165,
          5.502448558807373,
          3.058791399002075,
          -0.5526567697525024,
          -0.004887670278549194,
          -2.6973540782928467,
          -1.703937292098999,
          -3.7005374431610107,
          -0.2181549072265625,
          -5.614973068237305,
          4.054380893707275,
          -2.235572576522827,
          1.7410553693771362,
          -5.704936981201172,
          -1.553540587425232,
          -1.6278269290924072,
          1.0259760618209839,
          -0.9833085536956787,
          1.6493005752563477,
          -4.440088748931885,
          1.0387036800384521,
          3.5402143001556396,
          -4.143089294433594,
          4.8347487449646,
          -0.38489375665826914,
          -4.524660110473633,
          3.554363250732422,
          5.028189182281494,
          -2.484466075897217,
          -0.07708740234375,
          1.9941210746765137,
          3.404601573944092,
          -5.6292033195495605,
          -2.176410436630249,
          -5.8399763107299805,
          0.39935895800590515,
          -0.13278406858444214,
          4.821765899658203,
          -1.0734636783599854,
          5.3556365966796875,
          -3.3028464317321777,
          5.176061153411865,
          -4.818539142608643,
          -1.4611287117004395,
          5.836233615875244,
          5.074872970581055,
          -1.159464716911316,
          1.1423040628433228,
          2.456489086151123,
          -0.07316462695598602,
          0.05336892604827881,
          -3.9619498252868652,
          -3.212916612625122,
          1.6563352346420288,
          -0.37608134746551514,
          -3.89731764793396,
          -6.152870178222656,
          3.215337038040161,
          -2.826645612716675,
          -0.9907948970794678,
          1.63677179813385,
          -0.3578270375728607,
          -3.1138546466827393,
          -1.1256585121154785,
          3.8701469898223877,
          0.06992903351783752,
          -4.332478046417236,
          -4.352370262145996,
          2.5918631553649902,
          -2.1365163326263428,
          -0.4080711603164673,
          -0.983609676361084,
          3.809683322906494,
          3.638258695602417,
          -2.4425408840179443,
          4.376412391662598,
          1.1969940662384033,
          -0.0826722725133882,
          -1.8012564182281494,
          -4.928618431091309,
          4.790940761566162,
          -2.454679489135742,
          5.158746719360352,
          3.5202929973602295,
          -2.0096828937530518,
          -1.194350242614746,
          -4.5940680503845215,
          -0.14511175453662872,
          0.19538366794586182,
          3.834897518157959,
          -5.897093296051025,
          -0.5181771516799927,
          6.0768046379089355,
          -3.576526165008545,
          0.24447192251682281,
          1.6733661890029907,
          2.6668877601623535,
          6.106139659881592,
          -3.897002696990967,
          -1.0738147497177124,
          -5.914385795593262,
          3.699331283569336,
          4.960648536682129,
          -1.1443535089492798,
          -4.759715557098389,
          -1.663412094116211,
          4.416750907897949,
          -4.399914741516113,
          -4.694869041442871,
          2.1845109462738037,
          5.155094146728516,
          -0.8608763813972473,
          -5.705840587615967,
          3.4903223514556885,
          1.981542706489563,
          -4.452606201171875,
          3.1351568698883057,
          -2.9472298622131348,
          -0.6644937992095947,
          4.282462120056152,
          -1.9632819890975952,
          3.585024356842041,
          0.17922735214233398,
          4.892978668212891,
          -3.2356529235839844,
          -0.09991312026977539,
          1.109483003616333,
          -2.7815182209014893,
          4.142232418060303,
          4.102524280548096,
          -1.078607201576233,
          -1.7578752040863037,
          6.207512855529785,
          -2.923887252807617,
          -1.0095818042755127,
          -3.3124611377716064,
          2.1531410217285156,
          -5.214377403259277,
          -0.8703728318214417,
          -0.9003221988677979,
          6.492943286895752,
          -5.122175693511963,
          3.571053981781006,
          -3.1548614501953125,
          -2.1303467750549316,
          3.6678969860076904,
          0.38894903659820557,
          -0.013555705547332764,
          4.165651321411133,
          -4.140247344970703,
          -2.093203067779541,
          -6.757882118225098,
          -2.3290109634399414,
          2.2207584381103516,
          4.028401851654053,
          3.549316644668579,
          3.4403860569000244,
          -5.866071701049805,
          -4.614856243133545,
          -6.08885383605957,
          5.739833354949951,
          -1.7770506143569946,
          -3.2763986587524414,
          4.350549221038818,
          -4.23201322555542,
          -3.360503673553467,
          -6.023797988891602,
          -5.671225070953369,
          -5.388835906982422,
          -1.5224334001541138,
          6.292854309082031,
          3.1829934120178223,
          5.566491603851318,
          -2.525986671447754,
          1.8405407667160034,
          3.028074026107788,
          -5.805521488189697,
          3.747051477432251,
          -1.931460976600647,
          4.710781574249268,
          1.2121273279190063,
          1.80324387550354,
          -3.4871387481689453,
          -3.352233648300171,
          0.6848573684692383,
          5.13765811920166,
          1.949546456336975,
          -6.254596710205078,
          -5.235963344573975,
          -5.19523286819458,
          -1.2546793222427368,
          0.3103795051574707,
          -2.903592109680176,
          -1.6939204931259155,
          -0.8118332624435425,
          -0.7542012929916382,
          -3.162809133529663,
          -0.9525771141052246,
          -1.0179214477539062,
          4.337795257568359,
          0.09684316842513761,
          -4.352913856506348,
          6.766419887542725,
          4.243410110473633,
          5.630890369415283,
          -1.1942782402038574,
          4.021146297454834,
          -0.8292295336723328,
          -1.2883014678955078,
          2.050898313522339,
          3.806295394897461,
          -4.860368728637695,
          0.2766810953617096,
          3.2234973907470703,
          3.873605251312256,
          4.033896446228027,
          -0.8181641101837158,
          0.5312953591346741,
          1.953142762184143,
          4.1469902992248535,
          -2.6588549613952637,
          -6.197077751159668,
          4.164945602416992,
          -0.5010210871696472,
          0.28810396790504456,
          2.7052063941955566,
          5.711733341217041,
          6.404506206512451,
          -4.147042274475098,
          -1.0088515281677246,
          -1.615316390991211,
          4.427355766296387,
          3.7516660690307617,
          -6.133929252624512,
          -0.5767312524661711,
          -2.74544095993042,
          -3.979863405227661,
          -0.9709776043891907,
          -4.043633937835693,
          5.127835273742676,
          -0.29194241762161255,
          -1.106072187423706,
          1.1297111511230469,
          -4.885093688964844,
          0.4458681344985962,
          -4.414345741271973,
          -4.762887001037598,
          -1.2026023864746094,
          -0.9081502556800842
         ],
         "y": [
          5.50040340423584,
          -4.613045692443848,
          1.8381884098052979,
          -1.3941845893859863,
          2.6818132400512695,
          5.359634876251221,
          0.7760865688323975,
          -3.739504814147949,
          -1.7194979190826416,
          -3.5236573219299316,
          -6.187832832336426,
          -0.0905916690826416,
          -4.747957229614258,
          -0.20460957288742065,
          -4.120943069458008,
          -1.3280847072601318,
          0.02835579216480255,
          -0.978918731212616,
          -4.063347339630127,
          3.621384620666504,
          -1.5124619007110596,
          -1.1480595862252398,
          -3.1513752937316895,
          1.377482533454895,
          -0.08396332710981369,
          0.7823779582977295,
          -1.593183994293213,
          5.579952716827393,
          -5.118330001831055,
          1.8981070518493652,
          4.873051166534424,
          -6.529160499572754,
          0.49182119965553284,
          2.217806816101074,
          3.804588556289673,
          1.7631547451019287,
          3.3278961181640625,
          1.3280967473983765,
          -0.43338579476708755,
          -5.613631725311279,
          -4.225361347198486,
          -4.819775581359863,
          -5.191417217254639,
          1.901658535003662,
          -0.7972354292869568,
          1.106715202331543,
          -0.8901551365852356,
          -0.5053423643112183,
          1.158707618713379,
          -0.9921665191650391,
          0.6788104176521301,
          6.322904586791992,
          3.7234039306640625,
          -1.8389246463775635,
          -0.9400530457496643,
          5.882357120513916,
          -4.726939678192139,
          -4.070633888244629,
          0.9039037227630615,
          -0.27522557973861694,
          2.9416210651397705,
          -4.411125659942627,
          -0.0016295015811920166,
          -3.2903952598571777,
          -0.5959722995758057,
          2.0003950595855713,
          -3.4274497032165527,
          -5.921546936035156,
          1.6438965797424316,
          4.16907262802124,
          2.602476119995117,
          2.620950698852539,
          -6.12602424621582,
          0.28535908460617065,
          -4.38366174697876,
          5.517289638519287,
          2.5765936374664307,
          -4.3499603271484375,
          -0.6672036051750183,
          3.635226249694824,
          3.145453929901123,
          -0.5329681038856506,
          -4.010161399841309,
          3.401280164718628,
          -2.000540018081665,
          3.796189785003662,
          -0.16070973873138428,
          -2.8255774974823,
          -5.657261848449707,
          5.851385593414307,
          -3.2021000385284424,
          -3.6814863681793213,
          5.91247034072876,
          -5.064717769622803,
          -6.156385898590088,
          -4.276088237762451,
          -3.1128218173980713,
          -1.6010127067565918,
          -0.10374552011489868,
          1.4281134605407715,
          -3.8257830142974854,
          -2.4549238681793213,
          0.600430965423584,
          -0.19573795795440674,
          1.160536289215088,
          -3.5332579612731934,
          4.856937885284424,
          0.4138014018535614,
          0.3079448938369751,
          3.08308744430542,
          -4.422146320343018,
          5.067348957061768,
          3.7147469520568848,
          0.6525273323059082,
          -3.1361327171325684,
          0.26489487290382385,
          -1.212188482284546,
          0.8670203685760498,
          3.6923508644104004,
          0.23930010108634583,
          -1.2480707168579102,
          2.924680471420288,
          4.935635089874268,
          -4.945166110992432,
          -2.8748719692230225,
          0.9258948564529419,
          2.852229595184326,
          2.128708839416504,
          -5.660912036895752,
          1.199108362197876,
          -1.9420418739318848,
          2.0852162837982178,
          -3.49573016166687,
          5.132119178771973,
          -1.4796621799468994,
          4.473031520843506,
          -0.924505889415741,
          4.720012187957764,
          -6.172180652618408,
          2.4193410873413086,
          -4.294704914093018,
          -6.008727073669434,
          6.434565544128418,
          0.021502119981051487,
          1.0867784023284912,
          -2.108381986618042,
          -2.1030561923980713,
          1.1805734634399414,
          0.302099760249749,
          4.806695938110352,
          -3.1039304733276367,
          5.642099380493164,
          2.772526741027832,
          -0.29602232575416565,
          -1.8085986375808716,
          5.947681903839111,
          -5.6161932945251465,
          1.338813066482544,
          -3.686958074569702,
          3.5123355388641357,
          -4.115673542022705,
          6.385063171386719,
          -2.800389051437378,
          -0.07244852209074078,
          3.064164638519287,
          0.6823040246963501,
          1.5364370346069336,
          -1.417661398782203,
          0.27215632796287537,
          1.4588202238082886,
          5.42361307144165,
          -4.170774936676025,
          5.405364990234375,
          5.086098670959473,
          4.162792682647705,
          7.285053730010986,
          -5.427304744720459,
          -1.437902569770813,
          -0.26521241664886475,
          1.0007905960083008,
          -6.310447692871094,
          -3.2645955085754395,
          -0.17204344272613525,
          3.8736159801483154,
          -1.3184479475021362,
          4.73227071762085,
          5.826550483703613,
          -1.1073588132858276,
          2.8390142917633057,
          0.34744876623153687,
          1.8756768703460693,
          -0.01655731824833393,
          -2.0426859855651855,
          4.071732521057129,
          -5.642628192901611,
          -5.909767150878906,
          -2.135308265686035,
          -1.1816935539245605,
          1.2561547756195068,
          -6.2222208976745605,
          -0.09558099508285522,
          -2.614875316619873,
          6.0231781005859375,
          -2.4883601665496826,
          6.421618938446045,
          -4.666114330291748,
          -5.45651388168335,
          -3.2412500381469727,
          3.2921180725097656,
          1.436974287033081,
          3.2310516834259033,
          -4.757679462432861,
          -5.846068382263184,
          1.9034087657928467,
          3.711434841156006,
          1.044060230255127,
          -4.868498802185059,
          -5.490263938903809,
          1.8856010437011719,
          4.796716213226318,
          -2.6817626953125,
          6.530137062072754,
          -2.305497169494629,
          -5.860995292663574,
          -3.786743640899658,
          -3.6863129138946533,
          -1.6914424896240234,
          4.193216323852539,
          -3.6066336631774902,
          -5.415309429168701,
          -2.011049747467041,
          6.153846263885498,
          -6.550609588623047,
          -5.0062408447265625,
          5.247848033905029,
          0.4990108907222748,
          0.8081672787666321,
          1.879205584526062,
          -4.880053997039795,
          -1.7840224504470825,
          -4.99050235748291,
          -1.5437266826629639,
          3.259655237197876,
          4.437075614929199,
          0.7223182916641235,
          -0.9379454255104065,
          -1.5186681747436523,
          -0.01091165840625763,
          -3.348231315612793,
          5.923186302185059,
          -1.7919878959655762,
          -0.05370068550109863,
          -1.6057826280593872,
          -1.8136311769485474,
          3.518254041671753,
          0.6250548362731934,
          -5.423737525939941,
          -5.335544586181641,
          5.455223083496094,
          -4.119645118713379,
          0.6110324263572693,
          6.088934421539307,
          4.237651348114014,
          -3.1098601818084717,
          3.190497398376465,
          0.39442312717437744,
          4.985060691833496,
          3.76143741607666,
          -5.2730326652526855,
          -3.8874409198760986,
          -3.4673752784729004,
          1.8266184329986572,
          1.5670428276062012,
          -3.4496312141418457,
          3.0481114387512207,
          -0.5624636097285085,
          -1.2813173532485962,
          -3.576406955718994,
          -2.5485422611236572,
          -1.6488107442855835,
          -6.139739513397217,
          1.534726619720459,
          -3.052537441253662,
          6.816903591156006,
          -5.644351005554199,
          -0.40289103984832764,
          -6.534782409667969,
          -5.832172393798828,
          4.905026912689209,
          0.8812649250030518,
          0.9766846299171448,
          -1.697263240814209,
          2.065582752227783,
          4.2401885986328125,
          2.2942428588867188,
          -2.469658613204956,
          5.93267822265625,
          4.257917404174805,
          4.004128456115723,
          5.478543281555176,
          0.8344241976737976,
          5.273679733276367,
          0.2917875647544861,
          2.5560145378112793,
          -1.828223705291748,
          -4.6486897468566895,
          -6.564499378204346,
          5.7269182205200195,
          3.392503261566162,
          -4.603776931762695,
          -5.6950297355651855,
          -6.056166172027588,
          2.113724946975708,
          3.684019088745117,
          2.905062675476074,
          4.736968994140625,
          -3.4140682220458984,
          -2.590351104736328,
          -5.193937301635742,
          -2.7276346683502197,
          4.0569539070129395,
          1.136012315750122,
          3.2903048992156982,
          -0.07438499480485916,
          -4.7077860832214355,
          -3.157742500305176,
          3.2258100509643555,
          5.520547866821289,
          0.8509519156344607,
          5.868474006652832,
          -3.5450639724731445,
          -2.788383960723877,
          5.665089130401611,
          3.8058574199676514,
          -5.828749179840088,
          2.9773313999176025,
          4.660273551940918,
          2.454688787460327,
          4.841396808624268,
          -0.9072815775871277,
          -1.6277457475662231,
          -1.6245813369750977,
          -2.6650779247283936,
          -0.5464198589324951,
          -4.741522789001465,
          -3.1356120109558105,
          -1.3654029369354248,
          4.9911017417907715,
          -6.703016757965088,
          -4.708307266235352,
          5.773062229156494,
          -5.095940113067627,
          -3.9450697898864746,
          -4.097570896148682,
          -1.66097092628479,
          4.93930196762085,
          6.563656330108643,
          2.5569589138031006,
          -0.5798152089118958,
          -2.8823060989379883,
          5.685503959655762,
          -0.273459255695343,
          3.0853192806243896,
          -0.5887550115585327,
          -2.745586395263672,
          1.1055545806884766,
          1.0253474712371826,
          -4.6802263259887695,
          -4.981212615966797,
          3.20988130569458,
          -3.5959603786468506,
          -1.4553924798965454,
          4.067033290863037,
          3.9294934272766113,
          -4.276849746704102,
          5.59696102142334,
          1.0939818620681763,
          4.331305027008057,
          5.712700843811035,
          -3.7690975666046143,
          -4.967363357543945,
          0.5202891826629639,
          -5.741407871246338,
          -3.5739855766296387,
          0.6966236233711243,
          -0.19002428650856018,
          1.430530309677124,
          6.140689849853516,
          5.173606872558594,
          5.061792373657227,
          -5.267204761505127,
          5.17062520980835,
          5.128698825836182,
          5.791714668273926,
          -1.730424165725708,
          -3.598794460296631,
          1.3852373361587524,
          -1.9106829166412354,
          5.586236476898193,
          -1.6817699670791626,
          -5.258735179901123,
          4.404701232910156,
          -0.0076413750648498535,
          2.6866910457611084,
          -3.3285982608795166,
          1.744783878326416,
          -2.370483875274658,
          -0.2613130807876587,
          -1.3010401725769043,
          -0.4941839575767517,
          -5.417855262756348,
          5.5324931144714355,
          1.7420860528945923,
          4.840543746948242,
          -4.118229866027832,
          -3.2004644870758057,
          3.0579116344451904,
          4.513619899749756,
          3.0069363117218018,
          2.958921432495117,
          -0.520889163017273,
          5.675433158874512,
          -3.6126136779785156,
          3.6103832721710205,
          2.7659149169921875,
          2.4979143142700195,
          3.2351086139678955,
          1.9338266849517822,
          -1.8982312679290771,
          0.5796347856521606,
          6.150751113891602,
          6.295651912689209,
          -1.0749351978302002,
          2.7502379417419434,
          -4.040759086608887,
          -3.771690607070923,
          2.4822006225585938,
          -1.8563194274902344,
          -2.956885814666748,
          3.5655739307403564,
          5.815226078033447,
          -0.6070561408996582,
          -3.419715404510498,
          5.120818138122559,
          -3.3281681537628174,
          2.8123269081115723,
          2.1200146675109863,
          5.962791919708252,
          -0.11605444550514221,
          1.8697127103805542,
          4.9926252365112305,
          -0.7464953512007709,
          -4.908170700073242,
          6.8671746253967285,
          5.080573558807373,
          -2.3103551864624023,
          -5.797337532043457,
          -4.276661396026611,
          2.026341438293457,
          4.9096574783325195,
          -0.1356138288974762,
          3.7483630180358887,
          -3.3869094848632812,
          -0.5398098826408386,
          -4.4031829833984375,
          -2.6578259468078613,
          -1.024857521057129,
          -1.8343697786331177,
          1.873922348022461,
          0.4401558041572571,
          4.179914951324463,
          -5.812569618225098,
          -4.813148021697998,
          5.151226997375488,
          5.069921970367432,
          4.194730758666992,
          0.3121665418148041,
          -1.4308617115020752,
          -4.0435895919799805,
          3.4587416648864746,
          0.34912562370300293,
          -0.243321031332016,
          -1.8091200590133667,
          -3.6725199222564697,
          3.0786681175231934,
          -0.30685137830178877,
          0.9072800278663635,
          4.795373916625977,
          6.342538356781006,
          1.9296603202819824,
          0.06698015332221985,
          4.084238052368164,
          0.8423222899436951,
          -1.4212160110473633,
          -5.27892541885376,
          -1.4506717920303345,
          -4.150846004486084,
          -3.394700288772583,
          -3.729929208755493,
          -2.9463958740234375
         ],
         "z": [
          0.772095799446106,
          1.6423382759094238,
          1.826333999633789,
          -0.02632838487625122,
          0.6571922302246094,
          2.0416204929351807,
          -0.05712920427322388,
          -1.8539687395095825,
          -0.003516644239425659,
          -1.5521959066390991,
          2.927431344985962,
          1.404219627380371,
          0.6520736217498779,
          -1.6437277793884277,
          -0.22886545956134796,
          -1.7357122898101807,
          -1.0953408479690552,
          0.9292702674865723,
          1.0250691175460815,
          -2.485140323638916,
          -0.9133007526397705,
          -2.3422287271341533,
          1.6844974756240845,
          0.5353119969367981,
          -2.099817991256714,
          -0.09358914941549301,
          -0.31846240162849426,
          1.7369304895401,
          1.4353939294815063,
          -2.251906394958496,
          2.4214699268341064,
          1.9969112873077393,
          -1.6065192222595215,
          1.0852365493774414,
          1.1793663501739502,
          2.1637887954711914,
          2.365572690963745,
          -2.158367156982422,
          -1.663939191661652,
          -0.6206726431846619,
          1.8781243562698364,
          -0.4976491332054138,
          0.4378381669521332,
          -2.0270133018493652,
          -1.0761802196502686,
          -2.199469804763794,
          -0.24494124948978424,
          -1.2109835147857666,
          0.13494399189949036,
          2.0954837799072266,
          -2.872743844985962,
          2.0332252979278564,
          1.1732823848724365,
          -0.10122227668762207,
          1.9815374612808228,
          -1.2011823654174805,
          -0.9741418957710266,
          1.1882798671722412,
          -0.14015153050422668,
          -1.5339241027832031,
          -1.7484043836593628,
          -0.6625343561172485,
          -1.5827730894088745,
          1.457560420036316,
          -1.7106021642684937,
          0.16624464094638824,
          0.3633629381656647,
          1.2465615272521973,
          1.335037112236023,
          0.47443950176239014,
          -1.8943768739700317,
          -2.2632884979248047,
          2.8788247108459473,
          0.7253952622413635,
          1.6380385160446167,
          1.6479291915893555,
          -0.7873775959014893,
          0.5997130870819092,
          1.3753437995910645,
          0.3344343602657318,
          0.6258631348609924,
          0.6540696024894714,
          0.77016282081604,
          2.6986489295959473,
          -1.4142472743988037,
          1.8563389778137207,
          1.7779154777526855,
          0.35385382175445557,
          1.3540995121002197,
          1.880541443824768,
          -1.4265384674072266,
          -1.4390602111816406,
          0.6331833004951477,
          1.9085667133331299,
          1.7564277648925781,
          2.3334548473358154,
          -2.669886827468872,
          0.8696513175964355,
          0.02761662006378174,
          1.5194742679595947,
          0.752471923828125,
          2.5269532203674316,
          1.1577258110046387,
          -1.8032559156417847,
          -0.31050223112106323,
          -2.1905791759490967,
          0.7756483554840088,
          1.511181354522705,
          -0.16965031623840332,
          1.3606469631195068,
          0.5437493920326233,
          1.1404807567596436,
          0.48190683126449585,
          2.3369367122650146,
          -1.9551857709884644,
          0.10098320245742798,
          -1.9772197008132935,
          -1.8459337949752808,
          2.5611300468444824,
          -1.7113947786675867,
          -1.0798993110656738,
          0.531989574432373,
          1.6055923700332642,
          1.0350518226623535,
          -0.771351158618927,
          0.6699539422988892,
          0.8654409646987915,
          0.22025704383850098,
          -1.1680734157562256,
          -0.061876118183135986,
          -0.5839651226997375,
          0.5276892185211182,
          -1.1208579540252686,
          1.8593924045562744,
          -2.2638118267059326,
          0.749982476234436,
          -2.761392593383789,
          0.38698309659957886,
          0.5637199878692627,
          -1.9133177995681763,
          2.093273162841797,
          2.794851303100586,
          2.4757261276245117,
          -1.3167867603211505,
          1.231980562210083,
          -0.8805873990058899,
          -1.360618233680725,
          1.1282336711883545,
          -2.070216351345534,
          0.8990297317504883,
          1.877105712890625,
          0.16222143173217773,
          1.2347755432128906,
          -1.2883670330047607,
          -0.36514055728912354,
          2.1614019870758057,
          1.0687975883483887,
          0.5859311819076538,
          0.4042462706565857,
          -1.3477808237075806,
          -1.619026780128479,
          1.1017426252365112,
          -1.3924267292022705,
          -1.599888240439764,
          -2.1370081901550293,
          -1.6895596981048584,
          1.998565912246704,
          -1.9116263386073689,
          1.3212487697601318,
          1.48935067653656,
          1.7351560592651367,
          1.4141342639923096,
          -0.002209186553955078,
          1.4832077026367188,
          0.30639535188674927,
          1.296356439590454,
          1.3723108768463135,
          1.0822194814682007,
          -2.161195755004883,
          -0.9245200753211975,
          1.3219263553619385,
          1.9193520545959473,
          -2.144261121749878,
          2.582030773162842,
          0.9911096692085266,
          1.7877404689788818,
          1.228668451309204,
          0.4754553437232971,
          -1.2721312046051025,
          0.8229790925979614,
          -1.7201515436172485,
          -2.461721644410612,
          0.490750789642334,
          0.4279473125934601,
          1.7155038118362427,
          -0.5050560235977173,
          -1.3268134593963623,
          -1.6887669563293457,
          -1.2843199968338013,
          0.01194104552268982,
          2.0536391735076904,
          1.2605494260787964,
          2.4128258228302,
          -0.3154506981372833,
          1.9271974563598633,
          0.853765606880188,
          2.0045065879821777,
          -1.027766227722168,
          1.3360130786895752,
          1.3052432537078857,
          -0.24618211388587952,
          -0.4388072192668915,
          2.0400516986846924,
          -0.9445363879203796,
          -1.3092825412750244,
          -0.157136470079422,
          1.2256464958190918,
          -0.04011739045381546,
          1.6615331172943115,
          2.329038143157959,
          -0.8893341422080994,
          0.1619335412979126,
          0.8680267333984375,
          1.1248140335083008,
          2.0741689205169678,
          1.9286150932312012,
          0.5966892838478088,
          -0.3702879548072815,
          -0.21470075845718384,
          1.5807569026947021,
          0.1283397376537323,
          0.6222002506256104,
          2.586306095123291,
          0.7890543937683105,
          0.7285324335098267,
          1.4088383913040161,
          -0.8538650274276733,
          2.6367194652557373,
          0.22345098853111267,
          0.07890331745147705,
          2.4955432415008545,
          -1.3775198459625244,
          -0.19354571402072906,
          2.8832359313964844,
          -2.0847082138061523,
          2.004636526107788,
          -1.5305304527282715,
          -0.984437108039856,
          2.5646586418151855,
          1.400349736213684,
          -0.8937945365905762,
          -1.6304007768630981,
          1.3132257461547852,
          -2.9295616149902344,
          -2.228816032409668,
          1.1719375848770142,
          1.601813793182373,
          2.274134874343872,
          1.1616125106811523,
          -1.095711588859558,
          -0.5001609921455383,
          1.332757592201233,
          -2.105752468109131,
          -1.2455512285232544,
          1.178539752960205,
          1.3217558860778809,
          -0.14514267444610596,
          -1.4756107330322266,
          0.9113984107971191,
          -2.4745113849639893,
          1.8773057460784912,
          -1.321925163269043,
          -1.0196120738983154,
          -1.1146796941757202,
          1.7596896886825562,
          -1.5390009223413152,
          1.232062816619873,
          0.9310597777366638,
          1.5466039180755615,
          -1.7952475547790527,
          2.460683822631836,
          -1.1244220733642578,
          1.6846997737884521,
          -0.6460661292076111,
          2.246105909347534,
          1.0907974243164062,
          1.5927678346633911,
          1.3640859127044678,
          1.6018528938293457,
          0.8410156965255737,
          1.3880960941314697,
          -3.0435714721679688,
          1.8894057273864746,
          -0.4132775664329529,
          -1.6499847173690796,
          1.6976441144943237,
          -0.8522717952728271,
          -1.1361761093139648,
          0.2623899281024933,
          1.1435725688934326,
          1.5714786052703857,
          0.5107918381690979,
          -1.9148145914077759,
          -1.325676679611206,
          -0.09358394145965576,
          0.843483567237854,
          1.1069252490997314,
          -0.6311636567115784,
          0.9716732501983643,
          0.26701366901397705,
          1.2697935104370117,
          1.8416029214859009,
          -0.020236968994140625,
          0.7332684397697449,
          -2.3773674964904785,
          1.701432704925537,
          -1.0460762977600098,
          0.8975467681884766,
          2.2984089851379395,
          -1.6907007694244385,
          -0.10698956251144409,
          -0.5347136855125427,
          -2.1474928855895996,
          -2.4499599933624268,
          1.732089638710022,
          -1.127251386642456,
          1.3034497499465942,
          2.013580322265625,
          -2.1392687026318944,
          1.9150886535644531,
          0.422283411026001,
          1.099865198135376,
          2.0370631217956543,
          0.8711615800857544,
          1.025658130645752,
          -2.2710671424865723,
          1.0825109481811523,
          0.2550753653049469,
          2.1065101623535156,
          -0.20392724871635437,
          -1.9235366582870483,
          2.3103976249694824,
          -2.2640669345855713,
          1.6911293268203735,
          1.846301794052124,
          -2.0784714221954346,
          -1.691063404083252,
          1.9637651443481445,
          -0.44837629795074463,
          2.44455623626709,
          1.9634346961975098,
          -0.0740288645029068,
          2.3516833782196045,
          1.3723857402801514,
          -0.690168023109436,
          1.0751792192459106,
          1.4143407344818115,
          0.6799805164337158,
          -2.2839035987854004,
          2.285815954208374,
          0.7556902170181274,
          2.0630412101745605,
          -2.8842878341674805,
          1.9161288738250732,
          -1.3194788694381714,
          0.35650718212127686,
          0.79933762550354,
          -0.02736079692840576,
          2.2012834548950195,
          -1.4140743017196655,
          0.9008309841156006,
          -2.193946361541748,
          1.4665337800979614,
          -2.4484777450561523,
          2.504380226135254,
          1.9465712308883667,
          0.5050668716430664,
          -0.09992527961730957,
          1.652292251586914,
          1.10770583152771,
          0.02160106599330902,
          0.1961376667022705,
          1.8188353776931763,
          1.8278112411499023,
          -1.6405103206634521,
          0.8295719623565674,
          -2.325918197631836,
          2.3632946014404297,
          0.5395076870918274,
          1.7461278438568115,
          0.9681914448738098,
          0.8713009357452393,
          1.771269679069519,
          1.6555122137069702,
          -1.8400477170944214,
          -0.6794261932373047,
          -1.2188562154769897,
          1.0288783311843872,
          1.53404700756073,
          0.6727320551872253,
          1.0083637237548828,
          2.421046257019043,
          2.4715828895568848,
          -1.5992625951766968,
          -2.6740307807922363,
          -0.21173405647277832,
          -0.6708370447158813,
          -0.9870315790176392,
          2.0623762607574463,
          -1.9030135869979858,
          2.000640392303467,
          0.34937405586242676,
          -1.084937572479248,
          1.4378795623779297,
          1.5333292484283447,
          -0.19326171278953552,
          -1.2186686992645264,
          1.8761234283447266,
          1.713662028312683,
          1.6879220008850098,
          0.7857924699783325,
          -1.4977940320968628,
          1.1022281646728516,
          1.4881435632705688,
          -2.644455671310425,
          -1.2970833778381348,
          -0.2477758824825287,
          1.5850276947021484,
          0.25318461656570435,
          -1.4673229455947876,
          2.3503284454345703,
          2.0143513679504395,
          0.13891327381134033,
          -0.7672043442726135,
          0.6135146021842957,
          -0.9495916366577148,
          0.2785446345806122,
          -2.1683459281921387,
          1.9386388063430786,
          1.5450488328933716,
          1.8479983806610107,
          1.1636141538619995,
          -0.4882597327232361,
          1.302993893623352,
          -1.3591662645339966,
          -2.148876428604126,
          -0.7252812385559082,
          1.8486071825027466,
          2.113619327545166,
          -1.2910923957824707,
          2.102466344833374,
          -3.3084298432860924,
          1.7427012920379639,
          -1.4402172565460205,
          1.449453592300415,
          2.057046413421631,
          1.3041731119155884,
          1.4673500061035156,
          -0.6572526097297668,
          0.5051494240760803,
          0.2904638648033142,
          2.025303840637207,
          1.9569220542907715,
          3.045278549194336,
          2.0243875980377197,
          0.5265876054763794,
          -1.1732993125915527,
          -0.6622532606124878,
          -0.33341026306152344,
          -0.6597849130630493,
          0.8399651646614075,
          1.4745181798934937,
          -1.5043368339538574,
          0.8381762504577637,
          1.2742583751678467,
          -1.048126220703125,
          -1.0227000713348389,
          1.9293615818023682,
          0.47136104106903076,
          0.09001868963241577,
          1.5855586528778076,
          0.5053695440292358,
          0.6321297287940979,
          -1.183866262435913,
          1.6987330913543701,
          -2.299180735078021,
          -0.15788212418556213,
          1.9869716167449951,
          2.001580238342285,
          -0.06617939472198486,
          1.4128602743148804,
          -1.9693573713302612,
          2.2338201999664307,
          -0.47200244665145874,
          1.0170600414276123,
          0.881579577922821,
          1.9481706619262695,
          2.2035791873931885,
          -0.1301403045654297,
          -1.5285619497299194
         ]
        }
       ],
       "layout": {
        "coloraxis": {
         "colorbar": {
          "title": {
           "text": "color"
          }
         },
         "colorscale": [
          [
           0,
           "#0d0887"
          ],
          [
           0.1111111111111111,
           "#46039f"
          ],
          [
           0.2222222222222222,
           "#7201a8"
          ],
          [
           0.3333333333333333,
           "#9c179e"
          ],
          [
           0.4444444444444444,
           "#bd3786"
          ],
          [
           0.5555555555555556,
           "#d8576b"
          ],
          [
           0.6666666666666666,
           "#ed7953"
          ],
          [
           0.7777777777777778,
           "#fb9f3a"
          ],
          [
           0.8888888888888888,
           "#fdca26"
          ],
          [
           1,
           "#f0f921"
          ]
         ]
        },
        "legend": {
         "tracegroupgap": 0
        },
        "margin": {
         "t": 60
        },
        "scene": {
         "domain": {
          "x": [
           0,
           1
          ],
          "y": [
           0,
           1
          ]
         },
         "xaxis": {
          "title": {
           "text": "x"
          }
         },
         "yaxis": {
          "title": {
           "text": "y"
          }
         },
         "zaxis": {
          "title": {
           "text": "z"
          }
         }
        },
        "template": {
         "data": {
          "bar": [
           {
            "error_x": {
             "color": "#2a3f5f"
            },
            "error_y": {
             "color": "#2a3f5f"
            },
            "marker": {
             "line": {
              "color": "#E5ECF6",
              "width": 0.5
             },
             "pattern": {
              "fillmode": "overlay",
              "size": 10,
              "solidity": 0.2
             }
            },
            "type": "bar"
           }
          ],
          "barpolar": [
           {
            "marker": {
             "line": {
              "color": "#E5ECF6",
              "width": 0.5
             },
             "pattern": {
              "fillmode": "overlay",
              "size": 10,
              "solidity": 0.2
             }
            },
            "type": "barpolar"
           }
          ],
          "carpet": [
           {
            "aaxis": {
             "endlinecolor": "#2a3f5f",
             "gridcolor": "white",
             "linecolor": "white",
             "minorgridcolor": "white",
             "startlinecolor": "#2a3f5f"
            },
            "baxis": {
             "endlinecolor": "#2a3f5f",
             "gridcolor": "white",
             "linecolor": "white",
             "minorgridcolor": "white",
             "startlinecolor": "#2a3f5f"
            },
            "type": "carpet"
           }
          ],
          "choropleth": [
           {
            "colorbar": {
             "outlinewidth": 0,
             "ticks": ""
            },
            "type": "choropleth"
           }
          ],
          "contour": [
           {
            "colorbar": {
             "outlinewidth": 0,
             "ticks": ""
            },
            "colorscale": [
             [
              0,
              "#0d0887"
             ],
             [
              0.1111111111111111,
              "#46039f"
             ],
             [
              0.2222222222222222,
              "#7201a8"
             ],
             [
              0.3333333333333333,
              "#9c179e"
             ],
             [
              0.4444444444444444,
              "#bd3786"
             ],
             [
              0.5555555555555556,
              "#d8576b"
             ],
             [
              0.6666666666666666,
              "#ed7953"
             ],
             [
              0.7777777777777778,
              "#fb9f3a"
             ],
             [
              0.8888888888888888,
              "#fdca26"
             ],
             [
              1,
              "#f0f921"
             ]
            ],
            "type": "contour"
           }
          ],
          "contourcarpet": [
           {
            "colorbar": {
             "outlinewidth": 0,
             "ticks": ""
            },
            "type": "contourcarpet"
           }
          ],
          "heatmap": [
           {
            "colorbar": {
             "outlinewidth": 0,
             "ticks": ""
            },
            "colorscale": [
             [
              0,
              "#0d0887"
             ],
             [
              0.1111111111111111,
              "#46039f"
             ],
             [
              0.2222222222222222,
              "#7201a8"
             ],
             [
              0.3333333333333333,
              "#9c179e"
             ],
             [
              0.4444444444444444,
              "#bd3786"
             ],
             [
              0.5555555555555556,
              "#d8576b"
             ],
             [
              0.6666666666666666,
              "#ed7953"
             ],
             [
              0.7777777777777778,
              "#fb9f3a"
             ],
             [
              0.8888888888888888,
              "#fdca26"
             ],
             [
              1,
              "#f0f921"
             ]
            ],
            "type": "heatmap"
           }
          ],
          "heatmapgl": [
           {
            "colorbar": {
             "outlinewidth": 0,
             "ticks": ""
            },
            "colorscale": [
             [
              0,
              "#0d0887"
             ],
             [
              0.1111111111111111,
              "#46039f"
             ],
             [
              0.2222222222222222,
              "#7201a8"
             ],
             [
              0.3333333333333333,
              "#9c179e"
             ],
             [
              0.4444444444444444,
              "#bd3786"
             ],
             [
              0.5555555555555556,
              "#d8576b"
             ],
             [
              0.6666666666666666,
              "#ed7953"
             ],
             [
              0.7777777777777778,
              "#fb9f3a"
             ],
             [
              0.8888888888888888,
              "#fdca26"
             ],
             [
              1,
              "#f0f921"
             ]
            ],
            "type": "heatmapgl"
           }
          ],
          "histogram": [
           {
            "marker": {
             "pattern": {
              "fillmode": "overlay",
              "size": 10,
              "solidity": 0.2
             }
            },
            "type": "histogram"
           }
          ],
          "histogram2d": [
           {
            "colorbar": {
             "outlinewidth": 0,
             "ticks": ""
            },
            "colorscale": [
             [
              0,
              "#0d0887"
             ],
             [
              0.1111111111111111,
              "#46039f"
             ],
             [
              0.2222222222222222,
              "#7201a8"
             ],
             [
              0.3333333333333333,
              "#9c179e"
             ],
             [
              0.4444444444444444,
              "#bd3786"
             ],
             [
              0.5555555555555556,
              "#d8576b"
             ],
             [
              0.6666666666666666,
              "#ed7953"
             ],
             [
              0.7777777777777778,
              "#fb9f3a"
             ],
             [
              0.8888888888888888,
              "#fdca26"
             ],
             [
              1,
              "#f0f921"
             ]
            ],
            "type": "histogram2d"
           }
          ],
          "histogram2dcontour": [
           {
            "colorbar": {
             "outlinewidth": 0,
             "ticks": ""
            },
            "colorscale": [
             [
              0,
              "#0d0887"
             ],
             [
              0.1111111111111111,
              "#46039f"
             ],
             [
              0.2222222222222222,
              "#7201a8"
             ],
             [
              0.3333333333333333,
              "#9c179e"
             ],
             [
              0.4444444444444444,
              "#bd3786"
             ],
             [
              0.5555555555555556,
              "#d8576b"
             ],
             [
              0.6666666666666666,
              "#ed7953"
             ],
             [
              0.7777777777777778,
              "#fb9f3a"
             ],
             [
              0.8888888888888888,
              "#fdca26"
             ],
             [
              1,
              "#f0f921"
             ]
            ],
            "type": "histogram2dcontour"
           }
          ],
          "mesh3d": [
           {
            "colorbar": {
             "outlinewidth": 0,
             "ticks": ""
            },
            "type": "mesh3d"
           }
          ],
          "parcoords": [
           {
            "line": {
             "colorbar": {
              "outlinewidth": 0,
              "ticks": ""
             }
            },
            "type": "parcoords"
           }
          ],
          "pie": [
           {
            "automargin": true,
            "type": "pie"
           }
          ],
          "scatter": [
           {
            "marker": {
             "colorbar": {
              "outlinewidth": 0,
              "ticks": ""
             }
            },
            "type": "scatter"
           }
          ],
          "scatter3d": [
           {
            "line": {
             "colorbar": {
              "outlinewidth": 0,
              "ticks": ""
             }
            },
            "marker": {
             "colorbar": {
              "outlinewidth": 0,
              "ticks": ""
             }
            },
            "type": "scatter3d"
           }
          ],
          "scattercarpet": [
           {
            "marker": {
             "colorbar": {
              "outlinewidth": 0,
              "ticks": ""
             }
            },
            "type": "scattercarpet"
           }
          ],
          "scattergeo": [
           {
            "marker": {
             "colorbar": {
              "outlinewidth": 0,
              "ticks": ""
             }
            },
            "type": "scattergeo"
           }
          ],
          "scattergl": [
           {
            "marker": {
             "colorbar": {
              "outlinewidth": 0,
              "ticks": ""
             }
            },
            "type": "scattergl"
           }
          ],
          "scattermapbox": [
           {
            "marker": {
             "colorbar": {
              "outlinewidth": 0,
              "ticks": ""
             }
            },
            "type": "scattermapbox"
           }
          ],
          "scatterpolar": [
           {
            "marker": {
             "colorbar": {
              "outlinewidth": 0,
              "ticks": ""
             }
            },
            "type": "scatterpolar"
           }
          ],
          "scatterpolargl": [
           {
            "marker": {
             "colorbar": {
              "outlinewidth": 0,
              "ticks": ""
             }
            },
            "type": "scatterpolargl"
           }
          ],
          "scatterternary": [
           {
            "marker": {
             "colorbar": {
              "outlinewidth": 0,
              "ticks": ""
             }
            },
            "type": "scatterternary"
           }
          ],
          "surface": [
           {
            "colorbar": {
             "outlinewidth": 0,
             "ticks": ""
            },
            "colorscale": [
             [
              0,
              "#0d0887"
             ],
             [
              0.1111111111111111,
              "#46039f"
             ],
             [
              0.2222222222222222,
              "#7201a8"
             ],
             [
              0.3333333333333333,
              "#9c179e"
             ],
             [
              0.4444444444444444,
              "#bd3786"
             ],
             [
              0.5555555555555556,
              "#d8576b"
             ],
             [
              0.6666666666666666,
              "#ed7953"
             ],
             [
              0.7777777777777778,
              "#fb9f3a"
             ],
             [
              0.8888888888888888,
              "#fdca26"
             ],
             [
              1,
              "#f0f921"
             ]
            ],
            "type": "surface"
           }
          ],
          "table": [
           {
            "cells": {
             "fill": {
              "color": "#EBF0F8"
             },
             "line": {
              "color": "white"
             }
            },
            "header": {
             "fill": {
              "color": "#C8D4E3"
             },
             "line": {
              "color": "white"
             }
            },
            "type": "table"
           }
          ]
         },
         "layout": {
          "annotationdefaults": {
           "arrowcolor": "#2a3f5f",
           "arrowhead": 0,
           "arrowwidth": 1
          },
          "autotypenumbers": "strict",
          "coloraxis": {
           "colorbar": {
            "outlinewidth": 0,
            "ticks": ""
           }
          },
          "colorscale": {
           "diverging": [
            [
             0,
             "#8e0152"
            ],
            [
             0.1,
             "#c51b7d"
            ],
            [
             0.2,
             "#de77ae"
            ],
            [
             0.3,
             "#f1b6da"
            ],
            [
             0.4,
             "#fde0ef"
            ],
            [
             0.5,
             "#f7f7f7"
            ],
            [
             0.6,
             "#e6f5d0"
            ],
            [
             0.7,
             "#b8e186"
            ],
            [
             0.8,
             "#7fbc41"
            ],
            [
             0.9,
             "#4d9221"
            ],
            [
             1,
             "#276419"
            ]
           ],
           "sequential": [
            [
             0,
             "#0d0887"
            ],
            [
             0.1111111111111111,
             "#46039f"
            ],
            [
             0.2222222222222222,
             "#7201a8"
            ],
            [
             0.3333333333333333,
             "#9c179e"
            ],
            [
             0.4444444444444444,
             "#bd3786"
            ],
            [
             0.5555555555555556,
             "#d8576b"
            ],
            [
             0.6666666666666666,
             "#ed7953"
            ],
            [
             0.7777777777777778,
             "#fb9f3a"
            ],
            [
             0.8888888888888888,
             "#fdca26"
            ],
            [
             1,
             "#f0f921"
            ]
           ],
           "sequentialminus": [
            [
             0,
             "#0d0887"
            ],
            [
             0.1111111111111111,
             "#46039f"
            ],
            [
             0.2222222222222222,
             "#7201a8"
            ],
            [
             0.3333333333333333,
             "#9c179e"
            ],
            [
             0.4444444444444444,
             "#bd3786"
            ],
            [
             0.5555555555555556,
             "#d8576b"
            ],
            [
             0.6666666666666666,
             "#ed7953"
            ],
            [
             0.7777777777777778,
             "#fb9f3a"
            ],
            [
             0.8888888888888888,
             "#fdca26"
            ],
            [
             1,
             "#f0f921"
            ]
           ]
          },
          "colorway": [
           "#636efa",
           "#EF553B",
           "#00cc96",
           "#ab63fa",
           "#FFA15A",
           "#19d3f3",
           "#FF6692",
           "#B6E880",
           "#FF97FF",
           "#FECB52"
          ],
          "font": {
           "color": "#2a3f5f"
          },
          "geo": {
           "bgcolor": "white",
           "lakecolor": "white",
           "landcolor": "#E5ECF6",
           "showlakes": true,
           "showland": true,
           "subunitcolor": "white"
          },
          "hoverlabel": {
           "align": "left"
          },
          "hovermode": "closest",
          "mapbox": {
           "style": "light"
          },
          "paper_bgcolor": "white",
          "plot_bgcolor": "#E5ECF6",
          "polar": {
           "angularaxis": {
            "gridcolor": "white",
            "linecolor": "white",
            "ticks": ""
           },
           "bgcolor": "#E5ECF6",
           "radialaxis": {
            "gridcolor": "white",
            "linecolor": "white",
            "ticks": ""
           }
          },
          "scene": {
           "xaxis": {
            "backgroundcolor": "#E5ECF6",
            "gridcolor": "white",
            "gridwidth": 2,
            "linecolor": "white",
            "showbackground": true,
            "ticks": "",
            "zerolinecolor": "white"
           },
           "yaxis": {
            "backgroundcolor": "#E5ECF6",
            "gridcolor": "white",
            "gridwidth": 2,
            "linecolor": "white",
            "showbackground": true,
            "ticks": "",
            "zerolinecolor": "white"
           },
           "zaxis": {
            "backgroundcolor": "#E5ECF6",
            "gridcolor": "white",
            "gridwidth": 2,
            "linecolor": "white",
            "showbackground": true,
            "ticks": "",
            "zerolinecolor": "white"
           }
          },
          "shapedefaults": {
           "line": {
            "color": "#2a3f5f"
           }
          },
          "ternary": {
           "aaxis": {
            "gridcolor": "white",
            "linecolor": "white",
            "ticks": ""
           },
           "baxis": {
            "gridcolor": "white",
            "linecolor": "white",
            "ticks": ""
           },
           "bgcolor": "#E5ECF6",
           "caxis": {
            "gridcolor": "white",
            "linecolor": "white",
            "ticks": ""
           }
          },
          "title": {
           "x": 0.05
          },
          "xaxis": {
           "automargin": true,
           "gridcolor": "white",
           "linecolor": "white",
           "ticks": "",
           "title": {
            "standoff": 15
           },
           "zerolinecolor": "white",
           "zerolinewidth": 2
          },
          "yaxis": {
           "automargin": true,
           "gridcolor": "white",
           "linecolor": "white",
           "ticks": "",
           "title": {
            "standoff": 15
           },
           "zerolinecolor": "white",
           "zerolinewidth": 2
          }
         }
        }
       }
      }
     },
     "metadata": {},
     "output_type": "display_data"
    }
   ],
   "source": [
    "fig = px.scatter_3d(x=X[:, 0], y=X[:, 1], z=X[:, 2], color=y)\n",
    "fig.show()"
   ]
  },
  {
   "cell_type": "code",
   "execution_count": 18,
   "id": "58b7d48b",
   "metadata": {
    "slideshow": {
     "slide_type": "skip"
    }
   },
   "outputs": [
    {
     "name": "stderr",
     "output_type": "stream",
     "text": [
      "100%|██████████| 14/14 [00:27<00:00,  1.95s/it]\n"
     ]
    }
   ],
   "source": [
    "# Fit KDE on high dimensional examples \n",
    "rocs = []\n",
    "auprs = []\n",
    "bandwidths = []\n",
    "\n",
    "param_space = {\n",
    "        'kernel': ['gaussian'],\n",
    "        'bandwidth': np.linspace(0.1, 100, 1000), # Define Search space for bandwidth parameter\n",
    "    }\n",
    "\n",
    "kdes = {}\n",
    "dims = np.arange(2,16)\n",
    "for d in tqdm(dims):\n",
    "    # Generate d dimensional distributions\n",
    "    dists = create_distributions(dim=d)\n",
    "\n",
    "    distribution_with_anomalies = contamination(\n",
    "        nominal=dists['Sinusoidal'],\n",
    "        anomaly=dists['Blob'],\n",
    "        p=.05\n",
    "    )\n",
    "\n",
    "    # Train on clean data\n",
    "    sample_train = dists['Sinusoidal'].sample(500)\n",
    "    X_train = sample_train[-1].numpy()\n",
    "    # Test data\n",
    "    sample_test = distribution_with_anomalies.sample(500)\n",
    "    X_test = sample_test[-1].numpy()\n",
    "    y_test = sample_test[0].numpy()\n",
    "\n",
    "    # Optimize bandwidth\n",
    "    params, kde = hyperopt_by_score(X_train, param_space)\n",
    "    kdes[d] = (params, kde)\n",
    "    \n",
    "    bandwidths.append(params['bandwidth'])\n",
    "\n",
    "    test_scores = -kde.score_samples(X_test)\n",
    "    test_scores = np.where(test_scores == np.inf, np.max(test_scores[np.isfinite(test_scores)])+1, test_scores)\n",
    "\n",
    "    rocs.append(roc_auc_score(y_test, test_scores))\n",
    "    auprs.append(average_precision_score(y_test, test_scores))\n",
    "\n",
    "    "
   ]
  },
  {
   "cell_type": "code",
   "execution_count": 19,
   "id": "cc679493",
   "metadata": {
    "pycharm": {
     "name": "#%%\n"
    },
    "slideshow": {
     "slide_type": "skip"
    }
   },
   "outputs": [
    {
     "name": "stderr",
     "output_type": "stream",
     "text": [
      "100%|██████████| 14/14 [00:01<00:00, 10.92it/s]\n"
     ]
    },
    {
     "name": "stdout",
     "output_type": "stream",
     "text": [
      "Crossection of the KDE at (0,...,0, x, y)\n"
     ]
    },
    {
     "data": {
      "image/png": "[encoded data removed]",
      "text/plain": [
       "<Figure size 1080x360 with 14 Axes>"
      ]
     },
     "metadata": {
      "needs_background": "light"
     },
     "output_type": "display_data"
    },
    {
     "name": "stdout",
     "output_type": "stream",
     "text": [
      "Evaluation with N((0,-2), .1) contamination\n"
     ]
    },
    {
     "data": {
      "image/png": "[encoded data removed]",
      "text/plain": [
       "<Figure size 720x360 with 2 Axes>"
      ]
     },
     "metadata": {
      "needs_background": "light"
     },
     "output_type": "display_data"
    }
   ],
   "source": [
    "# Plot cross section of pdf \n",
    "fig, axes = plt.subplots(nrows=2, ncols=7, figsize=(15, 5))\n",
    "for d, axis in tqdm(list(zip(kdes, axes.flatten()))):\n",
    "    \n",
    "    params, kde = kdes[d]\n",
    "\n",
    "    lin = np.linspace(-10, 10, 50)\n",
    "    grid_points = list(it.product(*([[0]]*(d-2)), lin, lin))\n",
    "    ys, xs = np.meshgrid(lin, lin)\n",
    "    # The score function of sklearn returns log-densities\n",
    "    scores = np.exp(kde.score_samples(grid_points)).reshape(50, 50)\n",
    "    colormesh = axis.contourf(xs, ys, scores)\n",
    "    axis.set_title(\"Dim = {}\".format(d))\n",
    "    axis.set_aspect('equal')\n",
    "    \n",
    "\n",
    "# Plot evaluation\n",
    "print('Crossection of the KDE at (0,...,0, x, y)')\n",
    "plt.show()\n",
    "\n",
    "_, axes = plt.subplots(ncols=2, figsize=(10, 5))\n",
    "print('Evaluation with N((0,-2), .1) contamination')\n",
    "axes[0].plot(dims, rocs)\n",
    "axes[0].plot(dims, auprs)\n",
    "axes[0].legend(labels=['ROC AUC', 'Average Precision'])\n",
    "axes[0].set_xlabel(\"Dimension\")\n",
    "axes[1].plot(dims, bandwidths)\n",
    "axes[1].set_xlabel(\"Dimension\")\n",
    "axes[1].set_ylabel(\"Bandwidth\")\n",
    "plt.tight_layout()\n",
    "plt.show()"
   ]
  },
  {
   "cell_type": "markdown",
   "id": "020500ed",
   "metadata": {
    "slideshow": {
     "slide_type": "subslide"
    }
   },
   "source": [
    "## Robustness\n",
    "Another drawback of KDE in the context of anomaly detection is that it is not robust against contamination of the data\n",
    "\n",
    "---\n",
    "**Definition**\n",
    "The *breakdown point* of an estimator is the smallest fraction of observations that need to be changed so that we can\n",
    "move the estimate arbitrarily far away from the true value.\n",
    "\n",
    "---"
   ]
  },
  {
   "cell_type": "markdown",
   "id": "74cf4c13",
   "metadata": {
    "slideshow": {
     "slide_type": "fragment"
    }
   },
   "source": [
    "**Example**: The sample mean has a breakdown point of $0$. Indeed, for a sample of $x_1,\\ldots, x_n$ we only need to\n",
    "change a single value in order to move the sample mean in any way we want. That means that the breakdown point is\n",
    "smaller than $\\frac{1}{n}$ for every $n\\in\\mathbb{N}$."
   ]
  },
  {
   "cell_type": "markdown",
   "id": "4efce06e",
   "metadata": {
    "slideshow": {
     "slide_type": "subslide"
    }
   },
   "source": [
    "## Robust Statistics\n",
    "There are robust replacements for the sample mean:\n",
    "- Median of means: Split the dataset into $S$ equally sized subsets $X_1,\\ldots, X_S$ and compute\n",
    "$\\mathrm{median}(\\overline{X_1},\\ldots, \\overline{X_S})$\n",
    "- M-estimation: The mean in a normed vector space is the value that minimizes the squared distances\n",
    "<center>\n",
    "$\\overline{X} = \\min_{y}\\sum_{x\\in X}|x-y|^2$\n",
    "</center>\n",
    "M-estimation replaces the quadratic loss with a more robust loss function."
   ]
  },
  {
   "cell_type": "markdown",
   "id": "ac5655c6",
   "metadata": {
    "slideshow": {
     "slide_type": "fragment"
    }
   },
   "source": [
    "### Huber loss\n",
    "Switch from quadratic to linear loss at prescribed threshold"
   ]
  },
  {
   "cell_type": "code",
   "execution_count": 7,
   "id": "b6861d26",
   "metadata": {
    "hideCode": true,
    "pycharm": {
     "name": "#%%\n"
    },
    "slideshow": {
     "slide_type": "-"
    }
   },
   "outputs": [
    {
     "data": {
      "image/png": "[encoded data removed]",
      "text/plain": [
       "<Figure size 360x360 with 1 Axes>"
      ]
     },
     "metadata": {
      "needs_background": "light"
     },
     "output_type": "display_data"
    }
   ],
   "source": [
    "import numpy as np\n",
    "\n",
    "\n",
    "def huber(error, threshold):\n",
    "    test = (np.abs(error) <= threshold)\n",
    "    return (test * (error**2)/2) + ((1-test)*threshold*(np.abs(error) - threshold/2))\n",
    "\n",
    "x = np.linspace(-5, 5)\n",
    "y = huber(x, 1)\n",
    "\n",
    "plt.plot(x, y)\n",
    "plt.gca().set_title(\"Huber Loss\")\n",
    "plt.show()"
   ]
  },
  {
   "cell_type": "markdown",
   "id": "3017109f",
   "metadata": {},
   "source": [
    "### Hampel loss\n",
    "More complex loss function. Depends on 3 parameters 0 < a < b< r"
   ]
  },
  {
   "cell_type": "code",
   "execution_count": 80,
   "id": "69f95fad",
   "metadata": {},
   "outputs": [
    {
     "data": {
      "image/png": "[encoded data removed]",
      "text/plain": [
       "<Figure size 360x360 with 1 Axes>"
      ]
     },
     "metadata": {
      "needs_background": "light"
     },
     "output_type": "display_data"
    }
   ],
   "source": [
    "import numpy as np\n",
    "\n",
    "def single_point_hampel(error, a, b, r):\n",
    "    if abs(error) <= a:\n",
    "        return error**2/2\n",
    "    elif a < abs(error) <= b:\n",
    "        return (1/2 *a**2 + a* (abs(error)-a))\n",
    "    elif  b < abs(error) <= r:\n",
    "        return a * (2*b-a+(abs(error)-b) * (1+ (r-abs(error))/(r-b)))/2\n",
    "    else:\n",
    "        return a*(b-a+r)/2\n",
    "\n",
    "hampel = np.vectorize(single_point_hampel)\n",
    "\n",
    "x = np.linspace(-10.1, 10.1)\n",
    "y = hampel(x, a=1.5, b=3.5, r=8)\n",
    "\n",
    "plt.plot(x, y)\n",
    "plt.gca().set_title(\"Hampel Loss\")\n",
    "plt.show()"
   ]
  },
  {
   "cell_type": "markdown",
   "id": "c4ed645c",
   "metadata": {
    "slideshow": {
     "slide_type": "subslide"
    }
   },
   "source": [
    "## KDE is a Mean\n",
    "\n",
    "---\n",
    "\n",
    "**Kernel as scalar product:**\n",
    "<img src=\"images/kernels.png\" align=\"right\" width=\"400\" style=\"margin: 150px 75px\">\n",
    "\n",
    "- Let $K$ be a radial monotonic$^\\ast$ kernel over $\\mathbb{R}^n$.\n",
    "- For $x\\in\\mathbb{R}^n$ let $\\phi_x = K(\\cdot, x)$.\n",
    "- Vector space over the linear span of $\\{\\phi_x \\mid x\\in\\mathbb{R}^n\\}$:\n",
    "    - Pointwise addition and scalar multiplication.\n",
    "- Define the scalar product $\\langle \\phi_x, \\phi_y\\rangle = K(x,y)$.\n",
    "- Advantage: Scalar product is computable\n",
    "- Call this the reproducing kernel Hilbert space (RKHS) of $K$.\n",
    "- $\\mathrm{KDE}_h(\\cdot, D) = \\frac{1}{N}\\sum_{i=1}^N K_h(\\cdot, x_i) = \\frac{1}{N}\\sum_{i=1}^N\\phi_{x_i}$\n",
    "    - where $K_h(x,y) = \\frac{1}{h}K\\left(\\frac{|x-y|}{h}\\right)$\n",
    "\n",
    "---\n",
    "\n",
    "$^*$All kernels that we have seen are radial and monotonic\n",
    "\n",
    "\n"
   ]
  },
  {
   "cell_type": "markdown",
   "id": "aa0e6487",
   "metadata": {
    "slideshow": {
     "slide_type": "subslide"
    }
   },
   "source": [
    "# Exercise\n",
    "We compare the performance of different approaches to recover the nominal distribution under contamination.\n",
    "Here, we use code by [Humbert et al.](https://github.com/lminvielle/mom-kde) to replicate\n",
    "the results in the referenced paper on median-of-mean KDE. More details on rKDE can instead be found in this paper by [Kim and Scott.](https://arxiv.org/abs/1107.3133#:~:text=We%20propose%20a%20method%20for,ideas%20from%20classical%20M%2Destimation.)"
   ]
  },
  {
   "cell_type": "code",
   "execution_count": 8,
   "id": "58243128",
   "metadata": {
    "pycharm": {
     "name": "#%%\n"
    },
    "slideshow": {
     "slide_type": "skip"
    }
   },
   "outputs": [],
   "source": [
    "# =======================================================\n",
    "#   Parameters\n",
    "# =======================================================\n",
    "algos = [\n",
    "    'kde',\n",
    "    'mom-kde', # Median-of-Means\n",
    "    'rkde-huber', # robust KDE with huber loss\n",
    "    'rkde-hampel', # robust KDE with hampel loss\n",
    "]\n",
    "\n",
    "dataset = 'house-prices'\n",
    "dataset_options = {'neighborhood': 'CollgCr', 'anomaly_neighborhood': 'Edwards'}\n",
    "\n",
    "outlierprop_range = [0.01, 0.02, 0.03, 0.05, 0.07, 0.1, 0.2, 0.3, 0.4, 0.5]\n",
    "kernel = 'cosine'"
   ]
  },
  {
   "cell_type": "code",
   "execution_count": 9,
   "id": "da628e2f",
   "metadata": {
    "pycharm": {
     "name": "#%%\n"
    },
    "slideshow": {
     "slide_type": "skip"
    }
   },
   "outputs": [
    {
     "name": "stdout",
     "output_type": "stream",
     "text": [
      "Dataset:  house-prices\n"
     ]
    },
    {
     "data": {
      "application/vnd.plotly.v1+json": {
       "config": {
        "plotlyServerURL": "https://plot.ly"
       },
       "data": [
        {
         "hovertemplate": "LotArea=%{x}<br>OverallCond=%{y}<br>SalePrice=%{z}<br>color=%{marker.color}<extra></extra>",
         "legendgroup": "",
         "marker": {
          "color": [
           0,
           0,
           1,
           1,
           1,
           0,
           1,
           0,
           1,
           1,
           0,
           1,
           1,
           1,
           1,
           1,
           1,
           1,
           1,
           1,
           1,
           0,
           1,
           1,
           1,
           1,
           0,
           1,
           0,
           1,
           0,
           1,
           1,
           0,
           1,
           0,
           1,
           1,
           1,
           1,
           0,
           1,
           0,
           0,
           0,
           1,
           1,
           1,
           0,
           0,
           1,
           1,
           0,
           0,
           1,
           1,
           1,
           1,
           0,
           1,
           0,
           1,
           0,
           0,
           1,
           1,
           1,
           1,
           1,
           1,
           1,
           1,
           1,
           0,
           1,
           1,
           1,
           0,
           1,
           1,
           1,
           0,
           1,
           0,
           1,
           1,
           0,
           1,
           0,
           0,
           1,
           0,
           1,
           1,
           0,
           0,
           0,
           0,
           1,
           1,
           1,
           0,
           0,
           1,
           0,
           0,
           0,
           0,
           1,
           1,
           0,
           1,
           1,
           1,
           1,
           0,
           0,
           0,
           1,
           1,
           0,
           1,
           1,
           1,
           1,
           1,
           0,
           0,
           1,
           1,
           1,
           0,
           1,
           0,
           1,
           0,
           1,
           1,
           0,
           1,
           1,
           0,
           1,
           1,
           0,
           1,
           0,
           0,
           1,
           0,
           0,
           0,
           1,
           0,
           0,
           1,
           1,
           0,
           1,
           0,
           0,
           1,
           1,
           1,
           1,
           0,
           0,
           1,
           1,
           1,
           0,
           0,
           1,
           0,
           1,
           1,
           1,
           1,
           0,
           1,
           1,
           0,
           1,
           0,
           0,
           1,
           1,
           1,
           0,
           1,
           1,
           0,
           0,
           1,
           1,
           0,
           1,
           0,
           1,
           0,
           0,
           1,
           0,
           0,
           0,
           1,
           1,
           1,
           1,
           1,
           0,
           1,
           1,
           1,
           1,
           0,
           0,
           0,
           0,
           1,
           1,
           1,
           1,
           1,
           1,
           1,
           0,
           0,
           0,
           1,
           1,
           0,
           0,
           0,
           1,
           0,
           1,
           0,
           0,
           1,
           1,
           1,
           1,
           0,
           0,
           1,
           1,
           1,
           0,
           1
          ],
          "coloraxis": "coloraxis",
          "symbol": "circle"
         },
         "mode": "markers",
         "name": "",
         "scene": "scene",
         "showlegend": false,
         "type": "scatter3d",
         "x": [
          13728,
          6040,
          4435,
          8750,
          6762,
          11841,
          8199,
          3675,
          12420,
          8500,
          7024,
          15611,
          8990,
          9200,
          8767,
          8750,
          8633,
          10652,
          9808,
          13568,
          8445,
          8562,
          8775,
          12803,
          8924,
          9750,
          9600,
          6762,
          8405,
          10637,
          9084,
          9588,
          8814,
          9405,
          11838,
          11767,
          10335,
          12137,
          10386,
          8935,
          3675,
          9135,
          3363,
          8405,
          7800,
          8749,
          7200,
          10226,
          12108,
          10020,
          11645,
          9560,
          11500,
          10452,
          13450,
          8072,
          11367,
          9240,
          12342,
          10665,
          8877,
          4435,
          9571,
          8741,
          4435,
          8760,
          11049,
          14781,
          10780,
          9531,
          10900,
          7226,
          9313,
          7301,
          10667,
          9245,
          7406,
          9060,
          7200,
          11248,
          10970,
          9825,
          9337,
          8777,
          9920,
          8320,
          8777,
          9100,
          10625,
          7819,
          8070,
          10800,
          11317,
          9317,
          11767,
          8926,
          10206,
          10998,
          11103,
          9286,
          11423,
          3675,
          7950,
          11404,
          7200,
          9937,
          2522,
          8172,
          10635,
          9382,
          7024,
          16285,
          7700,
          9375,
          10400,
          9525,
          8190,
          8877,
          9525,
          11645,
          4270,
          9135,
          14006,
          10084,
          8750,
          8400,
          8335,
          8172,
          4426,
          9236,
          13704,
          9738,
          8450,
          8248,
          9375,
          9571,
          13125,
          8814,
          9855,
          4438,
          8461,
          8160,
          7990,
          9100,
          9060,
          9965,
          7917,
          13907,
          4438,
          7000,
          10921,
          9937,
          7314,
          6420,
          13680,
          8800,
          11885,
          12615,
          8125,
          10012,
          12354,
          10859,
          11175,
          9750,
          9245,
          8777,
          9084,
          4426,
          4435,
          8846,
          10420,
          9400,
          6762,
          9450,
          4435,
          10356,
          10475,
          8450,
          8546,
          8487,
          12393,
          13286,
          8200,
          2522,
          5604,
          10769,
          8556,
          8773,
          7711,
          4426,
          16226,
          7585,
          63887,
          7000,
          11250,
          19690,
          9800,
          9170,
          7180,
          11100,
          2522,
          9548,
          17140,
          40094,
          12180,
          11210,
          12435,
          15523,
          9100,
          8158,
          9098,
          11883,
          8846,
          12464,
          9965,
          4060,
          11512,
          17755,
          8248,
          15426,
          11050,
          7200,
          10316,
          11250,
          8385,
          10650,
          6931,
          10106,
          21780,
          11249,
          8450,
          10215,
          8536,
          8212,
          9017,
          10880,
          9179,
          8410,
          16466,
          8430,
          10000,
          9473,
          10402,
          6629,
          9340,
          9742,
          9066,
          10264,
          11409,
          11923
         ],
         "y": [
          7,
          5,
          5,
          5,
          5,
          5,
          5,
          5,
          5,
          5,
          5,
          5,
          5,
          6,
          5,
          5,
          5,
          5,
          5,
          5,
          7,
          6,
          5,
          5,
          5,
          6,
          5,
          5,
          8,
          5,
          5,
          5,
          5,
          9,
          5,
          6,
          5,
          5,
          5,
          5,
          5,
          5,
          5,
          3,
          8,
          5,
          8,
          5,
          4,
          1,
          5,
          7,
          3,
          5,
          5,
          5,
          5,
          5,
          5,
          5,
          6,
          5,
          6,
          4,
          5,
          5,
          5,
          5,
          5,
          5,
          7,
          5,
          5,
          5,
          6,
          5,
          5,
          5,
          5,
          5,
          6,
          5,
          5,
          7,
          6,
          5,
          5,
          5,
          5,
          5,
          5,
          5,
          5,
          5,
          7,
          3,
          3,
          5,
          5,
          7,
          5,
          5,
          6,
          5,
          6,
          6,
          5,
          7,
          5,
          5,
          5,
          5,
          5,
          5,
          5,
          4,
          6,
          5,
          6,
          5,
          6,
          5,
          5,
          5,
          5,
          5,
          5,
          6,
          5,
          5,
          5,
          7,
          5,
          3,
          5,
          3,
          5,
          5,
          5,
          5,
          5,
          6,
          6,
          5,
          6,
          5,
          7,
          6,
          5,
          7,
          5,
          7,
          5,
          7,
          5,
          7,
          5,
          7,
          5,
          5,
          8,
          5,
          5,
          5,
          5,
          7,
          6,
          5,
          5,
          5,
          5,
          5,
          5,
          5,
          5,
          6,
          5,
          5,
          5,
          5,
          5,
          5,
          5,
          5,
          6,
          5,
          5,
          5,
          3,
          5,
          5,
          3,
          5,
          8,
          5,
          7,
          7,
          7,
          7,
          7,
          5,
          6,
          6,
          5,
          4,
          5,
          5,
          6,
          5,
          5,
          7,
          5,
          5,
          5,
          5,
          8,
          7,
          4,
          7,
          5,
          5,
          7,
          5,
          5,
          8,
          6,
          5,
          7,
          7,
          5,
          5,
          5,
          5,
          3,
          5,
          5,
          5,
          3,
          7,
          5,
          5,
          5,
          5,
          6,
          6,
          5,
          5,
          5,
          4,
          5
         ],
         "z": [
          235000,
          82000,
          144000,
          191000,
          206000,
          118500,
          189000,
          140000,
          230000,
          179600,
          176000,
          233230,
          204900,
          130250,
          164990,
          210000,
          173500,
          279500,
          227000,
          156000,
          133000,
          144500,
          126000,
          221000,
          188000,
          274300,
          79000,
          193879,
          119000,
          297000,
          108000,
          276000,
          203000,
          118000,
          236500,
          130500,
          204000,
          224900,
          305900,
          195000,
          145000,
          200000,
          130000,
          98000,
          225000,
          192000,
          133900,
          295493,
          118000,
          61000,
          196500,
          128500,
          84000,
          155000,
          200000,
          138000,
          255000,
          287000,
          82500,
          226000,
          100000,
          140000,
          129000,
          113000,
          131500,
          239799,
          179900,
          275000,
          132500,
          211000,
          161750,
          183000,
          190000,
          198500,
          212000,
          145000,
          194000,
          105000,
          123000,
          285000,
          147000,
          100000,
          204750,
          85000,
          128500,
          185900,
          108000,
          178000,
          83000,
          107000,
          123600,
          179000,
          180000,
          176432,
          112000,
          112000,
          82000,
          117000,
          155835,
          143500,
          272000,
          148000,
          159500,
          222500,
          125000,
          147500,
          137500,
          115000,
          232000,
          191000,
          157000,
          187100,
          112500,
          219500,
          197900,
          136900,
          119000,
          102000,
          144000,
          260000,
          79000,
          214000,
          192500,
          212900,
          200500,
          213000,
          93000,
          135000,
          141000,
          217000,
          205000,
          104900,
          208500,
          67000,
          228500,
          60000,
          208900,
          220000,
          127500,
          149000,
          163990,
          126000,
          110000,
          216837,
          120000,
          424870,
          148000,
          108000,
          144500,
          107500,
          94750,
          167000,
          194500,
          123500,
          139600,
          150500,
          261500,
          243000,
          230000,
          137500,
          110000,
          145000,
          200141,
          213000,
          213500,
          145900,
          95000,
          143000,
          155900,
          148000,
          186000,
          127500,
          195400,
          110000,
          136500,
          122000,
          245350,
          210000,
          140000,
          190000,
          195000,
          320000,
          219500,
          130000,
          98000,
          212000,
          194000,
          185500,
          150000,
          149300,
          267000,
          91500,
          160000,
          136500,
          223500,
          274970,
          149900,
          140000,
          127000,
          84900,
          130000,
          237000,
          135000,
          184750,
          80000,
          221500,
          231500,
          133500,
          235000,
          224900,
          86000,
          203000,
          173900,
          152000,
          383970,
          99900,
          177000,
          149900,
          116000,
          231500,
          313000,
          124900,
          235000,
          255900,
          149900,
          128200,
          165400,
          127500,
          185000,
          177500,
          185000,
          111000,
          155000,
          58500,
          192000,
          125000,
          193000,
          81000,
          135500,
          124000,
          240000,
          237000,
          198900,
          103600,
          113000,
          230000,
          230000,
          214000,
          131000,
          239000
         ]
        }
       ],
       "layout": {
        "coloraxis": {
         "colorbar": {
          "title": {
           "text": "color"
          }
         },
         "colorscale": [
          [
           0,
           "#0d0887"
          ],
          [
           0.1111111111111111,
           "#46039f"
          ],
          [
           0.2222222222222222,
           "#7201a8"
          ],
          [
           0.3333333333333333,
           "#9c179e"
          ],
          [
           0.4444444444444444,
           "#bd3786"
          ],
          [
           0.5555555555555556,
           "#d8576b"
          ],
          [
           0.6666666666666666,
           "#ed7953"
          ],
          [
           0.7777777777777778,
           "#fb9f3a"
          ],
          [
           0.8888888888888888,
           "#fdca26"
          ],
          [
           1,
           "#f0f921"
          ]
         ]
        },
        "legend": {
         "tracegroupgap": 0
        },
        "margin": {
         "t": 60
        },
        "scene": {
         "domain": {
          "x": [
           0,
           1
          ],
          "y": [
           0,
           1
          ]
         },
         "xaxis": {
          "title": {
           "text": "LotArea"
          }
         },
         "yaxis": {
          "title": {
           "text": "OverallCond"
          }
         },
         "zaxis": {
          "title": {
           "text": "SalePrice"
          }
         }
        },
        "template": {
         "data": {
          "bar": [
           {
            "error_x": {
             "color": "#2a3f5f"
            },
            "error_y": {
             "color": "#2a3f5f"
            },
            "marker": {
             "line": {
              "color": "#E5ECF6",
              "width": 0.5
             },
             "pattern": {
              "fillmode": "overlay",
              "size": 10,
              "solidity": 0.2
             }
            },
            "type": "bar"
           }
          ],
          "barpolar": [
           {
            "marker": {
             "line": {
              "color": "#E5ECF6",
              "width": 0.5
             },
             "pattern": {
              "fillmode": "overlay",
              "size": 10,
              "solidity": 0.2
             }
            },
            "type": "barpolar"
           }
          ],
          "carpet": [
           {
            "aaxis": {
             "endlinecolor": "#2a3f5f",
             "gridcolor": "white",
             "linecolor": "white",
             "minorgridcolor": "white",
             "startlinecolor": "#2a3f5f"
            },
            "baxis": {
             "endlinecolor": "#2a3f5f",
             "gridcolor": "white",
             "linecolor": "white",
             "minorgridcolor": "white",
             "startlinecolor": "#2a3f5f"
            },
            "type": "carpet"
           }
          ],
          "choropleth": [
           {
            "colorbar": {
             "outlinewidth": 0,
             "ticks": ""
            },
            "type": "choropleth"
           }
          ],
          "contour": [
           {
            "colorbar": {
             "outlinewidth": 0,
             "ticks": ""
            },
            "colorscale": [
             [
              0,
              "#0d0887"
             ],
             [
              0.1111111111111111,
              "#46039f"
             ],
             [
              0.2222222222222222,
              "#7201a8"
             ],
             [
              0.3333333333333333,
              "#9c179e"
             ],
             [
              0.4444444444444444,
              "#bd3786"
             ],
             [
              0.5555555555555556,
              "#d8576b"
             ],
             [
              0.6666666666666666,
              "#ed7953"
             ],
             [
              0.7777777777777778,
              "#fb9f3a"
             ],
             [
              0.8888888888888888,
              "#fdca26"
             ],
             [
              1,
              "#f0f921"
             ]
            ],
            "type": "contour"
           }
          ],
          "contourcarpet": [
           {
            "colorbar": {
             "outlinewidth": 0,
             "ticks": ""
            },
            "type": "contourcarpet"
           }
          ],
          "heatmap": [
           {
            "colorbar": {
             "outlinewidth": 0,
             "ticks": ""
            },
            "colorscale": [
             [
              0,
              "#0d0887"
             ],
             [
              0.1111111111111111,
              "#46039f"
             ],
             [
              0.2222222222222222,
              "#7201a8"
             ],
             [
              0.3333333333333333,
              "#9c179e"
             ],
             [
              0.4444444444444444,
              "#bd3786"
             ],
             [
              0.5555555555555556,
              "#d8576b"
             ],
             [
              0.6666666666666666,
              "#ed7953"
             ],
             [
              0.7777777777777778,
              "#fb9f3a"
             ],
             [
              0.8888888888888888,
              "#fdca26"
             ],
             [
              1,
              "#f0f921"
             ]
            ],
            "type": "heatmap"
           }
          ],
          "heatmapgl": [
           {
            "colorbar": {
             "outlinewidth": 0,
             "ticks": ""
            },
            "colorscale": [
             [
              0,
              "#0d0887"
             ],
             [
              0.1111111111111111,
              "#46039f"
             ],
             [
              0.2222222222222222,
              "#7201a8"
             ],
             [
              0.3333333333333333,
              "#9c179e"
             ],
             [
              0.4444444444444444,
              "#bd3786"
             ],
             [
              0.5555555555555556,
              "#d8576b"
             ],
             [
              0.6666666666666666,
              "#ed7953"
             ],
             [
              0.7777777777777778,
              "#fb9f3a"
             ],
             [
              0.8888888888888888,
              "#fdca26"
             ],
             [
              1,
              "#f0f921"
             ]
            ],
            "type": "heatmapgl"
           }
          ],
          "histogram": [
           {
            "marker": {
             "pattern": {
              "fillmode": "overlay",
              "size": 10,
              "solidity": 0.2
             }
            },
            "type": "histogram"
           }
          ],
          "histogram2d": [
           {
            "colorbar": {
             "outlinewidth": 0,
             "ticks": ""
            },
            "colorscale": [
             [
              0,
              "#0d0887"
             ],
             [
              0.1111111111111111,
              "#46039f"
             ],
             [
              0.2222222222222222,
              "#7201a8"
             ],
             [
              0.3333333333333333,
              "#9c179e"
             ],
             [
              0.4444444444444444,
              "#bd3786"
             ],
             [
              0.5555555555555556,
              "#d8576b"
             ],
             [
              0.6666666666666666,
              "#ed7953"
             ],
             [
              0.7777777777777778,
              "#fb9f3a"
             ],
             [
              0.8888888888888888,
              "#fdca26"
             ],
             [
              1,
              "#f0f921"
             ]
            ],
            "type": "histogram2d"
           }
          ],
          "histogram2dcontour": [
           {
            "colorbar": {
             "outlinewidth": 0,
             "ticks": ""
            },
            "colorscale": [
             [
              0,
              "#0d0887"
             ],
             [
              0.1111111111111111,
              "#46039f"
             ],
             [
              0.2222222222222222,
              "#7201a8"
             ],
             [
              0.3333333333333333,
              "#9c179e"
             ],
             [
              0.4444444444444444,
              "#bd3786"
             ],
             [
              0.5555555555555556,
              "#d8576b"
             ],
             [
              0.6666666666666666,
              "#ed7953"
             ],
             [
              0.7777777777777778,
              "#fb9f3a"
             ],
             [
              0.8888888888888888,
              "#fdca26"
             ],
             [
              1,
              "#f0f921"
             ]
            ],
            "type": "histogram2dcontour"
           }
          ],
          "mesh3d": [
           {
            "colorbar": {
             "outlinewidth": 0,
             "ticks": ""
            },
            "type": "mesh3d"
           }
          ],
          "parcoords": [
           {
            "line": {
             "colorbar": {
              "outlinewidth": 0,
              "ticks": ""
             }
            },
            "type": "parcoords"
           }
          ],
          "pie": [
           {
            "automargin": true,
            "type": "pie"
           }
          ],
          "scatter": [
           {
            "marker": {
             "colorbar": {
              "outlinewidth": 0,
              "ticks": ""
             }
            },
            "type": "scatter"
           }
          ],
          "scatter3d": [
           {
            "line": {
             "colorbar": {
              "outlinewidth": 0,
              "ticks": ""
             }
            },
            "marker": {
             "colorbar": {
              "outlinewidth": 0,
              "ticks": ""
             }
            },
            "type": "scatter3d"
           }
          ],
          "scattercarpet": [
           {
            "marker": {
             "colorbar": {
              "outlinewidth": 0,
              "ticks": ""
             }
            },
            "type": "scattercarpet"
           }
          ],
          "scattergeo": [
           {
            "marker": {
             "colorbar": {
              "outlinewidth": 0,
              "ticks": ""
             }
            },
            "type": "scattergeo"
           }
          ],
          "scattergl": [
           {
            "marker": {
             "colorbar": {
              "outlinewidth": 0,
              "ticks": ""
             }
            },
            "type": "scattergl"
           }
          ],
          "scattermapbox": [
           {
            "marker": {
             "colorbar": {
              "outlinewidth": 0,
              "ticks": ""
             }
            },
            "type": "scattermapbox"
           }
          ],
          "scatterpolar": [
           {
            "marker": {
             "colorbar": {
              "outlinewidth": 0,
              "ticks": ""
             }
            },
            "type": "scatterpolar"
           }
          ],
          "scatterpolargl": [
           {
            "marker": {
             "colorbar": {
              "outlinewidth": 0,
              "ticks": ""
             }
            },
            "type": "scatterpolargl"
           }
          ],
          "scatterternary": [
           {
            "marker": {
             "colorbar": {
              "outlinewidth": 0,
              "ticks": ""
             }
            },
            "type": "scatterternary"
           }
          ],
          "surface": [
           {
            "colorbar": {
             "outlinewidth": 0,
             "ticks": ""
            },
            "colorscale": [
             [
              0,
              "#0d0887"
             ],
             [
              0.1111111111111111,
              "#46039f"
             ],
             [
              0.2222222222222222,
              "#7201a8"
             ],
             [
              0.3333333333333333,
              "#9c179e"
             ],
             [
              0.4444444444444444,
              "#bd3786"
             ],
             [
              0.5555555555555556,
              "#d8576b"
             ],
             [
              0.6666666666666666,
              "#ed7953"
             ],
             [
              0.7777777777777778,
              "#fb9f3a"
             ],
             [
              0.8888888888888888,
              "#fdca26"
             ],
             [
              1,
              "#f0f921"
             ]
            ],
            "type": "surface"
           }
          ],
          "table": [
           {
            "cells": {
             "fill": {
              "color": "#EBF0F8"
             },
             "line": {
              "color": "white"
             }
            },
            "header": {
             "fill": {
              "color": "#C8D4E3"
             },
             "line": {
              "color": "white"
             }
            },
            "type": "table"
           }
          ]
         },
         "layout": {
          "annotationdefaults": {
           "arrowcolor": "#2a3f5f",
           "arrowhead": 0,
           "arrowwidth": 1
          },
          "autotypenumbers": "strict",
          "coloraxis": {
           "colorbar": {
            "outlinewidth": 0,
            "ticks": ""
           }
          },
          "colorscale": {
           "diverging": [
            [
             0,
             "#8e0152"
            ],
            [
             0.1,
             "#c51b7d"
            ],
            [
             0.2,
             "#de77ae"
            ],
            [
             0.3,
             "#f1b6da"
            ],
            [
             0.4,
             "#fde0ef"
            ],
            [
             0.5,
             "#f7f7f7"
            ],
            [
             0.6,
             "#e6f5d0"
            ],
            [
             0.7,
             "#b8e186"
            ],
            [
             0.8,
             "#7fbc41"
            ],
            [
             0.9,
             "#4d9221"
            ],
            [
             1,
             "#276419"
            ]
           ],
           "sequential": [
            [
             0,
             "#0d0887"
            ],
            [
             0.1111111111111111,
             "#46039f"
            ],
            [
             0.2222222222222222,
             "#7201a8"
            ],
            [
             0.3333333333333333,
             "#9c179e"
            ],
            [
             0.4444444444444444,
             "#bd3786"
            ],
            [
             0.5555555555555556,
             "#d8576b"
            ],
            [
             0.6666666666666666,
             "#ed7953"
            ],
            [
             0.7777777777777778,
             "#fb9f3a"
            ],
            [
             0.8888888888888888,
             "#fdca26"
            ],
            [
             1,
             "#f0f921"
            ]
           ],
           "sequentialminus": [
            [
             0,
             "#0d0887"
            ],
            [
             0.1111111111111111,
             "#46039f"
            ],
            [
             0.2222222222222222,
             "#7201a8"
            ],
            [
             0.3333333333333333,
             "#9c179e"
            ],
            [
             0.4444444444444444,
             "#bd3786"
            ],
            [
             0.5555555555555556,
             "#d8576b"
            ],
            [
             0.6666666666666666,
             "#ed7953"
            ],
            [
             0.7777777777777778,
             "#fb9f3a"
            ],
            [
             0.8888888888888888,
             "#fdca26"
            ],
            [
             1,
             "#f0f921"
            ]
           ]
          },
          "colorway": [
           "#636efa",
           "#EF553B",
           "#00cc96",
           "#ab63fa",
           "#FFA15A",
           "#19d3f3",
           "#FF6692",
           "#B6E880",
           "#FF97FF",
           "#FECB52"
          ],
          "font": {
           "color": "#2a3f5f"
          },
          "geo": {
           "bgcolor": "white",
           "lakecolor": "white",
           "landcolor": "#E5ECF6",
           "showlakes": true,
           "showland": true,
           "subunitcolor": "white"
          },
          "hoverlabel": {
           "align": "left"
          },
          "hovermode": "closest",
          "mapbox": {
           "style": "light"
          },
          "paper_bgcolor": "white",
          "plot_bgcolor": "#E5ECF6",
          "polar": {
           "angularaxis": {
            "gridcolor": "white",
            "linecolor": "white",
            "ticks": ""
           },
           "bgcolor": "#E5ECF6",
           "radialaxis": {
            "gridcolor": "white",
            "linecolor": "white",
            "ticks": ""
           }
          },
          "scene": {
           "xaxis": {
            "backgroundcolor": "#E5ECF6",
            "gridcolor": "white",
            "gridwidth": 2,
            "linecolor": "white",
            "showbackground": true,
            "ticks": "",
            "zerolinecolor": "white"
           },
           "yaxis": {
            "backgroundcolor": "#E5ECF6",
            "gridcolor": "white",
            "gridwidth": 2,
            "linecolor": "white",
            "showbackground": true,
            "ticks": "",
            "zerolinecolor": "white"
           },
           "zaxis": {
            "backgroundcolor": "#E5ECF6",
            "gridcolor": "white",
            "gridwidth": 2,
            "linecolor": "white",
            "showbackground": true,
            "ticks": "",
            "zerolinecolor": "white"
           }
          },
          "shapedefaults": {
           "line": {
            "color": "#2a3f5f"
           }
          },
          "ternary": {
           "aaxis": {
            "gridcolor": "white",
            "linecolor": "white",
            "ticks": ""
           },
           "baxis": {
            "gridcolor": "white",
            "linecolor": "white",
            "ticks": ""
           },
           "bgcolor": "#E5ECF6",
           "caxis": {
            "gridcolor": "white",
            "linecolor": "white",
            "ticks": ""
           }
          },
          "title": {
           "x": 0.05
          },
          "xaxis": {
           "automargin": true,
           "gridcolor": "white",
           "linecolor": "white",
           "ticks": "",
           "title": {
            "standoff": 15
           },
           "zerolinecolor": "white",
           "zerolinewidth": 2
          },
          "yaxis": {
           "automargin": true,
           "gridcolor": "white",
           "linecolor": "white",
           "ticks": "",
           "title": {
            "standoff": 15
           },
           "zerolinecolor": "white",
           "zerolinewidth": 2
          }
         }
        }
       }
      }
     },
     "metadata": {},
     "output_type": "display_data"
    },
    {
     "name": "stdout",
     "output_type": "stream",
     "text": [
      "\n",
      "Outlier prop: 0.01 (1 / 10)\n",
      "downsample outliers\n",
      "Finding best bandwidth...\n",
      "Algo:  kde\n",
      "Algo:  mom-kde\n",
      "Algo:  rkde-huber\n",
      "Stop at 4 iterations\n",
      "Stop at 2 iterations\n",
      "Algo:  rkde-hampel\n",
      "Stop at 4 iterations\n",
      "Stop at 100 iterations\n",
      "\n",
      "Outlier prop: 0.02 (2 / 10)\n",
      "downsample outliers\n",
      "Finding best bandwidth...\n",
      "Algo:  kde\n",
      "Algo:  mom-kde\n",
      "Algo:  rkde-huber\n",
      "Stop at 4 iterations\n",
      "Stop at 2 iterations\n",
      "Algo:  rkde-hampel\n",
      "Stop at 4 iterations\n",
      "Stop at 100 iterations\n",
      "\n",
      "Outlier prop: 0.03 (3 / 10)\n",
      "downsample outliers\n",
      "Finding best bandwidth...\n",
      "Algo:  kde\n",
      "Algo:  mom-kde\n",
      "Algo:  rkde-huber\n",
      "Stop at 3 iterations\n",
      "Stop at 2 iterations\n",
      "Algo:  rkde-hampel\n",
      "Stop at 3 iterations\n",
      "Stop at 100 iterations\n",
      "\n",
      "Outlier prop: 0.05 (4 / 10)\n",
      "downsample outliers\n",
      "Finding best bandwidth...\n",
      "Algo:  kde\n",
      "Algo:  mom-kde\n",
      "Algo:  rkde-huber\n",
      "Stop at 4 iterations\n",
      "Stop at 3 iterations\n",
      "Algo:  rkde-hampel\n",
      "Stop at 4 iterations\n",
      "Stop at 100 iterations\n",
      "\n",
      "Outlier prop: 0.07 (5 / 10)\n",
      "downsample outliers\n",
      "Finding best bandwidth...\n",
      "Algo:  kde\n",
      "Algo:  mom-kde\n",
      "Algo:  rkde-huber\n",
      "Stop at 3 iterations\n",
      "Stop at 2 iterations\n",
      "Algo:  rkde-hampel\n",
      "Stop at 3 iterations\n",
      "Stop at 100 iterations\n",
      "\n",
      "Outlier prop: 0.1 (6 / 10)\n",
      "downsample outliers\n",
      "Finding best bandwidth...\n",
      "Algo:  kde\n",
      "Algo:  mom-kde\n",
      "Algo:  rkde-huber\n",
      "Stop at 5 iterations\n",
      "Stop at 3 iterations\n",
      "Algo:  rkde-hampel\n",
      "Stop at 5 iterations\n",
      "Stop at 100 iterations\n",
      "\n",
      "Outlier prop: 0.2 (7 / 10)\n",
      "downsample outliers\n",
      "Finding best bandwidth...\n",
      "Algo:  kde\n",
      "Algo:  mom-kde\n",
      "Algo:  rkde-huber\n",
      "Stop at 5 iterations\n",
      "Stop at 3 iterations\n",
      "Algo:  rkde-hampel\n",
      "Stop at 5 iterations\n",
      "Stop at 100 iterations\n",
      "\n",
      "Outlier prop: 0.3 (8 / 10)\n",
      "downsample outliers\n",
      "Finding best bandwidth...\n",
      "Algo:  kde\n",
      "Algo:  mom-kde\n",
      "Algo:  rkde-huber\n",
      "Stop at 4 iterations\n",
      "Stop at 2 iterations\n",
      "Algo:  rkde-hampel\n",
      "Stop at 4 iterations\n",
      "Stop at 100 iterations\n",
      "\n",
      "Outlier prop: 0.4 (9 / 10)\n",
      "downsample outliers\n",
      "Finding best bandwidth...\n",
      "Algo:  kde\n",
      "Algo:  mom-kde\n",
      "Algo:  rkde-huber\n",
      "Stop at 4 iterations\n",
      "Stop at 2 iterations\n",
      "Algo:  rkde-hampel\n",
      "Stop at 4 iterations\n",
      "Stop at 100 iterations\n",
      "\n",
      "Outlier prop: 0.5 (10 / 10)\n",
      "downsample inliers\n",
      "Finding best bandwidth...\n",
      "Algo:  kde\n",
      "Algo:  mom-kde\n",
      "Algo:  rkde-huber\n",
      "Stop at 4 iterations\n",
      "Stop at 3 iterations\n",
      "Algo:  rkde-hampel\n",
      "Stop at 4 iterations\n",
      "Stop at 100 iterations\n"
     ]
    }
   ],
   "source": [
    "auc_scores = perform_rkde_experiment(\n",
    "    algos,\n",
    "    dataset,\n",
    "    dataset_options,\n",
    "    outlierprop_range,\n",
    "    kernel,\n",
    ")"
   ]
  },
  {
   "cell_type": "code",
   "execution_count": 10,
   "id": "280ed959",
   "metadata": {},
   "outputs": [
    {
     "data": {
      "text/plain": [
       "Text(0.5, 1.0, 'Comparison of rKDE against contamination')"
      ]
     },
     "execution_count": 10,
     "metadata": {},
     "output_type": "execute_result"
    },
    {
     "data": {
      "image/png": "[encoded data removed]",
      "text/plain": [
       "<Figure size 504x360 with 1 Axes>"
      ]
     },
     "metadata": {
      "needs_background": "light"
     },
     "output_type": "display_data"
    }
   ],
   "source": [
    "fig, ax = plt.subplots(figsize=(7, 5))\n",
    "for algo, algo_data in auc_scores.groupby('algo'):\n",
    "    x = algo_data.groupby('outlier_prop').mean().index\n",
    "    y = algo_data.groupby('outlier_prop').mean()['auc_anomaly']\n",
    "    ax.plot(x, y, 'o-', label=algo)\n",
    "plt.legend()\n",
    "plt.xlabel('outlier_prop')\n",
    "plt.ylabel('auc_score')\n",
    "plt.title('Comparison of rKDE against contamination')"
   ]
  },
  {
   "cell_type": "markdown",
   "id": "bd659a73",
   "metadata": {},
   "source": [
    "Try using different neighborhoods for contamination. Which robust KDE algorithm performs better overall? Choose among the following options:\n",
    "\n",
    "OldTown, Veenker, Edwards, MeadowV, Somerst, NPkVill, BrDale, Gilbert, NridgHt, Sawyer, Blmngtn, Blueste\n",
    "\n",
    "You can also change the kernel type: gaussian, tophat, epechenikov, exponential, linear or cosine, "
   ]
  },
  {
   "cell_type": "markdown",
   "id": "76312d0d",
   "metadata": {
    "slideshow": {
     "slide_type": "subslide"
    }
   },
   "source": [
    "# Summary\n",
    "- Kernel density estimation is a non-parametric method to estimate a pdf from a sample.\n",
    "- Bandwidth is the most important parameter.\n",
    "- Converges to the true pdf if $n\\to\\infty$.\n",
    "    - Convergence exponentially depends on the dimension.\n",
    "- KDE is sensitive to contamination:\n",
    "    - In a contaminated setting one can employ methods from robust statistics to obtain robust estimates.\n",
    "    \n",
    "## Implementations\n",
    "- Sklearn: [sklearn.neighbors.KernelDensity](https://scikit-learn.org/stable/modules/generated/sklearn.neighbors.KernelDensity.html#sklearn.neighbors.KernelDensity)\n",
    "- Statsmodels: [statsmodels.nonparametric.kernel_density.KDEMultivariate](https://www.statsmodels.org/dev/generated/statsmodels.nonparametric.kernel_density.KDEMultivariate.html)\n",
    "- FastKDE: [link](https://pypi.org/project/fastkde/), offers automatic bandwidth and kernel selection."
   ]
  },
  {
   "cell_type": "markdown",
   "id": "71e46caa",
   "metadata": {
    "slideshow": {
     "slide_type": "slide"
    }
   },
   "source": [
    "# Anomaly Detection via Isolation\n",
    "**Idea:** An anomaly should allow  \"simple\" descriptions that distinguish it from the rest of the data.\n",
    "\n",
    "- Descriptions: Conjunction of single attribute tests, i.e.\n",
    "  $X_i \\leq c$ or $X_i > c$.\n",
    "- Example: $X_1 \\leq 1.2 \\text{ and } X_5 > -3.4 \\text{ and }\tX_7 \\leq 5.6$.\n",
    "- Complexity of description: Number of conjunctions.\n",
    "\n",
    "Moreover, we assume that a short random descriptions will have a significantly larger chance of isolating an anomaly\n",
    "than isolating any nominal point.\n",
    "\n",
    "- Choose random isolating descriptions and compute anomaly score from average complexity."
   ]
  },
  {
   "cell_type": "markdown",
   "id": "f9ce4a9f",
   "metadata": {
    "slideshow": {
     "slide_type": "subslide"
    }
   },
   "source": [
    "## Isolation Tree\n",
    "Isolation Forest (iForest) implements this idea by generating an ensemble of random decision trees.\n",
    "Each tree is build as follows:\n",
    "\n",
    "---\n",
    "**Input:** Data set (subsample) $X$, maximal height $h$\n",
    "- Randomly choose feature $i$ and split value $s$ (in range of data)\n",
    "- Recursively build subtrees on $X_L = \\{x\\in X\\mid x_i \\leq s\\}$ and $X_R = X\\setminus X_L$\n",
    "- Stop if remaining data set $ \\leq 1$ or maximal height reached.\n",
    "- Store test $x_i\\leq s$ for inner nodes and $|X|$ for leaf nodes\n",
    "\n",
    "---"
   ]
  },
  {
   "cell_type": "markdown",
   "id": "16dabe54",
   "metadata": {
    "slideshow": {
     "slide_type": "subslide"
    }
   },
   "source": [
    "## Visualization\n",
    "<center>\n",
    "<img src=\"images/partition.png\" align=\"center\" width=\"400\">\n",
    "    Isolation Tree as Partition Diagram\n",
    "</center>"
   ]
  },
  {
   "cell_type": "markdown",
   "id": "39fc2c5b",
   "metadata": {
    "slideshow": {
     "slide_type": "subslide"
    }
   },
   "source": [
    "## Isolation Depth\n",
    "\n",
    "---\n",
    "**Input:** Observation $x$\n",
    "- ${\\ell} = $ length of path from root to leaf according to tests\n",
    "- ${n} = $ size of remaining data set in leaf node\n",
    "- ${c(n)} =$ expected length of a path in a BST with $n$ nodes $={O}(\\log n)$\n",
    "- ${h(x)} = \\ell + c(n)$\n",
    "\n",
    "---\n",
    "\n",
    "<table>\n",
    "    <tr>\n",
    "        <td style=\"background-color:#FFFFFF;\"><img src=\"images/blob.png\" width=\"300\"></td>\n",
    "        <td style=\"background-color:#FFFFFF;\"><img src=\"images/tree.png\"  width=\"300\"></td>\n",
    "    </tr>\n",
    "    <tr>\n",
    "        <td colspan=\"2\" style=\"background-color:#FFFFFF;\"><center>Isolation Depth of Outlier (red) and nominal (blue)</center></td>\n",
    "    </tr>\n",
    "</table>\n"
   ]
  },
  {
   "cell_type": "markdown",
   "id": "4659e094",
   "metadata": {
    "slideshow": {
     "slide_type": "subslide"
    }
   },
   "source": [
    "## Isolation Forest\n",
    "- Train $k$ isolation trees on subsamples of size $N$"
   ]
  },
  {
   "cell_type": "markdown",
   "id": "2423122d",
   "metadata": {
    "slideshow": {
     "slide_type": "subslide"
    }
   },
   "source": [
    "\n",
    "<table>\n",
    "    <tr>\n",
    "        <td style=\"background-color:#FFFFFF;\"><img src=\"images/inrad.png\" width=\"400\"></td>\n",
    "        <td style=\"background-color:#FFFFFF;\"><img src=\"images/outrad.png\"  width=\"400\"></td>\n",
    "    </tr>\n",
    "    <tr>\n",
    "        <td colspan=\"2\"><center>Isolation depth of nominal point (left) and outlier (right)</center></td>\n",
    "    </tr>\n",
    "</table>"
   ]
  },
  {
   "cell_type": "markdown",
   "id": "f00a372e",
   "metadata": {
    "slideshow": {
     "slide_type": "skip"
    }
   },
   "source": [
    "# Variants of Isolation Forest"
   ]
  },
  {
   "cell_type": "markdown",
   "id": "702f9985",
   "metadata": {
    "slideshow": {
     "slide_type": "skip"
    }
   },
   "source": [
    "## Variant: Random Robust Cut Forest\n",
    "**New Rule to Choose Split Test:**\n",
    "- $\\ell_i$: length of the $i$th component of the bounding box around current data set\n",
    "- Choose dimension $i$ with probability $\\frac{\\ell_i}{\\sum_j \\ell_j}$\n",
    "- More robust against \"noise dimensions\""
   ]
  },
  {
   "cell_type": "markdown",
   "id": "ef0a2568",
   "metadata": {
    "slideshow": {
     "slide_type": "skip"
    }
   },
   "source": [
    "<center>\n",
    "<img src=\"images/partition2.png\" align=\"center\" width=\"400\" caption=\"Comparisson IForest and RRCF\">\n",
    "</center>"
   ]
  },
  {
   "cell_type": "markdown",
   "id": "ce7f67a8",
   "metadata": {
    "slideshow": {
     "slide_type": "skip"
    }
   },
   "source": [
    "## Variant: Extended Isolation Forest\n",
    "**New split criterion:**\n",
    "- Uniformly choose a normal and an orthogonal hyperplane through the data.\n",
    "- Removes a bias that was empirically observed when plotting the outlier score of iForest on low dimensional data sets\n",
    "\n",
    "<center>\n",
    "<img src=\"images/extended.png\" align=\"center\" width=\"80%\">\n",
    "</center>"
   ]
  },
  {
   "cell_type": "markdown",
   "id": "f144c10d",
   "metadata": {
    "slideshow": {
     "slide_type": "subslide"
    }
   },
   "source": [
    "# Exercise: Network Security\n",
    "\n",
    "In the final exercise of today you will have to develop an anomaly detection system for network traffic.\n",
    "\n",
    "## Briefing\n",
    "A large e-commerce company __A__ is experiencing downtime due to attacks on their infrastructure.\n",
    "You were instructed to develop a system that can detect malicious connections to the infrastructure.\n",
    "It is planned that suspicious clients will be banned.\n",
    "\n",
    "Another data science team already prepared the connection data of the last year for you. They also separated a test set and manually identified and labeled attacks in that data.\n",
    "\n",
    "## The Data\n",
    "We will work on a version of the classic KDD99 data set.\n",
    "\n",
    "### Kddcup 99 Data Set\n",
    "----------------------------\n",
    "The KDD Cup '99 dataset was created by processing the tcp dump portions\n",
    "of the 1998 DARPA Intrusion Detection System (IDS) Evaluation dataset,\n",
    "created by MIT Lincoln Lab [1]. The artificial data (described on the `dataset's\n",
    "homepage <https://kdd.ics.uci.edu/databases/kddcup99/kddcup99.html>`_) was\n",
    "generated using a closed network and hand-injected attacks to produce a\n",
    "large number of different types of attack with normal activity in the\n",
    "background.\n",
    "\n",
    "    =========================   ====================================================\n",
    "    Samples total               976158\n",
    "    Dimensionality              41\n",
    "    Features                    string (str), discrete (int), continuous (float)\n",
    "    Targets                     str, 'normal.' or name of the anomaly type\n",
    "    Proportion of Anomalies     1%\n",
    "    =========================   ====================================================\n",
    "\n",
    "----------------------------------\n",
    "\n",
    "## Task\n",
    "You will have to develop the system on your own. In particular, you will have to\n",
    "- Explore the data.\n",
    "- Choose an algorithm.\n",
    "- Find a good detection threshold.\n",
    "- Evaluate and summarize your results.\n",
    "- Estimate how much __A__ could save through the use of your system."
   ]
  },
  {
   "cell_type": "code",
   "execution_count": null,
   "id": "91e31b17",
   "metadata": {
    "pycharm": {
     "name": "#%%\n"
    },
    "slideshow": {
     "slide_type": "skip"
    }
   },
   "outputs": [],
   "source": [
    "X_train,X_test,y_test = get_kdd_data()"
   ]
  },
  {
   "cell_type": "markdown",
   "id": "9a47f0c1",
   "metadata": {
    "slideshow": {
     "slide_type": "skip"
    }
   },
   "source": [
    "# Explore Data"
   ]
  },
  {
   "cell_type": "code",
   "execution_count": null,
   "id": "5044d551",
   "metadata": {
    "pycharm": {
     "name": "#%%\n"
    },
    "slideshow": {
     "slide_type": "skip"
    }
   },
   "outputs": [],
   "source": [
    "#\n",
    "# Add your exploration code\n",
    "#\n",
    "X_train = pd.DataFrame(X_train)\n",
    "X_test = pd.DataFrame(X_test)"
   ]
  },
  {
   "cell_type": "code",
   "execution_count": null,
   "id": "f2f4d539",
   "metadata": {
    "pycharm": {
     "name": "#%%\n"
    },
    "slideshow": {
     "slide_type": "skip"
    }
   },
   "outputs": [],
   "source": [
    "# get description\n",
    "X_train.describe()"
   ]
  },
  {
   "cell_type": "code",
   "execution_count": null,
   "id": "d1483fbf",
   "metadata": {
    "pycharm": {
     "name": "#%%\n"
    },
    "slideshow": {
     "slide_type": "skip"
    }
   },
   "outputs": [],
   "source": [
    "# get better description\n",
    "X_train.drop(columns=[1,2,3]).astype(float).describe()"
   ]
  },
  {
   "cell_type": "code",
   "execution_count": null,
   "id": "8ac2ddd4",
   "metadata": {
    "pycharm": {
     "name": "#%%\n"
    },
    "slideshow": {
     "slide_type": "skip"
    }
   },
   "outputs": [],
   "source": [
    "# Check for NaNs\n",
    "print(\"Number of NaNs: {}\".format(X_train.isna().sum().sum()))"
   ]
  },
  {
   "cell_type": "code",
   "execution_count": null,
   "id": "763c76dc",
   "metadata": {
    "pycharm": {
     "name": "#%%\n"
    },
    "slideshow": {
     "slide_type": "skip"
    }
   },
   "outputs": [],
   "source": [
    "#\n",
    "# Add your preperation code here\n",
    "#\n",
    "\n",
    "# Encode string features\n",
    "binarizer = LabelBinarizer()\n",
    "one_hots = None\n",
    "one_hots_test = None\n",
    "for i in [1, 2, 3]:\n",
    "    binarizer.fit(X_train[[i]].astype(str))\n",
    "    if one_hots is None:\n",
    "        one_hots = binarizer.transform(X_train[[i]].astype(str))\n",
    "        one_hots_test = binarizer.transform(X_test[[i]].astype(str))\n",
    "    else:\n",
    "        one_hots = np.concatenate([one_hots, binarizer.transform(X_train[[i]].astype(str))], axis=1)\n",
    "        one_hots_test = np.concatenate([one_hots_test, binarizer.transform(X_test[[i]].astype(str))], axis=1)\n",
    "\n",
    "X_train.drop(columns=[1,2,3], inplace=True)\n",
    "X_train_onehot = pd.DataFrame(np.concatenate([X_train.values, one_hots], axis=1))\n",
    "\n",
    "X_test.drop(columns=[1,2,3], inplace=True)\n",
    "X_test_onehot = pd.DataFrame(np.concatenate([X_test.values, one_hots_test], axis=1))"
   ]
  },
  {
   "cell_type": "code",
   "execution_count": null,
   "id": "1d363320",
   "metadata": {
    "pycharm": {
     "name": "#%%\n"
    },
    "slideshow": {
     "slide_type": "skip"
    }
   },
   "outputs": [],
   "source": [
    "# Encode y\n",
    "y_test_bin = np.where(y_test == b'normal.', 0, 1)\n"
   ]
  },
  {
   "cell_type": "code",
   "execution_count": null,
   "id": "ef0cf969",
   "metadata": {
    "pycharm": {
     "name": "#%%\n"
    },
    "slideshow": {
     "slide_type": "skip"
    }
   },
   "outputs": [],
   "source": [
    "# Remove suspicious data\n",
    "# This step is not strictly neccessary but can improve performance\n",
    "suspicious = X_train_onehot.apply(lambda col: (col - col.mean()).abs() > 4 * col.std() if col.std() > 1 else False)\n",
    "suspicious = suspicious.any(axis=1)# 4 sigma rule\n",
    "print('filtering {} suspicious data points'.format(suspicious.sum()))\n",
    "X_train_clean = X_train_onehot[~suspicious]"
   ]
  },
  {
   "cell_type": "markdown",
   "id": "201f1dfb",
   "metadata": {},
   "source": [
    "# Summary\n",
    "- Isolation Forest empirically shows very good performance to relatively high dimensions\n",
    "- It is relatively robust against contamination.\n",
    "- Usually little need for hyperparameter tuning\n",
    "\n",
    "## Implementations\n",
    "- Sklearn: [sklearn.ensemble.IsolationForest](https://scikit-learn.org/stable/modules/generated/sklearn.ensemble.IsolationForest.html)\n",
    "- Extended Isolation Forest: [variant](https://github.com/sahandha/eif)\n",
    "- Random Robust Cut Forest: [variant](https://github.com/kLabUM/rrcf)"
   ]
  },
  {
   "cell_type": "markdown",
   "id": "80805d83",
   "metadata": {
    "slideshow": {
     "slide_type": "skip"
    }
   },
   "source": [
    "# Choose Algorithm"
   ]
  },
  {
   "cell_type": "code",
   "execution_count": null,
   "id": "13d462c9",
   "metadata": {
    "pycharm": {
     "name": "#%%\n"
    },
    "slideshow": {
     "slide_type": "skip"
    }
   },
   "outputs": [],
   "source": [
    "# TODO: implement proper model selection\n",
    "iforest = IsolationForest()\n",
    "iforest.fit(X_train_clean)"
   ]
  },
  {
   "cell_type": "code",
   "execution_count": null,
   "id": "1877e13d",
   "metadata": {
    "pycharm": {
     "name": "#%%\n"
    },
    "slideshow": {
     "slide_type": "skip"
    }
   },
   "outputs": [],
   "source": [
    "# find best threshold\n",
    "X_test_onehot, X_val_onehot, y_test_bin, y_val_bin = train_test_split(X_test_onehot, y_test_bin, test_size=.5)\n",
    "y_score = -iforest.score_samples(X_val_onehot).reshape(-1)\n",
    "\n",
    "eval = evaluate(y_val_bin, y_score)\n",
    "prec, rec, thr = eval['PR']\n",
    "f1s = 2 * (prec * rec)/(prec + rec)\n",
    "threshold = thr[np.argmax(f1s)]"
   ]
  },
  {
   "cell_type": "markdown",
   "id": "7338159f",
   "metadata": {
    "slideshow": {
     "slide_type": "skip"
    }
   },
   "source": [
    "# Evaluate Solution"
   ]
  },
  {
   "cell_type": "code",
   "execution_count": null,
   "id": "920afcf1",
   "metadata": {
    "pycharm": {
     "name": "#%%\n"
    },
    "slideshow": {
     "slide_type": "skip"
    }
   },
   "outputs": [],
   "source": [
    "#\n",
    "# Insert evaluation code\n",
    "#\n",
    "y_score = -iforest.score_samples(X_test_onehot).reshape(-1)\n",
    "y_pred = np.where(y_score < threshold, 0, 1)\n",
    "\n",
    "print('Precision: {}'.format(metrics.precision_score(y_test_bin, y_pred)))\n",
    "print('Recall: {}'.format(metrics.recall_score(y_test_bin, y_pred)))\n",
    "print('F1: {}'.format(metrics.f1_score(y_test_bin, y_pred)))"
   ]
  },
  {
   "cell_type": "markdown",
   "id": "6287222a",
   "metadata": {
    "slideshow": {
     "slide_type": "slide"
    }
   },
   "source": [
    "# Anomaly Detection via Reconstruction Error\n",
    "**Idea:** Embed the data into low dimensional space and reconstruct it again.\n",
    "\t\t\tGood embedding of nominal data $\\Rightarrow$ high reconstruction error indicates anomaly.\n",
    "\n",
    "**Autoencoder:**\n",
    "- Parametric family of encoders: $f_\\phi: \\mathbb{R}^d \\to \\mathbb{R}^{\\text{low}}$\n",
    "- Parametric family of decoders: $g_\\theta: \\mathbb{R}^{\\text{low}} \\to \\mathbb{R}^{d}$\n",
    "- Reconstruction error of $(f_\\phi, g_\\theta)$ on $x$: $|x - g_\\theta(f_\\phi(x))|$\n",
    "- Given data set $D$, find $\\phi,\\theta$ that minimize $\\sum_{x\\in D} L(|x- g_\\theta(f_\\phi(x))|) $\n",
    "  for some loss function $L$.\n"
   ]
  },
  {
   "cell_type": "markdown",
   "id": "ebb5094e",
   "metadata": {
    "slideshow": {
     "slide_type": "subslide"
    }
   },
   "source": [
    "# Visualization\n",
    "<center>\n",
    "<img src=\"images/autoencoder.png\" align=\"center\" width=\"400\">\n",
    "    Autoencoder Schema\n",
    "</center>"
   ]
  },
  {
   "cell_type": "markdown",
   "id": "565a43e9",
   "metadata": {
    "slideshow": {
     "slide_type": "subslide"
    }
   },
   "source": [
    "## Neural Networks\n",
    "Neural networks are very well suited for finding low dimensional representations of data. Hence they are a popular choice the encoder and decoder.\n",
    "\n",
    "---\n",
    "**Artificial Neuron with $N$ inputs:** $y = \\sigma\\left(\\sum_i^N w_i X_i + b\\right)$\n",
    "\n",
    "- $\\sigma$: nonlinear activation-function (applied component wise).\n",
    "- $b$ bias\n",
    "---"
   ]
  },
  {
   "cell_type": "markdown",
   "id": "e658847c",
   "metadata": {
    "slideshow": {
     "slide_type": "subslide"
    }
   },
   "source": [
    "<table style=\"background-color:#FFFFFF;\">\n",
    "    <tr>\n",
    "        <td style=\"background-color:#FFFFFF;\"><img src=\"images/neuron.png\" width=\"200\"></td>\n",
    "        <td style=\"background-color:#FFFFFF;\"><img src=\"images/activations.png\"  width=\"200\"></td>\n",
    "    </tr>\n",
    "    <tr>\n",
    "        <td colspan=\"2\" style=\"background-color:#FFFFFF;\"><center>Isolation depth of nominal point and anomaly</center></td>\n",
    "    </tr>\n",
    "</table>"
   ]
  },
  {
   "cell_type": "markdown",
   "id": "09243719",
   "metadata": {
    "slideshow": {
     "slide_type": "subslide"
    }
   },
   "source": [
    "# Neural Networks\n",
    "\n",
    "Neural networks combine many artificial neurons into a complex network. These networks are usually organized in layers\n",
    "where the result of each layer is the input for the next layer. Some commonly used layers are:"
   ]
  },
  {
   "cell_type": "markdown",
   "id": "3376f048",
   "metadata": {
    "slideshow": {
     "slide_type": "subslide"
    }
   },
   "source": [
    "<center>\n",
    "<img src=\"images/nn_layers.png\" align=\"center\" width=\"600\">\n",
    "</center>"
   ]
  },
  {
   "cell_type": "markdown",
   "id": "d8794297",
   "metadata": {
    "slideshow": {
     "slide_type": "subslide"
    }
   },
   "source": [
    "## Variational Autoencoders\n",
    "An important extension of autoencoders that relates the idea to density estimation.\n",
    "More precisely, we define a generative model for our data using latent variables and combine the maximum likelihood\n",
    "estimation of the parameters with a simultaneous posterior estimation of the latents through amortized stochastic\n",
    "variational inference. We use a decoder network to transform the latent variables into the data distribution, and an\n",
    "encoder network to compute the posterior distribution of the latents given the data."
   ]
  },
  {
   "cell_type": "markdown",
   "id": "6b5efeac",
   "metadata": {
    "slideshow": {
     "slide_type": "subslide"
    }
   },
   "source": [
    "---\n",
    "**Definition:**\n",
    "The model uses an observed variable $X$ (the data) and a latent variable $Z$ (the defining features of $X$). We assume\n",
    "both $P(Z)$ and $P(X\\mid Z)$ to be normally distributed. More precisely\n",
    "\n",
    "- $P(Z) = \\mathcal{N}(0, I)$\n",
    "- $P(X\\mid Z) = \\mathcal{N}(\\mu_\\phi(Z), I)$\n",
    "\n",
    "where $\\mu_\\phi$ is a neural network parametrized with $\\phi$, respectively.\n",
    "We use variational inference to perform posterior inference on $Z$ given $X$. We assume that distribution $P(Z\\mid X)$\n",
    "be relative well approximated by a Gaussian and use the posterior approximation\n",
    "- $q(X\\mid Z) = \\mathcal{N}(\\mu_\\psi(X), \\sigma_\\psi(X))$\n",
    "\n",
    "$\\mu_\\psi$ and $\\sigma_\\psi$ are neural networks parameterized with $\\psi$\n",
    "\n",
    "---"
   ]
  },
  {
   "cell_type": "markdown",
   "id": "76d013d3",
   "metadata": {
    "slideshow": {
     "slide_type": "subslide"
    }
   },
   "source": [
    "<center>\n",
    "<img src=\"images/vae_schema.png\" align=\"center\" width=\"600\">\n",
    "</center>"
   ]
  },
  {
   "cell_type": "markdown",
   "id": "81661bf9",
   "metadata": {
    "slideshow": {
     "slide_type": "subslide"
    }
   },
   "source": [
    "Given a data set $D$ we minimize the (amortized) Kullback-Leibler divergence between our posterior approximation and the\n",
    "true posterior.\n",
    "\\begin{align*}\n",
    "  D_{KL}(q(Z\\mid X),P(Z\\mid X)) &= E_{x\\sim X, z\\sim q(Z\\mid x)}\\left[\\log\\left(\\frac{q(z \\mid x)}{p(z \\mid X)}\\right)\\right] \\\\\n",
    "    &= E_{x\\sim x, z\\sim q(Z\\mid X)}\\left[\\log\\left(\\frac{q(z \\mid x)}{\\frac{p(x \\mid z)p(z)}{p(x)}}\\right)\\right] \\\\\n",
    "    &= E_{x\\sim x, z\\sim q(Z\\mid x)}\\left[\\log\\left(\\frac{q(z \\mid x)}{p(x \\mid z)p(z)}\\right) + \\log(p(x))\\right] \\\\\n",
    "    &= E_{x\\sim x, z\\sim q(Z\\mid x)}\\left[\\log\\left(\\frac{q(z \\mid x)}{p(x \\mid z)p(z)}\\right)\\right] + E_{x\\sim X}[\\log(p(x))] \\\\\n",
    "    &= E_{x\\sim x, z\\sim q(Z\\mid x)}\\left[\\log\\left(\\frac{q(z \\mid x)}{p(x \\mid z)p(z)}\\right)\\right] + C\n",
    "\\end{align*}\n",
    "\n",
    "We use that our data $D$ is drawn from $X$ and that can sample from\n",
    "$q(Z \\mid x) = \\mathcal{N}(\\mu_\\psi(x), \\sigma_\\psi(x))$ to perform stochastic gradient descent to minimize\n",
    "$D_{KL}(q(Z\\mid X),P(Z\\mid X))$ with respect to $\\phi$ and $\\psi$.\n"
   ]
  },
  {
   "cell_type": "markdown",
   "id": "7131628c",
   "metadata": {
    "slideshow": {
     "slide_type": "subslide"
    }
   },
   "source": [
    "# Exercise"
   ]
  },
  {
   "cell_type": "markdown",
   "id": "05f8c5a6",
   "metadata": {},
   "source": [
    "# The MNIST Data Set\n",
    "MNIST is one of the most iconic data sets in the history of machine learning.\n",
    "It contains 70000 samples of $28\\times 28$ grayscale images of handwritten digits.\n",
    "Because of its moderate complexity and good visualizability it is well suited to study the behavior of machine learning\n",
    "algorithms in higher dimensional spaces.\n",
    "\n",
    "While originally created for classification (optical character recognition), we can build an anomaly detection data set\n",
    "by corrupting some of the images.\n"
   ]
  },
  {
   "cell_type": "markdown",
   "id": "28979a57",
   "metadata": {
    "slideshow": {
     "slide_type": "skip"
    }
   },
   "source": [
    "# Pre-processing\n",
    "We first need to obtain the MNIST data set and prepare an anomaly detection set from it.\n",
    "Note that the data set is n row vector format.\n",
    "Therefore, we work with $28\\times 28 = 784$ dimensional data points."
   ]
  },
  {
   "cell_type": "markdown",
   "id": "d2508225",
   "metadata": {
    "slideshow": {
     "slide_type": "skip"
    }
   },
   "source": [
    "## Load MNIST Data Set"
   ]
  },
  {
   "cell_type": "code",
   "execution_count": null,
   "id": "a95d8450",
   "metadata": {
    "pycharm": {
     "name": "#%%\n"
    },
    "slideshow": {
     "slide_type": "skip"
    }
   },
   "outputs": [],
   "source": [
    "mnist = fetch_openml('mnist_784', version=1)\n",
    "\n",
    "data = mnist.data\n",
    "print('data.shape: {}'.format(data.shape))\n",
    "target = mnist.target.astype(int)"
   ]
  },
  {
   "cell_type": "markdown",
   "id": "f6b6bde9",
   "metadata": {
    "slideshow": {
     "slide_type": "skip"
    }
   },
   "source": [
    "## Build contaminated Data Sets\n",
    "We prepared a function that does the job for us.\n",
    "It corrupts a prescribed portion of the data by introducing a rotation, noise or a blackout of some part of the image.\n",
    "\n",
    "First, we need to transform the data into image format."
   ]
  },
  {
   "cell_type": "code",
   "execution_count": null,
   "id": "954d3762",
   "metadata": {
    "pycharm": {
     "name": "#%%\n"
    },
    "slideshow": {
     "slide_type": "skip"
    }
   },
   "outputs": [],
   "source": [
    "X = data.values.reshape(-1, 28, 28, 1)/255"
   ]
  },
  {
   "cell_type": "markdown",
   "id": "f4d6c089",
   "metadata": {
    "slideshow": {
     "slide_type": "skip"
    }
   },
   "source": [
    "### Train/Test-Split\n",
    "We will only corrupt the test set, hence we will perform the train-test split beforehand.\n",
    "We separate a relatively small test set so that we can use as much as possible from the data to obtain high quality\n",
    "representations."
   ]
  },
  {
   "cell_type": "code",
   "execution_count": null,
   "id": "a0fb9c57",
   "metadata": {
    "pycharm": {
     "name": "#%%\n"
    },
    "slideshow": {
     "slide_type": "skip"
    }
   },
   "outputs": [],
   "source": [
    "test_size = .1\n",
    "X_train, X_test, target_train, target_test = train_test_split(X, target, test_size=test_size)"
   ]
  },
  {
   "cell_type": "code",
   "execution_count": null,
   "id": "d6ad3d43",
   "metadata": {
    "pycharm": {
     "name": "#%%\n"
    },
    "slideshow": {
     "slide_type": "skip"
    }
   },
   "outputs": [],
   "source": [
    "X_test, y_test = build_contaminated_minst(X_test)\n",
    "\n",
    "# Visualize contamination\n",
    "anomalies = X_test[y_test != 0]\n",
    "selection = np.random.choice(len(anomalies), 25)\n",
    "\n",
    "fig, axes = plt.subplots(nrows=5, ncols=5, figsize=(5, 5))\n",
    "for img, ax in zip(anomalies[selection], axes.flatten()):\n",
    "    ax.imshow(img, 'gray')\n",
    "    ax.axis('off')\n",
    "plt.show()"
   ]
  },
  {
   "cell_type": "markdown",
   "id": "3c459a8a",
   "metadata": {
    "slideshow": {
     "slide_type": "skip"
    }
   },
   "source": [
    "# Autoencoder\n",
    "Let us finally train an autoencoder model. We replicate the model given in the\n",
    "[Keras documentation](https://keras.io/examples/generative/vae/) and apply it in a synthetic outlier detection scenario\n",
    "based on MNIST.\n",
    "\n",
    "in the vae package we provide the implementation of the VAE. Please take a look into the source code to see how\n",
    "the minimization of the KL divergence is implemented."
   ]
  },
  {
   "cell_type": "markdown",
   "id": "c1af1c41",
   "metadata": {
    "slideshow": {
     "slide_type": "skip"
    }
   },
   "source": [
    "## Create Model"
   ]
  },
  {
   "cell_type": "code",
   "execution_count": null,
   "id": "c90996a0",
   "metadata": {
    "pycharm": {
     "name": "#%%\n"
    },
    "slideshow": {
     "slide_type": "skip"
    }
   },
   "outputs": [],
   "source": [
    "latent_dim = 3\n",
    "vae = VAE(decoder=build_decoder_mnist(latent_dim=latent_dim), encoder=build_encoder_minst(latent_dim=latent_dim))"
   ]
  },
  {
   "cell_type": "code",
   "execution_count": null,
   "id": "efb89bdd",
   "metadata": {
    "pycharm": {
     "name": "#%%\n"
    },
    "slideshow": {
     "slide_type": "skip"
    }
   },
   "outputs": [],
   "source": [
    "## Inspect model architecture\n",
    "vae.encoder.summary()\n"
   ]
  },
  {
   "cell_type": "code",
   "execution_count": null,
   "id": "68b219e9",
   "metadata": {
    "pycharm": {
     "name": "#%%\n"
    },
    "slideshow": {
     "slide_type": "skip"
    }
   },
   "outputs": [],
   "source": [
    "## Inspect model architecture\n",
    "vae.decoder.summary()\n"
   ]
  },
  {
   "cell_type": "code",
   "execution_count": null,
   "id": "01b43aff",
   "metadata": {
    "pycharm": {
     "name": "#%%\n"
    },
    "slideshow": {
     "slide_type": "skip"
    }
   },
   "outputs": [],
   "source": [
    "# train model\n",
    "vae.compile(optimizer=keras.optimizers.Adam(learning_rate=.001))\n",
    "history = vae.fit(X_train, epochs=30, batch_size=128)"
   ]
  },
  {
   "cell_type": "markdown",
   "id": "e1519875",
   "metadata": {
    "slideshow": {
     "slide_type": "skip"
    }
   },
   "source": [
    "## Inspect Result"
   ]
  },
  {
   "cell_type": "code",
   "execution_count": null,
   "id": "80ab41fd",
   "metadata": {
    "pycharm": {
     "name": "#%%\n"
    },
    "slideshow": {
     "slide_type": "skip"
    }
   },
   "outputs": [],
   "source": [
    "import matplotlib.pyplot as plt\n",
    "\n",
    "\n",
    "def plot_latent_space(vae, n=10, figsize=10):\n",
    "    for perm in [[0, 1, 2], [1, 2, 0], [2, 1, 0]]:\n",
    "        # display a n*n 2D manifold of digits\n",
    "        digit_size = 28\n",
    "        scale = 1.0\n",
    "        figure = np.zeros((digit_size * n, digit_size * n))\n",
    "        # linearly spaced coordinates corresponding to the 2D plot\n",
    "        # of digit classes in the latent space\n",
    "        grid_x = np.linspace(-scale, scale, n)\n",
    "        grid_y = np.linspace(-scale, scale, n)[::-1]\n",
    "\n",
    "        for i, yi in enumerate(grid_y):\n",
    "            for j, xi in enumerate(grid_x):\n",
    "                z_sample = np.array([[xi, yi, 0]])\n",
    "                z_sample[0] = z_sample[0][perm]\n",
    "                x_decoded = vae.decoder.predict(z_sample)\n",
    "                digit = x_decoded[0].reshape(digit_size, digit_size)\n",
    "                figure[\n",
    "                    i * digit_size : (i + 1) * digit_size,\n",
    "                    j * digit_size : (j + 1) * digit_size,\n",
    "                ] = digit\n",
    "\n",
    "        plt.figure(figsize=(figsize, figsize))\n",
    "        start_range = digit_size // 2\n",
    "        end_range = n * digit_size + start_range\n",
    "        pixel_range = np.arange(start_range, end_range, digit_size)\n",
    "        sample_range_x = np.round(grid_x, 1)\n",
    "        sample_range_y = np.round(grid_y, 1)\n",
    "        plt.xticks(pixel_range, sample_range_x)\n",
    "        plt.yticks(pixel_range, sample_range_y)\n",
    "        plt.xlabel(\"z[{}]\".format(perm[0]))\n",
    "        plt.ylabel(\"z[{}]\".format(perm[1]))\n",
    "        plt.gca().set_title('z[{}] = 0'.format(perm[2]))\n",
    "        plt.imshow(figure, cmap=\"Greys_r\")\n",
    "        plt.show()"
   ]
  },
  {
   "cell_type": "code",
   "execution_count": null,
   "id": "bdb0f67d",
   "metadata": {
    "pycharm": {
     "name": "#%%\n"
    },
    "scrolled": false,
    "slideshow": {
     "slide_type": "skip"
    }
   },
   "outputs": [],
   "source": [
    "plot_latent_space(vae)"
   ]
  },
  {
   "cell_type": "code",
   "execution_count": null,
   "id": "0d6a5b6f",
   "metadata": {
    "pycharm": {
     "name": "#%%\n"
    },
    "slideshow": {
     "slide_type": "skip"
    }
   },
   "outputs": [],
   "source": [
    "# Principal components\n",
    "pca = PCA()\n",
    "latents = vae.encoder.predict(X_train)[2]\n",
    "pca.fit(latents)\n",
    "\n",
    "kwargs = {'x_{}'.format(i): (-1., 1.) for i in range(latent_dim)}\n",
    "\n",
    "\n",
    "@widgets.interact(**kwargs)\n",
    "def explore_latent_space(**kwargs):\n",
    "    center_img = pca.transform(np.zeros([1,latent_dim]))\n",
    "\n",
    "    latent_rep_pca =  center_img + np.array([[kwargs[key] for key in kwargs]])\n",
    "    latent_rep = pca.inverse_transform(latent_rep_pca)\n",
    "    img = vae.decoder(latent_rep).numpy().reshape(28, 28)\n",
    "\n",
    "    fig, ax = plt.subplots()\n",
    "    ax.axis('off')\n",
    "    ax.axis('off')\n",
    "\n",
    "    ax.imshow(img,cmap='gray', vmin=0, vmax=1)\n",
    "    plt.show()"
   ]
  },
  {
   "cell_type": "code",
   "execution_count": null,
   "id": "6f9fb82f",
   "metadata": {
    "pycharm": {
     "name": "#%%\n"
    },
    "slideshow": {
     "slide_type": "skip"
    }
   },
   "outputs": [],
   "source": [
    "latents = vae.encoder.predict(X_train)[2]\n",
    "scatter = px.scatter_3d(x=latents[:, 0], y=latents[:, 1], z=latents[:, 2], color=target_train)\n",
    "\n",
    "scatter.show()"
   ]
  },
  {
   "cell_type": "code",
   "execution_count": null,
   "id": "ea370a83",
   "metadata": {
    "pycharm": {
     "name": "#%%\n"
    },
    "slideshow": {
     "slide_type": "skip"
    }
   },
   "outputs": [],
   "source": [
    "latents = vae.encoder.predict(X_test)[2]\n",
    "scatter = px.scatter_3d(x=latents[:, 0], y=latents[:, 1], z=latents[:, 2], color=y_test)\n",
    "\n",
    "scatter.show()"
   ]
  },
  {
   "cell_type": "code",
   "execution_count": null,
   "id": "dee0a98e",
   "metadata": {
    "pycharm": {
     "name": "#%%\n"
    },
    "slideshow": {
     "slide_type": "skip"
    }
   },
   "outputs": [],
   "source": [
    "X_test, X_val, y_test, y_val = train_test_split(X_test, y_test)\n"
   ]
  },
  {
   "cell_type": "code",
   "execution_count": null,
   "id": "65c957f8",
   "metadata": {
    "pycharm": {
     "name": "#%%\n"
    },
    "slideshow": {
     "slide_type": "skip"
    }
   },
   "outputs": [],
   "source": [
    "n_samples = 10\n",
    "\n",
    "s = np.random.choice(range(len(X_val)), n_samples)\n",
    "s = X_val[s]\n",
    "#s = [X_train_img[i] for i in s]\n",
    "\n",
    "fig, axes = plt.subplots(nrows=2, ncols=n_samples, figsize=(10, 2))\n",
    "for img, ax_row in zip(s, axes.T):\n",
    "    x = vae.decoder.predict(vae.encoder.predict(img.reshape(1, 28, 28, 1))[2]).reshape(28, 28)\n",
    "    diff = x - img.reshape(28, 28)\n",
    "    error = (diff * diff).sum()\n",
    "    ax_row[0].axis('off')\n",
    "    ax_row[1].axis('off')\n",
    "    ax_row[0].imshow(img,cmap='gray', vmin=0, vmax=1)\n",
    "    ax_row[1].imshow(x, cmap='gray', vmin=0, vmax=1)\n",
    "    ax_row[1].set_title('E={:.1f}'.format(error))\n",
    "\n",
    "plt.tight_layout()\n",
    "plt.show()"
   ]
  },
  {
   "cell_type": "code",
   "execution_count": null,
   "id": "350edb6c",
   "metadata": {
    "pycharm": {
     "name": "#%%\n"
    },
    "slideshow": {
     "slide_type": "skip"
    }
   },
   "outputs": [],
   "source": [
    "from sklearn import metrics\n",
    "y_test_bin = y_test.copy()\n",
    "y_test_bin[y_test != 0] = 1\n",
    "y_val_bin = y_val.copy()\n",
    "y_val_bin[y_val != 0] = 1\n",
    "# Evaluate\n",
    "reconstruction = vae.decoder.predict(vae.encoder(X_val)[2])\n",
    "rerrors = (reconstruction - X_val).reshape(-1, 28*28)\n",
    "rerrors = (rerrors * rerrors).sum(axis=1)\n",
    "eval = evaluate(y_val_bin.astype(int), rerrors.astype(float))\n",
    "pr, rec, thr = eval['PR']\n",
    "f1s = (2 * ((pr * rec)[:-1]/(pr + rec)[:-1]))\n",
    "threshold = thr[np.argmax(f1s)]\n",
    "print('Optimal threshold: {}'.format(threshold))\n",
    "\n",
    "reconstruction = vae.decoder.predict(vae.encoder(X_test)[2])\n",
    "reconstruction_error = (reconstruction - X_test).reshape(-1, 28*28)\n",
    "reconstruction_error = (reconstruction_error * reconstruction_error).sum(axis=1)\n",
    "\n",
    "\n",
    "classification = (reconstruction_error > threshold).astype(int)\n",
    "\n",
    "print('Precision: {}'.format(metrics.precision_score(y_test_bin, classification)))\n",
    "print('Recall: {}'.format(metrics.recall_score(y_test_bin, classification)))\n",
    "print('F1: {}'.format(metrics.f1_score(y_test_bin, classification)))\n",
    "\n",
    "metrics.confusion_matrix(y_test_bin, classification)\n"
   ]
  },
  {
   "cell_type": "markdown",
   "id": "c8c5568d",
   "metadata": {
    "slideshow": {
     "slide_type": "skip"
    }
   },
   "source": [
    "## Sort Data by Reconstruction Error"
   ]
  },
  {
   "cell_type": "code",
   "execution_count": null,
   "id": "9b304ec8",
   "metadata": {
    "pycharm": {
     "name": "#%%\n"
    },
    "slideshow": {
     "slide_type": "skip"
    }
   },
   "outputs": [],
   "source": [
    "combined = list(zip(X_test, reconstruction_error))\n",
    "combined.sort(key = lambda x: x[1])\n"
   ]
  },
  {
   "cell_type": "markdown",
   "id": "555fd7f3",
   "metadata": {
    "slideshow": {
     "slide_type": "skip"
    }
   },
   "source": [
    "## Show Top Autoencoder Outliers"
   ]
  },
  {
   "cell_type": "code",
   "execution_count": null,
   "id": "d51d7a5c",
   "metadata": {
    "pycharm": {
     "name": "#%%\n"
    },
    "slideshow": {
     "slide_type": "skip"
    }
   },
   "outputs": [],
   "source": [
    "n_rows = 10\n",
    "n_cols = 10\n",
    "n_samples = n_rows*n_cols\n",
    "\n",
    "samples = [c[0] for c in combined[-n_samples:]]\n",
    "\n",
    "fig, axes = plt.subplots(nrows=n_rows, ncols=n_cols, figsize=(2*n_cols, 2*n_rows))\n",
    "for img, ax in zip(samples, axes.reshape(-1)):\n",
    "    ax.axis('off')\n",
    "    ax.imshow(img.reshape((28,28)), cmap='gray', vmin=0, vmax=1)\n",
    "\n",
    "plt.show()\n"
   ]
  },
  {
   "cell_type": "markdown",
   "id": "85cd3f88",
   "metadata": {},
   "source": [
    "# Summary\n",
    "- Autoencoder are the most prominent reconstruction error based anomaly detection method.\n",
    "- Can provide high quality results on high dimensional data.\n",
    "- Architecture is highly adaptable to the data (fully connected, CNN, attention,...).\n",
    "- Sensitive to contamination.\n",
    "- Variational autoencoder are an important variant the improves the interpretability of the latent space.\n",
    "\n",
    "## Implementations\n",
    "- Keras: see vae.py or [here](https://keras.io/examples/generative/vae/)\n",
    "- Pytorch: [example implementation](https://colab.research.google.com/github/smartgeometry-ucl/dl4g/blob/master/variational_autoencoder.ipynb)\n",
    "- Pyro (pytorch based probabilistic programming language): [example implementation](https://pyro.ai/examples/vae.html)"
   ]
  },
  {
   "cell_type": "markdown",
   "id": "b1dd207a",
   "metadata": {
    "slideshow": {
     "slide_type": "slide"
    }
   },
   "source": [
    "<img src=\"aai_presentation_last_slide.svg\" alt=\"Snow\" style=\"width:100%;\">"
   ]
  }
 ],
 "metadata": {
  "celltoolbar": "Slideshow",
  "kernelspec": {
   "display_name": "Python 3",
   "language": "python",
   "name": "python3"
  },
  "language_info": {
   "codemirror_mode": {
    "name": "ipython",
    "version": 3
   },
   "file_extension": ".py",
   "mimetype": "text/x-python",
   "name": "python",
   "nbconvert_exporter": "python",
   "pygments_lexer": "ipython3",
   "version": "3.9.4"
  }
 },
 "nbformat": 4,
 "nbformat_minor": 5
}
