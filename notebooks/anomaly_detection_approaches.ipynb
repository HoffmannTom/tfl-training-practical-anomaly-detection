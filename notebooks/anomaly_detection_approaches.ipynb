{
 "cells": [
  {
   "cell_type": "code",
   "execution_count": 1,
   "id": "087253b8",
   "metadata": {
    "pycharm": {
     "name": "#%%\n"
    },
    "slideshow": {
     "slide_type": "skip"
    }
   },
   "outputs": [
    {
     "data": {
      "text/html": [
       "<style>/*\n",
       "This file is mainly copy-pasta from rise's examples\n",
       "https://github.com/damianavila/RISE/blob/master/examples/rise.css\n",
       "that was further customized for appliedAI purposes\n",
       "*/\n",
       "@import url('https://fonts.googleapis.com/css2?family=Work+Sans:wght@300&display=swap');\n",
       "\n",
       ".reveal {\n",
       "    color: white !important;\n",
       "    font-family: 'Work Sans', sans-serif !important;\n",
       "}\n",
       "\n",
       "/* Overriding reveal styles in headers */\n",
       ".reveal h1, .reveal h2, .reveal h3, .reveal h4, .reveal h5, .reveal h6 {\n",
       "    text-transform: initial;   /* sky.css says uppercase */\n",
       "    letter-spacing: initial;   /* sky.css says -0.08em */\n",
       "    font-family: 'Work Sans', sans-serif !important;\n",
       "    color: #00747b !important;\n",
       "}\n",
       "\n",
       "/* Overriding reveal styles in normal text */\n",
       "div.text_cell_render {\n",
       "    font-family: 'Work Sans', sans-serif !important;\n",
       "    color: #1c9b90 !important;\n",
       "}\n",
       "\n",
       "body.rise-enabled .reveal ol, body.rise-enabled .reveal dl, body.rise-enabled .reveal ul {\n",
       "    margin-left: 0.1em;\n",
       "    margin-top: 0.2em;\n",
       "}\n",
       "\n",
       ".reveal .rendered_html h1:first-child,\n",
       ".reveal .rendered_html h2:first-child,\n",
       ".reveal .rendered_html h3:first-child,\n",
       ".reveal .rendered_html h4:first-child,\n",
       ".reveal .rendered_html h5:first-child {\n",
       "    margin-top: 0.2em;\n",
       "}\n",
       "\n",
       "h1.plan, h2.plan, h3.plan {\n",
       "    text-align: center;\n",
       "    padding-bottom: 30px;\n",
       "}\n",
       "\n",
       "ul.plan>li>span.plan-bold {\n",
       "    font-size: 110%;\n",
       "    padding: 4px;\n",
       "    font-weight: bold;\n",
       "    background-color: #eee;\n",
       "}\n",
       "\n",
       "ul.plan>li>ul.subplan>li>span.plan-bold {\n",
       "    font-weight: bold;\n",
       "}\n",
       "\n",
       ".plan-strike {\n",
       "    opacity: 0.4;\n",
       "/*    text-decoration: line-through; */\n",
       "}\n",
       "\n",
       "div.plan-container {\n",
       "    display: grid;\n",
       "    grid-template-columns: 50% 50%;\n",
       "}\n",
       "\n",
       "/*\n",
       " * this is to void xarray's html output to show the fallback textual representation\n",
       " * see also\n",
       "   * xarray.md and\n",
       "   * https://github.com/damianavila/RISE/issues/594\n",
       " */\n",
       ".reveal pre.xr-text-repr-fallback {\n",
       "    display: none;\n",
       "}\n",
       "\n",
       "#rise-header {\n",
       "    margin: 10px;\n",
       "    left: 5%;\n",
       "}\n",
       "\n",
       "#rise-footer {\n",
       "    margin: 10px;\n",
       "    right: 5%;\n",
       "}\n",
       "\n",
       "#rise-backimage {\n",
       "    opacity: 0.70;\n",
       "}\n",
       "\n",
       ".reveal img {\n",
       "    max-width: 100%;\n",
       "}\n",
       "\n",
       "\n",
       "/*Styles for explicit html in markdown cells*/\n",
       ".md-slide {\n",
       "    color: white;\n",
       "    font-family: 'Work Sans', sans-serif !important;\n",
       "}\n",
       "\n",
       ".md-slide.title {\n",
       "  position: relative;\n",
       "  top: -50%;\n",
       "  margin-left: 5%;\n",
       "  font-size: 1em;\n",
       "}</style>"
      ],
      "text/plain": [
       "<IPython.core.display.HTML object>"
      ]
     },
     "execution_count": 1,
     "metadata": {},
     "output_type": "execute_result"
    }
   ],
   "source": [
    "# The output of this cell should be committed to the repo such that the styles are applied after\n",
    "# opening the notebook\n",
    "\n",
    "from IPython.core.display import HTML\n",
    "\n",
    "with open(\"rise.css\", \"r\") as f:\n",
    "    styles = f.read()\n",
    "HTML(f'<style>{styles}</style>')"
   ]
  },
  {
   "cell_type": "code",
   "execution_count": 2,
   "id": "46db38bf",
   "metadata": {
    "pycharm": {
     "name": "#%%\n"
    },
    "slideshow": {
     "slide_type": "skip"
    }
   },
   "outputs": [],
   "source": [
    "import numpy as np\n",
    "import itertools as it\n",
    "from tqdm import tqdm\n",
    "\n",
    "import matplotlib\n",
    "from matplotlib import pyplot as plt\n",
    "import plotly.express as px\n",
    "import pandas as pd\n",
    "\n",
    "import ipywidgets as widgets\n",
    "\n",
    "from exercise_tools import evaluate, get_kdd_data, get_house_prices_data, create_distributions, contamination, \\\n",
    "perform_rkde_experiment, plot_rkde_experiment\n",
    "\n",
    "from ipywidgets import interact\n",
    "\n",
    "from sklearn.metrics import roc_auc_score, average_precision_score\n",
    "from sklearn.model_selection import RandomizedSearchCV\n",
    "from sklearn.preprocessing import MinMaxScaler\n",
    "from sklearn.preprocessing import LabelBinarizer\n",
    "from sklearn.ensemble import IsolationForest\n",
    "from sklearn import metrics\n",
    "from sklearn.model_selection import train_test_split\n",
    "from sklearn.decomposition import PCA\n",
    "from sklearn.neighbors import KernelDensity\n",
    "from sklearn.datasets import fetch_openml\n",
    "\n",
    "from vae import VAE, build_decoder_mnist, build_encoder_minst, build_contaminated_minst\n",
    "\n",
    "from tensorflow import keras\n",
    "\n",
    "%matplotlib inline\n",
    "matplotlib.rcParams['figure.figsize'] = (5, 5)\n"
   ]
  },
  {
   "cell_type": "markdown",
   "id": "7cc2f648",
   "metadata": {
    "slideshow": {
     "slide_type": "slide"
    }
   },
   "source": [
    "<img src=\"aai_presentation_first_slide.svg\" alt=\"Snow\" style=\"width:100%;\">\n",
    "<div class=\"md-slide title\">Anomaly Detection</div>"
   ]
  },
  {
   "cell_type": "markdown",
   "id": "cb85606a",
   "metadata": {
    "slideshow": {
     "slide_type": "slide"
    }
   },
   "source": [
    "# Anomaly Detection via Density Estimation\n",
    "**Idea:** Estimate the density of $F_0$. Areas of low density are anomalous.\n",
    "- Often $p$ is too small to estimate complete mixture model.\n",
    "- Takes into account that $F_1$ might not be well defined.\n",
    "- Estimation procedure needs to be robust against contamination if no clean training data is available."
   ]
  },
  {
   "cell_type": "markdown",
   "id": "ad028f22",
   "metadata": {
    "slideshow": {
     "slide_type": "subslide"
    }
   },
   "source": [
    "## Kernel Density Estimation\n",
    "- Non-parametric method\n",
    "- Can represent almost arbitrarily shaped densities\n",
    "- Each training point \"spreads\" a fraction of the probability mass as specified by the kernel function"
   ]
  },
  {
   "cell_type": "markdown",
   "id": "8a5f8585",
   "metadata": {
    "slideshow": {
     "slide_type": "subslide"
    }
   },
   "source": [
    "\n",
    "---\n",
    "<img src=\"images/kernels.png\" style=\"margin:0px 100px\" width=\"600\" align=\"right\">\n",
    "\n",
    "**Definition:**\n",
    "- $K: \\mathbb{R} \\to \\mathbb{R}$ kernel function\n",
    "    - $K(r) \\geq 0$ for all $r\\in \\mathbb{R}$\n",
    "\t- $\\int_{-\\infty}^{\\infty} K(r) dr = 1$\n",
    "- $h > 0$ bandwidth\n",
    "- Bandwidth is the most crucial parameter\n",
    "---\n",
    "\n",
    "\n",
    "\n"
   ]
  },
  {
   "cell_type": "markdown",
   "id": "9847bb69",
   "metadata": {
    "slideshow": {
     "slide_type": "subslide"
    }
   },
   "source": [
    "\n",
    "---\n",
    "**Definition:**\n",
    "Let $D = \\{x_1,\\ldots,x_N\\}\\subset \\mathbb{R}^p$. The KDE with kernel $K$ and bandwidth $h$ is\n",
    "$KDE_h(x, D) = \\frac{1}{N}\\sum_{i=1}^N \\frac{1}{h^p}K\\left(\\frac{|x-x_i|}{h}\\right)$\n",
    "\n",
    "---\n",
    "<table style=\"width:60%\">\n",
    "    <tr>\n",
    "        <td width=\"20%\" style=\"background-color:#FFFFFF;\"><img src=\"images/bandwidth.png\" width=\"100\"></td>\n",
    "        <td style=\"background-color:#FFFFFF;\"><img src=\"images/1dkde.png\"></td>\n",
    "    </tr>\n",
    "    <tr>\n",
    "        <td style=\"background-color:#FFFFFF;\" colspan=\"2\"><center>Effect of bandwidth and kernel</center></td>\n",
    "    </tr>\n",
    "</table>"
   ]
  },
  {
   "cell_type": "markdown",
   "id": "434d0f3e",
   "metadata": {
    "slideshow": {
     "slide_type": "subslide"
    }
   },
   "source": [
    "### Exercise\n",
    "Play with the parameters!"
   ]
  },
  {
   "cell_type": "code",
   "execution_count": 4,
   "id": "10d29d49",
   "metadata": {
    "hideCode": true,
    "pycharm": {
     "name": "#%%\n"
    }
   },
   "outputs": [
    {
     "data": {
      "image/png": "[encoded data removed]",
      "text/plain": [
       "<Figure size 360x360 with 1 Axes>"
      ]
     },
     "metadata": {
      "needs_background": "light"
     },
     "output_type": "display_data"
    }
   ],
   "source": [
    "dists = create_distributions(dim=2, dim_irrelevant=0)\n",
    "contamination_model = contamination(nominal=dists['Double Blob'], anomaly=dists['Blob'], p=.01)\n",
    "\n",
    "sample_train = contamination_model.sample(500)\n",
    "X_train = sample_train[-1]\n",
    "y_train = sample_train[0]\n",
    "\n",
    "sample_test = contamination_model.sample(500)\n",
    "X_test = sample_test[-1]\n",
    "y_test = sample_test[0]\n",
    "\n",
    "plt.scatter(X_train[:,0], X_train[:,1], c=['blue' if target == 0 else 'red' for target in y_train], s=10)\n",
    "plt.show()"
   ]
  },
  {
   "cell_type": "code",
   "execution_count": 5,
   "id": "639512ea",
   "metadata": {
    "pycharm": {
     "name": "#%%\n"
    },
    "slideshow": {
     "slide_type": "skip"
    }
   },
   "outputs": [],
   "source": [
    "# Helper function\n",
    "def visualize_kde(kernel, bandwidth, X_train, y_train):\n",
    "    fig, axis = plt.subplots(figsize=(5, 5))\n",
    "    kde = KernelDensity(kernel=kernel, bandwidth=bandwidth)\n",
    "    kde.fit(X_train)\n",
    "\n",
    "    lin = np.linspace(-10, 10, 50)\n",
    "    grid_points = list(it.product(lin, lin))\n",
    "    ys, xs = np.meshgrid(lin, lin)\n",
    "    # The score function of sklearn returns log-densities\n",
    "    scores = np.exp(kde.score_samples(grid_points)).reshape(50, 50)\n",
    "    colormesh = axis.contourf(xs, ys, scores)\n",
    "    fig.colorbar(colormesh)\n",
    "    axis.set_title('Density Conturs (Bandwidth={})'.format(bandwidth))\n",
    "    axis.set_aspect('equal')\n",
    "    color = ['blue' if i ==0 else 'red' for i in y_train]\n",
    "    plt.scatter(X_train[:, 0], X_train[:, 1], c=color)\n",
    "    plt.show()"
   ]
  },
  {
   "cell_type": "markdown",
   "id": "d2fa638a",
   "metadata": {
    "slideshow": {
     "slide_type": "subslide"
    }
   },
   "source": [
    "# Choose KDE Parameters"
   ]
  },
  {
   "cell_type": "code",
   "execution_count": 6,
   "id": "89e5ef25",
   "metadata": {
    "hideCode": true,
    "pycharm": {
     "name": "#%%\n"
    },
    "slideshow": {
     "slide_type": "fragment"
    }
   },
   "outputs": [
    {
     "data": {
      "application/vnd.jupyter.widget-view+json": {
       "model_id": "ff3e31e341264ff5a610fd5e8a4fbb2e",
       "version_major": 2,
       "version_minor": 0
      },
      "text/plain": [
       "interactive(children=(Dropdown(description='kernel', options=('gaussian', 'tophat', 'epanechnikov', 'exponenti…"
      ]
     },
     "metadata": {},
     "output_type": "display_data"
    }
   ],
   "source": [
    "ker = None\n",
    "bdw = None\n",
    "@interact(\n",
    "    kernel=['gaussian', 'tophat', 'epanechnikov', 'exponential', 'linear', 'cosine'],\n",
    "    bandwidth=(.1, 10.)\n",
    ")\n",
    "def set_kde_params(kernel, bandwidth):\n",
    "    global ker, bdw\n",
    "\n",
    "    ker = kernel\n",
    "    bdw = bandwidth"
   ]
  },
  {
   "cell_type": "code",
   "execution_count": 6,
   "id": "909c4c5c",
   "metadata": {
    "pycharm": {
     "name": "#%%\n"
    },
    "slideshow": {
     "slide_type": "fragment"
    }
   },
   "outputs": [
    {
     "data": {
      "image/png": "[encoded data removed]",
      "text/plain": [
       "<Figure size 360x360 with 2 Axes>"
      ]
     },
     "metadata": {
      "needs_background": "light"
     },
     "output_type": "display_data"
    }
   ],
   "source": [
    "visualize_kde(ker, bdw, X_train, y_train)"
   ]
  },
  {
   "cell_type": "markdown",
   "id": "0ddc2d6c",
   "metadata": {
    "slideshow": {
     "slide_type": "subslide"
    }
   },
   "source": [
    "## Bandwidth Selection\n",
    "The bandwidth is the most important parameter of a KDE model. A wrongly adjusted value will lead to over- or\n",
    "under-smoothing of the density curve.\n",
    "\n",
    "A common methods to select a bandwidth is maximum log-likelyhood cross validation.\n",
    "$$h_{\\textrm{llcv}} = \\arg\\max_{h}\\frac{1}{k}\\sum_{i=1}^k\\sum_{y\\in D_i}\\log\\left(\\frac{k}{N(k-1)}\\sum_{x\\in D_{-i}}K_h(x, y)\\right)$$\n",
    "where $D_{-i}$ is the data without the $i$th cross validation fold $D_i$."
   ]
  },
  {
   "cell_type": "markdown",
   "id": "df4068e5",
   "metadata": {
    "slideshow": {
     "slide_type": "subslide"
    }
   },
   "source": [
    "# Exercises"
   ]
  },
  {
   "cell_type": "markdown",
   "id": "94c87f47",
   "metadata": {},
   "source": [
    "ex no.1: Noisy sinusoidal"
   ]
  },
  {
   "cell_type": "code",
   "execution_count": 7,
   "id": "0238d830",
   "metadata": {
    "pycharm": {
     "name": "#%%\n"
    },
    "slideshow": {
     "slide_type": "skip"
    }
   },
   "outputs": [
    {
     "data": {
      "image/png": "[encoded data removed]",
      "text/plain": [
       "<Figure size 360x360 with 1 Axes>"
      ]
     },
     "metadata": {
      "needs_background": "light"
     },
     "output_type": "display_data"
    }
   ],
   "source": [
    "# Generate example\n",
    "dists = create_distributions(dim=2)\n",
    "\n",
    "distribution_with_anomalies = contamination(\n",
    "    nominal=dists['Sinusoidal'],\n",
    "    anomaly=dists['Blob'],\n",
    "    p=0.01\n",
    ")\n",
    "\n",
    "# Train data\n",
    "sample_train = dists['Sinusoidal'].sample(500)\n",
    "X_train = sample_train[-1].numpy()\n",
    "\n",
    "# Test data\n",
    "sample_test = distribution_with_anomalies.sample(500)\n",
    "X_test = sample_test[-1].numpy()\n",
    "y_test = sample_test[0].numpy()\n",
    "\n",
    "scatter = plt.scatter(X_test[:, 0], X_test[:, 1], c=y_test)\n",
    "handels, _ = scatter.legend_elements()\n",
    "plt.legend(handels, ['Nominal', 'Anomaly'])\n",
    "plt.gca().set_aspect('equal')\n",
    "plt.show()"
   ]
  },
  {
   "cell_type": "code",
   "execution_count": 8,
   "id": "d095bdb2",
   "metadata": {
    "pycharm": {
     "name": "#%%\n"
    },
    "slideshow": {
     "slide_type": "skip"
    }
   },
   "outputs": [],
   "source": [
    "####################################################################################################################\n",
    "# TODO: Define the search space for the kernel and the bandwidth\n",
    "####################################################################################################################\n",
    "param_space = {\n",
    "    'kernel': ['gaussian', 'tophat', 'epanechnikov', 'exponential', 'linear', 'cosine'], # Add available kernels\n",
    "    'bandwidth': np.linspace(0.1, 10, 100), # Define Search space for bandwidth parameter\n",
    "}\n",
    "\n",
    "def hyperopt_by_score(X_train, param_space, cv=5):\n",
    "    kde = KernelDensity()\n",
    "\n",
    "    search = RandomizedSearchCV(\n",
    "        estimator=kde,\n",
    "        param_distributions=param_space,\n",
    "        n_iter=100,\n",
    "        cv=cv,\n",
    "        scoring=None # use estimators internal scoring function, i.e. the log-probability of the validation set for KDE\n",
    "    )\n",
    "\n",
    "    search.fit(X_train)\n",
    "    return search.best_params_, search.best_estimator_"
   ]
  },
  {
   "cell_type": "markdown",
   "id": "79ed34cc",
   "metadata": {
    "slideshow": {
     "slide_type": "skip"
    }
   },
   "source": [
    "Run below code to perform hyperparameter optimization."
   ]
  },
  {
   "cell_type": "code",
   "execution_count": 9,
   "id": "01513b81",
   "metadata": {
    "pycharm": {
     "name": "#%%\n"
    },
    "slideshow": {
     "slide_type": "skip"
    }
   },
   "outputs": [
    {
     "name": "stderr",
     "output_type": "stream",
     "text": [
      "/Library/Frameworks/Python.framework/Versions/3.9/lib/python3.9/site-packages/sklearn/model_selection/_search.py:922: UserWarning: One or more of the test scores are non-finite: [         -inf -573.80251024 -405.03059053 -437.28223684 -676.52940714\n",
      " -565.94761741 -478.32464894 -544.19670395 -520.90857292 -474.21580066\n",
      " -462.1141162  -493.5008561  -549.31716282 -490.26074358 -403.32101734\n",
      " -494.60184553 -645.68237584 -573.87685339 -520.51575282 -567.83303401\n",
      "          -inf -520.44226914 -611.57088822 -533.81939254 -572.01336453\n",
      " -514.85260824 -583.9103528  -492.12002525          -inf -427.20916951\n",
      " -493.17655341 -420.98232527 -398.44122589 -519.31258726 -453.22114659\n",
      " -570.38688564 -559.31391376 -534.38302356 -669.67755769          -inf\n",
      " -437.43027701 -484.60761777 -454.28759115 -534.66877354          -inf\n",
      " -518.10622096 -555.17909942 -421.87861452          -inf -587.2987437\n",
      " -417.39146667 -444.11654207 -476.1963147  -442.1144987  -429.70851643\n",
      " -503.72643618 -416.43545182 -526.52669871 -553.55720584 -582.01275683\n",
      " -498.04555857 -578.31253882 -471.06342898 -523.15197786 -594.39458674\n",
      " -444.45301769 -506.61410197 -687.99382242 -635.45238352 -531.00142057\n",
      " -455.25997696 -531.14852904 -540.56039708 -576.77758834 -394.74530354\n",
      " -481.26104908 -501.53613071 -633.54434669 -487.02894776 -666.16368512\n",
      " -635.92481304 -524.92058067          -inf -503.98197239 -403.49175035\n",
      " -390.2109901  -488.11585814 -406.75644643 -594.93795727 -503.87907591\n",
      " -579.33586248 -534.11752474 -625.79789471 -524.05732251 -483.66585914\n",
      " -442.81308149 -482.96061051 -546.77599704 -475.76313506 -604.23796489]\n",
      "  warnings.warn(\n",
      "/Library/Frameworks/Python.framework/Versions/3.9/lib/python3.9/site-packages/sklearn/model_selection/_search.py:929: RuntimeWarning: invalid value encountered in subtract\n",
      "  array_stds = np.sqrt(np.average((array -\n"
     ]
    },
    {
     "name": "stdout",
     "output_type": "stream",
     "text": [
      "Best parameters:\n",
      "kernel: linear\n",
      "bandwidth: 0.9\n"
     ]
    },
    {
     "data": {
      "image/png": "[encoded data removed]",
      "text/plain": [
       "<Figure size 720x360 with 2 Axes>"
      ]
     },
     "metadata": {
      "needs_background": "light"
     },
     "output_type": "display_data"
    }
   ],
   "source": [
    "params, kde = hyperopt_by_score(X_train, param_space)\n",
    "\n",
    "print('Best parameters:')\n",
    "for key in params:\n",
    "    print('{}: {}'.format(key, params[key]))\n",
    "\n",
    "test_scores = -kde.score_samples(X_test)\n",
    "test_scores = np.where(test_scores == np.inf, np.max(test_scores[np.isfinite(test_scores)])+1, test_scores)\n",
    "\n",
    "curves = evaluate(y_test, test_scores)"
   ]
  },
  {
   "cell_type": "code",
   "execution_count": 10,
   "id": "ec8cf537",
   "metadata": {},
   "outputs": [
    {
     "data": {
      "image/png": "[encoded data removed]",
      "text/plain": [
       "<Figure size 360x360 with 2 Axes>"
      ]
     },
     "metadata": {
      "needs_background": "light"
     },
     "output_type": "display_data"
    }
   ],
   "source": [
    "visualize_kde(params['kernel'], params['bandwidth'], X_test, y_test)"
   ]
  },
  {
   "cell_type": "markdown",
   "id": "2d598cda",
   "metadata": {},
   "source": [
    "Exercise: Isolate anomalies in house prices"
   ]
  },
  {
   "cell_type": "markdown",
   "id": "965b4783",
   "metadata": {},
   "source": [
    "You are a company resposible to estimate house prices around Boston college. But there is a problem: house from a nearby area, 'Veenker', are often included in your dataset. You want to build an anomaly detection algorithm that filters one by one every point that comes from the wrong neighborhood. You have been able to isolate an X_train dataset which, you are sure, contains only houses from College area. Following the previous example, test your ability to isolate anomalies in new incoming data (X_test) with KDE.\n",
    "\n",
    "Advanced exercise:\n",
    "What happens if the contamination comes from other areas? You can choose among the following names:\n",
    "\n",
    "OldTown, Veenker, Edwards, MeadowV, Somerst, NPkVill, BrDale, Gilbert, NridgHt, Sawyer, Blmngtn, Blueste"
   ]
  },
  {
   "cell_type": "code",
   "execution_count": 22,
   "id": "1fd5a1af",
   "metadata": {},
   "outputs": [
    {
     "data": {
      "text/html": [
       "<div>\n",
       "<style scoped>\n",
       "    .dataframe tbody tr th:only-of-type {\n",
       "        vertical-align: middle;\n",
       "    }\n",
       "\n",
       "    .dataframe tbody tr th {\n",
       "        vertical-align: top;\n",
       "    }\n",
       "\n",
       "    .dataframe thead th {\n",
       "        text-align: right;\n",
       "    }\n",
       "</style>\n",
       "<table border=\"1\" class=\"dataframe\">\n",
       "  <thead>\n",
       "    <tr style=\"text-align: right;\">\n",
       "      <th></th>\n",
       "      <th>LotArea</th>\n",
       "      <th>SalePrice</th>\n",
       "      <th>OverallCond</th>\n",
       "    </tr>\n",
       "  </thead>\n",
       "  <tbody>\n",
       "    <tr>\n",
       "      <th>0</th>\n",
       "      <td>7314</td>\n",
       "      <td>194500</td>\n",
       "      <td>5</td>\n",
       "    </tr>\n",
       "    <tr>\n",
       "      <th>1</th>\n",
       "      <td>4435</td>\n",
       "      <td>140000</td>\n",
       "      <td>5</td>\n",
       "    </tr>\n",
       "    <tr>\n",
       "      <th>2</th>\n",
       "      <td>4435</td>\n",
       "      <td>144000</td>\n",
       "      <td>5</td>\n",
       "    </tr>\n",
       "    <tr>\n",
       "      <th>3</th>\n",
       "      <td>7406</td>\n",
       "      <td>194000</td>\n",
       "      <td>5</td>\n",
       "    </tr>\n",
       "    <tr>\n",
       "      <th>4</th>\n",
       "      <td>9066</td>\n",
       "      <td>230000</td>\n",
       "      <td>5</td>\n",
       "    </tr>\n",
       "    <tr>\n",
       "      <th>...</th>\n",
       "      <td>...</td>\n",
       "      <td>...</td>\n",
       "      <td>...</td>\n",
       "    </tr>\n",
       "    <tr>\n",
       "      <th>115</th>\n",
       "      <td>8750</td>\n",
       "      <td>210000</td>\n",
       "      <td>5</td>\n",
       "    </tr>\n",
       "    <tr>\n",
       "      <th>116</th>\n",
       "      <td>8320</td>\n",
       "      <td>185900</td>\n",
       "      <td>5</td>\n",
       "    </tr>\n",
       "    <tr>\n",
       "      <th>117</th>\n",
       "      <td>11923</td>\n",
       "      <td>239000</td>\n",
       "      <td>5</td>\n",
       "    </tr>\n",
       "    <tr>\n",
       "      <th>118</th>\n",
       "      <td>10637</td>\n",
       "      <td>297000</td>\n",
       "      <td>5</td>\n",
       "    </tr>\n",
       "    <tr>\n",
       "      <th>119</th>\n",
       "      <td>9525</td>\n",
       "      <td>144000</td>\n",
       "      <td>6</td>\n",
       "    </tr>\n",
       "  </tbody>\n",
       "</table>\n",
       "<p>120 rows × 3 columns</p>\n",
       "</div>"
      ],
      "text/plain": [
       "     LotArea  SalePrice  OverallCond\n",
       "0       7314     194500            5\n",
       "1       4435     140000            5\n",
       "2       4435     144000            5\n",
       "3       7406     194000            5\n",
       "4       9066     230000            5\n",
       "..       ...        ...          ...\n",
       "115     8750     210000            5\n",
       "116     8320     185900            5\n",
       "117    11923     239000            5\n",
       "118    10637     297000            5\n",
       "119     9525     144000            6\n",
       "\n",
       "[120 rows x 3 columns]"
      ]
     },
     "execution_count": 22,
     "metadata": {},
     "output_type": "execute_result"
    }
   ],
   "source": [
    "X_train, X_test, y_test = get_house_prices_data(neighborhood = 'CollgCr', anomaly_neighborhood='Edwards')\n",
    "X_train"
   ]
  },
  {
   "cell_type": "code",
   "execution_count": 23,
   "id": "288e044a",
   "metadata": {},
   "outputs": [
    {
     "data": {
      "application/vnd.plotly.v1+json": {
       "config": {
        "plotlyServerURL": "https://plot.ly"
       },
       "data": [
        {
         "hovertemplate": "LotArea=%{x}<br>OverallCond=%{y}<br>SalePrice=%{z}<br>color=%{marker.color}<extra></extra>",
         "legendgroup": "",
         "marker": {
          "color": [
           0,
           0,
           0,
           0,
           0,
           0,
           0,
           0,
           0,
           0,
           0,
           0,
           0,
           0,
           0,
           0,
           0,
           0,
           0,
           0,
           0,
           0,
           0,
           0,
           0,
           0,
           0,
           0,
           0,
           0,
           0,
           0,
           0,
           0,
           0,
           0,
           0,
           0,
           0,
           0,
           0,
           0,
           0,
           0,
           0,
           0,
           0,
           0,
           0,
           0,
           0,
           0,
           0,
           0,
           0,
           0,
           0,
           0,
           0,
           0,
           0,
           0,
           0,
           0,
           0,
           0,
           0,
           0,
           0,
           0,
           0,
           0,
           0,
           0,
           0,
           0,
           0,
           0,
           0,
           0,
           0,
           0,
           0,
           0,
           0,
           0,
           0,
           0,
           0,
           0,
           0,
           0,
           0,
           0,
           0,
           0,
           0,
           0,
           0,
           0,
           0,
           0,
           0,
           0,
           0,
           0,
           0,
           0,
           0,
           0,
           0,
           0,
           0,
           0,
           0,
           0,
           0,
           0,
           0,
           0,
           1,
           1,
           1,
           1,
           1,
           1,
           1,
           1,
           1,
           1,
           1,
           1,
           1,
           1,
           1,
           0,
           1,
           1,
           1,
           0,
           1,
           1,
           1,
           0,
           1,
           1,
           1,
           0,
           0,
           1,
           1,
           1,
           1,
           1,
           0,
           0,
           1,
           0,
           0,
           0,
           0,
           1,
           1,
           1,
           1,
           0,
           1,
           1,
           1,
           1,
           1,
           1,
           1,
           1,
           1,
           1,
           0,
           1,
           0,
           0,
           1,
           1,
           1,
           0,
           1,
           1,
           1,
           1,
           1,
           0,
           1,
           1,
           1,
           1,
           1,
           1,
           1,
           1,
           1,
           1,
           1,
           1,
           1,
           1,
           1,
           0,
           1,
           0,
           1,
           1,
           1,
           1,
           1,
           1,
           1,
           0,
           0,
           1,
           1,
           1,
           1,
           1,
           1,
           1,
           0,
           0,
           1,
           1,
           1,
           0,
           1,
           1,
           1,
           0,
           1,
           0,
           1,
           1,
           1,
           1,
           1,
           1,
           1,
           0,
           1,
           0,
           1,
           0,
           0,
           1
          ],
          "coloraxis": "coloraxis",
          "symbol": "circle"
         },
         "mode": "markers",
         "name": "",
         "scene": "scene",
         "showlegend": false,
         "type": "scatter3d",
         "x": [
          7314,
          4435,
          4435,
          7406,
          9066,
          11838,
          9100,
          10264,
          9965,
          12137,
          9920,
          16226,
          10356,
          11050,
          11210,
          7990,
          9017,
          9382,
          8385,
          11249,
          12393,
          8846,
          4435,
          12803,
          9375,
          8750,
          8450,
          7226,
          7200,
          10667,
          9245,
          8445,
          4435,
          9473,
          10335,
          13704,
          8767,
          8846,
          7700,
          10859,
          9100,
          11049,
          8814,
          8158,
          9750,
          8633,
          8461,
          9337,
          14006,
          6762,
          8556,
          10769,
          9588,
          8125,
          11367,
          8749,
          11250,
          8760,
          13568,
          10665,
          10970,
          7000,
          4426,
          10635,
          11103,
          10400,
          11885,
          8430,
          12420,
          8800,
          8070,
          11248,
          4438,
          16285,
          7180,
          10402,
          8500,
          9286,
          4435,
          9179,
          6762,
          9808,
          9548,
          10084,
          7200,
          6762,
          9375,
          9240,
          8924,
          9313,
          10000,
          10226,
          9135,
          11175,
          10652,
          4426,
          11423,
          11317,
          8814,
          14781,
          13450,
          9236,
          8935,
          8199,
          4438,
          9135,
          12435,
          8773,
          4426,
          8775,
          9245,
          11404,
          10316,
          8072,
          9531,
          8750,
          8320,
          11923,
          10637,
          9525,
          9571,
          9084,
          7711,
          3363,
          9084,
          11841,
          8410,
          10206,
          9825,
          8877,
          12180,
          8172,
          19690,
          8546,
          8741,
          10650,
          9937,
          12108,
          7819,
          15426,
          10998,
          8248,
          2522,
          9965,
          13907,
          4270,
          10921,
          10386,
          8400,
          9571,
          8877,
          5604,
          11767,
          9600,
          9200,
          15611,
          7950,
          12464,
          8990,
          13125,
          8450,
          63887,
          7301,
          3675,
          6629,
          11645,
          11100,
          10106,
          6931,
          17140,
          7024,
          8777,
          13728,
          6040,
          10420,
          12354,
          9100,
          9098,
          9317,
          8450,
          17755,
          2522,
          12342,
          15523,
          9738,
          7917,
          8335,
          8777,
          8190,
          10475,
          40094,
          2522,
          11512,
          7000,
          8172,
          11767,
          7024,
          9060,
          13680,
          9855,
          10625,
          3675,
          8777,
          9405,
          12615,
          9742,
          7585,
          10900,
          8405,
          8405,
          10880,
          8562,
          9340,
          8536,
          9170,
          11645,
          11883,
          16466,
          10215,
          11409,
          4060,
          3675,
          7200,
          6420,
          8487,
          10780,
          9060,
          10452,
          7800,
          9750,
          21780,
          8926,
          8248,
          8750,
          10012,
          9800,
          8160,
          8212,
          9937,
          11500,
          9400,
          13286,
          10800,
          8200,
          9450,
          9560,
          10020,
          7200,
          11250,
          9525
         ],
         "y": [
          5,
          5,
          5,
          5,
          5,
          5,
          5,
          5,
          5,
          5,
          6,
          5,
          6,
          5,
          5,
          6,
          5,
          5,
          8,
          5,
          5,
          5,
          5,
          5,
          5,
          5,
          5,
          5,
          5,
          6,
          5,
          7,
          5,
          5,
          5,
          5,
          5,
          5,
          5,
          5,
          5,
          5,
          5,
          5,
          6,
          5,
          5,
          5,
          5,
          5,
          5,
          5,
          5,
          5,
          5,
          5,
          5,
          5,
          5,
          5,
          6,
          8,
          5,
          5,
          5,
          5,
          5,
          5,
          5,
          7,
          5,
          5,
          5,
          5,
          7,
          5,
          5,
          7,
          5,
          5,
          5,
          5,
          6,
          5,
          7,
          5,
          5,
          5,
          5,
          5,
          5,
          5,
          5,
          5,
          5,
          5,
          5,
          5,
          5,
          5,
          5,
          5,
          5,
          5,
          5,
          5,
          5,
          5,
          5,
          5,
          5,
          5,
          5,
          5,
          5,
          5,
          5,
          5,
          5,
          6,
          6,
          5,
          3,
          5,
          6,
          5,
          3,
          3,
          5,
          5,
          4,
          7,
          7,
          5,
          4,
          6,
          6,
          4,
          5,
          5,
          5,
          7,
          5,
          5,
          6,
          6,
          5,
          5,
          5,
          3,
          6,
          6,
          7,
          5,
          6,
          5,
          6,
          5,
          5,
          5,
          5,
          5,
          5,
          5,
          6,
          5,
          7,
          7,
          5,
          6,
          5,
          7,
          7,
          5,
          5,
          8,
          5,
          7,
          5,
          5,
          4,
          5,
          5,
          6,
          7,
          7,
          5,
          5,
          6,
          5,
          5,
          5,
          7,
          7,
          6,
          6,
          5,
          5,
          5,
          5,
          5,
          5,
          7,
          9,
          7,
          5,
          3,
          7,
          3,
          8,
          5,
          6,
          6,
          5,
          7,
          5,
          5,
          7,
          5,
          4,
          8,
          5,
          6,
          7,
          5,
          5,
          6,
          5,
          8,
          5,
          7,
          3,
          3,
          5,
          5,
          7,
          6,
          3,
          7,
          3,
          5,
          5,
          5,
          5,
          5,
          7,
          1,
          8,
          5,
          4
         ],
         "z": [
          194500,
          140000,
          144000,
          194000,
          230000,
          236500,
          216837,
          214000,
          424870,
          224900,
          128500,
          267000,
          122000,
          313000,
          221500,
          110000,
          192000,
          191000,
          149900,
          177500,
          195000,
          148000,
          155900,
          221000,
          219500,
          200500,
          208500,
          183000,
          123000,
          212000,
          213500,
          133000,
          136500,
          237000,
          204000,
          205000,
          164990,
          173900,
          112500,
          145000,
          178000,
          179900,
          220000,
          224900,
          274300,
          173500,
          163990,
          204750,
          192500,
          195400,
          194000,
          212000,
          276000,
          230000,
          255000,
          192000,
          255900,
          239799,
          156000,
          226000,
          147000,
          136500,
          141000,
          232000,
          155835,
          197900,
          261500,
          124000,
          230000,
          150500,
          123600,
          285000,
          149000,
          187100,
          127000,
          198900,
          179600,
          143500,
          131500,
          193000,
          193879,
          227000,
          237000,
          212900,
          124900,
          206000,
          228500,
          287000,
          188000,
          190000,
          240000,
          295493,
          200000,
          200141,
          279500,
          143000,
          272000,
          180000,
          203000,
          275000,
          200000,
          217000,
          195000,
          189000,
          144500,
          214000,
          231500,
          185500,
          149300,
          126000,
          145000,
          222500,
          235000,
          138000,
          211000,
          210000,
          185900,
          239000,
          297000,
          144000,
          129000,
          108000,
          150000,
          130000,
          95000,
          118500,
          81000,
          82000,
          100000,
          102000,
          80000,
          115000,
          274970,
          140000,
          113000,
          128200,
          147500,
          118000,
          107000,
          231500,
          117000,
          116000,
          130000,
          383970,
          108000,
          79000,
          94750,
          305900,
          213000,
          60000,
          100000,
          98000,
          112000,
          79000,
          130250,
          233230,
          159500,
          152000,
          204900,
          208900,
          210000,
          160000,
          198500,
          140000,
          103600,
          196500,
          84900,
          127500,
          165400,
          135000,
          176000,
          145900,
          235000,
          82000,
          186000,
          110000,
          235000,
          86000,
          176432,
          185000,
          149900,
          137500,
          82500,
          133500,
          104900,
          148000,
          93000,
          108000,
          119000,
          245350,
          184750,
          130000,
          177000,
          107500,
          135000,
          130500,
          157000,
          105000,
          139600,
          127500,
          83000,
          145000,
          85000,
          118000,
          243000,
          230000,
          91500,
          161750,
          98000,
          119000,
          125000,
          144500,
          113000,
          155000,
          140000,
          260000,
          203000,
          135500,
          111000,
          131000,
          99900,
          148000,
          125000,
          123500,
          190000,
          132500,
          120000,
          155000,
          225000,
          213000,
          185000,
          112000,
          67000,
          191000,
          137500,
          149900,
          126000,
          58500,
          167000,
          84000,
          127500,
          320000,
          179000,
          219500,
          110000,
          128500,
          61000,
          133900,
          223500,
          136900
         ]
        }
       ],
       "layout": {
        "coloraxis": {
         "colorbar": {
          "title": {
           "text": "color"
          }
         },
         "colorscale": [
          [
           0,
           "#0d0887"
          ],
          [
           0.1111111111111111,
           "#46039f"
          ],
          [
           0.2222222222222222,
           "#7201a8"
          ],
          [
           0.3333333333333333,
           "#9c179e"
          ],
          [
           0.4444444444444444,
           "#bd3786"
          ],
          [
           0.5555555555555556,
           "#d8576b"
          ],
          [
           0.6666666666666666,
           "#ed7953"
          ],
          [
           0.7777777777777778,
           "#fb9f3a"
          ],
          [
           0.8888888888888888,
           "#fdca26"
          ],
          [
           1,
           "#f0f921"
          ]
         ]
        },
        "legend": {
         "tracegroupgap": 0
        },
        "margin": {
         "t": 60
        },
        "scene": {
         "domain": {
          "x": [
           0,
           1
          ],
          "y": [
           0,
           1
          ]
         },
         "xaxis": {
          "title": {
           "text": "LotArea"
          }
         },
         "yaxis": {
          "title": {
           "text": "OverallCond"
          }
         },
         "zaxis": {
          "title": {
           "text": "SalePrice"
          }
         }
        },
        "template": {
         "data": {
          "bar": [
           {
            "error_x": {
             "color": "#2a3f5f"
            },
            "error_y": {
             "color": "#2a3f5f"
            },
            "marker": {
             "line": {
              "color": "#E5ECF6",
              "width": 0.5
             },
             "pattern": {
              "fillmode": "overlay",
              "size": 10,
              "solidity": 0.2
             }
            },
            "type": "bar"
           }
          ],
          "barpolar": [
           {
            "marker": {
             "line": {
              "color": "#E5ECF6",
              "width": 0.5
             },
             "pattern": {
              "fillmode": "overlay",
              "size": 10,
              "solidity": 0.2
             }
            },
            "type": "barpolar"
           }
          ],
          "carpet": [
           {
            "aaxis": {
             "endlinecolor": "#2a3f5f",
             "gridcolor": "white",
             "linecolor": "white",
             "minorgridcolor": "white",
             "startlinecolor": "#2a3f5f"
            },
            "baxis": {
             "endlinecolor": "#2a3f5f",
             "gridcolor": "white",
             "linecolor": "white",
             "minorgridcolor": "white",
             "startlinecolor": "#2a3f5f"
            },
            "type": "carpet"
           }
          ],
          "choropleth": [
           {
            "colorbar": {
             "outlinewidth": 0,
             "ticks": ""
            },
            "type": "choropleth"
           }
          ],
          "contour": [
           {
            "colorbar": {
             "outlinewidth": 0,
             "ticks": ""
            },
            "colorscale": [
             [
              0,
              "#0d0887"
             ],
             [
              0.1111111111111111,
              "#46039f"
             ],
             [
              0.2222222222222222,
              "#7201a8"
             ],
             [
              0.3333333333333333,
              "#9c179e"
             ],
             [
              0.4444444444444444,
              "#bd3786"
             ],
             [
              0.5555555555555556,
              "#d8576b"
             ],
             [
              0.6666666666666666,
              "#ed7953"
             ],
             [
              0.7777777777777778,
              "#fb9f3a"
             ],
             [
              0.8888888888888888,
              "#fdca26"
             ],
             [
              1,
              "#f0f921"
             ]
            ],
            "type": "contour"
           }
          ],
          "contourcarpet": [
           {
            "colorbar": {
             "outlinewidth": 0,
             "ticks": ""
            },
            "type": "contourcarpet"
           }
          ],
          "heatmap": [
           {
            "colorbar": {
             "outlinewidth": 0,
             "ticks": ""
            },
            "colorscale": [
             [
              0,
              "#0d0887"
             ],
             [
              0.1111111111111111,
              "#46039f"
             ],
             [
              0.2222222222222222,
              "#7201a8"
             ],
             [
              0.3333333333333333,
              "#9c179e"
             ],
             [
              0.4444444444444444,
              "#bd3786"
             ],
             [
              0.5555555555555556,
              "#d8576b"
             ],
             [
              0.6666666666666666,
              "#ed7953"
             ],
             [
              0.7777777777777778,
              "#fb9f3a"
             ],
             [
              0.8888888888888888,
              "#fdca26"
             ],
             [
              1,
              "#f0f921"
             ]
            ],
            "type": "heatmap"
           }
          ],
          "heatmapgl": [
           {
            "colorbar": {
             "outlinewidth": 0,
             "ticks": ""
            },
            "colorscale": [
             [
              0,
              "#0d0887"
             ],
             [
              0.1111111111111111,
              "#46039f"
             ],
             [
              0.2222222222222222,
              "#7201a8"
             ],
             [
              0.3333333333333333,
              "#9c179e"
             ],
             [
              0.4444444444444444,
              "#bd3786"
             ],
             [
              0.5555555555555556,
              "#d8576b"
             ],
             [
              0.6666666666666666,
              "#ed7953"
             ],
             [
              0.7777777777777778,
              "#fb9f3a"
             ],
             [
              0.8888888888888888,
              "#fdca26"
             ],
             [
              1,
              "#f0f921"
             ]
            ],
            "type": "heatmapgl"
           }
          ],
          "histogram": [
           {
            "marker": {
             "pattern": {
              "fillmode": "overlay",
              "size": 10,
              "solidity": 0.2
             }
            },
            "type": "histogram"
           }
          ],
          "histogram2d": [
           {
            "colorbar": {
             "outlinewidth": 0,
             "ticks": ""
            },
            "colorscale": [
             [
              0,
              "#0d0887"
             ],
             [
              0.1111111111111111,
              "#46039f"
             ],
             [
              0.2222222222222222,
              "#7201a8"
             ],
             [
              0.3333333333333333,
              "#9c179e"
             ],
             [
              0.4444444444444444,
              "#bd3786"
             ],
             [
              0.5555555555555556,
              "#d8576b"
             ],
             [
              0.6666666666666666,
              "#ed7953"
             ],
             [
              0.7777777777777778,
              "#fb9f3a"
             ],
             [
              0.8888888888888888,
              "#fdca26"
             ],
             [
              1,
              "#f0f921"
             ]
            ],
            "type": "histogram2d"
           }
          ],
          "histogram2dcontour": [
           {
            "colorbar": {
             "outlinewidth": 0,
             "ticks": ""
            },
            "colorscale": [
             [
              0,
              "#0d0887"
             ],
             [
              0.1111111111111111,
              "#46039f"
             ],
             [
              0.2222222222222222,
              "#7201a8"
             ],
             [
              0.3333333333333333,
              "#9c179e"
             ],
             [
              0.4444444444444444,
              "#bd3786"
             ],
             [
              0.5555555555555556,
              "#d8576b"
             ],
             [
              0.6666666666666666,
              "#ed7953"
             ],
             [
              0.7777777777777778,
              "#fb9f3a"
             ],
             [
              0.8888888888888888,
              "#fdca26"
             ],
             [
              1,
              "#f0f921"
             ]
            ],
            "type": "histogram2dcontour"
           }
          ],
          "mesh3d": [
           {
            "colorbar": {
             "outlinewidth": 0,
             "ticks": ""
            },
            "type": "mesh3d"
           }
          ],
          "parcoords": [
           {
            "line": {
             "colorbar": {
              "outlinewidth": 0,
              "ticks": ""
             }
            },
            "type": "parcoords"
           }
          ],
          "pie": [
           {
            "automargin": true,
            "type": "pie"
           }
          ],
          "scatter": [
           {
            "marker": {
             "colorbar": {
              "outlinewidth": 0,
              "ticks": ""
             }
            },
            "type": "scatter"
           }
          ],
          "scatter3d": [
           {
            "line": {
             "colorbar": {
              "outlinewidth": 0,
              "ticks": ""
             }
            },
            "marker": {
             "colorbar": {
              "outlinewidth": 0,
              "ticks": ""
             }
            },
            "type": "scatter3d"
           }
          ],
          "scattercarpet": [
           {
            "marker": {
             "colorbar": {
              "outlinewidth": 0,
              "ticks": ""
             }
            },
            "type": "scattercarpet"
           }
          ],
          "scattergeo": [
           {
            "marker": {
             "colorbar": {
              "outlinewidth": 0,
              "ticks": ""
             }
            },
            "type": "scattergeo"
           }
          ],
          "scattergl": [
           {
            "marker": {
             "colorbar": {
              "outlinewidth": 0,
              "ticks": ""
             }
            },
            "type": "scattergl"
           }
          ],
          "scattermapbox": [
           {
            "marker": {
             "colorbar": {
              "outlinewidth": 0,
              "ticks": ""
             }
            },
            "type": "scattermapbox"
           }
          ],
          "scatterpolar": [
           {
            "marker": {
             "colorbar": {
              "outlinewidth": 0,
              "ticks": ""
             }
            },
            "type": "scatterpolar"
           }
          ],
          "scatterpolargl": [
           {
            "marker": {
             "colorbar": {
              "outlinewidth": 0,
              "ticks": ""
             }
            },
            "type": "scatterpolargl"
           }
          ],
          "scatterternary": [
           {
            "marker": {
             "colorbar": {
              "outlinewidth": 0,
              "ticks": ""
             }
            },
            "type": "scatterternary"
           }
          ],
          "surface": [
           {
            "colorbar": {
             "outlinewidth": 0,
             "ticks": ""
            },
            "colorscale": [
             [
              0,
              "#0d0887"
             ],
             [
              0.1111111111111111,
              "#46039f"
             ],
             [
              0.2222222222222222,
              "#7201a8"
             ],
             [
              0.3333333333333333,
              "#9c179e"
             ],
             [
              0.4444444444444444,
              "#bd3786"
             ],
             [
              0.5555555555555556,
              "#d8576b"
             ],
             [
              0.6666666666666666,
              "#ed7953"
             ],
             [
              0.7777777777777778,
              "#fb9f3a"
             ],
             [
              0.8888888888888888,
              "#fdca26"
             ],
             [
              1,
              "#f0f921"
             ]
            ],
            "type": "surface"
           }
          ],
          "table": [
           {
            "cells": {
             "fill": {
              "color": "#EBF0F8"
             },
             "line": {
              "color": "white"
             }
            },
            "header": {
             "fill": {
              "color": "#C8D4E3"
             },
             "line": {
              "color": "white"
             }
            },
            "type": "table"
           }
          ]
         },
         "layout": {
          "annotationdefaults": {
           "arrowcolor": "#2a3f5f",
           "arrowhead": 0,
           "arrowwidth": 1
          },
          "autotypenumbers": "strict",
          "coloraxis": {
           "colorbar": {
            "outlinewidth": 0,
            "ticks": ""
           }
          },
          "colorscale": {
           "diverging": [
            [
             0,
             "#8e0152"
            ],
            [
             0.1,
             "#c51b7d"
            ],
            [
             0.2,
             "#de77ae"
            ],
            [
             0.3,
             "#f1b6da"
            ],
            [
             0.4,
             "#fde0ef"
            ],
            [
             0.5,
             "#f7f7f7"
            ],
            [
             0.6,
             "#e6f5d0"
            ],
            [
             0.7,
             "#b8e186"
            ],
            [
             0.8,
             "#7fbc41"
            ],
            [
             0.9,
             "#4d9221"
            ],
            [
             1,
             "#276419"
            ]
           ],
           "sequential": [
            [
             0,
             "#0d0887"
            ],
            [
             0.1111111111111111,
             "#46039f"
            ],
            [
             0.2222222222222222,
             "#7201a8"
            ],
            [
             0.3333333333333333,
             "#9c179e"
            ],
            [
             0.4444444444444444,
             "#bd3786"
            ],
            [
             0.5555555555555556,
             "#d8576b"
            ],
            [
             0.6666666666666666,
             "#ed7953"
            ],
            [
             0.7777777777777778,
             "#fb9f3a"
            ],
            [
             0.8888888888888888,
             "#fdca26"
            ],
            [
             1,
             "#f0f921"
            ]
           ],
           "sequentialminus": [
            [
             0,
             "#0d0887"
            ],
            [
             0.1111111111111111,
             "#46039f"
            ],
            [
             0.2222222222222222,
             "#7201a8"
            ],
            [
             0.3333333333333333,
             "#9c179e"
            ],
            [
             0.4444444444444444,
             "#bd3786"
            ],
            [
             0.5555555555555556,
             "#d8576b"
            ],
            [
             0.6666666666666666,
             "#ed7953"
            ],
            [
             0.7777777777777778,
             "#fb9f3a"
            ],
            [
             0.8888888888888888,
             "#fdca26"
            ],
            [
             1,
             "#f0f921"
            ]
           ]
          },
          "colorway": [
           "#636efa",
           "#EF553B",
           "#00cc96",
           "#ab63fa",
           "#FFA15A",
           "#19d3f3",
           "#FF6692",
           "#B6E880",
           "#FF97FF",
           "#FECB52"
          ],
          "font": {
           "color": "#2a3f5f"
          },
          "geo": {
           "bgcolor": "white",
           "lakecolor": "white",
           "landcolor": "#E5ECF6",
           "showlakes": true,
           "showland": true,
           "subunitcolor": "white"
          },
          "hoverlabel": {
           "align": "left"
          },
          "hovermode": "closest",
          "mapbox": {
           "style": "light"
          },
          "paper_bgcolor": "white",
          "plot_bgcolor": "#E5ECF6",
          "polar": {
           "angularaxis": {
            "gridcolor": "white",
            "linecolor": "white",
            "ticks": ""
           },
           "bgcolor": "#E5ECF6",
           "radialaxis": {
            "gridcolor": "white",
            "linecolor": "white",
            "ticks": ""
           }
          },
          "scene": {
           "xaxis": {
            "backgroundcolor": "#E5ECF6",
            "gridcolor": "white",
            "gridwidth": 2,
            "linecolor": "white",
            "showbackground": true,
            "ticks": "",
            "zerolinecolor": "white"
           },
           "yaxis": {
            "backgroundcolor": "#E5ECF6",
            "gridcolor": "white",
            "gridwidth": 2,
            "linecolor": "white",
            "showbackground": true,
            "ticks": "",
            "zerolinecolor": "white"
           },
           "zaxis": {
            "backgroundcolor": "#E5ECF6",
            "gridcolor": "white",
            "gridwidth": 2,
            "linecolor": "white",
            "showbackground": true,
            "ticks": "",
            "zerolinecolor": "white"
           }
          },
          "shapedefaults": {
           "line": {
            "color": "#2a3f5f"
           }
          },
          "ternary": {
           "aaxis": {
            "gridcolor": "white",
            "linecolor": "white",
            "ticks": ""
           },
           "baxis": {
            "gridcolor": "white",
            "linecolor": "white",
            "ticks": ""
           },
           "bgcolor": "#E5ECF6",
           "caxis": {
            "gridcolor": "white",
            "linecolor": "white",
            "ticks": ""
           }
          },
          "title": {
           "x": 0.05
          },
          "xaxis": {
           "automargin": true,
           "gridcolor": "white",
           "linecolor": "white",
           "ticks": "",
           "title": {
            "standoff": 15
           },
           "zerolinecolor": "white",
           "zerolinewidth": 2
          },
          "yaxis": {
           "automargin": true,
           "gridcolor": "white",
           "linecolor": "white",
           "ticks": "",
           "title": {
            "standoff": 15
           },
           "zerolinecolor": "white",
           "zerolinewidth": 2
          }
         }
        }
       }
      }
     },
     "metadata": {},
     "output_type": "display_data"
    }
   ],
   "source": [
    "# Total data\n",
    "train_test_data = X_train.append(X_test, ignore_index=True)\n",
    "y_total = [0] * len(X_train) + y_test\n",
    "\n",
    "fig = px.scatter_3d(train_test_data, x='LotArea', y='OverallCond', z='SalePrice', color=y_total)\n",
    "\n",
    "fig.show()"
   ]
  },
  {
   "cell_type": "code",
   "execution_count": 14,
   "id": "b336ebbd",
   "metadata": {},
   "outputs": [],
   "source": [
    "scaler = MinMaxScaler()\n",
    "X_train_rescaled = scaler.fit_transform(X_train)"
   ]
  },
  {
   "cell_type": "code",
   "execution_count": 15,
   "id": "0159cf66",
   "metadata": {},
   "outputs": [
    {
     "name": "stderr",
     "output_type": "stream",
     "text": [
      "/Library/Frameworks/Python.framework/Versions/3.9/lib/python3.9/site-packages/sklearn/model_selection/_search.py:922: UserWarning:\n",
      "\n",
      "One or more of the test scores are non-finite: [ -98.64927757 -193.37364477 -149.72278531  -58.60388804 -118.58930584\n",
      " -156.11506719 -225.97696213 -157.05337794 -177.502621      7.86597913\n",
      "  -24.48142841 -165.69266492 -100.9557996  -157.55275637 -139.16258645\n",
      " -229.03874765 -152.91568182   14.0792601  -205.28773497 -135.30183513\n",
      " -110.72334583  -41.41314857          -inf -167.90904195 -172.39631508\n",
      " -108.39236147  -86.32067545 -153.22470683 -203.17324115 -162.18825929\n",
      " -144.58961578 -164.32448247 -166.54389746 -160.94365706 -175.82742444\n",
      "  -97.41163609 -112.52895362 -114.6356637   -79.21641908 -224.39586128\n",
      " -164.01859879 -137.37622304 -140.34686331 -195.12101435 -156.57416327\n",
      " -155.61186447 -152.23497141 -190.78349288  -94.18491493 -168.25656604\n",
      " -198.70941877 -181.2360123   -68.10208254 -116.98598857  -32.96910103\n",
      " -226.75469101  -47.54318574 -170.65148509 -105.25470517 -202.09228061\n",
      " -206.75660387  -45.33251296 -194.93892381  -11.48553127 -180.69670581\n",
      " -139.51182415 -124.77840993 -215.9240074  -221.95720129 -176.035403\n",
      " -147.31823309  -88.02512751 -133.98720391 -168.2160392   -61.53285783\n",
      " -157.976084   -163.30084199 -155.79861166 -125.55487635  -48.41710112\n",
      " -122.5109709  -192.25855459 -166.64217465 -140.62615181  -32.23673618\n",
      " -184.097678   -115.34651865   15.41271996          -inf -117.5458256\n",
      " -154.49964119 -207.34198693 -129.36085682 -108.8717889  -120.9528663\n",
      " -103.41607095 -123.46499334 -137.8615431  -142.67145957  -17.44660624]\n",
      "\n",
      "/Library/Frameworks/Python.framework/Versions/3.9/lib/python3.9/site-packages/sklearn/model_selection/_search.py:929: RuntimeWarning:\n",
      "\n",
      "invalid value encountered in subtract\n",
      "\n"
     ]
    }
   ],
   "source": [
    "param_space = {\n",
    "    'kernel': ['gaussian', 'tophat', 'epanechnikov', 'exponential', 'linear', 'cosine'], # Add available kernels\n",
    "    'bandwidth': np.linspace(0.1, 10, 100), # Define Search space for bandwidth parameter\n",
    "}\n",
    "params, kde = hyperopt_by_score(X_train_rescaled, param_space)"
   ]
  },
  {
   "cell_type": "code",
   "execution_count": 16,
   "id": "c6217804",
   "metadata": {},
   "outputs": [
    {
     "name": "stdout",
     "output_type": "stream",
     "text": [
      "Best parameters:\n",
      "kernel: cosine\n",
      "bandwidth: 0.5\n"
     ]
    },
    {
     "data": {
      "image/png": "[encoded data removed]",
      "text/plain": [
       "<Figure size 720x360 with 2 Axes>"
      ]
     },
     "metadata": {
      "needs_background": "light"
     },
     "output_type": "display_data"
    }
   ],
   "source": [
    "print('Best parameters:')\n",
    "for key in params:\n",
    "    print('{}: {}'.format(key, params[key]))\n",
    "\n",
    "X_test_rescaled = scaler.transform(X_test)\n",
    "test_scores = -kde.score_samples(X_test_rescaled)\n",
    "test_scores = np.where(test_scores == np.inf, np.max(test_scores[np.isfinite(test_scores)])+1, test_scores)\n",
    "curves = evaluate(y_test, test_scores)"
   ]
  },
  {
   "cell_type": "markdown",
   "id": "ad2238bb",
   "metadata": {
    "slideshow": {
     "slide_type": "subslide"
    }
   },
   "source": [
    "## The Curse of Dimensionality\n",
    "The flexibility of KDE comes at a price. The dependency on the dimensionality of the data is quite unfavorable.\n",
    "\n",
    "---\n",
    "*Theorem* [Stone, 1982]\n",
    "Any estimator that is consistent$^*$ with the class of all $k$-fold differentiable pdfs over $\\mathbb{R}^d$ has a\n",
    "convergence rate of at most\n",
    "\n",
    "$$\n",
    "\\frac{1}{n^{\\frac{k}{2k+d}}}\n",
    "$$\n",
    "\n",
    "\n",
    "---\n",
    "\n",
    "$^*$Consistency = for all pdfs $p$ in the class: $\\lim_{n\\to\\infty}|KDE_h(x, D) - p(x)|_\\infty = 0$ with probability $1$."
   ]
  },
  {
   "cell_type": "markdown",
   "id": "65268b84",
   "metadata": {
    "slideshow": {
     "slide_type": "subslide"
    }
   },
   "source": [
    "# Exercise\n",
    "- The very slow convergence in high dimensions does not necessarily mean that we will see bad results in   high dimensional anomaly detection with KDE.\n",
    "- Especially if the anomalies are very outlying.\n",
    "- However, in cases where contours of the nominal distribution is non-convex we can run into problems.\n",
    "\n",
    "We take a look at a higher dimensional version of out previous data set."
   ]
  },
  {
   "cell_type": "code",
   "execution_count": 17,
   "id": "75d8b1a5",
   "metadata": {
    "pycharm": {
     "name": "#%%\n"
    },
    "slideshow": {
     "slide_type": "skip"
    }
   },
   "outputs": [],
   "source": [
    "dists = create_distributions(dim=3)\n",
    "\n",
    "distribution_with_anomalies = contamination(\n",
    "    nominal=dists['Sinusoidal'],\n",
    "    anomaly=dists['Blob'],\n",
    "    p=.02\n",
    ")\n",
    "\n",
    "sample = distribution_with_anomalies.sample(500)\n",
    "\n",
    "y = sample[0]\n",
    "X = sample[-1]"
   ]
  },
  {
   "cell_type": "code",
   "execution_count": 18,
   "id": "44acf871",
   "metadata": {},
   "outputs": [
    {
     "data": {
      "application/vnd.plotly.v1+json": {
       "config": {
        "plotlyServerURL": "https://plot.ly"
       },
       "data": [
        {
         "hovertemplate": "x=%{x}<br>y=%{y}<br>z=%{z}<br>color=%{marker.color}<extra></extra>",
         "legendgroup": "",
         "marker": {
          "color": [
           0,
           0,
           0,
           0,
           0,
           0,
           0,
           0,
           0,
           0,
           0,
           0,
           0,
           0,
           0,
           0,
           0,
           0,
           0,
           0,
           0,
           0,
           0,
           0,
           0,
           0,
           0,
           0,
           0,
           0,
           0,
           0,
           0,
           0,
           0,
           0,
           0,
           0,
           0,
           0,
           0,
           0,
           0,
           0,
           0,
           0,
           0,
           0,
           0,
           0,
           0,
           0,
           0,
           0,
           0,
           0,
           0,
           0,
           0,
           0,
           0,
           0,
           0,
           0,
           0,
           0,
           0,
           0,
           0,
           0,
           0,
           0,
           0,
           0,
           0,
           0,
           0,
           0,
           0,
           0,
           0,
           0,
           0,
           1,
           0,
           0,
           0,
           0,
           0,
           0,
           0,
           0,
           0,
           0,
           0,
           0,
           0,
           0,
           0,
           0,
           0,
           0,
           0,
           0,
           0,
           0,
           0,
           0,
           0,
           0,
           0,
           0,
           0,
           0,
           0,
           0,
           0,
           0,
           0,
           0,
           0,
           0,
           0,
           0,
           0,
           0,
           0,
           0,
           0,
           0,
           0,
           0,
           0,
           0,
           0,
           0,
           0,
           0,
           0,
           0,
           0,
           0,
           0,
           0,
           0,
           0,
           0,
           0,
           0,
           0,
           0,
           0,
           0,
           0,
           0,
           1,
           0,
           0,
           0,
           0,
           0,
           0,
           0,
           0,
           0,
           0,
           0,
           0,
           0,
           0,
           0,
           0,
           0,
           0,
           0,
           0,
           0,
           0,
           0,
           0,
           0,
           0,
           0,
           0,
           0,
           0,
           0,
           0,
           0,
           0,
           0,
           0,
           0,
           0,
           0,
           0,
           0,
           0,
           0,
           0,
           0,
           0,
           0,
           0,
           0,
           0,
           0,
           0,
           0,
           0,
           0,
           0,
           0,
           0,
           0,
           0,
           0,
           0,
           0,
           0,
           0,
           0,
           0,
           0,
           0,
           0,
           0,
           0,
           0,
           0,
           0,
           0,
           1,
           0,
           0,
           0,
           0,
           0,
           0,
           0,
           0,
           0,
           0,
           0,
           0,
           0,
           0,
           0,
           0,
           0,
           0,
           0,
           0,
           0,
           0,
           0,
           0,
           0,
           0,
           0,
           0,
           0,
           0,
           0,
           0,
           0,
           0,
           0,
           0,
           0,
           0,
           0,
           0,
           0,
           0,
           0,
           0,
           0,
           0,
           0,
           0,
           0,
           0,
           0,
           0,
           0,
           0,
           0,
           0,
           0,
           0,
           0,
           0,
           0,
           0,
           0,
           0,
           0,
           0,
           0,
           0,
           0,
           0,
           0,
           0,
           0,
           0,
           0,
           0,
           0,
           0,
           0,
           0,
           0,
           0,
           0,
           0,
           0,
           0,
           0,
           0,
           0,
           0,
           0,
           1,
           0,
           0,
           0,
           0,
           0,
           0,
           0,
           0,
           0,
           0,
           0,
           0,
           0,
           0,
           0,
           0,
           0,
           0,
           0,
           0,
           0,
           0,
           0,
           0,
           0,
           0,
           0,
           0,
           1,
           0,
           0,
           0,
           0,
           0,
           0,
           0,
           0,
           0,
           0,
           0,
           0,
           0,
           0,
           0,
           0,
           0,
           0,
           0,
           0,
           0,
           0,
           0,
           0,
           0,
           0,
           0,
           0,
           0,
           0,
           0,
           0,
           0,
           0,
           0,
           0,
           0,
           0,
           0,
           0,
           0,
           0,
           0,
           0,
           0,
           0,
           0,
           0,
           0,
           0,
           0,
           0,
           0,
           0,
           0,
           0,
           0,
           0,
           0,
           0,
           0,
           0,
           0,
           0,
           0,
           0,
           0,
           0,
           0,
           0,
           0,
           0,
           0,
           0,
           0,
           0,
           0,
           0,
           0,
           0,
           0,
           0,
           0,
           0,
           0,
           0,
           0,
           0,
           0,
           0,
           0,
           0,
           0,
           0,
           0,
           0,
           0,
           0,
           0,
           0,
           0,
           0,
           0,
           0,
           0,
           0,
           0,
           0,
           0,
           0,
           0,
           0,
           0,
           0,
           0,
           0,
           0,
           0,
           0,
           0,
           0,
           0,
           0,
           0,
           0,
           0,
           0,
           0,
           0,
           0,
           0,
           0,
           0,
           0,
           0,
           0,
           0,
           0,
           0,
           0,
           0,
           0,
           0,
           0,
           0,
           0
          ],
          "coloraxis": "coloraxis",
          "symbol": "circle"
         },
         "mode": "markers",
         "name": "",
         "scene": "scene",
         "showlegend": false,
         "type": "scatter3d",
         "x": [
          -0.9528061151504517,
          -0.7852967977523804,
          5.440582752227783,
          1.3459714651107788,
          -2.0038130283355713,
          4.902464389801025,
          -4.6364850997924805,
          -1.0713599920272827,
          1.0605881214141846,
          -1.8237733840942383,
          1.5438475608825684,
          1.9769550561904907,
          -3.3990206718444824,
          2.2159552574157715,
          3.773369312286377,
          3.686814546585083,
          -1.3332151174545288,
          -2.5735788345336914,
          2.7544922828674316,
          4.9152116775512695,
          -4.060629367828369,
          -3.593519926071167,
          4.31037712097168,
          -2.028134822845459,
          -0.1543642282485962,
          1.3016693592071533,
          6.509780406951904,
          1.8494898080825806,
          5.182791709899902,
          3.885897159576416,
          -3.5402400493621826,
          -2.930330991744995,
          -4.112659931182861,
          1.0512158870697021,
          -0.781725287437439,
          5.750483989715576,
          -6.086279392242432,
          -6.223528861999512,
          5.137845039367676,
          -2.560640573501587,
          -3.0914437770843506,
          -5.752354621887207,
          4.031523704528809,
          2.4865150451660156,
          -5.088589668273926,
          -3.6522328853607178,
          -3.8070068359375,
          -0.614903450012207,
          -3.1449387073516846,
          -3.1366865634918213,
          2.543381929397583,
          -2.8551769256591797,
          -4.441251277923584,
          3.5087125301361084,
          -0.8976029753684998,
          -4.653824329376221,
          -5.70888614654541,
          4.231339454650879,
          0.49164748191833496,
          -2.6575798988342285,
          -2.0933094024658203,
          -5.5193772315979,
          -3.460148811340332,
          2.446608543395996,
          -2.999739170074463,
          0.48951584100723267,
          -4.01043701171875,
          -5.67713737487793,
          -4.319025993347168,
          -2.0738134384155273,
          3.541701555252075,
          2.737013101577759,
          -0.20751476287841797,
          -2.2628748416900635,
          5.192399978637695,
          -2.085740566253662,
          -0.9708484411239624,
          6.422275543212891,
          -5.0967535972595215,
          -0.7429516315460205,
          6.025990962982178,
          -4.910986423492432,
          1.9427998065948486,
          0.21068475616997634,
          3.5393295288085938,
          3.658352851867676,
          -2.6319313049316406,
          -6.442143440246582,
          -1.4915988445281982,
          1.2813029289245605,
          3.817509174346924,
          -6.022181987762451,
          1.128090739250183,
          3.5385541915893555,
          3.2562403678894043,
          3.7906148433685303,
          4.264563083648682,
          -3.9277420043945312,
          -0.37903863191604614,
          -2.134673833847046,
          0.7982217669487,
          -0.8929727077484131,
          -5.4422831535339355,
          1.6706407070159912,
          -4.119798183441162,
          -4.178604602813721,
          -4.015710830688477,
          2.504117727279663,
          -5.1107964515686035,
          -5.162687301635742,
          -2.230353355407715,
          -6.819876194000244,
          3.8922877311706543,
          4.668208599090576,
          -6.1507792472839355,
          4.82840633392334,
          -4.053226947784424,
          2.523150682449341,
          -0.176991268992424,
          0.36300432682037354,
          5.391894340515137,
          -5.7271952629089355,
          -0.004221074283123016,
          -1.496044397354126,
          5.235486030578613,
          5.835113048553467,
          -4.152278900146484,
          0.6802558898925781,
          2.2962467670440674,
          3.4499051570892334,
          -0.6790141463279724,
          3.808818817138672,
          4.494863510131836,
          2.7153234481811523,
          -0.44660136103630066,
          2.796253204345703,
          2.176938056945801,
          -3.4993505477905273,
          4.9247050285339355,
          -4.0635666847229,
          0.3618760108947754,
          -3.190585136413574,
          -4.626589775085449,
          -3.0626730918884277,
          3.194108247756958,
          -0.08127433061599731,
          -5.3640828132629395,
          -4.365567207336426,
          2.35428524017334,
          5.244580268859863,
          -2.456638813018799,
          5.814694881439209,
          -3.504507541656494,
          -6.057591438293457,
          -3.560115098953247,
          -0.5751409479586618,
          4.859233856201172,
          2.147509813308716,
          4.632584571838379,
          -0.3439529538154602,
          5.305089950561523,
          2.9315197467803955,
          1.3254295587539673,
          -2.3705928325653076,
          -2.30540132522583,
          -1.4516324996948242,
          -0.5922337770462036,
          -6.018301486968994,
          -1.126331090927124,
          4.358892440795898,
          1.7581948041915894,
          2.6527700424194336,
          -1.224068522453308,
          -3.523998737335205,
          1.0007163286209106,
          2.8162243366241455,
          -1.3302098512649536,
          4.314809322357178,
          -3.1630136966705322,
          4.024791240692139,
          -2.386953592300415,
          -2.1148927211761475,
          -4.357913970947266,
          0.268451452255249,
          3.314971685409546,
          1.0095851421356201,
          -4.0875749588012695,
          1.875509262084961,
          6.448975086212158,
          4.05007791519165,
          -2.930589437484741,
          -4.285436153411865,
          2.915278911590576,
          1.4399304389953613,
          -5.983750820159912,
          1.2442002296447754,
          3.570736885070801,
          0.6537063121795654,
          2.269361972808838,
          5.407191753387451,
          1.1435189247131348,
          1.1917024850845337,
          0.18115156888961792,
          5.820210933685303,
          2.4530415534973145,
          0.010468125343322754,
          5.429368019104004,
          2.831789970397949,
          -1.5990873575210571,
          -0.5689666867256165,
          3.6263697147369385,
          5.777146339416504,
          -0.4624825716018677,
          0.2989627420902252,
          0.10659670829772949,
          -3.4123728275299072,
          2.3108973503112793,
          2.7748961448669434,
          1.045017957687378,
          3.731058120727539,
          5.917707920074463,
          3.257296323776245,
          -0.6364195346832275,
          4.114542007446289,
          5.66042423248291,
          2.7194812297821045,
          1.6629588603973389,
          -0.2270830273628235,
          4.471290588378906,
          -5.7945990562438965,
          -1.7575234174728394,
          2.715297222137451,
          0.684589856764122,
          2.138761281967163,
          -4.203385829925537,
          3.0877466201782227,
          1.4539474248886108,
          4.77734375,
          -3.5757346153259277,
          -3.2533793449401855,
          -6.017703533172607,
          -5.0040669441223145,
          -2.0411219596862793,
          -3.244210958480835,
          6.566498756408691,
          -4.105255126953125,
          -3.7322850227355957,
          -3.7958269119262695,
          -4.242661476135254,
          -5.304316520690918,
          2.089442491531372,
          -1.1897366046905518,
          0.16664505004882812,
          1.3883610963821411,
          -1.008838415145874,
          -3.8326613903045654,
          4.903158664703369,
          -5.931179046630859,
          0.22873316705226898,
          -2.3933522701263428,
          -3.726496696472168,
          -1.1991186141967773,
          3.0222201347351074,
          -3.4433445930480957,
          -0.3506132960319519,
          1.9966644048690796,
          5.234817981719971,
          5.34175443649292,
          -3.964254379272461,
          5.115180015563965,
          -5.25058650970459,
          -1.4725124835968018,
          -3.1060690879821777,
          5.705626964569092,
          2.823763608932495,
          1.3598159551620483,
          -3.4663236141204834,
          -1.935529351234436,
          6.4457011222839355,
          1.3411197662353516,
          -0.48760899901390076,
          -0.15669816732406616,
          -3.423982620239258,
          -3.4713597297668457,
          2.58563494682312,
          1.7156357765197754,
          -4.0758562088012695,
          -2.9774155616760254,
          -1.6481513977050781,
          -1.3648406267166138,
          -2.988111972808838,
          -0.8635215759277344,
          -2.4164347648620605,
          -5.687624931335449,
          -0.1506028175354004,
          -5.739402770996094,
          -3.7898197174072266,
          0.38579344749450684,
          -4.46848726272583,
          3.436924457550049,
          -1.828998327255249,
          1.751328706741333,
          0.948524534702301,
          3.1589365005493164,
          3.8107709884643555,
          3.851823329925537,
          -5.428797245025635,
          -1.9876047372817993,
          -6.321484565734863,
          0.44107785820961,
          -5.116158962249756,
          -2.642157793045044,
          -3.9065136909484863,
          2.736556053161621,
          3.0237743854522705,
          4.657338619232178,
          1.7635997533798218,
          2.667802572250366,
          -1.9663745164871216,
          -4.531596660614014,
          0.9321846961975098,
          0.8343536257743835,
          -2.650096893310547,
          4.920399188995361,
          -0.47518397775014587,
          -1.2004334926605225,
          6.72756814956665,
          2.1801517009735107,
          2.9439516067504883,
          0.50679612159729,
          4.993110179901123,
          -3.180811643600464,
          -5.064607620239258,
          5.777681350708008,
          -0.06296652555465698,
          -5.021349906921387,
          1.3837933540344238,
          3.9296278953552246,
          2.140377998352051,
          2.7051548957824707,
          -0.13662433624267578,
          1.2677315473556519,
          1.9740091562271118,
          -0.7384271025657654,
          2.164468765258789,
          -6.0245184898376465,
          -0.33415818214416504,
          6.21189546585083,
          2.585949659347534,
          2.5319886207580566,
          3.840771436691284,
          -6.1950507164001465,
          1.746435284614563,
          -0.6066229576305824,
          -1.982033133506775,
          -2.985158681869507,
          -5.865523338317871,
          0.5021244287490845,
          4.374598503112793,
          -0.9753494262695312,
          -1.5592933893203735,
          -5.187223434448242,
          6.829659938812256,
          -4.816286087036133,
          2.6713576316833496,
          3.037099599838257,
          0.02809770405292511,
          6.383147239685059,
          -3.6972060203552246,
          5.945045471191406,
          -1.1391327381134033,
          -0.2944577932357788,
          -6.167649745941162,
          -3.814440965652466,
          1.1306923627853394,
          -5.902005195617676,
          4.62617301940918,
          5.400730133056641,
          -3.3065106868743896,
          1.1188825368881226,
          2.645643949508667,
          -3.54724383354187,
          2.4861762523651123,
          -4.1902313232421875,
          -0.6746394634246826,
          -4.079199314117432,
          -0.9658410549163818,
          -6.200385570526123,
          -5.634451866149902,
          -2.8831851482391357,
          4.628720760345459,
          3.5724382400512695,
          -3.621833324432373,
          6.450667381286621,
          -3.1357922554016113,
          -0.7250317335128784,
          -5.15648889541626,
          -4.392824172973633,
          -2.414797067642212,
          -3.1148250102996826,
          5.052294731140137,
          -4.40019416809082,
          -0.1973091959953308,
          0.5067014694213867,
          2.6268470287323,
          0.4785894751548767,
          7.308549880981445,
          -4.788733005523682,
          0.09728372097015381,
          1.6109564304351807,
          -5.473700046539307,
          -5.067481517791748,
          2.908038854598999,
          6.272036552429199,
          4.530450344085693,
          4.943780422210693,
          5.826406478881836,
          3.002685308456421,
          1.7329362630844116,
          1.3827180862426758,
          0.37923359870910645,
          3.1331822872161865,
          3.6153202056884766,
          3.358241558074951,
          0.4658416211605072,
          3.640805721282959,
          -0.9879152178764343,
          2.8356571197509766,
          -4.051602840423584,
          -1.1499677896499634,
          5.773099422454834,
          1.5510257482528687,
          3.4519166946411133,
          5.227672576904297,
          -0.27502205967903137,
          -4.4577460289001465,
          1.634542465209961,
          -2.4655709266662598,
          -1.2940983772277832,
          -6.834791660308838,
          4.9408745765686035,
          -0.8974382281303406,
          -6.053365230560303,
          3.6951303482055664,
          -4.123069763183594,
          -5.84975528717041,
          -2.6463961601257324,
          -3.282262086868286,
          -3.393442392349243,
          -5.7140889167785645,
          -0.10995078086853027,
          3.8960301876068115,
          0.7060016393661499,
          4.929498672485352,
          -5.263551235198975,
          -5.586925506591797,
          3.0579209327697754,
          4.624999523162842,
          -3.489546060562134,
          2.4528071880340576,
          -6.2592573165893555,
          1.1988282203674316,
          5.718753337860107,
          6.086442947387695,
          -2.8235058784484863,
          2.857546091079712,
          3.871652126312256,
          -4.625702857971191,
          -1.3033778667449951,
          0.6091554760932922,
          4.630800247192383,
          -0.642174243927002,
          4.052970886230469,
          5.933663368225098,
          3.299874782562256,
          -5.060426235198975,
          -3.956023693084717,
          1.4115583896636963,
          5.451394081115723,
          4.591255187988281,
          -4.169540882110596,
          2.9320321083068848,
          -0.35195448994636536,
          -5.417951583862305,
          -3.139328718185425,
          -6.4136152267456055,
          -4.2963457107543945,
          5.866927146911621,
          -1.1591384410858154,
          5.425826072692871,
          -6.760566234588623,
          5.63670539855957,
          4.732076644897461,
          3.3933238983154297,
          3.8542137145996094,
          -3.2837255001068115,
          1.4868100881576538,
          0.32106122374534607,
          4.772127151489258,
          3.5713748931884766
         ],
         "y": [
          2.209529399871826,
          -4.497448921203613,
          0.5216460824012756,
          3.5240228176116943,
          -4.503844261169434,
          -1.009734869003296,
          2.9925928115844727,
          -5.84712553024292,
          2.616166830062866,
          1.6817560195922852,
          -4.2526326179504395,
          2.5977771282196045,
          4.6617255210876465,
          -3.1123547554016113,
          -1.6701502799987793,
          5.668947219848633,
          -4.907722473144531,
          -1.6436941623687744,
          -1.4661177396774292,
          3.9172351360321045,
          -1.9865753650665283,
          4.044780731201172,
          -2.1157054901123047,
          -5.921009540557861,
          6.243465900421143,
          5.0175371170043945,
          4.672889709472656,
          5.208560466766357,
          -0.5118040442466736,
          -4.008955478668213,
          4.304747104644775,
          -1.1040148735046387,
          -4.6458659172058105,
          -4.57738733291626,
          4.277934551239014,
          -2.9124855995178223,
          0.2883780598640442,
          1.0669389963150024,
          -5.40172004699707,
          5.855292797088623,
          -0.958511471748352,
          4.7887115478515625,
          -2.7028181552886963,
          1.978304386138916,
          -6.189903736114502,
          0.41984254121780396,
          -6.34877347946167,
          1.8440463542938232,
          -4.885536193847656,
          2.551176071166992,
          4.017406463623047,
          4.850609302520752,
          -4.278029441833496,
          4.180190086364746,
          2.716047525405884,
          -4.270102024078369,
          5.861055850982666,
          -4.816032409667969,
          3.2959437370300293,
          -0.9852504730224609,
          -5.779323577880859,
          0.5035580992698669,
          2.922636032104492,
          2.203383684158325,
          5.191198825836182,
          -1.123084545135498,
          -2.166015386581421,
          0.2603510320186615,
          3.654041051864624,
          -4.496511936187744,
          -4.525455474853516,
          2.347809076309204,
          4.834151744842529,
          -5.995124340057373,
          1.681784987449646,
          2.321047782897949,
          -0.20154723525047302,
          -6.083600044250488,
          3.861239194869995,
          3.9838736057281494,
          4.061256408691406,
          6.921638011932373,
          -3.2534117698669434,
          0.09765881954095972,
          -3.7904059886932373,
          -2.1902740001678467,
          1.9981729984283447,
          3.422203779220581,
          5.5617265701293945,
          -5.46885871887207,
          -1.2981462478637695,
          2.239144802093506,
          4.394510746002197,
          -6.306804180145264,
          1.5810623168945312,
          5.494964122772217,
          2.689548969268799,
          4.028371810913086,
          -1.870618462562561,
          2.1886816024780273,
          3.089185953140259,
          1.82774817943573,
          4.008797645568848,
          3.4988486766815186,
          5.370667457580566,
          -0.614091694355011,
          -6.5235209465026855,
          -2.6118972301483154,
          -4.669776916503906,
          1.9944180250167847,
          -4.1825971603393555,
          5.803568363189697,
          5.791718482971191,
          4.37799596786499,
          -1.088501214981079,
          2.9667487144470215,
          0.36150649189949036,
          -5.674295902252197,
          -0.8463215827941895,
          -4.93267822265625,
          -5.261322021484375,
          1.5785304307937622,
          6.257270336151123,
          -5.681326389312744,
          -6.261074066162109,
          -5.396251201629639,
          1.1390944719314575,
          -3.739367723464966,
          3.4631433486938477,
          -1.4249186515808105,
          2.564105987548828,
          -0.1828092336654663,
          -0.42338496446609497,
          6.521683692932129,
          -6.817546367645264,
          4.997476577758789,
          -3.689117908477783,
          -3.3814587593078613,
          -5.412929534912109,
          2.519195556640625,
          -3.1671552658081055,
          -5.583236217498779,
          2.748843193054199,
          -0.3126920163631439,
          1.5721648931503296,
          0.48687630891799927,
          2.634337902069092,
          4.899493217468262,
          4.155943393707275,
          -5.974743843078613,
          5.6745219230651855,
          1.8796192407608032,
          4.490334987640381,
          5.804470539093018,
          5.660442352294922,
          0.5128159204625132,
          -1.250033974647522,
          -5.828315734863281,
          4.047790050506592,
          -2.740840435028076,
          -5.080986499786377,
          -4.040513515472412,
          3.3657779693603516,
          5.932712554931641,
          2.1592695713043213,
          -5.478652477264404,
          4.597623348236084,
          2.5823891162872314,
          -3.123692035675049,
          -4.79824686050415,
          6.07231330871582,
          3.2683722972869873,
          -2.8057212829589844,
          -4.8339033126831055,
          1.3637096881866455,
          2.9523420333862305,
          1.071852207183838,
          -4.985846042633057,
          3.7530853748321533,
          0.41412895917892456,
          5.779321670532227,
          1.3670769929885864,
          -4.499144554138184,
          -4.158425331115723,
          3.1842806339263916,
          3.9228663444519043,
          1.094007968902588,
          5.586803436279297,
          -4.04271125793457,
          -4.29000186920166,
          -4.869894981384277,
          5.878907680511475,
          -4.489273548126221,
          3.1205506324768066,
          -6.01807165145874,
          5.196373462677002,
          -6.072253704071045,
          -3.892627239227295,
          -0.6260610222816467,
          1.9417126178741455,
          -0.46413177251815796,
          5.411595821380615,
          2.1701581478118896,
          3.974539041519165,
          -6.363125801086426,
          3.7329907417297363,
          3.0385916233062744,
          -4.308647632598877,
          -3.088383913040161,
          -3.224540948867798,
          -4.2248759269714355,
          -3.2676022052764893,
          6.375701427459717,
          4.259430408477783,
          -2.788722515106201,
          3.981884479522705,
          0.9032030701637268,
          1.426662564277649,
          -2.9454779624938965,
          -0.20278024673461914,
          2.696880340576172,
          -0.9238895773887634,
          3.1177897453308105,
          0.5204460620880127,
          4.457863807678223,
          -5.173368453979492,
          0.8303947448730469,
          0.12581264972686768,
          -5.5231709480285645,
          -3.5350406169891357,
          -3.6120874881744385,
          2.7313945293426514,
          1.098348176462463,
          0.032410576939582825,
          1.5832360982894897,
          -1.0244343280792236,
          -0.9585967659950256,
          -4.530346870422363,
          -2.2382283210754395,
          2.0465643405914307,
          0.6846556067466736,
          2.0880126953125,
          -6.541014194488525,
          -5.534829616546631,
          -2.842268466949463,
          0.13105595111846924,
          -3.0499351024627686,
          2.630983352661133,
          -0.13356807827949524,
          -2.822843074798584,
          -4.263443470001221,
          0.6432175636291504,
          5.515326499938965,
          -3.669132709503174,
          4.646920680999756,
          -4.62528133392334,
          5.689915657043457,
          1.5234419107437134,
          -1.8754708766937256,
          1.9695407152175903,
          4.464296340942383,
          -5.7212419509887695,
          1.6472899913787842,
          -5.92189884185791,
          -6.041257381439209,
          2.0467586517333984,
          -0.13058874011039734,
          -0.8184428215026855,
          -4.8296732902526855,
          5.868353843688965,
          3.4524779319763184,
          -0.11705732345581055,
          4.173558235168457,
          6.419800281524658,
          -5.798707962036133,
          1.455270528793335,
          -4.635378837585449,
          1.1925671100616455,
          -5.540796756744385,
          -1.5951318740844727,
          -4.1989336013793945,
          -3.3132100105285645,
          5.918778419494629,
          1.918720006942749,
          3.1180002689361572,
          3.4317853450775146,
          -0.19296687841415405,
          1.6632835865020752,
          1.6432371139526367,
          -2.888606548309326,
          -5.921597957611084,
          2.517775058746338,
          -5.679755687713623,
          -1.0400148630142212,
          -3.349658966064453,
          -7.537065029144287,
          -5.576345920562744,
          3.4361701011657715,
          0.4662708044052124,
          -4.996772289276123,
          -2.96417236328125,
          2.1918070316314697,
          -2.3044185638427734,
          -3.3789610862731934,
          -6.265636444091797,
          -2.2812306880950928,
          6.66545295715332,
          2.553654909133911,
          4.151290416717529,
          -0.41165024042129517,
          -4.501279354095459,
          -5.310677528381348,
          0.29620516300201416,
          -3.5697481632232666,
          -4.069225311279297,
          -3.3939032554626465,
          6.435938835144043,
          -4.929446697235107,
          -0.06619665026664734,
          0.37388455867767334,
          0.36765265464782715,
          -5.232762336730957,
          -1.0755295753479004,
          2.692537784576416,
          -0.11891362028272905,
          -1.5999627113342285,
          4.705685138702393,
          3.0552124977111816,
          -2.2639734745025635,
          -2.3028573989868164,
          5.583449840545654,
          -4.204102993011475,
          -3.7528939247131348,
          2.9270153045654297,
          -0.23928874731063843,
          0.8438977003097534,
          0.3318161368370056,
          4.15382719039917,
          4.035368919372559,
          2.576767683029175,
          -1.977186918258667,
          0.8313148021697998,
          -4.345587730407715,
          6.616282939910889,
          4.727005481719971,
          -5.739458084106445,
          5.101187705993652,
          -2.113658905029297,
          0.6724305748939514,
          4.860326766967773,
          4.1338067054748535,
          0.2244379222393036,
          2.9941906929016113,
          0.5252189737561129,
          -6.631771087646484,
          0.8903072476387024,
          -0.9384346008300781,
          5.57935094833374,
          -5.608113765716553,
          2.687349796295166,
          -6.419426918029785,
          5.913084030151367,
          5.336514949798584,
          1.7651257514953613,
          -3.9957504272460938,
          -5.300492763519287,
          -4.428060054779053,
          -2.2580924034118652,
          -0.9568980932235718,
          -6.070181369781494,
          1.4539759159088135,
          5.416293621063232,
          5.244103908538818,
          1.9294884204864502,
          -3.4940099716186523,
          5.943488597869873,
          -0.3552023768424988,
          -3.311899423599243,
          -3.891732692718506,
          -1.09121572971344,
          2.4319021701812744,
          -3.268148183822632,
          1.4438762664794922,
          -2.6958401203155518,
          2.0576488971710205,
          4.35090970993042,
          5.104172229766846,
          -0.807549238204956,
          5.384364604949951,
          -5.270705699920654,
          -6.9814252853393555,
          -2.361713171005249,
          1.6485340595245361,
          -4.8932108879089355,
          -2.996884346008301,
          1.7971713542938232,
          -2.619389772415161,
          3.793611526489258,
          -1.9185303449630737,
          -3.20682430267334,
          3.3818471431732178,
          -0.4270715117454529,
          2.519920825958252,
          6.007528305053711,
          -6.264867305755615,
          -3.824568748474121,
          -4.267856121063232,
          -3.804929256439209,
          -0.33232399821281433,
          -2.572087526321411,
          -5.814176559448242,
          -1.6542727947235107,
          -6.00055456161499,
          1.4407864809036255,
          3.8843994140625,
          1.430896520614624,
          3.3520543575286865,
          5.204553604125977,
          -4.344877243041992,
          4.660834312438965,
          -2.2831318378448486,
          -5.659960746765137,
          3.304215669631958,
          4.440330505371094,
          1.704862117767334,
          -3.643659830093384,
          -5.392796516418457,
          -2.018141984939575,
          1.6205499172210693,
          2.527419328689575,
          -4.2657928466796875,
          -4.868592262268066,
          0.10719767212867737,
          2.651740312576294,
          -5.674318790435791,
          -3.241004705429077,
          5.1050262451171875,
          -5.040913105010986,
          3.52937388420105,
          4.4338507652282715,
          3.3907225131988525,
          -1.0572117567062378,
          5.899423122406006,
          -0.8233672380447388,
          2.1276636123657227,
          2.1130828857421875,
          1.2780778408050537,
          -5.019711494445801,
          4.094298362731934,
          2.565154552459717,
          1.066039800643921,
          2.4891395568847656,
          -1.9073834419250488,
          -5.188532829284668,
          1.2486350536346436,
          -5.1528754234313965,
          0.741578221321106,
          -2.9500606060028076,
          4.564639568328857,
          3.329045295715332,
          2.2503576278686523,
          -1.0459012985229492,
          3.4309797286987305,
          -1.5047078132629395,
          -1.1700737476348877,
          4.798311233520508,
          3.630540609359741,
          -0.9952967166900635,
          -3.5477263927459717,
          1.107371211051941,
          4.513436317443848,
          -5.098568916320801,
          -5.552414894104004,
          4.660449504852295,
          -6.062809944152832,
          -6.09105920791626,
          -2.0415472984313965,
          1.6760902404785156,
          3.1182732582092285,
          4.808327674865723,
          -4.60313606262207,
          -4.224002361297607,
          -2.474778652191162,
          2.2628417015075684,
          -4.974293231964111,
          -4.721900463104248,
          2.3913798332214355,
          -3.7346343994140625,
          -3.616490364074707,
          1.2416763305664062,
          0.5866171717643738,
          -2.276958465576172,
          1.3372015953063965,
          -1.0984644889831543,
          -0.1226506233215332,
          0.3856639564037323,
          0.9393170475959778,
          -5.040899276733398,
          0.6594717502593994,
          -2.699389934539795
         ],
         "z": [
          -1.5085464715957642,
          -0.5564180016517639,
          1.0110968351364136,
          -0.926953911781311,
          0.688973069190979,
          1.394556999206543,
          2.2149341106414795,
          1.83353853225708,
          -0.9011535048484802,
          -2.806272506713867,
          0.2931225001811981,
          -1.0278011560440063,
          1.8627650737762451,
          -2.7568886280059814,
          -1.1336771249771118,
          1.4452767372131348,
          0.8519903421401978,
          -1.9974905252456665,
          -1.5725626945495605,
          0.727450966835022,
          0.21847885847091675,
          1.81648850440979,
          0.4173937439918518,
          1.3079514503479004,
          1.4432449340820312,
          2.0482542514801025,
          2.394683361053467,
          2.1471476554870605,
          -0.49039292335510254,
          -0.4197881519794464,
          2.1289021968841553,
          -1.9006911516189575,
          2.1551504135131836,
          -0.8807245492935181,
          -0.9456218481063843,
          1.81400465965271,
          2.500612497329712,
          2.752169609069824,
          -0.22413033246994019,
          1.1966062784194946,
          -2.3320910930633545,
          -0.5670416951179504,
          0.32740360498428345,
          -1.5149105787277222,
          1.3434083461761475,
          -0.6738444566726685,
          0.07951456308364868,
          -1.6690822839736938,
          1.5100617408752441,
          -0.8606463670730591,
          0.04061603546142578,
          1.405897855758667,
          1.8341155052185059,
          2.8742332458496094,
          -1.7157033681869507,
          1.517263412475586,
          -0.36881715059280396,
          0.5781511068344116,
          -1.4110257625579834,
          -1.2301914691925049,
          1.6911110877990723,
          2.2486562728881836,
          0.8281243443489075,
          -2.22371506690979,
          2.777641534805298,
          -1.0380499362945557,
          -0.29924434423446655,
          0.9161694049835205,
          0.3290209472179413,
          -0.29372698068618774,
          -0.12314468622207642,
          -1.7900540828704834,
          1.6140542030334473,
          2.506679058074951,
          1.5411888360977173,
          -2.0052287578582764,
          0.6737734079360962,
          -1.4344079494476318,
          1.881146788597107,
          0.36464864015579224,
          0.5568276643753052,
          0.5096986889839172,
          -1.5311959981918335,
          -1.9325580340527666,
          -0.61907958984375,
          -0.6500621438026428,
          -1.433135986328125,
          1.732521891593933,
          1.428053379058838,
          0.8133575916290283,
          -1.694435954093933,
          2.3820693492889404,
          -1.6759579181671143,
          0.4329943060874939,
          0.2373034954071045,
          2.07944655418396,
          -0.031547874212265015,
          1.5521039962768555,
          0.18779417872428894,
          -1.6155009269714355,
          -1.7469209432601929,
          -2.3832437992095947,
          2.4605040550231934,
          -1.2148489952087402,
          2.110950231552124,
          -0.6400253772735596,
          1.2685422897338867,
          -2.439146041870117,
          1.628952980041504,
          1.8769984245300293,
          2.09953236579895,
          -1.166552186012268,
          1.4124146699905396,
          2.158608913421631,
          1.99382746219635,
          0.8687761425971985,
          -1.4451876878738403,
          2.027846097946167,
          0.3522944450378418,
          1.4838457107543945,
          -0.39295363426208496,
          0.7583737373352051,
          2.2761402130126953,
          1.2935233116149902,
          -0.7213767766952515,
          -0.7119706273078918,
          -0.7070936560630798,
          -2.8970587253570557,
          -1.9596240520477295,
          -2.7538952827453613,
          -1.7784175872802734,
          -0.5087695121765137,
          -2.1537065505981445,
          0.9879603385925293,
          1.6270616054534912,
          1.8875627517700195,
          0.27549946308135986,
          1.5755152702331543,
          1.5474997758865356,
          1.0070732831954956,
          -0.9124711751937866,
          1.922049641609192,
          0.8294592499732971,
          -1.5514109134674072,
          -0.6700257658958435,
          2.011305093765259,
          2.069176435470581,
          1.1874632835388184,
          -0.9216216802597046,
          -0.6609282493591309,
          1.1025253534317017,
          2.2950830459594727,
          2.4777464866638184,
          0.6155906319618225,
          1.6539039611816406,
          -2.3782840982938094,
          0.5075559616088867,
          2.1137702465057373,
          1.7707500457763672,
          -1.9922431707382202,
          1.6286969184875488,
          -0.11653292179107666,
          -1.0235745906829834,
          1.2729690074920654,
          -1.5748714208602905,
          1.3790112733840942,
          -0.513301432132721,
          1.349142074584961,
          -2.3939123153686523,
          2.5043983459472656,
          3.1777076721191406,
          -1.2245150804519653,
          -0.8934870362281799,
          1.8260799646377563,
          0.46559932827949524,
          -1.130420207977295,
          -0.8853911757469177,
          2.261751174926758,
          -0.27101773023605347,
          -1.594257116317749,
          2.4239015579223633,
          -1.3693126440048218,
          2.224525213241577,
          -0.8307077884674072,
          -0.6053938269615173,
          -2.0217537879943848,
          -1.9258455038070679,
          1.2936381101608276,
          -0.16345256567001343,
          1.3718321323394775,
          1.6676080226898193,
          0.4031163454055786,
          0.8987410068511963,
          -1.6546660661697388,
          -1.285080909729004,
          0.5165596604347229,
          2.065431594848633,
          -1.8624941110610962,
          -0.5418497323989868,
          0.9629293084144592,
          0.482567697763443,
          2.044088125228882,
          -0.8141388297080994,
          1.9543654918670654,
          1.7406554222106934,
          -2.00700044631958,
          1.7469515800476074,
          1.551475167274475,
          -1.492656946182251,
          -0.9382538795471191,
          1.5422518253326416,
          1.908607006072998,
          0.9518278241157532,
          -1.8996526002883911,
          -2.38319730758667,
          -0.10928842425346375,
          -1.612425684928894,
          -1.8316940069198608,
          -1.8799936771392822,
          -1.9153940677642822,
          1.9513019323349,
          -1.4360063076019287,
          -0.551101565361023,
          -0.09665240347385406,
          2.5891025066375732,
          1.8230446577072144,
          0.08602595329284668,
          1.9986059665679932,
          2.7290854454040527,
          1.6307454109191895,
          -1.4447768926620483,
          -1.5521560907363892,
          -0.6473302678216277,
          -2.422234535217285,
          -0.9191850423812866,
          -1.3811451196670532,
          -0.3988546133041382,
          0.7880698442459106,
          -0.34864017367362976,
          -1.7780404090881348,
          1.9494264125823975,
          1.633435845375061,
          2.276200532913208,
          2.298482894897461,
          2.133321762084961,
          -0.868094265460968,
          1.019498348236084,
          0.28726357221603394,
          -0.44054943323135376,
          2.0643508434295654,
          1.0726263523101807,
          -0.7432778477668762,
          1.1583102941513062,
          -1.4786708354949951,
          -0.14628255367279053,
          2.0671682357788086,
          -0.39939165115356445,
          1.6915602684020996,
          -0.09602797031402588,
          -2.6031405925750732,
          1.0505146980285645,
          2.3862953186035156,
          -1.3696211576461792,
          1.7763617038726807,
          1.6804141998291016,
          -1.0766083002090454,
          0.9806759357452393,
          0.7729147672653198,
          2.288907289505005,
          1.503674030303955,
          2.4798192977905273,
          -2.1316490173339844,
          0.9980015754699707,
          -0.1027861088514328,
          2.39455246925354,
          -0.7311660647392273,
          1.8229901790618896,
          -1.2351770401000977,
          1.2079582214355469,
          -1.3792991638183594,
          -1.9651318788528442,
          -2.080836057662964,
          1.2540498971939087,
          -1.1997114419937134,
          -1.3630776405334473,
          -2.1749682426452637,
          -1.9114547967910767,
          -2.127704620361328,
          0.6710814237594604,
          -1.8095178604125977,
          1.9306857585906982,
          -1.131210207939148,
          1.9058364629745483,
          2.222972869873047,
          -1.5697740316390991,
          -1.1483328342437744,
          2.0325865745544434,
          -1.6557948589324951,
          1.5057547092437744,
          0.7057507038116455,
          -1.6233932971954346,
          -1.6516772508621216,
          -2.327519416809082,
          0.5649032592773438,
          1.9771716594696045,
          -0.2542320787906647,
          -1.561131238937378,
          -2.3850865364074707,
          1.3336336612701416,
          0.8798173069953918,
          2.009126901626587,
          2.0962343215942383,
          -1.9110279083251953,
          -0.10206156969070435,
          0.6165893077850342,
          1.2454731464385986,
          1.7921557426452637,
          -0.14531511068344116,
          -0.5353609919548035,
          -0.4448118209838867,
          1.9123139381408691,
          -0.3046601414680481,
          -2.373819351196289,
          0.19283252954483032,
          -1.3839449357264555,
          -1.776559829711914,
          0.4444907605648041,
          -1.5279821157455444,
          -2.0817058086395264,
          -0.3514464795589447,
          -0.3377023935317993,
          1.2022104263305664,
          1.8223122358322144,
          1.7119299173355103,
          0.5111804008483887,
          0.6314465403556824,
          -0.14302927255630493,
          1.510718584060669,
          0.26907193660736084,
          -1.4359909296035767,
          -1.6412742137908936,
          -0.003618866205215454,
          0.7034143209457397,
          1.386373519897461,
          1.4785178899765015,
          -0.37365931272506714,
          0.16879183053970337,
          1.782199740409851,
          -0.7055850028991699,
          1.5401211977005005,
          0.9245488047599792,
          1.9686386585235596,
          -0.6096320152282715,
          -3.005393824948597,
          1.8384920358657837,
          -1.2696056365966797,
          1.4573924541473389,
          1.028217077255249,
          0.5588449835777283,
          -1.7139954566955566,
          1.840932846069336,
          1.2114229202270508,
          -0.7462186217308044,
          1.2099062204360962,
          1.7654263973236084,
          3.4529809951782227,
          0.682811439037323,
          1.1682552099227905,
          0.37556248903274536,
          -0.2316887229681015,
          -0.20436716079711914,
          1.169252634048462,
          -0.5598958730697632,
          -0.7883000373840332,
          -1.0359015464782715,
          -1.1215633153915405,
          -2.177551507949829,
          2.818873643875122,
          0.7760488390922546,
          -1.1963599920272827,
          -1.518143892288208,
          0.3804956078529358,
          -1.3207038640975952,
          0.7344455718994141,
          -1.402722716331482,
          0.8573651909828186,
          1.326210856437683,
          1.613284945487976,
          1.5899146795272827,
          1.6990193128585815,
          0.33342623710632324,
          -2.046102523803711,
          -2.4385032653808594,
          2.113492727279663,
          -0.32568928599357605,
          0.14574883878231049,
          -0.12381929159164429,
          1.896798014640808,
          -1.3410894870758057,
          0.3584291934967041,
          1.0588865280151367,
          0.7772015333175659,
          -1.8025016784667969,
          1.6098604202270508,
          1.519383192062378,
          -1.414276123046875,
          1.2010433673858643,
          1.265730381011963,
          0.7409111261367798,
          -2.4910221099853516,
          -0.7600525617599487,
          0.19431626796722412,
          1.192726731300354,
          1.9814534187316895,
          2.0186991691589355,
          1.4962544441223145,
          2.4772541522979736,
          1.2077007293701172,
          0.20507705211639404,
          1.9627101421356201,
          -1.4857653379440308,
          1.5749907493591309,
          0.3507094383239746,
          1.5851162672042847,
          2.0843591690063477,
          1.2960150241851807,
          1.6228423118591309,
          -1.3530316352844238,
          1.578465461730957,
          -1.2335526943206787,
          2.3412599563598633,
          0.9903348088264465,
          -1.5444962978363037,
          2.576125144958496,
          1.1083894968032837,
          2.4263315200805664,
          1.4610958099365234,
          1.88751220703125,
          -1.7536649703979492,
          1.1336559057235718,
          1.6872105598449707,
          -0.894997775554657,
          -0.2890639901161194,
          -2.5520291328430176,
          1.6438452005386353,
          2.3421926498413086,
          -0.7191339731216431,
          1.7364948987960815,
          0.5890249609947205,
          2.2317721843719482,
          -1.1130149364471436,
          0.09001541137695312,
          -0.955071210861206,
          2.1082563400268555,
          1.8595365285873413,
          1.2690033912658691,
          -0.5468052625656128,
          1.0134862661361694,
          1.3341751098632812,
          1.7387139797210693,
          1.466305136680603,
          -1.3025519847869873,
          1.7261360883712769,
          0.9779102206230164,
          -2.51200532913208,
          2.240896224975586,
          1.4739789962768555,
          -0.0012991218827664852,
          -2.2135796546936035,
          1.8564248085021973,
          1.7415096759796143,
          1.147680401802063,
          1.2562198638916016,
          0.7098625898361206,
          1.3422404527664185,
          1.2380876541137695,
          0.7427922487258911,
          -1.230002999305725,
          2.849855899810791,
          1.8775694370269775,
          1.6908342838287354,
          1.5794591903686523,
          -1.902270793914795,
          0.9012342691421509,
          1.3029581308364868,
          1.4445290565490723,
          1.121294617652893,
          0.7692170143127441,
          -0.9648683667182922,
          1.9032232761383057,
          2.1370651721954346,
          1.220526933670044,
          0.2721385955810547,
          -1.5477561950683594,
          -2.5595932006835938,
          -2.320821762084961,
          -1.9376895427703857,
          0.49237677454948425,
          0.4200255572795868,
          1.0424736738204956
         ]
        }
       ],
       "layout": {
        "coloraxis": {
         "colorbar": {
          "title": {
           "text": "color"
          }
         },
         "colorscale": [
          [
           0,
           "#0d0887"
          ],
          [
           0.1111111111111111,
           "#46039f"
          ],
          [
           0.2222222222222222,
           "#7201a8"
          ],
          [
           0.3333333333333333,
           "#9c179e"
          ],
          [
           0.4444444444444444,
           "#bd3786"
          ],
          [
           0.5555555555555556,
           "#d8576b"
          ],
          [
           0.6666666666666666,
           "#ed7953"
          ],
          [
           0.7777777777777778,
           "#fb9f3a"
          ],
          [
           0.8888888888888888,
           "#fdca26"
          ],
          [
           1,
           "#f0f921"
          ]
         ]
        },
        "legend": {
         "tracegroupgap": 0
        },
        "margin": {
         "t": 60
        },
        "scene": {
         "domain": {
          "x": [
           0,
           1
          ],
          "y": [
           0,
           1
          ]
         },
         "xaxis": {
          "title": {
           "text": "x"
          }
         },
         "yaxis": {
          "title": {
           "text": "y"
          }
         },
         "zaxis": {
          "title": {
           "text": "z"
          }
         }
        },
        "template": {
         "data": {
          "bar": [
           {
            "error_x": {
             "color": "#2a3f5f"
            },
            "error_y": {
             "color": "#2a3f5f"
            },
            "marker": {
             "line": {
              "color": "#E5ECF6",
              "width": 0.5
             },
             "pattern": {
              "fillmode": "overlay",
              "size": 10,
              "solidity": 0.2
             }
            },
            "type": "bar"
           }
          ],
          "barpolar": [
           {
            "marker": {
             "line": {
              "color": "#E5ECF6",
              "width": 0.5
             },
             "pattern": {
              "fillmode": "overlay",
              "size": 10,
              "solidity": 0.2
             }
            },
            "type": "barpolar"
           }
          ],
          "carpet": [
           {
            "aaxis": {
             "endlinecolor": "#2a3f5f",
             "gridcolor": "white",
             "linecolor": "white",
             "minorgridcolor": "white",
             "startlinecolor": "#2a3f5f"
            },
            "baxis": {
             "endlinecolor": "#2a3f5f",
             "gridcolor": "white",
             "linecolor": "white",
             "minorgridcolor": "white",
             "startlinecolor": "#2a3f5f"
            },
            "type": "carpet"
           }
          ],
          "choropleth": [
           {
            "colorbar": {
             "outlinewidth": 0,
             "ticks": ""
            },
            "type": "choropleth"
           }
          ],
          "contour": [
           {
            "colorbar": {
             "outlinewidth": 0,
             "ticks": ""
            },
            "colorscale": [
             [
              0,
              "#0d0887"
             ],
             [
              0.1111111111111111,
              "#46039f"
             ],
             [
              0.2222222222222222,
              "#7201a8"
             ],
             [
              0.3333333333333333,
              "#9c179e"
             ],
             [
              0.4444444444444444,
              "#bd3786"
             ],
             [
              0.5555555555555556,
              "#d8576b"
             ],
             [
              0.6666666666666666,
              "#ed7953"
             ],
             [
              0.7777777777777778,
              "#fb9f3a"
             ],
             [
              0.8888888888888888,
              "#fdca26"
             ],
             [
              1,
              "#f0f921"
             ]
            ],
            "type": "contour"
           }
          ],
          "contourcarpet": [
           {
            "colorbar": {
             "outlinewidth": 0,
             "ticks": ""
            },
            "type": "contourcarpet"
           }
          ],
          "heatmap": [
           {
            "colorbar": {
             "outlinewidth": 0,
             "ticks": ""
            },
            "colorscale": [
             [
              0,
              "#0d0887"
             ],
             [
              0.1111111111111111,
              "#46039f"
             ],
             [
              0.2222222222222222,
              "#7201a8"
             ],
             [
              0.3333333333333333,
              "#9c179e"
             ],
             [
              0.4444444444444444,
              "#bd3786"
             ],
             [
              0.5555555555555556,
              "#d8576b"
             ],
             [
              0.6666666666666666,
              "#ed7953"
             ],
             [
              0.7777777777777778,
              "#fb9f3a"
             ],
             [
              0.8888888888888888,
              "#fdca26"
             ],
             [
              1,
              "#f0f921"
             ]
            ],
            "type": "heatmap"
           }
          ],
          "heatmapgl": [
           {
            "colorbar": {
             "outlinewidth": 0,
             "ticks": ""
            },
            "colorscale": [
             [
              0,
              "#0d0887"
             ],
             [
              0.1111111111111111,
              "#46039f"
             ],
             [
              0.2222222222222222,
              "#7201a8"
             ],
             [
              0.3333333333333333,
              "#9c179e"
             ],
             [
              0.4444444444444444,
              "#bd3786"
             ],
             [
              0.5555555555555556,
              "#d8576b"
             ],
             [
              0.6666666666666666,
              "#ed7953"
             ],
             [
              0.7777777777777778,
              "#fb9f3a"
             ],
             [
              0.8888888888888888,
              "#fdca26"
             ],
             [
              1,
              "#f0f921"
             ]
            ],
            "type": "heatmapgl"
           }
          ],
          "histogram": [
           {
            "marker": {
             "pattern": {
              "fillmode": "overlay",
              "size": 10,
              "solidity": 0.2
             }
            },
            "type": "histogram"
           }
          ],
          "histogram2d": [
           {
            "colorbar": {
             "outlinewidth": 0,
             "ticks": ""
            },
            "colorscale": [
             [
              0,
              "#0d0887"
             ],
             [
              0.1111111111111111,
              "#46039f"
             ],
             [
              0.2222222222222222,
              "#7201a8"
             ],
             [
              0.3333333333333333,
              "#9c179e"
             ],
             [
              0.4444444444444444,
              "#bd3786"
             ],
             [
              0.5555555555555556,
              "#d8576b"
             ],
             [
              0.6666666666666666,
              "#ed7953"
             ],
             [
              0.7777777777777778,
              "#fb9f3a"
             ],
             [
              0.8888888888888888,
              "#fdca26"
             ],
             [
              1,
              "#f0f921"
             ]
            ],
            "type": "histogram2d"
           }
          ],
          "histogram2dcontour": [
           {
            "colorbar": {
             "outlinewidth": 0,
             "ticks": ""
            },
            "colorscale": [
             [
              0,
              "#0d0887"
             ],
             [
              0.1111111111111111,
              "#46039f"
             ],
             [
              0.2222222222222222,
              "#7201a8"
             ],
             [
              0.3333333333333333,
              "#9c179e"
             ],
             [
              0.4444444444444444,
              "#bd3786"
             ],
             [
              0.5555555555555556,
              "#d8576b"
             ],
             [
              0.6666666666666666,
              "#ed7953"
             ],
             [
              0.7777777777777778,
              "#fb9f3a"
             ],
             [
              0.8888888888888888,
              "#fdca26"
             ],
             [
              1,
              "#f0f921"
             ]
            ],
            "type": "histogram2dcontour"
           }
          ],
          "mesh3d": [
           {
            "colorbar": {
             "outlinewidth": 0,
             "ticks": ""
            },
            "type": "mesh3d"
           }
          ],
          "parcoords": [
           {
            "line": {
             "colorbar": {
              "outlinewidth": 0,
              "ticks": ""
             }
            },
            "type": "parcoords"
           }
          ],
          "pie": [
           {
            "automargin": true,
            "type": "pie"
           }
          ],
          "scatter": [
           {
            "marker": {
             "colorbar": {
              "outlinewidth": 0,
              "ticks": ""
             }
            },
            "type": "scatter"
           }
          ],
          "scatter3d": [
           {
            "line": {
             "colorbar": {
              "outlinewidth": 0,
              "ticks": ""
             }
            },
            "marker": {
             "colorbar": {
              "outlinewidth": 0,
              "ticks": ""
             }
            },
            "type": "scatter3d"
           }
          ],
          "scattercarpet": [
           {
            "marker": {
             "colorbar": {
              "outlinewidth": 0,
              "ticks": ""
             }
            },
            "type": "scattercarpet"
           }
          ],
          "scattergeo": [
           {
            "marker": {
             "colorbar": {
              "outlinewidth": 0,
              "ticks": ""
             }
            },
            "type": "scattergeo"
           }
          ],
          "scattergl": [
           {
            "marker": {
             "colorbar": {
              "outlinewidth": 0,
              "ticks": ""
             }
            },
            "type": "scattergl"
           }
          ],
          "scattermapbox": [
           {
            "marker": {
             "colorbar": {
              "outlinewidth": 0,
              "ticks": ""
             }
            },
            "type": "scattermapbox"
           }
          ],
          "scatterpolar": [
           {
            "marker": {
             "colorbar": {
              "outlinewidth": 0,
              "ticks": ""
             }
            },
            "type": "scatterpolar"
           }
          ],
          "scatterpolargl": [
           {
            "marker": {
             "colorbar": {
              "outlinewidth": 0,
              "ticks": ""
             }
            },
            "type": "scatterpolargl"
           }
          ],
          "scatterternary": [
           {
            "marker": {
             "colorbar": {
              "outlinewidth": 0,
              "ticks": ""
             }
            },
            "type": "scatterternary"
           }
          ],
          "surface": [
           {
            "colorbar": {
             "outlinewidth": 0,
             "ticks": ""
            },
            "colorscale": [
             [
              0,
              "#0d0887"
             ],
             [
              0.1111111111111111,
              "#46039f"
             ],
             [
              0.2222222222222222,
              "#7201a8"
             ],
             [
              0.3333333333333333,
              "#9c179e"
             ],
             [
              0.4444444444444444,
              "#bd3786"
             ],
             [
              0.5555555555555556,
              "#d8576b"
             ],
             [
              0.6666666666666666,
              "#ed7953"
             ],
             [
              0.7777777777777778,
              "#fb9f3a"
             ],
             [
              0.8888888888888888,
              "#fdca26"
             ],
             [
              1,
              "#f0f921"
             ]
            ],
            "type": "surface"
           }
          ],
          "table": [
           {
            "cells": {
             "fill": {
              "color": "#EBF0F8"
             },
             "line": {
              "color": "white"
             }
            },
            "header": {
             "fill": {
              "color": "#C8D4E3"
             },
             "line": {
              "color": "white"
             }
            },
            "type": "table"
           }
          ]
         },
         "layout": {
          "annotationdefaults": {
           "arrowcolor": "#2a3f5f",
           "arrowhead": 0,
           "arrowwidth": 1
          },
          "autotypenumbers": "strict",
          "coloraxis": {
           "colorbar": {
            "outlinewidth": 0,
            "ticks": ""
           }
          },
          "colorscale": {
           "diverging": [
            [
             0,
             "#8e0152"
            ],
            [
             0.1,
             "#c51b7d"
            ],
            [
             0.2,
             "#de77ae"
            ],
            [
             0.3,
             "#f1b6da"
            ],
            [
             0.4,
             "#fde0ef"
            ],
            [
             0.5,
             "#f7f7f7"
            ],
            [
             0.6,
             "#e6f5d0"
            ],
            [
             0.7,
             "#b8e186"
            ],
            [
             0.8,
             "#7fbc41"
            ],
            [
             0.9,
             "#4d9221"
            ],
            [
             1,
             "#276419"
            ]
           ],
           "sequential": [
            [
             0,
             "#0d0887"
            ],
            [
             0.1111111111111111,
             "#46039f"
            ],
            [
             0.2222222222222222,
             "#7201a8"
            ],
            [
             0.3333333333333333,
             "#9c179e"
            ],
            [
             0.4444444444444444,
             "#bd3786"
            ],
            [
             0.5555555555555556,
             "#d8576b"
            ],
            [
             0.6666666666666666,
             "#ed7953"
            ],
            [
             0.7777777777777778,
             "#fb9f3a"
            ],
            [
             0.8888888888888888,
             "#fdca26"
            ],
            [
             1,
             "#f0f921"
            ]
           ],
           "sequentialminus": [
            [
             0,
             "#0d0887"
            ],
            [
             0.1111111111111111,
             "#46039f"
            ],
            [
             0.2222222222222222,
             "#7201a8"
            ],
            [
             0.3333333333333333,
             "#9c179e"
            ],
            [
             0.4444444444444444,
             "#bd3786"
            ],
            [
             0.5555555555555556,
             "#d8576b"
            ],
            [
             0.6666666666666666,
             "#ed7953"
            ],
            [
             0.7777777777777778,
             "#fb9f3a"
            ],
            [
             0.8888888888888888,
             "#fdca26"
            ],
            [
             1,
             "#f0f921"
            ]
           ]
          },
          "colorway": [
           "#636efa",
           "#EF553B",
           "#00cc96",
           "#ab63fa",
           "#FFA15A",
           "#19d3f3",
           "#FF6692",
           "#B6E880",
           "#FF97FF",
           "#FECB52"
          ],
          "font": {
           "color": "#2a3f5f"
          },
          "geo": {
           "bgcolor": "white",
           "lakecolor": "white",
           "landcolor": "#E5ECF6",
           "showlakes": true,
           "showland": true,
           "subunitcolor": "white"
          },
          "hoverlabel": {
           "align": "left"
          },
          "hovermode": "closest",
          "mapbox": {
           "style": "light"
          },
          "paper_bgcolor": "white",
          "plot_bgcolor": "#E5ECF6",
          "polar": {
           "angularaxis": {
            "gridcolor": "white",
            "linecolor": "white",
            "ticks": ""
           },
           "bgcolor": "#E5ECF6",
           "radialaxis": {
            "gridcolor": "white",
            "linecolor": "white",
            "ticks": ""
           }
          },
          "scene": {
           "xaxis": {
            "backgroundcolor": "#E5ECF6",
            "gridcolor": "white",
            "gridwidth": 2,
            "linecolor": "white",
            "showbackground": true,
            "ticks": "",
            "zerolinecolor": "white"
           },
           "yaxis": {
            "backgroundcolor": "#E5ECF6",
            "gridcolor": "white",
            "gridwidth": 2,
            "linecolor": "white",
            "showbackground": true,
            "ticks": "",
            "zerolinecolor": "white"
           },
           "zaxis": {
            "backgroundcolor": "#E5ECF6",
            "gridcolor": "white",
            "gridwidth": 2,
            "linecolor": "white",
            "showbackground": true,
            "ticks": "",
            "zerolinecolor": "white"
           }
          },
          "shapedefaults": {
           "line": {
            "color": "#2a3f5f"
           }
          },
          "ternary": {
           "aaxis": {
            "gridcolor": "white",
            "linecolor": "white",
            "ticks": ""
           },
           "baxis": {
            "gridcolor": "white",
            "linecolor": "white",
            "ticks": ""
           },
           "bgcolor": "#E5ECF6",
           "caxis": {
            "gridcolor": "white",
            "linecolor": "white",
            "ticks": ""
           }
          },
          "title": {
           "x": 0.05
          },
          "xaxis": {
           "automargin": true,
           "gridcolor": "white",
           "linecolor": "white",
           "ticks": "",
           "title": {
            "standoff": 15
           },
           "zerolinecolor": "white",
           "zerolinewidth": 2
          },
          "yaxis": {
           "automargin": true,
           "gridcolor": "white",
           "linecolor": "white",
           "ticks": "",
           "title": {
            "standoff": 15
           },
           "zerolinecolor": "white",
           "zerolinewidth": 2
          }
         }
        }
       }
      }
     },
     "metadata": {},
     "output_type": "display_data"
    }
   ],
   "source": [
    "fig = px.scatter_3d(x=X[:, 0], y=X[:, 1], z=X[:, 2], color=y)\n",
    "fig.show()"
   ]
  },
  {
   "cell_type": "code",
   "execution_count": 29,
   "id": "58b7d48b",
   "metadata": {
    "slideshow": {
     "slide_type": "skip"
    }
   },
   "outputs": [
    {
     "name": "stderr",
     "output_type": "stream",
     "text": [
      "100%|██████████| 14/14 [00:27<00:00,  1.96s/it]\n"
     ]
    }
   ],
   "source": [
    "# Fit KDE on high dimensional examples \n",
    "rocs = []\n",
    "auprs = []\n",
    "bandwidths = []\n",
    "\n",
    "param_space = {\n",
    "        'kernel': ['gaussian'],\n",
    "        'bandwidth': np.linspace(0.1, 100, 1000), # Define Search space for bandwidth parameter\n",
    "    }\n",
    "\n",
    "kdes = {}\n",
    "dims = np.arange(2,16)\n",
    "for d in tqdm(dims):\n",
    "    # Generate d dimensional distributions\n",
    "    dists = create_distributions(dim=d)\n",
    "\n",
    "    distribution_with_anomalies = contamination(\n",
    "        nominal=dists['Sinusoidal'],\n",
    "        anomaly=dists['Blob'],\n",
    "        p=.05\n",
    "    )\n",
    "\n",
    "    # Train on clean data\n",
    "    sample_train = dists['Sinusoidal'].sample(500)\n",
    "    X_train = sample_train[-1].numpy()\n",
    "    # Test data\n",
    "    sample_test = distribution_with_anomalies.sample(500)\n",
    "    X_test = sample_test[-1].numpy()\n",
    "    y_test = sample_test[0].numpy()\n",
    "\n",
    "    # Optimize bandwidth\n",
    "    params, kde = hyperopt_by_score(X_train, param_space)\n",
    "    kdes[d] = (params, kde)\n",
    "    \n",
    "    bandwidths.append(params['bandwidth'])\n",
    "\n",
    "    test_scores = -kde.score_samples(X_test)\n",
    "    test_scores = np.where(test_scores == np.inf, np.max(test_scores[np.isfinite(test_scores)])+1, test_scores)\n",
    "\n",
    "    rocs.append(roc_auc_score(y_test, test_scores))\n",
    "    auprs.append(average_precision_score(y_test, test_scores))\n",
    "\n",
    "    "
   ]
  },
  {
   "cell_type": "code",
   "execution_count": 30,
   "id": "cc679493",
   "metadata": {
    "pycharm": {
     "name": "#%%\n"
    },
    "slideshow": {
     "slide_type": "skip"
    }
   },
   "outputs": [
    {
     "name": "stderr",
     "output_type": "stream",
     "text": [
      "100%|██████████| 14/14 [00:01<00:00, 10.95it/s]\n"
     ]
    },
    {
     "name": "stdout",
     "output_type": "stream",
     "text": [
      "Crossection of the KDE at (0,...,0, x, y)\n"
     ]
    },
    {
     "data": {
      "image/png": "[encoded data removed]",
      "text/plain": [
       "<Figure size 1080x360 with 14 Axes>"
      ]
     },
     "metadata": {
      "needs_background": "light"
     },
     "output_type": "display_data"
    },
    {
     "name": "stdout",
     "output_type": "stream",
     "text": [
      "Evaluation with N((0,-2), .1) contamination\n"
     ]
    },
    {
     "data": {
      "image/png": "[encoded data removed]",
      "text/plain": [
       "<Figure size 720x360 with 2 Axes>"
      ]
     },
     "metadata": {
      "needs_background": "light"
     },
     "output_type": "display_data"
    }
   ],
   "source": [
    "# Plot cross section of pdf \n",
    "fig, axes = plt.subplots(nrows=2, ncols=7, figsize=(15, 5))\n",
    "for d, axis in tqdm(list(zip(kdes, axes.flatten()))):\n",
    "    \n",
    "    params, kde = kdes[d]\n",
    "\n",
    "    lin = np.linspace(-10, 10, 50)\n",
    "    grid_points = list(it.product(*([[0]]*(d-2)), lin, lin))\n",
    "    ys, xs = np.meshgrid(lin, lin)\n",
    "    # The score function of sklearn returns log-densities\n",
    "    scores = np.exp(kde.score_samples(grid_points)).reshape(50, 50)\n",
    "    colormesh = axis.contourf(xs, ys, scores)\n",
    "    axis.set_title(\"Dim = {}\".format(d))\n",
    "    axis.set_aspect('equal')\n",
    "    \n",
    "\n",
    "# Plot evaluation\n",
    "print('Crossection of the KDE at (0,...,0, x, y)')\n",
    "plt.show()\n",
    "\n",
    "_, axes = plt.subplots(ncols=2, figsize=(10, 5))\n",
    "print('Evaluation with N((0,-2), .1) contamination')\n",
    "axes[0].plot(dims, rocs)\n",
    "axes[0].plot(dims, auprs)\n",
    "axes[0].legend(labels=['ROC AUC', 'Average Precision'])\n",
    "axes[0].set_xlabel(\"Dimension\")\n",
    "axes[1].plot(dims, bandwidths)\n",
    "axes[1].set_xlabel(\"Dimension\")\n",
    "axes[1].set_ylabel(\"Bandwidth\")\n",
    "plt.tight_layout()\n",
    "plt.show()"
   ]
  },
  {
   "cell_type": "markdown",
   "id": "020500ed",
   "metadata": {
    "slideshow": {
     "slide_type": "subslide"
    }
   },
   "source": [
    "## Robustness\n",
    "Another drawback of KDE in the context of anomaly detection is that it is not robust against contamination of the data\n",
    "\n",
    "---\n",
    "**Definition**\n",
    "The *breakdown point* of an estimator is the smallest fraction of observations that need to be changed so that we can\n",
    "move the estimate arbitrarily far away from the true value.\n",
    "\n",
    "---"
   ]
  },
  {
   "cell_type": "markdown",
   "id": "74cf4c13",
   "metadata": {
    "slideshow": {
     "slide_type": "fragment"
    }
   },
   "source": [
    "**Example**: The sample mean has a breakdown point of $0$. Indeed, for a sample of $x_1,\\ldots, x_n$ we only need to\n",
    "change a single value in order to move the sample mean in any way we want. That means that the breakdown point is\n",
    "smaller than $\\frac{1}{n}$ for every $n\\in\\mathbb{N}$."
   ]
  },
  {
   "cell_type": "markdown",
   "id": "4efce06e",
   "metadata": {
    "slideshow": {
     "slide_type": "subslide"
    }
   },
   "source": [
    "## Robust Statistics\n",
    "There are robust replacements for the sample mean:\n",
    "- Median of means: Split the dataset into $S$ equally sized subsets $X_1,\\ldots, X_S$ and compute\n",
    "$\\mathrm{median}(\\overline{X_1},\\ldots, \\overline{X_S})$\n",
    "- M-estimation: The mean in a normed vector space is the value that minimizes the squared distances\n",
    "<center>\n",
    "$\\overline{X} = \\min_{y}\\sum_{x\\in X}|x-y|^2$\n",
    "</center>\n",
    "M-estimation replaces the quadratic loss with a more robust loss function."
   ]
  },
  {
   "cell_type": "markdown",
   "id": "ac5655c6",
   "metadata": {
    "slideshow": {
     "slide_type": "fragment"
    }
   },
   "source": [
    "### Huber loss\n",
    "Switch from quadratic to linear loss at prescribed threshold"
   ]
  },
  {
   "cell_type": "code",
   "execution_count": 18,
   "id": "b6861d26",
   "metadata": {
    "hideCode": true,
    "pycharm": {
     "name": "#%%\n"
    },
    "slideshow": {
     "slide_type": "-"
    }
   },
   "outputs": [
    {
     "data": {
      "image/png": "[encoded data removed]",
      "text/plain": [
       "<Figure size 360x360 with 1 Axes>"
      ]
     },
     "metadata": {
      "needs_background": "light"
     },
     "output_type": "display_data"
    }
   ],
   "source": [
    "import numpy as np\n",
    "\n",
    "\n",
    "def huber(error, threshold):\n",
    "    test = (np.abs(error) <= threshold)\n",
    "    return (test * (error**2)/2) + ((1-test)*threshold*(np.abs(error) - threshold/2))\n",
    "\n",
    "x = np.linspace(-5, 5)\n",
    "y = huber(x, 100)\n",
    "\n",
    "plt.plot(x, y)\n",
    "plt.gca().set_title(\"Huber Loss\")\n",
    "plt.show()"
   ]
  },
  {
   "cell_type": "markdown",
   "id": "c4ed645c",
   "metadata": {
    "slideshow": {
     "slide_type": "subslide"
    }
   },
   "source": [
    "## KDE is a Mean\n",
    "\n",
    "---\n",
    "\n",
    "**Kernel as scalar product:**\n",
    "<img src=\"images/kernels.png\" align=\"right\" width=\"400\" style=\"margin: 150px 75px\">\n",
    "\n",
    "- Let $K$ be a radial monotonic$^\\ast$ kernel over $\\mathbb{R}^n$.\n",
    "- For $x\\in\\mathbb{R}^n$ let $\\phi_x = K(\\cdot, x)$.\n",
    "- Vector space over the linear span of $\\{\\phi_x \\mid x\\in\\mathbb{R}^n\\}$:\n",
    "    - Pointwise addition and scalar multiplication.\n",
    "- Define the scalar product $\\langle \\phi_x, \\phi_y\\rangle = K(x,y)$.\n",
    "- Advantage: Scalar product is computable\n",
    "- Call this the reproducing kernel Hilbert space (RKHS) of $K$.\n",
    "- $\\mathrm{KDE}_h(\\cdot, D) = \\frac{1}{N}\\sum_{i=1}^N K_h(\\cdot, x_i) = \\frac{1}{N}\\sum_{i=1}^N\\phi_{x_i}$\n",
    "    - where $K_h(x,y) = \\frac{1}{h}K\\left(\\frac{|x-y|}{h}\\right)$\n",
    "\n",
    "---\n",
    "\n",
    "$^*$All kernels that we have seen are radial and monotonic\n",
    "\n",
    "\n"
   ]
  },
  {
   "cell_type": "markdown",
   "id": "aa0e6487",
   "metadata": {
    "slideshow": {
     "slide_type": "subslide"
    }
   },
   "source": [
    "# Exercise\n",
    "We compare the performance of different approaches to recover the nominal distribution under contamination.\n",
    "Here, we use code by [Humbert et al.](https://github.com/lminvielle/mom-kde) to replicate\n",
    "the results in the referenced paper on median-of-mean KDE."
   ]
  },
  {
   "cell_type": "code",
   "execution_count": 36,
   "id": "58243128",
   "metadata": {
    "pycharm": {
     "name": "#%%\n"
    },
    "slideshow": {
     "slide_type": "skip"
    }
   },
   "outputs": [],
   "source": [
    "# =======================================================\n",
    "#   Parameters\n",
    "# =======================================================\n",
    "algos = [\n",
    "    'kde',\n",
    "    'mom-kde', # Median-of-Means\n",
    "    'rkde', # Huber Loss\n",
    "]\n",
    "\n",
    "dataset = 'house-prices'\n",
    "\n",
    "outlierprop_range = [0.01, 0.02, 0.03, 0.05, 0.07, 0.1, 0.2, 0.3, 0.4, 0.5]\n",
    "kernel = 'gaussian'"
   ]
  },
  {
   "cell_type": "code",
   "execution_count": 37,
   "id": "da628e2f",
   "metadata": {
    "pycharm": {
     "name": "#%%\n"
    },
    "slideshow": {
     "slide_type": "skip"
    }
   },
   "outputs": [
    {
     "name": "stdout",
     "output_type": "stream",
     "text": [
      "Dataset:  house-prices\n"
     ]
    },
    {
     "data": {
      "application/vnd.plotly.v1+json": {
       "config": {
        "plotlyServerURL": "https://plot.ly"
       },
       "data": [
        {
         "hovertemplate": "LotArea=%{x}<br>OverallCond=%{y}<br>SalePrice=%{z}<br>color=%{marker.color}<extra></extra>",
         "legendgroup": "",
         "marker": {
          "color": [
           1,
           1,
           0,
           0,
           1,
           0,
           1,
           0,
           1,
           1,
           1,
           1,
           0,
           1,
           0,
           0,
           0,
           1,
           1,
           0,
           0,
           1,
           0,
           0,
           0,
           1,
           1,
           0,
           1,
           0,
           1,
           1,
           0,
           0,
           1,
           0,
           0,
           1,
           1,
           1,
           1,
           1,
           1,
           1,
           1,
           0,
           0,
           0,
           0,
           1,
           1,
           0,
           0,
           0,
           0,
           1,
           0,
           1,
           0,
           0,
           0,
           0,
           0,
           1,
           1,
           1,
           1,
           0,
           1,
           1,
           0,
           1,
           0,
           0,
           1,
           1,
           1,
           0,
           1,
           1,
           0,
           1,
           1,
           1,
           1,
           1,
           0,
           0,
           1,
           0,
           0,
           0,
           0,
           1,
           1,
           1,
           1,
           1,
           1,
           0,
           0,
           1,
           1,
           0,
           1,
           1,
           1,
           1,
           1,
           0,
           1,
           0,
           1,
           0,
           0,
           1,
           0,
           1,
           1,
           1,
           1,
           1,
           0,
           1,
           0,
           1,
           1,
           0,
           1,
           1,
           1,
           1,
           1,
           0,
           1,
           1,
           1,
           0,
           1,
           0,
           0,
           0,
           0,
           1,
           1,
           0,
           1,
           1,
           0,
           1,
           1,
           1,
           1,
           0,
           1,
           1,
           0,
           0,
           1,
           0,
           0,
           1,
           1,
           1,
           1,
           0,
           0,
           1,
           1,
           1,
           1,
           0,
           0,
           1,
           1,
           0,
           1,
           0,
           1,
           1,
           0,
           1,
           1,
           1,
           0,
           1,
           1,
           1,
           1,
           0,
           1,
           0,
           0,
           1,
           0,
           0,
           1,
           0,
           1,
           1,
           1,
           0,
           1,
           1,
           0,
           1,
           1,
           0,
           1,
           1,
           1,
           1,
           0,
           1,
           1,
           1,
           1,
           0,
           1,
           0,
           1,
           0,
           0,
           1,
           0,
           0,
           1,
           0,
           0,
           1,
           1,
           1,
           1,
           0,
           1,
           1,
           1,
           1,
           1,
           1,
           1,
           0,
           1,
           1,
           1,
           0,
           0,
           0,
           1,
           1
          ],
          "coloraxis": "coloraxis",
          "symbol": "circle"
         },
         "mode": "markers",
         "name": "",
         "scene": "scene",
         "showlegend": false,
         "type": "scatter3d",
         "x": [
          7180,
          11423,
          10921,
          11409,
          10650,
          12615,
          9337,
          3675,
          6762,
          10264,
          9286,
          6762,
          8172,
          13450,
          9738,
          8877,
          10800,
          9531,
          11923,
          10106,
          8536,
          9750,
          7800,
          9571,
          8546,
          4435,
          9382,
          9340,
          8461,
          63887,
          9548,
          8199,
          8877,
          40094,
          12435,
          16466,
          9400,
          9588,
          12393,
          11250,
          4435,
          7200,
          10970,
          11249,
          10859,
          10452,
          4060,
          7585,
          9060,
          12803,
          4438,
          12180,
          17755,
          13728,
          2522,
          8487,
          7917,
          4435,
          17140,
          8212,
          9060,
          8335,
          2522,
          9135,
          10667,
          8450,
          9100,
          9525,
          9473,
          13704,
          6420,
          8750,
          11512,
          10012,
          14006,
          11317,
          11210,
          9825,
          11250,
          11049,
          8926,
          9742,
          9560,
          11838,
          9066,
          8072,
          7024,
          13907,
          9525,
          9937,
          13680,
          11767,
          11100,
          4438,
          10402,
          8767,
          9179,
          8749,
          8760,
          13286,
          9855,
          9100,
          10356,
          12342,
          10665,
          16226,
          10316,
          7990,
          7406,
          7711,
          11645,
          2522,
          12464,
          7000,
          7819,
          4435,
          8172,
          10084,
          8750,
          10335,
          8633,
          9200,
          9084,
          7314,
          7200,
          10900,
          8814,
          10880,
          7700,
          11645,
          9808,
          11248,
          9317,
          3363,
          11367,
          15523,
          9236,
          8741,
          8846,
          12354,
          10625,
          7024,
          19690,
          11883,
          9100,
          11500,
          11103,
          7200,
          8405,
          8200,
          9313,
          8924,
          12137,
          10215,
          10226,
          9920,
          11841,
          9170,
          9135,
          9405,
          8777,
          8775,
          8500,
          8320,
          10637,
          4270,
          12108,
          9240,
          8158,
          7226,
          10652,
          3675,
          5604,
          8814,
          10769,
          8562,
          4435,
          9084,
          8430,
          9965,
          9098,
          8800,
          10000,
          9375,
          10420,
          8935,
          9375,
          8750,
          9750,
          6629,
          11404,
          8410,
          10020,
          8070,
          21780,
          3675,
          9245,
          7950,
          8385,
          4426,
          10635,
          8248,
          9245,
          8773,
          9571,
          12420,
          4426,
          8160,
          8125,
          7000,
          11175,
          9800,
          8190,
          8450,
          10400,
          4426,
          8400,
          8248,
          8445,
          8777,
          16285,
          10998,
          8777,
          10386,
          9450,
          9600,
          15611,
          7301,
          11767,
          11885,
          6762,
          7200,
          11050,
          6931,
          8556,
          9017,
          8846,
          15426,
          13568,
          13125,
          9965,
          8405,
          10780,
          10475,
          8990,
          10206,
          6040,
          9937,
          14781,
          8450
         ],
         "y": [
          7,
          5,
          5,
          4,
          6,
          7,
          5,
          5,
          5,
          5,
          7,
          5,
          6,
          5,
          7,
          5,
          5,
          5,
          5,
          7,
          5,
          5,
          8,
          3,
          5,
          5,
          5,
          6,
          5,
          5,
          6,
          5,
          6,
          5,
          5,
          7,
          5,
          5,
          5,
          5,
          5,
          5,
          6,
          5,
          5,
          5,
          8,
          3,
          5,
          5,
          5,
          4,
          4,
          7,
          5,
          5,
          7,
          5,
          6,
          3,
          6,
          5,
          5,
          5,
          6,
          5,
          5,
          4,
          5,
          5,
          7,
          5,
          7,
          5,
          5,
          5,
          5,
          5,
          5,
          5,
          3,
          5,
          7,
          5,
          5,
          5,
          5,
          6,
          6,
          7,
          5,
          6,
          7,
          5,
          5,
          5,
          5,
          5,
          5,
          5,
          5,
          5,
          6,
          5,
          5,
          5,
          5,
          6,
          5,
          3,
          5,
          5,
          5,
          7,
          5,
          5,
          7,
          5,
          5,
          5,
          5,
          6,
          5,
          5,
          6,
          7,
          5,
          5,
          5,
          5,
          5,
          5,
          5,
          5,
          5,
          6,
          5,
          4,
          5,
          8,
          5,
          5,
          7,
          5,
          5,
          3,
          5,
          7,
          3,
          5,
          5,
          5,
          5,
          5,
          5,
          6,
          5,
          7,
          5,
          9,
          7,
          5,
          5,
          5,
          5,
          6,
          4,
          5,
          5,
          5,
          5,
          5,
          6,
          5,
          5,
          6,
          5,
          6,
          5,
          5,
          7,
          7,
          5,
          5,
          5,
          5,
          5,
          5,
          6,
          6,
          5,
          3,
          1,
          5,
          7,
          5,
          5,
          6,
          8,
          5,
          5,
          3,
          5,
          5,
          6,
          5,
          5,
          6,
          5,
          8,
          5,
          7,
          6,
          5,
          5,
          5,
          5,
          7,
          7,
          7,
          5,
          5,
          5,
          5,
          5,
          5,
          5,
          5,
          7,
          5,
          5,
          8,
          5,
          5,
          5,
          5,
          5,
          5,
          5,
          5,
          5,
          8,
          5,
          5,
          5,
          3,
          5,
          6,
          5,
          5
         ],
         "z": [
          127000,
          272000,
          94750,
          131000,
          128200,
          243000,
          204750,
          145000,
          193879,
          214000,
          143500,
          195400,
          135000,
          200000,
          104900,
          102000,
          179000,
          211000,
          239000,
          127500,
          155000,
          213000,
          225000,
          60000,
          140000,
          140000,
          191000,
          113000,
          163990,
          160000,
          237000,
          189000,
          100000,
          184750,
          231500,
          135500,
          127500,
          276000,
          195000,
          255900,
          131500,
          123000,
          147000,
          177500,
          145000,
          155000,
          99900,
          91500,
          105000,
          221000,
          144500,
          80000,
          149900,
          235000,
          130000,
          190000,
          148000,
          136500,
          135000,
          58500,
          120000,
          93000,
          137500,
          200000,
          212000,
          185000,
          216837,
          136900,
          237000,
          205000,
          123500,
          191000,
          177000,
          137500,
          192500,
          180000,
          221500,
          100000,
          223500,
          179900,
          112000,
          230000,
          128500,
          236500,
          230000,
          138000,
          157000,
          108000,
          144000,
          167000,
          139600,
          130500,
          84900,
          149000,
          198900,
          164990,
          193000,
          192000,
          239799,
          320000,
          127500,
          178000,
          122000,
          82500,
          226000,
          267000,
          235000,
          110000,
          194000,
          150000,
          260000,
          130000,
          152000,
          107500,
          107000,
          144000,
          115000,
          212900,
          200500,
          204000,
          173500,
          130250,
          108000,
          194500,
          125000,
          161750,
          220000,
          125000,
          112500,
          196500,
          227000,
          285000,
          176432,
          130000,
          255000,
          133500,
          217000,
          113000,
          148000,
          110000,
          83000,
          176000,
          274970,
          203000,
          235000,
          84000,
          155835,
          124900,
          98000,
          219500,
          190000,
          188000,
          224900,
          111000,
          295493,
          128500,
          118500,
          140000,
          214000,
          118000,
          145900,
          126000,
          179600,
          185900,
          297000,
          79000,
          118000,
          287000,
          224900,
          183000,
          279500,
          140000,
          98000,
          203000,
          212000,
          144500,
          155900,
          95000,
          124000,
          383970,
          86000,
          150500,
          240000,
          219500,
          186000,
          195000,
          228500,
          210000,
          274300,
          103600,
          222500,
          81000,
          61000,
          123600,
          185000,
          148000,
          213500,
          159500,
          149900,
          143000,
          232000,
          67000,
          145000,
          185500,
          129000,
          230000,
          141000,
          126000,
          230000,
          136500,
          200141,
          149900,
          119000,
          208500,
          197900,
          149300,
          213000,
          116000,
          133000,
          85000,
          187100,
          117000,
          108000,
          305900,
          110000,
          79000,
          233230,
          198500,
          112000,
          261500,
          206000,
          133900,
          313000,
          165400,
          194000,
          192000,
          173900,
          231500,
          156000,
          208900,
          424870,
          119000,
          132500,
          245350,
          204900,
          82000,
          82000,
          147500,
          275000,
          210000
         ]
        }
       ],
       "layout": {
        "coloraxis": {
         "colorbar": {
          "title": {
           "text": "color"
          }
         },
         "colorscale": [
          [
           0,
           "#0d0887"
          ],
          [
           0.1111111111111111,
           "#46039f"
          ],
          [
           0.2222222222222222,
           "#7201a8"
          ],
          [
           0.3333333333333333,
           "#9c179e"
          ],
          [
           0.4444444444444444,
           "#bd3786"
          ],
          [
           0.5555555555555556,
           "#d8576b"
          ],
          [
           0.6666666666666666,
           "#ed7953"
          ],
          [
           0.7777777777777778,
           "#fb9f3a"
          ],
          [
           0.8888888888888888,
           "#fdca26"
          ],
          [
           1,
           "#f0f921"
          ]
         ]
        },
        "legend": {
         "tracegroupgap": 0
        },
        "margin": {
         "t": 60
        },
        "scene": {
         "domain": {
          "x": [
           0,
           1
          ],
          "y": [
           0,
           1
          ]
         },
         "xaxis": {
          "title": {
           "text": "LotArea"
          }
         },
         "yaxis": {
          "title": {
           "text": "OverallCond"
          }
         },
         "zaxis": {
          "title": {
           "text": "SalePrice"
          }
         }
        },
        "template": {
         "data": {
          "bar": [
           {
            "error_x": {
             "color": "#2a3f5f"
            },
            "error_y": {
             "color": "#2a3f5f"
            },
            "marker": {
             "line": {
              "color": "#E5ECF6",
              "width": 0.5
             },
             "pattern": {
              "fillmode": "overlay",
              "size": 10,
              "solidity": 0.2
             }
            },
            "type": "bar"
           }
          ],
          "barpolar": [
           {
            "marker": {
             "line": {
              "color": "#E5ECF6",
              "width": 0.5
             },
             "pattern": {
              "fillmode": "overlay",
              "size": 10,
              "solidity": 0.2
             }
            },
            "type": "barpolar"
           }
          ],
          "carpet": [
           {
            "aaxis": {
             "endlinecolor": "#2a3f5f",
             "gridcolor": "white",
             "linecolor": "white",
             "minorgridcolor": "white",
             "startlinecolor": "#2a3f5f"
            },
            "baxis": {
             "endlinecolor": "#2a3f5f",
             "gridcolor": "white",
             "linecolor": "white",
             "minorgridcolor": "white",
             "startlinecolor": "#2a3f5f"
            },
            "type": "carpet"
           }
          ],
          "choropleth": [
           {
            "colorbar": {
             "outlinewidth": 0,
             "ticks": ""
            },
            "type": "choropleth"
           }
          ],
          "contour": [
           {
            "colorbar": {
             "outlinewidth": 0,
             "ticks": ""
            },
            "colorscale": [
             [
              0,
              "#0d0887"
             ],
             [
              0.1111111111111111,
              "#46039f"
             ],
             [
              0.2222222222222222,
              "#7201a8"
             ],
             [
              0.3333333333333333,
              "#9c179e"
             ],
             [
              0.4444444444444444,
              "#bd3786"
             ],
             [
              0.5555555555555556,
              "#d8576b"
             ],
             [
              0.6666666666666666,
              "#ed7953"
             ],
             [
              0.7777777777777778,
              "#fb9f3a"
             ],
             [
              0.8888888888888888,
              "#fdca26"
             ],
             [
              1,
              "#f0f921"
             ]
            ],
            "type": "contour"
           }
          ],
          "contourcarpet": [
           {
            "colorbar": {
             "outlinewidth": 0,
             "ticks": ""
            },
            "type": "contourcarpet"
           }
          ],
          "heatmap": [
           {
            "colorbar": {
             "outlinewidth": 0,
             "ticks": ""
            },
            "colorscale": [
             [
              0,
              "#0d0887"
             ],
             [
              0.1111111111111111,
              "#46039f"
             ],
             [
              0.2222222222222222,
              "#7201a8"
             ],
             [
              0.3333333333333333,
              "#9c179e"
             ],
             [
              0.4444444444444444,
              "#bd3786"
             ],
             [
              0.5555555555555556,
              "#d8576b"
             ],
             [
              0.6666666666666666,
              "#ed7953"
             ],
             [
              0.7777777777777778,
              "#fb9f3a"
             ],
             [
              0.8888888888888888,
              "#fdca26"
             ],
             [
              1,
              "#f0f921"
             ]
            ],
            "type": "heatmap"
           }
          ],
          "heatmapgl": [
           {
            "colorbar": {
             "outlinewidth": 0,
             "ticks": ""
            },
            "colorscale": [
             [
              0,
              "#0d0887"
             ],
             [
              0.1111111111111111,
              "#46039f"
             ],
             [
              0.2222222222222222,
              "#7201a8"
             ],
             [
              0.3333333333333333,
              "#9c179e"
             ],
             [
              0.4444444444444444,
              "#bd3786"
             ],
             [
              0.5555555555555556,
              "#d8576b"
             ],
             [
              0.6666666666666666,
              "#ed7953"
             ],
             [
              0.7777777777777778,
              "#fb9f3a"
             ],
             [
              0.8888888888888888,
              "#fdca26"
             ],
             [
              1,
              "#f0f921"
             ]
            ],
            "type": "heatmapgl"
           }
          ],
          "histogram": [
           {
            "marker": {
             "pattern": {
              "fillmode": "overlay",
              "size": 10,
              "solidity": 0.2
             }
            },
            "type": "histogram"
           }
          ],
          "histogram2d": [
           {
            "colorbar": {
             "outlinewidth": 0,
             "ticks": ""
            },
            "colorscale": [
             [
              0,
              "#0d0887"
             ],
             [
              0.1111111111111111,
              "#46039f"
             ],
             [
              0.2222222222222222,
              "#7201a8"
             ],
             [
              0.3333333333333333,
              "#9c179e"
             ],
             [
              0.4444444444444444,
              "#bd3786"
             ],
             [
              0.5555555555555556,
              "#d8576b"
             ],
             [
              0.6666666666666666,
              "#ed7953"
             ],
             [
              0.7777777777777778,
              "#fb9f3a"
             ],
             [
              0.8888888888888888,
              "#fdca26"
             ],
             [
              1,
              "#f0f921"
             ]
            ],
            "type": "histogram2d"
           }
          ],
          "histogram2dcontour": [
           {
            "colorbar": {
             "outlinewidth": 0,
             "ticks": ""
            },
            "colorscale": [
             [
              0,
              "#0d0887"
             ],
             [
              0.1111111111111111,
              "#46039f"
             ],
             [
              0.2222222222222222,
              "#7201a8"
             ],
             [
              0.3333333333333333,
              "#9c179e"
             ],
             [
              0.4444444444444444,
              "#bd3786"
             ],
             [
              0.5555555555555556,
              "#d8576b"
             ],
             [
              0.6666666666666666,
              "#ed7953"
             ],
             [
              0.7777777777777778,
              "#fb9f3a"
             ],
             [
              0.8888888888888888,
              "#fdca26"
             ],
             [
              1,
              "#f0f921"
             ]
            ],
            "type": "histogram2dcontour"
           }
          ],
          "mesh3d": [
           {
            "colorbar": {
             "outlinewidth": 0,
             "ticks": ""
            },
            "type": "mesh3d"
           }
          ],
          "parcoords": [
           {
            "line": {
             "colorbar": {
              "outlinewidth": 0,
              "ticks": ""
             }
            },
            "type": "parcoords"
           }
          ],
          "pie": [
           {
            "automargin": true,
            "type": "pie"
           }
          ],
          "scatter": [
           {
            "marker": {
             "colorbar": {
              "outlinewidth": 0,
              "ticks": ""
             }
            },
            "type": "scatter"
           }
          ],
          "scatter3d": [
           {
            "line": {
             "colorbar": {
              "outlinewidth": 0,
              "ticks": ""
             }
            },
            "marker": {
             "colorbar": {
              "outlinewidth": 0,
              "ticks": ""
             }
            },
            "type": "scatter3d"
           }
          ],
          "scattercarpet": [
           {
            "marker": {
             "colorbar": {
              "outlinewidth": 0,
              "ticks": ""
             }
            },
            "type": "scattercarpet"
           }
          ],
          "scattergeo": [
           {
            "marker": {
             "colorbar": {
              "outlinewidth": 0,
              "ticks": ""
             }
            },
            "type": "scattergeo"
           }
          ],
          "scattergl": [
           {
            "marker": {
             "colorbar": {
              "outlinewidth": 0,
              "ticks": ""
             }
            },
            "type": "scattergl"
           }
          ],
          "scattermapbox": [
           {
            "marker": {
             "colorbar": {
              "outlinewidth": 0,
              "ticks": ""
             }
            },
            "type": "scattermapbox"
           }
          ],
          "scatterpolar": [
           {
            "marker": {
             "colorbar": {
              "outlinewidth": 0,
              "ticks": ""
             }
            },
            "type": "scatterpolar"
           }
          ],
          "scatterpolargl": [
           {
            "marker": {
             "colorbar": {
              "outlinewidth": 0,
              "ticks": ""
             }
            },
            "type": "scatterpolargl"
           }
          ],
          "scatterternary": [
           {
            "marker": {
             "colorbar": {
              "outlinewidth": 0,
              "ticks": ""
             }
            },
            "type": "scatterternary"
           }
          ],
          "surface": [
           {
            "colorbar": {
             "outlinewidth": 0,
             "ticks": ""
            },
            "colorscale": [
             [
              0,
              "#0d0887"
             ],
             [
              0.1111111111111111,
              "#46039f"
             ],
             [
              0.2222222222222222,
              "#7201a8"
             ],
             [
              0.3333333333333333,
              "#9c179e"
             ],
             [
              0.4444444444444444,
              "#bd3786"
             ],
             [
              0.5555555555555556,
              "#d8576b"
             ],
             [
              0.6666666666666666,
              "#ed7953"
             ],
             [
              0.7777777777777778,
              "#fb9f3a"
             ],
             [
              0.8888888888888888,
              "#fdca26"
             ],
             [
              1,
              "#f0f921"
             ]
            ],
            "type": "surface"
           }
          ],
          "table": [
           {
            "cells": {
             "fill": {
              "color": "#EBF0F8"
             },
             "line": {
              "color": "white"
             }
            },
            "header": {
             "fill": {
              "color": "#C8D4E3"
             },
             "line": {
              "color": "white"
             }
            },
            "type": "table"
           }
          ]
         },
         "layout": {
          "annotationdefaults": {
           "arrowcolor": "#2a3f5f",
           "arrowhead": 0,
           "arrowwidth": 1
          },
          "autotypenumbers": "strict",
          "coloraxis": {
           "colorbar": {
            "outlinewidth": 0,
            "ticks": ""
           }
          },
          "colorscale": {
           "diverging": [
            [
             0,
             "#8e0152"
            ],
            [
             0.1,
             "#c51b7d"
            ],
            [
             0.2,
             "#de77ae"
            ],
            [
             0.3,
             "#f1b6da"
            ],
            [
             0.4,
             "#fde0ef"
            ],
            [
             0.5,
             "#f7f7f7"
            ],
            [
             0.6,
             "#e6f5d0"
            ],
            [
             0.7,
             "#b8e186"
            ],
            [
             0.8,
             "#7fbc41"
            ],
            [
             0.9,
             "#4d9221"
            ],
            [
             1,
             "#276419"
            ]
           ],
           "sequential": [
            [
             0,
             "#0d0887"
            ],
            [
             0.1111111111111111,
             "#46039f"
            ],
            [
             0.2222222222222222,
             "#7201a8"
            ],
            [
             0.3333333333333333,
             "#9c179e"
            ],
            [
             0.4444444444444444,
             "#bd3786"
            ],
            [
             0.5555555555555556,
             "#d8576b"
            ],
            [
             0.6666666666666666,
             "#ed7953"
            ],
            [
             0.7777777777777778,
             "#fb9f3a"
            ],
            [
             0.8888888888888888,
             "#fdca26"
            ],
            [
             1,
             "#f0f921"
            ]
           ],
           "sequentialminus": [
            [
             0,
             "#0d0887"
            ],
            [
             0.1111111111111111,
             "#46039f"
            ],
            [
             0.2222222222222222,
             "#7201a8"
            ],
            [
             0.3333333333333333,
             "#9c179e"
            ],
            [
             0.4444444444444444,
             "#bd3786"
            ],
            [
             0.5555555555555556,
             "#d8576b"
            ],
            [
             0.6666666666666666,
             "#ed7953"
            ],
            [
             0.7777777777777778,
             "#fb9f3a"
            ],
            [
             0.8888888888888888,
             "#fdca26"
            ],
            [
             1,
             "#f0f921"
            ]
           ]
          },
          "colorway": [
           "#636efa",
           "#EF553B",
           "#00cc96",
           "#ab63fa",
           "#FFA15A",
           "#19d3f3",
           "#FF6692",
           "#B6E880",
           "#FF97FF",
           "#FECB52"
          ],
          "font": {
           "color": "#2a3f5f"
          },
          "geo": {
           "bgcolor": "white",
           "lakecolor": "white",
           "landcolor": "#E5ECF6",
           "showlakes": true,
           "showland": true,
           "subunitcolor": "white"
          },
          "hoverlabel": {
           "align": "left"
          },
          "hovermode": "closest",
          "mapbox": {
           "style": "light"
          },
          "paper_bgcolor": "white",
          "plot_bgcolor": "#E5ECF6",
          "polar": {
           "angularaxis": {
            "gridcolor": "white",
            "linecolor": "white",
            "ticks": ""
           },
           "bgcolor": "#E5ECF6",
           "radialaxis": {
            "gridcolor": "white",
            "linecolor": "white",
            "ticks": ""
           }
          },
          "scene": {
           "xaxis": {
            "backgroundcolor": "#E5ECF6",
            "gridcolor": "white",
            "gridwidth": 2,
            "linecolor": "white",
            "showbackground": true,
            "ticks": "",
            "zerolinecolor": "white"
           },
           "yaxis": {
            "backgroundcolor": "#E5ECF6",
            "gridcolor": "white",
            "gridwidth": 2,
            "linecolor": "white",
            "showbackground": true,
            "ticks": "",
            "zerolinecolor": "white"
           },
           "zaxis": {
            "backgroundcolor": "#E5ECF6",
            "gridcolor": "white",
            "gridwidth": 2,
            "linecolor": "white",
            "showbackground": true,
            "ticks": "",
            "zerolinecolor": "white"
           }
          },
          "shapedefaults": {
           "line": {
            "color": "#2a3f5f"
           }
          },
          "ternary": {
           "aaxis": {
            "gridcolor": "white",
            "linecolor": "white",
            "ticks": ""
           },
           "baxis": {
            "gridcolor": "white",
            "linecolor": "white",
            "ticks": ""
           },
           "bgcolor": "#E5ECF6",
           "caxis": {
            "gridcolor": "white",
            "linecolor": "white",
            "ticks": ""
           }
          },
          "title": {
           "x": 0.05
          },
          "xaxis": {
           "automargin": true,
           "gridcolor": "white",
           "linecolor": "white",
           "ticks": "",
           "title": {
            "standoff": 15
           },
           "zerolinecolor": "white",
           "zerolinewidth": 2
          },
          "yaxis": {
           "automargin": true,
           "gridcolor": "white",
           "linecolor": "white",
           "ticks": "",
           "title": {
            "standoff": 15
           },
           "zerolinecolor": "white",
           "zerolinewidth": 2
          }
         }
        }
       }
      }
     },
     "metadata": {},
     "output_type": "display_data"
    },
    {
     "name": "stdout",
     "output_type": "stream",
     "text": [
      "\n",
      "Outlier prop: 0.01 (1 / 10)\n",
      "downsample outliers\n",
      "Finding best bandwidth...\n",
      "Algo:  kde\n",
      "Algo:  mom-kde\n",
      "Algo:  rkde\n",
      "Stop at 4 iterations\n",
      "Stop at 100 iterations\n",
      "\n",
      "Outlier prop: 0.02 (2 / 10)\n",
      "downsample outliers\n",
      "Finding best bandwidth...\n",
      "Algo:  kde\n",
      "Algo:  mom-kde\n",
      "Algo:  rkde\n",
      "Stop at 4 iterations\n",
      "Stop at 100 iterations\n",
      "\n",
      "Outlier prop: 0.03 (3 / 10)\n",
      "downsample outliers\n",
      "Finding best bandwidth...\n",
      "Algo:  kde\n",
      "Algo:  mom-kde\n",
      "Algo:  rkde\n",
      "Stop at 4 iterations\n",
      "Stop at 100 iterations\n",
      "\n",
      "Outlier prop: 0.05 (4 / 10)\n",
      "downsample outliers\n",
      "Finding best bandwidth...\n",
      "Algo:  kde\n",
      "Algo:  mom-kde\n",
      "Algo:  rkde\n",
      "Stop at 3 iterations\n",
      "Stop at 100 iterations\n",
      "\n",
      "Outlier prop: 0.07 (5 / 10)\n",
      "downsample outliers\n",
      "Finding best bandwidth...\n",
      "Algo:  kde\n",
      "Algo:  mom-kde\n",
      "Algo:  rkde\n",
      "Stop at 3 iterations\n",
      "Stop at 100 iterations\n",
      "\n",
      "Outlier prop: 0.1 (6 / 10)\n",
      "downsample outliers\n",
      "Finding best bandwidth...\n",
      "Algo:  kde\n",
      "Algo:  mom-kde\n",
      "Algo:  rkde\n",
      "Stop at 3 iterations\n",
      "Stop at 100 iterations\n",
      "\n",
      "Outlier prop: 0.2 (7 / 10)\n",
      "downsample outliers\n",
      "Finding best bandwidth...\n",
      "Algo:  kde\n",
      "Algo:  mom-kde\n",
      "Algo:  rkde\n",
      "Stop at 5 iterations\n",
      "Stop at 100 iterations\n",
      "\n",
      "Outlier prop: 0.3 (8 / 10)\n",
      "downsample outliers\n",
      "Finding best bandwidth...\n",
      "Algo:  kde\n",
      "Algo:  mom-kde\n",
      "Algo:  rkde\n",
      "Stop at 5 iterations\n",
      "Stop at 100 iterations\n",
      "\n",
      "Outlier prop: 0.4 (9 / 10)\n",
      "downsample outliers\n",
      "Finding best bandwidth...\n",
      "Algo:  kde\n",
      "Algo:  mom-kde\n",
      "Algo:  rkde\n",
      "Stop at 4 iterations\n",
      "Stop at 100 iterations\n",
      "\n",
      "Outlier prop: 0.5 (10 / 10)\n",
      "downsample inliers\n",
      "Finding best bandwidth...\n",
      "Algo:  kde\n",
      "Algo:  mom-kde\n",
      "Algo:  rkde\n",
      "Stop at 4 iterations\n",
      "Stop at 100 iterations\n"
     ]
    }
   ],
   "source": [
    "auc_scores = perform_rkde_experiment(\n",
    "    algos,\n",
    "    dataset,\n",
    "    outlierprop_range,\n",
    "    kernel,\n",
    ")"
   ]
  },
  {
   "cell_type": "code",
   "execution_count": 38,
   "id": "280ed959",
   "metadata": {},
   "outputs": [
    {
     "data": {
      "text/plain": [
       "Text(0.5, 1.0, 'Comparison of rKDE against contamination')"
      ]
     },
     "execution_count": 38,
     "metadata": {},
     "output_type": "execute_result"
    },
    {
     "data": {
      "image/png": "[encoded data removed]",
      "text/plain": [
       "<Figure size 504x360 with 1 Axes>"
      ]
     },
     "metadata": {
      "needs_background": "light"
     },
     "output_type": "display_data"
    }
   ],
   "source": [
    "fig, ax = plt.subplots(figsize=(7, 5))\n",
    "for algo, algo_data in auc_scores.groupby('algo'):\n",
    "    x = algo_data.groupby('outlier_prop').mean().index\n",
    "    y = algo_data.groupby('outlier_prop').mean()['auc_anomaly']\n",
    "    ax.plot(x, y, 'o-', label=algo)\n",
    "plt.legend()\n",
    "plt.xlabel('outlier_prop')\n",
    "plt.ylabel('auc_score')\n",
    "plt.title('Comparison of rKDE against contamination')"
   ]
  },
  {
   "cell_type": "markdown",
   "id": "76312d0d",
   "metadata": {
    "slideshow": {
     "slide_type": "subslide"
    }
   },
   "source": [
    "# Summary\n",
    "- Kernel density estimation is a non-parametric method to estimate a pdf from a sample.\n",
    "- Bandwidth is the most important parameter.\n",
    "- Converges to the true pdf if $n\\to\\infty$.\n",
    "    - Convergence exponentially depends on the dimension.\n",
    "- KDE is sensitive to contamination:\n",
    "    - In a contaminated setting one can employ methods from robust statistics to obtain robust estimates.\n",
    "    \n",
    "## Implementations\n",
    "- Sklearn: [sklearn.neighbors.KernelDensity](https://scikit-learn.org/stable/modules/generated/sklearn.neighbors.KernelDensity.html#sklearn.neighbors.KernelDensity)\n",
    "- Statsmodels: [statsmodels.nonparametric.kernel_density.KDEMultivariate](https://www.statsmodels.org/dev/generated/statsmodels.nonparametric.kernel_density.KDEMultivariate.html)\n",
    "- FastKDE: [link](https://pypi.org/project/fastkde/), offers automatic bandwidth and kernel selection."
   ]
  },
  {
   "cell_type": "markdown",
   "id": "71e46caa",
   "metadata": {
    "slideshow": {
     "slide_type": "slide"
    }
   },
   "source": [
    "# Anomaly Detection via Isolation\n",
    "**Idea:** An anomaly should allow  \"simple\" descriptions that distinguish it from the rest of the data.\n",
    "\n",
    "- Descriptions: Conjunction of single attribute tests, i.e.\n",
    "  $X_i \\leq c$ or $X_i > c$.\n",
    "- Example: $X_1 \\leq 1.2 \\text{ and } X_5 > -3.4 \\text{ and }\tX_7 \\leq 5.6$.\n",
    "- Complexity of description: Number of conjunctions.\n",
    "\n",
    "Moreover, we assume that a short random descriptions will have a significantly larger chance of isolating an anomaly\n",
    "than isolating any nominal point.\n",
    "\n",
    "- Choose random isolating descriptions and compute anomaly score from average complexity."
   ]
  },
  {
   "cell_type": "markdown",
   "id": "f9ce4a9f",
   "metadata": {
    "slideshow": {
     "slide_type": "subslide"
    }
   },
   "source": [
    "## Isolation Tree\n",
    "Isolation Forest (iForest) implements this idea by generating an ensemble of random decision trees.\n",
    "Each tree is build as follows:\n",
    "\n",
    "---\n",
    "**Input:** Data set (subsample) $X$, maximal height $h$\n",
    "- Randomly choose feature $i$ and split value $s$ (in range of data)\n",
    "- Recursively build subtrees on $X_L = \\{x\\in X\\mid x_i \\leq s\\}$ and $X_R = X\\setminus X_L$\n",
    "- Stop if remaining data set $ \\leq 1$ or maximal height reached.\n",
    "- Store test $x_i\\leq s$ for inner nodes and $|X|$ for leaf nodes\n",
    "\n",
    "---"
   ]
  },
  {
   "cell_type": "markdown",
   "id": "16dabe54",
   "metadata": {
    "slideshow": {
     "slide_type": "subslide"
    }
   },
   "source": [
    "## Visualization\n",
    "<center>\n",
    "<img src=\"images/partition.png\" align=\"center\" width=\"400\">\n",
    "    Isolation Tree as Partition Diagram\n",
    "</center>"
   ]
  },
  {
   "cell_type": "markdown",
   "id": "39fc2c5b",
   "metadata": {
    "slideshow": {
     "slide_type": "subslide"
    }
   },
   "source": [
    "## Isolation Depth\n",
    "\n",
    "---\n",
    "**Input:** Observation $x$\n",
    "- ${\\ell} = $ length of path from root to leaf according to tests\n",
    "- ${n} = $ size of remaining data set in leaf node\n",
    "- ${c(n)} =$ expected length of a path in a BST with $n$ nodes $={O}(\\log n)$\n",
    "- ${h(x)} = \\ell + c(n)$\n",
    "\n",
    "---\n",
    "\n",
    "<table>\n",
    "    <tr>\n",
    "        <td style=\"background-color:#FFFFFF;\"><img src=\"images/blob.png\" width=\"300\"></td>\n",
    "        <td style=\"background-color:#FFFFFF;\"><img src=\"images/tree.png\"  width=\"300\"></td>\n",
    "    </tr>\n",
    "    <tr>\n",
    "        <td colspan=\"2\" style=\"background-color:#FFFFFF;\"><center>Isolation Depth of Outlier (red) and nominal (blue)</center></td>\n",
    "    </tr>\n",
    "</table>\n"
   ]
  },
  {
   "cell_type": "markdown",
   "id": "4659e094",
   "metadata": {
    "slideshow": {
     "slide_type": "subslide"
    }
   },
   "source": [
    "## Isolation Forest\n",
    "- Train $k$ isolation trees on subsamples of size $N$"
   ]
  },
  {
   "cell_type": "markdown",
   "id": "2423122d",
   "metadata": {
    "slideshow": {
     "slide_type": "subslide"
    }
   },
   "source": [
    "\n",
    "<table>\n",
    "    <tr>\n",
    "        <td style=\"background-color:#FFFFFF;\"><img src=\"images/inrad.png\" width=\"400\"></td>\n",
    "        <td style=\"background-color:#FFFFFF;\"><img src=\"images/outrad.png\"  width=\"400\"></td>\n",
    "    </tr>\n",
    "    <tr>\n",
    "        <td colspan=\"2\"><center>Isolation depth of nominal point (left) and outlier (right)</center></td>\n",
    "    </tr>\n",
    "</table>"
   ]
  },
  {
   "cell_type": "markdown",
   "id": "f00a372e",
   "metadata": {
    "slideshow": {
     "slide_type": "skip"
    }
   },
   "source": [
    "# Variants of Isolation Forest"
   ]
  },
  {
   "cell_type": "markdown",
   "id": "702f9985",
   "metadata": {
    "slideshow": {
     "slide_type": "skip"
    }
   },
   "source": [
    "## Variant: Random Robust Cut Forest\n",
    "**New Rule to Choose Split Test:**\n",
    "- $\\ell_i$: length of the $i$th component of the bounding box around current data set\n",
    "- Choose dimension $i$ with probability $\\frac{\\ell_i}{\\sum_j \\ell_j}$\n",
    "- More robust against \"noise dimensions\""
   ]
  },
  {
   "cell_type": "markdown",
   "id": "ef0a2568",
   "metadata": {
    "slideshow": {
     "slide_type": "skip"
    }
   },
   "source": [
    "<center>\n",
    "<img src=\"images/partition2.png\" align=\"center\" width=\"400\" caption=\"Comparisson IForest and RRCF\">\n",
    "</center>"
   ]
  },
  {
   "cell_type": "markdown",
   "id": "ce7f67a8",
   "metadata": {
    "slideshow": {
     "slide_type": "skip"
    }
   },
   "source": [
    "## Variant: Extended Isolation Forest\n",
    "**New split criterion:**\n",
    "- Uniformly choose a normal and an orthogonal hyperplane through the data.\n",
    "- Removes a bias that was empirically observed when plotting the outlier score of iForest on low dimensional data sets\n",
    "\n",
    "<center>\n",
    "<img src=\"images/extended.png\" align=\"center\" width=\"80%\">\n",
    "</center>"
   ]
  },
  {
   "cell_type": "markdown",
   "id": "f144c10d",
   "metadata": {
    "slideshow": {
     "slide_type": "subslide"
    }
   },
   "source": [
    "# Exercise: Network Security\n",
    "\n",
    "In the final exercise of today you will have to develop an anomaly detection system for network traffic.\n",
    "\n",
    "## Briefing\n",
    "A large e-commerce company __A__ is experiencing downtime due to attacks on their infrastructure.\n",
    "You were instructed to develop a system that can detect malicious connections to the infrastructure.\n",
    "It is planned that suspicious clients will be banned.\n",
    "\n",
    "Another data science team already prepared the connection data of the last year for you. They also separated a test set and manually identified and labeled attacks in that data.\n",
    "\n",
    "## The Data\n",
    "We will work on a version of the classic KDD99 data set.\n",
    "\n",
    "### Kddcup 99 Data Set\n",
    "----------------------------\n",
    "The KDD Cup '99 dataset was created by processing the tcp dump portions\n",
    "of the 1998 DARPA Intrusion Detection System (IDS) Evaluation dataset,\n",
    "created by MIT Lincoln Lab [1]. The artificial data (described on the `dataset's\n",
    "homepage <https://kdd.ics.uci.edu/databases/kddcup99/kddcup99.html>`_) was\n",
    "generated using a closed network and hand-injected attacks to produce a\n",
    "large number of different types of attack with normal activity in the\n",
    "background.\n",
    "\n",
    "    =========================   ====================================================\n",
    "    Samples total               976158\n",
    "    Dimensionality              41\n",
    "    Features                    string (str), discrete (int), continuous (float)\n",
    "    Targets                     str, 'normal.' or name of the anomaly type\n",
    "    Proportion of Anomalies     1%\n",
    "    =========================   ====================================================\n",
    "\n",
    "----------------------------------\n",
    "\n",
    "## Task\n",
    "You will have to develop the system on your own. In particular, you will have to\n",
    "- Explore the data.\n",
    "- Choose an algorithm.\n",
    "- Find a good detection threshold.\n",
    "- Evaluate and summarize your results.\n",
    "- Estimate how much __A__ could save through the use of your system."
   ]
  },
  {
   "cell_type": "code",
   "execution_count": null,
   "id": "91e31b17",
   "metadata": {
    "pycharm": {
     "name": "#%%\n"
    },
    "slideshow": {
     "slide_type": "skip"
    }
   },
   "outputs": [],
   "source": [
    "X_train,X_test,y_test = get_kdd_data()"
   ]
  },
  {
   "cell_type": "markdown",
   "id": "9a47f0c1",
   "metadata": {
    "slideshow": {
     "slide_type": "skip"
    }
   },
   "source": [
    "# Explore Data"
   ]
  },
  {
   "cell_type": "code",
   "execution_count": null,
   "id": "5044d551",
   "metadata": {
    "pycharm": {
     "name": "#%%\n"
    },
    "slideshow": {
     "slide_type": "skip"
    }
   },
   "outputs": [],
   "source": [
    "#\n",
    "# Add your exploration code\n",
    "#\n",
    "X_train = pd.DataFrame(X_train)\n",
    "X_test = pd.DataFrame(X_test)"
   ]
  },
  {
   "cell_type": "code",
   "execution_count": null,
   "id": "f2f4d539",
   "metadata": {
    "pycharm": {
     "name": "#%%\n"
    },
    "slideshow": {
     "slide_type": "skip"
    }
   },
   "outputs": [],
   "source": [
    "# get description\n",
    "X_train.describe()"
   ]
  },
  {
   "cell_type": "code",
   "execution_count": null,
   "id": "d1483fbf",
   "metadata": {
    "pycharm": {
     "name": "#%%\n"
    },
    "slideshow": {
     "slide_type": "skip"
    }
   },
   "outputs": [],
   "source": [
    "# get better description\n",
    "X_train.drop(columns=[1,2,3]).astype(float).describe()"
   ]
  },
  {
   "cell_type": "code",
   "execution_count": null,
   "id": "8ac2ddd4",
   "metadata": {
    "pycharm": {
     "name": "#%%\n"
    },
    "slideshow": {
     "slide_type": "skip"
    }
   },
   "outputs": [],
   "source": [
    "# Check for NaNs\n",
    "print(\"Number of NaNs: {}\".format(X_train.isna().sum().sum()))"
   ]
  },
  {
   "cell_type": "code",
   "execution_count": null,
   "id": "763c76dc",
   "metadata": {
    "pycharm": {
     "name": "#%%\n"
    },
    "slideshow": {
     "slide_type": "skip"
    }
   },
   "outputs": [],
   "source": [
    "#\n",
    "# Add your preperation code here\n",
    "#\n",
    "\n",
    "# Encode string features\n",
    "binarizer = LabelBinarizer()\n",
    "one_hots = None\n",
    "one_hots_test = None\n",
    "for i in [1, 2, 3]:\n",
    "    binarizer.fit(X_train[[i]].astype(str))\n",
    "    if one_hots is None:\n",
    "        one_hots = binarizer.transform(X_train[[i]].astype(str))\n",
    "        one_hots_test = binarizer.transform(X_test[[i]].astype(str))\n",
    "    else:\n",
    "        one_hots = np.concatenate([one_hots, binarizer.transform(X_train[[i]].astype(str))], axis=1)\n",
    "        one_hots_test = np.concatenate([one_hots_test, binarizer.transform(X_test[[i]].astype(str))], axis=1)\n",
    "\n",
    "X_train.drop(columns=[1,2,3], inplace=True)\n",
    "X_train_onehot = pd.DataFrame(np.concatenate([X_train.values, one_hots], axis=1))\n",
    "\n",
    "X_test.drop(columns=[1,2,3], inplace=True)\n",
    "X_test_onehot = pd.DataFrame(np.concatenate([X_test.values, one_hots_test], axis=1))"
   ]
  },
  {
   "cell_type": "code",
   "execution_count": null,
   "id": "1d363320",
   "metadata": {
    "pycharm": {
     "name": "#%%\n"
    },
    "slideshow": {
     "slide_type": "skip"
    }
   },
   "outputs": [],
   "source": [
    "# Encode y\n",
    "y_test_bin = np.where(y_test == b'normal.', 0, 1)\n"
   ]
  },
  {
   "cell_type": "code",
   "execution_count": null,
   "id": "ef0cf969",
   "metadata": {
    "pycharm": {
     "name": "#%%\n"
    },
    "slideshow": {
     "slide_type": "skip"
    }
   },
   "outputs": [],
   "source": [
    "# Remove suspicious data\n",
    "# This step is not strictly neccessary but can improve performance\n",
    "suspicious = X_train_onehot.apply(lambda col: (col - col.mean()).abs() > 4 * col.std() if col.std() > 1 else False)\n",
    "suspicious = suspicious.any(axis=1)# 4 sigma rule\n",
    "print('filtering {} suspicious data points'.format(suspicious.sum()))\n",
    "X_train_clean = X_train_onehot[~suspicious]"
   ]
  },
  {
   "cell_type": "markdown",
   "id": "201f1dfb",
   "metadata": {},
   "source": [
    "# Summary\n",
    "- Isolation Forest empirically shows very good performance to relatively high dimensions\n",
    "- It is relatively robust against contamination.\n",
    "- Usually little need for hyperparameter tuning\n",
    "\n",
    "## Implementations\n",
    "- Sklearn: [sklearn.ensemble.IsolationForest](https://scikit-learn.org/stable/modules/generated/sklearn.ensemble.IsolationForest.html)\n",
    "- Extended Isolation Forest: [variant](https://github.com/sahandha/eif)\n",
    "- Random Robust Cut Forest: [variant](https://github.com/kLabUM/rrcf)"
   ]
  },
  {
   "cell_type": "markdown",
   "id": "80805d83",
   "metadata": {
    "slideshow": {
     "slide_type": "skip"
    }
   },
   "source": [
    "# Choose Algorithm"
   ]
  },
  {
   "cell_type": "code",
   "execution_count": null,
   "id": "13d462c9",
   "metadata": {
    "pycharm": {
     "name": "#%%\n"
    },
    "slideshow": {
     "slide_type": "skip"
    }
   },
   "outputs": [],
   "source": [
    "# TODO: implement proper model selection\n",
    "iforest = IsolationForest()\n",
    "iforest.fit(X_train_clean)"
   ]
  },
  {
   "cell_type": "code",
   "execution_count": null,
   "id": "1877e13d",
   "metadata": {
    "pycharm": {
     "name": "#%%\n"
    },
    "slideshow": {
     "slide_type": "skip"
    }
   },
   "outputs": [],
   "source": [
    "# find best threshold\n",
    "X_test_onehot, X_val_onehot, y_test_bin, y_val_bin = train_test_split(X_test_onehot, y_test_bin, test_size=.5)\n",
    "y_score = -iforest.score_samples(X_val_onehot).reshape(-1)\n",
    "\n",
    "eval = evaluate(y_val_bin, y_score)\n",
    "prec, rec, thr = eval['PR']\n",
    "f1s = 2 * (prec * rec)/(prec + rec)\n",
    "threshold = thr[np.argmax(f1s)]"
   ]
  },
  {
   "cell_type": "markdown",
   "id": "7338159f",
   "metadata": {
    "slideshow": {
     "slide_type": "skip"
    }
   },
   "source": [
    "# Evaluate Solution"
   ]
  },
  {
   "cell_type": "code",
   "execution_count": null,
   "id": "920afcf1",
   "metadata": {
    "pycharm": {
     "name": "#%%\n"
    },
    "slideshow": {
     "slide_type": "skip"
    }
   },
   "outputs": [],
   "source": [
    "#\n",
    "# Insert evaluation code\n",
    "#\n",
    "y_score = -iforest.score_samples(X_test_onehot).reshape(-1)\n",
    "y_pred = np.where(y_score < threshold, 0, 1)\n",
    "\n",
    "print('Precision: {}'.format(metrics.precision_score(y_test_bin, y_pred)))\n",
    "print('Recall: {}'.format(metrics.recall_score(y_test_bin, y_pred)))\n",
    "print('F1: {}'.format(metrics.f1_score(y_test_bin, y_pred)))"
   ]
  },
  {
   "cell_type": "markdown",
   "id": "6287222a",
   "metadata": {
    "slideshow": {
     "slide_type": "slide"
    }
   },
   "source": [
    "# Anomaly Detection via Reconstruction Error\n",
    "**Idea:** Embed the data into low dimensional space and reconstruct it again.\n",
    "\t\t\tGood embedding of nominal data $\\Rightarrow$ high reconstruction error indicates anomaly.\n",
    "\n",
    "**Autoencoder:**\n",
    "- Parametric family of encoders: $f_\\phi: \\mathbb{R}^d \\to \\mathbb{R}^{\\text{low}}$\n",
    "- Parametric family of decoders: $g_\\theta: \\mathbb{R}^{\\text{low}} \\to \\mathbb{R}^{d}$\n",
    "- Reconstruction error of $(f_\\phi, g_\\theta)$ on $x$: $|x - g_\\theta(f_\\phi(x))|$\n",
    "- Given data set $D$, find $\\phi,\\theta$ that minimize $\\sum_{x\\in D} L(|x- g_\\theta(f_\\phi(x))|) $\n",
    "  for some loss function $L$.\n"
   ]
  },
  {
   "cell_type": "markdown",
   "id": "ebb5094e",
   "metadata": {
    "slideshow": {
     "slide_type": "subslide"
    }
   },
   "source": [
    "# Visualization\n",
    "<center>\n",
    "<img src=\"images/autoencoder.png\" align=\"center\" width=\"400\">\n",
    "    Autoencoder Schema\n",
    "</center>"
   ]
  },
  {
   "cell_type": "markdown",
   "id": "565a43e9",
   "metadata": {
    "slideshow": {
     "slide_type": "subslide"
    }
   },
   "source": [
    "## Neural Networks\n",
    "Neural networks are very well suited for finding low dimensional representations of data. Hence they are a popular choice the encoder and decoder.\n",
    "\n",
    "---\n",
    "**Artificial Neuron with $N$ inputs:** $y = \\sigma\\left(\\sum_i^N w_i X_i + b\\right)$\n",
    "\n",
    "- $\\sigma$: nonlinear activation-function (applied component wise).\n",
    "- $b$ bias\n",
    "---"
   ]
  },
  {
   "cell_type": "markdown",
   "id": "e658847c",
   "metadata": {
    "slideshow": {
     "slide_type": "subslide"
    }
   },
   "source": [
    "<table style=\"background-color:#FFFFFF;\">\n",
    "    <tr>\n",
    "        <td style=\"background-color:#FFFFFF;\"><img src=\"images/neuron.png\" width=\"200\"></td>\n",
    "        <td style=\"background-color:#FFFFFF;\"><img src=\"images/activations.png\"  width=\"200\"></td>\n",
    "    </tr>\n",
    "    <tr>\n",
    "        <td colspan=\"2\" style=\"background-color:#FFFFFF;\"><center>Isolation depth of nominal point and anomaly</center></td>\n",
    "    </tr>\n",
    "</table>"
   ]
  },
  {
   "cell_type": "markdown",
   "id": "09243719",
   "metadata": {
    "slideshow": {
     "slide_type": "subslide"
    }
   },
   "source": [
    "# Neural Networks\n",
    "\n",
    "Neural networks combine many artificial neurons into a complex network. These networks are usually organized in layers\n",
    "where the result of each layer is the input for the next layer. Some commonly used layers are:"
   ]
  },
  {
   "cell_type": "markdown",
   "id": "3376f048",
   "metadata": {
    "slideshow": {
     "slide_type": "subslide"
    }
   },
   "source": [
    "<center>\n",
    "<img src=\"images/nn_layers.png\" align=\"center\" width=\"600\">\n",
    "</center>"
   ]
  },
  {
   "cell_type": "markdown",
   "id": "d8794297",
   "metadata": {
    "slideshow": {
     "slide_type": "subslide"
    }
   },
   "source": [
    "## Variational Autoencoders\n",
    "An important extension of autoencoders that relates the idea to density estimation.\n",
    "More precisely, we define a generative model for our data using latent variables and combine the maximum likelihood\n",
    "estimation of the parameters with a simultaneous posterior estimation of the latents through amortized stochastic\n",
    "variational inference. We use a decoder network to transform the latent variables into the data distribution, and an\n",
    "encoder network to compute the posterior distribution of the latents given the data."
   ]
  },
  {
   "cell_type": "markdown",
   "id": "6b5efeac",
   "metadata": {
    "slideshow": {
     "slide_type": "subslide"
    }
   },
   "source": [
    "---\n",
    "**Definition:**\n",
    "The model uses an observed variable $X$ (the data) and a latent variable $Z$ (the defining features of $X$). We assume\n",
    "both $P(Z)$ and $P(X\\mid Z)$ to be normally distributed. More precisely\n",
    "\n",
    "- $P(Z) = \\mathcal{N}(0, I)$\n",
    "- $P(X\\mid Z) = \\mathcal{N}(\\mu_\\phi(Z), I)$\n",
    "\n",
    "where $\\mu_\\phi$ is a neural network parametrized with $\\phi$, respectively.\n",
    "We use variational inference to perform posterior inference on $Z$ given $X$. We assume that distribution $P(Z\\mid X)$\n",
    "be relative well approximated by a Gaussian and use the posterior approximation\n",
    "- $q(X\\mid Z) = \\mathcal{N}(\\mu_\\psi(X), \\sigma_\\psi(X))$\n",
    "\n",
    "$\\mu_\\psi$ and $\\sigma_\\psi$ are neural networks parameterized with $\\psi$\n",
    "\n",
    "---"
   ]
  },
  {
   "cell_type": "markdown",
   "id": "76d013d3",
   "metadata": {
    "slideshow": {
     "slide_type": "subslide"
    }
   },
   "source": [
    "<center>\n",
    "<img src=\"images/vae_schema.png\" align=\"center\" width=\"600\">\n",
    "</center>"
   ]
  },
  {
   "cell_type": "markdown",
   "id": "81661bf9",
   "metadata": {
    "slideshow": {
     "slide_type": "subslide"
    }
   },
   "source": [
    "Given a data set $D$ we minimize the (amortized) Kullback-Leibler divergence between our posterior approximation and the\n",
    "true posterior.\n",
    "\\begin{align*}\n",
    "  D_{KL}(q(Z\\mid X),P(Z\\mid X)) &= E_{x\\sim X, z\\sim q(Z\\mid x)}\\left[\\log\\left(\\frac{q(z \\mid x)}{p(z \\mid X)}\\right)\\right] \\\\\n",
    "    &= E_{x\\sim x, z\\sim q(Z\\mid X)}\\left[\\log\\left(\\frac{q(z \\mid x)}{\\frac{p(x \\mid z)p(z)}{p(x)}}\\right)\\right] \\\\\n",
    "    &= E_{x\\sim x, z\\sim q(Z\\mid x)}\\left[\\log\\left(\\frac{q(z \\mid x)}{p(x \\mid z)p(z)}\\right) + \\log(p(x))\\right] \\\\\n",
    "    &= E_{x\\sim x, z\\sim q(Z\\mid x)}\\left[\\log\\left(\\frac{q(z \\mid x)}{p(x \\mid z)p(z)}\\right)\\right] + E_{x\\sim X}[\\log(p(x))] \\\\\n",
    "    &= E_{x\\sim x, z\\sim q(Z\\mid x)}\\left[\\log\\left(\\frac{q(z \\mid x)}{p(x \\mid z)p(z)}\\right)\\right] + C\n",
    "\\end{align*}\n",
    "\n",
    "We use that our data $D$ is drawn from $X$ and that can sample from\n",
    "$q(Z \\mid x) = \\mathcal{N}(\\mu_\\psi(x), \\sigma_\\psi(x))$ to perform stochastic gradient descent to minimize\n",
    "$D_{KL}(q(Z\\mid X),P(Z\\mid X))$ with respect to $\\phi$ and $\\psi$.\n"
   ]
  },
  {
   "cell_type": "markdown",
   "id": "7131628c",
   "metadata": {
    "slideshow": {
     "slide_type": "subslide"
    }
   },
   "source": [
    "# Exercise"
   ]
  },
  {
   "cell_type": "markdown",
   "id": "05f8c5a6",
   "metadata": {},
   "source": [
    "# The MNIST Data Set\n",
    "MNIST is one of the most iconic data sets in the history of machine learning.\n",
    "It contains 70000 samples of $28\\times 28$ grayscale images of handwritten digits.\n",
    "Because of its moderate complexity and good visualizability it is well suited to study the behavior of machine learning\n",
    "algorithms in higher dimensional spaces.\n",
    "\n",
    "While originally created for classification (optical character recognition), we can build an anomaly detection data set\n",
    "by corrupting some of the images.\n"
   ]
  },
  {
   "cell_type": "markdown",
   "id": "28979a57",
   "metadata": {
    "slideshow": {
     "slide_type": "skip"
    }
   },
   "source": [
    "# Pre-processing\n",
    "We first need to obtain the MNIST data set and prepare an anomaly detection set from it.\n",
    "Note that the data set is n row vector format.\n",
    "Therefore, we work with $28\\times 28 = 784$ dimensional data points."
   ]
  },
  {
   "cell_type": "markdown",
   "id": "d2508225",
   "metadata": {
    "slideshow": {
     "slide_type": "skip"
    }
   },
   "source": [
    "## Load MNIST Data Set"
   ]
  },
  {
   "cell_type": "code",
   "execution_count": null,
   "id": "a95d8450",
   "metadata": {
    "pycharm": {
     "name": "#%%\n"
    },
    "slideshow": {
     "slide_type": "skip"
    }
   },
   "outputs": [],
   "source": [
    "mnist = fetch_openml('mnist_784', version=1)\n",
    "\n",
    "data = mnist.data\n",
    "print('data.shape: {}'.format(data.shape))\n",
    "target = mnist.target.astype(int)"
   ]
  },
  {
   "cell_type": "markdown",
   "id": "f6b6bde9",
   "metadata": {
    "slideshow": {
     "slide_type": "skip"
    }
   },
   "source": [
    "## Build contaminated Data Sets\n",
    "We prepared a function that does the job for us.\n",
    "It corrupts a prescribed portion of the data by introducing a rotation, noise or a blackout of some part of the image.\n",
    "\n",
    "First, we need to transform the data into image format."
   ]
  },
  {
   "cell_type": "code",
   "execution_count": null,
   "id": "954d3762",
   "metadata": {
    "pycharm": {
     "name": "#%%\n"
    },
    "slideshow": {
     "slide_type": "skip"
    }
   },
   "outputs": [],
   "source": [
    "X = data.values.reshape(-1, 28, 28, 1)/255"
   ]
  },
  {
   "cell_type": "markdown",
   "id": "f4d6c089",
   "metadata": {
    "slideshow": {
     "slide_type": "skip"
    }
   },
   "source": [
    "### Train/Test-Split\n",
    "We will only corrupt the test set, hence we will perform the train-test split beforehand.\n",
    "We separate a relatively small test set so that we can use as much as possible from the data to obtain high quality\n",
    "representations."
   ]
  },
  {
   "cell_type": "code",
   "execution_count": null,
   "id": "a0fb9c57",
   "metadata": {
    "pycharm": {
     "name": "#%%\n"
    },
    "slideshow": {
     "slide_type": "skip"
    }
   },
   "outputs": [],
   "source": [
    "test_size = .1\n",
    "X_train, X_test, target_train, target_test = train_test_split(X, target, test_size=test_size)"
   ]
  },
  {
   "cell_type": "code",
   "execution_count": null,
   "id": "d6ad3d43",
   "metadata": {
    "pycharm": {
     "name": "#%%\n"
    },
    "slideshow": {
     "slide_type": "skip"
    }
   },
   "outputs": [],
   "source": [
    "X_test, y_test = build_contaminated_minst(X_test)\n",
    "\n",
    "# Visualize contamination\n",
    "anomalies = X_test[y_test != 0]\n",
    "selection = np.random.choice(len(anomalies), 25)\n",
    "\n",
    "fig, axes = plt.subplots(nrows=5, ncols=5, figsize=(5, 5))\n",
    "for img, ax in zip(anomalies[selection], axes.flatten()):\n",
    "    ax.imshow(img, 'gray')\n",
    "    ax.axis('off')\n",
    "plt.show()"
   ]
  },
  {
   "cell_type": "markdown",
   "id": "3c459a8a",
   "metadata": {
    "slideshow": {
     "slide_type": "skip"
    }
   },
   "source": [
    "# Autoencoder\n",
    "Let us finally train an autoencoder model. We replicate the model given in the\n",
    "[Keras documentation](https://keras.io/examples/generative/vae/) and apply it in a synthetic outlier detection scenario\n",
    "based on MNIST.\n",
    "\n",
    "in the vae package we provide the implementation of the VAE. Please take a look into the source code to see how\n",
    "the minimization of the KL divergence is implemented."
   ]
  },
  {
   "cell_type": "markdown",
   "id": "c1af1c41",
   "metadata": {
    "slideshow": {
     "slide_type": "skip"
    }
   },
   "source": [
    "## Create Model"
   ]
  },
  {
   "cell_type": "code",
   "execution_count": null,
   "id": "c90996a0",
   "metadata": {
    "pycharm": {
     "name": "#%%\n"
    },
    "slideshow": {
     "slide_type": "skip"
    }
   },
   "outputs": [],
   "source": [
    "latent_dim = 3\n",
    "vae = VAE(decoder=build_decoder_mnist(latent_dim=latent_dim), encoder=build_encoder_minst(latent_dim=latent_dim))"
   ]
  },
  {
   "cell_type": "code",
   "execution_count": null,
   "id": "efb89bdd",
   "metadata": {
    "pycharm": {
     "name": "#%%\n"
    },
    "slideshow": {
     "slide_type": "skip"
    }
   },
   "outputs": [],
   "source": [
    "## Inspect model architecture\n",
    "vae.encoder.summary()\n"
   ]
  },
  {
   "cell_type": "code",
   "execution_count": null,
   "id": "68b219e9",
   "metadata": {
    "pycharm": {
     "name": "#%%\n"
    },
    "slideshow": {
     "slide_type": "skip"
    }
   },
   "outputs": [],
   "source": [
    "## Inspect model architecture\n",
    "vae.decoder.summary()\n"
   ]
  },
  {
   "cell_type": "code",
   "execution_count": null,
   "id": "01b43aff",
   "metadata": {
    "pycharm": {
     "name": "#%%\n"
    },
    "slideshow": {
     "slide_type": "skip"
    }
   },
   "outputs": [],
   "source": [
    "# train model\n",
    "vae.compile(optimizer=keras.optimizers.Adam(learning_rate=.001))\n",
    "history = vae.fit(X_train, epochs=30, batch_size=128)"
   ]
  },
  {
   "cell_type": "markdown",
   "id": "e1519875",
   "metadata": {
    "slideshow": {
     "slide_type": "skip"
    }
   },
   "source": [
    "## Inspect Result"
   ]
  },
  {
   "cell_type": "code",
   "execution_count": null,
   "id": "80ab41fd",
   "metadata": {
    "pycharm": {
     "name": "#%%\n"
    },
    "slideshow": {
     "slide_type": "skip"
    }
   },
   "outputs": [],
   "source": [
    "import matplotlib.pyplot as plt\n",
    "\n",
    "\n",
    "def plot_latent_space(vae, n=10, figsize=10):\n",
    "    for perm in [[0, 1, 2], [1, 2, 0], [2, 1, 0]]:\n",
    "        # display a n*n 2D manifold of digits\n",
    "        digit_size = 28\n",
    "        scale = 1.0\n",
    "        figure = np.zeros((digit_size * n, digit_size * n))\n",
    "        # linearly spaced coordinates corresponding to the 2D plot\n",
    "        # of digit classes in the latent space\n",
    "        grid_x = np.linspace(-scale, scale, n)\n",
    "        grid_y = np.linspace(-scale, scale, n)[::-1]\n",
    "\n",
    "        for i, yi in enumerate(grid_y):\n",
    "            for j, xi in enumerate(grid_x):\n",
    "                z_sample = np.array([[xi, yi, 0]])\n",
    "                z_sample[0] = z_sample[0][perm]\n",
    "                x_decoded = vae.decoder.predict(z_sample)\n",
    "                digit = x_decoded[0].reshape(digit_size, digit_size)\n",
    "                figure[\n",
    "                    i * digit_size : (i + 1) * digit_size,\n",
    "                    j * digit_size : (j + 1) * digit_size,\n",
    "                ] = digit\n",
    "\n",
    "        plt.figure(figsize=(figsize, figsize))\n",
    "        start_range = digit_size // 2\n",
    "        end_range = n * digit_size + start_range\n",
    "        pixel_range = np.arange(start_range, end_range, digit_size)\n",
    "        sample_range_x = np.round(grid_x, 1)\n",
    "        sample_range_y = np.round(grid_y, 1)\n",
    "        plt.xticks(pixel_range, sample_range_x)\n",
    "        plt.yticks(pixel_range, sample_range_y)\n",
    "        plt.xlabel(\"z[{}]\".format(perm[0]))\n",
    "        plt.ylabel(\"z[{}]\".format(perm[1]))\n",
    "        plt.gca().set_title('z[{}] = 0'.format(perm[2]))\n",
    "        plt.imshow(figure, cmap=\"Greys_r\")\n",
    "        plt.show()"
   ]
  },
  {
   "cell_type": "code",
   "execution_count": null,
   "id": "bdb0f67d",
   "metadata": {
    "pycharm": {
     "name": "#%%\n"
    },
    "scrolled": false,
    "slideshow": {
     "slide_type": "skip"
    }
   },
   "outputs": [],
   "source": [
    "plot_latent_space(vae)"
   ]
  },
  {
   "cell_type": "code",
   "execution_count": null,
   "id": "0d6a5b6f",
   "metadata": {
    "pycharm": {
     "name": "#%%\n"
    },
    "slideshow": {
     "slide_type": "skip"
    }
   },
   "outputs": [],
   "source": [
    "# Principal components\n",
    "pca = PCA()\n",
    "latents = vae.encoder.predict(X_train)[2]\n",
    "pca.fit(latents)\n",
    "\n",
    "kwargs = {'x_{}'.format(i): (-1., 1.) for i in range(latent_dim)}\n",
    "\n",
    "\n",
    "@widgets.interact(**kwargs)\n",
    "def explore_latent_space(**kwargs):\n",
    "    center_img = pca.transform(np.zeros([1,latent_dim]))\n",
    "\n",
    "    latent_rep_pca =  center_img + np.array([[kwargs[key] for key in kwargs]])\n",
    "    latent_rep = pca.inverse_transform(latent_rep_pca)\n",
    "    img = vae.decoder(latent_rep).numpy().reshape(28, 28)\n",
    "\n",
    "    fig, ax = plt.subplots()\n",
    "    ax.axis('off')\n",
    "    ax.axis('off')\n",
    "\n",
    "    ax.imshow(img,cmap='gray', vmin=0, vmax=1)\n",
    "    plt.show()"
   ]
  },
  {
   "cell_type": "code",
   "execution_count": null,
   "id": "6f9fb82f",
   "metadata": {
    "pycharm": {
     "name": "#%%\n"
    },
    "slideshow": {
     "slide_type": "skip"
    }
   },
   "outputs": [],
   "source": [
    "latents = vae.encoder.predict(X_train)[2]\n",
    "scatter = px.scatter_3d(x=latents[:, 0], y=latents[:, 1], z=latents[:, 2], color=target_train)\n",
    "\n",
    "scatter.show()"
   ]
  },
  {
   "cell_type": "code",
   "execution_count": null,
   "id": "ea370a83",
   "metadata": {
    "pycharm": {
     "name": "#%%\n"
    },
    "slideshow": {
     "slide_type": "skip"
    }
   },
   "outputs": [],
   "source": [
    "latents = vae.encoder.predict(X_test)[2]\n",
    "scatter = px.scatter_3d(x=latents[:, 0], y=latents[:, 1], z=latents[:, 2], color=y_test)\n",
    "\n",
    "scatter.show()"
   ]
  },
  {
   "cell_type": "code",
   "execution_count": null,
   "id": "dee0a98e",
   "metadata": {
    "pycharm": {
     "name": "#%%\n"
    },
    "slideshow": {
     "slide_type": "skip"
    }
   },
   "outputs": [],
   "source": [
    "X_test, X_val, y_test, y_val = train_test_split(X_test, y_test)\n"
   ]
  },
  {
   "cell_type": "code",
   "execution_count": null,
   "id": "65c957f8",
   "metadata": {
    "pycharm": {
     "name": "#%%\n"
    },
    "slideshow": {
     "slide_type": "skip"
    }
   },
   "outputs": [],
   "source": [
    "n_samples = 10\n",
    "\n",
    "s = np.random.choice(range(len(X_val)), n_samples)\n",
    "s = X_val[s]\n",
    "#s = [X_train_img[i] for i in s]\n",
    "\n",
    "fig, axes = plt.subplots(nrows=2, ncols=n_samples, figsize=(10, 2))\n",
    "for img, ax_row in zip(s, axes.T):\n",
    "    x = vae.decoder.predict(vae.encoder.predict(img.reshape(1, 28, 28, 1))[2]).reshape(28, 28)\n",
    "    diff = x - img.reshape(28, 28)\n",
    "    error = (diff * diff).sum()\n",
    "    ax_row[0].axis('off')\n",
    "    ax_row[1].axis('off')\n",
    "    ax_row[0].imshow(img,cmap='gray', vmin=0, vmax=1)\n",
    "    ax_row[1].imshow(x, cmap='gray', vmin=0, vmax=1)\n",
    "    ax_row[1].set_title('E={:.1f}'.format(error))\n",
    "\n",
    "plt.tight_layout()\n",
    "plt.show()"
   ]
  },
  {
   "cell_type": "code",
   "execution_count": null,
   "id": "350edb6c",
   "metadata": {
    "pycharm": {
     "name": "#%%\n"
    },
    "slideshow": {
     "slide_type": "skip"
    }
   },
   "outputs": [],
   "source": [
    "from sklearn import metrics\n",
    "y_test_bin = y_test.copy()\n",
    "y_test_bin[y_test != 0] = 1\n",
    "y_val_bin = y_val.copy()\n",
    "y_val_bin[y_val != 0] = 1\n",
    "# Evaluate\n",
    "reconstruction = vae.decoder.predict(vae.encoder(X_val)[2])\n",
    "rerrors = (reconstruction - X_val).reshape(-1, 28*28)\n",
    "rerrors = (rerrors * rerrors).sum(axis=1)\n",
    "eval = evaluate(y_val_bin.astype(int), rerrors.astype(float))\n",
    "pr, rec, thr = eval['PR']\n",
    "f1s = (2 * ((pr * rec)[:-1]/(pr + rec)[:-1]))\n",
    "threshold = thr[np.argmax(f1s)]\n",
    "print('Optimal threshold: {}'.format(threshold))\n",
    "\n",
    "reconstruction = vae.decoder.predict(vae.encoder(X_test)[2])\n",
    "reconstruction_error = (reconstruction - X_test).reshape(-1, 28*28)\n",
    "reconstruction_error = (reconstruction_error * reconstruction_error).sum(axis=1)\n",
    "\n",
    "\n",
    "classification = (reconstruction_error > threshold).astype(int)\n",
    "\n",
    "print('Precision: {}'.format(metrics.precision_score(y_test_bin, classification)))\n",
    "print('Recall: {}'.format(metrics.recall_score(y_test_bin, classification)))\n",
    "print('F1: {}'.format(metrics.f1_score(y_test_bin, classification)))\n",
    "\n",
    "metrics.confusion_matrix(y_test_bin, classification)\n"
   ]
  },
  {
   "cell_type": "markdown",
   "id": "c8c5568d",
   "metadata": {
    "slideshow": {
     "slide_type": "skip"
    }
   },
   "source": [
    "## Sort Data by Reconstruction Error"
   ]
  },
  {
   "cell_type": "code",
   "execution_count": null,
   "id": "9b304ec8",
   "metadata": {
    "pycharm": {
     "name": "#%%\n"
    },
    "slideshow": {
     "slide_type": "skip"
    }
   },
   "outputs": [],
   "source": [
    "combined = list(zip(X_test, reconstruction_error))\n",
    "combined.sort(key = lambda x: x[1])\n"
   ]
  },
  {
   "cell_type": "markdown",
   "id": "555fd7f3",
   "metadata": {
    "slideshow": {
     "slide_type": "skip"
    }
   },
   "source": [
    "## Show Top Autoencoder Outliers"
   ]
  },
  {
   "cell_type": "code",
   "execution_count": null,
   "id": "d51d7a5c",
   "metadata": {
    "pycharm": {
     "name": "#%%\n"
    },
    "slideshow": {
     "slide_type": "skip"
    }
   },
   "outputs": [],
   "source": [
    "n_rows = 10\n",
    "n_cols = 10\n",
    "n_samples = n_rows*n_cols\n",
    "\n",
    "samples = [c[0] for c in combined[-n_samples:]]\n",
    "\n",
    "fig, axes = plt.subplots(nrows=n_rows, ncols=n_cols, figsize=(2*n_cols, 2*n_rows))\n",
    "for img, ax in zip(samples, axes.reshape(-1)):\n",
    "    ax.axis('off')\n",
    "    ax.imshow(img.reshape((28,28)), cmap='gray', vmin=0, vmax=1)\n",
    "\n",
    "plt.show()\n"
   ]
  },
  {
   "cell_type": "markdown",
   "id": "85cd3f88",
   "metadata": {},
   "source": [
    "# Summary\n",
    "- Autoencoder are the most prominent reconstruction error based anomaly detection method.\n",
    "- Can provide high quality results on high dimensional data.\n",
    "- Architecture is highly adaptable to the data (fully connected, CNN, attention,...).\n",
    "- Sensitive to contamination.\n",
    "- Variational autoencoder are an important variant the improves the interpretability of the latent space.\n",
    "\n",
    "## Implementations\n",
    "- Keras: see vae.py or [here](https://keras.io/examples/generative/vae/)\n",
    "- Pytorch: [example implementation](https://colab.research.google.com/github/smartgeometry-ucl/dl4g/blob/master/variational_autoencoder.ipynb)\n",
    "- Pyro (pytorch based probabilistic programming language): [example implementation](https://pyro.ai/examples/vae.html)"
   ]
  },
  {
   "cell_type": "markdown",
   "id": "b1dd207a",
   "metadata": {
    "slideshow": {
     "slide_type": "slide"
    }
   },
   "source": [
    "<img src=\"aai_presentation_last_slide.svg\" alt=\"Snow\" style=\"width:100%;\">"
   ]
  }
 ],
 "metadata": {
  "celltoolbar": "Slideshow",
  "kernelspec": {
   "display_name": "Python 3",
   "language": "python",
   "name": "python3"
  },
  "language_info": {
   "codemirror_mode": {
    "name": "ipython",
    "version": 3
   },
   "file_extension": ".py",
   "mimetype": "text/x-python",
   "name": "python",
   "nbconvert_exporter": "python",
   "pygments_lexer": "ipython3",
   "version": "3.9.4"
  }
 },
 "nbformat": 4,
 "nbformat_minor": 5
}
